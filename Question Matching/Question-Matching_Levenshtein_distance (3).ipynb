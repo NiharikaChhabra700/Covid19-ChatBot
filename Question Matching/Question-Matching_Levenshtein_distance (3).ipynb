{
 "cells": [
  {
   "cell_type": "code",
   "execution_count": 7,
   "metadata": {},
   "outputs": [],
   "source": [
    "import pandas as pd\n",
    "import numpy as np\n",
    "import nltk\n",
    "import sklearn"
   ]
  },
  {
   "cell_type": "code",
   "execution_count": 8,
   "metadata": {},
   "outputs": [
    {
     "data": {
      "text/html": [
       "<div>\n",
       "<style scoped>\n",
       "    .dataframe tbody tr th:only-of-type {\n",
       "        vertical-align: middle;\n",
       "    }\n",
       "\n",
       "    .dataframe tbody tr th {\n",
       "        vertical-align: top;\n",
       "    }\n",
       "\n",
       "    .dataframe thead th {\n",
       "        text-align: right;\n",
       "    }\n",
       "</style>\n",
       "<table border=\"1\" class=\"dataframe\">\n",
       "  <thead>\n",
       "    <tr style=\"text-align: right;\">\n",
       "      <th></th>\n",
       "      <th>0</th>\n",
       "      <th>1</th>\n",
       "    </tr>\n",
       "  </thead>\n",
       "  <tbody>\n",
       "    <tr>\n",
       "      <th>0</th>\n",
       "      <td>Text</td>\n",
       "      <td>Boolean Questions</td>\n",
       "    </tr>\n",
       "    <tr>\n",
       "      <th>2</th>\n",
       "      <td>RT @ProSyn: Reaching enough people to stop #CO...</td>\n",
       "      <td>['Is there such a thing as covid19?', 'Is ther...</td>\n",
       "    </tr>\n",
       "    <tr>\n",
       "      <th>4</th>\n",
       "      <td>I have tested positive for #COVID19 and here’s...</td>\n",
       "      <td>['Is there a vaccine for covid19?', 'Is there ...</td>\n",
       "    </tr>\n",
       "    <tr>\n",
       "      <th>6</th>\n",
       "      <td>62/ The horizontal red line represents median ...</td>\n",
       "      <td>['Is the horizontal red line the median neutra...</td>\n",
       "    </tr>\n",
       "    <tr>\n",
       "      <th>8</th>\n",
       "      <td>#Remedisivir DOES NOT save lives, it is not an...</td>\n",
       "      <td>['Is remedisivir a life saving drug?', 'Is rem...</td>\n",
       "    </tr>\n",
       "  </tbody>\n",
       "</table>\n",
       "</div>"
      ],
      "text/plain": [
       "                                                   0  \\\n",
       "0                                               Text   \n",
       "2  RT @ProSyn: Reaching enough people to stop #CO...   \n",
       "4  I have tested positive for #COVID19 and here’s...   \n",
       "6  62/ The horizontal red line represents median ...   \n",
       "8  #Remedisivir DOES NOT save lives, it is not an...   \n",
       "\n",
       "                                                   1  \n",
       "0                                  Boolean Questions  \n",
       "2  ['Is there such a thing as covid19?', 'Is ther...  \n",
       "4  ['Is there a vaccine for covid19?', 'Is there ...  \n",
       "6  ['Is the horizontal red line the median neutra...  \n",
       "8  ['Is remedisivir a life saving drug?', 'Is rem...  "
      ]
     },
     "execution_count": 8,
     "metadata": {},
     "output_type": "execute_result"
    }
   ],
   "source": [
    "import pandas as pd\n",
    "import numpy as np\n",
    "\n",
    "df = pd.read_csv(\"output1 (1).csv\" ,header =None)\n",
    "df = df.dropna()\n",
    "df.head()"
   ]
  },
  {
   "cell_type": "code",
   "execution_count": 9,
   "metadata": {},
   "outputs": [],
   "source": [
    "df.columns=[\"text\", \"questions\"]"
   ]
  },
  {
   "cell_type": "code",
   "execution_count": 10,
   "metadata": {
    "scrolled": true
   },
   "outputs": [
    {
     "data": {
      "text/html": [
       "<div>\n",
       "<style scoped>\n",
       "    .dataframe tbody tr th:only-of-type {\n",
       "        vertical-align: middle;\n",
       "    }\n",
       "\n",
       "    .dataframe tbody tr th {\n",
       "        vertical-align: top;\n",
       "    }\n",
       "\n",
       "    .dataframe thead th {\n",
       "        text-align: right;\n",
       "    }\n",
       "</style>\n",
       "<table border=\"1\" class=\"dataframe\">\n",
       "  <thead>\n",
       "    <tr style=\"text-align: right;\">\n",
       "      <th></th>\n",
       "      <th>text</th>\n",
       "      <th>questions</th>\n",
       "    </tr>\n",
       "  </thead>\n",
       "  <tbody>\n",
       "    <tr>\n",
       "      <th>0</th>\n",
       "      <td>Text</td>\n",
       "      <td>Boolean Questions</td>\n",
       "    </tr>\n",
       "    <tr>\n",
       "      <th>2</th>\n",
       "      <td>RT @ProSyn: Reaching enough people to stop #CO...</td>\n",
       "      <td>['Is there such a thing as covid19?', 'Is ther...</td>\n",
       "    </tr>\n",
       "    <tr>\n",
       "      <th>4</th>\n",
       "      <td>I have tested positive for #COVID19 and here’s...</td>\n",
       "      <td>['Is there a vaccine for covid19?', 'Is there ...</td>\n",
       "    </tr>\n",
       "    <tr>\n",
       "      <th>6</th>\n",
       "      <td>62/ The horizontal red line represents median ...</td>\n",
       "      <td>['Is the horizontal red line the median neutra...</td>\n",
       "    </tr>\n",
       "    <tr>\n",
       "      <th>8</th>\n",
       "      <td>#Remedisivir DOES NOT save lives, it is not an...</td>\n",
       "      <td>['Is remedisivir a life saving drug?', 'Is rem...</td>\n",
       "    </tr>\n",
       "    <tr>\n",
       "      <th>...</th>\n",
       "      <td>...</td>\n",
       "      <td>...</td>\n",
       "    </tr>\n",
       "    <tr>\n",
       "      <th>1888</th>\n",
       "      <td>#COVID19 ICU in #Ontario 🏥    ICU total: 151  ...</td>\n",
       "      <td>['Is there a ventilated icu in ontario?', 'Is ...</td>\n",
       "    </tr>\n",
       "    <tr>\n",
       "      <th>1890</th>\n",
       "      <td>RT @AlexMMTri: Very excited to have @KPNorthwe...</td>\n",
       "      <td>['Is there a difference between true and false...</td>\n",
       "    </tr>\n",
       "    <tr>\n",
       "      <th>1892</th>\n",
       "      <td>No region, country or individual should face m...</td>\n",
       "      <td>['Is there a difference between true and false...</td>\n",
       "    </tr>\n",
       "    <tr>\n",
       "      <th>1894</th>\n",
       "      <td>Did any one here get vaccinated with COVAXIN a...</td>\n",
       "      <td>['Has anyone ever been vaccinated with covaxin...</td>\n",
       "    </tr>\n",
       "    <tr>\n",
       "      <th>1896</th>\n",
       "      <td>Hospitalized guy refuses to get vaccinated—ask...</td>\n",
       "      <td>['Does a smoker have to get vaccinated?', 'Doe...</td>\n",
       "    </tr>\n",
       "  </tbody>\n",
       "</table>\n",
       "<p>948 rows × 2 columns</p>\n",
       "</div>"
      ],
      "text/plain": [
       "                                                   text  \\\n",
       "0                                                  Text   \n",
       "2     RT @ProSyn: Reaching enough people to stop #CO...   \n",
       "4     I have tested positive for #COVID19 and here’s...   \n",
       "6     62/ The horizontal red line represents median ...   \n",
       "8     #Remedisivir DOES NOT save lives, it is not an...   \n",
       "...                                                 ...   \n",
       "1888  #COVID19 ICU in #Ontario 🏥    ICU total: 151  ...   \n",
       "1890  RT @AlexMMTri: Very excited to have @KPNorthwe...   \n",
       "1892  No region, country or individual should face m...   \n",
       "1894  Did any one here get vaccinated with COVAXIN a...   \n",
       "1896  Hospitalized guy refuses to get vaccinated—ask...   \n",
       "\n",
       "                                              questions  \n",
       "0                                     Boolean Questions  \n",
       "2     ['Is there such a thing as covid19?', 'Is ther...  \n",
       "4     ['Is there a vaccine for covid19?', 'Is there ...  \n",
       "6     ['Is the horizontal red line the median neutra...  \n",
       "8     ['Is remedisivir a life saving drug?', 'Is rem...  \n",
       "...                                                 ...  \n",
       "1888  ['Is there a ventilated icu in ontario?', 'Is ...  \n",
       "1890  ['Is there a difference between true and false...  \n",
       "1892  ['Is there a difference between true and false...  \n",
       "1894  ['Has anyone ever been vaccinated with covaxin...  \n",
       "1896  ['Does a smoker have to get vaccinated?', 'Doe...  \n",
       "\n",
       "[948 rows x 2 columns]"
      ]
     },
     "execution_count": 10,
     "metadata": {},
     "output_type": "execute_result"
    }
   ],
   "source": [
    "df"
   ]
  },
  {
   "cell_type": "code",
   "execution_count": 11,
   "metadata": {
    "scrolled": false
   },
   "outputs": [
    {
     "data": {
      "text/html": [
       "<div>\n",
       "<style scoped>\n",
       "    .dataframe tbody tr th:only-of-type {\n",
       "        vertical-align: middle;\n",
       "    }\n",
       "\n",
       "    .dataframe tbody tr th {\n",
       "        vertical-align: top;\n",
       "    }\n",
       "\n",
       "    .dataframe thead th {\n",
       "        text-align: right;\n",
       "    }\n",
       "</style>\n",
       "<table border=\"1\" class=\"dataframe\">\n",
       "  <thead>\n",
       "    <tr style=\"text-align: right;\">\n",
       "      <th></th>\n",
       "      <th>text</th>\n",
       "      <th>questions</th>\n",
       "    </tr>\n",
       "  </thead>\n",
       "  <tbody>\n",
       "    <tr>\n",
       "      <th>2</th>\n",
       "      <td>RT @ProSyn: Reaching enough people to stop #CO...</td>\n",
       "      <td>['Is there such a thing as covid19?', 'Is ther...</td>\n",
       "    </tr>\n",
       "    <tr>\n",
       "      <th>4</th>\n",
       "      <td>I have tested positive for #COVID19 and here’s...</td>\n",
       "      <td>['Is there a vaccine for covid19?', 'Is there ...</td>\n",
       "    </tr>\n",
       "    <tr>\n",
       "      <th>6</th>\n",
       "      <td>62/ The horizontal red line represents median ...</td>\n",
       "      <td>['Is the horizontal red line the median neutra...</td>\n",
       "    </tr>\n",
       "    <tr>\n",
       "      <th>8</th>\n",
       "      <td>#Remedisivir DOES NOT save lives, it is not an...</td>\n",
       "      <td>['Is remedisivir a life saving drug?', 'Is rem...</td>\n",
       "    </tr>\n",
       "    <tr>\n",
       "      <th>10</th>\n",
       "      <td>RT @Hoybraten: EU at it’s worst: Most COVAX Va...</td>\n",
       "      <td>['Is there a green pass for covax vaccine?', '...</td>\n",
       "    </tr>\n",
       "    <tr>\n",
       "      <th>...</th>\n",
       "      <td>...</td>\n",
       "      <td>...</td>\n",
       "    </tr>\n",
       "    <tr>\n",
       "      <th>1888</th>\n",
       "      <td>#COVID19 ICU in #Ontario 🏥    ICU total: 151  ...</td>\n",
       "      <td>['Is there a ventilated icu in ontario?', 'Is ...</td>\n",
       "    </tr>\n",
       "    <tr>\n",
       "      <th>1890</th>\n",
       "      <td>RT @AlexMMTri: Very excited to have @KPNorthwe...</td>\n",
       "      <td>['Is there a difference between true and false...</td>\n",
       "    </tr>\n",
       "    <tr>\n",
       "      <th>1892</th>\n",
       "      <td>No region, country or individual should face m...</td>\n",
       "      <td>['Is there a difference between true and false...</td>\n",
       "    </tr>\n",
       "    <tr>\n",
       "      <th>1894</th>\n",
       "      <td>Did any one here get vaccinated with COVAXIN a...</td>\n",
       "      <td>['Has anyone ever been vaccinated with covaxin...</td>\n",
       "    </tr>\n",
       "    <tr>\n",
       "      <th>1896</th>\n",
       "      <td>Hospitalized guy refuses to get vaccinated—ask...</td>\n",
       "      <td>['Does a smoker have to get vaccinated?', 'Doe...</td>\n",
       "    </tr>\n",
       "  </tbody>\n",
       "</table>\n",
       "<p>947 rows × 2 columns</p>\n",
       "</div>"
      ],
      "text/plain": [
       "                                                   text  \\\n",
       "2     RT @ProSyn: Reaching enough people to stop #CO...   \n",
       "4     I have tested positive for #COVID19 and here’s...   \n",
       "6     62/ The horizontal red line represents median ...   \n",
       "8     #Remedisivir DOES NOT save lives, it is not an...   \n",
       "10    RT @Hoybraten: EU at it’s worst: Most COVAX Va...   \n",
       "...                                                 ...   \n",
       "1888  #COVID19 ICU in #Ontario 🏥    ICU total: 151  ...   \n",
       "1890  RT @AlexMMTri: Very excited to have @KPNorthwe...   \n",
       "1892  No region, country or individual should face m...   \n",
       "1894  Did any one here get vaccinated with COVAXIN a...   \n",
       "1896  Hospitalized guy refuses to get vaccinated—ask...   \n",
       "\n",
       "                                              questions  \n",
       "2     ['Is there such a thing as covid19?', 'Is ther...  \n",
       "4     ['Is there a vaccine for covid19?', 'Is there ...  \n",
       "6     ['Is the horizontal red line the median neutra...  \n",
       "8     ['Is remedisivir a life saving drug?', 'Is rem...  \n",
       "10    ['Is there a green pass for covax vaccine?', '...  \n",
       "...                                                 ...  \n",
       "1888  ['Is there a ventilated icu in ontario?', 'Is ...  \n",
       "1890  ['Is there a difference between true and false...  \n",
       "1892  ['Is there a difference between true and false...  \n",
       "1894  ['Has anyone ever been vaccinated with covaxin...  \n",
       "1896  ['Does a smoker have to get vaccinated?', 'Doe...  \n",
       "\n",
       "[947 rows x 2 columns]"
      ]
     },
     "execution_count": 11,
     "metadata": {},
     "output_type": "execute_result"
    }
   ],
   "source": [
    "df = df.drop(index=0)\n",
    "df"
   ]
  },
  {
   "cell_type": "code",
   "execution_count": 12,
   "metadata": {
    "scrolled": true
   },
   "outputs": [
    {
     "name": "stdout",
     "output_type": "stream",
     "text": [
      "['Is there such a thing as covid19?', ' Is there such a thing as covid19?', 'Is there a vaccine for covid19?', ' Is there such a thing as covid19?', 'Is the horizontal red line the median neutralizing antibody titer?', ' Is the median neutralizing antibody titer true or false?', 'Is remedisivir a life saving drug?', ' Is remedisivir the only drug that saves lives?', 'Is there a green pass for covax vaccine?', ' Is the covax vaccine funded by the eu?', 'Do you have to get a t cell vaccine?', ' Is it possible to get t cell immunity?', 'Is there such a thing as dehydration?', ' Is there a difference between water and electrolytes?', 'Is there a pandemic in korea?', ' Is korea part of the pandemic response?', 'Is vax it and mask it the same thing?', ' Is there a difference between delta and delta strain?', 'Is the delta vaccine true or false?', ' Is the pfizer delta vaccine true or false?', 'Do you have to go to the doctor for treatment?', ' Is it normal to have a headache?', 'Is there such a thing as covid in india?', ' Is there a fund for covid in india?', 'Is the hindu and pampathkumar the same?', ' Is the hindu and pampathkumar the same thing?', 'Is there a pandemic of coronavirus?', ' Is there such a thing as coronavirus?', 'Is it possible to get vaccinated against covid?', ' Is it true that people in low income countries get covid?', 'Is 2021 the year of the nurses?', ' Is this the year of the nurses?', 'Is toci and remdesivir the same thing?', ' Is remeddesivir and toci the same thing?', 'Is there a vaccine for pregnant women in india?', ' Is there a vaccine for covid19 in india?', 'Is the j&j vaccine a good idea?', ' Is the j&j vaccine the same as boosters?', 'Is there such a thing as covid flu?', ' Is covid the same as the flu?', 'Is there such a thing as being unvaccinated?', ' Is it possible to get vaccinated?', 'Is there a 5 day moving average in ontario?', ' Is the ontario line the same as the moving average?', 'Is there such thing as a diabetic baby?', ' Will a diabetic woman transfer the same condition to her baby?', 'Is there a cure for covid19 in ontario?', ' Is there a cure for covid in ontario?', 'Is the covid-19 vaccine true or false?', ' Does california have the covid-19 vaccine?', 'Is there such a thing as sars cov2?', ' Is there a difference between sars cov2 and b1617?', 'Is covid and delta the same thing?', ' Is covid the same as delta?', 'Is ovaxin and covishield the same thing?', ' Is covishield the same as vavaxin?', 'Is there a cure for tuberculosis?', ' Is there a cure for tb in the united states?', 'Is there such a thing as covid vaccination?', ' Is it possible to get covid vaccination?', 'Do you have to have a doctor for your son?', ' Is there a difference between nevada and florida?', 'Is there such thing as a 100% cure for covid?', ' Do you have to be vaccinated against covid?', 'Is there a vaccine for covid in new york city?', ' Is there a vaccine for covid in new york?', 'Is beta and gamma the same thing?', ' Is beta oc and gamma the same thing?', 'Is there a vaccine for npi?', ' Is it possible to get the npi vaccine?', 'Is the covax a mc in vietnam true or false?', ' Is it true that vietnam is part of the acmc?', 'Is covid andamp; inflammation the same thing?', ' Is covid andamp; inflammation the same thing?', 'Is there such a thing as covid19?', ' Is there a difference between covid19 and delta?', 'Can you take prednisone at the opd?', ' Is there a doctor at the opd?', 'Is there a vaccine for sars-cov-2?', ' Is there a cure for sars-cov-2?', 'Is there a variation of concern in ontario?', ' Is there a variable of concern in ontario?', 'Is there a vaccine for covid19 in the world?', ' Is there a vaccine for covid in the world?', 'Is the mrna vaccine more protective than other vaccines?', ' Is the mrna vaccine more protective than other vaccines?', 'Is the covid vaccine true or false in ontario?', ' Is it possible to get the covid vaccine in ontario?', 'Is the inevitable covid olympic variation true or false?', ' Is the inevitable covid olympic variant true or false?', 'Do you have to take 2 doses of covid vaccine?', ' Do you have to take 2nd dose of covid vaccine?', 'Is there a vaccine for covidiosis in canada?', ' Is there a vaccine for covid19 ontario?', 'Is there a moving average for cancer in ontario?', ' Is there a 7 day moving average in ontario?', 'Is there a false positive for covid in ontario?', ' Is there a false positive for covid19 ontario?', 'Is there a vaccine for covid in texas?', ' Has anyone died from covid in texas?', 'Is there a cure for covax in india?', ' Is there a world without covax?', 'Is there such thing as a super hero?', ' Are superheroes not just in your imagination?', 'Is there such a thing as an immunization?', ' Is there a cure for immunodeficiency?', 'Is there a difference between true and false immunity?', ' Is there a difference between true or false immunity?', 'Is there a cure for tuberculosis?', ' Is there a cure for tb in india?', 'Is there a difference between long lived plasma cells and memory cells?', ' Is there such a thing as memory b cells?', 'Is there a side effect of moderna vaccine?', ' Is the moderna vaccine true or false?', 'Is there such a thing as delta vaccination?', ' Is there such a thing as delta in the us?', 'Is it possible to have a headache after covid?', ' Is it possible to have a headache after covid?', 'Is there such a thing as long lived plasma cells?', ' Is there such thing as long lived plasma cells?', 'Does sputnikvaccine neutralize b.1.351?', ' Does the sputnik vaccine neutralize b.1.351?', 'Is the anti vax message true or false?', ' Is there such a thing as anti vax?', 'Is there such a thing as acute covid?', ' Is there such a thing as acute covid?', 'Is there a difference in age between 60 and 99?', ' Is there a difference in age between 50 and 70?', 'Is the bnt162b2 vaccine effective against covid-19?', ' Is the bnt162b2 vaccine effective against vcg?', 'Is the coronavirus vaccine true or false?', ' Is there a cure for coronavirus?', 'Is there a drop in rt of alpha?', ' Does the rt of alpha drop from march to may?', 'Is delta and deltaariant the same thing?', ' Is delta the same as delta virginia?', 'Is the first 10 days of covid true or false?', ' Is the first 10 days of covid true or false?', 'Is the swine flu virus the same in every country?', ' Is the swine flu virus the same in all countries?', 'Is there a trade war in the middle east?', ' Is there a trade deal between the us and china?', 'Is it possible to breathe oxygen in the worst affected states?', ' Is it possible to get oxygen in the worst affected states?', 'Is it safe to drink alcohol in bars?', ' Is it illegal to drink in bars?', 'Is there a vaccine for covid 19?', ' Is there such thing as covid 19 vaccination?', 'Is there such thing as a vaccine?', ' Is a vaccine the only way to prevent an infection?', 'Is there a cure for tb in india?', ' Is there such thing as a cure for tb?', 'Is there a jump in vaccination among the elderly?', ' Can you get vaccinated at any age?', 'Is there a cure for the pandemic?', ' Has there ever been a pandemic like the flu?', 'Do you have to be a doctor to get the vaccinated?', ' Do you need a medical degree to get the vaccinated?', 'Is there a no fault compensation program for vaccines?', ' Is there a no fault compensation program for vaccine adverse reactions?', 'Is there such a thing as crystal ball gazing?', ' Is there such thing as a crystal ball?', 'Do you have to fly to get oxygen?', ' Do you have to go to europe to get oxygen?', 'Is there a vaccine for minneapolis spike?', ' Is there a vaccine for minneapolis?', 'Is the covid vaccine effective if not given?', ' Is there a chance of dying from covid?', 'Is there such a thing as an infected person?', ' Is there a difference between true and false?', 'Is there a delta wave in the uk?', ' Is there such thing as a delta wave?', 'Is it possible to get a vaccinated passport?', ' Do you need a passport to get vaccinated?', 'Is there a difference between true and false?', ' Is there such thing as a short version?', 'Is sputnikvaccine against wt and e484k?', ' Is sputnikvaccine able to neutralize b.1.351?', 'Is it illegal to not get vaccinated?', ' Is it ok to not get vaccinated?', 'Does a coronavirus mutation change the course of the disease?', ' Is there a cure for coronavirus?', 'Is there such a thing as coronavirus?', ' Can you get coronavirus from aerosols?', 'Is there a cure for covid19 in ontario?', ' Is there a cure for covid in ontario?', 'Is there such a thing as being in the hospital?', ' Is there such a thing as being hospitalized?', 'Is the opiate epidemic the worst in the world?', ' Is there such a thing as an opiate epidemic?', 'Is there a difference between covi vaccine and cov vaccine?', ' Is it true that pregnant women should be given covi vaccine?', 'Is it true that my kidneys have failed?', ' Is there such thing as a kidney failure?', 'Is there alcohol in the hcf vaccine?', ' Is there alcohol in the flu vaccine?', 'Is it possible for a child to get infected?', ' Is it possible to get infected more often than not?', '\"Do you have the right to do business with companies you dont like?\"', ' Do you have the right to do business with a company?', 'Is it possible to be 100% vaccinated?', ' Is it possible to be fully vaccinated?', 'Is there a difference between ontario and canada?', ' Is it possible to get a flu in ontario?', 'Is there such a thing as longcovid?', ' Is there a difference between survivors and survivors?', 'Is the covid vaccine safe and effective?', ' Is the covid vaccine true or false?', 'Is bone marrow the same as memory cells?', ' Is there such a thing as memory b cells?', 'Is smallpox the same as delta virus?', ' Is smallpox the same as delta fever?', 'Is there such thing as a 7 day average?', ' Is there a 7 day average for cp24?', 'Is there a vaccine for the pandemic?', ' Is there a vaccine for covid19?', 'Is scotland out of the woods?', ' Is scotland still out of the woods?', 'Is there a cure for covid?', ' Is there such a thing as covid?', 'Do patients have the right to know what is being done?', ' Is there a right to know what is being done?', 'Is it possible to get vaccinated in israel?', ' Is it possible to get covid in israel?', 'Is there a phh positive in ontario?', ' Is there a phh positive test in ontario?', 'Is there a vaccine for pcv in indonesia?', ' Is the pcv vaccine safe in indonesia?', 'Is it possible for a person to get t cells?', ' Is it possible for a person to have t cells?', 'Is there a difference between beta and delta antibodies?', ' Is beta and delta the same thing?', 'Is there a 7 day moving average in ontario?', ' Is there a moving average for cancer in ontario?', 'Do you have to be vaccinated to wear a mask?', ' Do you have to be vaccinated to get a mask?', 'Do people who get vaccinated die less?', ' Is there such a thing as milder disease?', 'Is there such a thing as an infected person?', ' Is there a chance of being infected?', 'Is covaxin and 7/n the same thing?', ' Is covaxin the same as 7/n?', 'Is deltavariant true or false?', ' Is delta variant true or false?', 'Is it safe to be vaccinated against myocarditis?', ' Is it safe to get vaccinated against myocarditis?', 'Is it true that older people have less robust immune responses?', ' Is there such a thing as an 88 year old?', 'Is there such thing as low platelet after vaccination?', ' Is there such a thing as low platelet?', 'Is there a variation of concern in ontario?', ' Is there a variable of concern in ontario?', 'Is the j&amp;j vaccine true or false?', ' Is a j&amp;j vaccine true or false?', '\"Is there ventilation in the miners cab?\"', ' \"Is there ventilation in the miners cabin?\"', ' \"', 'Is the covid vaccine true or false in ontario?', ' Can you get the covid vaccine in ontario?', 'Is the covax amc money going to help?', ' Is covax the same as amc money?', 'Is covax the same as vaccine bonds?', ' Is vaccine bond the same as covax?', 'Is it mandatory to wear a mask in the uk?', ' Is it mandatory to wear a mask in canada?', 'Is there a vaccine for measles in kenya?', ' Is there a measles outbreak in kenya?', 'Is the cdc a grave mistake?', ' Is it true that the cdc made a mistake?', 'Is it possible to not be vaccinated?', ' Is it possible to not get vaccinated?', 'Is there going to be a 3rd wave?', ' Is there going to be a third wave of flu?', 'Is it possible to be protected by long lived plasma cells?', ' Is there such a thing as long lived plasma cells?', 'Is there a virus in gold miners french guiana?', ' Is there an outbreak of pancreatic cancer in french guiana?', 'Is it legal to wear a mask in california?', ' Is it illegal to wear a mask in california?', 'Is it possible to catch a virus when you move?', ' Is it true that a virus moves when people move?', 'Is there such a thing as covi in florida?', ' Is there such a thing as cov in florida?', 'Is there such a thing as an infected person?', ' Is there a difference between true and false?', 'Is it safe to get vaccinated against covid?', ' Is it safe to get covid vaccinated?', 'Is there a new strain of leukaemia in the uk?', ' Is there a new strain of leukaemia in uk?', 'Is there a vaccine for sputnik v?', ' Is there a vaccine against sputnik v?', 'Is there a vaccination program in california?', ' Is there a vaccine in california?', 'Can a child get long covid?', ' Is there such a thing as long covid?', 'Is there a pho test in ontario?', ' Is phh positive in ontario?', 'Is there a difference between positive and negative antibodies?', ' Is there a difference between positive and negative antibody levels?', 'Is there such a thing as covid19?', ' Is there such a thing as covid19?', 'Is there a reason for vaccine mandates?', ' Is there such thing as a vaccine mandate?', 'Is there such thing as a bat virus?', ' Is there such a thing as bat virus?', 'Is the hcfi vaccine true or false?', ' Is the hcfi vaccine a true or false vaccine?', 'Is there a vaccine for polio?', ' Is there such a thing as polio vaccine?', 'Is the covax vaccine true or false?', ' Is the covax vaccine safe and effective?', 'Are cd4+ t cells associated with covid?', ' Are cd4+ t cells associated with covid?', 'Is it possible to die from a vaccine resistant strain?', ' Is it possible to die from a vaccinated strain?', 'Is rbm and hcfi the same thing?', ' Is the hcfi rbt virus true or false?', 'Is there such a thing as delta vietnam?', ' Is there such a thing as delta virginia?', 'Is there a vaccine for pcv in indonesia?', ' Is there a vaccine for pc virus in indonesia?', 'Is there a virus mutation in the us?', ' Is there a virus that changes in the us?', 'Is there such a thing as obesity?', ' Is it true that obesity is a factor in covid mortality?', 'Is it possible to get vaccinated?', ' Is it true that vaccines are an amazing miracle?', 'Is there a vaccine for covid in ontario?', ' Is there a vaccine for covidiosis in canada?', 'Is there a difference between strazeca and stratazeneca vaccine?', ' Is there a difference between strazeca and apothecary?', 'Is there such a thing as covid-19?', ' Is there an increase in covid-19 cases?', 'Is there a difference between one world protected and covax?', ' Is there such a thing as one world protected?', 'Is sars cov-2 adapted to a human host?', ' Can sars cov-2 be adapted to a human host?', 'Is the swine flu a true or false virus?', ' Is there such thing as a true or false vaccine?', 'Is there a cold chain issue with vaccines?', ' Is there a cold chain problem with vaccines?', 'Is covid and delta the same thing?', ' Is covid the same as delta?', 'Is it possible to be a nurse on an app?', ' Is there a job for nurses in texas?', 'Is it true that every adult dies a child?', ' Is it true that every death affects a child?', 'Is it safe to be vaccinated against covid?', ' Is it safe to go to the doctor with covid?', 'Is there a difference between 18 and 49 year olds?', ' Is there such a thing as covid-19?', 'Is delta the worst strain of covid?', ' Is covid the same as delta?', 'Was the population structure the real factor?', ' Is there a difference between true and false?', 'Does the governor of alaska blame the unvaccinated?', ' Does the governor of alaska blame the unvaccinated people?', 'Can a b117 vaccine be used in india?', ' Can the b117 vaccine be used in india?', 'Is there a cure for measles?', ' Is there such a thing as measles vaccination?', 'Is sars cov-2 good for the innate immune system?', ' Does sars cov-2 suppress the innate immune system?', 'Is there a new strain of sars-cov-2?', ' Is there a new strain of sars cov-2?', 'Is it possible to die from the flu?', ' Is it possible to die from influenza?', 'Is there a difference between true and false antibodies?', ' Is there a difference between true and false antibody levels?', 'Is there a difference in age between 50 and 70?', ' Is there a new death rate every year?', 'Is public health and social measures effective against covidiosis?', ' Is there a cure for covidiosis?', 'Is it possible to be on b117?', ' Is it possible to be on a b117?', 'Is there a 2nd dose of ontario vaccine?', ' Is it possible to get ontario vaccine?', 'Is there such thing as a protective immune response?', ' Is there a vaccine for immunosuppressed patients?', 'Do you have to wash your hands at school?', ' Is it safe to wear a mask at school?', 'Is there such a thing as suicidal thoughts?', ' Is it possible to commit suicide on medtalks?', 'Is there such a thing as health insurance?', ' Is insurance the same as health insurance?', 'Is there a difference between freedom and freedom?', ' Is there such a thing as free speech?', 'Is it true that you have to get vaccinated?', ' Is it possible to get vaccinated?', 'Does fox news have blood on its hands?', ' Is there such a thing as fox news?', 'Is there a vaccine in every country?', ' Is there a vaccine in every country in the world?', 'Do you have to be vaccinated to get covid?', ' Do you have to be vaccinated for covid?', 'Is turmeric milk the same as curcumin milk?', ' Is turmeric milk the same as milk?', 'Is it possible to be vaccinated against gamma variant?', ' Is there such thing as a gamma variant?', 'Is the az vaccine effective against severe disease?', ' Is the aza vaccine effective against severe dz?', 'Is there a difference between true and false death rates?', ' Is there a difference between true or false death rates?', 'Is there such a thing as covaxin?', ' Is there a cure for covaxin in india?', 'Is it possible to be addicted to opiates?', ' Is there such a thing as an opiate addiction?', 'Is there a vaccine for covid in africa?', ' Is there a vaccine for covid in uganda?', 'Is there a supply chain for covax vaccine?', ' Is there a difference between true and false vaccines?', 'Is it possible to get vaccinated against cov?', ' Can you get vaccinated against covington disease?', '\"Is there such a thing as alzheimers?\"', ' Is there such a thing as alzheimers?', 'Does sars-cov-2 spike bind to ace2?', ' Does sars cov-2 spike bind to ace2?', 'Is the covax vaccine true or false?', ' Is covax the same as covid19?', 'Is 95% confidence intervals true or false?', ' Is the 95% confidence interval true or false?', 'Is there such thing as a true story?', ' Is there a difference between true and false?', 'Is there such a thing as covid19?', ' Is there such a thing as covid19?', 'Is there a fever after getting vaccinated?', ' Is there a fever after the vaccination?', 'Is delta variant the same as delta virus?', ' Is delta variant the same as delta strain?', 'Is there such a thing as covax?', ' Is there a cure for covax?', 'Can you get rabies from a dog bite?', ' Can you get rabies vaccine from a dog bite?', 'Is the pcv vaccine a cure for pneumonia?', ' Is the pcv vaccine the biggest killer in the world?', 'Is there a vaccine for covid-19?', ' Is there a vaccine for covid-19?', 'Is it possible to get a vaccine in africa?', ' Is there a vaccine in africa?', 'Is there such a thing as an infected person?', ' Is there a chance of being infected?', 'Is psychosocial support the same as economic support?', ' Is psychosocial support the same as psychological support?', 'Do you need a passport to get vaccinated?', ' Do i need a passport to get vaccinated?', 'Is covid the cause of death in palliative care?', ' Can covid be the cause of death in palliative care?', 'Can a vaccine save tens of thousands of lives?', ' Is a covid vaccine 100% effective?', 'Do you have to get vaccinated against p1?', ' Do you have to be vaccinated against p1?', 'Is there a correlation between vaccination rates and case counts?', ' Is there a correlation between vaccination rate and case count?', 'Is there a cure for cancer?', ' Is there still cancer in the united states?', 'Do you have to be vaccinated against covid19?', ' Do you have to be vaccinated against covax?', 'Is there such a thing as cov in arkansas?', ' Is there such a thing as covid in arkansas?', 'Is the death rate from a pandemic true or false?', ' Is the death toll from a pandemic true or false?', 'Is there a vaccine in the firefighter pilot?', ' Is there a vaccine in the fire department?', 'Is there a vaccine for covid 19?', ' Is there a vaccine for covid 19?', 'Is the j&j vaccine true or false?', ' Is a j&j vaccine true or false?', 'Is it possible for bsl3 to come out of a lab?', ' Is it possible for a sequence to come out of the lab?', 'Is delta the same as delta delta?', ' Is delta and delta delta the same thing?', 'Is the amount of neutralizing antibody the same as the quality?', ' Is there such a thing as neutralizing antibody?', 'Does wearing a mask reduce the risk of cov?', ' Do you have to wear a mask to prevent cov?', 'Does pfizer triangles work against delta delta?', ' Does pfizer triangles work on delta delta?', 'Are there any orphans in brazil?', ' Is there a difference between us and mexico?', 'Is it true that it is better to be late than never?', ' \"Is it true that its better to be late than never?\"', 'Is the covishield vaccine true or false?', ' Is there a vaccine for covishield in india?', 'Is it possible to have a b.1.617.2 mutation?', ' Is b.1.617.2 the same as variants of concern?', 'Is the covid vaccine true or false in ontario?', ' Is there a 2nd dose of ontario covid vaccine?', 'Is there such thing as a covid hero?', ' Is she a covid hero?', 'Is there a difference between beta and beta strain?', ' Is there a difference between early and late strains?', 'Is the covax vaccine true or false?', ' Is the covacx vaccine true or false?', 'Is it possible for us to be airborne?', ' Is it possible to be airborne with covid19?', 'Is there such a thing as mild cognitive impairment?', ' Is there a difference between mild cognitive impairment and dementia?', 'Is there a cure for coronavirus in belgium?', ' Is there an airborne coronavirus in belgium?', 'Is there going to be more covax vaccines?', ' Will there be more covax vaccines in the future?', 'Is it possible to die from covid-19?', ' Do you have to get vaccinated against covid-19?', 'Is there a difference between 20 and 39?', ' Is there a difference in age between 40 and 49?', 'Is there such a thing as an allergy?', ' Is there such a thing as an allergy to the flu vaccine?', 'Is there an icu in the nhs?', ' Is there an icu in the hs system?', 'Are there any covid cases in scotland?', ' Is there such a thing as covid19?', 'Is there going to be a change in the cdc?', ' Is there going to be a change in the health care system?', 'Is there a difference between true and false vaccines?', ' Is there a difference between true or false vaccines?', 'Does the deltaariant vaccine work in israel?', ' Is there a vaccine for covid19 in israel?', 'Is there a pandemic of covid-19 in the united states?', ' Is there a pandemic of covid-19 in alaska?', 'Does the cdc have a model for delta vietnam?', ' Is there going to be a deltaariant wave?', 'Is there such a thing as an infected person?', ' Is there a chance of being infected?', 'Is there such a thing as long covid?', ' Can long covid symptoms last for years?', 'Is it possible to get vaccinated in india?', ' Is it illegal to not get vaccinated in india?', 'Is there such a thing as solid organ transplant?', ' Do solid organ transplant recipients respond well to covid?', 'Is b.1.617.2 a variant of concern in ontario?', ' Is there a variant of concern in ontario?', 'Is the median neutralizing antibody titer for healthy controls the same?', ' Is there a difference between healthy and healthy controls?', 'Is there such a thing as long covid?', ' Is there such a thing as covid?', 'Is respiratory syncytial virus the same as rsv?', ' Is rsv the same as respiratory syncytial virus?', 'Is delta the same as covid?', ' Is delta covid the same as delta delta?', 'Is it safe to get vaccinated against delta?', ' Is it safe to be vaccinated against delta?', 'Do you have to be vaccinated against swine flu?', ' Do you have to be vaccinated against the flu?', 'Is there a difference between us and china?', ' Is there a difference between the us and china?', 'Is there a phh positive in ontario?', ' Is phh positive in ontario?', 'Is there such a thing as covid vaccination?', ' Is there a vaccine for covid in the us?', 'Is delta the fastest covid variant?', ' Is delta the fastest and fittest covid variant?', 'Is there a difference between true and false?', ' Is dr kohn a true or false doctor?', 'Is there a difference between r0 and covid?', ' Is there a difference between cov and r0?', 'Is it true that a man refuses to get vaccinated?', ' Is it true that a man is not vaccinated?', 'Is opd the same as false or true?', ' Is opd the same as true or false?', '\"Is there a link to fareed zakarias interview?\"', ' Is the interview with fareed zakaria a true story?', 'Is there a 2 week nationwide lockdown?', ' Is a 2 week lockdown the last resort?', 'Is it possible to faint with a syringe?', ' Is it possible to faint from a syringe?', 'Is it true that vaccines work for milder infections?', ' Do vaccines work for milder infections?', 'Is there a difference between natural and mrna vaccines?', ' Is the mrna vaccine the same as the natural vaccine?', 'Is the covid-19 vaccine true or false?', ' Is there an after effect of the covid-19 vaccine?', 'Is there a covid 19 in la?', ' Is there a covid 19 in la county?', 'Is there going to be a covid vaccine?', ' Is the covid vaccine the same as the vaccine?', 'Is the delta vaccine the same as the mri vaccine?', ' Is the delta vaccine the same as the nejm?', 'Is moderna and pfizer the same thing?', ' Is moderna the same as pfizer?', 'Is there a difference between delta and covid pneumonia?', ' Is there a difference between covid and delta?', 'Is it legal to forfeit the nfl?', ' Is it illegal to fake the nfl?', 'Is sharing vaccines the only way to end the pandemic?', ' Is sharing vaccines the only way to stop the pandemic?', 'Has there ever been a covid trip so far?', ' Has there ever been a covid journey?', 'Do you have to be vaccinated against covid?', ' Is it safe to be vaccinated against covid?', 'Does deltavariant have a vertical exponential form?', ' Is deltavariant the same as vertical exponential?', 'Is there such a thing as covid-19?', ' Is there such a thing as covid 19?', 'Is there such thing as a true story?', ' Is there a difference between true and false?', 'Is dexamethasone the same as inhaled steroids?', ' Are inhaled steroids and dexamethasone the same?', 'Is t cell immunity the same as c-19?', ' Is there a connection between t cell immunity and c-19?', 'Is the governance goal under control true or false?', ' Is the govt under control true or false?', 'Is there a vaccine for severe disease?', ' Can a vaccine protect against severe disease?', 'Is there a vaccine in the netherlands?', ' Is the netherlands part of the covacx program?', 'Is there a subgroup for sars-c2?', ' Is there an international subgroup for sars-c2?', 'Is there a difference in age between 40 and 49?', ' Is there such a thing as an 80 year old?', 'Is there a vaccine for the flu?', ' Is there a vaccine against the flu?', 'Is there a vaccine for the pandemic?', ' Is there a cure for the pandemic?', 'Is the othena vaccine true or false?', ' Is there a vaccine for polio in orange county?', 'Is there a difference between delta and delta?', ' Is delta the same as delta delta?', 'Is there such a thing as global health?', ' Is global health and improved global security the same thing?', 'Is there going to be a covid19 unit?', ' Is there going to be a covid19 unit?', 'Is there such a thing as post covid syndrome?', ' Is there a post covid syndrome?', 'Is there a vaccine for polio?', ' Can you get the ipah vaccine?', 'Is there a 2nd dose of ontario vaccine?', ' Is there a vaccine for ontario every day?', 'Is the covid19 vaccine true or false?', ' Is the covid-19 vaccine true or false?', 'Is there such a thing as an infected person?', ' Is there a chance of being infected?', 'Has anyone ever turned into an alligator?', ' Is there such a thing as arm soreness?', 'Is it true that people who get hiv are more likely to get sick?', ' Is it true that people who get hiv are more likely to die?', 'Is there a new death rate every year?', ' Are there any new deaths in the uk?', 'Is there a round table at cbs this morning?', ' Is there a round table at cbs?', 'Is there such a thing as an infected person?', ' Is there a chance of being infected?', 'Is it safe to wear a mask?', ' Is there a mask mandate in the united states?', 'Is gavi covax the same as amc?', ' Is there such a thing as covax?', 'Is there a need for ventilation in schools?', ' Is there such a thing as ventilation in schools?', 'Is it possible to have covid after asymptomatic breakthrough?', ' Is it possible to get covid from asymptomatic breakthrough?', 'Is it true that i am immune to persecution?', ' Is there immunity to terrorism in the united states?', 'Is there a difference between true and false?', ' Does the governor of california have a right to safety?', 'Is there a vaccine for polio in india?', ' Is there a vaccine in india?', 'Do you have to get a covid vaccine?', ' Is it true that you should get a covid vaccine?', 'Is there a cure for the pandemic?', ' Is it possible to die from the pandemic?', 'Is there a mutation in the covid virus?', ' Is there a mutation in the covid virus?', 'Is there a cure for covid-1?', ' Can you survive covid-1 infection?', 'Is it true that non hodgkin lymphoma patients remain immunosuppressed?', ' Is it true that non hodgkin lymphoma patients are immunosuppressed?', 'Is it true that 1 child is left without a family caregiver?', ' Is it true that 1 child dies from covid?', 'Is there a moving average for covid19 ontario?', ' Is there a 7 day moving average in ontario?', 'Is ayurveda and coronil the same thing?', ' Is ayurveda and coronal medicine the same thing?', 'Is there an export ban on vaccines in india?', ' Is there such a thing as an export ban?', 'Is there a cure for covid19 in ontario?', ' Is there a cure for covid19 in ontario?', 'Is there a 10 day isolation for covid19?', ' Is there a 10 day isolation for covid19?', 'Is delta the worst variant of delta virus?', ' Is delta the same as delta virus?', 'Is there a difference between true and false immunity?', ' Is there such a thing as no prior immunity?', 'Is it possible to get covid in delhi?', ' Is it possible to get covid in delhi?', 'Do you have to get vaccinated against covid?', ' Is it safe to get covid vaccinated?', 'Is there an airborne disease in belgium?', ' Is there an airborne disease in sports halls?', 'Can asthma patients take the covid19 vaccine?', ' Can asthma patients get the covid19 vaccine?', 'Is it true that vaccines work?', ' Is there such a thing as vaccines working?', 'Is there a threshold for herd immunity against delta?', ' Is sheath immunity the same as herd immunity?', 'Is there such thing as a new normal?', ' Is there a new normal after covid?', 'Is there a lambda virus in texas?', ' Is there a virus in texas hospital?', 'Is there a cure for covid virus?', ' Is there such a thing as covid virus?', 'Is there a vaccine for polio?', ' Is there a vaccine for the flu?', 'Can you get a covid vaccination certificate in quebec?', ' Can i get a covid19 vaccination certificate?', 'Is there an icu bed capacity in ontario?', ' Is icu bed capacity true or false in canada?', 'Is there a 7 day moving average in ontario?', ' Is there a moving average for ontario line?', 'Is it true that people are not vaccinated?', ' Is there such a thing as unvaccinated people?', 'Is there a recovery in india after covid19?', ' Is there a recovery rate in india?', 'Is it legal to do this in canada?', ' Is canada part of the united states of america?', 'Is it possible for a child to die from covid-19?', ' Is it possible for a child to die from covid-19?', 'Do you have to be vaccinated to get immunity?', ' Do you have to be vaccinated to get herd immunity?', 'Is there a difference between 300 and 300 antibodies?', ' Is it safe to take the second vaccine?', 'Is the covid-19 vaccine not for profit?', ' Is there a vaccine for covid-19?', 'Is it possible to learn about covid?', ' Is it possible to learn about covid?', 'Is there a difference between true and false effectiveness of vaccines?', ' Is there a difference between true and false effectiveness of the vaccine?', 'Do you get a vaccine before being intubated?', ' Is there a difference between intubation and vaccination?', 'Will florida ever learn from other states?', ' Will florida ever learn from others?', 'Is there such a thing as covid?', ' Is covid and r0 the same thing?', 'Is there a vaccine in pakistan?', ' Is the moderna tx vaccine true or false?', 'Is it possible to vaccinate 300 million people?', ' Is it possible to vaccine 300 million people?', 'Is there a vaccine for t-cell immunity?', ' Is there a cure for t cell disease?', 'Is there such a thing as pneumonia?', ' Is there such a thing as stroke?', 'Is dr sandeep marwah a doctor?', ' Is dr sandeep marwah a doctor of medicine?', '\"Is it true that people dont get vaccinated?\"', ' Is it true that people are not being vaccinated?', 'Is the pfizer covid19 vaccine safe to eat?', ' Is the pfizer covid19 vaccine safe to eat?', 'Is it illegal to get a c-19 vaccine?', ' Is there a vaccine for c-19?', 'Is delta variant more virulent than alpha variant?', ' Is delta the same as alpha virulence?', 'Is it necessary to track all breakthrough infections?', ' Is it ok to track all breakthrough infections?', 'Is it possible to die from covid in a hospital?', ' Is it possible to die from covid in hospitals?', 'Do you need a booster for sars c2 delta?', ' Is there a vaccine for sars c2 delta?', 'Is there such a thing as chest pain?', ' Is heart attack and chest pain the same thing?', 'Is it possible to get the covid vaccine in ontario?', ' Is it possible to get a covid vaccine in ontario?', 'Is the covax vaccine true or false?', ' Is the covax vaccine a true or false vaccine?', 'Do you need to see a doctor for chest ct scan?', ' Is there a cure for chest ct scan?', 'Is the dotted line the limit of detection?', ' Is a dotted line the limit of detection?', 'Does the pfizer vaccine work against the delta variant?', ' Is the pfizer vaccine effective against the delta variant?', 'Is there a phh positive in ontario?', ' Is phh positive in ontario?', 'Is it possible for viruses to change their dna?', ' Is there such a thing as false positive?', 'Is there a vaccine for covid19?', ' Is there a vaccine for covid19 in the world?', 'Is there a virus in every country in the world?', ' Is there such thing as a virus in india?', 'Is mississippi and west virginia the same state?', ' Is mississippi the second highest obesity state in the country?', 'Is it possible to get vaccinated in iceland?', ' Is iceland one of the most heavily vaccinated countries in the world?', 'Is it illegal to be anonymous on twitter?', ' Is it illegal to be anonymous?', 'Is my mother getting vaccinated?', ' Is there a light at the end of the tunnel?', 'Is there such a thing as deltaariant?', ' Is there such a thing as delta virus?', 'Is there a vaccine crisis in the world?', ' Is there a vaccine epidemic in the world?', 'Do you have to get vaccinated against b1617?', ' Is there a vaccine against the b1617 strain?', 'Is herd immunity the same as delta immunity?', ' Is delta the same as herd immunity?', 'Is there a delta in singapore?', ' Is there a delta in singapore?', 'Is it safe to go to school at mewanatk?', ' Is it safe to go to school in kentucky?', 'Is there a difference between true and false?', ' Is there such thing as a true story?', 'Is a single dose j&amp;j the same as low dose?', ' Is a single dose j&j the same as low dose?', 'Can you get vaccinated in february?', ' Is it possible to get vaccinated in february?', 'Is it possible for cats to catch covid?', ' Is it possible for a cat to catch covid?', 'Do you need a mask to get vaccinated?', ' Is it safe to get vaccinated?', 'Is it true to wear a mask for sars?', ' Is it safe to wear a mask for sars?', 'Is it a moral obligation to get vaccinated?', ' Is it wrong to blame people for getting covid?', 'Is there a difference between true and false vaccines?', ' Is it possible to get a false or false vaccine?', 'Do activated b cells get better at recognizing antigen?', ' Is there such a thing as activated b cells?', 'Is there such a thing as absorption capacity?', ' Is there such a thing as absorptive capacity?', 'Is there a difference between true and false?', ' Is there a difference between true or false?', 'Is it possible for older adults to get vaccinated?', ' Is it possible to die in nursing homes?', 'Is it possible to die from covid?', ' Do you have to be vaccinated against covid?', 'Is there a vaccine for b11.7 in michigan?', ' Is it illegal to travel to michigan with b11.7?', 'Is there a cure for covid19 in ontario?', ' Is there a cure for covid19 in ontario?', 'Is there a two tier system for vaccines?', ' Is there a two tier vaccine system?', 'Is there a cure for covax in belgium?', ' Did belgium donate 4 million doses of covax?', 'Is there a variant of concern in ontario?', ' Is there a variation of concern in ontario?', 'Is the j&j vaccine the same as the covid vaccine?', ' Is the j&j vaccine the same as the covid?', 'Is there a vaccine for cervical cancer in africa?', ' Is the hpv vaccine true or false?', 'Is the cost of the covacx vaccine true or false?', ' Is there a vaccine for covid19 in spain?', 'Is delta the same as delta flu?', ' Is delta the same as delta id?', 'Is wearing a mask the same as being sick?', ' Do you have to wear a mask when sick?', 'Is manaus the same as london?', ' Is manaus and south africa the same thing?', 'Is there a cure for covid19?', ' Is there a cure for covid in the world?', 'Is there a vaccine in timor leste?', ' Is there a vaccine for timor leste?', 'Is there a difference between jan and february?', ' Is there a difference between jan and feb?', 'Is it true that vaccines are better than containing them?', ' Is it true that vaccines are better at preventing an outbreak?', 'Is covax and covid the same thing?', ' Is covax the same as covid19?', 'Is there a difference between true and false?', ' Is there such thing as a false alarm?', 'Is the israeli study based on a national surveillance study?', ' Is the israeli study a true or false study?', 'Is there a phage in the gi tract?', ' Is there a virus in the gi tract?', 'Can smoking lead to cancer?', ' Is it true that smoking can cause cancer?', 'Is there such a thing as vaccination resistance?', ' Is it possible to get vaccinated against polio?', 'Is the covishield vaccine true or false?', ' Is the covishield vaccine a true or false vaccine?', 'Is it good to be vaccinated against the flu?', ' Is it good to be vaccinated against swine flu?', 'Is there still a pandemic in the united states?', ' Is there a cure for the pandemic?', 'Is there such a thing as covid?', ' Is there such a thing as covid in the brain?', 'Is there a cure for covid19 in ontario?', ' Is there a cure for covid in ontario?', 'Do you need to get vaccinated for immunosuppression?', ' Do you have to get vaccinated for immunosuppression?', 'Is there a cure for ebola?', ' Is there a pandemic of ebola?', 'Is there a virus in the united states?', ' Is there a virus in the usa?', 'Is it possible to get the covax vaccine?', ' Is the covax vaccine a true or false vaccine?', 'Is there such a thing as #covid19?', ' Is there such a thing as covid 19?', 'Is it legal to wear a mask in the us?', ' Is it illegal to not wear a mask?', 'Is there a 2nd dose of ontario vaccine?', ' Is it possible to get ontario vaccine?', 'Is the oxford and astra zeneca the same thing?', ' Is the oxford vaccine the same as astra zeneca?', 'Is there a difference between true and false?', ' Is there such thing as a false positive?', 'Is there a vaccine for pandemic?', ' Is there a vaccine for the pandemic?', 'Is there going to be a vaccine in qc?', ' Is there a vaccine in quatuquerque?', 'Is there a difference between true and false death?', ' Is there a new death every 20 minutes?', 'Is there a vaccine for covidiosis in canada?', ' Is there a vaccine for covid in ontario?', 'Can a high dose of the virus cause an infection?', ' Is there such thing as a perfect vaccine?', 'Do you have to be vaccinated against the swine flu?', ' Do you have to get vaccinated against the swine flu?', 'Is covid harmless in kids?', ' Is it true that covid is harmless in kids?', 'Is there a difference between true and false alarms?', ' Is there a difference between true and false?', 'Do you have to be vaccinated to get a positive test?', ' Do you have to be vaccinated to get an antigen test?', 'Is there a vaccine for all ages?', ' Is there a vaccine for all age groups?', 'Is there such a thing as sars cov-2?', ' Is there a cure for sars cov-2?', 'Do you need to get vaccinated in india?', ' Do you have to get vaccinated in india?', 'Is there such thing as a 3rd pillar of response?', ' Is there a 3 pillar of response to the pandemic?', 'Is there such a thing as covid in florida?', ' Is it possible to be vaccinated against covid?', 'Is the movie covid19 based on a true story?', ' Is the film covid19 based on a true story?', 'Is there a vaccine for covid19?', ' Is there a 2c vaccine in the world?', 'Is there a vaccine in sierra leone?', ' Is there a vaccine for sierra leone?', 'Is there a surge in pediatric hospitalizations in arizona?', ' Is there a surge in pediatric hospitalization in arkansas?', 'Is it possible to get vaccinated?', ' Do you need to get vaccinated?', 'Is there such thing as a cure for covd?', ' Is it true or false to be vaccinated against covid?', 'Is there a mask mandate in the united states?', ' Is there a mask mandate in the us?', 'Is there going to be more covax vaccines?', ' Is it possible to get the covax vaccine?', 'Is there a vaccine against the swine flu?', ' Is there a virus in the uk?', 'Is it possible for delta to gain a foothold?', ' Is it possible for delta to get a foothold?', 'Is it possible to have a virus in the united states?', ' Is it possible to get a virus in the united states?', 'Is there a difference between true and false vaccines?', ' Is it true that vaccines can save lives?', 'Is it possible to get covid in the first week?', ' Is it possible to get covid in one week?', 'Do you have to smoke to get life insurance?', ' Do you have to smoke for life insurance?', 'Has anyone ever been vaccinated against covid?', ' Is covid the same as sars2?', 'Is the delta variant the same as the original?', ' Do you have to be vaccinated against delta virus?', 'Is there a cure for tb in india?', ' Is there a cure for tuberculosis?', 'Are there any covid-19 patients in jacksonville?', ' Is the number of covid-19 patients higher than last summer?', 'Is there a cure for coronary artery disease?', ' Is there a cure for coronavirus?', 'Is there such a thing as orphanhood and caregiver deaths?', ' Is there a pandemic of covid-19?', 'Do you have to wear a mask at home?', ' Do you need a mask to go to the mall?', 'Is there such a thing as an askdrkk?', ' Is there such a thing as askdrkk?', 'Is there a cure for covid19 in ontario?', ' Is there a cure for covid in ontario?', 'Is it possible to get sick in schools?', ' Is it possible to be sick in schools?', 'Is there a variation of concern in ontario?', ' Is there a variable of concern in ontario?', 'Is there a vaccine for sars c2 delta?', ' Is there a vaccine against sars-c2 delta?', 'Is the titer of covid19 true or false?', ' Is covid19 a true or false titer?', 'Is the delta vaccine true or false?', ' Is the delta vaccine a true or false vaccine?', 'Is the pandemic of covid19 true or false?', ' Is there such thing as a lack of women in the world?', 'Is there a vaccine in japan?', ' Is there a difference between true and false vaccines?', 'Is there a phh positive in ontario?', ' Is phh positive in ontario?', 'Is the covax vaccine true or false?', ' Is the covax vaccine safe and effective?', 'Is it possible for a virus to mutate?', ' Is it possible for the virus to mutate?', 'Is deltaariant the same as covid?', ' Is the deltaariant the same as covid?', 'Is it possible to get the covid19 vaccine?', ' Is there such a thing as the covid19 vaccine?', 'Is it safe to go to school in fall?', ' Is it safe to go to school in the fall?', 'Is there a cure for polio?', ' Is there polio in the united states?', 'Do you have to throw your mask in the trash?', ' Do you have to throw your mask in the garbage?', 'Is there a true or false reaction to antigens?', ' Is there a difference between true and false antibodies?', 'Is there a vaccine for covid19?', ' Is there a vaccine for covid19?', 'Is there a difference between sars and coronavirus?', ' Is sars and coronavirus the same thing?', 'Is it okay to have orphans in the uk?', ' Is it possible to have orphans in the uk?', 'Is it important to keep your child vaccinated?', ' Is it important to keep your vaccines up to date?', 'Is there a cure for venous hypertension?', ' Is there a difference between true and false vaccines?', 'Can you get covid from wearing a mask?', ' Is it possible to get covid from wearing a mask?', 'Is there a cure for covid19 in ontario?', ' Is there a cure for covid in ontario?', 'Do you have to be vaccinated to wear a mask?', ' Do you have to be vaccinated to use a mask?', 'Is there a vaccine for covid in ontario?', ' Is there a vaccine for covidiosis in canada?', 'Can the b11.7 vaccine kill you?', ' Can a person die from b1.1.7?', 'Is there a difference between true and false vaccination rates?', ' Is there a difference between true or false vaccination rates?', 'Is delta the most contagious virus in the world?', ' Is delta the same as delta virus?', 'Is there a variation of concern in ontario?', ' Is there a variable of concern in ontario?', 'Is there a phh positive in ontario?', ' Is phh positive in ontario?', 'Is comcast putting profits over public health?', ' Is comcast putting profits before the public health?', 'Is there such a thing as an infected person?', ' Is there a difference between true and false?', 'Is there a covid race in south africa?', ' Is there a covid race in manaus?', 'Is it possible to be infected with b117?', ' Is it possible to have a b117 infection?', '\"Is there any evidence to support the hypothesis that weve been advancing?\"', ' \"Is it true or false that weve been advancing in the last few months?\"', ' \"', 'Do you need a helmet for nascar?', ' Is the delta the same as sars?', 'Is the delta variant the same as the alpha variant?', ' Is delta the same as sarscov2?', 'Is there such a thing as viral breakthrough after vaccination?', ' Is there such a thing as viral breakthrough after vaccination?', 'Does delta have a higher risk of dying?', ' Is delta the same as delta virus?', '\"Is oravaxs covid-19 capsule a booster?\"', ' Is oravax capsule a covid-19 booster?', 'Is there a difference between true or false t-cell immunity?', ' Is there a difference between true and false vaccines?', 'Is the covid-19 vaccine the same as pfizer?', ' Is covid-19 vaccine the same as pfizer?', 'Is it possible to get delta from covid?', ' Is it possible for a child to get delta?', 'Can you take the vaccination without a prescription?', ' Can you take the vaccination without a doctor?', 'Is there a difference between true and false?', ' Is dr kk the same as goelarts?', 'Is there a moving average for ontario line?', ' Is there a moving average for cancer in ontario?', 'Is it possible to get a covid vaccine in ontario?', ' Is it possible to get the covid vaccine in ontario?', 'Is there a need for field hospitals in india?', ' Is there a field hospital in india?', 'Is there such a thing as an anti-vaccine movement?', ' Is there such a thing as anti-vaccine?', 'Is a solid organ transplant the same as an infectious disease?', ' Is there such thing as a false positive for solid organ transplant?', 'Is dma and mna the same thing?', ' Is there a difference between nhs and dma?', 'Is there a phh positive in ontario?', ' Is phh positive in ontario?', 'Is it possible to get the covid vaccine in ontario?', ' Is it possible to get a covid vaccine in ontario?', 'Is it possible to get delta from a natural infection?', ' Is it possible to get delta from a natural source?', '\"Can an immunization save a childs life?\"', ' Is it safe to immunize your child?', 'Is there a mask in the mines?', ' Is there a mask on the mines?', 'Is there a variant of concern in ontario?', ' Is there a variation of concern in ontario?', 'Is there a ventilated icu in ontario?', ' Is there a ventilator in the icu ontario?', 'Is it true that older people have weaker t cell responses?', ' Do older people have stronger t cell responses?', 'Is there a vax status in the icu?', ' Is it true that all icu deaths are unvaccinated?', 'Is there a vaccine for covidiosis in canada?', ' Is there a vaccine for covid in ontario?', 'Is it possible to get sars virus without masks?', ' Is it possible to get sars without masks?', 'Is it possible to get an infection at home?', ' Is there a virus in the united states?', 'Is it true that 1 child is left without a family caregiver?', ' Is it true that 1 child is left without a caregiver?', 'Do you have to wear a mask to get vaccinated?', ' Do you need a mask to get vaccinated?', 'Is it safe to get vaccinated?', ' Is it possible to get vaccinated?', 'Is there a graph for covid19 in ontario?', ' Is there a graph of covid in ontario?', 'Is there a third dose of coronavirus vaccine?', ' Is there a vaccine for coronavirus?', 'Is there a ventilated icu in ontario?', ' Is there a ventilator in the icu in ontario?', 'Is there a 3rd wave of the pandemic?', ' Is there a 3rd wave of pandemic?', 'Is the delta variant the same as covax?', ' Is the delta variant the same as the covax vaccine?', 'Is there a lockdown in the healthcare system?', ' Is there a lockdown in the health care system?', 'Is it safe to get vaccinated against covid?', ' Is it safe to be vaccinated against covid?', 'Is there a problem with the dc press?', ' Is there a dc press in florida?', 'Is there a field hospital in the army?', ' Is there field hospitals in the army?', 'Is it true that all eu countries recognize covisiild?', ' Is it true that all eu countries recognize covisheld?', 'Is there a vaccine for covid19 in israel?', ' Is there a vaccine for covid19?', 'Is there any evidence that az is pathogenic to humans?', ' Is there any evidence that az is pathogenic to humans?', 'Is there a vaccine for polio in india?', ' Is it illegal to get vaccinated in india?', 'Is there a vaccine for covid in ontario?', ' Is there a vaccine for covid in ontario?', 'Is it possible to get the covid vaccine in ontario?', ' Is it possible to get a covid vaccine in ontario?', 'Is there a difference between hospitalization and death?', ' Is there a difference between hospitalization and venous death?', 'Is there such a thing as privilege?', ' Is privilege the same as immunity?', 'Is it safe to get vaccinated?', ' Is it possible to get vaccinated?', 'Is ventilation the same as air disinfection?', ' Is ventilation and air disinfection the same thing in schools?', '\"Is it true that most people dont get vaxxed?\"', ' \"Is it true that most people dont get vaccinated?\"', 'Is b.1.617.2 a variant of concern in ontario?', ' Is there a variant of concern in ontario?', 'Is there a vaccine for cholera in africa?', ' Is there a vaccine for polio in africa?', 'Is there a difference in life expectancy between black and white?', ' Do black men have a life expectancy of 68 years?', 'Is vaccinehesitancy and stress the same thing?', ' Is there such a thing as vaccine stress?', 'Is there a free consultation for covid 19?', ' Is there a free consultation for covid-19?', 'Is there such a thing as deltaariant?', ' Is it possible to get the deltaariant virus?', 'Does pfizer have a vaccine against delta?', ' Is it true that pfizer is 100% effective against delta?', 'Is there an urgent need to vaccinate?', ' Is there an urgency to vaccinate?', 'Is there such a thing as covid immunity?', ' Is covid immunity the same as vaccination?', 'Do you have to go to the doctor for an infection?', ' Is it possible for you to get an infection?', 'Is the j&j vaccine true or false?', ' Does the j&j vaccine protect against beta and delta?', 'Is there a vaccine against b1618 in india?', ' Is there a vaccine for b1618 in india?', 'Is there a vaccine for the pandemic?', ' Is there a vaccine for pandemic?', 'Is it possible to get vaccinated?', ' Is there such thing as a vaccine?', 'Do you need a vaccine passport to get vaccinated?', ' Do you need a passport to get vaccinated?', 'Is it safe to wear a double mask?', ' Is it possible to wear a double mask?', 'Is there a ventilated icu in ontario?', ' Is there a ventilator in the icu ontario?', 'Do you have to be vaccinated to prevent covid?', ' Do you have to be vaccinated to get covid?', 'Is there a difference between pre and post vaccination?', ' Is there a difference between b cell response and prevaccination?', 'Is delta the same as neutralizing antibody?', ' Is d614g the same as neutralizing antibody?', 'Is metabolic syndrome the same as stroke?', ' Is metabolic syndrome the same as stroke?', 'Is it necessary to get vaccinated against covid?', ' Is it possible to get covid vaccination?', 'Is there such a thing as immunosuppressive drugs?', ' Are immunosuppressive drugs the same as cancer drugs?', 'Is there such a thing as long covid?', ' Is there such thing as long covid?', 'Is there a vaccine in nigeria?', ' Is there a vaccine in guinea?', 'Is the delta variant the same as the normal variant?', ' Do you have to be immunized for delta variant?', 'Is there such a thing as an olympic variation?', ' Is there such thing as an olympic variation?', 'Do you have to wear a mask to school?', ' Does the president of the united states wear a mask?', 'Is delta variant the same as delta virus?', ' Is the delta variant the same as the false positive?', 'Is it possible to get vaccinated?', ' Is it safe to be vaccinated?', 'Do you need to get vaccinated in all countries?', ' Do you need boosters to get vaccinated?', 'Is it possible to be immunosuppressed after a kidney transplant?', ' Is there a difference between kidney transplant recipients and dialysis patients?', 'Is there such a thing as an opd?', ' Is it possible to get help with opd?', 'Is there a vaccine for polio?', ' Is there a vaccine for pandemics?', 'Is there a variation of concern in ontario?', ' Is there a variable of concern in ontario?', 'Is there such thing as a 10 year old?', ' Is there a difference between 20 and 39?', 'Is it possible to get sick from rsv?', ' Is it true that rsv can make you sick?', 'Is there such a thing as covid19 vaccine?', ' Is there such a thing as covid19 vaccination?', 'Is there such a thing as covid19?', ' Is there a cure for covid19?', 'Is there a way to isolate the virus?', ' Is there such a thing as an octopus virus?', 'Is there such thing as a bowl of vinegar?', ' Did i get my first taste of vinegar?', 'Is there such a thing as an immunocompromised population?', ' Is there such a thing as immunocompromised people?', 'Can a flu jab reduce the effects of covid?', ' Does a flu jab reduce the effects of covid?', 'Is it true that the israeli government is worried?', ' Is the israeli government worried about the potency crisis?', 'Is there a 2nd dose of ontario vaccine?', ' Is there a vaccine for ontario every day?', 'Is there a 2nd dose of covid vaccine?', ' Is it possible to miss the covid vaccine?', 'Is there such a thing as covid-19?', ' Is covid-19 the worst in the world?', 'Is there a phh positive in ontario?', ' Is there a phh positive test in ontario?', 'Is there such a thing as covid?', ' Is there such a thing as covid?', 'Do you have to lie on your stomach to get oxygen?', ' Do you need to lie on your stomach?', 'Is the delta vaccine the same as the moderna vaccine?', ' Is there a difference between delta and delta delta?', 'Is there a decline in #covid19?', ' Is there such a thing as #covid19?', 'Is it possible to spread covid to your family?', ' Do you have to be vaccinated against covid?', 'Do you have to go to the hospital for fever?', ' Do you have to go to the hospital with a fever?', 'Is it possible to get vaccinated in every country?', ' Is there a vaccine for g7+?', 'Is there a difference between true and false vaccines?', ' Is it true or false to have a vaccine?', 'Is there a cure for long term covid?', ' Is there a clinic for long term covid?', 'Has anyone ever been vaccinated against polio?', ' Is it true or false to be vaccinated?', 'Is a mask better than no mask?', ' Is a mask the same as an air mask?', 'Is there such a thing as passive smoking?', ' Can you travel further in smoke?', 'Is there a virus at the mining site?', ' Is there a virus in the mining site?', 'Do you have to be vaccinated against delta?', ' Do you need to be vaccinated against delta?', 'Is there such thing as too much saturated fat in your diet?', ' Is there such a thing as too much saturated fat?', 'Is there such a thing as vaccine hesitancy?', ' Is there such thing as vaccine hesitancy?', 'Is there such a thing as covid-19?', ' Has anyone ever been fired for not getting the cov vaccine?', 'Is there a difference between positive and negative antibody titers?', ' Is there a difference between positive and negative antibody titer?', 'Is there such a thing as an allergic reaction to the vaccination?', ' Is there such a thing as an allergic reaction to the vaccin?', 'Is there a difference between j&j and prime boost?', ' Is there such thing as a prime boost vaccine?', 'Is it possible for a virus to survive?', ' Is it true that the virus adapts to us?', 'Is it possible to get vaccinated?', ' Is it possible to get a vax?', 'Is there a b16.17 variant in ernakulum?', ' Is there a b16.17 variant in ernakulum?', 'Is there a 2nd dose of ontario vaccine?', ' Is there a vaccine for ontario every day?', 'Is delta the same as delta virus?', ' Is it possible to spread delta virus?', 'Is alpha the same as wuhan-1?', ' Is wuhan-1 the same as alpha?', 'Is there a ventilator in the icu in ontario?', ' Is there a ventilated icu in ontario?', 'Is there a double mutation in covid 19 virus?', ' Is there a double mutation in covid 19?', 'Is there a difference between pfizer and moderna vaccine?', ' Is there a difference between pfizer and moderna?', 'Is there a pandemic in jupiter florida?', ' Has there ever been a pandemic like covidiosis?', 'Is there a difference between true and false doses of ibuprofen?', ' Is there a difference between true or false doses of ibuprofen?', 'Is there such a thing as oxygen concentrators?', ' Is there such a thing as an oxygen concentrator?', 'Is there a vaccine for covid in ontario?', ' Is there a vaccine for covid19 in ontario?', 'Can delta virus get into your lungs?', ' Does delta virus get into your lungs faster?', 'Is there a cure for covid19?', ' Is covax the only way out of the crisis?', 'Is japan a partner in #vaccinequity?', ' Is japan a partner in covax?', 'Is phil valentine a true story?', ' Is phil valentin a true story?', 'Is there such a thing as covax?', ' Is there such a thing as covax?', 'Is getting vaccinated a cure for covid?', ' Do you have to get vaccinated against covid?', 'Is there a vaccine for covax in tanzania?', ' Is the covax vaccine true or false?', 'Is delta the same as covid?', ' Does delta virus spread faster than covid?', 'Is health insurance the same as not smoking?', ' Is life insurance the same as health insurance?', 'Is the covid virus the same as the common cold?', ' Is covid the same as the common cold?', 'Did the cdc see the delta vietnam?', ' Is there still a cdc in india?', 'Is there a difference between black and white life expectancy?', ' Is there a difference between black and white in life expectancy?', 'Is it safe to get vaccinated?', ' Do you have to get vaccinated to be immune?', 'Can getting vaccinated save your life?', ' Can getting vaccinated save a life?', 'Is there such a thing as covid fever?', ' Is there such a thing as covid19 fever?', 'Can you get the covid vaccine if you are asymptomatic?', ' Do you have to get the covid vaccine?', 'Is it legal to go to the movies in italy?', ' Do you need a vaccination certificate in italy?', 'Is there a cure for covax?', ' Is there such a thing as covax?', 'Is the delta variant the same as the beta variant?', ' Is there a difference in neutralizing antibody activity between delta and beta?', 'Is it possible to be a carrier to your family?', ' Is it possible to be a carrier of cancer?', 'Is the covax vaccine true or false?', ' Is the pfizer covax vaccine true or false?', 'Is delta the same as delta delta?', ' Is delta the same as delta delta in all cases?', 'Is there such thing as a vaccine?', ' Is there such thing as a vaccination?', 'Is there a difference between true and false vaccines?', ' Is there a difference between true or false vaccines?', 'Is there such a thing as breathlessness?', ' Is it possible to breathe with covid?', 'Can you take the covid19 vaccine for high blood pressure?', ' Is it safe to take the covid19 vaccine?', 'Is there a cure for venous embolism?', ' Is there such a thing as venous embolism?', 'Is there a rise in crp in india?', ' Is there such a thing as crp rise?', 'Is there such a thing as deltaariant?', ' Is it possible to get deltaariant disease?', 'Is there a difference between pfizer and delta?', ' Is there a difference between delta and pfizer?', 'Is it possible to die from a heart attack?', ' Can you die from a heart attack?', 'Do you have to get vaccinated in nyc?', ' Do you need to get vaccinated in nyc?', 'Is there a cure for the pandemic?', ' Is there a cure for the cholera epidemic?', 'Is there such a thing as covid?', ' Do you have to be vaccinated against covid?', 'Is there a 3rd wave of covid?', ' Is there a 3rd wave of covid19?', 'Is it possible to get a motorcycle vaccine?', ' Is it possible to get a motorcycle vaccination?', 'Is the vaccination true or false?', ' Is there a vaccine for polio?', 'Is there such a thing as an immune booster?', ' Is there a difference between true and false immunity?', 'Do teachers have to be vaccinated against covid?', ' Do you have to be vaccinated against covid?', 'Is it safe to be vaccinated against covid?', ' Do you have to get vaccinated against covid?', 'Is there such a thing as covid 19?', ' Is it true that steroid is used for covid?', 'Is there such a thing as thrombo-inflammation?', ' Is there such a thing as thrombosis?', 'Is there such thing as a lack of vaccines?', ' Is there such thing as a vaccine?', 'Is there a vaccine for lambda variant?', ' Is the lambda variant the same as mrna?', 'Do they wear masks in restaurants in colombia?', ' Is there a mask in colombia restaurants?', 'Do you have to get vaccinated against covid?', ' Can you get covid without getting vaccinated?', 'Is there such a thing as zero responsibility?', ' Is there a difference between true and false?', 'Is covax and covid the same thing?', ' Is there a vaccine for covax in japan?', 'Is there a vaccine for covid?', ' Is it possible to get the covid vaccine?', 'Is delta virus the same as sars virus?', ' Is delta virus the same as sars?', 'Is there such a thing as covid19?', ' Is there a cure for covid19 in intensive care units?', 'Is the covid vaccine true or false in ontario?', ' Is it possible to get a covid vaccine in ontario?', 'Is there a difference between vaccine cases and case rates?', ' Is there a difference in vaccine cases?', 'Is there a difference between viral load and inoculum?', ' Is there a correlation between viral load and inoculum?', 'Is ajumathew and muradbanaji the same thing?', ' Is ajumathew and muradbanaji the same person?', 'Is it possible to get sick after getting vaccinated?', ' Can you get sick after getting vaccinated?', 'Is there a cure for sars cov-2?', ' Is there such a thing as sars cov-2?', 'Is there a difference between 40 and 49?', ' Is there a difference in age between 40 and 49?', 'Is it possible to get the deltaariant vaccine?', ' Is there a vaccine for deltaariant?', 'Do you have to wear a mask to get sars?', ' Do you need a mask to get sars?', 'Is there such a thing as black fungus?', ' Is there a black fungus in the oral cavity?', 'Does the sinovac vaccine work in the real world?', ' Is the sinovac vaccine safe in the wild?', 'Is 3 weeks the same as 8 weeks?', ' Is 8 weeks the same as 3 weeks?', 'Does the 3 lead vaccine block hospitalization 100%?', ' Do the three lead vaccines block hospitalization 100%?', 'Is there a second wave of tsunami in india?', ' Is there a second wave of terrorism in india?', 'Is there a vaccine in every country?', ' Is there a need for more vaccines in developing countries?', 'Is it possible to be completely vaccinated?', ' \"Are people who dont get vaccinated more vulnerable?\"', 'Is there going to be a nfl game in 2021?', ' Can the nfl reschedule a game in 2021?', 'Do you have to get immunity to b117?', ' Is it possible to get immunity to b117?', 'Do you have to be vaccinated to get covid?', ' Is it safe to wear a mask in public?', 'Is there a ventilated icu in ontario?', ' Is there a ventilator in the icu in ontario?', 'Is it true that you won’t get vaccinated?', ' Is it true that most people don’t vaccinate?', 'Is there such a thing as delta vaccine?', ' Is there a vaccine against delta?', 'Is there going to be a 3rd shot booster?', ' Is there such thing as a 3rd shot booster?', 'Is covid the same as delta strain?', ' Is there a difference between covid and delta strain?', 'Is there a vaccine for covidiosis in canada?', ' Is there a vaccine for covid in ontario?', 'Is there such a thing as an ontario?', ' Is it true or false that an ontario died?', 'Is moderna the same as pfizer?', ' Is the pfizer and moderna vaccine the same?', 'Is the sputnik vaccine true or false?', ' Is the sputnik vaccine a true or false vaccine?', 'Is there a webinar on covid19?', ' Is there a webinar on covid19?', 'Is the covid vaccine true or false?', ' Does the covid vaccine work in the real world?', 'Is it possible to get a booster shot?', ' Do you need a booster shot for wh1?', 'Is there such a thing as covid19?', ' Is there such a thing as covid19 virus?', 'Is the bone marrow part of the immune system?', ' Is it possible for the bone marrow to produce antibodies?', 'Is it possible to get a covid vaccine?', ' Is it possible to get a covid vaccine?', 'Is there a difference between booster and booster?', ' Is there a difference between booster and booster vaccine?', 'Is delta vietnamese on the rise?', ' Is delta vietnam on the rise?', 'Is there a cure for covid19 in ontario?', ' Is there a cure for covid19 in ontario?', 'Is the covid vaccine true or false?', ' Is there a cure for the pandemic?', 'Is there a pandemic of covid?', ' Is there a pandemic of covidiosis?', 'Is it possible to get vaccinated?', ' Is it possible to get vaccinated with covid?', 'Is there a vaccine for covid19?', ' Is zerunbio and cepi the same company?', 'Is it possible to get the covid vaccine in ontario?', ' Is it possible to get a covid vaccine in ontario?', 'Is it possible to get a shot at the same time?', ' Is it possible to get a shot at md?', 'Is there such a thing as covid19?', ' Is there such a thing as covid19 vaccine?', 'Is it safe to get vaccinated?', ' Is it safe to be vaccinated against polio?', 'Do you have to get vaccinated if you are young?', ' Is it safe to get vaccinated?', 'Is it possible for children to get vaccinated?', ' Is it possible to get a routine immunization?', 'Is there a vaccine for polio?', ' Is this the first vaccine approved?', 'Do you have to be vaccinated to get immunity?', ' Is a cat immune to being vaccinated?', 'Is there a vaccine for covid19?', ' Is there a vaccine for covid in india?', 'Is it possible to get vaccinated?', ' Is it safe to get vaccinated?', 'Is the impact of variants on vaccines true or false?', ' Is the effect of variants on vaccines true or false?', 'Is the covid19 vaccine true or false?', ' Is the covid19 vaccine true or false?', 'Is there such thing as a false flag?', ' Is there a false flag in ontario?', 'Is it possible for a child to be orphaned?', ' Is there such a thing as an orphanage?', 'Do you get vaccinated in the us?', ' Is everyone getting vaccinated in the us?', 'Is it important to capture excess mortality?', ' Is it important to capture excess mortality in every country?', 'Do you have to think of the children in the pandemic?', ' Is it true or false to think of the children?', 'Is it safe to get vaccinated against delta?', ' Is it possible to get vaccinated against delta?', 'Does taking pfizer covid19 boost your immune system?', ' Does taking pfizer covid19 boost your immune system?', 'Is it possible to go backwards in clinical trials?', ' Is it possible to go backwards with clinical trials?', 'Is there such a thing as delta vietnam?', ' Is there a surge in delta vietnam?', 'Is covid and psampathkumar the same thing?', ' Is there such thing as a covid patient?', 'Is there a ventilated icu in ontario?', ' Is there a ventilator in the icu in ontario?', 'Is there a vaccine in every country in africa?', ' Is there a vaccine for the flu in africa?', 'Is it possible to get the covax vaccine?', ' Is there a vaccine for polio in the world?', 'Is the link to delta vietnam broken?', ' Is there a link between delta vietnam and israel?', 'Do you have to have covid to go to hospital?', ' Do you need a covid test to go to hospital?', 'Is it safe to get vaccinated?', ' Is it safe to be vaccinated?', 'Is it possible to get vaccinated in the us?', ' Is it illegal to not get vaccinated?', 'Is there a difference between true and false?', ' Is science and solidarity the key to a successful response?', 'Is there such thing as a refugee crisis?', ' Is there such thing as a migrant crisis?', 'Is there a difference between true and false infection rates?', ' Is there a difference between true and false?', 'Can my kids go to camp?', ' Can i go to camp with my kids?', 'Is there a vaccine for covid19 in honduras?', ' Is there a vaccine in honduras?', 'Do nursing home workers get vaccinated?', ' Do all nursing home workers get vaccinated?', 'Is your immune system still active after an infection?', ' Is it possible to be immune to a virus?', 'Do you have to take the acs vaccine?', ' Is there a vaccine for coronary artery disease?', 'Is there a threshold for protective immunity?', ' Is the pfizer vaccine the same as moderna?', 'Is the covid19 vaccine true or false?', ' Do they still have the covid19 vaccine?', 'Is there a dose of covax in africa?', ' Is covax the same as covid19?', 'Is the who mask and vax the same thing?', ' Is the who mask and vax the same?', 'Is it safe to go to school with covid?', ' Is there such a thing as covid in schools?', 'Is the covax vaccine true or false?', ' Is the covacx vaccine true or false?', 'Is it possible to be unvaccinated against covid?', ' Do you have to be vaccinated against covid?', 'Is moderna and pfizer the same vaccine?', ' Are moderna and pfizer the same vaccine?', 'Do front line workers put themselves at risk?', ' Do frontline workers put themselves at risk?', 'Is there such a thing as post covid syndrome?', ' Is it possible to get covid syndrome without vaccination?', 'Is it possible to get vaccinated against covid?', ' Is it possible to get vaccinated against covid?', 'Is there a difference between true and false death rates?', ' Is there a difference between true or false death rates?', 'Is there such thing as a symptomatic breakthrough?', ' Is there a cure for covid-19?', 'Is there such a thing as high blood pressure?', ' Is the hcf vaccine true or false?', 'Is monoclonal antibodies the same as false or false?', ' Is monoclonal antibodies a cure for cancer?', 'Is there a vaccine in california?', ' Is there a vaccine in los angeles?', 'Is there going to be a world summit on vaccination?', ' Is there going to be a g7 summit on covax?', 'Do you have to do a pcr test on an iv?', ' Do you have to do a pcr test on an id?', 'Is there such a thing as mass protests?', ' Is there a public rally with no masks?', 'Is there such a thing as chronic kidney disease?', ' Is there such thing as chronic kidney disease?', 'Is it possible to have cov in the icu?', ' Is it possible to be in the icu with covidiosis?', 'Is there a cure for pandemics?', ' Is there such thing as a surge capacity?', 'Is there a vaccine for covid19?', ' Is there a pandemic of covid19?', 'Do you have to wear a mask to protect against delta?', ' Do you have to wear a mask to protect yourself from delta?', 'Is it possible to make antibodies for life?', ' Is it possible to make antibodies for a lifetime?', 'Is there a vaccine for everyone in the world?', ' Is it possible to get the covax vaccine?', 'Is the delta strain the same as the true or false?', ' Is there a difference between delta and delta strain?', 'Is there a vaccine for rabies in israel?', ' Is there a vaccine for malaria in israel?', 'Is there a false positive for covid in ontario?', ' Is there a false positive for covid19 ontario?', 'Do you have to be vaccinated against delta?', ' Is there a vaccine for delta virus?', 'Is there a vaccine for covidiosis in canada?', ' Is there a vaccine for covid in ontario?', 'Is there such thing as a covid vaccine?', ' Is there such a thing as covid?', 'Is there a decline in life expectancy from 1943 to now?', ' Is there a decline in life expectancy?', 'Is there such a thing as an infected person?', ' Is there a difference between true and false?', 'Is it possible to die from covid-19?', ' Is there such a thing as covid-19?', 'Is there a difference between healthy controls and patients with sars?', ' Is there such a thing as sars cov-2?', 'Is it possible to have liquid oxygen in tanks?', ' Is it possible to put liquid oxygen in tanks?', 'Is there a vaccine in mississippi?', ' Is it possible to get vaccinated in missouri?', 'Is there a zoonotic origin for sars cov-2?', ' Is there a zoonotic origin for sars-cov-2?', 'Is az and covaxin the same thing?', ' Is there a real pandemic in india?', 'Is it possible to get venous infection with a second shot?', ' Is it possible to get venous embolism with 2 shots?', 'Is there a 3rd dose of cov vaccine?', ' Does pfizer have a 3rd dose of its cov vaccine?', ' \"', 'Is there a ventilated icu in ontario?', ' Is there a ventilator in the ontario icu?', 'Is it possible to spread the covax pandemic?', ' Is there such a thing as covax?', 'Is there a difference between true and false immunity?', ' Is there a correlation between vaccines and immunity?', 'Is it possible to get vaccinated early in school?', ' Do you have to be vaccinated to get a vaccine?', 'Is there a difference between vaccine and unvaccinated?', ' Is there a difference between vaccines and unvaccinated?', 'Is it possible to be vaccinated more than once?', ' Do you have to be vaccinated to get the ve dip?', 'Is there a vaccine for false lung disease?', ' Is there a vaccine for false lung cancer?', 'Is it possible for delta to be vaccinated?', ' Is it possible to be vaccinated against delta virus?', 'Is there such a thing as covid?', ' Is there such a thing as covid?', 'Is covid a disease of the elderly?', ' Is there such a thing as covid?', 'Is the #covid19 vaccine true or false?', ' Is the #covid19 vaccine really effective?', 'Is there a difference between covax and covacx?', ' Is covax the same as covacx?', 'Is there such a thing as smallpox vaccine?', ' Is there a cure for smallpox?', 'Is there such thing as a vaccine?', ' Is there a vaccine for polio?', 'Is a vaccine the same as an immunization?', ' Are vaccines the same as natural immunity?', 'Is there such a thing as an impact hub?', ' Is there such a thing as impact hubs?', 'Is it possible to be infected on 10th day?', ' Is it possible to be non infectious on 10th day?', 'Is the covax vaccine true or false?', ' Is the covaccine vaccine true or false?', 'Is there still a pandemic in europe?', ' Is there a pandemic in europe?', 'Is it true that i was crushed by covid?', ' Is it true that i was crushed by covid19?', 'Is it possible to get a covid vaccine?', ' Is the covid vaccine a good idea?', 'Is there a 7 course meal live?', ' Is there a food veda in india?', 'Has there ever been a case of cancer in florida?', ' Is there a cure for cancer in florida?', 'Is it possible to get an early vaccination?', ' Is it possible to get an early vaccination?', 'Is it possible to lose taste and smell?', ' Is it possible to lose smell and taste?', 'Is it possible to walk for 6 mins?', ' Can you walk for 6 minutes without difficulty?', 'Is there a virus in french guiana?', ' Is there such a thing as gammavarit?', 'Is there such a thing as delta vietnam?', ' Is there such a thing as deltaariant?', 'Can a virus change its genome in 1 day?', ' Can a virus change its genome in one day?', 'Is there such thing as a fake vaccin?', ' Is there a difference between true and false vaccins?', 'Is it possible to get 2 doses of antibiotics?', ' Is it possible to get a solid organ transplant?', 'Is there such a thing as covishield?', ' Does covishield cause blood clots?', 'Is there a cure for heart disease in india?', ' Is there a cure for coronary artery disease?', 'Is the eua vaccine true or false?', ' Is the eua vaccine a true or false vaccine?', 'Is the covid-19 vaccine true or false?', ' Is the covid-19 vaccine true or false?', 'Is it possible to get a vaccination?', ' Is it possible to get a vaccinated?', 'Is there a vaccine to prevent severe disease?', ' Is there a vaccine to prevent severe diseases?', 'Is there a cure for covid-19?', ' Is crp the same as covid-19?', 'Is it possible for antibodies to covid to decline with age?', ' Do you have to have covid to get antigens?', 'Is it true that teachers are heroes in the classroom?', ' Is it true that teachers are heroes in school?', 'Is there such thing as a pandemic?', ' Is there such thing as a global pandemic?', 'Is there a way to get vaccinated?', ' Do you have to be vaccinated to get a vaccine?', 'Do you need a seatbelt for nascar?', ' Do you need a seatbelt in nascar?', 'Is it possible to be immunosuppressed?', ' Is there such a thing as immunosuppression?', 'Is there a vaccine for migrant and refugee populations?', ' Is there a vaccine for migrant and refugee children?', 'Is there such thing as a false alarm?', ' Is there a difference between true and false?', 'Is there such a thing as long lived plasma cells?', ' Is there such a thing as long live plasma cells?', 'Is it possible to get the covid19 vaccine?', ' Can you get the covid19 vaccine?', 'Is sheath immunity the same as herd immunity?', ' Is delta the same as herd immunity?', 'Is there such a thing as covid in humans?', ' Is there such a thing as covid vaccine?', 'Is there such thing as a pandemic?', ' Is there a pandemic in the middle east?', 'Is there a difference between true and false antibodies?', ' Is there a difference between true and false immunity?', 'Do you have to be vaccinated to live in california?', ' Do you have to be vaccinated to stay in california?', 'Is there an emergency room at uab?', ' Is there a delta variant in alaska?', 'Is there a difference between beta and gamma antibodies?', ' Do beta and gamma variants have the same titer?', 'Is there a difference between true and false?', ' Is there a difference between true or false?', 'Is phh positive in ontario?', ' Is there a phh positive in ontario?', 'Is there an increase in life expectancy in the united states?', ' Is the life expectancy of black and hispanic people increasing?', 'Can you get oxygen in a field hospital?', ' Is there a field hospital for the flu?', 'Is there such a thing as an airborne mask?', ' Is there a mask in the air?', 'Is it legal to vaccinate millions of people?', ' Is it legal to vaccinate millions of dollars?', 'Is there a difference between covid and covax?', ' Is there such a thing as covax?', 'Is it safe to get a covid-19 vaccine?', ' Is it harmful to get a covid-19 vaccine?', 'Is it true that children are more likely to be covid than adults?', ' Is it true that children are less likely to be covid than adults?', 'Is there a mask law in arkansas?', ' Is there a mask ban in arkansas?', 'Is the beta variant the same as the gamma variant?', ' Is gamma variant the same as beta variant?', 'Can you get covid without getting vaccinated?', ' Is it possible to get covid without getting vaccinated?', 'Is the delta vietnamese trend true or false?', ' Is delta vietnam true or false?', 'Is it possible to get p1 vaccinated?', ' Is it possible to be vaccinated against p1?', 'Is there a difference between ontario and canada?', ' Is there a 2nd dose of ontario vaccine?', 'Is there a 2nd dose of ontario vaccine?', ' Is it possible to get ontario vaccine?', 'Is it safe to get vaccinated?', ' Is it safe to be vaccinated?', 'Is there a fire department in orange county california?', ' Is there a fire department in california?', 'Is there a ventilated icu in ontario?', ' Is there a ventilator in the icu ontario?', 'Is there a difference between true and false?', ' Is there such thing as a true story?', 'Is the article in the new york times true or false?', ' Is there a vaccine in the united states?', 'Do you have to get vaccinated against covid?', ' Is there such a thing as covid delta?', 'Is there a pandemic of cholera in the world?', ' Is there such thing as a pandemic?', 'Do you have to be vaccinated to get a passport?', ' Can you get a vaccine in the us?', 'Is there such a thing as zero dose children?', ' Is there a vaccine for zero dose children?', 'Is there such a thing as #kumbhmela?', ' Is there such a thing as #kumbhmela?', 'Is there a vaccine for covid19?', ' Is there a vaccine for the pandemic?', 'Is there such a thing as delta vietnam fever?', ' Is there a vaccine for delta vietnam?', 'Is there a difference between true and false?', ' Is there such thing as a true story?', 'Is it illegal to be vaccinated in italy?', ' Is it legal to be unvaccinated in italy?', 'Is the delta variant the same as covid?', ' Is covid and delta the same thing?', 'Is the sars cov vaccine 100% effective?', ' Is the sars vaccine 100% effective?', 'Is delta the worst variant of delta virus?', ' Is delta the worst variant of the delta virus?', 'Is there a cluster of sars-cov-2 infections?', ' Is there a cluster of sars-cov-2 cases?', 'Is there enough evidence to back boosters?', ' Is there a lot of evidence to back back boosters?', 'Is there a difference between delta and gamma variant?', ' Is there a difference between delta and gamma variants?', 'Is the booster shot the same as the cdc?', ' Do you get a booster shot in the cdc?', 'Is there a cure for covidiosis in ontario?', ' Is there a cure for covid19 in ontario?', 'Is it true or false to be hospitalized for delta vs alpha?', ' Is there a difference between delta and alpha?', 'Is there such thing as a seat belt?', ' Is there such thing as a seatbelt?', 'Is the cdc guidance on masking unchanged?', ' Does the cdc have guidance on masking unchanged?', 'Is there such a thing as an iron lung machine?', ' Is the iron lung machine true or false?', 'Is there such a thing as covid 19?', ' Is it possible to get covid19 infection?', 'Is it possible for a virus to spread?', ' Is it possible for a virus to spread to all of us?', 'Is there a difference between true and false immunity?', ' Is the vaccination a true or false vaccine?', 'Is there a 7 day moving average in ontario?', ' Is there a moving average for covid19 ontario?', 'Is it possible to die from covid?', ' Is it possible to get covid from the virus?', 'Is it true that there is not enough ventilation in a building?', ' Is there a difference between true and false ventilation?', 'Is the origin of covid the same as the virus?', ' Is the origin of the covid virus unknown?', 'Is it possible to keep students out of school?', ' Is it possible to keep students in school?', 'Is there a difference between ontario and canada?', ' Is everyone in ontario vaccinated?', 'Is there a vaccine for polio?', ' Is there such thing as a fake vaccine?', 'Is delta the same as covid?', ' Is delta and covid the same thing?', 'Is there a break in the cold chain?', ' Does the bnt162b2 vaccine break the cold chain?', 'Is sharing vaccines a good medicine for vaccine nationalism?', ' Is share doses now a good medicine for vaccine nationalism?', 'Is there such a thing as covid in dhaka?', ' Is there a cure for covid in dhaka?', 'Is acyclovir the same as valacylovir?', ' Is acyclovir and valacylovir the same thing?', 'Is there a vaccine in the us?', ' Is there a vaccine made in india?', 'Is memory b cell response the same after sars?', ' Is there such a thing as memory b cells?', 'Is there a surge in hospitalizations on sunday?', ' Is there a 4 day surge in hospitalizations?', 'Is there a vaccine verification system in france?', ' Is there a vaccine system in france?', 'Is 7/n incentive and eua the same thing?', ' Is 7/n incentive and eua the same?', 'Is there such a thing as low grade inflammation?', ' Is there such a thing as low inflammation?', 'Is it possible to get vaccinated with one shot?', ' Is it possible to get immunity with one shot?', 'Is there such a thing as an infected person?', ' Is there a chance of being infected?', 'Is there a vaccine for t cell immunity?', ' Do you have to get a t cell vaccine?', 'Is delta the same as delta true or false?', ' Is delta the same as delta delta true or false?', 'Is there a ventilated icu in ontario?', ' Is there a ventilator in the icu ontario?', 'Is there a difference between true and false?', ' Is there a covid in the er?', 'Is there a difference between true and false vaccines?', ' Is there a difference between true or false vaccines?', 'Has anyone ever been vaccinated with covaxin?', ' Did anyone get vaccinated with covaxin?', 'Does a smoker have to get vaccinated?', ' Does a smoker have to be vaccinated?']\n"
     ]
    },
    {
     "data": {
      "text/plain": [
       "str"
      ]
     },
     "execution_count": 12,
     "metadata": {},
     "output_type": "execute_result"
    }
   ],
   "source": [
    "list = []\n",
    "s=[]\n",
    "xyz=[]\n",
    "for ind in df.index: \n",
    "    list=df['questions'][ind]\n",
    "    s=list.split(',')\n",
    "    k=len(s)\n",
    "    s[0]=s[0][1:]\n",
    "    s[-1]=s[-1][:k-1]\n",
    "    \n",
    "    n=len(s)\n",
    "    for i in range (n):\n",
    "        s[i]= s[i].replace(\"'\", \"\")\n",
    "        xyz.append(s[i])\n",
    "\n",
    "\n",
    "while(\" \" in xyz) :\n",
    "    xyz.remove(\" \")\n",
    "print(xyz)\n",
    "type(xyz[0])\n",
    "        \n",
    "\n",
    "\n"
   ]
  },
  {
   "cell_type": "code",
   "execution_count": 13,
   "metadata": {},
   "outputs": [
    {
     "name": "stdout",
     "output_type": "stream",
     "text": [
      "Requirement already satisfied: python-Levenshtein in c:\\users\\nihar\\anaconda3\\lib\\site-packages (0.12.2)\n",
      "Requirement already satisfied: setuptools in c:\\users\\nihar\\anaconda3\\lib\\site-packages (from python-Levenshtein) (45.2.0.post20200210)\n",
      "Note: you may need to restart the kernel to use updated packages.\n"
     ]
    },
    {
     "name": "stderr",
     "output_type": "stream",
     "text": [
      "WARNING: You are using pip version 20.1.1; however, version 21.2.4 is available.\n",
      "You should consider upgrading via the 'C:\\Users\\Nihar\\anaconda3\\python.exe -m pip install --upgrade pip' command.\n"
     ]
    }
   ],
   "source": [
    "pip install python-Levenshtein"
   ]
  },
  {
   "cell_type": "code",
   "execution_count": 14,
   "metadata": {},
   "outputs": [],
   "source": [
    "import Levenshtein"
   ]
  },
  {
   "cell_type": "code",
   "execution_count": 17,
   "metadata": {},
   "outputs": [
    {
     "name": "stdout",
     "output_type": "stream",
     "text": [
      "Is delta the fastest covid variant?\n",
      " Is delta the fastest and fittest covid variant?\n",
      " Is it safe to get covid vaccinated?\n"
     ]
    }
   ],
   "source": [
    "n=len(xyz)\n",
    "min_dis=10000000\n",
    "\n",
    "string = 'Is delta variant the fastest covid variant?'\n",
    "list=[]\n",
    "\n",
    "\n",
    "firstmin = 10000000\n",
    "secmin = 10000000\n",
    "thirdmin = 10000000\n",
    "\n",
    "for i in range (n):\n",
    "    dis=Levenshtein.distance(string,xyz[i])\n",
    "    if dis < firstmin:\n",
    "        thirdmin = secmin\n",
    "        secmin = firstmin\n",
    "        firstmin = dis\n",
    "        ans1=xyz[i]\n",
    " \n",
    "    elif dis < secmin:\n",
    "        thirdmin = secmin\n",
    "        secmin = dis\n",
    "        ans2=xyz[i]\n",
    " \n",
    "    elif dis < thirdmin:\n",
    "        thirdmin = dis\n",
    "        ans3=xyz[i]\n",
    "\n",
    "\n",
    "print(ans1)\n",
    "print(ans2)\n",
    "print(ans3)"
   ]
  },
  {
   "cell_type": "code",
   "execution_count": 18,
   "metadata": {},
   "outputs": [
    {
     "name": "stdout",
     "output_type": "stream",
     "text": [
      " Does sars cov-2 suppress the innate immune system?\n",
      " Can sars cov-2 be adapted to a human host?\n",
      " Can you get vaccinated at any age?\n"
     ]
    }
   ],
   "source": [
    "n=len(xyz)\n",
    "min_dis=10000000\n",
    "\n",
    "string = 'Does sars cov-2 affect the innate immune system?'\n",
    "list=[]\n",
    "\n",
    "\n",
    "firstmin = 10000000\n",
    "secmin = 10000000\n",
    "thirdmin = 10000000\n",
    "\n",
    "for i in range (n):\n",
    "    dis=Levenshtein.distance(string,xyz[i])\n",
    "    if dis < firstmin:\n",
    "        thirdmin = secmin\n",
    "        secmin = firstmin\n",
    "        firstmin = dis\n",
    "        ans1=xyz[i]\n",
    " \n",
    "    elif dis < secmin:\n",
    "        thirdmin = secmin\n",
    "        secmin = dis\n",
    "        ans2=xyz[i]\n",
    " \n",
    "    elif dis < thirdmin:\n",
    "        thirdmin = dis\n",
    "        ans3=xyz[i]\n",
    "\n",
    "\n",
    "print(ans1)\n",
    "print(ans2)\n",
    "print(ans3)"
   ]
  },
  {
   "cell_type": "code",
   "execution_count": 19,
   "metadata": {},
   "outputs": [
    {
     "name": "stdout",
     "output_type": "stream",
     "text": [
      " Is there a correlation between vaccination rate and case count?\n",
      "Is the covid vaccine safe and effective?\n",
      " Is there a correlation between vaccines and immunity?\n"
     ]
    }
   ],
   "source": [
    "n=len(xyz)\n",
    "min_dis=10000000\n",
    "\n",
    "string = 'What is the correlation between vaccination rate and case count?'\n",
    "list=[]\n",
    "\n",
    "firstmin = 10000000\n",
    "secmin = 10000000\n",
    "thirdmin = 10000000\n",
    "\n",
    "for i in range (n):\n",
    "    dis=Levenshtein.distance(string,xyz[i])\n",
    "    if dis < firstmin:\n",
    "        thirdmin = secmin\n",
    "        secmin = firstmin\n",
    "        firstmin = dis\n",
    "        ans1=xyz[i]\n",
    " \n",
    "    elif dis < secmin:\n",
    "        thirdmin = secmin\n",
    "        secmin = dis\n",
    "        ans2=xyz[i]\n",
    " \n",
    "    elif dis < thirdmin:\n",
    "        thirdmin = dis\n",
    "        ans3=xyz[i]\n",
    "\n",
    "\n",
    "print(ans1)\n",
    "print(ans2)\n",
    "print(ans3)"
   ]
  },
  {
   "cell_type": "code",
   "execution_count": 20,
   "metadata": {},
   "outputs": [
    {
     "name": "stdout",
     "output_type": "stream",
     "text": [
      "Is it safe to wear a mask?\n",
      " Is it illegal to not wear a mask?\n",
      "Is a mask better than no mask?\n"
     ]
    }
   ],
   "source": [
    "n=len(xyz)\n",
    "min_dis=10000000\n",
    "\n",
    "string = 'Should we still wear a mask?'\n",
    "list=[]\n",
    "\n",
    "firstmin = 10000000\n",
    "secmin = 10000000\n",
    "thirdmin = 10000000\n",
    "\n",
    "for i in range (n):\n",
    "    dis=Levenshtein.distance(string,xyz[i])\n",
    "    if dis < firstmin:\n",
    "        thirdmin = secmin\n",
    "        secmin = firstmin\n",
    "        firstmin = dis\n",
    "        ans1=xyz[i]\n",
    " \n",
    "    elif dis < secmin:\n",
    "        thirdmin = secmin\n",
    "        secmin = dis\n",
    "        ans2=xyz[i]\n",
    " \n",
    "    elif dis < thirdmin:\n",
    "        thirdmin = dis\n",
    "        ans3=xyz[i]\n",
    "\n",
    "\n",
    "print(ans1)\n",
    "print(ans2)\n",
    "print(ans3)"
   ]
  },
  {
   "cell_type": "code",
   "execution_count": 21,
   "metadata": {},
   "outputs": [
    {
     "name": "stdout",
     "output_type": "stream",
     "text": [
      "Is the covid vaccine safe and effective?\n",
      " Is the covax vaccine safe and effective?\n",
      " Is the covax vaccine safe and effective?\n"
     ]
    }
   ],
   "source": [
    "n=len(xyz)\n",
    "min_dis=10000000\n",
    "\n",
    "string = 'Is covid vaccine safe and how much effective is it?'\n",
    "list=[]\n",
    "\n",
    "firstmin = 10000000\n",
    "secmin = 10000000\n",
    "thirdmin = 10000000\n",
    "\n",
    "for i in range (n):\n",
    "    dis=Levenshtein.distance(string,xyz[i])\n",
    "    if dis < firstmin:\n",
    "        thirdmin = secmin\n",
    "        secmin = firstmin\n",
    "        firstmin = dis\n",
    "        ans1=xyz[i]\n",
    " \n",
    "    elif dis < secmin:\n",
    "        thirdmin = secmin\n",
    "        secmin = dis\n",
    "        ans2=xyz[i]\n",
    " \n",
    "    elif dis < thirdmin:\n",
    "        thirdmin = dis\n",
    "        ans3=xyz[i]\n",
    "\n",
    "\n",
    "print(ans1)\n",
    "print(ans2)\n",
    "print(ans3)"
   ]
  },
  {
   "cell_type": "code",
   "execution_count": 22,
   "metadata": {},
   "outputs": [
    {
     "name": "stdout",
     "output_type": "stream",
     "text": [
      "Do you have to be vaccinated against covid19?\n",
      "Do you have to be vaccinated against covid?\n",
      " Do you have to get vaccinated against covid-19?\n"
     ]
    }
   ],
   "source": [
    "n=len(xyz)\n",
    "min_dis=10000000\n",
    "\n",
    "string = 'Do you need to be vaccinated against covid19?'\n",
    "list=[]\n",
    "\n",
    "firstmin = 10000000\n",
    "secmin = 10000000\n",
    "thirdmin = 10000000\n",
    "\n",
    "for i in range (n):\n",
    "    dis=Levenshtein.distance(string,xyz[i])\n",
    "    if dis < firstmin:\n",
    "        thirdmin = secmin\n",
    "        secmin = firstmin\n",
    "        firstmin = dis\n",
    "        ans1=xyz[i]\n",
    " \n",
    "    elif dis < secmin:\n",
    "        thirdmin = secmin\n",
    "        secmin = dis\n",
    "        ans2=xyz[i]\n",
    " \n",
    "    elif dis < thirdmin:\n",
    "        thirdmin = dis\n",
    "        ans3=xyz[i]\n",
    "\n",
    "\n",
    "print(ans1)\n",
    "print(ans2)\n",
    "print(ans3)"
   ]
  },
  {
   "cell_type": "code",
   "execution_count": 23,
   "metadata": {},
   "outputs": [
    {
     "name": "stdout",
     "output_type": "stream",
     "text": [
      "Is covid harmless in kids?\n",
      " Does covishield cause blood clots?\n",
      " Is covid the same as delta?\n"
     ]
    }
   ],
   "source": [
    "n=len(xyz)\n",
    "min_dis=10000000\n",
    "\n",
    "string = 'Does covid cause illness in kids?'\n",
    "list=[]\n",
    "\n",
    "firstmin = 10000000\n",
    "secmin = 10000000\n",
    "thirdmin = 10000000\n",
    "\n",
    "for i in range (n):\n",
    "    dis=Levenshtein.distance(string,xyz[i])\n",
    "    if dis < firstmin:\n",
    "        thirdmin = secmin\n",
    "        secmin = firstmin\n",
    "        firstmin = dis\n",
    "        ans1=xyz[i]\n",
    " \n",
    "    elif dis < secmin:\n",
    "        thirdmin = secmin\n",
    "        secmin = dis\n",
    "        ans2=xyz[i]\n",
    " \n",
    "    elif dis < thirdmin:\n",
    "        thirdmin = dis\n",
    "        ans3=xyz[i]\n",
    "\n",
    "\n",
    "print(ans1)\n",
    "print(ans2)\n",
    "print(ans3)"
   ]
  },
  {
   "cell_type": "code",
   "execution_count": 24,
   "metadata": {},
   "outputs": [
    {
     "name": "stdout",
     "output_type": "stream",
     "text": [
      " Is it normal to have a headache?\n",
      "Is it okay to have orphans in the uk?\n",
      "Is it possible to have cov in the icu?\n"
     ]
    }
   ],
   "source": [
    "n=len(xyz)\n",
    "min_dis=10000000\n",
    "\n",
    "string = 'Is it normal to have a fever or headache?'\n",
    "list=[]\n",
    "\n",
    "firstmin = 10000000\n",
    "secmin = 10000000\n",
    "thirdmin = 10000000\n",
    "\n",
    "for i in range (n):\n",
    "    dis=Levenshtein.distance(string,xyz[i])\n",
    "    if dis < firstmin:\n",
    "        thirdmin = secmin\n",
    "        secmin = firstmin\n",
    "        firstmin = dis\n",
    "        ans1=xyz[i]\n",
    " \n",
    "    elif dis < secmin:\n",
    "        thirdmin = secmin\n",
    "        secmin = dis\n",
    "        ans2=xyz[i]\n",
    " \n",
    "    elif dis < thirdmin:\n",
    "        thirdmin = dis\n",
    "        ans3=xyz[i]\n",
    "\n",
    "\n",
    "print(ans1)\n",
    "print(ans2)\n",
    "print(ans3)"
   ]
  },
  {
   "cell_type": "code",
   "execution_count": 25,
   "metadata": {},
   "outputs": [
    {
     "name": "stdout",
     "output_type": "stream",
     "text": [
      "Is toci and remdesivir the same thing?\n",
      " Are there any new deaths in the uk?\n",
      " Is there a mask in the air?\n"
     ]
    }
   ],
   "source": [
    "n=len(xyz)\n",
    "min_dis=10000000\n",
    "\n",
    "string = 'Are toci and remdesivir the same?'\n",
    "list=[]\n",
    "\n",
    "firstmin = 10000000\n",
    "secmin = 10000000\n",
    "thirdmin = 10000000\n",
    "\n",
    "for i in range (n):\n",
    "    dis=Levenshtein.distance(string,xyz[i])\n",
    "    if dis < firstmin:\n",
    "        thirdmin = secmin\n",
    "        secmin = firstmin\n",
    "        firstmin = dis\n",
    "        ans1=xyz[i]\n",
    " \n",
    "    elif dis < secmin:\n",
    "        thirdmin = secmin\n",
    "        secmin = dis\n",
    "        ans2=xyz[i]\n",
    " \n",
    "    elif dis < thirdmin:\n",
    "        thirdmin = dis\n",
    "        ans3=xyz[i]\n",
    "\n",
    "\n",
    "print(ans1)\n",
    "print(ans2)\n",
    "print(ans3)"
   ]
  },
  {
   "cell_type": "code",
   "execution_count": 26,
   "metadata": {},
   "outputs": [
    {
     "name": "stdout",
     "output_type": "stream",
     "text": [
      "Is there a side effect of moderna vaccine?\n",
      "Is there a 2nd dose of ontario vaccine?\n",
      "Is there a 2nd dose of ontario vaccine?\n"
     ]
    }
   ],
   "source": [
    "n=len(xyz)\n",
    "min_dis=10000000\n",
    "\n",
    "string = 'Is there any side effect of moderna vaccine?'\n",
    "list=[]\n",
    "\n",
    "firstmin = 10000000\n",
    "secmin = 10000000\n",
    "thirdmin = 10000000\n",
    "\n",
    "for i in range (n):\n",
    "    dis=Levenshtein.distance(string,xyz[i])\n",
    "    if dis < firstmin:\n",
    "        thirdmin = secmin\n",
    "        secmin = firstmin\n",
    "        firstmin = dis\n",
    "        ans1=xyz[i]\n",
    " \n",
    "    elif dis < secmin:\n",
    "        thirdmin = secmin\n",
    "        secmin = dis\n",
    "        ans2=xyz[i]\n",
    " \n",
    "    elif dis < thirdmin:\n",
    "        thirdmin = dis\n",
    "        ans3=xyz[i]\n",
    "\n",
    "\n",
    "print(ans1)\n",
    "print(ans2)\n",
    "print(ans3)"
   ]
  },
  {
   "cell_type": "code",
   "execution_count": 27,
   "metadata": {},
   "outputs": [
    {
     "name": "stdout",
     "output_type": "stream",
     "text": [
      " Is the oxford vaccine the same as astra zeneca?\n",
      " Is there such thing as a delta wave?\n",
      "Is the covid vaccine safe and effective?\n"
     ]
    }
   ],
   "source": [
    "n=len(xyz)\n",
    "min_dis=10000000\n",
    "\n",
    "string = 'Are oxford vaccine and astra zeneca same?'\n",
    "list=[]\n",
    "\n",
    "firstmin = 10000000\n",
    "secmin = 10000000\n",
    "thirdmin = 10000000\n",
    "\n",
    "for i in range (n):\n",
    "    dis=Levenshtein.distance(string,xyz[i])\n",
    "    if dis < firstmin:\n",
    "        thirdmin = secmin\n",
    "        secmin = firstmin\n",
    "        firstmin = dis\n",
    "        ans1=xyz[i]\n",
    " \n",
    "    elif dis < secmin:\n",
    "        thirdmin = secmin\n",
    "        secmin = dis\n",
    "        ans2=xyz[i]\n",
    " \n",
    "    elif dis < thirdmin:\n",
    "        thirdmin = dis\n",
    "        ans3=xyz[i]\n",
    "\n",
    "\n",
    "print(ans1)\n",
    "print(ans2)\n",
    "print(ans3)"
   ]
  },
  {
   "cell_type": "code",
   "execution_count": 28,
   "metadata": {},
   "outputs": [
    {
     "name": "stdout",
     "output_type": "stream",
     "text": [
      "Is the cdc guidance on masking unchanged?\n",
      " Does the cdc have guidance on masking unchanged?\n",
      " Is there a mask in the air?\n"
     ]
    }
   ],
   "source": [
    "n=len(xyz)\n",
    "min_dis=10000000\n",
    "\n",
    "string = 'Are cdc guidlines on masking changed?'\n",
    "list=[]\n",
    "\n",
    "firstmin = 10000000\n",
    "secmin = 10000000\n",
    "thirdmin = 10000000\n",
    "\n",
    "for i in range (n):\n",
    "    dis=Levenshtein.distance(string,xyz[i])\n",
    "    if dis < firstmin:\n",
    "        thirdmin = secmin\n",
    "        secmin = firstmin\n",
    "        firstmin = dis\n",
    "        ans1=xyz[i]\n",
    " \n",
    "    elif dis < secmin:\n",
    "        thirdmin = secmin\n",
    "        secmin = dis\n",
    "        ans2=xyz[i]\n",
    " \n",
    "    elif dis < thirdmin:\n",
    "        thirdmin = dis\n",
    "        ans3=xyz[i]\n",
    "\n",
    "\n",
    "print(ans1)\n",
    "print(ans2)\n",
    "print(ans3)"
   ]
  },
  {
   "cell_type": "code",
   "execution_count": 29,
   "metadata": {},
   "outputs": [
    {
     "name": "stdout",
     "output_type": "stream",
     "text": [
      "Is beta and gamma the same thing?\n",
      "Is delta and deltaariant the same thing?\n",
      " Do beta and gamma variants have the same titer?\n"
     ]
    }
   ],
   "source": [
    "n=len(xyz)\n",
    "min_dis=10000000\n",
    "\n",
    "string = 'Are delta and gamma variant different?'\n",
    "list=[]\n",
    "\n",
    "firstmin = 10000000\n",
    "secmin = 10000000\n",
    "thirdmin = 10000000\n",
    "\n",
    "for i in range (n):\n",
    "    dis=Levenshtein.distance(string,xyz[i])\n",
    "    if dis < firstmin:\n",
    "        thirdmin = secmin\n",
    "        secmin = firstmin\n",
    "        firstmin = dis\n",
    "        ans1=xyz[i]\n",
    " \n",
    "    elif dis < secmin:\n",
    "        thirdmin = secmin\n",
    "        secmin = dis\n",
    "        ans2=xyz[i]\n",
    " \n",
    "    elif dis < thirdmin:\n",
    "        thirdmin = dis\n",
    "        ans3=xyz[i]\n",
    "\n",
    "\n",
    "print(ans1)\n",
    "print(ans2)\n",
    "print(ans3)"
   ]
  },
  {
   "cell_type": "code",
   "execution_count": 30,
   "metadata": {},
   "outputs": [
    {
     "name": "stdout",
     "output_type": "stream",
     "text": [
      "Can you take the covid19 vaccine for high blood pressure?\n",
      " Can you get rabies vaccine from a dog bite?\n",
      "Can you get a covid vaccination certificate in quebec?\n"
     ]
    }
   ],
   "source": [
    "n=len(xyz)\n",
    "min_dis=10000000\n",
    "\n",
    "string = 'Can you take the covid19 vaccine if you have high blood pressure?'\n",
    "list=[]\n",
    "\n",
    "firstmin = 10000000\n",
    "secmin = 10000000\n",
    "thirdmin = 10000000\n",
    "\n",
    "for i in range (n):\n",
    "    dis=Levenshtein.distance(string,xyz[i])\n",
    "    if dis < firstmin:\n",
    "        thirdmin = secmin\n",
    "        secmin = firstmin\n",
    "        firstmin = dis\n",
    "        ans1=xyz[i]\n",
    " \n",
    "    elif dis < secmin:\n",
    "        thirdmin = secmin\n",
    "        secmin = dis\n",
    "        ans2=xyz[i]\n",
    " \n",
    "    elif dis < thirdmin:\n",
    "        thirdmin = dis\n",
    "        ans3=xyz[i]\n",
    "\n",
    "\n",
    "print(ans1)\n",
    "print(ans2)\n",
    "print(ans3)"
   ]
  },
  {
   "cell_type": "code",
   "execution_count": null,
   "metadata": {},
   "outputs": [],
   "source": []
  },
  {
   "cell_type": "code",
   "execution_count": null,
   "metadata": {},
   "outputs": [],
   "source": []
  }
 ],
 "metadata": {
  "kernelspec": {
   "display_name": "Python 3",
   "language": "python",
   "name": "python3"
  },
  "language_info": {
   "codemirror_mode": {
    "name": "ipython",
    "version": 3
   },
   "file_extension": ".py",
   "mimetype": "text/x-python",
   "name": "python",
   "nbconvert_exporter": "python",
   "pygments_lexer": "ipython3",
   "version": "3.7.6"
  }
 },
 "nbformat": 4,
 "nbformat_minor": 5
}
