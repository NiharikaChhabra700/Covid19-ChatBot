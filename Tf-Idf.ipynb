{
 "cells": [
  {
   "cell_type": "code",
   "execution_count": 1,
   "id": "5f0ed07d",
   "metadata": {},
   "outputs": [
    {
     "data": {
      "text/html": [
       "<div>\n",
       "<style scoped>\n",
       "    .dataframe tbody tr th:only-of-type {\n",
       "        vertical-align: middle;\n",
       "    }\n",
       "\n",
       "    .dataframe tbody tr th {\n",
       "        vertical-align: top;\n",
       "    }\n",
       "\n",
       "    .dataframe thead th {\n",
       "        text-align: right;\n",
       "    }\n",
       "</style>\n",
       "<table border=\"1\" class=\"dataframe\">\n",
       "  <thead>\n",
       "    <tr style=\"text-align: right;\">\n",
       "      <th></th>\n",
       "      <th>0</th>\n",
       "      <th>1</th>\n",
       "    </tr>\n",
       "  </thead>\n",
       "  <tbody>\n",
       "    <tr>\n",
       "      <th>0</th>\n",
       "      <td>0.0</td>\n",
       "      <td>Catch me live today in association with @VmcLe...</td>\n",
       "    </tr>\n",
       "    <tr>\n",
       "      <th>1</th>\n",
       "      <td>0.0</td>\n",
       "      <td>49/ Other Qs remain unanswered, too:  - We don...</td>\n",
       "    </tr>\n",
       "    <tr>\n",
       "      <th>2</th>\n",
       "      <td>0.0</td>\n",
       "      <td>Proud of @Gavi’s work with @UNICEFZIMBABWE and...</td>\n",
       "    </tr>\n",
       "    <tr>\n",
       "      <th>3</th>\n",
       "      <td>0.0</td>\n",
       "      <td>Belated congratulations to my friends and coll...</td>\n",
       "    </tr>\n",
       "    <tr>\n",
       "      <th>4</th>\n",
       "      <td>1.0</td>\n",
       "      <td>10) with stories like this… it’s clear we need...</td>\n",
       "    </tr>\n",
       "  </tbody>\n",
       "</table>\n",
       "</div>"
      ],
      "text/plain": [
       "     0                                                  1\n",
       "0  0.0  Catch me live today in association with @VmcLe...\n",
       "1  0.0  49/ Other Qs remain unanswered, too:  - We don...\n",
       "2  0.0  Proud of @Gavi’s work with @UNICEFZIMBABWE and...\n",
       "3  0.0  Belated congratulations to my friends and coll...\n",
       "4  1.0  10) with stories like this… it’s clear we need..."
      ]
     },
     "execution_count": 1,
     "metadata": {},
     "output_type": "execute_result"
    }
   ],
   "source": [
    "import pandas as pd\n",
    "import numpy as np\n",
    "\n",
    "df = pd.read_table(\"Final_Annotation.txt\" , sep='\\t' ,header =None)\n",
    "\n",
    "df = df.reindex(np.random.permutation(df.index))\n",
    "\n",
    "df.reset_index(inplace=True, drop=True)\n",
    "\n",
    "df.head()"
   ]
  },
  {
   "cell_type": "code",
   "execution_count": 2,
   "id": "f689f2ed",
   "metadata": {},
   "outputs": [
    {
     "data": {
      "text/html": [
       "<div>\n",
       "<style scoped>\n",
       "    .dataframe tbody tr th:only-of-type {\n",
       "        vertical-align: middle;\n",
       "    }\n",
       "\n",
       "    .dataframe tbody tr th {\n",
       "        vertical-align: top;\n",
       "    }\n",
       "\n",
       "    .dataframe thead th {\n",
       "        text-align: right;\n",
       "    }\n",
       "</style>\n",
       "<table border=\"1\" class=\"dataframe\">\n",
       "  <thead>\n",
       "    <tr style=\"text-align: right;\">\n",
       "      <th></th>\n",
       "      <th>label</th>\n",
       "      <th>tweet_message</th>\n",
       "    </tr>\n",
       "  </thead>\n",
       "  <tbody>\n",
       "    <tr>\n",
       "      <th>0</th>\n",
       "      <td>0.0</td>\n",
       "      <td>Catch me live today in association with @VmcLe...</td>\n",
       "    </tr>\n",
       "    <tr>\n",
       "      <th>1</th>\n",
       "      <td>0.0</td>\n",
       "      <td>49/ Other Qs remain unanswered, too:  - We don...</td>\n",
       "    </tr>\n",
       "    <tr>\n",
       "      <th>2</th>\n",
       "      <td>0.0</td>\n",
       "      <td>Proud of @Gavi’s work with @UNICEFZIMBABWE and...</td>\n",
       "    </tr>\n",
       "    <tr>\n",
       "      <th>3</th>\n",
       "      <td>0.0</td>\n",
       "      <td>Belated congratulations to my friends and coll...</td>\n",
       "    </tr>\n",
       "    <tr>\n",
       "      <th>4</th>\n",
       "      <td>1.0</td>\n",
       "      <td>10) with stories like this… it’s clear we need...</td>\n",
       "    </tr>\n",
       "    <tr>\n",
       "      <th>...</th>\n",
       "      <td>...</td>\n",
       "      <td>...</td>\n",
       "    </tr>\n",
       "    <tr>\n",
       "      <th>1931</th>\n",
       "      <td>1.0</td>\n",
       "      <td>To increase #COVID19 vaccine production we nee...</td>\n",
       "    </tr>\n",
       "    <tr>\n",
       "      <th>1932</th>\n",
       "      <td>0.0</td>\n",
       "      <td>@Slappknutts @SwingSwingWI That's what 1% actu...</td>\n",
       "    </tr>\n",
       "    <tr>\n",
       "      <th>1933</th>\n",
       "      <td>1.0</td>\n",
       "      <td>76/ While there is a drop in neutralizing anti...</td>\n",
       "    </tr>\n",
       "    <tr>\n",
       "      <th>1934</th>\n",
       "      <td>0.0</td>\n",
       "      <td>RT @NYCHealthCommr: NEW: @nycHealthy is implem...</td>\n",
       "    </tr>\n",
       "    <tr>\n",
       "      <th>1935</th>\n",
       "      <td>1.0</td>\n",
       "      <td>2/2 Drive through sites and complex scheduling...</td>\n",
       "    </tr>\n",
       "  </tbody>\n",
       "</table>\n",
       "<p>1936 rows × 2 columns</p>\n",
       "</div>"
      ],
      "text/plain": [
       "      label                                      tweet_message\n",
       "0       0.0  Catch me live today in association with @VmcLe...\n",
       "1       0.0  49/ Other Qs remain unanswered, too:  - We don...\n",
       "2       0.0  Proud of @Gavi’s work with @UNICEFZIMBABWE and...\n",
       "3       0.0  Belated congratulations to my friends and coll...\n",
       "4       1.0  10) with stories like this… it’s clear we need...\n",
       "...     ...                                                ...\n",
       "1931    1.0  To increase #COVID19 vaccine production we nee...\n",
       "1932    0.0  @Slappknutts @SwingSwingWI That's what 1% actu...\n",
       "1933    1.0  76/ While there is a drop in neutralizing anti...\n",
       "1934    0.0  RT @NYCHealthCommr: NEW: @nycHealthy is implem...\n",
       "1935    1.0  2/2 Drive through sites and complex scheduling...\n",
       "\n",
       "[1936 rows x 2 columns]"
      ]
     },
     "execution_count": 2,
     "metadata": {},
     "output_type": "execute_result"
    }
   ],
   "source": [
    "df.columns=[\"label\", \"tweet_message\"]\n",
    "df"
   ]
  },
  {
   "cell_type": "code",
   "execution_count": 3,
   "id": "494b1eeb",
   "metadata": {},
   "outputs": [],
   "source": [
    "df.dropna(subset = [\"label\"], inplace=True)"
   ]
  },
  {
   "cell_type": "code",
   "execution_count": 4,
   "id": "fc4f3905",
   "metadata": {},
   "outputs": [
    {
     "data": {
      "text/html": [
       "<div>\n",
       "<style scoped>\n",
       "    .dataframe tbody tr th:only-of-type {\n",
       "        vertical-align: middle;\n",
       "    }\n",
       "\n",
       "    .dataframe tbody tr th {\n",
       "        vertical-align: top;\n",
       "    }\n",
       "\n",
       "    .dataframe thead th {\n",
       "        text-align: right;\n",
       "    }\n",
       "</style>\n",
       "<table border=\"1\" class=\"dataframe\">\n",
       "  <thead>\n",
       "    <tr style=\"text-align: right;\">\n",
       "      <th></th>\n",
       "      <th>label</th>\n",
       "      <th>tweet_message</th>\n",
       "    </tr>\n",
       "  </thead>\n",
       "  <tbody>\n",
       "    <tr>\n",
       "      <th>0</th>\n",
       "      <td>0.0</td>\n",
       "      <td>Catch me live today in association with @VmcLe...</td>\n",
       "    </tr>\n",
       "    <tr>\n",
       "      <th>1</th>\n",
       "      <td>0.0</td>\n",
       "      <td>49/ Other Qs remain unanswered, too:  - We don...</td>\n",
       "    </tr>\n",
       "    <tr>\n",
       "      <th>2</th>\n",
       "      <td>0.0</td>\n",
       "      <td>Proud of @Gavi’s work with @UNICEFZIMBABWE and...</td>\n",
       "    </tr>\n",
       "    <tr>\n",
       "      <th>3</th>\n",
       "      <td>0.0</td>\n",
       "      <td>Belated congratulations to my friends and coll...</td>\n",
       "    </tr>\n",
       "    <tr>\n",
       "      <th>4</th>\n",
       "      <td>1.0</td>\n",
       "      <td>10) with stories like this… it’s clear we need...</td>\n",
       "    </tr>\n",
       "    <tr>\n",
       "      <th>...</th>\n",
       "      <td>...</td>\n",
       "      <td>...</td>\n",
       "    </tr>\n",
       "    <tr>\n",
       "      <th>1931</th>\n",
       "      <td>1.0</td>\n",
       "      <td>To increase #COVID19 vaccine production we nee...</td>\n",
       "    </tr>\n",
       "    <tr>\n",
       "      <th>1932</th>\n",
       "      <td>0.0</td>\n",
       "      <td>@Slappknutts @SwingSwingWI That's what 1% actu...</td>\n",
       "    </tr>\n",
       "    <tr>\n",
       "      <th>1933</th>\n",
       "      <td>1.0</td>\n",
       "      <td>76/ While there is a drop in neutralizing anti...</td>\n",
       "    </tr>\n",
       "    <tr>\n",
       "      <th>1934</th>\n",
       "      <td>0.0</td>\n",
       "      <td>RT @NYCHealthCommr: NEW: @nycHealthy is implem...</td>\n",
       "    </tr>\n",
       "    <tr>\n",
       "      <th>1935</th>\n",
       "      <td>1.0</td>\n",
       "      <td>2/2 Drive through sites and complex scheduling...</td>\n",
       "    </tr>\n",
       "  </tbody>\n",
       "</table>\n",
       "<p>1889 rows × 2 columns</p>\n",
       "</div>"
      ],
      "text/plain": [
       "      label                                      tweet_message\n",
       "0       0.0  Catch me live today in association with @VmcLe...\n",
       "1       0.0  49/ Other Qs remain unanswered, too:  - We don...\n",
       "2       0.0  Proud of @Gavi’s work with @UNICEFZIMBABWE and...\n",
       "3       0.0  Belated congratulations to my friends and coll...\n",
       "4       1.0  10) with stories like this… it’s clear we need...\n",
       "...     ...                                                ...\n",
       "1931    1.0  To increase #COVID19 vaccine production we nee...\n",
       "1932    0.0  @Slappknutts @SwingSwingWI That's what 1% actu...\n",
       "1933    1.0  76/ While there is a drop in neutralizing anti...\n",
       "1934    0.0  RT @NYCHealthCommr: NEW: @nycHealthy is implem...\n",
       "1935    1.0  2/2 Drive through sites and complex scheduling...\n",
       "\n",
       "[1889 rows x 2 columns]"
      ]
     },
     "execution_count": 4,
     "metadata": {},
     "output_type": "execute_result"
    }
   ],
   "source": [
    "df"
   ]
  },
  {
   "cell_type": "code",
   "execution_count": 5,
   "id": "87bd99d9",
   "metadata": {},
   "outputs": [],
   "source": [
    "df['label'] = df['label'].astype(str)\n",
    "df['tweet_message'] = df['tweet_message'].astype(str)"
   ]
  },
  {
   "cell_type": "code",
   "execution_count": 6,
   "id": "2134e38a",
   "metadata": {},
   "outputs": [],
   "source": [
    "df['label']=df['label'].replace('0.0', 0)\n",
    "df['label']=df['label'].replace('1.0', 1)"
   ]
  },
  {
   "cell_type": "code",
   "execution_count": 7,
   "id": "fe8f1bc7",
   "metadata": {},
   "outputs": [
    {
     "data": {
      "text/html": [
       "<div>\n",
       "<style scoped>\n",
       "    .dataframe tbody tr th:only-of-type {\n",
       "        vertical-align: middle;\n",
       "    }\n",
       "\n",
       "    .dataframe tbody tr th {\n",
       "        vertical-align: top;\n",
       "    }\n",
       "\n",
       "    .dataframe thead th {\n",
       "        text-align: right;\n",
       "    }\n",
       "</style>\n",
       "<table border=\"1\" class=\"dataframe\">\n",
       "  <thead>\n",
       "    <tr style=\"text-align: right;\">\n",
       "      <th></th>\n",
       "      <th>label</th>\n",
       "      <th>tweet_message</th>\n",
       "    </tr>\n",
       "  </thead>\n",
       "  <tbody>\n",
       "    <tr>\n",
       "      <th>0</th>\n",
       "      <td>0</td>\n",
       "      <td>Catch me live today in association with @VmcLe...</td>\n",
       "    </tr>\n",
       "    <tr>\n",
       "      <th>1</th>\n",
       "      <td>0</td>\n",
       "      <td>49/ Other Qs remain unanswered, too:  - We don...</td>\n",
       "    </tr>\n",
       "    <tr>\n",
       "      <th>2</th>\n",
       "      <td>0</td>\n",
       "      <td>Proud of @Gavi’s work with @UNICEFZIMBABWE and...</td>\n",
       "    </tr>\n",
       "    <tr>\n",
       "      <th>3</th>\n",
       "      <td>0</td>\n",
       "      <td>Belated congratulations to my friends and coll...</td>\n",
       "    </tr>\n",
       "    <tr>\n",
       "      <th>4</th>\n",
       "      <td>1</td>\n",
       "      <td>10) with stories like this… it’s clear we need...</td>\n",
       "    </tr>\n",
       "    <tr>\n",
       "      <th>...</th>\n",
       "      <td>...</td>\n",
       "      <td>...</td>\n",
       "    </tr>\n",
       "    <tr>\n",
       "      <th>1931</th>\n",
       "      <td>1</td>\n",
       "      <td>To increase #COVID19 vaccine production we nee...</td>\n",
       "    </tr>\n",
       "    <tr>\n",
       "      <th>1932</th>\n",
       "      <td>0</td>\n",
       "      <td>@Slappknutts @SwingSwingWI That's what 1% actu...</td>\n",
       "    </tr>\n",
       "    <tr>\n",
       "      <th>1933</th>\n",
       "      <td>1</td>\n",
       "      <td>76/ While there is a drop in neutralizing anti...</td>\n",
       "    </tr>\n",
       "    <tr>\n",
       "      <th>1934</th>\n",
       "      <td>0</td>\n",
       "      <td>RT @NYCHealthCommr: NEW: @nycHealthy is implem...</td>\n",
       "    </tr>\n",
       "    <tr>\n",
       "      <th>1935</th>\n",
       "      <td>1</td>\n",
       "      <td>2/2 Drive through sites and complex scheduling...</td>\n",
       "    </tr>\n",
       "  </tbody>\n",
       "</table>\n",
       "<p>1889 rows × 2 columns</p>\n",
       "</div>"
      ],
      "text/plain": [
       "      label                                      tweet_message\n",
       "0         0  Catch me live today in association with @VmcLe...\n",
       "1         0  49/ Other Qs remain unanswered, too:  - We don...\n",
       "2         0  Proud of @Gavi’s work with @UNICEFZIMBABWE and...\n",
       "3         0  Belated congratulations to my friends and coll...\n",
       "4         1  10) with stories like this… it’s clear we need...\n",
       "...     ...                                                ...\n",
       "1931      1  To increase #COVID19 vaccine production we nee...\n",
       "1932      0  @Slappknutts @SwingSwingWI That's what 1% actu...\n",
       "1933      1  76/ While there is a drop in neutralizing anti...\n",
       "1934      0  RT @NYCHealthCommr: NEW: @nycHealthy is implem...\n",
       "1935      1  2/2 Drive through sites and complex scheduling...\n",
       "\n",
       "[1889 rows x 2 columns]"
      ]
     },
     "execution_count": 7,
     "metadata": {},
     "output_type": "execute_result"
    }
   ],
   "source": [
    "df"
   ]
  },
  {
   "cell_type": "code",
   "execution_count": 8,
   "id": "e859dda1",
   "metadata": {
    "scrolled": true
   },
   "outputs": [
    {
     "data": {
      "text/plain": [
       "1    948\n",
       "0    941\n",
       "Name: label, dtype: int64"
      ]
     },
     "execution_count": 8,
     "metadata": {},
     "output_type": "execute_result"
    }
   ],
   "source": [
    "y = df['label']\n",
    "y.value_counts()"
   ]
  },
  {
   "cell_type": "code",
   "execution_count": 9,
   "id": "7386240d",
   "metadata": {},
   "outputs": [],
   "source": [
    "raw_text = df['tweet_message']"
   ]
  },
  {
   "cell_type": "code",
   "execution_count": 10,
   "id": "ffe7c2fc",
   "metadata": {},
   "outputs": [
    {
     "name": "stderr",
     "output_type": "stream",
     "text": [
      "<ipython-input-10-913714a78577>:1: FutureWarning: The default value of regex will change from True to False in a future version.\n",
      "  processed = raw_text.str.replace(r'\\b[\\w\\-.]+?@\\w+?\\.\\w{2,4}\\b',\n",
      "<ipython-input-10-913714a78577>:3: FutureWarning: The default value of regex will change from True to False in a future version.\n",
      "  processed = processed.str.replace(r'(http[s]?\\S+)|(\\w+\\.[A-Za-z]{2,4}\\S*)',\n",
      "<ipython-input-10-913714a78577>:5: FutureWarning: The default value of regex will change from True to False in a future version.\n",
      "  processed = processed.str.replace(r'£|\\$', 'moneysymb')\n",
      "<ipython-input-10-913714a78577>:6: FutureWarning: The default value of regex will change from True to False in a future version.\n",
      "  processed = processed.str.replace(\n",
      "<ipython-input-10-913714a78577>:9: FutureWarning: The default value of regex will change from True to False in a future version.\n",
      "  processed = processed.str.replace(r'\\d+(\\.\\d+)?', 'numbr')\n"
     ]
    }
   ],
   "source": [
    "processed = raw_text.str.replace(r'\\b[\\w\\-.]+?@\\w+?\\.\\w{2,4}\\b',\n",
    "                                 'emailaddr')\n",
    "processed = processed.str.replace(r'(http[s]?\\S+)|(\\w+\\.[A-Za-z]{2,4}\\S*)',\n",
    "                                  'httpaddr')\n",
    "processed = processed.str.replace(r'£|\\$', 'moneysymb')    \n",
    "processed = processed.str.replace(\n",
    "    r'\\b(\\+\\d{1,2}\\s)?\\d?[\\-(.]?\\d{3}\\)?[\\s.-]?\\d{3}[\\s.-]?\\d{4}\\b',\n",
    "    'phonenumbr')    \n",
    "processed = processed.str.replace(r'\\d+(\\.\\d+)?', 'numbr')"
   ]
  },
  {
   "cell_type": "code",
   "execution_count": 11,
   "id": "84514f49",
   "metadata": {
    "scrolled": true
   },
   "outputs": [
    {
     "name": "stderr",
     "output_type": "stream",
     "text": [
      "<ipython-input-11-8cde4bf7ff70>:1: FutureWarning: The default value of regex will change from True to False in a future version.\n",
      "  processed = processed.str.replace(r'[^\\w\\d\\s]', ' ')\n",
      "<ipython-input-11-8cde4bf7ff70>:2: FutureWarning: The default value of regex will change from True to False in a future version.\n",
      "  processed = processed.str.replace(r'\\s+', ' ')\n",
      "<ipython-input-11-8cde4bf7ff70>:3: FutureWarning: The default value of regex will change from True to False in a future version.\n",
      "  processed = processed.str.replace(r'^\\s+|\\s+?$', '')\n"
     ]
    }
   ],
   "source": [
    "processed = processed.str.replace(r'[^\\w\\d\\s]', ' ')\n",
    "processed = processed.str.replace(r'\\s+', ' ')\n",
    "processed = processed.str.replace(r'^\\s+|\\s+?$', '')"
   ]
  },
  {
   "cell_type": "code",
   "execution_count": 12,
   "id": "6eebb7cd",
   "metadata": {},
   "outputs": [],
   "source": [
    "processed = processed.str.lower()"
   ]
  },
  {
   "cell_type": "code",
   "execution_count": 13,
   "id": "614c8e7f",
   "metadata": {},
   "outputs": [],
   "source": [
    "import nltk"
   ]
  },
  {
   "cell_type": "code",
   "execution_count": 14,
   "id": "a474b408",
   "metadata": {},
   "outputs": [],
   "source": [
    "stop_words = nltk.corpus.stopwords.words('english')"
   ]
  },
  {
   "cell_type": "code",
   "execution_count": 15,
   "id": "088dd538",
   "metadata": {},
   "outputs": [],
   "source": [
    "processed = processed.apply(lambda x: ' '.join(\n",
    "    term for term in x.split() if term not in set(stop_words))\n",
    ")"
   ]
  },
  {
   "cell_type": "code",
   "execution_count": 16,
   "id": "ba0246d9",
   "metadata": {},
   "outputs": [],
   "source": [
    "import re"
   ]
  },
  {
   "cell_type": "code",
   "execution_count": 17,
   "id": "98195085",
   "metadata": {},
   "outputs": [],
   "source": [
    "porter = nltk.PorterStemmer()\n",
    "processed = processed.apply(lambda x: ' '.join(\n",
    "    porter.stem(term) for term in x.split())\n",
    ")"
   ]
  },
  {
   "cell_type": "code",
   "execution_count": 18,
   "id": "8cb3d9a6",
   "metadata": {},
   "outputs": [],
   "source": [
    "def preprocess_text(messy_string):\n",
    "    assert(type(messy_string) == str)\n",
    "    cleaned = re.sub(r'\\b[\\w\\-.]+?@\\w+?\\.\\w{2,4}\\b', 'emailaddr', messy_string)\n",
    "    cleaned = re.sub(r'(http[s]?\\S+)|(\\w+\\.[A-Za-z]{2,4}\\S*)', 'httpaddr',\n",
    "                     cleaned)\n",
    "    cleaned = re.sub(r'£|\\$', 'moneysymb', cleaned)\n",
    "    cleaned = re.sub(\n",
    "        r'\\b(\\+\\d{1,2}\\s)?\\d?[\\-(.]?\\d{3}\\)?[\\s.-]?\\d{3}[\\s.-]?\\d{4}\\b',\n",
    "        'phonenumbr', cleaned)\n",
    "    cleaned = re.sub(r'\\d+(\\.\\d+)?', 'numbr', cleaned)\n",
    "    cleaned = re.sub(r'[^\\w\\d\\s]', ' ', cleaned)\n",
    "    cleaned = re.sub(r'\\s+', ' ', cleaned)\n",
    "    cleaned = re.sub(r'^\\s+|\\s+?$', '', cleaned.lower())\n",
    "    return ' '.join(\n",
    "        porter.stem(term) \n",
    "        for term in cleaned.split()\n",
    "        if term not in set(stop_words)\n",
    "    )"
   ]
  },
  {
   "cell_type": "code",
   "execution_count": 19,
   "id": "8afbeed0",
   "metadata": {
    "scrolled": true
   },
   "outputs": [
    {
     "data": {
      "text/plain": [
       "True"
      ]
     },
     "execution_count": 19,
     "metadata": {},
     "output_type": "execute_result"
    }
   ],
   "source": [
    "(processed == raw_text.apply(preprocess_text)).all()"
   ]
  },
  {
   "cell_type": "code",
   "execution_count": 20,
   "id": "55c4f0cf",
   "metadata": {},
   "outputs": [],
   "source": [
    "import sklearn"
   ]
  },
  {
   "cell_type": "code",
   "execution_count": 21,
   "id": "c63f668c",
   "metadata": {},
   "outputs": [],
   "source": [
    "from sklearn.feature_extraction.text import TfidfVectorizer"
   ]
  },
  {
   "cell_type": "code",
   "execution_count": 22,
   "id": "8dbd4013",
   "metadata": {},
   "outputs": [],
   "source": [
    "vectorizer = TfidfVectorizer(ngram_range=(1, 2))\n",
    "X_ngrams = vectorizer.fit_transform(processed)"
   ]
  },
  {
   "cell_type": "code",
   "execution_count": 23,
   "id": "b8f57947",
   "metadata": {
    "scrolled": false
   },
   "outputs": [
    {
     "data": {
      "text/plain": [
       "(1889, 25791)"
      ]
     },
     "execution_count": 23,
     "metadata": {},
     "output_type": "execute_result"
    }
   ],
   "source": [
    "X_ngrams.shape"
   ]
  },
  {
   "cell_type": "code",
   "execution_count": 24,
   "id": "616e8788",
   "metadata": {},
   "outputs": [],
   "source": [
    "from sklearn import preprocessing"
   ]
  },
  {
   "cell_type": "code",
   "execution_count": 25,
   "id": "87913dbe",
   "metadata": {},
   "outputs": [],
   "source": [
    "le = preprocessing.LabelEncoder()"
   ]
  },
  {
   "cell_type": "code",
   "execution_count": 26,
   "id": "1873cac4",
   "metadata": {
    "scrolled": true
   },
   "outputs": [],
   "source": [
    "y_enc = le.fit_transform(y)"
   ]
  },
  {
   "cell_type": "code",
   "execution_count": 27,
   "id": "26d09f1f",
   "metadata": {},
   "outputs": [],
   "source": [
    "from sklearn.model_selection import train_test_split"
   ]
  },
  {
   "cell_type": "code",
   "execution_count": 28,
   "id": "22e6fa78",
   "metadata": {},
   "outputs": [],
   "source": [
    "X_train, X_test, y_train, y_test = train_test_split(\n",
    "    X_ngrams,\n",
    "    y_enc,\n",
    "    test_size=0.2,\n",
    "    random_state=42,\n",
    "    stratify=y_enc\n",
    ")"
   ]
  },
  {
   "cell_type": "markdown",
   "id": "8a1fef0a",
   "metadata": {},
   "source": [
    "NAIVE BAYES"
   ]
  },
  {
   "cell_type": "code",
   "execution_count": 29,
   "id": "a126fcc1",
   "metadata": {},
   "outputs": [
    {
     "data": {
      "text/plain": [
       "MultinomialNB()"
      ]
     },
     "execution_count": 29,
     "metadata": {},
     "output_type": "execute_result"
    }
   ],
   "source": [
    "from sklearn.naive_bayes import MultinomialNB\n",
    "naive_bayes = MultinomialNB()\n",
    "naive_bayes.fit(X_train , y_train)"
   ]
  },
  {
   "cell_type": "code",
   "execution_count": 30,
   "id": "1bdbc8c5",
   "metadata": {
    "scrolled": true
   },
   "outputs": [
    {
     "data": {
      "text/plain": [
       "array([1, 1, 0, 1, 1, 1, 1, 1, 0, 1, 1, 0, 0, 1, 1, 0, 0, 1, 0, 1, 0, 0,\n",
       "       0, 0, 1, 1, 0, 1, 1, 0, 0, 1, 0, 1, 0, 0, 0, 1, 1, 1, 0, 1, 1, 1,\n",
       "       1, 0, 1, 1, 1, 1, 1, 1, 1, 1, 0, 1, 1, 1, 1, 0, 0, 0, 0, 1, 1, 1,\n",
       "       1, 0, 0, 0, 0, 1, 1, 1, 1, 1, 1, 1, 1, 0, 1, 1, 1, 1, 1, 1, 0, 1,\n",
       "       0, 1, 1, 0, 1, 1, 0, 1, 1, 1, 1, 1, 1, 0, 1, 1, 1, 0, 1, 1, 1, 0,\n",
       "       1, 0, 1, 1, 1, 1, 1, 1, 1, 1, 1, 0, 1, 1, 1, 1, 1, 1, 1, 0, 1, 0,\n",
       "       0, 1, 0, 1, 1, 1, 1, 1, 1, 1, 1, 1, 1, 0, 1, 0, 1, 0, 1, 1, 1, 1,\n",
       "       0, 1, 1, 1, 0, 1, 1, 1, 1, 1, 0, 0, 1, 1, 0, 1, 1, 1, 0, 0, 0, 0,\n",
       "       0, 0, 1, 1, 1, 1, 1, 1, 1, 1, 1, 1, 1, 0, 0, 1, 0, 1, 1, 1, 1, 0,\n",
       "       1, 1, 1, 1, 0, 0, 1, 1, 0, 1, 1, 1, 1, 1, 1, 0, 1, 1, 0, 0, 1, 1,\n",
       "       1, 1, 1, 1, 0, 1, 1, 0, 1, 1, 1, 1, 1, 1, 0, 0, 1, 1, 1, 1, 1, 1,\n",
       "       0, 0, 1, 0, 1, 1, 1, 1, 1, 1, 1, 1, 0, 1, 1, 0, 1, 1, 1, 1, 0, 0,\n",
       "       1, 1, 1, 1, 0, 0, 1, 1, 0, 0, 1, 1, 1, 1, 1, 1, 1, 0, 1, 0, 1, 1,\n",
       "       1, 1, 0, 0, 1, 0, 0, 0, 0, 1, 1, 1, 1, 1, 0, 1, 1, 0, 0, 0, 1, 1,\n",
       "       1, 0, 1, 0, 1, 1, 0, 0, 1, 1, 1, 0, 1, 1, 1, 1, 0, 0, 0, 1, 1, 0,\n",
       "       1, 0, 1, 1, 1, 1, 1, 1, 1, 0, 0, 1, 1, 1, 1, 1, 1, 0, 1, 1, 1, 1,\n",
       "       0, 0, 1, 0, 0, 1, 1, 0, 0, 0, 0, 0, 1, 1, 1, 0, 0, 1, 1, 1, 1, 0,\n",
       "       0, 1, 1, 1], dtype=int64)"
      ]
     },
     "execution_count": 30,
     "metadata": {},
     "output_type": "execute_result"
    }
   ],
   "source": [
    "predictions = naive_bayes.predict(X_test)\n",
    "predictions"
   ]
  },
  {
   "cell_type": "code",
   "execution_count": 31,
   "id": "29f99e10",
   "metadata": {
    "scrolled": true
   },
   "outputs": [
    {
     "name": "stdout",
     "output_type": "stream",
     "text": [
      "Accuracy score:  0.7513227513227513\n",
      "Precision score:  0.9315789473684211\n",
      "Recall score:  0.686046511627907\n",
      "F1 score:  0.7901785714285715\n"
     ]
    }
   ],
   "source": [
    "from sklearn.metrics import accuracy_score, precision_score, recall_score, f1_score\n",
    "print('Accuracy score: ', format(accuracy_score(predictions,y_test)))\n",
    "print('Precision score: ', format(precision_score(predictions,y_test)))\n",
    "print('Recall score: ', format(recall_score(predictions,y_test)))\n",
    "print('F1 score: ', format(f1_score(predictions,y_test)))"
   ]
  },
  {
   "cell_type": "code",
   "execution_count": 32,
   "id": "80f6f103",
   "metadata": {},
   "outputs": [
    {
     "name": "stdout",
     "output_type": "stream",
     "text": [
      "              precision    recall  f1-score   support\n",
      "\n",
      "           0       0.89      0.57      0.69       188\n",
      "           1       0.69      0.93      0.79       190\n",
      "\n",
      "    accuracy                           0.75       378\n",
      "   macro avg       0.79      0.75      0.74       378\n",
      "weighted avg       0.79      0.75      0.74       378\n",
      "\n"
     ]
    }
   ],
   "source": [
    "from sklearn.metrics import classification_report\n",
    "print(classification_report(y_test,predictions))"
   ]
  },
  {
   "cell_type": "markdown",
   "id": "4bda8a13",
   "metadata": {},
   "source": [
    "LOGISTIC REGRESSION"
   ]
  },
  {
   "cell_type": "code",
   "execution_count": 33,
   "id": "61897984",
   "metadata": {},
   "outputs": [
    {
     "data": {
      "text/plain": [
       "LogisticRegression(random_state=42)"
      ]
     },
     "execution_count": 33,
     "metadata": {},
     "output_type": "execute_result"
    }
   ],
   "source": [
    "from sklearn.linear_model import LogisticRegression\n",
    "logitic_regression = LogisticRegression(random_state=42)\n",
    "logitic_regression.fit(X_train , y_train)"
   ]
  },
  {
   "cell_type": "code",
   "execution_count": 34,
   "id": "660014e2",
   "metadata": {},
   "outputs": [
    {
     "data": {
      "text/plain": [
       "array([1, 1, 0, 1, 0, 1, 0, 0, 0, 1, 1, 0, 0, 0, 0, 0, 0, 0, 0, 0, 0, 0,\n",
       "       0, 0, 1, 1, 0, 0, 1, 0, 0, 1, 0, 1, 0, 0, 0, 0, 1, 1, 0, 1, 0, 1,\n",
       "       0, 0, 1, 1, 0, 0, 1, 1, 1, 0, 0, 0, 1, 1, 1, 0, 0, 0, 0, 1, 0, 1,\n",
       "       1, 0, 0, 0, 0, 1, 1, 1, 1, 1, 1, 1, 1, 0, 0, 1, 0, 1, 1, 1, 0, 1,\n",
       "       0, 0, 1, 0, 0, 0, 0, 1, 1, 1, 0, 1, 0, 0, 0, 1, 1, 0, 1, 0, 1, 0,\n",
       "       1, 0, 1, 0, 1, 1, 1, 0, 1, 1, 1, 0, 1, 0, 0, 0, 0, 1, 1, 0, 1, 0,\n",
       "       0, 1, 0, 1, 1, 1, 1, 0, 1, 0, 1, 1, 1, 0, 1, 0, 0, 0, 0, 1, 1, 0,\n",
       "       0, 1, 0, 0, 0, 1, 1, 1, 0, 0, 0, 0, 0, 0, 0, 1, 1, 0, 0, 0, 0, 0,\n",
       "       0, 0, 1, 0, 1, 1, 1, 1, 1, 0, 1, 0, 1, 0, 0, 1, 0, 0, 1, 0, 1, 0,\n",
       "       1, 1, 0, 1, 0, 0, 1, 0, 0, 0, 0, 1, 1, 0, 1, 0, 0, 0, 0, 0, 1, 1,\n",
       "       1, 1, 0, 1, 0, 1, 0, 0, 1, 1, 1, 1, 1, 1, 0, 0, 1, 1, 0, 0, 0, 1,\n",
       "       0, 0, 0, 0, 0, 0, 0, 1, 1, 1, 0, 1, 0, 0, 1, 0, 1, 1, 0, 0, 0, 0,\n",
       "       1, 1, 1, 1, 0, 0, 0, 1, 0, 0, 1, 1, 0, 1, 1, 0, 1, 0, 1, 0, 1, 1,\n",
       "       1, 0, 0, 0, 1, 0, 0, 0, 0, 0, 1, 1, 1, 0, 0, 1, 0, 0, 0, 0, 1, 1,\n",
       "       0, 0, 1, 0, 0, 1, 0, 0, 0, 1, 1, 0, 1, 1, 1, 0, 0, 0, 0, 1, 1, 0,\n",
       "       1, 0, 0, 1, 1, 1, 1, 0, 1, 0, 0, 1, 1, 0, 1, 1, 0, 0, 1, 0, 1, 0,\n",
       "       0, 0, 0, 0, 0, 0, 1, 0, 0, 0, 0, 0, 0, 1, 1, 0, 0, 1, 0, 1, 0, 0,\n",
       "       0, 1, 0, 1], dtype=int64)"
      ]
     },
     "execution_count": 34,
     "metadata": {},
     "output_type": "execute_result"
    }
   ],
   "source": [
    "predictions_logistic_regression = logitic_regression.predict(X_test)\n",
    "predictions_logistic_regression"
   ]
  },
  {
   "cell_type": "code",
   "execution_count": 35,
   "id": "0c9a15be",
   "metadata": {
    "scrolled": true
   },
   "outputs": [
    {
     "name": "stdout",
     "output_type": "stream",
     "text": [
      "Accuracy score:  0.7592592592592593\n",
      "Precision score:  0.7157894736842105\n",
      "Recall score:  0.7861271676300579\n",
      "F1 score:  0.7493112947658402\n"
     ]
    }
   ],
   "source": [
    "from sklearn.metrics import accuracy_score, precision_score, recall_score, f1_score\n",
    "print('Accuracy score: ', format(accuracy_score(predictions_logistic_regression,y_test)))\n",
    "print('Precision score: ', format(precision_score(predictions_logistic_regression,y_test)))\n",
    "print('Recall score: ', format(recall_score(predictions_logistic_regression,y_test)))\n",
    "print('F1 score: ', format(f1_score(predictions_logistic_regression,y_test)))"
   ]
  },
  {
   "cell_type": "code",
   "execution_count": 36,
   "id": "65b2a10f",
   "metadata": {},
   "outputs": [
    {
     "name": "stdout",
     "output_type": "stream",
     "text": [
      "              precision    recall  f1-score   support\n",
      "\n",
      "           0       0.87      0.56      0.68       188\n",
      "           1       0.68      0.92      0.78       190\n",
      "\n",
      "    accuracy                           0.74       378\n",
      "   macro avg       0.77      0.74      0.73       378\n",
      "weighted avg       0.77      0.74      0.73       378\n",
      "\n"
     ]
    }
   ],
   "source": [
    "from sklearn.metrics import classification_report\n",
    "print(classification_report(y_test,predictions))"
   ]
  },
  {
   "cell_type": "markdown",
   "id": "181b3c69",
   "metadata": {},
   "source": [
    "MLP CLASSIFIER"
   ]
  },
  {
   "cell_type": "code",
   "execution_count": 37,
   "id": "847cea79",
   "metadata": {},
   "outputs": [],
   "source": [
    "from sklearn.neural_network import MLPClassifier"
   ]
  },
  {
   "cell_type": "code",
   "execution_count": 38,
   "id": "daab3a23",
   "metadata": {},
   "outputs": [
    {
     "data": {
      "text/plain": [
       "MLPClassifier(hidden_layer_sizes=(8, 8, 8), max_iter=500)"
      ]
     },
     "execution_count": 38,
     "metadata": {},
     "output_type": "execute_result"
    }
   ],
   "source": [
    "mlp = MLPClassifier(hidden_layer_sizes=(8,8,8), activation='relu', solver='adam', max_iter=500)\n",
    "mlp.fit(X_train,y_train)"
   ]
  },
  {
   "cell_type": "code",
   "execution_count": 39,
   "id": "8c743cb6",
   "metadata": {},
   "outputs": [],
   "source": [
    "predict_train = mlp.predict(X_train)\n",
    "predict_test = mlp.predict(X_test)"
   ]
  },
  {
   "cell_type": "code",
   "execution_count": 40,
   "id": "14eaa594",
   "metadata": {},
   "outputs": [
    {
     "name": "stdout",
     "output_type": "stream",
     "text": [
      "[[753   0]\n",
      " [  0 758]]\n",
      "              precision    recall  f1-score   support\n",
      "\n",
      "           0       1.00      1.00      1.00       753\n",
      "           1       1.00      1.00      1.00       758\n",
      "\n",
      "    accuracy                           1.00      1511\n",
      "   macro avg       1.00      1.00      1.00      1511\n",
      "weighted avg       1.00      1.00      1.00      1511\n",
      "\n"
     ]
    }
   ],
   "source": [
    "from sklearn.metrics import classification_report,confusion_matrix\n",
    "print(confusion_matrix(y_train,predict_train))\n",
    "print(classification_report(y_train,predict_train))"
   ]
  },
  {
   "cell_type": "code",
   "execution_count": 41,
   "id": "fe1c1f92",
   "metadata": {},
   "outputs": [
    {
     "data": {
      "text/plain": [
       "array([1, 1, 0, 1, 1, 1, 1, 1, 1, 1, 1, 1, 0, 0, 0, 0, 1, 1, 1, 1, 1, 1,\n",
       "       1, 1, 1, 1, 1, 1, 1, 1, 1, 1, 1, 1, 1, 0, 1, 1, 1, 1, 0, 1, 0, 1,\n",
       "       1, 0, 1, 1, 1, 0, 1, 1, 0, 1, 0, 1, 0, 1, 1, 1, 1, 0, 0, 1, 1, 1,\n",
       "       1, 1, 1, 1, 1, 1, 0, 1, 1, 1, 1, 1, 1, 1, 1, 1, 1, 1, 0, 1, 0, 1,\n",
       "       0, 1, 1, 0, 1, 1, 1, 1, 1, 1, 1, 1, 1, 1, 1, 0, 1, 0, 0, 0, 1, 1,\n",
       "       1, 1, 1, 0, 0, 1, 1, 0, 1, 1, 1, 1, 1, 1, 1, 0, 1, 1, 0, 0, 1, 1,\n",
       "       1, 1, 1, 1, 1, 0, 1, 1, 1, 1, 1, 1, 1, 1, 1, 0, 1, 0, 0, 1, 0, 1,\n",
       "       1, 0, 0, 1, 1, 1, 1, 1, 1, 1, 1, 1, 1, 1, 0, 0, 1, 1, 1, 1, 1, 1,\n",
       "       1, 0, 1, 0, 1, 1, 1, 1, 0, 1, 1, 1, 1, 1, 1, 1, 1, 1, 1, 1, 1, 1,\n",
       "       1, 1, 1, 1, 0, 1, 1, 1, 1, 1, 1, 1, 0, 1, 1, 1, 1, 1, 1, 1, 1, 1,\n",
       "       1, 1, 1, 1, 1, 1, 0, 0, 1, 1, 1, 1, 1, 1, 1, 0, 1, 1, 0, 1, 1, 1,\n",
       "       1, 0, 1, 0, 1, 1, 1, 0, 1, 1, 1, 1, 1, 1, 1, 1, 1, 0, 1, 0, 1, 0,\n",
       "       0, 1, 1, 1, 1, 1, 1, 1, 1, 0, 1, 1, 1, 1, 1, 1, 1, 0, 0, 1, 1, 0,\n",
       "       1, 0, 1, 1, 1, 1, 1, 0, 1, 1, 1, 1, 1, 1, 1, 1, 1, 1, 1, 1, 1, 1,\n",
       "       1, 1, 1, 1, 0, 1, 1, 0, 1, 1, 1, 1, 1, 0, 1, 0, 0, 1, 1, 1, 1, 1,\n",
       "       1, 1, 1, 0, 1, 1, 1, 1, 1, 0, 1, 1, 1, 0, 1, 1, 1, 0, 1, 1, 1, 0,\n",
       "       0, 0, 0, 1, 1, 1, 1, 1, 1, 0, 0, 1, 1, 1, 1, 1, 0, 1, 0, 1, 0, 0,\n",
       "       1, 1, 1, 1], dtype=int64)"
      ]
     },
     "execution_count": 41,
     "metadata": {},
     "output_type": "execute_result"
    }
   ],
   "source": [
    "predict_test"
   ]
  },
  {
   "cell_type": "code",
   "execution_count": 42,
   "id": "d969e309",
   "metadata": {
    "scrolled": true
   },
   "outputs": [
    {
     "name": "stdout",
     "output_type": "stream",
     "text": [
      "Accuracy score:  0.6825396825396826\n",
      "Precision score:  0.968421052631579\n",
      "Recall score:  0.6174496644295302\n",
      "F1 score:  0.7540983606557378\n"
     ]
    }
   ],
   "source": [
    "from sklearn.metrics import accuracy_score, precision_score, recall_score, f1_score\n",
    "print('Accuracy score: ', format(accuracy_score(predict_test,y_test)))\n",
    "print('Precision score: ', format(precision_score(predict_test,y_test)))\n",
    "print('Recall score: ', format(recall_score(predict_test,y_test)))\n",
    "print('F1 score: ', format(f1_score(predict_test,y_test)))"
   ]
  },
  {
   "cell_type": "code",
   "execution_count": 43,
   "id": "1b3c8c9d",
   "metadata": {},
   "outputs": [
    {
     "name": "stdout",
     "output_type": "stream",
     "text": [
      "              precision    recall  f1-score   support\n",
      "\n",
      "           0       0.87      0.56      0.68       188\n",
      "           1       0.68      0.92      0.78       190\n",
      "\n",
      "    accuracy                           0.74       378\n",
      "   macro avg       0.77      0.74      0.73       378\n",
      "weighted avg       0.77      0.74      0.73       378\n",
      "\n"
     ]
    }
   ],
   "source": [
    "from sklearn.metrics import classification_report\n",
    "print(classification_report(y_test,predictions))"
   ]
  },
  {
   "cell_type": "markdown",
   "id": "f3884d45",
   "metadata": {},
   "source": [
    "SGD Classifier"
   ]
  },
  {
   "cell_type": "code",
   "execution_count": 44,
   "id": "dc990be4",
   "metadata": {},
   "outputs": [
    {
     "data": {
      "text/plain": [
       "SGDClassifier(loss='modified_huber', random_state=0)"
      ]
     },
     "execution_count": 44,
     "metadata": {},
     "output_type": "execute_result"
    }
   ],
   "source": [
    "from sklearn.linear_model import SGDClassifier\n",
    "model_3 = SGDClassifier(loss='modified_huber', random_state=0, shuffle=True)\n",
    "model_3.fit(X_train , y_train)"
   ]
  },
  {
   "cell_type": "code",
   "execution_count": 45,
   "id": "5c261058",
   "metadata": {},
   "outputs": [
    {
     "data": {
      "text/plain": [
       "array([1, 1, 0, 1, 1, 1, 1, 0, 0, 1, 1, 1, 0, 0, 0, 0, 1, 1, 0, 1, 1, 1,\n",
       "       1, 0, 1, 1, 1, 1, 0, 0, 1, 1, 1, 1, 1, 0, 1, 1, 1, 0, 0, 1, 0, 1,\n",
       "       0, 0, 1, 1, 1, 0, 1, 1, 0, 0, 0, 1, 0, 0, 1, 0, 0, 0, 0, 0, 0, 1,\n",
       "       1, 1, 0, 1, 1, 1, 0, 1, 0, 1, 1, 0, 1, 1, 0, 0, 1, 0, 0, 0, 0, 1,\n",
       "       0, 0, 0, 0, 0, 1, 0, 1, 1, 1, 1, 0, 0, 0, 0, 0, 0, 0, 0, 0, 1, 0,\n",
       "       1, 0, 1, 0, 0, 0, 1, 0, 0, 1, 0, 1, 1, 0, 0, 0, 1, 1, 0, 0, 0, 0,\n",
       "       1, 1, 1, 1, 0, 0, 1, 1, 1, 0, 1, 1, 0, 0, 1, 0, 1, 0, 0, 1, 0, 0,\n",
       "       0, 0, 0, 0, 0, 1, 0, 0, 0, 1, 1, 0, 0, 0, 0, 0, 1, 0, 1, 0, 0, 1,\n",
       "       0, 0, 1, 0, 1, 0, 1, 1, 0, 1, 1, 1, 1, 1, 1, 1, 0, 0, 1, 0, 1, 0,\n",
       "       1, 1, 0, 1, 0, 0, 1, 1, 1, 0, 1, 1, 0, 0, 1, 1, 1, 1, 0, 1, 1, 0,\n",
       "       1, 0, 0, 1, 1, 1, 0, 0, 1, 0, 1, 1, 1, 1, 0, 0, 0, 1, 0, 0, 1, 1,\n",
       "       0, 0, 0, 0, 0, 1, 1, 0, 1, 1, 1, 0, 0, 0, 1, 1, 0, 0, 0, 0, 0, 0,\n",
       "       0, 1, 1, 1, 1, 1, 1, 0, 0, 0, 1, 0, 1, 0, 1, 1, 1, 0, 0, 0, 0, 0,\n",
       "       1, 0, 0, 1, 0, 0, 0, 0, 0, 0, 1, 0, 1, 1, 0, 1, 0, 0, 1, 0, 1, 1,\n",
       "       1, 1, 1, 1, 0, 0, 0, 0, 0, 1, 1, 0, 1, 0, 0, 0, 0, 0, 0, 0, 1, 1,\n",
       "       0, 0, 1, 0, 1, 1, 1, 0, 1, 0, 0, 1, 0, 0, 1, 1, 1, 0, 0, 0, 0, 0,\n",
       "       0, 0, 0, 0, 0, 0, 1, 0, 1, 0, 0, 0, 1, 1, 1, 0, 0, 1, 0, 1, 0, 0,\n",
       "       0, 1, 1, 0], dtype=int64)"
      ]
     },
     "execution_count": 45,
     "metadata": {},
     "output_type": "execute_result"
    }
   ],
   "source": [
    "predictions = model_3.predict(X_test)\n",
    "predictions\n"
   ]
  },
  {
   "cell_type": "code",
   "execution_count": 46,
   "id": "548cba9f",
   "metadata": {},
   "outputs": [
    {
     "name": "stdout",
     "output_type": "stream",
     "text": [
      "Accuracy score:  0.7513227513227513\n",
      "Precision score:  0.7105263157894737\n",
      "Recall score:  0.7758620689655172\n",
      "F1 score:  0.7417582417582419\n"
     ]
    }
   ],
   "source": [
    "from sklearn.metrics import accuracy_score, precision_score, recall_score, f1_score\n",
    "print('Accuracy score: ', format(accuracy_score(predictions,y_test)))\n",
    "print('Precision score: ', format(precision_score(predictions,y_test)))\n",
    "print('Recall score: ', format(recall_score(predictions,y_test)))\n",
    "print('F1 score: ', format(f1_score(predictions,y_test)))"
   ]
  },
  {
   "cell_type": "code",
   "execution_count": 47,
   "id": "936782f6",
   "metadata": {},
   "outputs": [
    {
     "name": "stdout",
     "output_type": "stream",
     "text": [
      "              precision    recall  f1-score   support\n",
      "\n",
      "           0       0.73      0.79      0.76       188\n",
      "           1       0.78      0.71      0.74       190\n",
      "\n",
      "    accuracy                           0.75       378\n",
      "   macro avg       0.75      0.75      0.75       378\n",
      "weighted avg       0.75      0.75      0.75       378\n",
      "\n"
     ]
    }
   ],
   "source": [
    "from sklearn.metrics import classification_report\n",
    "print(classification_report(y_test,predictions))"
   ]
  },
  {
   "cell_type": "markdown",
   "id": "acf12c48",
   "metadata": {},
   "source": [
    "Random Forest"
   ]
  },
  {
   "cell_type": "code",
   "execution_count": 48,
   "id": "17673720",
   "metadata": {},
   "outputs": [
    {
     "data": {
      "text/plain": [
       "RandomForestClassifier()"
      ]
     },
     "execution_count": 48,
     "metadata": {},
     "output_type": "execute_result"
    }
   ],
   "source": [
    "from sklearn.ensemble import RandomForestClassifier\n",
    "model_4 = RandomForestClassifier()\n",
    "model_4.fit(X_train , y_train)"
   ]
  },
  {
   "cell_type": "code",
   "execution_count": 49,
   "id": "c0bd0282",
   "metadata": {},
   "outputs": [
    {
     "data": {
      "text/plain": [
       "array([1, 1, 0, 1, 0, 1, 1, 1, 0, 1, 1, 1, 0, 0, 0, 0, 1, 1, 0, 1, 1, 1,\n",
       "       1, 0, 1, 1, 1, 1, 1, 1, 1, 1, 1, 1, 1, 0, 1, 1, 1, 0, 0, 1, 0, 1,\n",
       "       1, 0, 1, 1, 1, 0, 1, 1, 0, 1, 0, 1, 0, 1, 1, 0, 1, 0, 0, 0, 0, 1,\n",
       "       0, 0, 0, 0, 1, 0, 0, 1, 0, 1, 1, 1, 1, 1, 1, 0, 1, 0, 0, 0, 0, 1,\n",
       "       0, 0, 0, 0, 0, 0, 0, 1, 1, 1, 1, 0, 0, 0, 0, 0, 0, 0, 0, 0, 1, 0,\n",
       "       1, 0, 1, 0, 0, 1, 1, 0, 0, 1, 0, 0, 1, 0, 0, 0, 1, 0, 0, 0, 1, 1,\n",
       "       1, 1, 1, 1, 0, 0, 1, 1, 1, 0, 1, 1, 0, 0, 1, 0, 1, 0, 0, 0, 0, 0,\n",
       "       1, 0, 0, 0, 0, 1, 0, 0, 0, 1, 1, 0, 1, 0, 0, 0, 1, 0, 1, 0, 0, 1,\n",
       "       1, 0, 1, 0, 1, 0, 1, 1, 1, 1, 1, 1, 1, 1, 1, 1, 0, 0, 1, 0, 1, 0,\n",
       "       1, 1, 0, 1, 0, 0, 1, 0, 0, 0, 1, 1, 0, 1, 1, 1, 1, 1, 0, 1, 1, 0,\n",
       "       1, 1, 0, 0, 1, 1, 0, 0, 1, 1, 1, 1, 1, 1, 0, 0, 0, 1, 0, 0, 1, 1,\n",
       "       0, 0, 0, 0, 0, 0, 1, 0, 1, 1, 0, 1, 0, 0, 1, 0, 0, 0, 1, 0, 1, 0,\n",
       "       0, 1, 1, 1, 0, 1, 1, 0, 0, 0, 1, 1, 1, 1, 1, 1, 1, 0, 0, 0, 0, 0,\n",
       "       1, 0, 0, 0, 0, 0, 1, 0, 0, 1, 1, 0, 1, 1, 0, 1, 0, 1, 0, 0, 1, 1,\n",
       "       1, 0, 1, 0, 0, 0, 1, 0, 1, 1, 0, 0, 0, 0, 0, 0, 0, 0, 0, 0, 1, 0,\n",
       "       0, 0, 1, 0, 1, 1, 1, 1, 1, 0, 0, 1, 1, 0, 0, 1, 1, 0, 1, 0, 1, 0,\n",
       "       0, 0, 0, 0, 0, 0, 1, 1, 1, 0, 0, 1, 1, 1, 1, 0, 0, 0, 0, 0, 1, 0,\n",
       "       0, 1, 0, 1], dtype=int64)"
      ]
     },
     "execution_count": 49,
     "metadata": {},
     "output_type": "execute_result"
    }
   ],
   "source": [
    "predictions = model_4.predict(X_test)\n",
    "predictions"
   ]
  },
  {
   "cell_type": "code",
   "execution_count": 50,
   "id": "78955381",
   "metadata": {},
   "outputs": [
    {
     "name": "stdout",
     "output_type": "stream",
     "text": [
      "Accuracy score:  0.7777777777777778\n",
      "Precision score:  0.7631578947368421\n",
      "Recall score:  0.7880434782608695\n",
      "F1 score:  0.7754010695187166\n"
     ]
    }
   ],
   "source": [
    "from sklearn.metrics import accuracy_score, precision_score, recall_score, f1_score\n",
    "print('Accuracy score: ', format(accuracy_score(predictions,y_test)))\n",
    "print('Precision score: ', format(precision_score(predictions,y_test)))\n",
    "print('Recall score: ', format(recall_score(predictions,y_test)))\n",
    "print('F1 score: ', format(f1_score(predictions,y_test)))"
   ]
  },
  {
   "cell_type": "code",
   "execution_count": 51,
   "id": "747c1c0f",
   "metadata": {},
   "outputs": [
    {
     "name": "stdout",
     "output_type": "stream",
     "text": [
      "              precision    recall  f1-score   support\n",
      "\n",
      "           0       0.77      0.79      0.78       188\n",
      "           1       0.79      0.76      0.78       190\n",
      "\n",
      "    accuracy                           0.78       378\n",
      "   macro avg       0.78      0.78      0.78       378\n",
      "weighted avg       0.78      0.78      0.78       378\n",
      "\n"
     ]
    }
   ],
   "source": [
    "from sklearn.metrics import classification_report\n",
    "print(classification_report(y_test,predictions))"
   ]
  },
  {
   "cell_type": "markdown",
   "id": "72397629",
   "metadata": {},
   "source": [
    "Gradient Boosting"
   ]
  },
  {
   "cell_type": "code",
   "execution_count": 52,
   "id": "f2f2f7a7",
   "metadata": {},
   "outputs": [
    {
     "data": {
      "text/plain": [
       "GradientBoostingClassifier()"
      ]
     },
     "execution_count": 52,
     "metadata": {},
     "output_type": "execute_result"
    }
   ],
   "source": [
    "from sklearn.ensemble import GradientBoostingClassifier\n",
    "model_5 = GradientBoostingClassifier()\n",
    "model_5.fit(X_train , y_train)"
   ]
  },
  {
   "cell_type": "code",
   "execution_count": 53,
   "id": "186bff6f",
   "metadata": {},
   "outputs": [
    {
     "data": {
      "text/plain": [
       "array([1, 1, 0, 1, 0, 1, 1, 1, 1, 1, 1, 1, 0, 0, 0, 0, 0, 1, 0, 1, 1, 1,\n",
       "       1, 0, 1, 1, 1, 1, 1, 0, 1, 1, 1, 1, 1, 0, 1, 1, 1, 1, 0, 1, 0, 1,\n",
       "       1, 0, 1, 1, 1, 0, 1, 1, 0, 1, 1, 1, 0, 1, 1, 0, 1, 0, 0, 0, 1, 1,\n",
       "       1, 1, 0, 0, 1, 0, 1, 1, 0, 1, 1, 1, 1, 1, 1, 0, 1, 1, 0, 1, 0, 1,\n",
       "       0, 0, 1, 0, 0, 0, 0, 1, 1, 1, 1, 0, 0, 0, 0, 1, 0, 0, 0, 0, 1, 0,\n",
       "       1, 0, 1, 0, 0, 1, 1, 0, 0, 1, 0, 0, 0, 0, 0, 0, 1, 0, 0, 0, 1, 1,\n",
       "       1, 1, 1, 1, 0, 1, 1, 0, 1, 0, 1, 1, 0, 0, 0, 0, 1, 0, 0, 0, 0, 1,\n",
       "       1, 0, 0, 0, 0, 0, 0, 0, 0, 1, 1, 0, 1, 1, 0, 0, 1, 0, 1, 0, 1, 1,\n",
       "       1, 0, 1, 0, 1, 0, 1, 1, 1, 1, 1, 0, 1, 1, 1, 1, 0, 0, 1, 0, 1, 0,\n",
       "       1, 1, 0, 1, 0, 0, 1, 0, 0, 0, 1, 1, 0, 1, 1, 1, 0, 1, 0, 1, 1, 0,\n",
       "       1, 1, 0, 1, 1, 1, 0, 0, 1, 1, 1, 1, 1, 1, 0, 0, 0, 1, 0, 1, 1, 1,\n",
       "       1, 0, 0, 0, 0, 1, 1, 0, 1, 1, 0, 1, 0, 0, 1, 1, 0, 0, 0, 0, 0, 0,\n",
       "       0, 1, 1, 1, 0, 1, 0, 0, 1, 0, 1, 1, 1, 1, 1, 1, 1, 0, 0, 0, 0, 0,\n",
       "       1, 0, 0, 1, 0, 1, 1, 0, 0, 1, 1, 1, 1, 1, 0, 0, 0, 1, 1, 0, 1, 0,\n",
       "       1, 0, 1, 0, 0, 1, 0, 1, 1, 1, 0, 0, 0, 0, 0, 0, 0, 0, 0, 0, 0, 0,\n",
       "       0, 0, 1, 0, 1, 1, 1, 1, 1, 0, 0, 1, 1, 0, 0, 1, 1, 0, 1, 0, 0, 0,\n",
       "       0, 0, 0, 1, 0, 0, 1, 1, 1, 0, 0, 1, 1, 1, 1, 0, 0, 1, 0, 0, 1, 0,\n",
       "       0, 1, 1, 1], dtype=int64)"
      ]
     },
     "execution_count": 53,
     "metadata": {},
     "output_type": "execute_result"
    }
   ],
   "source": [
    "predictions = model_5.predict(X_test)\n",
    "predictions"
   ]
  },
  {
   "cell_type": "code",
   "execution_count": 54,
   "id": "63f700d9",
   "metadata": {},
   "outputs": [
    {
     "name": "stdout",
     "output_type": "stream",
     "text": [
      "Accuracy score:  0.7566137566137566\n",
      "Precision score:  0.7789473684210526\n",
      "Recall score:  0.7474747474747475\n",
      "F1 score:  0.7628865979381443\n"
     ]
    }
   ],
   "source": [
    "from sklearn.metrics import accuracy_score, precision_score, recall_score, f1_score\n",
    "print('Accuracy score: ', format(accuracy_score(predictions,y_test)))\n",
    "print('Precision score: ', format(precision_score(predictions,y_test)))\n",
    "print('Recall score: ', format(recall_score(predictions,y_test)))\n",
    "print('F1 score: ', format(f1_score(predictions,y_test)))"
   ]
  },
  {
   "cell_type": "code",
   "execution_count": 55,
   "id": "220fe89b",
   "metadata": {},
   "outputs": [
    {
     "name": "stdout",
     "output_type": "stream",
     "text": [
      "              precision    recall  f1-score   support\n",
      "\n",
      "           0       0.77      0.73      0.75       188\n",
      "           1       0.75      0.78      0.76       190\n",
      "\n",
      "    accuracy                           0.76       378\n",
      "   macro avg       0.76      0.76      0.76       378\n",
      "weighted avg       0.76      0.76      0.76       378\n",
      "\n"
     ]
    }
   ],
   "source": [
    "from sklearn.metrics import classification_report\n",
    "print(classification_report(y_test,predictions))"
   ]
  },
  {
   "cell_type": "markdown",
   "id": "7b426649",
   "metadata": {},
   "source": [
    "KNN Classifier"
   ]
  },
  {
   "cell_type": "code",
   "execution_count": 56,
   "id": "10bb307f",
   "metadata": {},
   "outputs": [
    {
     "data": {
      "text/plain": [
       "KNeighborsClassifier(n_neighbors=7)"
      ]
     },
     "execution_count": 56,
     "metadata": {},
     "output_type": "execute_result"
    }
   ],
   "source": [
    "from sklearn.neighbors import KNeighborsClassifier\n",
    "\n",
    "model_6 = KNeighborsClassifier(n_neighbors=7)\n",
    "model_6.fit(X_train , y_train)"
   ]
  },
  {
   "cell_type": "code",
   "execution_count": 57,
   "id": "62c4d705",
   "metadata": {},
   "outputs": [
    {
     "data": {
      "text/plain": [
       "array([1, 1, 0, 1, 1, 1, 1, 0, 0, 1, 1, 1, 0, 0, 0, 0, 1, 1, 0, 1, 1, 1,\n",
       "       1, 0, 1, 1, 0, 1, 1, 0, 1, 1, 1, 1, 1, 0, 1, 1, 1, 0, 0, 1, 0, 1,\n",
       "       1, 0, 1, 1, 1, 0, 1, 1, 0, 1, 0, 1, 0, 1, 1, 0, 0, 0, 0, 1, 1, 0,\n",
       "       1, 1, 1, 1, 1, 1, 0, 1, 0, 1, 1, 0, 1, 1, 0, 1, 1, 1, 0, 1, 0, 1,\n",
       "       0, 0, 1, 0, 0, 1, 0, 1, 1, 1, 1, 1, 0, 0, 1, 0, 1, 0, 0, 0, 1, 0,\n",
       "       1, 0, 1, 0, 0, 0, 1, 0, 1, 1, 1, 1, 1, 0, 1, 0, 1, 1, 0, 0, 1, 0,\n",
       "       1, 1, 0, 1, 0, 0, 1, 0, 1, 0, 0, 1, 0, 1, 1, 0, 1, 0, 0, 1, 0, 0,\n",
       "       0, 0, 0, 0, 1, 1, 0, 0, 0, 0, 1, 0, 0, 1, 0, 0, 1, 0, 1, 0, 0, 1,\n",
       "       0, 0, 0, 1, 1, 0, 1, 1, 0, 1, 1, 1, 0, 1, 1, 1, 0, 0, 0, 0, 1, 0,\n",
       "       1, 1, 0, 1, 0, 0, 1, 1, 0, 1, 1, 1, 0, 1, 1, 1, 1, 1, 0, 1, 1, 0,\n",
       "       1, 1, 0, 1, 0, 1, 0, 0, 1, 1, 1, 1, 0, 0, 0, 0, 1, 0, 0, 1, 1, 1,\n",
       "       0, 0, 1, 0, 1, 1, 1, 0, 1, 1, 1, 0, 1, 0, 0, 1, 1, 0, 1, 0, 0, 0,\n",
       "       0, 1, 1, 1, 1, 1, 1, 1, 1, 0, 1, 0, 1, 0, 0, 0, 1, 1, 1, 1, 0, 0,\n",
       "       0, 0, 1, 1, 1, 1, 1, 0, 0, 0, 1, 1, 1, 1, 1, 1, 0, 0, 1, 1, 1, 1,\n",
       "       1, 1, 1, 1, 0, 1, 1, 1, 0, 1, 1, 0, 0, 0, 1, 0, 0, 0, 0, 1, 1, 0,\n",
       "       1, 0, 1, 0, 1, 1, 1, 0, 1, 0, 1, 1, 0, 0, 0, 1, 1, 0, 0, 0, 1, 0,\n",
       "       0, 0, 0, 0, 0, 1, 1, 1, 1, 0, 0, 1, 1, 1, 1, 0, 0, 0, 0, 1, 0, 0,\n",
       "       1, 1, 0, 0], dtype=int64)"
      ]
     },
     "execution_count": 57,
     "metadata": {},
     "output_type": "execute_result"
    }
   ],
   "source": [
    "predictions = model_6.predict(X_test)\n",
    "predictions"
   ]
  },
  {
   "cell_type": "code",
   "execution_count": 58,
   "id": "22108ced",
   "metadata": {},
   "outputs": [
    {
     "name": "stdout",
     "output_type": "stream",
     "text": [
      "Accuracy score:  0.7142857142857143\n",
      "Precision score:  0.7631578947368421\n",
      "Recall score:  0.6971153846153846\n",
      "F1 score:  0.7286432160804022\n"
     ]
    }
   ],
   "source": [
    "from sklearn.metrics import accuracy_score, precision_score, recall_score, f1_score\n",
    "print('Accuracy score: ', format(accuracy_score(predictions,y_test)))\n",
    "print('Precision score: ', format(precision_score(predictions,y_test)))\n",
    "print('Recall score: ', format(recall_score(predictions,y_test)))\n",
    "print('F1 score: ', format(f1_score(predictions,y_test)))"
   ]
  },
  {
   "cell_type": "code",
   "execution_count": 59,
   "id": "207147c3",
   "metadata": {},
   "outputs": [
    {
     "name": "stdout",
     "output_type": "stream",
     "text": [
      "              precision    recall  f1-score   support\n",
      "\n",
      "           0       0.74      0.66      0.70       188\n",
      "           1       0.70      0.76      0.73       190\n",
      "\n",
      "    accuracy                           0.71       378\n",
      "   macro avg       0.72      0.71      0.71       378\n",
      "weighted avg       0.72      0.71      0.71       378\n",
      "\n"
     ]
    }
   ],
   "source": [
    "from sklearn.metrics import classification_report\n",
    "print(classification_report(y_test,predictions))"
   ]
  },
  {
   "cell_type": "markdown",
   "id": "2b69e7cd",
   "metadata": {},
   "source": [
    "SVM Classifier"
   ]
  },
  {
   "cell_type": "code",
   "execution_count": 35,
   "id": "5072d8a9",
   "metadata": {},
   "outputs": [
    {
     "data": {
      "text/plain": [
       "LinearSVC()"
      ]
     },
     "execution_count": 35,
     "metadata": {},
     "output_type": "execute_result"
    }
   ],
   "source": [
    "from sklearn.svm import LinearSVC\n",
    "model_7 = LinearSVC()\n",
    "model_7.fit(X_train , y_train)"
   ]
  },
  {
   "cell_type": "code",
   "execution_count": 36,
   "id": "c4814593",
   "metadata": {},
   "outputs": [
    {
     "data": {
      "text/plain": [
       "array([1, 1, 0, 1, 0, 1, 0, 0, 0, 1, 1, 0, 0, 0, 1, 0, 0, 1, 0, 1, 0, 0,\n",
       "       0, 0, 1, 1, 0, 1, 1, 0, 0, 1, 0, 1, 0, 0, 0, 0, 1, 1, 0, 1, 0, 1,\n",
       "       0, 0, 1, 1, 1, 1, 1, 1, 1, 1, 0, 0, 1, 1, 0, 0, 0, 0, 0, 1, 0, 1,\n",
       "       1, 0, 0, 0, 0, 1, 0, 1, 1, 1, 1, 0, 1, 0, 0, 1, 0, 1, 0, 1, 0, 1,\n",
       "       0, 0, 1, 0, 0, 0, 0, 1, 1, 1, 0, 1, 0, 0, 0, 1, 1, 0, 0, 0, 1, 0,\n",
       "       1, 0, 1, 0, 1, 1, 1, 1, 1, 1, 1, 0, 1, 0, 0, 0, 0, 1, 0, 0, 1, 0,\n",
       "       0, 1, 0, 1, 1, 1, 1, 1, 1, 0, 1, 1, 1, 0, 1, 0, 0, 0, 0, 1, 1, 0,\n",
       "       0, 1, 0, 0, 0, 1, 1, 1, 0, 0, 0, 0, 0, 0, 0, 1, 1, 1, 0, 0, 0, 0,\n",
       "       0, 0, 1, 0, 0, 1, 0, 1, 1, 0, 1, 0, 1, 0, 0, 1, 0, 0, 0, 1, 1, 0,\n",
       "       1, 1, 0, 1, 0, 0, 1, 1, 0, 0, 0, 1, 1, 0, 1, 0, 0, 0, 0, 0, 1, 1,\n",
       "       1, 1, 1, 1, 0, 1, 0, 0, 0, 1, 1, 1, 1, 1, 0, 0, 0, 1, 0, 0, 1, 1,\n",
       "       0, 0, 0, 0, 0, 1, 0, 1, 1, 1, 0, 1, 0, 0, 1, 0, 1, 1, 0, 1, 0, 0,\n",
       "       0, 0, 1, 1, 0, 0, 0, 1, 0, 0, 1, 1, 0, 1, 1, 1, 1, 0, 1, 0, 1, 1,\n",
       "       1, 0, 0, 0, 1, 0, 0, 0, 0, 0, 1, 1, 1, 0, 0, 1, 0, 0, 0, 0, 1, 1,\n",
       "       0, 0, 1, 0, 0, 1, 0, 0, 0, 1, 1, 0, 1, 0, 1, 0, 0, 0, 0, 1, 1, 0,\n",
       "       1, 0, 1, 1, 0, 1, 1, 0, 1, 0, 0, 1, 1, 0, 1, 1, 0, 0, 1, 0, 1, 1,\n",
       "       0, 0, 1, 0, 0, 0, 1, 0, 0, 0, 0, 0, 0, 1, 1, 0, 1, 1, 0, 1, 0, 0,\n",
       "       0, 1, 1, 1], dtype=int64)"
      ]
     },
     "execution_count": 36,
     "metadata": {},
     "output_type": "execute_result"
    }
   ],
   "source": [
    "predictions = model_7.predict(X_test)\n",
    "predictions"
   ]
  },
  {
   "cell_type": "code",
   "execution_count": 37,
   "id": "59da3138",
   "metadata": {
    "scrolled": true
   },
   "outputs": [
    {
     "name": "stdout",
     "output_type": "stream",
     "text": [
      "Accuracy score:  0.783068783068783\n",
      "Precision score:  0.7421052631578947\n",
      "Recall score:  0.8103448275862069\n",
      "F1 score:  0.7747252747252746\n"
     ]
    }
   ],
   "source": [
    "from sklearn.metrics import accuracy_score, precision_score, recall_score, f1_score\n",
    "print('Accuracy score: ', format(accuracy_score(predictions,y_test)))\n",
    "print('Precision score: ', format(precision_score(predictions,y_test)))\n",
    "print('Recall score: ', format(recall_score(predictions,y_test)))\n",
    "print('F1 score: ', format(f1_score(predictions,y_test)))"
   ]
  },
  {
   "cell_type": "code",
   "execution_count": 38,
   "id": "864e8a3d",
   "metadata": {},
   "outputs": [
    {
     "name": "stdout",
     "output_type": "stream",
     "text": [
      "              precision    recall  f1-score   support\n",
      "\n",
      "           0       0.76      0.82      0.79       188\n",
      "           1       0.81      0.74      0.77       190\n",
      "\n",
      "    accuracy                           0.78       378\n",
      "   macro avg       0.79      0.78      0.78       378\n",
      "weighted avg       0.79      0.78      0.78       378\n",
      "\n"
     ]
    }
   ],
   "source": [
    "from sklearn.metrics import classification_report\n",
    "print(classification_report(y_test,predictions))"
   ]
  },
  {
   "cell_type": "markdown",
   "id": "16b37def",
   "metadata": {},
   "source": [
    "SVM USING HYPERPARAMETER TUNING"
   ]
  },
  {
   "cell_type": "code",
   "execution_count": 39,
   "id": "46f2c910",
   "metadata": {},
   "outputs": [],
   "source": [
    "from sklearn.model_selection import GridSearchCV"
   ]
  },
  {
   "cell_type": "code",
   "execution_count": 40,
   "id": "efdef160",
   "metadata": {},
   "outputs": [],
   "source": [
    "import pandas as pd\n",
    "import numpy as np\n",
    "from sklearn.metrics import classification_report, confusion_matrix\n",
    "from sklearn.datasets import load_breast_cancer\n",
    "from sklearn.svm import SVC"
   ]
  },
  {
   "cell_type": "code",
   "execution_count": 71,
   "id": "1d8783e2",
   "metadata": {},
   "outputs": [],
   "source": [
    "# defining parameter range\n",
    "param_grid = {'C': [0.1,0.5,1, 10, 100, 1000],\n",
    "             'penalty': ['l1','l2'],\n",
    "             'dual':[False,True],\n",
    "             'multi_class': ['ovr', 'crammer_singer'],\n",
    "             'loss': ['hinge', 'squared_hinge'],\n",
    "             'fit_intercept':[False,True]} "
   ]
  },
  {
   "cell_type": "code",
   "execution_count": 72,
   "id": "f75dda9d",
   "metadata": {},
   "outputs": [],
   "source": [
    "grid = GridSearchCV(LinearSVC(), param_grid, refit = True, verbose = 3)"
   ]
  },
  {
   "cell_type": "code",
   "execution_count": 73,
   "id": "1b6be26d",
   "metadata": {
    "scrolled": false
   },
   "outputs": [
    {
     "name": "stdout",
     "output_type": "stream",
     "text": [
      "Fitting 5 folds for each of 192 candidates, totalling 960 fits\n",
      "[CV 1/5] END C=0.1, dual=False, fit_intercept=False, loss=hinge, multi_class=ovr, penalty=l1; total time=   0.0s\n",
      "[CV 2/5] END C=0.1, dual=False, fit_intercept=False, loss=hinge, multi_class=ovr, penalty=l1; total time=   0.0s\n",
      "[CV 3/5] END C=0.1, dual=False, fit_intercept=False, loss=hinge, multi_class=ovr, penalty=l1; total time=   0.0s\n",
      "[CV 4/5] END C=0.1, dual=False, fit_intercept=False, loss=hinge, multi_class=ovr, penalty=l1; total time=   0.0s\n",
      "[CV 5/5] END C=0.1, dual=False, fit_intercept=False, loss=hinge, multi_class=ovr, penalty=l1; total time=   0.0s\n",
      "[CV 1/5] END C=0.1, dual=False, fit_intercept=False, loss=hinge, multi_class=ovr, penalty=l2; total time=   0.0s\n",
      "[CV 2/5] END C=0.1, dual=False, fit_intercept=False, loss=hinge, multi_class=ovr, penalty=l2; total time=   0.0s\n",
      "[CV 3/5] END C=0.1, dual=False, fit_intercept=False, loss=hinge, multi_class=ovr, penalty=l2; total time=   0.0s\n",
      "[CV 4/5] END C=0.1, dual=False, fit_intercept=False, loss=hinge, multi_class=ovr, penalty=l2; total time=   0.0s\n",
      "[CV 5/5] END C=0.1, dual=False, fit_intercept=False, loss=hinge, multi_class=ovr, penalty=l2; total time=   0.0s\n",
      "[CV 1/5] END C=0.1, dual=False, fit_intercept=False, loss=hinge, multi_class=crammer_singer, penalty=l1; total time=   0.0s\n",
      "[CV 2/5] END C=0.1, dual=False, fit_intercept=False, loss=hinge, multi_class=crammer_singer, penalty=l1; total time=   0.0s\n",
      "[CV 3/5] END C=0.1, dual=False, fit_intercept=False, loss=hinge, multi_class=crammer_singer, penalty=l1; total time=   0.0s\n",
      "[CV 4/5] END C=0.1, dual=False, fit_intercept=False, loss=hinge, multi_class=crammer_singer, penalty=l1; total time=   0.0s\n",
      "[CV 5/5] END C=0.1, dual=False, fit_intercept=False, loss=hinge, multi_class=crammer_singer, penalty=l1; total time=   0.0s\n",
      "[CV 1/5] END C=0.1, dual=False, fit_intercept=False, loss=hinge, multi_class=crammer_singer, penalty=l2; total time=   0.0s\n",
      "[CV 2/5] END C=0.1, dual=False, fit_intercept=False, loss=hinge, multi_class=crammer_singer, penalty=l2; total time=   0.0s\n",
      "[CV 3/5] END C=0.1, dual=False, fit_intercept=False, loss=hinge, multi_class=crammer_singer, penalty=l2; total time=   0.0s\n",
      "[CV 4/5] END C=0.1, dual=False, fit_intercept=False, loss=hinge, multi_class=crammer_singer, penalty=l2; total time=   0.0s\n",
      "[CV 5/5] END C=0.1, dual=False, fit_intercept=False, loss=hinge, multi_class=crammer_singer, penalty=l2; total time=   0.0s\n",
      "[CV 1/5] END C=0.1, dual=False, fit_intercept=False, loss=squared_hinge, multi_class=ovr, penalty=l1; total time=   0.0s\n",
      "[CV 2/5] END C=0.1, dual=False, fit_intercept=False, loss=squared_hinge, multi_class=ovr, penalty=l1; total time=   0.0s\n",
      "[CV 3/5] END C=0.1, dual=False, fit_intercept=False, loss=squared_hinge, multi_class=ovr, penalty=l1; total time=   0.0s\n",
      "[CV 4/5] END C=0.1, dual=False, fit_intercept=False, loss=squared_hinge, multi_class=ovr, penalty=l1; total time=   0.0s\n",
      "[CV 5/5] END C=0.1, dual=False, fit_intercept=False, loss=squared_hinge, multi_class=ovr, penalty=l1; total time=   0.0s\n",
      "[CV 1/5] END C=0.1, dual=False, fit_intercept=False, loss=squared_hinge, multi_class=ovr, penalty=l2; total time=   0.0s\n",
      "[CV 2/5] END C=0.1, dual=False, fit_intercept=False, loss=squared_hinge, multi_class=ovr, penalty=l2; total time=   0.0s\n",
      "[CV 3/5] END C=0.1, dual=False, fit_intercept=False, loss=squared_hinge, multi_class=ovr, penalty=l2; total time=   0.0s\n",
      "[CV 4/5] END C=0.1, dual=False, fit_intercept=False, loss=squared_hinge, multi_class=ovr, penalty=l2; total time=   0.0s\n",
      "[CV 5/5] END C=0.1, dual=False, fit_intercept=False, loss=squared_hinge, multi_class=ovr, penalty=l2; total time=   0.0s\n",
      "[CV 1/5] END C=0.1, dual=False, fit_intercept=False, loss=squared_hinge, multi_class=crammer_singer, penalty=l1; total time=   0.0s\n",
      "[CV 2/5] END C=0.1, dual=False, fit_intercept=False, loss=squared_hinge, multi_class=crammer_singer, penalty=l1; total time=   0.0s\n",
      "[CV 3/5] END C=0.1, dual=False, fit_intercept=False, loss=squared_hinge, multi_class=crammer_singer, penalty=l1; total time=   0.0s\n"
     ]
    },
    {
     "name": "stderr",
     "output_type": "stream",
     "text": [
      "C:\\Users\\skhus\\anaconda3\\lib\\site-packages\\sklearn\\model_selection\\_validation.py:610: FitFailedWarning: Estimator fit failed. The score on this train-test partition for these parameters will be set to nan. Details: \n",
      "Traceback (most recent call last):\n",
      "  File \"C:\\Users\\skhus\\anaconda3\\lib\\site-packages\\sklearn\\model_selection\\_validation.py\", line 593, in _fit_and_score\n",
      "    estimator.fit(X_train, y_train, **fit_params)\n",
      "  File \"C:\\Users\\skhus\\anaconda3\\lib\\site-packages\\sklearn\\svm\\_classes.py\", line 234, in fit\n",
      "    self.coef_, self.intercept_, self.n_iter_ = _fit_liblinear(\n",
      "  File \"C:\\Users\\skhus\\anaconda3\\lib\\site-packages\\sklearn\\svm\\_base.py\", line 974, in _fit_liblinear\n",
      "    solver_type = _get_liblinear_solver_type(multi_class, penalty, loss, dual)\n",
      "  File \"C:\\Users\\skhus\\anaconda3\\lib\\site-packages\\sklearn\\svm\\_base.py\", line 830, in _get_liblinear_solver_type\n",
      "    raise ValueError('Unsupported set of arguments: %s, '\n",
      "ValueError: Unsupported set of arguments: The combination of penalty='l1' and loss='hinge' is not supported, Parameters: penalty='l1', loss='hinge', dual=False\n",
      "\n",
      "  warnings.warn(\"Estimator fit failed. The score on this train-test\"\n",
      "C:\\Users\\skhus\\anaconda3\\lib\\site-packages\\sklearn\\model_selection\\_validation.py:610: FitFailedWarning: Estimator fit failed. The score on this train-test partition for these parameters will be set to nan. Details: \n",
      "Traceback (most recent call last):\n",
      "  File \"C:\\Users\\skhus\\anaconda3\\lib\\site-packages\\sklearn\\model_selection\\_validation.py\", line 593, in _fit_and_score\n",
      "    estimator.fit(X_train, y_train, **fit_params)\n",
      "  File \"C:\\Users\\skhus\\anaconda3\\lib\\site-packages\\sklearn\\svm\\_classes.py\", line 234, in fit\n",
      "    self.coef_, self.intercept_, self.n_iter_ = _fit_liblinear(\n",
      "  File \"C:\\Users\\skhus\\anaconda3\\lib\\site-packages\\sklearn\\svm\\_base.py\", line 974, in _fit_liblinear\n",
      "    solver_type = _get_liblinear_solver_type(multi_class, penalty, loss, dual)\n",
      "  File \"C:\\Users\\skhus\\anaconda3\\lib\\site-packages\\sklearn\\svm\\_base.py\", line 830, in _get_liblinear_solver_type\n",
      "    raise ValueError('Unsupported set of arguments: %s, '\n",
      "ValueError: Unsupported set of arguments: The combination of penalty='l1' and loss='hinge' is not supported, Parameters: penalty='l1', loss='hinge', dual=False\n",
      "\n",
      "  warnings.warn(\"Estimator fit failed. The score on this train-test\"\n",
      "C:\\Users\\skhus\\anaconda3\\lib\\site-packages\\sklearn\\model_selection\\_validation.py:610: FitFailedWarning: Estimator fit failed. The score on this train-test partition for these parameters will be set to nan. Details: \n",
      "Traceback (most recent call last):\n",
      "  File \"C:\\Users\\skhus\\anaconda3\\lib\\site-packages\\sklearn\\model_selection\\_validation.py\", line 593, in _fit_and_score\n",
      "    estimator.fit(X_train, y_train, **fit_params)\n",
      "  File \"C:\\Users\\skhus\\anaconda3\\lib\\site-packages\\sklearn\\svm\\_classes.py\", line 234, in fit\n",
      "    self.coef_, self.intercept_, self.n_iter_ = _fit_liblinear(\n",
      "  File \"C:\\Users\\skhus\\anaconda3\\lib\\site-packages\\sklearn\\svm\\_base.py\", line 974, in _fit_liblinear\n",
      "    solver_type = _get_liblinear_solver_type(multi_class, penalty, loss, dual)\n",
      "  File \"C:\\Users\\skhus\\anaconda3\\lib\\site-packages\\sklearn\\svm\\_base.py\", line 830, in _get_liblinear_solver_type\n",
      "    raise ValueError('Unsupported set of arguments: %s, '\n",
      "ValueError: Unsupported set of arguments: The combination of penalty='l1' and loss='hinge' is not supported, Parameters: penalty='l1', loss='hinge', dual=False\n",
      "\n",
      "  warnings.warn(\"Estimator fit failed. The score on this train-test\"\n",
      "C:\\Users\\skhus\\anaconda3\\lib\\site-packages\\sklearn\\model_selection\\_validation.py:610: FitFailedWarning: Estimator fit failed. The score on this train-test partition for these parameters will be set to nan. Details: \n",
      "Traceback (most recent call last):\n",
      "  File \"C:\\Users\\skhus\\anaconda3\\lib\\site-packages\\sklearn\\model_selection\\_validation.py\", line 593, in _fit_and_score\n",
      "    estimator.fit(X_train, y_train, **fit_params)\n",
      "  File \"C:\\Users\\skhus\\anaconda3\\lib\\site-packages\\sklearn\\svm\\_classes.py\", line 234, in fit\n",
      "    self.coef_, self.intercept_, self.n_iter_ = _fit_liblinear(\n",
      "  File \"C:\\Users\\skhus\\anaconda3\\lib\\site-packages\\sklearn\\svm\\_base.py\", line 974, in _fit_liblinear\n",
      "    solver_type = _get_liblinear_solver_type(multi_class, penalty, loss, dual)\n",
      "  File \"C:\\Users\\skhus\\anaconda3\\lib\\site-packages\\sklearn\\svm\\_base.py\", line 830, in _get_liblinear_solver_type\n",
      "    raise ValueError('Unsupported set of arguments: %s, '\n",
      "ValueError: Unsupported set of arguments: The combination of penalty='l1' and loss='hinge' is not supported, Parameters: penalty='l1', loss='hinge', dual=False\n",
      "\n",
      "  warnings.warn(\"Estimator fit failed. The score on this train-test\"\n",
      "C:\\Users\\skhus\\anaconda3\\lib\\site-packages\\sklearn\\model_selection\\_validation.py:610: FitFailedWarning: Estimator fit failed. The score on this train-test partition for these parameters will be set to nan. Details: \n",
      "Traceback (most recent call last):\n",
      "  File \"C:\\Users\\skhus\\anaconda3\\lib\\site-packages\\sklearn\\model_selection\\_validation.py\", line 593, in _fit_and_score\n",
      "    estimator.fit(X_train, y_train, **fit_params)\n",
      "  File \"C:\\Users\\skhus\\anaconda3\\lib\\site-packages\\sklearn\\svm\\_classes.py\", line 234, in fit\n",
      "    self.coef_, self.intercept_, self.n_iter_ = _fit_liblinear(\n",
      "  File \"C:\\Users\\skhus\\anaconda3\\lib\\site-packages\\sklearn\\svm\\_base.py\", line 974, in _fit_liblinear\n",
      "    solver_type = _get_liblinear_solver_type(multi_class, penalty, loss, dual)\n",
      "  File \"C:\\Users\\skhus\\anaconda3\\lib\\site-packages\\sklearn\\svm\\_base.py\", line 830, in _get_liblinear_solver_type\n",
      "    raise ValueError('Unsupported set of arguments: %s, '\n",
      "ValueError: Unsupported set of arguments: The combination of penalty='l1' and loss='hinge' is not supported, Parameters: penalty='l1', loss='hinge', dual=False\n",
      "\n",
      "  warnings.warn(\"Estimator fit failed. The score on this train-test\"\n",
      "C:\\Users\\skhus\\anaconda3\\lib\\site-packages\\sklearn\\model_selection\\_validation.py:610: FitFailedWarning: Estimator fit failed. The score on this train-test partition for these parameters will be set to nan. Details: \n",
      "Traceback (most recent call last):\n",
      "  File \"C:\\Users\\skhus\\anaconda3\\lib\\site-packages\\sklearn\\model_selection\\_validation.py\", line 593, in _fit_and_score\n",
      "    estimator.fit(X_train, y_train, **fit_params)\n",
      "  File \"C:\\Users\\skhus\\anaconda3\\lib\\site-packages\\sklearn\\svm\\_classes.py\", line 234, in fit\n",
      "    self.coef_, self.intercept_, self.n_iter_ = _fit_liblinear(\n",
      "  File \"C:\\Users\\skhus\\anaconda3\\lib\\site-packages\\sklearn\\svm\\_base.py\", line 974, in _fit_liblinear\n",
      "    solver_type = _get_liblinear_solver_type(multi_class, penalty, loss, dual)\n",
      "  File \"C:\\Users\\skhus\\anaconda3\\lib\\site-packages\\sklearn\\svm\\_base.py\", line 830, in _get_liblinear_solver_type\n",
      "    raise ValueError('Unsupported set of arguments: %s, '\n",
      "ValueError: Unsupported set of arguments: The combination of penalty='l2' and loss='hinge' are not supported when dual=False, Parameters: penalty='l2', loss='hinge', dual=False\n",
      "\n",
      "  warnings.warn(\"Estimator fit failed. The score on this train-test\"\n",
      "C:\\Users\\skhus\\anaconda3\\lib\\site-packages\\sklearn\\model_selection\\_validation.py:610: FitFailedWarning: Estimator fit failed. The score on this train-test partition for these parameters will be set to nan. Details: \n",
      "Traceback (most recent call last):\n",
      "  File \"C:\\Users\\skhus\\anaconda3\\lib\\site-packages\\sklearn\\model_selection\\_validation.py\", line 593, in _fit_and_score\n",
      "    estimator.fit(X_train, y_train, **fit_params)\n",
      "  File \"C:\\Users\\skhus\\anaconda3\\lib\\site-packages\\sklearn\\svm\\_classes.py\", line 234, in fit\n",
      "    self.coef_, self.intercept_, self.n_iter_ = _fit_liblinear(\n",
      "  File \"C:\\Users\\skhus\\anaconda3\\lib\\site-packages\\sklearn\\svm\\_base.py\", line 974, in _fit_liblinear\n",
      "    solver_type = _get_liblinear_solver_type(multi_class, penalty, loss, dual)\n",
      "  File \"C:\\Users\\skhus\\anaconda3\\lib\\site-packages\\sklearn\\svm\\_base.py\", line 830, in _get_liblinear_solver_type\n",
      "    raise ValueError('Unsupported set of arguments: %s, '\n",
      "ValueError: Unsupported set of arguments: The combination of penalty='l2' and loss='hinge' are not supported when dual=False, Parameters: penalty='l2', loss='hinge', dual=False\n",
      "\n",
      "  warnings.warn(\"Estimator fit failed. The score on this train-test\"\n",
      "C:\\Users\\skhus\\anaconda3\\lib\\site-packages\\sklearn\\model_selection\\_validation.py:610: FitFailedWarning: Estimator fit failed. The score on this train-test partition for these parameters will be set to nan. Details: \n",
      "Traceback (most recent call last):\n",
      "  File \"C:\\Users\\skhus\\anaconda3\\lib\\site-packages\\sklearn\\model_selection\\_validation.py\", line 593, in _fit_and_score\n",
      "    estimator.fit(X_train, y_train, **fit_params)\n",
      "  File \"C:\\Users\\skhus\\anaconda3\\lib\\site-packages\\sklearn\\svm\\_classes.py\", line 234, in fit\n",
      "    self.coef_, self.intercept_, self.n_iter_ = _fit_liblinear(\n",
      "  File \"C:\\Users\\skhus\\anaconda3\\lib\\site-packages\\sklearn\\svm\\_base.py\", line 974, in _fit_liblinear\n",
      "    solver_type = _get_liblinear_solver_type(multi_class, penalty, loss, dual)\n",
      "  File \"C:\\Users\\skhus\\anaconda3\\lib\\site-packages\\sklearn\\svm\\_base.py\", line 830, in _get_liblinear_solver_type\n",
      "    raise ValueError('Unsupported set of arguments: %s, '\n",
      "ValueError: Unsupported set of arguments: The combination of penalty='l2' and loss='hinge' are not supported when dual=False, Parameters: penalty='l2', loss='hinge', dual=False\n",
      "\n",
      "  warnings.warn(\"Estimator fit failed. The score on this train-test\"\n",
      "C:\\Users\\skhus\\anaconda3\\lib\\site-packages\\sklearn\\model_selection\\_validation.py:610: FitFailedWarning: Estimator fit failed. The score on this train-test partition for these parameters will be set to nan. Details: \n",
      "Traceback (most recent call last):\n",
      "  File \"C:\\Users\\skhus\\anaconda3\\lib\\site-packages\\sklearn\\model_selection\\_validation.py\", line 593, in _fit_and_score\n",
      "    estimator.fit(X_train, y_train, **fit_params)\n",
      "  File \"C:\\Users\\skhus\\anaconda3\\lib\\site-packages\\sklearn\\svm\\_classes.py\", line 234, in fit\n",
      "    self.coef_, self.intercept_, self.n_iter_ = _fit_liblinear(\n",
      "  File \"C:\\Users\\skhus\\anaconda3\\lib\\site-packages\\sklearn\\svm\\_base.py\", line 974, in _fit_liblinear\n",
      "    solver_type = _get_liblinear_solver_type(multi_class, penalty, loss, dual)\n",
      "  File \"C:\\Users\\skhus\\anaconda3\\lib\\site-packages\\sklearn\\svm\\_base.py\", line 830, in _get_liblinear_solver_type\n",
      "    raise ValueError('Unsupported set of arguments: %s, '\n",
      "ValueError: Unsupported set of arguments: The combination of penalty='l2' and loss='hinge' are not supported when dual=False, Parameters: penalty='l2', loss='hinge', dual=False\n",
      "\n",
      "  warnings.warn(\"Estimator fit failed. The score on this train-test\"\n",
      "C:\\Users\\skhus\\anaconda3\\lib\\site-packages\\sklearn\\model_selection\\_validation.py:610: FitFailedWarning: Estimator fit failed. The score on this train-test partition for these parameters will be set to nan. Details: \n",
      "Traceback (most recent call last):\n",
      "  File \"C:\\Users\\skhus\\anaconda3\\lib\\site-packages\\sklearn\\model_selection\\_validation.py\", line 593, in _fit_and_score\n",
      "    estimator.fit(X_train, y_train, **fit_params)\n",
      "  File \"C:\\Users\\skhus\\anaconda3\\lib\\site-packages\\sklearn\\svm\\_classes.py\", line 234, in fit\n",
      "    self.coef_, self.intercept_, self.n_iter_ = _fit_liblinear(\n",
      "  File \"C:\\Users\\skhus\\anaconda3\\lib\\site-packages\\sklearn\\svm\\_base.py\", line 974, in _fit_liblinear\n",
      "    solver_type = _get_liblinear_solver_type(multi_class, penalty, loss, dual)\n",
      "  File \"C:\\Users\\skhus\\anaconda3\\lib\\site-packages\\sklearn\\svm\\_base.py\", line 830, in _get_liblinear_solver_type\n",
      "    raise ValueError('Unsupported set of arguments: %s, '\n",
      "ValueError: Unsupported set of arguments: The combination of penalty='l2' and loss='hinge' are not supported when dual=False, Parameters: penalty='l2', loss='hinge', dual=False\n",
      "\n",
      "  warnings.warn(\"Estimator fit failed. The score on this train-test\"\n"
     ]
    },
    {
     "name": "stdout",
     "output_type": "stream",
     "text": [
      "[CV 4/5] END C=0.1, dual=False, fit_intercept=False, loss=squared_hinge, multi_class=crammer_singer, penalty=l1; total time=   0.0s\n",
      "[CV 5/5] END C=0.1, dual=False, fit_intercept=False, loss=squared_hinge, multi_class=crammer_singer, penalty=l1; total time=   0.0s\n",
      "[CV 1/5] END C=0.1, dual=False, fit_intercept=False, loss=squared_hinge, multi_class=crammer_singer, penalty=l2; total time=   0.0s\n",
      "[CV 2/5] END C=0.1, dual=False, fit_intercept=False, loss=squared_hinge, multi_class=crammer_singer, penalty=l2; total time=   0.0s\n",
      "[CV 3/5] END C=0.1, dual=False, fit_intercept=False, loss=squared_hinge, multi_class=crammer_singer, penalty=l2; total time=   0.0s\n",
      "[CV 4/5] END C=0.1, dual=False, fit_intercept=False, loss=squared_hinge, multi_class=crammer_singer, penalty=l2; total time=   0.0s\n",
      "[CV 5/5] END C=0.1, dual=False, fit_intercept=False, loss=squared_hinge, multi_class=crammer_singer, penalty=l2; total time=   0.0s\n",
      "[CV 1/5] END C=0.1, dual=False, fit_intercept=True, loss=hinge, multi_class=ovr, penalty=l1; total time=   0.0s\n",
      "[CV 2/5] END C=0.1, dual=False, fit_intercept=True, loss=hinge, multi_class=ovr, penalty=l1; total time=   0.0s\n",
      "[CV 3/5] END C=0.1, dual=False, fit_intercept=True, loss=hinge, multi_class=ovr, penalty=l1; total time=   0.0s\n",
      "[CV 4/5] END C=0.1, dual=False, fit_intercept=True, loss=hinge, multi_class=ovr, penalty=l1; total time=   0.0s\n",
      "[CV 5/5] END C=0.1, dual=False, fit_intercept=True, loss=hinge, multi_class=ovr, penalty=l1; total time=   0.0s\n",
      "[CV 1/5] END C=0.1, dual=False, fit_intercept=True, loss=hinge, multi_class=ovr, penalty=l2; total time=   0.0s\n",
      "[CV 2/5] END C=0.1, dual=False, fit_intercept=True, loss=hinge, multi_class=ovr, penalty=l2; total time=   0.0s\n",
      "[CV 3/5] END C=0.1, dual=False, fit_intercept=True, loss=hinge, multi_class=ovr, penalty=l2; total time=   0.0s\n",
      "[CV 4/5] END C=0.1, dual=False, fit_intercept=True, loss=hinge, multi_class=ovr, penalty=l2; total time=   0.0s\n",
      "[CV 5/5] END C=0.1, dual=False, fit_intercept=True, loss=hinge, multi_class=ovr, penalty=l2; total time=   0.0s\n",
      "[CV 1/5] END C=0.1, dual=False, fit_intercept=True, loss=hinge, multi_class=crammer_singer, penalty=l1; total time=   0.0s\n",
      "[CV 2/5] END C=0.1, dual=False, fit_intercept=True, loss=hinge, multi_class=crammer_singer, penalty=l1; total time=   0.0s\n",
      "[CV 3/5] END C=0.1, dual=False, fit_intercept=True, loss=hinge, multi_class=crammer_singer, penalty=l1; total time=   0.0s\n",
      "[CV 4/5] END C=0.1, dual=False, fit_intercept=True, loss=hinge, multi_class=crammer_singer, penalty=l1; total time=   0.0s\n",
      "[CV 5/5] END C=0.1, dual=False, fit_intercept=True, loss=hinge, multi_class=crammer_singer, penalty=l1; total time=   0.0s\n",
      "[CV 1/5] END C=0.1, dual=False, fit_intercept=True, loss=hinge, multi_class=crammer_singer, penalty=l2; total time=   0.0s\n",
      "[CV 2/5] END C=0.1, dual=False, fit_intercept=True, loss=hinge, multi_class=crammer_singer, penalty=l2; total time=   0.0s\n",
      "[CV 3/5] END C=0.1, dual=False, fit_intercept=True, loss=hinge, multi_class=crammer_singer, penalty=l2; total time=   0.0s\n",
      "[CV 4/5] END C=0.1, dual=False, fit_intercept=True, loss=hinge, multi_class=crammer_singer, penalty=l2; total time=   0.0s\n",
      "[CV 5/5] END C=0.1, dual=False, fit_intercept=True, loss=hinge, multi_class=crammer_singer, penalty=l2; total time=   0.0s\n",
      "[CV 1/5] END C=0.1, dual=False, fit_intercept=True, loss=squared_hinge, multi_class=ovr, penalty=l1; total time=   0.0s\n",
      "[CV 2/5] END C=0.1, dual=False, fit_intercept=True, loss=squared_hinge, multi_class=ovr, penalty=l1; total time=   0.0s\n"
     ]
    },
    {
     "name": "stderr",
     "output_type": "stream",
     "text": [
      "C:\\Users\\skhus\\anaconda3\\lib\\site-packages\\sklearn\\model_selection\\_validation.py:610: FitFailedWarning: Estimator fit failed. The score on this train-test partition for these parameters will be set to nan. Details: \n",
      "Traceback (most recent call last):\n",
      "  File \"C:\\Users\\skhus\\anaconda3\\lib\\site-packages\\sklearn\\model_selection\\_validation.py\", line 593, in _fit_and_score\n",
      "    estimator.fit(X_train, y_train, **fit_params)\n",
      "  File \"C:\\Users\\skhus\\anaconda3\\lib\\site-packages\\sklearn\\svm\\_classes.py\", line 234, in fit\n",
      "    self.coef_, self.intercept_, self.n_iter_ = _fit_liblinear(\n",
      "  File \"C:\\Users\\skhus\\anaconda3\\lib\\site-packages\\sklearn\\svm\\_base.py\", line 974, in _fit_liblinear\n",
      "    solver_type = _get_liblinear_solver_type(multi_class, penalty, loss, dual)\n",
      "  File \"C:\\Users\\skhus\\anaconda3\\lib\\site-packages\\sklearn\\svm\\_base.py\", line 830, in _get_liblinear_solver_type\n",
      "    raise ValueError('Unsupported set of arguments: %s, '\n",
      "ValueError: Unsupported set of arguments: The combination of penalty='l1' and loss='hinge' is not supported, Parameters: penalty='l1', loss='hinge', dual=False\n",
      "\n",
      "  warnings.warn(\"Estimator fit failed. The score on this train-test\"\n",
      "C:\\Users\\skhus\\anaconda3\\lib\\site-packages\\sklearn\\model_selection\\_validation.py:610: FitFailedWarning: Estimator fit failed. The score on this train-test partition for these parameters will be set to nan. Details: \n",
      "Traceback (most recent call last):\n",
      "  File \"C:\\Users\\skhus\\anaconda3\\lib\\site-packages\\sklearn\\model_selection\\_validation.py\", line 593, in _fit_and_score\n",
      "    estimator.fit(X_train, y_train, **fit_params)\n",
      "  File \"C:\\Users\\skhus\\anaconda3\\lib\\site-packages\\sklearn\\svm\\_classes.py\", line 234, in fit\n",
      "    self.coef_, self.intercept_, self.n_iter_ = _fit_liblinear(\n",
      "  File \"C:\\Users\\skhus\\anaconda3\\lib\\site-packages\\sklearn\\svm\\_base.py\", line 974, in _fit_liblinear\n",
      "    solver_type = _get_liblinear_solver_type(multi_class, penalty, loss, dual)\n",
      "  File \"C:\\Users\\skhus\\anaconda3\\lib\\site-packages\\sklearn\\svm\\_base.py\", line 830, in _get_liblinear_solver_type\n",
      "    raise ValueError('Unsupported set of arguments: %s, '\n",
      "ValueError: Unsupported set of arguments: The combination of penalty='l1' and loss='hinge' is not supported, Parameters: penalty='l1', loss='hinge', dual=False\n",
      "\n",
      "  warnings.warn(\"Estimator fit failed. The score on this train-test\"\n",
      "C:\\Users\\skhus\\anaconda3\\lib\\site-packages\\sklearn\\model_selection\\_validation.py:610: FitFailedWarning: Estimator fit failed. The score on this train-test partition for these parameters will be set to nan. Details: \n",
      "Traceback (most recent call last):\n",
      "  File \"C:\\Users\\skhus\\anaconda3\\lib\\site-packages\\sklearn\\model_selection\\_validation.py\", line 593, in _fit_and_score\n",
      "    estimator.fit(X_train, y_train, **fit_params)\n",
      "  File \"C:\\Users\\skhus\\anaconda3\\lib\\site-packages\\sklearn\\svm\\_classes.py\", line 234, in fit\n",
      "    self.coef_, self.intercept_, self.n_iter_ = _fit_liblinear(\n",
      "  File \"C:\\Users\\skhus\\anaconda3\\lib\\site-packages\\sklearn\\svm\\_base.py\", line 974, in _fit_liblinear\n",
      "    solver_type = _get_liblinear_solver_type(multi_class, penalty, loss, dual)\n",
      "  File \"C:\\Users\\skhus\\anaconda3\\lib\\site-packages\\sklearn\\svm\\_base.py\", line 830, in _get_liblinear_solver_type\n",
      "    raise ValueError('Unsupported set of arguments: %s, '\n",
      "ValueError: Unsupported set of arguments: The combination of penalty='l1' and loss='hinge' is not supported, Parameters: penalty='l1', loss='hinge', dual=False\n",
      "\n",
      "  warnings.warn(\"Estimator fit failed. The score on this train-test\"\n",
      "C:\\Users\\skhus\\anaconda3\\lib\\site-packages\\sklearn\\model_selection\\_validation.py:610: FitFailedWarning: Estimator fit failed. The score on this train-test partition for these parameters will be set to nan. Details: \n",
      "Traceback (most recent call last):\n",
      "  File \"C:\\Users\\skhus\\anaconda3\\lib\\site-packages\\sklearn\\model_selection\\_validation.py\", line 593, in _fit_and_score\n",
      "    estimator.fit(X_train, y_train, **fit_params)\n",
      "  File \"C:\\Users\\skhus\\anaconda3\\lib\\site-packages\\sklearn\\svm\\_classes.py\", line 234, in fit\n",
      "    self.coef_, self.intercept_, self.n_iter_ = _fit_liblinear(\n",
      "  File \"C:\\Users\\skhus\\anaconda3\\lib\\site-packages\\sklearn\\svm\\_base.py\", line 974, in _fit_liblinear\n",
      "    solver_type = _get_liblinear_solver_type(multi_class, penalty, loss, dual)\n",
      "  File \"C:\\Users\\skhus\\anaconda3\\lib\\site-packages\\sklearn\\svm\\_base.py\", line 830, in _get_liblinear_solver_type\n",
      "    raise ValueError('Unsupported set of arguments: %s, '\n",
      "ValueError: Unsupported set of arguments: The combination of penalty='l1' and loss='hinge' is not supported, Parameters: penalty='l1', loss='hinge', dual=False\n",
      "\n",
      "  warnings.warn(\"Estimator fit failed. The score on this train-test\"\n",
      "C:\\Users\\skhus\\anaconda3\\lib\\site-packages\\sklearn\\model_selection\\_validation.py:610: FitFailedWarning: Estimator fit failed. The score on this train-test partition for these parameters will be set to nan. Details: \n",
      "Traceback (most recent call last):\n",
      "  File \"C:\\Users\\skhus\\anaconda3\\lib\\site-packages\\sklearn\\model_selection\\_validation.py\", line 593, in _fit_and_score\n",
      "    estimator.fit(X_train, y_train, **fit_params)\n",
      "  File \"C:\\Users\\skhus\\anaconda3\\lib\\site-packages\\sklearn\\svm\\_classes.py\", line 234, in fit\n",
      "    self.coef_, self.intercept_, self.n_iter_ = _fit_liblinear(\n",
      "  File \"C:\\Users\\skhus\\anaconda3\\lib\\site-packages\\sklearn\\svm\\_base.py\", line 974, in _fit_liblinear\n",
      "    solver_type = _get_liblinear_solver_type(multi_class, penalty, loss, dual)\n",
      "  File \"C:\\Users\\skhus\\anaconda3\\lib\\site-packages\\sklearn\\svm\\_base.py\", line 830, in _get_liblinear_solver_type\n",
      "    raise ValueError('Unsupported set of arguments: %s, '\n",
      "ValueError: Unsupported set of arguments: The combination of penalty='l1' and loss='hinge' is not supported, Parameters: penalty='l1', loss='hinge', dual=False\n",
      "\n",
      "  warnings.warn(\"Estimator fit failed. The score on this train-test\"\n",
      "C:\\Users\\skhus\\anaconda3\\lib\\site-packages\\sklearn\\model_selection\\_validation.py:610: FitFailedWarning: Estimator fit failed. The score on this train-test partition for these parameters will be set to nan. Details: \n",
      "Traceback (most recent call last):\n",
      "  File \"C:\\Users\\skhus\\anaconda3\\lib\\site-packages\\sklearn\\model_selection\\_validation.py\", line 593, in _fit_and_score\n",
      "    estimator.fit(X_train, y_train, **fit_params)\n",
      "  File \"C:\\Users\\skhus\\anaconda3\\lib\\site-packages\\sklearn\\svm\\_classes.py\", line 234, in fit\n",
      "    self.coef_, self.intercept_, self.n_iter_ = _fit_liblinear(\n",
      "  File \"C:\\Users\\skhus\\anaconda3\\lib\\site-packages\\sklearn\\svm\\_base.py\", line 974, in _fit_liblinear\n",
      "    solver_type = _get_liblinear_solver_type(multi_class, penalty, loss, dual)\n",
      "  File \"C:\\Users\\skhus\\anaconda3\\lib\\site-packages\\sklearn\\svm\\_base.py\", line 830, in _get_liblinear_solver_type\n",
      "    raise ValueError('Unsupported set of arguments: %s, '\n",
      "ValueError: Unsupported set of arguments: The combination of penalty='l2' and loss='hinge' are not supported when dual=False, Parameters: penalty='l2', loss='hinge', dual=False\n",
      "\n",
      "  warnings.warn(\"Estimator fit failed. The score on this train-test\"\n",
      "C:\\Users\\skhus\\anaconda3\\lib\\site-packages\\sklearn\\model_selection\\_validation.py:610: FitFailedWarning: Estimator fit failed. The score on this train-test partition for these parameters will be set to nan. Details: \n",
      "Traceback (most recent call last):\n",
      "  File \"C:\\Users\\skhus\\anaconda3\\lib\\site-packages\\sklearn\\model_selection\\_validation.py\", line 593, in _fit_and_score\n",
      "    estimator.fit(X_train, y_train, **fit_params)\n",
      "  File \"C:\\Users\\skhus\\anaconda3\\lib\\site-packages\\sklearn\\svm\\_classes.py\", line 234, in fit\n",
      "    self.coef_, self.intercept_, self.n_iter_ = _fit_liblinear(\n",
      "  File \"C:\\Users\\skhus\\anaconda3\\lib\\site-packages\\sklearn\\svm\\_base.py\", line 974, in _fit_liblinear\n",
      "    solver_type = _get_liblinear_solver_type(multi_class, penalty, loss, dual)\n",
      "  File \"C:\\Users\\skhus\\anaconda3\\lib\\site-packages\\sklearn\\svm\\_base.py\", line 830, in _get_liblinear_solver_type\n",
      "    raise ValueError('Unsupported set of arguments: %s, '\n",
      "ValueError: Unsupported set of arguments: The combination of penalty='l2' and loss='hinge' are not supported when dual=False, Parameters: penalty='l2', loss='hinge', dual=False\n",
      "\n",
      "  warnings.warn(\"Estimator fit failed. The score on this train-test\"\n",
      "C:\\Users\\skhus\\anaconda3\\lib\\site-packages\\sklearn\\model_selection\\_validation.py:610: FitFailedWarning: Estimator fit failed. The score on this train-test partition for these parameters will be set to nan. Details: \n",
      "Traceback (most recent call last):\n",
      "  File \"C:\\Users\\skhus\\anaconda3\\lib\\site-packages\\sklearn\\model_selection\\_validation.py\", line 593, in _fit_and_score\n",
      "    estimator.fit(X_train, y_train, **fit_params)\n",
      "  File \"C:\\Users\\skhus\\anaconda3\\lib\\site-packages\\sklearn\\svm\\_classes.py\", line 234, in fit\n",
      "    self.coef_, self.intercept_, self.n_iter_ = _fit_liblinear(\n",
      "  File \"C:\\Users\\skhus\\anaconda3\\lib\\site-packages\\sklearn\\svm\\_base.py\", line 974, in _fit_liblinear\n",
      "    solver_type = _get_liblinear_solver_type(multi_class, penalty, loss, dual)\n",
      "  File \"C:\\Users\\skhus\\anaconda3\\lib\\site-packages\\sklearn\\svm\\_base.py\", line 830, in _get_liblinear_solver_type\n",
      "    raise ValueError('Unsupported set of arguments: %s, '\n",
      "ValueError: Unsupported set of arguments: The combination of penalty='l2' and loss='hinge' are not supported when dual=False, Parameters: penalty='l2', loss='hinge', dual=False\n",
      "\n",
      "  warnings.warn(\"Estimator fit failed. The score on this train-test\"\n",
      "C:\\Users\\skhus\\anaconda3\\lib\\site-packages\\sklearn\\model_selection\\_validation.py:610: FitFailedWarning: Estimator fit failed. The score on this train-test partition for these parameters will be set to nan. Details: \n",
      "Traceback (most recent call last):\n",
      "  File \"C:\\Users\\skhus\\anaconda3\\lib\\site-packages\\sklearn\\model_selection\\_validation.py\", line 593, in _fit_and_score\n",
      "    estimator.fit(X_train, y_train, **fit_params)\n",
      "  File \"C:\\Users\\skhus\\anaconda3\\lib\\site-packages\\sklearn\\svm\\_classes.py\", line 234, in fit\n",
      "    self.coef_, self.intercept_, self.n_iter_ = _fit_liblinear(\n",
      "  File \"C:\\Users\\skhus\\anaconda3\\lib\\site-packages\\sklearn\\svm\\_base.py\", line 974, in _fit_liblinear\n",
      "    solver_type = _get_liblinear_solver_type(multi_class, penalty, loss, dual)\n",
      "  File \"C:\\Users\\skhus\\anaconda3\\lib\\site-packages\\sklearn\\svm\\_base.py\", line 830, in _get_liblinear_solver_type\n",
      "    raise ValueError('Unsupported set of arguments: %s, '\n",
      "ValueError: Unsupported set of arguments: The combination of penalty='l2' and loss='hinge' are not supported when dual=False, Parameters: penalty='l2', loss='hinge', dual=False\n",
      "\n",
      "  warnings.warn(\"Estimator fit failed. The score on this train-test\"\n",
      "C:\\Users\\skhus\\anaconda3\\lib\\site-packages\\sklearn\\model_selection\\_validation.py:610: FitFailedWarning: Estimator fit failed. The score on this train-test partition for these parameters will be set to nan. Details: \n",
      "Traceback (most recent call last):\n",
      "  File \"C:\\Users\\skhus\\anaconda3\\lib\\site-packages\\sklearn\\model_selection\\_validation.py\", line 593, in _fit_and_score\n",
      "    estimator.fit(X_train, y_train, **fit_params)\n",
      "  File \"C:\\Users\\skhus\\anaconda3\\lib\\site-packages\\sklearn\\svm\\_classes.py\", line 234, in fit\n",
      "    self.coef_, self.intercept_, self.n_iter_ = _fit_liblinear(\n",
      "  File \"C:\\Users\\skhus\\anaconda3\\lib\\site-packages\\sklearn\\svm\\_base.py\", line 974, in _fit_liblinear\n",
      "    solver_type = _get_liblinear_solver_type(multi_class, penalty, loss, dual)\n",
      "  File \"C:\\Users\\skhus\\anaconda3\\lib\\site-packages\\sklearn\\svm\\_base.py\", line 830, in _get_liblinear_solver_type\n",
      "    raise ValueError('Unsupported set of arguments: %s, '\n",
      "ValueError: Unsupported set of arguments: The combination of penalty='l2' and loss='hinge' are not supported when dual=False, Parameters: penalty='l2', loss='hinge', dual=False\n",
      "\n",
      "  warnings.warn(\"Estimator fit failed. The score on this train-test\"\n"
     ]
    },
    {
     "name": "stdout",
     "output_type": "stream",
     "text": [
      "[CV 3/5] END C=0.1, dual=False, fit_intercept=True, loss=squared_hinge, multi_class=ovr, penalty=l1; total time=   0.0s\n",
      "[CV 4/5] END C=0.1, dual=False, fit_intercept=True, loss=squared_hinge, multi_class=ovr, penalty=l1; total time=   0.0s\n",
      "[CV 5/5] END C=0.1, dual=False, fit_intercept=True, loss=squared_hinge, multi_class=ovr, penalty=l1; total time=   0.0s\n",
      "[CV 1/5] END C=0.1, dual=False, fit_intercept=True, loss=squared_hinge, multi_class=ovr, penalty=l2; total time=   0.0s\n",
      "[CV 2/5] END C=0.1, dual=False, fit_intercept=True, loss=squared_hinge, multi_class=ovr, penalty=l2; total time=   0.0s\n",
      "[CV 3/5] END C=0.1, dual=False, fit_intercept=True, loss=squared_hinge, multi_class=ovr, penalty=l2; total time=   0.0s\n",
      "[CV 4/5] END C=0.1, dual=False, fit_intercept=True, loss=squared_hinge, multi_class=ovr, penalty=l2; total time=   0.0s\n",
      "[CV 5/5] END C=0.1, dual=False, fit_intercept=True, loss=squared_hinge, multi_class=ovr, penalty=l2; total time=   0.0s\n",
      "[CV 1/5] END C=0.1, dual=False, fit_intercept=True, loss=squared_hinge, multi_class=crammer_singer, penalty=l1; total time=   0.0s\n",
      "[CV 2/5] END C=0.1, dual=False, fit_intercept=True, loss=squared_hinge, multi_class=crammer_singer, penalty=l1; total time=   0.0s\n",
      "[CV 3/5] END C=0.1, dual=False, fit_intercept=True, loss=squared_hinge, multi_class=crammer_singer, penalty=l1; total time=   0.0s\n",
      "[CV 4/5] END C=0.1, dual=False, fit_intercept=True, loss=squared_hinge, multi_class=crammer_singer, penalty=l1; total time=   0.0s\n",
      "[CV 5/5] END C=0.1, dual=False, fit_intercept=True, loss=squared_hinge, multi_class=crammer_singer, penalty=l1; total time=   0.0s\n",
      "[CV 1/5] END C=0.1, dual=False, fit_intercept=True, loss=squared_hinge, multi_class=crammer_singer, penalty=l2; total time=   0.0s\n",
      "[CV 2/5] END C=0.1, dual=False, fit_intercept=True, loss=squared_hinge, multi_class=crammer_singer, penalty=l2; total time=   0.0s\n",
      "[CV 3/5] END C=0.1, dual=False, fit_intercept=True, loss=squared_hinge, multi_class=crammer_singer, penalty=l2; total time=   0.0s\n",
      "[CV 4/5] END C=0.1, dual=False, fit_intercept=True, loss=squared_hinge, multi_class=crammer_singer, penalty=l2; total time=   0.0s\n",
      "[CV 5/5] END C=0.1, dual=False, fit_intercept=True, loss=squared_hinge, multi_class=crammer_singer, penalty=l2; total time=   0.0s\n",
      "[CV 1/5] END C=0.1, dual=True, fit_intercept=False, loss=hinge, multi_class=ovr, penalty=l1; total time=   0.0s\n",
      "[CV 2/5] END C=0.1, dual=True, fit_intercept=False, loss=hinge, multi_class=ovr, penalty=l1; total time=   0.0s\n",
      "[CV 3/5] END C=0.1, dual=True, fit_intercept=False, loss=hinge, multi_class=ovr, penalty=l1; total time=   0.0s\n",
      "[CV 4/5] END C=0.1, dual=True, fit_intercept=False, loss=hinge, multi_class=ovr, penalty=l1; total time=   0.0s\n",
      "[CV 5/5] END C=0.1, dual=True, fit_intercept=False, loss=hinge, multi_class=ovr, penalty=l1; total time=   0.0s\n",
      "[CV 1/5] END C=0.1, dual=True, fit_intercept=False, loss=hinge, multi_class=ovr, penalty=l2; total time=   0.0s\n",
      "[CV 2/5] END C=0.1, dual=True, fit_intercept=False, loss=hinge, multi_class=ovr, penalty=l2; total time=   0.0s\n",
      "[CV 3/5] END C=0.1, dual=True, fit_intercept=False, loss=hinge, multi_class=ovr, penalty=l2; total time=   0.0s\n",
      "[CV 4/5] END C=0.1, dual=True, fit_intercept=False, loss=hinge, multi_class=ovr, penalty=l2; total time=   0.0s\n",
      "[CV 5/5] END C=0.1, dual=True, fit_intercept=False, loss=hinge, multi_class=ovr, penalty=l2; total time=   0.0s\n",
      "[CV 1/5] END C=0.1, dual=True, fit_intercept=False, loss=hinge, multi_class=crammer_singer, penalty=l1; total time=   0.0s\n",
      "[CV 2/5] END C=0.1, dual=True, fit_intercept=False, loss=hinge, multi_class=crammer_singer, penalty=l1; total time=   0.0s\n"
     ]
    },
    {
     "name": "stderr",
     "output_type": "stream",
     "text": [
      "C:\\Users\\skhus\\anaconda3\\lib\\site-packages\\sklearn\\model_selection\\_validation.py:610: FitFailedWarning: Estimator fit failed. The score on this train-test partition for these parameters will be set to nan. Details: \n",
      "Traceback (most recent call last):\n",
      "  File \"C:\\Users\\skhus\\anaconda3\\lib\\site-packages\\sklearn\\model_selection\\_validation.py\", line 593, in _fit_and_score\n",
      "    estimator.fit(X_train, y_train, **fit_params)\n",
      "  File \"C:\\Users\\skhus\\anaconda3\\lib\\site-packages\\sklearn\\svm\\_classes.py\", line 234, in fit\n",
      "    self.coef_, self.intercept_, self.n_iter_ = _fit_liblinear(\n",
      "  File \"C:\\Users\\skhus\\anaconda3\\lib\\site-packages\\sklearn\\svm\\_base.py\", line 974, in _fit_liblinear\n",
      "    solver_type = _get_liblinear_solver_type(multi_class, penalty, loss, dual)\n",
      "  File \"C:\\Users\\skhus\\anaconda3\\lib\\site-packages\\sklearn\\svm\\_base.py\", line 830, in _get_liblinear_solver_type\n",
      "    raise ValueError('Unsupported set of arguments: %s, '\n",
      "ValueError: Unsupported set of arguments: The combination of penalty='l1' and loss='hinge' is not supported, Parameters: penalty='l1', loss='hinge', dual=True\n",
      "\n",
      "  warnings.warn(\"Estimator fit failed. The score on this train-test\"\n",
      "C:\\Users\\skhus\\anaconda3\\lib\\site-packages\\sklearn\\model_selection\\_validation.py:610: FitFailedWarning: Estimator fit failed. The score on this train-test partition for these parameters will be set to nan. Details: \n",
      "Traceback (most recent call last):\n",
      "  File \"C:\\Users\\skhus\\anaconda3\\lib\\site-packages\\sklearn\\model_selection\\_validation.py\", line 593, in _fit_and_score\n",
      "    estimator.fit(X_train, y_train, **fit_params)\n",
      "  File \"C:\\Users\\skhus\\anaconda3\\lib\\site-packages\\sklearn\\svm\\_classes.py\", line 234, in fit\n",
      "    self.coef_, self.intercept_, self.n_iter_ = _fit_liblinear(\n",
      "  File \"C:\\Users\\skhus\\anaconda3\\lib\\site-packages\\sklearn\\svm\\_base.py\", line 974, in _fit_liblinear\n",
      "    solver_type = _get_liblinear_solver_type(multi_class, penalty, loss, dual)\n",
      "  File \"C:\\Users\\skhus\\anaconda3\\lib\\site-packages\\sklearn\\svm\\_base.py\", line 830, in _get_liblinear_solver_type\n",
      "    raise ValueError('Unsupported set of arguments: %s, '\n",
      "ValueError: Unsupported set of arguments: The combination of penalty='l1' and loss='hinge' is not supported, Parameters: penalty='l1', loss='hinge', dual=True\n",
      "\n",
      "  warnings.warn(\"Estimator fit failed. The score on this train-test\"\n",
      "C:\\Users\\skhus\\anaconda3\\lib\\site-packages\\sklearn\\model_selection\\_validation.py:610: FitFailedWarning: Estimator fit failed. The score on this train-test partition for these parameters will be set to nan. Details: \n",
      "Traceback (most recent call last):\n",
      "  File \"C:\\Users\\skhus\\anaconda3\\lib\\site-packages\\sklearn\\model_selection\\_validation.py\", line 593, in _fit_and_score\n",
      "    estimator.fit(X_train, y_train, **fit_params)\n",
      "  File \"C:\\Users\\skhus\\anaconda3\\lib\\site-packages\\sklearn\\svm\\_classes.py\", line 234, in fit\n",
      "    self.coef_, self.intercept_, self.n_iter_ = _fit_liblinear(\n",
      "  File \"C:\\Users\\skhus\\anaconda3\\lib\\site-packages\\sklearn\\svm\\_base.py\", line 974, in _fit_liblinear\n",
      "    solver_type = _get_liblinear_solver_type(multi_class, penalty, loss, dual)\n",
      "  File \"C:\\Users\\skhus\\anaconda3\\lib\\site-packages\\sklearn\\svm\\_base.py\", line 830, in _get_liblinear_solver_type\n",
      "    raise ValueError('Unsupported set of arguments: %s, '\n",
      "ValueError: Unsupported set of arguments: The combination of penalty='l1' and loss='hinge' is not supported, Parameters: penalty='l1', loss='hinge', dual=True\n",
      "\n",
      "  warnings.warn(\"Estimator fit failed. The score on this train-test\"\n",
      "C:\\Users\\skhus\\anaconda3\\lib\\site-packages\\sklearn\\model_selection\\_validation.py:610: FitFailedWarning: Estimator fit failed. The score on this train-test partition for these parameters will be set to nan. Details: \n",
      "Traceback (most recent call last):\n",
      "  File \"C:\\Users\\skhus\\anaconda3\\lib\\site-packages\\sklearn\\model_selection\\_validation.py\", line 593, in _fit_and_score\n",
      "    estimator.fit(X_train, y_train, **fit_params)\n",
      "  File \"C:\\Users\\skhus\\anaconda3\\lib\\site-packages\\sklearn\\svm\\_classes.py\", line 234, in fit\n",
      "    self.coef_, self.intercept_, self.n_iter_ = _fit_liblinear(\n",
      "  File \"C:\\Users\\skhus\\anaconda3\\lib\\site-packages\\sklearn\\svm\\_base.py\", line 974, in _fit_liblinear\n",
      "    solver_type = _get_liblinear_solver_type(multi_class, penalty, loss, dual)\n",
      "  File \"C:\\Users\\skhus\\anaconda3\\lib\\site-packages\\sklearn\\svm\\_base.py\", line 830, in _get_liblinear_solver_type\n",
      "    raise ValueError('Unsupported set of arguments: %s, '\n",
      "ValueError: Unsupported set of arguments: The combination of penalty='l1' and loss='hinge' is not supported, Parameters: penalty='l1', loss='hinge', dual=True\n",
      "\n",
      "  warnings.warn(\"Estimator fit failed. The score on this train-test\"\n",
      "C:\\Users\\skhus\\anaconda3\\lib\\site-packages\\sklearn\\model_selection\\_validation.py:610: FitFailedWarning: Estimator fit failed. The score on this train-test partition for these parameters will be set to nan. Details: \n",
      "Traceback (most recent call last):\n",
      "  File \"C:\\Users\\skhus\\anaconda3\\lib\\site-packages\\sklearn\\model_selection\\_validation.py\", line 593, in _fit_and_score\n",
      "    estimator.fit(X_train, y_train, **fit_params)\n",
      "  File \"C:\\Users\\skhus\\anaconda3\\lib\\site-packages\\sklearn\\svm\\_classes.py\", line 234, in fit\n",
      "    self.coef_, self.intercept_, self.n_iter_ = _fit_liblinear(\n",
      "  File \"C:\\Users\\skhus\\anaconda3\\lib\\site-packages\\sklearn\\svm\\_base.py\", line 974, in _fit_liblinear\n",
      "    solver_type = _get_liblinear_solver_type(multi_class, penalty, loss, dual)\n",
      "  File \"C:\\Users\\skhus\\anaconda3\\lib\\site-packages\\sklearn\\svm\\_base.py\", line 830, in _get_liblinear_solver_type\n",
      "    raise ValueError('Unsupported set of arguments: %s, '\n",
      "ValueError: Unsupported set of arguments: The combination of penalty='l1' and loss='hinge' is not supported, Parameters: penalty='l1', loss='hinge', dual=True\n",
      "\n",
      "  warnings.warn(\"Estimator fit failed. The score on this train-test\"\n",
      "C:\\Users\\skhus\\anaconda3\\lib\\site-packages\\sklearn\\model_selection\\_validation.py:610: FitFailedWarning: Estimator fit failed. The score on this train-test partition for these parameters will be set to nan. Details: \n",
      "Traceback (most recent call last):\n",
      "  File \"C:\\Users\\skhus\\anaconda3\\lib\\site-packages\\sklearn\\model_selection\\_validation.py\", line 593, in _fit_and_score\n",
      "    estimator.fit(X_train, y_train, **fit_params)\n",
      "  File \"C:\\Users\\skhus\\anaconda3\\lib\\site-packages\\sklearn\\svm\\_classes.py\", line 234, in fit\n",
      "    self.coef_, self.intercept_, self.n_iter_ = _fit_liblinear(\n",
      "  File \"C:\\Users\\skhus\\anaconda3\\lib\\site-packages\\sklearn\\svm\\_base.py\", line 974, in _fit_liblinear\n",
      "    solver_type = _get_liblinear_solver_type(multi_class, penalty, loss, dual)\n",
      "  File \"C:\\Users\\skhus\\anaconda3\\lib\\site-packages\\sklearn\\svm\\_base.py\", line 830, in _get_liblinear_solver_type\n",
      "    raise ValueError('Unsupported set of arguments: %s, '\n",
      "ValueError: Unsupported set of arguments: The combination of penalty='l1' and loss='squared_hinge' are not supported when dual=True, Parameters: penalty='l1', loss='squared_hinge', dual=True\n",
      "\n",
      "  warnings.warn(\"Estimator fit failed. The score on this train-test\"\n",
      "C:\\Users\\skhus\\anaconda3\\lib\\site-packages\\sklearn\\model_selection\\_validation.py:610: FitFailedWarning: Estimator fit failed. The score on this train-test partition for these parameters will be set to nan. Details: \n",
      "Traceback (most recent call last):\n",
      "  File \"C:\\Users\\skhus\\anaconda3\\lib\\site-packages\\sklearn\\model_selection\\_validation.py\", line 593, in _fit_and_score\n",
      "    estimator.fit(X_train, y_train, **fit_params)\n",
      "  File \"C:\\Users\\skhus\\anaconda3\\lib\\site-packages\\sklearn\\svm\\_classes.py\", line 234, in fit\n",
      "    self.coef_, self.intercept_, self.n_iter_ = _fit_liblinear(\n",
      "  File \"C:\\Users\\skhus\\anaconda3\\lib\\site-packages\\sklearn\\svm\\_base.py\", line 974, in _fit_liblinear\n",
      "    solver_type = _get_liblinear_solver_type(multi_class, penalty, loss, dual)\n",
      "  File \"C:\\Users\\skhus\\anaconda3\\lib\\site-packages\\sklearn\\svm\\_base.py\", line 830, in _get_liblinear_solver_type\n",
      "    raise ValueError('Unsupported set of arguments: %s, '\n",
      "ValueError: Unsupported set of arguments: The combination of penalty='l1' and loss='squared_hinge' are not supported when dual=True, Parameters: penalty='l1', loss='squared_hinge', dual=True\n",
      "\n",
      "  warnings.warn(\"Estimator fit failed. The score on this train-test\"\n",
      "C:\\Users\\skhus\\anaconda3\\lib\\site-packages\\sklearn\\model_selection\\_validation.py:610: FitFailedWarning: Estimator fit failed. The score on this train-test partition for these parameters will be set to nan. Details: \n",
      "Traceback (most recent call last):\n",
      "  File \"C:\\Users\\skhus\\anaconda3\\lib\\site-packages\\sklearn\\model_selection\\_validation.py\", line 593, in _fit_and_score\n",
      "    estimator.fit(X_train, y_train, **fit_params)\n",
      "  File \"C:\\Users\\skhus\\anaconda3\\lib\\site-packages\\sklearn\\svm\\_classes.py\", line 234, in fit\n",
      "    self.coef_, self.intercept_, self.n_iter_ = _fit_liblinear(\n",
      "  File \"C:\\Users\\skhus\\anaconda3\\lib\\site-packages\\sklearn\\svm\\_base.py\", line 974, in _fit_liblinear\n",
      "    solver_type = _get_liblinear_solver_type(multi_class, penalty, loss, dual)\n",
      "  File \"C:\\Users\\skhus\\anaconda3\\lib\\site-packages\\sklearn\\svm\\_base.py\", line 830, in _get_liblinear_solver_type\n",
      "    raise ValueError('Unsupported set of arguments: %s, '\n",
      "ValueError: Unsupported set of arguments: The combination of penalty='l1' and loss='squared_hinge' are not supported when dual=True, Parameters: penalty='l1', loss='squared_hinge', dual=True\n",
      "\n",
      "  warnings.warn(\"Estimator fit failed. The score on this train-test\"\n",
      "C:\\Users\\skhus\\anaconda3\\lib\\site-packages\\sklearn\\model_selection\\_validation.py:610: FitFailedWarning: Estimator fit failed. The score on this train-test partition for these parameters will be set to nan. Details: \n",
      "Traceback (most recent call last):\n",
      "  File \"C:\\Users\\skhus\\anaconda3\\lib\\site-packages\\sklearn\\model_selection\\_validation.py\", line 593, in _fit_and_score\n",
      "    estimator.fit(X_train, y_train, **fit_params)\n",
      "  File \"C:\\Users\\skhus\\anaconda3\\lib\\site-packages\\sklearn\\svm\\_classes.py\", line 234, in fit\n",
      "    self.coef_, self.intercept_, self.n_iter_ = _fit_liblinear(\n",
      "  File \"C:\\Users\\skhus\\anaconda3\\lib\\site-packages\\sklearn\\svm\\_base.py\", line 974, in _fit_liblinear\n",
      "    solver_type = _get_liblinear_solver_type(multi_class, penalty, loss, dual)\n",
      "  File \"C:\\Users\\skhus\\anaconda3\\lib\\site-packages\\sklearn\\svm\\_base.py\", line 830, in _get_liblinear_solver_type\n",
      "    raise ValueError('Unsupported set of arguments: %s, '\n",
      "ValueError: Unsupported set of arguments: The combination of penalty='l1' and loss='squared_hinge' are not supported when dual=True, Parameters: penalty='l1', loss='squared_hinge', dual=True\n",
      "\n",
      "  warnings.warn(\"Estimator fit failed. The score on this train-test\"\n",
      "C:\\Users\\skhus\\anaconda3\\lib\\site-packages\\sklearn\\model_selection\\_validation.py:610: FitFailedWarning: Estimator fit failed. The score on this train-test partition for these parameters will be set to nan. Details: \n",
      "Traceback (most recent call last):\n",
      "  File \"C:\\Users\\skhus\\anaconda3\\lib\\site-packages\\sklearn\\model_selection\\_validation.py\", line 593, in _fit_and_score\n",
      "    estimator.fit(X_train, y_train, **fit_params)\n",
      "  File \"C:\\Users\\skhus\\anaconda3\\lib\\site-packages\\sklearn\\svm\\_classes.py\", line 234, in fit\n",
      "    self.coef_, self.intercept_, self.n_iter_ = _fit_liblinear(\n",
      "  File \"C:\\Users\\skhus\\anaconda3\\lib\\site-packages\\sklearn\\svm\\_base.py\", line 974, in _fit_liblinear\n",
      "    solver_type = _get_liblinear_solver_type(multi_class, penalty, loss, dual)\n",
      "  File \"C:\\Users\\skhus\\anaconda3\\lib\\site-packages\\sklearn\\svm\\_base.py\", line 830, in _get_liblinear_solver_type\n",
      "    raise ValueError('Unsupported set of arguments: %s, '\n",
      "ValueError: Unsupported set of arguments: The combination of penalty='l1' and loss='squared_hinge' are not supported when dual=True, Parameters: penalty='l1', loss='squared_hinge', dual=True\n",
      "\n",
      "  warnings.warn(\"Estimator fit failed. The score on this train-test\"\n"
     ]
    },
    {
     "name": "stdout",
     "output_type": "stream",
     "text": [
      "[CV 3/5] END C=0.1, dual=True, fit_intercept=False, loss=hinge, multi_class=crammer_singer, penalty=l1; total time=   0.0s\n",
      "[CV 4/5] END C=0.1, dual=True, fit_intercept=False, loss=hinge, multi_class=crammer_singer, penalty=l1; total time=   0.0s\n",
      "[CV 5/5] END C=0.1, dual=True, fit_intercept=False, loss=hinge, multi_class=crammer_singer, penalty=l1; total time=   0.0s\n",
      "[CV 1/5] END C=0.1, dual=True, fit_intercept=False, loss=hinge, multi_class=crammer_singer, penalty=l2; total time=   0.0s\n",
      "[CV 2/5] END C=0.1, dual=True, fit_intercept=False, loss=hinge, multi_class=crammer_singer, penalty=l2; total time=   0.0s\n",
      "[CV 3/5] END C=0.1, dual=True, fit_intercept=False, loss=hinge, multi_class=crammer_singer, penalty=l2; total time=   0.0s\n",
      "[CV 4/5] END C=0.1, dual=True, fit_intercept=False, loss=hinge, multi_class=crammer_singer, penalty=l2; total time=   0.0s\n",
      "[CV 5/5] END C=0.1, dual=True, fit_intercept=False, loss=hinge, multi_class=crammer_singer, penalty=l2; total time=   0.0s\n",
      "[CV 1/5] END C=0.1, dual=True, fit_intercept=False, loss=squared_hinge, multi_class=ovr, penalty=l1; total time=   0.0s\n",
      "[CV 2/5] END C=0.1, dual=True, fit_intercept=False, loss=squared_hinge, multi_class=ovr, penalty=l1; total time=   0.0s\n",
      "[CV 3/5] END C=0.1, dual=True, fit_intercept=False, loss=squared_hinge, multi_class=ovr, penalty=l1; total time=   0.0s\n",
      "[CV 4/5] END C=0.1, dual=True, fit_intercept=False, loss=squared_hinge, multi_class=ovr, penalty=l1; total time=   0.0s\n",
      "[CV 5/5] END C=0.1, dual=True, fit_intercept=False, loss=squared_hinge, multi_class=ovr, penalty=l1; total time=   0.0s\n",
      "[CV 1/5] END C=0.1, dual=True, fit_intercept=False, loss=squared_hinge, multi_class=ovr, penalty=l2; total time=   0.0s\n",
      "[CV 2/5] END C=0.1, dual=True, fit_intercept=False, loss=squared_hinge, multi_class=ovr, penalty=l2; total time=   0.0s\n",
      "[CV 3/5] END C=0.1, dual=True, fit_intercept=False, loss=squared_hinge, multi_class=ovr, penalty=l2; total time=   0.0s\n",
      "[CV 4/5] END C=0.1, dual=True, fit_intercept=False, loss=squared_hinge, multi_class=ovr, penalty=l2; total time=   0.0s\n",
      "[CV 5/5] END C=0.1, dual=True, fit_intercept=False, loss=squared_hinge, multi_class=ovr, penalty=l2; total time=   0.0s\n",
      "[CV 1/5] END C=0.1, dual=True, fit_intercept=False, loss=squared_hinge, multi_class=crammer_singer, penalty=l1; total time=   0.0s\n",
      "[CV 2/5] END C=0.1, dual=True, fit_intercept=False, loss=squared_hinge, multi_class=crammer_singer, penalty=l1; total time=   0.0s\n",
      "[CV 3/5] END C=0.1, dual=True, fit_intercept=False, loss=squared_hinge, multi_class=crammer_singer, penalty=l1; total time=   0.0s\n",
      "[CV 4/5] END C=0.1, dual=True, fit_intercept=False, loss=squared_hinge, multi_class=crammer_singer, penalty=l1; total time=   0.0s\n",
      "[CV 5/5] END C=0.1, dual=True, fit_intercept=False, loss=squared_hinge, multi_class=crammer_singer, penalty=l1; total time=   0.0s\n",
      "[CV 1/5] END C=0.1, dual=True, fit_intercept=False, loss=squared_hinge, multi_class=crammer_singer, penalty=l2; total time=   0.0s\n",
      "[CV 2/5] END C=0.1, dual=True, fit_intercept=False, loss=squared_hinge, multi_class=crammer_singer, penalty=l2; total time=   0.0s\n",
      "[CV 3/5] END C=0.1, dual=True, fit_intercept=False, loss=squared_hinge, multi_class=crammer_singer, penalty=l2; total time=   0.0s\n",
      "[CV 4/5] END C=0.1, dual=True, fit_intercept=False, loss=squared_hinge, multi_class=crammer_singer, penalty=l2; total time=   0.0s\n",
      "[CV 5/5] END C=0.1, dual=True, fit_intercept=False, loss=squared_hinge, multi_class=crammer_singer, penalty=l2; total time=   0.0s\n",
      "[CV 1/5] END C=0.1, dual=True, fit_intercept=True, loss=hinge, multi_class=ovr, penalty=l1; total time=   0.0s\n",
      "[CV 2/5] END C=0.1, dual=True, fit_intercept=True, loss=hinge, multi_class=ovr, penalty=l1; total time=   0.0s\n",
      "[CV 3/5] END C=0.1, dual=True, fit_intercept=True, loss=hinge, multi_class=ovr, penalty=l1; total time=   0.0s\n",
      "[CV 4/5] END C=0.1, dual=True, fit_intercept=True, loss=hinge, multi_class=ovr, penalty=l1; total time=   0.0s\n",
      "[CV 5/5] END C=0.1, dual=True, fit_intercept=True, loss=hinge, multi_class=ovr, penalty=l1; total time=   0.0s\n",
      "[CV 1/5] END C=0.1, dual=True, fit_intercept=True, loss=hinge, multi_class=ovr, penalty=l2; total time=   0.0s\n",
      "[CV 2/5] END C=0.1, dual=True, fit_intercept=True, loss=hinge, multi_class=ovr, penalty=l2; total time=   0.0s\n",
      "[CV 3/5] END C=0.1, dual=True, fit_intercept=True, loss=hinge, multi_class=ovr, penalty=l2; total time=   0.0s\n",
      "[CV 4/5] END C=0.1, dual=True, fit_intercept=True, loss=hinge, multi_class=ovr, penalty=l2; total time=   0.0s\n",
      "[CV 5/5] END C=0.1, dual=True, fit_intercept=True, loss=hinge, multi_class=ovr, penalty=l2; total time=   0.0s\n",
      "[CV 1/5] END C=0.1, dual=True, fit_intercept=True, loss=hinge, multi_class=crammer_singer, penalty=l1; total time=   0.0s\n",
      "[CV 2/5] END C=0.1, dual=True, fit_intercept=True, loss=hinge, multi_class=crammer_singer, penalty=l1; total time=   0.0s\n",
      "[CV 3/5] END C=0.1, dual=True, fit_intercept=True, loss=hinge, multi_class=crammer_singer, penalty=l1; total time=   0.0s\n"
     ]
    },
    {
     "name": "stderr",
     "output_type": "stream",
     "text": [
      "C:\\Users\\skhus\\anaconda3\\lib\\site-packages\\sklearn\\model_selection\\_validation.py:610: FitFailedWarning: Estimator fit failed. The score on this train-test partition for these parameters will be set to nan. Details: \n",
      "Traceback (most recent call last):\n",
      "  File \"C:\\Users\\skhus\\anaconda3\\lib\\site-packages\\sklearn\\model_selection\\_validation.py\", line 593, in _fit_and_score\n",
      "    estimator.fit(X_train, y_train, **fit_params)\n",
      "  File \"C:\\Users\\skhus\\anaconda3\\lib\\site-packages\\sklearn\\svm\\_classes.py\", line 234, in fit\n",
      "    self.coef_, self.intercept_, self.n_iter_ = _fit_liblinear(\n",
      "  File \"C:\\Users\\skhus\\anaconda3\\lib\\site-packages\\sklearn\\svm\\_base.py\", line 974, in _fit_liblinear\n",
      "    solver_type = _get_liblinear_solver_type(multi_class, penalty, loss, dual)\n",
      "  File \"C:\\Users\\skhus\\anaconda3\\lib\\site-packages\\sklearn\\svm\\_base.py\", line 830, in _get_liblinear_solver_type\n",
      "    raise ValueError('Unsupported set of arguments: %s, '\n",
      "ValueError: Unsupported set of arguments: The combination of penalty='l1' and loss='hinge' is not supported, Parameters: penalty='l1', loss='hinge', dual=True\n",
      "\n",
      "  warnings.warn(\"Estimator fit failed. The score on this train-test\"\n",
      "C:\\Users\\skhus\\anaconda3\\lib\\site-packages\\sklearn\\model_selection\\_validation.py:610: FitFailedWarning: Estimator fit failed. The score on this train-test partition for these parameters will be set to nan. Details: \n",
      "Traceback (most recent call last):\n",
      "  File \"C:\\Users\\skhus\\anaconda3\\lib\\site-packages\\sklearn\\model_selection\\_validation.py\", line 593, in _fit_and_score\n",
      "    estimator.fit(X_train, y_train, **fit_params)\n",
      "  File \"C:\\Users\\skhus\\anaconda3\\lib\\site-packages\\sklearn\\svm\\_classes.py\", line 234, in fit\n",
      "    self.coef_, self.intercept_, self.n_iter_ = _fit_liblinear(\n",
      "  File \"C:\\Users\\skhus\\anaconda3\\lib\\site-packages\\sklearn\\svm\\_base.py\", line 974, in _fit_liblinear\n",
      "    solver_type = _get_liblinear_solver_type(multi_class, penalty, loss, dual)\n",
      "  File \"C:\\Users\\skhus\\anaconda3\\lib\\site-packages\\sklearn\\svm\\_base.py\", line 830, in _get_liblinear_solver_type\n",
      "    raise ValueError('Unsupported set of arguments: %s, '\n",
      "ValueError: Unsupported set of arguments: The combination of penalty='l1' and loss='hinge' is not supported, Parameters: penalty='l1', loss='hinge', dual=True\n",
      "\n",
      "  warnings.warn(\"Estimator fit failed. The score on this train-test\"\n",
      "C:\\Users\\skhus\\anaconda3\\lib\\site-packages\\sklearn\\model_selection\\_validation.py:610: FitFailedWarning: Estimator fit failed. The score on this train-test partition for these parameters will be set to nan. Details: \n",
      "Traceback (most recent call last):\n",
      "  File \"C:\\Users\\skhus\\anaconda3\\lib\\site-packages\\sklearn\\model_selection\\_validation.py\", line 593, in _fit_and_score\n",
      "    estimator.fit(X_train, y_train, **fit_params)\n",
      "  File \"C:\\Users\\skhus\\anaconda3\\lib\\site-packages\\sklearn\\svm\\_classes.py\", line 234, in fit\n",
      "    self.coef_, self.intercept_, self.n_iter_ = _fit_liblinear(\n",
      "  File \"C:\\Users\\skhus\\anaconda3\\lib\\site-packages\\sklearn\\svm\\_base.py\", line 974, in _fit_liblinear\n",
      "    solver_type = _get_liblinear_solver_type(multi_class, penalty, loss, dual)\n",
      "  File \"C:\\Users\\skhus\\anaconda3\\lib\\site-packages\\sklearn\\svm\\_base.py\", line 830, in _get_liblinear_solver_type\n",
      "    raise ValueError('Unsupported set of arguments: %s, '\n",
      "ValueError: Unsupported set of arguments: The combination of penalty='l1' and loss='hinge' is not supported, Parameters: penalty='l1', loss='hinge', dual=True\n",
      "\n",
      "  warnings.warn(\"Estimator fit failed. The score on this train-test\"\n",
      "C:\\Users\\skhus\\anaconda3\\lib\\site-packages\\sklearn\\model_selection\\_validation.py:610: FitFailedWarning: Estimator fit failed. The score on this train-test partition for these parameters will be set to nan. Details: \n",
      "Traceback (most recent call last):\n",
      "  File \"C:\\Users\\skhus\\anaconda3\\lib\\site-packages\\sklearn\\model_selection\\_validation.py\", line 593, in _fit_and_score\n",
      "    estimator.fit(X_train, y_train, **fit_params)\n",
      "  File \"C:\\Users\\skhus\\anaconda3\\lib\\site-packages\\sklearn\\svm\\_classes.py\", line 234, in fit\n",
      "    self.coef_, self.intercept_, self.n_iter_ = _fit_liblinear(\n",
      "  File \"C:\\Users\\skhus\\anaconda3\\lib\\site-packages\\sklearn\\svm\\_base.py\", line 974, in _fit_liblinear\n",
      "    solver_type = _get_liblinear_solver_type(multi_class, penalty, loss, dual)\n",
      "  File \"C:\\Users\\skhus\\anaconda3\\lib\\site-packages\\sklearn\\svm\\_base.py\", line 830, in _get_liblinear_solver_type\n",
      "    raise ValueError('Unsupported set of arguments: %s, '\n",
      "ValueError: Unsupported set of arguments: The combination of penalty='l1' and loss='hinge' is not supported, Parameters: penalty='l1', loss='hinge', dual=True\n",
      "\n",
      "  warnings.warn(\"Estimator fit failed. The score on this train-test\"\n",
      "C:\\Users\\skhus\\anaconda3\\lib\\site-packages\\sklearn\\model_selection\\_validation.py:610: FitFailedWarning: Estimator fit failed. The score on this train-test partition for these parameters will be set to nan. Details: \n",
      "Traceback (most recent call last):\n",
      "  File \"C:\\Users\\skhus\\anaconda3\\lib\\site-packages\\sklearn\\model_selection\\_validation.py\", line 593, in _fit_and_score\n",
      "    estimator.fit(X_train, y_train, **fit_params)\n",
      "  File \"C:\\Users\\skhus\\anaconda3\\lib\\site-packages\\sklearn\\svm\\_classes.py\", line 234, in fit\n",
      "    self.coef_, self.intercept_, self.n_iter_ = _fit_liblinear(\n",
      "  File \"C:\\Users\\skhus\\anaconda3\\lib\\site-packages\\sklearn\\svm\\_base.py\", line 974, in _fit_liblinear\n",
      "    solver_type = _get_liblinear_solver_type(multi_class, penalty, loss, dual)\n",
      "  File \"C:\\Users\\skhus\\anaconda3\\lib\\site-packages\\sklearn\\svm\\_base.py\", line 830, in _get_liblinear_solver_type\n",
      "    raise ValueError('Unsupported set of arguments: %s, '\n",
      "ValueError: Unsupported set of arguments: The combination of penalty='l1' and loss='hinge' is not supported, Parameters: penalty='l1', loss='hinge', dual=True\n",
      "\n",
      "  warnings.warn(\"Estimator fit failed. The score on this train-test\"\n",
      "C:\\Users\\skhus\\anaconda3\\lib\\site-packages\\sklearn\\model_selection\\_validation.py:610: FitFailedWarning: Estimator fit failed. The score on this train-test partition for these parameters will be set to nan. Details: \n",
      "Traceback (most recent call last):\n",
      "  File \"C:\\Users\\skhus\\anaconda3\\lib\\site-packages\\sklearn\\model_selection\\_validation.py\", line 593, in _fit_and_score\n",
      "    estimator.fit(X_train, y_train, **fit_params)\n",
      "  File \"C:\\Users\\skhus\\anaconda3\\lib\\site-packages\\sklearn\\svm\\_classes.py\", line 234, in fit\n",
      "    self.coef_, self.intercept_, self.n_iter_ = _fit_liblinear(\n",
      "  File \"C:\\Users\\skhus\\anaconda3\\lib\\site-packages\\sklearn\\svm\\_base.py\", line 974, in _fit_liblinear\n",
      "    solver_type = _get_liblinear_solver_type(multi_class, penalty, loss, dual)\n",
      "  File \"C:\\Users\\skhus\\anaconda3\\lib\\site-packages\\sklearn\\svm\\_base.py\", line 830, in _get_liblinear_solver_type\n",
      "    raise ValueError('Unsupported set of arguments: %s, '\n",
      "ValueError: Unsupported set of arguments: The combination of penalty='l1' and loss='squared_hinge' are not supported when dual=True, Parameters: penalty='l1', loss='squared_hinge', dual=True\n",
      "\n",
      "  warnings.warn(\"Estimator fit failed. The score on this train-test\"\n",
      "C:\\Users\\skhus\\anaconda3\\lib\\site-packages\\sklearn\\model_selection\\_validation.py:610: FitFailedWarning: Estimator fit failed. The score on this train-test partition for these parameters will be set to nan. Details: \n",
      "Traceback (most recent call last):\n",
      "  File \"C:\\Users\\skhus\\anaconda3\\lib\\site-packages\\sklearn\\model_selection\\_validation.py\", line 593, in _fit_and_score\n",
      "    estimator.fit(X_train, y_train, **fit_params)\n",
      "  File \"C:\\Users\\skhus\\anaconda3\\lib\\site-packages\\sklearn\\svm\\_classes.py\", line 234, in fit\n",
      "    self.coef_, self.intercept_, self.n_iter_ = _fit_liblinear(\n",
      "  File \"C:\\Users\\skhus\\anaconda3\\lib\\site-packages\\sklearn\\svm\\_base.py\", line 974, in _fit_liblinear\n",
      "    solver_type = _get_liblinear_solver_type(multi_class, penalty, loss, dual)\n",
      "  File \"C:\\Users\\skhus\\anaconda3\\lib\\site-packages\\sklearn\\svm\\_base.py\", line 830, in _get_liblinear_solver_type\n",
      "    raise ValueError('Unsupported set of arguments: %s, '\n",
      "ValueError: Unsupported set of arguments: The combination of penalty='l1' and loss='squared_hinge' are not supported when dual=True, Parameters: penalty='l1', loss='squared_hinge', dual=True\n",
      "\n",
      "  warnings.warn(\"Estimator fit failed. The score on this train-test\"\n",
      "C:\\Users\\skhus\\anaconda3\\lib\\site-packages\\sklearn\\model_selection\\_validation.py:610: FitFailedWarning: Estimator fit failed. The score on this train-test partition for these parameters will be set to nan. Details: \n",
      "Traceback (most recent call last):\n",
      "  File \"C:\\Users\\skhus\\anaconda3\\lib\\site-packages\\sklearn\\model_selection\\_validation.py\", line 593, in _fit_and_score\n",
      "    estimator.fit(X_train, y_train, **fit_params)\n",
      "  File \"C:\\Users\\skhus\\anaconda3\\lib\\site-packages\\sklearn\\svm\\_classes.py\", line 234, in fit\n",
      "    self.coef_, self.intercept_, self.n_iter_ = _fit_liblinear(\n",
      "  File \"C:\\Users\\skhus\\anaconda3\\lib\\site-packages\\sklearn\\svm\\_base.py\", line 974, in _fit_liblinear\n",
      "    solver_type = _get_liblinear_solver_type(multi_class, penalty, loss, dual)\n",
      "  File \"C:\\Users\\skhus\\anaconda3\\lib\\site-packages\\sklearn\\svm\\_base.py\", line 830, in _get_liblinear_solver_type\n",
      "    raise ValueError('Unsupported set of arguments: %s, '\n",
      "ValueError: Unsupported set of arguments: The combination of penalty='l1' and loss='squared_hinge' are not supported when dual=True, Parameters: penalty='l1', loss='squared_hinge', dual=True\n",
      "\n",
      "  warnings.warn(\"Estimator fit failed. The score on this train-test\"\n",
      "C:\\Users\\skhus\\anaconda3\\lib\\site-packages\\sklearn\\model_selection\\_validation.py:610: FitFailedWarning: Estimator fit failed. The score on this train-test partition for these parameters will be set to nan. Details: \n",
      "Traceback (most recent call last):\n",
      "  File \"C:\\Users\\skhus\\anaconda3\\lib\\site-packages\\sklearn\\model_selection\\_validation.py\", line 593, in _fit_and_score\n",
      "    estimator.fit(X_train, y_train, **fit_params)\n",
      "  File \"C:\\Users\\skhus\\anaconda3\\lib\\site-packages\\sklearn\\svm\\_classes.py\", line 234, in fit\n",
      "    self.coef_, self.intercept_, self.n_iter_ = _fit_liblinear(\n",
      "  File \"C:\\Users\\skhus\\anaconda3\\lib\\site-packages\\sklearn\\svm\\_base.py\", line 974, in _fit_liblinear\n",
      "    solver_type = _get_liblinear_solver_type(multi_class, penalty, loss, dual)\n",
      "  File \"C:\\Users\\skhus\\anaconda3\\lib\\site-packages\\sklearn\\svm\\_base.py\", line 830, in _get_liblinear_solver_type\n",
      "    raise ValueError('Unsupported set of arguments: %s, '\n",
      "ValueError: Unsupported set of arguments: The combination of penalty='l1' and loss='squared_hinge' are not supported when dual=True, Parameters: penalty='l1', loss='squared_hinge', dual=True\n",
      "\n",
      "  warnings.warn(\"Estimator fit failed. The score on this train-test\"\n",
      "C:\\Users\\skhus\\anaconda3\\lib\\site-packages\\sklearn\\model_selection\\_validation.py:610: FitFailedWarning: Estimator fit failed. The score on this train-test partition for these parameters will be set to nan. Details: \n",
      "Traceback (most recent call last):\n",
      "  File \"C:\\Users\\skhus\\anaconda3\\lib\\site-packages\\sklearn\\model_selection\\_validation.py\", line 593, in _fit_and_score\n",
      "    estimator.fit(X_train, y_train, **fit_params)\n",
      "  File \"C:\\Users\\skhus\\anaconda3\\lib\\site-packages\\sklearn\\svm\\_classes.py\", line 234, in fit\n",
      "    self.coef_, self.intercept_, self.n_iter_ = _fit_liblinear(\n",
      "  File \"C:\\Users\\skhus\\anaconda3\\lib\\site-packages\\sklearn\\svm\\_base.py\", line 974, in _fit_liblinear\n",
      "    solver_type = _get_liblinear_solver_type(multi_class, penalty, loss, dual)\n",
      "  File \"C:\\Users\\skhus\\anaconda3\\lib\\site-packages\\sklearn\\svm\\_base.py\", line 830, in _get_liblinear_solver_type\n",
      "    raise ValueError('Unsupported set of arguments: %s, '\n",
      "ValueError: Unsupported set of arguments: The combination of penalty='l1' and loss='squared_hinge' are not supported when dual=True, Parameters: penalty='l1', loss='squared_hinge', dual=True\n",
      "\n",
      "  warnings.warn(\"Estimator fit failed. The score on this train-test\"\n"
     ]
    },
    {
     "name": "stdout",
     "output_type": "stream",
     "text": [
      "[CV 4/5] END C=0.1, dual=True, fit_intercept=True, loss=hinge, multi_class=crammer_singer, penalty=l1; total time=   0.0s\n",
      "[CV 5/5] END C=0.1, dual=True, fit_intercept=True, loss=hinge, multi_class=crammer_singer, penalty=l1; total time=   0.0s\n",
      "[CV 1/5] END C=0.1, dual=True, fit_intercept=True, loss=hinge, multi_class=crammer_singer, penalty=l2; total time=   0.0s\n",
      "[CV 2/5] END C=0.1, dual=True, fit_intercept=True, loss=hinge, multi_class=crammer_singer, penalty=l2; total time=   0.0s\n",
      "[CV 3/5] END C=0.1, dual=True, fit_intercept=True, loss=hinge, multi_class=crammer_singer, penalty=l2; total time=   0.0s\n",
      "[CV 4/5] END C=0.1, dual=True, fit_intercept=True, loss=hinge, multi_class=crammer_singer, penalty=l2; total time=   0.0s\n",
      "[CV 5/5] END C=0.1, dual=True, fit_intercept=True, loss=hinge, multi_class=crammer_singer, penalty=l2; total time=   0.0s\n",
      "[CV 1/5] END C=0.1, dual=True, fit_intercept=True, loss=squared_hinge, multi_class=ovr, penalty=l1; total time=   0.0s\n",
      "[CV 2/5] END C=0.1, dual=True, fit_intercept=True, loss=squared_hinge, multi_class=ovr, penalty=l1; total time=   0.0s\n",
      "[CV 3/5] END C=0.1, dual=True, fit_intercept=True, loss=squared_hinge, multi_class=ovr, penalty=l1; total time=   0.0s\n",
      "[CV 4/5] END C=0.1, dual=True, fit_intercept=True, loss=squared_hinge, multi_class=ovr, penalty=l1; total time=   0.0s\n",
      "[CV 5/5] END C=0.1, dual=True, fit_intercept=True, loss=squared_hinge, multi_class=ovr, penalty=l1; total time=   0.0s\n",
      "[CV 1/5] END C=0.1, dual=True, fit_intercept=True, loss=squared_hinge, multi_class=ovr, penalty=l2; total time=   0.0s\n",
      "[CV 2/5] END C=0.1, dual=True, fit_intercept=True, loss=squared_hinge, multi_class=ovr, penalty=l2; total time=   0.0s\n",
      "[CV 3/5] END C=0.1, dual=True, fit_intercept=True, loss=squared_hinge, multi_class=ovr, penalty=l2; total time=   0.0s\n",
      "[CV 4/5] END C=0.1, dual=True, fit_intercept=True, loss=squared_hinge, multi_class=ovr, penalty=l2; total time=   0.0s\n",
      "[CV 5/5] END C=0.1, dual=True, fit_intercept=True, loss=squared_hinge, multi_class=ovr, penalty=l2; total time=   0.0s\n",
      "[CV 1/5] END C=0.1, dual=True, fit_intercept=True, loss=squared_hinge, multi_class=crammer_singer, penalty=l1; total time=   0.0s\n",
      "[CV 2/5] END C=0.1, dual=True, fit_intercept=True, loss=squared_hinge, multi_class=crammer_singer, penalty=l1; total time=   0.0s\n",
      "[CV 3/5] END C=0.1, dual=True, fit_intercept=True, loss=squared_hinge, multi_class=crammer_singer, penalty=l1; total time=   0.0s\n",
      "[CV 4/5] END C=0.1, dual=True, fit_intercept=True, loss=squared_hinge, multi_class=crammer_singer, penalty=l1; total time=   0.0s\n",
      "[CV 5/5] END C=0.1, dual=True, fit_intercept=True, loss=squared_hinge, multi_class=crammer_singer, penalty=l1; total time=   0.0s\n",
      "[CV 1/5] END C=0.1, dual=True, fit_intercept=True, loss=squared_hinge, multi_class=crammer_singer, penalty=l2; total time=   0.0s\n",
      "[CV 2/5] END C=0.1, dual=True, fit_intercept=True, loss=squared_hinge, multi_class=crammer_singer, penalty=l2; total time=   0.0s\n",
      "[CV 3/5] END C=0.1, dual=True, fit_intercept=True, loss=squared_hinge, multi_class=crammer_singer, penalty=l2; total time=   0.0s\n",
      "[CV 4/5] END C=0.1, dual=True, fit_intercept=True, loss=squared_hinge, multi_class=crammer_singer, penalty=l2; total time=   0.0s\n",
      "[CV 5/5] END C=0.1, dual=True, fit_intercept=True, loss=squared_hinge, multi_class=crammer_singer, penalty=l2; total time=   0.0s\n",
      "[CV 1/5] END C=0.5, dual=False, fit_intercept=False, loss=hinge, multi_class=ovr, penalty=l1; total time=   0.0s\n",
      "[CV 2/5] END C=0.5, dual=False, fit_intercept=False, loss=hinge, multi_class=ovr, penalty=l1; total time=   0.0s\n",
      "[CV 3/5] END C=0.5, dual=False, fit_intercept=False, loss=hinge, multi_class=ovr, penalty=l1; total time=   0.0s\n",
      "[CV 4/5] END C=0.5, dual=False, fit_intercept=False, loss=hinge, multi_class=ovr, penalty=l1; total time=   0.0s\n",
      "[CV 5/5] END C=0.5, dual=False, fit_intercept=False, loss=hinge, multi_class=ovr, penalty=l1; total time=   0.0s\n",
      "[CV 1/5] END C=0.5, dual=False, fit_intercept=False, loss=hinge, multi_class=ovr, penalty=l2; total time=   0.0s\n",
      "[CV 2/5] END C=0.5, dual=False, fit_intercept=False, loss=hinge, multi_class=ovr, penalty=l2; total time=   0.0s\n",
      "[CV 3/5] END C=0.5, dual=False, fit_intercept=False, loss=hinge, multi_class=ovr, penalty=l2; total time=   0.0s\n",
      "[CV 4/5] END C=0.5, dual=False, fit_intercept=False, loss=hinge, multi_class=ovr, penalty=l2; total time=   0.0s\n",
      "[CV 5/5] END C=0.5, dual=False, fit_intercept=False, loss=hinge, multi_class=ovr, penalty=l2; total time=   0.0s\n",
      "[CV 1/5] END C=0.5, dual=False, fit_intercept=False, loss=hinge, multi_class=crammer_singer, penalty=l1; total time=   0.0s\n"
     ]
    },
    {
     "name": "stderr",
     "output_type": "stream",
     "text": [
      "C:\\Users\\skhus\\anaconda3\\lib\\site-packages\\sklearn\\model_selection\\_validation.py:610: FitFailedWarning: Estimator fit failed. The score on this train-test partition for these parameters will be set to nan. Details: \n",
      "Traceback (most recent call last):\n",
      "  File \"C:\\Users\\skhus\\anaconda3\\lib\\site-packages\\sklearn\\model_selection\\_validation.py\", line 593, in _fit_and_score\n",
      "    estimator.fit(X_train, y_train, **fit_params)\n",
      "  File \"C:\\Users\\skhus\\anaconda3\\lib\\site-packages\\sklearn\\svm\\_classes.py\", line 234, in fit\n",
      "    self.coef_, self.intercept_, self.n_iter_ = _fit_liblinear(\n",
      "  File \"C:\\Users\\skhus\\anaconda3\\lib\\site-packages\\sklearn\\svm\\_base.py\", line 974, in _fit_liblinear\n",
      "    solver_type = _get_liblinear_solver_type(multi_class, penalty, loss, dual)\n",
      "  File \"C:\\Users\\skhus\\anaconda3\\lib\\site-packages\\sklearn\\svm\\_base.py\", line 830, in _get_liblinear_solver_type\n",
      "    raise ValueError('Unsupported set of arguments: %s, '\n",
      "ValueError: Unsupported set of arguments: The combination of penalty='l1' and loss='hinge' is not supported, Parameters: penalty='l1', loss='hinge', dual=False\n",
      "\n",
      "  warnings.warn(\"Estimator fit failed. The score on this train-test\"\n",
      "C:\\Users\\skhus\\anaconda3\\lib\\site-packages\\sklearn\\model_selection\\_validation.py:610: FitFailedWarning: Estimator fit failed. The score on this train-test partition for these parameters will be set to nan. Details: \n",
      "Traceback (most recent call last):\n",
      "  File \"C:\\Users\\skhus\\anaconda3\\lib\\site-packages\\sklearn\\model_selection\\_validation.py\", line 593, in _fit_and_score\n",
      "    estimator.fit(X_train, y_train, **fit_params)\n",
      "  File \"C:\\Users\\skhus\\anaconda3\\lib\\site-packages\\sklearn\\svm\\_classes.py\", line 234, in fit\n",
      "    self.coef_, self.intercept_, self.n_iter_ = _fit_liblinear(\n",
      "  File \"C:\\Users\\skhus\\anaconda3\\lib\\site-packages\\sklearn\\svm\\_base.py\", line 974, in _fit_liblinear\n",
      "    solver_type = _get_liblinear_solver_type(multi_class, penalty, loss, dual)\n",
      "  File \"C:\\Users\\skhus\\anaconda3\\lib\\site-packages\\sklearn\\svm\\_base.py\", line 830, in _get_liblinear_solver_type\n",
      "    raise ValueError('Unsupported set of arguments: %s, '\n",
      "ValueError: Unsupported set of arguments: The combination of penalty='l1' and loss='hinge' is not supported, Parameters: penalty='l1', loss='hinge', dual=False\n",
      "\n",
      "  warnings.warn(\"Estimator fit failed. The score on this train-test\"\n",
      "C:\\Users\\skhus\\anaconda3\\lib\\site-packages\\sklearn\\model_selection\\_validation.py:610: FitFailedWarning: Estimator fit failed. The score on this train-test partition for these parameters will be set to nan. Details: \n",
      "Traceback (most recent call last):\n",
      "  File \"C:\\Users\\skhus\\anaconda3\\lib\\site-packages\\sklearn\\model_selection\\_validation.py\", line 593, in _fit_and_score\n",
      "    estimator.fit(X_train, y_train, **fit_params)\n",
      "  File \"C:\\Users\\skhus\\anaconda3\\lib\\site-packages\\sklearn\\svm\\_classes.py\", line 234, in fit\n",
      "    self.coef_, self.intercept_, self.n_iter_ = _fit_liblinear(\n",
      "  File \"C:\\Users\\skhus\\anaconda3\\lib\\site-packages\\sklearn\\svm\\_base.py\", line 974, in _fit_liblinear\n",
      "    solver_type = _get_liblinear_solver_type(multi_class, penalty, loss, dual)\n",
      "  File \"C:\\Users\\skhus\\anaconda3\\lib\\site-packages\\sklearn\\svm\\_base.py\", line 830, in _get_liblinear_solver_type\n",
      "    raise ValueError('Unsupported set of arguments: %s, '\n",
      "ValueError: Unsupported set of arguments: The combination of penalty='l1' and loss='hinge' is not supported, Parameters: penalty='l1', loss='hinge', dual=False\n",
      "\n",
      "  warnings.warn(\"Estimator fit failed. The score on this train-test\"\n",
      "C:\\Users\\skhus\\anaconda3\\lib\\site-packages\\sklearn\\model_selection\\_validation.py:610: FitFailedWarning: Estimator fit failed. The score on this train-test partition for these parameters will be set to nan. Details: \n",
      "Traceback (most recent call last):\n",
      "  File \"C:\\Users\\skhus\\anaconda3\\lib\\site-packages\\sklearn\\model_selection\\_validation.py\", line 593, in _fit_and_score\n",
      "    estimator.fit(X_train, y_train, **fit_params)\n",
      "  File \"C:\\Users\\skhus\\anaconda3\\lib\\site-packages\\sklearn\\svm\\_classes.py\", line 234, in fit\n",
      "    self.coef_, self.intercept_, self.n_iter_ = _fit_liblinear(\n",
      "  File \"C:\\Users\\skhus\\anaconda3\\lib\\site-packages\\sklearn\\svm\\_base.py\", line 974, in _fit_liblinear\n",
      "    solver_type = _get_liblinear_solver_type(multi_class, penalty, loss, dual)\n",
      "  File \"C:\\Users\\skhus\\anaconda3\\lib\\site-packages\\sklearn\\svm\\_base.py\", line 830, in _get_liblinear_solver_type\n",
      "    raise ValueError('Unsupported set of arguments: %s, '\n",
      "ValueError: Unsupported set of arguments: The combination of penalty='l1' and loss='hinge' is not supported, Parameters: penalty='l1', loss='hinge', dual=False\n",
      "\n",
      "  warnings.warn(\"Estimator fit failed. The score on this train-test\"\n",
      "C:\\Users\\skhus\\anaconda3\\lib\\site-packages\\sklearn\\model_selection\\_validation.py:610: FitFailedWarning: Estimator fit failed. The score on this train-test partition for these parameters will be set to nan. Details: \n",
      "Traceback (most recent call last):\n",
      "  File \"C:\\Users\\skhus\\anaconda3\\lib\\site-packages\\sklearn\\model_selection\\_validation.py\", line 593, in _fit_and_score\n",
      "    estimator.fit(X_train, y_train, **fit_params)\n",
      "  File \"C:\\Users\\skhus\\anaconda3\\lib\\site-packages\\sklearn\\svm\\_classes.py\", line 234, in fit\n",
      "    self.coef_, self.intercept_, self.n_iter_ = _fit_liblinear(\n",
      "  File \"C:\\Users\\skhus\\anaconda3\\lib\\site-packages\\sklearn\\svm\\_base.py\", line 974, in _fit_liblinear\n",
      "    solver_type = _get_liblinear_solver_type(multi_class, penalty, loss, dual)\n",
      "  File \"C:\\Users\\skhus\\anaconda3\\lib\\site-packages\\sklearn\\svm\\_base.py\", line 830, in _get_liblinear_solver_type\n",
      "    raise ValueError('Unsupported set of arguments: %s, '\n",
      "ValueError: Unsupported set of arguments: The combination of penalty='l1' and loss='hinge' is not supported, Parameters: penalty='l1', loss='hinge', dual=False\n",
      "\n",
      "  warnings.warn(\"Estimator fit failed. The score on this train-test\"\n",
      "C:\\Users\\skhus\\anaconda3\\lib\\site-packages\\sklearn\\model_selection\\_validation.py:610: FitFailedWarning: Estimator fit failed. The score on this train-test partition for these parameters will be set to nan. Details: \n",
      "Traceback (most recent call last):\n",
      "  File \"C:\\Users\\skhus\\anaconda3\\lib\\site-packages\\sklearn\\model_selection\\_validation.py\", line 593, in _fit_and_score\n",
      "    estimator.fit(X_train, y_train, **fit_params)\n",
      "  File \"C:\\Users\\skhus\\anaconda3\\lib\\site-packages\\sklearn\\svm\\_classes.py\", line 234, in fit\n",
      "    self.coef_, self.intercept_, self.n_iter_ = _fit_liblinear(\n",
      "  File \"C:\\Users\\skhus\\anaconda3\\lib\\site-packages\\sklearn\\svm\\_base.py\", line 974, in _fit_liblinear\n",
      "    solver_type = _get_liblinear_solver_type(multi_class, penalty, loss, dual)\n",
      "  File \"C:\\Users\\skhus\\anaconda3\\lib\\site-packages\\sklearn\\svm\\_base.py\", line 830, in _get_liblinear_solver_type\n",
      "    raise ValueError('Unsupported set of arguments: %s, '\n",
      "ValueError: Unsupported set of arguments: The combination of penalty='l2' and loss='hinge' are not supported when dual=False, Parameters: penalty='l2', loss='hinge', dual=False\n",
      "\n",
      "  warnings.warn(\"Estimator fit failed. The score on this train-test\"\n",
      "C:\\Users\\skhus\\anaconda3\\lib\\site-packages\\sklearn\\model_selection\\_validation.py:610: FitFailedWarning: Estimator fit failed. The score on this train-test partition for these parameters will be set to nan. Details: \n",
      "Traceback (most recent call last):\n",
      "  File \"C:\\Users\\skhus\\anaconda3\\lib\\site-packages\\sklearn\\model_selection\\_validation.py\", line 593, in _fit_and_score\n",
      "    estimator.fit(X_train, y_train, **fit_params)\n",
      "  File \"C:\\Users\\skhus\\anaconda3\\lib\\site-packages\\sklearn\\svm\\_classes.py\", line 234, in fit\n",
      "    self.coef_, self.intercept_, self.n_iter_ = _fit_liblinear(\n",
      "  File \"C:\\Users\\skhus\\anaconda3\\lib\\site-packages\\sklearn\\svm\\_base.py\", line 974, in _fit_liblinear\n",
      "    solver_type = _get_liblinear_solver_type(multi_class, penalty, loss, dual)\n",
      "  File \"C:\\Users\\skhus\\anaconda3\\lib\\site-packages\\sklearn\\svm\\_base.py\", line 830, in _get_liblinear_solver_type\n",
      "    raise ValueError('Unsupported set of arguments: %s, '\n",
      "ValueError: Unsupported set of arguments: The combination of penalty='l2' and loss='hinge' are not supported when dual=False, Parameters: penalty='l2', loss='hinge', dual=False\n",
      "\n",
      "  warnings.warn(\"Estimator fit failed. The score on this train-test\"\n",
      "C:\\Users\\skhus\\anaconda3\\lib\\site-packages\\sklearn\\model_selection\\_validation.py:610: FitFailedWarning: Estimator fit failed. The score on this train-test partition for these parameters will be set to nan. Details: \n",
      "Traceback (most recent call last):\n",
      "  File \"C:\\Users\\skhus\\anaconda3\\lib\\site-packages\\sklearn\\model_selection\\_validation.py\", line 593, in _fit_and_score\n",
      "    estimator.fit(X_train, y_train, **fit_params)\n",
      "  File \"C:\\Users\\skhus\\anaconda3\\lib\\site-packages\\sklearn\\svm\\_classes.py\", line 234, in fit\n",
      "    self.coef_, self.intercept_, self.n_iter_ = _fit_liblinear(\n",
      "  File \"C:\\Users\\skhus\\anaconda3\\lib\\site-packages\\sklearn\\svm\\_base.py\", line 974, in _fit_liblinear\n",
      "    solver_type = _get_liblinear_solver_type(multi_class, penalty, loss, dual)\n",
      "  File \"C:\\Users\\skhus\\anaconda3\\lib\\site-packages\\sklearn\\svm\\_base.py\", line 830, in _get_liblinear_solver_type\n",
      "    raise ValueError('Unsupported set of arguments: %s, '\n",
      "ValueError: Unsupported set of arguments: The combination of penalty='l2' and loss='hinge' are not supported when dual=False, Parameters: penalty='l2', loss='hinge', dual=False\n",
      "\n",
      "  warnings.warn(\"Estimator fit failed. The score on this train-test\"\n",
      "C:\\Users\\skhus\\anaconda3\\lib\\site-packages\\sklearn\\model_selection\\_validation.py:610: FitFailedWarning: Estimator fit failed. The score on this train-test partition for these parameters will be set to nan. Details: \n",
      "Traceback (most recent call last):\n",
      "  File \"C:\\Users\\skhus\\anaconda3\\lib\\site-packages\\sklearn\\model_selection\\_validation.py\", line 593, in _fit_and_score\n",
      "    estimator.fit(X_train, y_train, **fit_params)\n",
      "  File \"C:\\Users\\skhus\\anaconda3\\lib\\site-packages\\sklearn\\svm\\_classes.py\", line 234, in fit\n",
      "    self.coef_, self.intercept_, self.n_iter_ = _fit_liblinear(\n",
      "  File \"C:\\Users\\skhus\\anaconda3\\lib\\site-packages\\sklearn\\svm\\_base.py\", line 974, in _fit_liblinear\n",
      "    solver_type = _get_liblinear_solver_type(multi_class, penalty, loss, dual)\n",
      "  File \"C:\\Users\\skhus\\anaconda3\\lib\\site-packages\\sklearn\\svm\\_base.py\", line 830, in _get_liblinear_solver_type\n",
      "    raise ValueError('Unsupported set of arguments: %s, '\n",
      "ValueError: Unsupported set of arguments: The combination of penalty='l2' and loss='hinge' are not supported when dual=False, Parameters: penalty='l2', loss='hinge', dual=False\n",
      "\n",
      "  warnings.warn(\"Estimator fit failed. The score on this train-test\"\n",
      "C:\\Users\\skhus\\anaconda3\\lib\\site-packages\\sklearn\\model_selection\\_validation.py:610: FitFailedWarning: Estimator fit failed. The score on this train-test partition for these parameters will be set to nan. Details: \n",
      "Traceback (most recent call last):\n",
      "  File \"C:\\Users\\skhus\\anaconda3\\lib\\site-packages\\sklearn\\model_selection\\_validation.py\", line 593, in _fit_and_score\n",
      "    estimator.fit(X_train, y_train, **fit_params)\n",
      "  File \"C:\\Users\\skhus\\anaconda3\\lib\\site-packages\\sklearn\\svm\\_classes.py\", line 234, in fit\n",
      "    self.coef_, self.intercept_, self.n_iter_ = _fit_liblinear(\n",
      "  File \"C:\\Users\\skhus\\anaconda3\\lib\\site-packages\\sklearn\\svm\\_base.py\", line 974, in _fit_liblinear\n",
      "    solver_type = _get_liblinear_solver_type(multi_class, penalty, loss, dual)\n",
      "  File \"C:\\Users\\skhus\\anaconda3\\lib\\site-packages\\sklearn\\svm\\_base.py\", line 830, in _get_liblinear_solver_type\n",
      "    raise ValueError('Unsupported set of arguments: %s, '\n",
      "ValueError: Unsupported set of arguments: The combination of penalty='l2' and loss='hinge' are not supported when dual=False, Parameters: penalty='l2', loss='hinge', dual=False\n",
      "\n",
      "  warnings.warn(\"Estimator fit failed. The score on this train-test\"\n"
     ]
    },
    {
     "name": "stdout",
     "output_type": "stream",
     "text": [
      "[CV 2/5] END C=0.5, dual=False, fit_intercept=False, loss=hinge, multi_class=crammer_singer, penalty=l1; total time=   0.0s\n",
      "[CV 3/5] END C=0.5, dual=False, fit_intercept=False, loss=hinge, multi_class=crammer_singer, penalty=l1; total time=   0.0s\n",
      "[CV 4/5] END C=0.5, dual=False, fit_intercept=False, loss=hinge, multi_class=crammer_singer, penalty=l1; total time=   0.0s\n",
      "[CV 5/5] END C=0.5, dual=False, fit_intercept=False, loss=hinge, multi_class=crammer_singer, penalty=l1; total time=   0.0s\n",
      "[CV 1/5] END C=0.5, dual=False, fit_intercept=False, loss=hinge, multi_class=crammer_singer, penalty=l2; total time=   0.0s\n",
      "[CV 2/5] END C=0.5, dual=False, fit_intercept=False, loss=hinge, multi_class=crammer_singer, penalty=l2; total time=   0.0s\n",
      "[CV 3/5] END C=0.5, dual=False, fit_intercept=False, loss=hinge, multi_class=crammer_singer, penalty=l2; total time=   0.0s\n",
      "[CV 4/5] END C=0.5, dual=False, fit_intercept=False, loss=hinge, multi_class=crammer_singer, penalty=l2; total time=   0.0s\n",
      "[CV 5/5] END C=0.5, dual=False, fit_intercept=False, loss=hinge, multi_class=crammer_singer, penalty=l2; total time=   0.0s\n",
      "[CV 1/5] END C=0.5, dual=False, fit_intercept=False, loss=squared_hinge, multi_class=ovr, penalty=l1; total time=   0.0s\n",
      "[CV 2/5] END C=0.5, dual=False, fit_intercept=False, loss=squared_hinge, multi_class=ovr, penalty=l1; total time=   0.0s\n",
      "[CV 3/5] END C=0.5, dual=False, fit_intercept=False, loss=squared_hinge, multi_class=ovr, penalty=l1; total time=   0.0s\n",
      "[CV 4/5] END C=0.5, dual=False, fit_intercept=False, loss=squared_hinge, multi_class=ovr, penalty=l1; total time=   0.0s\n",
      "[CV 5/5] END C=0.5, dual=False, fit_intercept=False, loss=squared_hinge, multi_class=ovr, penalty=l1; total time=   0.0s\n",
      "[CV 1/5] END C=0.5, dual=False, fit_intercept=False, loss=squared_hinge, multi_class=ovr, penalty=l2; total time=   0.0s\n",
      "[CV 2/5] END C=0.5, dual=False, fit_intercept=False, loss=squared_hinge, multi_class=ovr, penalty=l2; total time=   0.0s\n",
      "[CV 3/5] END C=0.5, dual=False, fit_intercept=False, loss=squared_hinge, multi_class=ovr, penalty=l2; total time=   0.0s\n",
      "[CV 4/5] END C=0.5, dual=False, fit_intercept=False, loss=squared_hinge, multi_class=ovr, penalty=l2; total time=   0.0s\n",
      "[CV 5/5] END C=0.5, dual=False, fit_intercept=False, loss=squared_hinge, multi_class=ovr, penalty=l2; total time=   0.0s\n",
      "[CV 1/5] END C=0.5, dual=False, fit_intercept=False, loss=squared_hinge, multi_class=crammer_singer, penalty=l1; total time=   0.0s\n",
      "[CV 2/5] END C=0.5, dual=False, fit_intercept=False, loss=squared_hinge, multi_class=crammer_singer, penalty=l1; total time=   0.0s\n",
      "[CV 3/5] END C=0.5, dual=False, fit_intercept=False, loss=squared_hinge, multi_class=crammer_singer, penalty=l1; total time=   0.0s\n",
      "[CV 4/5] END C=0.5, dual=False, fit_intercept=False, loss=squared_hinge, multi_class=crammer_singer, penalty=l1; total time=   0.0s\n",
      "[CV 5/5] END C=0.5, dual=False, fit_intercept=False, loss=squared_hinge, multi_class=crammer_singer, penalty=l1; total time=   0.0s\n",
      "[CV 1/5] END C=0.5, dual=False, fit_intercept=False, loss=squared_hinge, multi_class=crammer_singer, penalty=l2; total time=   0.0s\n",
      "[CV 2/5] END C=0.5, dual=False, fit_intercept=False, loss=squared_hinge, multi_class=crammer_singer, penalty=l2; total time=   0.0s\n",
      "[CV 3/5] END C=0.5, dual=False, fit_intercept=False, loss=squared_hinge, multi_class=crammer_singer, penalty=l2; total time=   0.0s\n",
      "[CV 4/5] END C=0.5, dual=False, fit_intercept=False, loss=squared_hinge, multi_class=crammer_singer, penalty=l2; total time=   0.0s\n",
      "[CV 5/5] END C=0.5, dual=False, fit_intercept=False, loss=squared_hinge, multi_class=crammer_singer, penalty=l2; total time=   0.0s\n",
      "[CV 1/5] END C=0.5, dual=False, fit_intercept=True, loss=hinge, multi_class=ovr, penalty=l1; total time=   0.0s\n",
      "[CV 2/5] END C=0.5, dual=False, fit_intercept=True, loss=hinge, multi_class=ovr, penalty=l1; total time=   0.0s\n",
      "[CV 3/5] END C=0.5, dual=False, fit_intercept=True, loss=hinge, multi_class=ovr, penalty=l1; total time=   0.0s\n",
      "[CV 4/5] END C=0.5, dual=False, fit_intercept=True, loss=hinge, multi_class=ovr, penalty=l1; total time=   0.0s\n",
      "[CV 5/5] END C=0.5, dual=False, fit_intercept=True, loss=hinge, multi_class=ovr, penalty=l1; total time=   0.0s\n",
      "[CV 1/5] END C=0.5, dual=False, fit_intercept=True, loss=hinge, multi_class=ovr, penalty=l2; total time=   0.0s\n",
      "[CV 2/5] END C=0.5, dual=False, fit_intercept=True, loss=hinge, multi_class=ovr, penalty=l2; total time=   0.0s\n",
      "[CV 3/5] END C=0.5, dual=False, fit_intercept=True, loss=hinge, multi_class=ovr, penalty=l2; total time=   0.0s\n",
      "[CV 4/5] END C=0.5, dual=False, fit_intercept=True, loss=hinge, multi_class=ovr, penalty=l2; total time=   0.0s\n",
      "[CV 5/5] END C=0.5, dual=False, fit_intercept=True, loss=hinge, multi_class=ovr, penalty=l2; total time=   0.0s\n",
      "[CV 1/5] END C=0.5, dual=False, fit_intercept=True, loss=hinge, multi_class=crammer_singer, penalty=l1; total time=   0.0s\n"
     ]
    },
    {
     "name": "stderr",
     "output_type": "stream",
     "text": [
      "C:\\Users\\skhus\\anaconda3\\lib\\site-packages\\sklearn\\model_selection\\_validation.py:610: FitFailedWarning: Estimator fit failed. The score on this train-test partition for these parameters will be set to nan. Details: \n",
      "Traceback (most recent call last):\n",
      "  File \"C:\\Users\\skhus\\anaconda3\\lib\\site-packages\\sklearn\\model_selection\\_validation.py\", line 593, in _fit_and_score\n",
      "    estimator.fit(X_train, y_train, **fit_params)\n",
      "  File \"C:\\Users\\skhus\\anaconda3\\lib\\site-packages\\sklearn\\svm\\_classes.py\", line 234, in fit\n",
      "    self.coef_, self.intercept_, self.n_iter_ = _fit_liblinear(\n",
      "  File \"C:\\Users\\skhus\\anaconda3\\lib\\site-packages\\sklearn\\svm\\_base.py\", line 974, in _fit_liblinear\n",
      "    solver_type = _get_liblinear_solver_type(multi_class, penalty, loss, dual)\n",
      "  File \"C:\\Users\\skhus\\anaconda3\\lib\\site-packages\\sklearn\\svm\\_base.py\", line 830, in _get_liblinear_solver_type\n",
      "    raise ValueError('Unsupported set of arguments: %s, '\n",
      "ValueError: Unsupported set of arguments: The combination of penalty='l1' and loss='hinge' is not supported, Parameters: penalty='l1', loss='hinge', dual=False\n",
      "\n",
      "  warnings.warn(\"Estimator fit failed. The score on this train-test\"\n",
      "C:\\Users\\skhus\\anaconda3\\lib\\site-packages\\sklearn\\model_selection\\_validation.py:610: FitFailedWarning: Estimator fit failed. The score on this train-test partition for these parameters will be set to nan. Details: \n",
      "Traceback (most recent call last):\n",
      "  File \"C:\\Users\\skhus\\anaconda3\\lib\\site-packages\\sklearn\\model_selection\\_validation.py\", line 593, in _fit_and_score\n",
      "    estimator.fit(X_train, y_train, **fit_params)\n",
      "  File \"C:\\Users\\skhus\\anaconda3\\lib\\site-packages\\sklearn\\svm\\_classes.py\", line 234, in fit\n",
      "    self.coef_, self.intercept_, self.n_iter_ = _fit_liblinear(\n",
      "  File \"C:\\Users\\skhus\\anaconda3\\lib\\site-packages\\sklearn\\svm\\_base.py\", line 974, in _fit_liblinear\n",
      "    solver_type = _get_liblinear_solver_type(multi_class, penalty, loss, dual)\n",
      "  File \"C:\\Users\\skhus\\anaconda3\\lib\\site-packages\\sklearn\\svm\\_base.py\", line 830, in _get_liblinear_solver_type\n",
      "    raise ValueError('Unsupported set of arguments: %s, '\n",
      "ValueError: Unsupported set of arguments: The combination of penalty='l1' and loss='hinge' is not supported, Parameters: penalty='l1', loss='hinge', dual=False\n",
      "\n",
      "  warnings.warn(\"Estimator fit failed. The score on this train-test\"\n",
      "C:\\Users\\skhus\\anaconda3\\lib\\site-packages\\sklearn\\model_selection\\_validation.py:610: FitFailedWarning: Estimator fit failed. The score on this train-test partition for these parameters will be set to nan. Details: \n",
      "Traceback (most recent call last):\n",
      "  File \"C:\\Users\\skhus\\anaconda3\\lib\\site-packages\\sklearn\\model_selection\\_validation.py\", line 593, in _fit_and_score\n",
      "    estimator.fit(X_train, y_train, **fit_params)\n",
      "  File \"C:\\Users\\skhus\\anaconda3\\lib\\site-packages\\sklearn\\svm\\_classes.py\", line 234, in fit\n",
      "    self.coef_, self.intercept_, self.n_iter_ = _fit_liblinear(\n",
      "  File \"C:\\Users\\skhus\\anaconda3\\lib\\site-packages\\sklearn\\svm\\_base.py\", line 974, in _fit_liblinear\n",
      "    solver_type = _get_liblinear_solver_type(multi_class, penalty, loss, dual)\n",
      "  File \"C:\\Users\\skhus\\anaconda3\\lib\\site-packages\\sklearn\\svm\\_base.py\", line 830, in _get_liblinear_solver_type\n",
      "    raise ValueError('Unsupported set of arguments: %s, '\n",
      "ValueError: Unsupported set of arguments: The combination of penalty='l1' and loss='hinge' is not supported, Parameters: penalty='l1', loss='hinge', dual=False\n",
      "\n",
      "  warnings.warn(\"Estimator fit failed. The score on this train-test\"\n",
      "C:\\Users\\skhus\\anaconda3\\lib\\site-packages\\sklearn\\model_selection\\_validation.py:610: FitFailedWarning: Estimator fit failed. The score on this train-test partition for these parameters will be set to nan. Details: \n",
      "Traceback (most recent call last):\n",
      "  File \"C:\\Users\\skhus\\anaconda3\\lib\\site-packages\\sklearn\\model_selection\\_validation.py\", line 593, in _fit_and_score\n",
      "    estimator.fit(X_train, y_train, **fit_params)\n",
      "  File \"C:\\Users\\skhus\\anaconda3\\lib\\site-packages\\sklearn\\svm\\_classes.py\", line 234, in fit\n",
      "    self.coef_, self.intercept_, self.n_iter_ = _fit_liblinear(\n",
      "  File \"C:\\Users\\skhus\\anaconda3\\lib\\site-packages\\sklearn\\svm\\_base.py\", line 974, in _fit_liblinear\n",
      "    solver_type = _get_liblinear_solver_type(multi_class, penalty, loss, dual)\n",
      "  File \"C:\\Users\\skhus\\anaconda3\\lib\\site-packages\\sklearn\\svm\\_base.py\", line 830, in _get_liblinear_solver_type\n",
      "    raise ValueError('Unsupported set of arguments: %s, '\n",
      "ValueError: Unsupported set of arguments: The combination of penalty='l1' and loss='hinge' is not supported, Parameters: penalty='l1', loss='hinge', dual=False\n",
      "\n",
      "  warnings.warn(\"Estimator fit failed. The score on this train-test\"\n",
      "C:\\Users\\skhus\\anaconda3\\lib\\site-packages\\sklearn\\model_selection\\_validation.py:610: FitFailedWarning: Estimator fit failed. The score on this train-test partition for these parameters will be set to nan. Details: \n",
      "Traceback (most recent call last):\n",
      "  File \"C:\\Users\\skhus\\anaconda3\\lib\\site-packages\\sklearn\\model_selection\\_validation.py\", line 593, in _fit_and_score\n",
      "    estimator.fit(X_train, y_train, **fit_params)\n",
      "  File \"C:\\Users\\skhus\\anaconda3\\lib\\site-packages\\sklearn\\svm\\_classes.py\", line 234, in fit\n",
      "    self.coef_, self.intercept_, self.n_iter_ = _fit_liblinear(\n",
      "  File \"C:\\Users\\skhus\\anaconda3\\lib\\site-packages\\sklearn\\svm\\_base.py\", line 974, in _fit_liblinear\n",
      "    solver_type = _get_liblinear_solver_type(multi_class, penalty, loss, dual)\n",
      "  File \"C:\\Users\\skhus\\anaconda3\\lib\\site-packages\\sklearn\\svm\\_base.py\", line 830, in _get_liblinear_solver_type\n",
      "    raise ValueError('Unsupported set of arguments: %s, '\n",
      "ValueError: Unsupported set of arguments: The combination of penalty='l1' and loss='hinge' is not supported, Parameters: penalty='l1', loss='hinge', dual=False\n",
      "\n",
      "  warnings.warn(\"Estimator fit failed. The score on this train-test\"\n",
      "C:\\Users\\skhus\\anaconda3\\lib\\site-packages\\sklearn\\model_selection\\_validation.py:610: FitFailedWarning: Estimator fit failed. The score on this train-test partition for these parameters will be set to nan. Details: \n",
      "Traceback (most recent call last):\n",
      "  File \"C:\\Users\\skhus\\anaconda3\\lib\\site-packages\\sklearn\\model_selection\\_validation.py\", line 593, in _fit_and_score\n",
      "    estimator.fit(X_train, y_train, **fit_params)\n",
      "  File \"C:\\Users\\skhus\\anaconda3\\lib\\site-packages\\sklearn\\svm\\_classes.py\", line 234, in fit\n",
      "    self.coef_, self.intercept_, self.n_iter_ = _fit_liblinear(\n",
      "  File \"C:\\Users\\skhus\\anaconda3\\lib\\site-packages\\sklearn\\svm\\_base.py\", line 974, in _fit_liblinear\n",
      "    solver_type = _get_liblinear_solver_type(multi_class, penalty, loss, dual)\n",
      "  File \"C:\\Users\\skhus\\anaconda3\\lib\\site-packages\\sklearn\\svm\\_base.py\", line 830, in _get_liblinear_solver_type\n",
      "    raise ValueError('Unsupported set of arguments: %s, '\n",
      "ValueError: Unsupported set of arguments: The combination of penalty='l2' and loss='hinge' are not supported when dual=False, Parameters: penalty='l2', loss='hinge', dual=False\n",
      "\n",
      "  warnings.warn(\"Estimator fit failed. The score on this train-test\"\n",
      "C:\\Users\\skhus\\anaconda3\\lib\\site-packages\\sklearn\\model_selection\\_validation.py:610: FitFailedWarning: Estimator fit failed. The score on this train-test partition for these parameters will be set to nan. Details: \n",
      "Traceback (most recent call last):\n",
      "  File \"C:\\Users\\skhus\\anaconda3\\lib\\site-packages\\sklearn\\model_selection\\_validation.py\", line 593, in _fit_and_score\n",
      "    estimator.fit(X_train, y_train, **fit_params)\n",
      "  File \"C:\\Users\\skhus\\anaconda3\\lib\\site-packages\\sklearn\\svm\\_classes.py\", line 234, in fit\n",
      "    self.coef_, self.intercept_, self.n_iter_ = _fit_liblinear(\n",
      "  File \"C:\\Users\\skhus\\anaconda3\\lib\\site-packages\\sklearn\\svm\\_base.py\", line 974, in _fit_liblinear\n",
      "    solver_type = _get_liblinear_solver_type(multi_class, penalty, loss, dual)\n",
      "  File \"C:\\Users\\skhus\\anaconda3\\lib\\site-packages\\sklearn\\svm\\_base.py\", line 830, in _get_liblinear_solver_type\n",
      "    raise ValueError('Unsupported set of arguments: %s, '\n",
      "ValueError: Unsupported set of arguments: The combination of penalty='l2' and loss='hinge' are not supported when dual=False, Parameters: penalty='l2', loss='hinge', dual=False\n",
      "\n",
      "  warnings.warn(\"Estimator fit failed. The score on this train-test\"\n",
      "C:\\Users\\skhus\\anaconda3\\lib\\site-packages\\sklearn\\model_selection\\_validation.py:610: FitFailedWarning: Estimator fit failed. The score on this train-test partition for these parameters will be set to nan. Details: \n",
      "Traceback (most recent call last):\n",
      "  File \"C:\\Users\\skhus\\anaconda3\\lib\\site-packages\\sklearn\\model_selection\\_validation.py\", line 593, in _fit_and_score\n",
      "    estimator.fit(X_train, y_train, **fit_params)\n",
      "  File \"C:\\Users\\skhus\\anaconda3\\lib\\site-packages\\sklearn\\svm\\_classes.py\", line 234, in fit\n",
      "    self.coef_, self.intercept_, self.n_iter_ = _fit_liblinear(\n",
      "  File \"C:\\Users\\skhus\\anaconda3\\lib\\site-packages\\sklearn\\svm\\_base.py\", line 974, in _fit_liblinear\n",
      "    solver_type = _get_liblinear_solver_type(multi_class, penalty, loss, dual)\n",
      "  File \"C:\\Users\\skhus\\anaconda3\\lib\\site-packages\\sklearn\\svm\\_base.py\", line 830, in _get_liblinear_solver_type\n",
      "    raise ValueError('Unsupported set of arguments: %s, '\n",
      "ValueError: Unsupported set of arguments: The combination of penalty='l2' and loss='hinge' are not supported when dual=False, Parameters: penalty='l2', loss='hinge', dual=False\n",
      "\n",
      "  warnings.warn(\"Estimator fit failed. The score on this train-test\"\n",
      "C:\\Users\\skhus\\anaconda3\\lib\\site-packages\\sklearn\\model_selection\\_validation.py:610: FitFailedWarning: Estimator fit failed. The score on this train-test partition for these parameters will be set to nan. Details: \n",
      "Traceback (most recent call last):\n",
      "  File \"C:\\Users\\skhus\\anaconda3\\lib\\site-packages\\sklearn\\model_selection\\_validation.py\", line 593, in _fit_and_score\n",
      "    estimator.fit(X_train, y_train, **fit_params)\n",
      "  File \"C:\\Users\\skhus\\anaconda3\\lib\\site-packages\\sklearn\\svm\\_classes.py\", line 234, in fit\n",
      "    self.coef_, self.intercept_, self.n_iter_ = _fit_liblinear(\n",
      "  File \"C:\\Users\\skhus\\anaconda3\\lib\\site-packages\\sklearn\\svm\\_base.py\", line 974, in _fit_liblinear\n",
      "    solver_type = _get_liblinear_solver_type(multi_class, penalty, loss, dual)\n",
      "  File \"C:\\Users\\skhus\\anaconda3\\lib\\site-packages\\sklearn\\svm\\_base.py\", line 830, in _get_liblinear_solver_type\n",
      "    raise ValueError('Unsupported set of arguments: %s, '\n",
      "ValueError: Unsupported set of arguments: The combination of penalty='l2' and loss='hinge' are not supported when dual=False, Parameters: penalty='l2', loss='hinge', dual=False\n",
      "\n",
      "  warnings.warn(\"Estimator fit failed. The score on this train-test\"\n",
      "C:\\Users\\skhus\\anaconda3\\lib\\site-packages\\sklearn\\model_selection\\_validation.py:610: FitFailedWarning: Estimator fit failed. The score on this train-test partition for these parameters will be set to nan. Details: \n",
      "Traceback (most recent call last):\n",
      "  File \"C:\\Users\\skhus\\anaconda3\\lib\\site-packages\\sklearn\\model_selection\\_validation.py\", line 593, in _fit_and_score\n",
      "    estimator.fit(X_train, y_train, **fit_params)\n",
      "  File \"C:\\Users\\skhus\\anaconda3\\lib\\site-packages\\sklearn\\svm\\_classes.py\", line 234, in fit\n",
      "    self.coef_, self.intercept_, self.n_iter_ = _fit_liblinear(\n",
      "  File \"C:\\Users\\skhus\\anaconda3\\lib\\site-packages\\sklearn\\svm\\_base.py\", line 974, in _fit_liblinear\n",
      "    solver_type = _get_liblinear_solver_type(multi_class, penalty, loss, dual)\n",
      "  File \"C:\\Users\\skhus\\anaconda3\\lib\\site-packages\\sklearn\\svm\\_base.py\", line 830, in _get_liblinear_solver_type\n",
      "    raise ValueError('Unsupported set of arguments: %s, '\n",
      "ValueError: Unsupported set of arguments: The combination of penalty='l2' and loss='hinge' are not supported when dual=False, Parameters: penalty='l2', loss='hinge', dual=False\n",
      "\n",
      "  warnings.warn(\"Estimator fit failed. The score on this train-test\"\n"
     ]
    },
    {
     "name": "stdout",
     "output_type": "stream",
     "text": [
      "[CV 2/5] END C=0.5, dual=False, fit_intercept=True, loss=hinge, multi_class=crammer_singer, penalty=l1; total time=   0.0s\n",
      "[CV 3/5] END C=0.5, dual=False, fit_intercept=True, loss=hinge, multi_class=crammer_singer, penalty=l1; total time=   0.0s\n",
      "[CV 4/5] END C=0.5, dual=False, fit_intercept=True, loss=hinge, multi_class=crammer_singer, penalty=l1; total time=   0.1s\n",
      "[CV 5/5] END C=0.5, dual=False, fit_intercept=True, loss=hinge, multi_class=crammer_singer, penalty=l1; total time=   0.0s\n",
      "[CV 1/5] END C=0.5, dual=False, fit_intercept=True, loss=hinge, multi_class=crammer_singer, penalty=l2; total time=   0.0s\n",
      "[CV 2/5] END C=0.5, dual=False, fit_intercept=True, loss=hinge, multi_class=crammer_singer, penalty=l2; total time=   0.0s\n",
      "[CV 3/5] END C=0.5, dual=False, fit_intercept=True, loss=hinge, multi_class=crammer_singer, penalty=l2; total time=   0.0s\n",
      "[CV 4/5] END C=0.5, dual=False, fit_intercept=True, loss=hinge, multi_class=crammer_singer, penalty=l2; total time=   0.1s\n",
      "[CV 5/5] END C=0.5, dual=False, fit_intercept=True, loss=hinge, multi_class=crammer_singer, penalty=l2; total time=   0.0s\n",
      "[CV 1/5] END C=0.5, dual=False, fit_intercept=True, loss=squared_hinge, multi_class=ovr, penalty=l1; total time=   0.0s\n",
      "[CV 2/5] END C=0.5, dual=False, fit_intercept=True, loss=squared_hinge, multi_class=ovr, penalty=l1; total time=   0.0s\n",
      "[CV 3/5] END C=0.5, dual=False, fit_intercept=True, loss=squared_hinge, multi_class=ovr, penalty=l1; total time=   0.0s\n",
      "[CV 4/5] END C=0.5, dual=False, fit_intercept=True, loss=squared_hinge, multi_class=ovr, penalty=l1; total time=   0.0s\n",
      "[CV 5/5] END C=0.5, dual=False, fit_intercept=True, loss=squared_hinge, multi_class=ovr, penalty=l1; total time=   0.0s\n",
      "[CV 1/5] END C=0.5, dual=False, fit_intercept=True, loss=squared_hinge, multi_class=ovr, penalty=l2; total time=   0.0s\n",
      "[CV 2/5] END C=0.5, dual=False, fit_intercept=True, loss=squared_hinge, multi_class=ovr, penalty=l2; total time=   0.0s\n",
      "[CV 3/5] END C=0.5, dual=False, fit_intercept=True, loss=squared_hinge, multi_class=ovr, penalty=l2; total time=   0.0s\n",
      "[CV 4/5] END C=0.5, dual=False, fit_intercept=True, loss=squared_hinge, multi_class=ovr, penalty=l2; total time=   0.0s\n",
      "[CV 5/5] END C=0.5, dual=False, fit_intercept=True, loss=squared_hinge, multi_class=ovr, penalty=l2; total time=   0.0s\n",
      "[CV 1/5] END C=0.5, dual=False, fit_intercept=True, loss=squared_hinge, multi_class=crammer_singer, penalty=l1; total time=   0.0s\n",
      "[CV 2/5] END C=0.5, dual=False, fit_intercept=True, loss=squared_hinge, multi_class=crammer_singer, penalty=l1; total time=   0.0s\n",
      "[CV 3/5] END C=0.5, dual=False, fit_intercept=True, loss=squared_hinge, multi_class=crammer_singer, penalty=l1; total time=   0.0s\n",
      "[CV 4/5] END C=0.5, dual=False, fit_intercept=True, loss=squared_hinge, multi_class=crammer_singer, penalty=l1; total time=   0.1s\n",
      "[CV 5/5] END C=0.5, dual=False, fit_intercept=True, loss=squared_hinge, multi_class=crammer_singer, penalty=l1; total time=   0.0s\n",
      "[CV 1/5] END C=0.5, dual=False, fit_intercept=True, loss=squared_hinge, multi_class=crammer_singer, penalty=l2; total time=   0.0s\n",
      "[CV 2/5] END C=0.5, dual=False, fit_intercept=True, loss=squared_hinge, multi_class=crammer_singer, penalty=l2; total time=   0.0s\n",
      "[CV 3/5] END C=0.5, dual=False, fit_intercept=True, loss=squared_hinge, multi_class=crammer_singer, penalty=l2; total time=   0.0s\n",
      "[CV 4/5] END C=0.5, dual=False, fit_intercept=True, loss=squared_hinge, multi_class=crammer_singer, penalty=l2; total time=   0.1s\n",
      "[CV 5/5] END C=0.5, dual=False, fit_intercept=True, loss=squared_hinge, multi_class=crammer_singer, penalty=l2; total time=   0.0s\n",
      "[CV 1/5] END C=0.5, dual=True, fit_intercept=False, loss=hinge, multi_class=ovr, penalty=l1; total time=   0.0s\n",
      "[CV 2/5] END C=0.5, dual=True, fit_intercept=False, loss=hinge, multi_class=ovr, penalty=l1; total time=   0.0s\n",
      "[CV 3/5] END C=0.5, dual=True, fit_intercept=False, loss=hinge, multi_class=ovr, penalty=l1; total time=   0.0s\n",
      "[CV 4/5] END C=0.5, dual=True, fit_intercept=False, loss=hinge, multi_class=ovr, penalty=l1; total time=   0.0s\n",
      "[CV 5/5] END C=0.5, dual=True, fit_intercept=False, loss=hinge, multi_class=ovr, penalty=l1; total time=   0.0s\n",
      "[CV 1/5] END C=0.5, dual=True, fit_intercept=False, loss=hinge, multi_class=ovr, penalty=l2; total time=   0.0s\n",
      "[CV 2/5] END C=0.5, dual=True, fit_intercept=False, loss=hinge, multi_class=ovr, penalty=l2; total time=   0.0s\n",
      "[CV 3/5] END C=0.5, dual=True, fit_intercept=False, loss=hinge, multi_class=ovr, penalty=l2; total time=   0.0s\n",
      "[CV 4/5] END C=0.5, dual=True, fit_intercept=False, loss=hinge, multi_class=ovr, penalty=l2; total time=   0.0s\n",
      "[CV 5/5] END C=0.5, dual=True, fit_intercept=False, loss=hinge, multi_class=ovr, penalty=l2; total time=   0.0s\n",
      "[CV 1/5] END C=0.5, dual=True, fit_intercept=False, loss=hinge, multi_class=crammer_singer, penalty=l1; total time=   0.0s\n",
      "[CV 2/5] END C=0.5, dual=True, fit_intercept=False, loss=hinge, multi_class=crammer_singer, penalty=l1; total time=   0.0s\n",
      "[CV 3/5] END C=0.5, dual=True, fit_intercept=False, loss=hinge, multi_class=crammer_singer, penalty=l1; total time=   0.0s\n",
      "[CV 4/5] END C=0.5, dual=True, fit_intercept=False, loss=hinge, multi_class=crammer_singer, penalty=l1; total time=   0.0s\n",
      "[CV 5/5] END C=0.5, dual=True, fit_intercept=False, loss=hinge, multi_class=crammer_singer, penalty=l1; total time=   0.0s\n"
     ]
    },
    {
     "name": "stderr",
     "output_type": "stream",
     "text": [
      "C:\\Users\\skhus\\anaconda3\\lib\\site-packages\\sklearn\\model_selection\\_validation.py:610: FitFailedWarning: Estimator fit failed. The score on this train-test partition for these parameters will be set to nan. Details: \n",
      "Traceback (most recent call last):\n",
      "  File \"C:\\Users\\skhus\\anaconda3\\lib\\site-packages\\sklearn\\model_selection\\_validation.py\", line 593, in _fit_and_score\n",
      "    estimator.fit(X_train, y_train, **fit_params)\n",
      "  File \"C:\\Users\\skhus\\anaconda3\\lib\\site-packages\\sklearn\\svm\\_classes.py\", line 234, in fit\n",
      "    self.coef_, self.intercept_, self.n_iter_ = _fit_liblinear(\n",
      "  File \"C:\\Users\\skhus\\anaconda3\\lib\\site-packages\\sklearn\\svm\\_base.py\", line 974, in _fit_liblinear\n",
      "    solver_type = _get_liblinear_solver_type(multi_class, penalty, loss, dual)\n",
      "  File \"C:\\Users\\skhus\\anaconda3\\lib\\site-packages\\sklearn\\svm\\_base.py\", line 830, in _get_liblinear_solver_type\n",
      "    raise ValueError('Unsupported set of arguments: %s, '\n",
      "ValueError: Unsupported set of arguments: The combination of penalty='l1' and loss='hinge' is not supported, Parameters: penalty='l1', loss='hinge', dual=True\n",
      "\n",
      "  warnings.warn(\"Estimator fit failed. The score on this train-test\"\n",
      "C:\\Users\\skhus\\anaconda3\\lib\\site-packages\\sklearn\\model_selection\\_validation.py:610: FitFailedWarning: Estimator fit failed. The score on this train-test partition for these parameters will be set to nan. Details: \n",
      "Traceback (most recent call last):\n",
      "  File \"C:\\Users\\skhus\\anaconda3\\lib\\site-packages\\sklearn\\model_selection\\_validation.py\", line 593, in _fit_and_score\n",
      "    estimator.fit(X_train, y_train, **fit_params)\n",
      "  File \"C:\\Users\\skhus\\anaconda3\\lib\\site-packages\\sklearn\\svm\\_classes.py\", line 234, in fit\n",
      "    self.coef_, self.intercept_, self.n_iter_ = _fit_liblinear(\n",
      "  File \"C:\\Users\\skhus\\anaconda3\\lib\\site-packages\\sklearn\\svm\\_base.py\", line 974, in _fit_liblinear\n",
      "    solver_type = _get_liblinear_solver_type(multi_class, penalty, loss, dual)\n",
      "  File \"C:\\Users\\skhus\\anaconda3\\lib\\site-packages\\sklearn\\svm\\_base.py\", line 830, in _get_liblinear_solver_type\n",
      "    raise ValueError('Unsupported set of arguments: %s, '\n",
      "ValueError: Unsupported set of arguments: The combination of penalty='l1' and loss='hinge' is not supported, Parameters: penalty='l1', loss='hinge', dual=True\n",
      "\n",
      "  warnings.warn(\"Estimator fit failed. The score on this train-test\"\n",
      "C:\\Users\\skhus\\anaconda3\\lib\\site-packages\\sklearn\\model_selection\\_validation.py:610: FitFailedWarning: Estimator fit failed. The score on this train-test partition for these parameters will be set to nan. Details: \n",
      "Traceback (most recent call last):\n",
      "  File \"C:\\Users\\skhus\\anaconda3\\lib\\site-packages\\sklearn\\model_selection\\_validation.py\", line 593, in _fit_and_score\n",
      "    estimator.fit(X_train, y_train, **fit_params)\n",
      "  File \"C:\\Users\\skhus\\anaconda3\\lib\\site-packages\\sklearn\\svm\\_classes.py\", line 234, in fit\n",
      "    self.coef_, self.intercept_, self.n_iter_ = _fit_liblinear(\n",
      "  File \"C:\\Users\\skhus\\anaconda3\\lib\\site-packages\\sklearn\\svm\\_base.py\", line 974, in _fit_liblinear\n",
      "    solver_type = _get_liblinear_solver_type(multi_class, penalty, loss, dual)\n",
      "  File \"C:\\Users\\skhus\\anaconda3\\lib\\site-packages\\sklearn\\svm\\_base.py\", line 830, in _get_liblinear_solver_type\n",
      "    raise ValueError('Unsupported set of arguments: %s, '\n",
      "ValueError: Unsupported set of arguments: The combination of penalty='l1' and loss='hinge' is not supported, Parameters: penalty='l1', loss='hinge', dual=True\n",
      "\n",
      "  warnings.warn(\"Estimator fit failed. The score on this train-test\"\n",
      "C:\\Users\\skhus\\anaconda3\\lib\\site-packages\\sklearn\\model_selection\\_validation.py:610: FitFailedWarning: Estimator fit failed. The score on this train-test partition for these parameters will be set to nan. Details: \n",
      "Traceback (most recent call last):\n",
      "  File \"C:\\Users\\skhus\\anaconda3\\lib\\site-packages\\sklearn\\model_selection\\_validation.py\", line 593, in _fit_and_score\n",
      "    estimator.fit(X_train, y_train, **fit_params)\n",
      "  File \"C:\\Users\\skhus\\anaconda3\\lib\\site-packages\\sklearn\\svm\\_classes.py\", line 234, in fit\n",
      "    self.coef_, self.intercept_, self.n_iter_ = _fit_liblinear(\n",
      "  File \"C:\\Users\\skhus\\anaconda3\\lib\\site-packages\\sklearn\\svm\\_base.py\", line 974, in _fit_liblinear\n",
      "    solver_type = _get_liblinear_solver_type(multi_class, penalty, loss, dual)\n",
      "  File \"C:\\Users\\skhus\\anaconda3\\lib\\site-packages\\sklearn\\svm\\_base.py\", line 830, in _get_liblinear_solver_type\n",
      "    raise ValueError('Unsupported set of arguments: %s, '\n",
      "ValueError: Unsupported set of arguments: The combination of penalty='l1' and loss='hinge' is not supported, Parameters: penalty='l1', loss='hinge', dual=True\n",
      "\n",
      "  warnings.warn(\"Estimator fit failed. The score on this train-test\"\n",
      "C:\\Users\\skhus\\anaconda3\\lib\\site-packages\\sklearn\\model_selection\\_validation.py:610: FitFailedWarning: Estimator fit failed. The score on this train-test partition for these parameters will be set to nan. Details: \n",
      "Traceback (most recent call last):\n",
      "  File \"C:\\Users\\skhus\\anaconda3\\lib\\site-packages\\sklearn\\model_selection\\_validation.py\", line 593, in _fit_and_score\n",
      "    estimator.fit(X_train, y_train, **fit_params)\n",
      "  File \"C:\\Users\\skhus\\anaconda3\\lib\\site-packages\\sklearn\\svm\\_classes.py\", line 234, in fit\n",
      "    self.coef_, self.intercept_, self.n_iter_ = _fit_liblinear(\n",
      "  File \"C:\\Users\\skhus\\anaconda3\\lib\\site-packages\\sklearn\\svm\\_base.py\", line 974, in _fit_liblinear\n",
      "    solver_type = _get_liblinear_solver_type(multi_class, penalty, loss, dual)\n",
      "  File \"C:\\Users\\skhus\\anaconda3\\lib\\site-packages\\sklearn\\svm\\_base.py\", line 830, in _get_liblinear_solver_type\n",
      "    raise ValueError('Unsupported set of arguments: %s, '\n",
      "ValueError: Unsupported set of arguments: The combination of penalty='l1' and loss='hinge' is not supported, Parameters: penalty='l1', loss='hinge', dual=True\n",
      "\n",
      "  warnings.warn(\"Estimator fit failed. The score on this train-test\"\n"
     ]
    },
    {
     "name": "stdout",
     "output_type": "stream",
     "text": [
      "[CV 1/5] END C=0.5, dual=True, fit_intercept=False, loss=hinge, multi_class=crammer_singer, penalty=l2; total time=   0.0s\n",
      "[CV 2/5] END C=0.5, dual=True, fit_intercept=False, loss=hinge, multi_class=crammer_singer, penalty=l2; total time=   0.0s\n",
      "[CV 3/5] END C=0.5, dual=True, fit_intercept=False, loss=hinge, multi_class=crammer_singer, penalty=l2; total time=   0.0s\n",
      "[CV 4/5] END C=0.5, dual=True, fit_intercept=False, loss=hinge, multi_class=crammer_singer, penalty=l2; total time=   0.0s\n",
      "[CV 5/5] END C=0.5, dual=True, fit_intercept=False, loss=hinge, multi_class=crammer_singer, penalty=l2; total time=   0.0s\n",
      "[CV 1/5] END C=0.5, dual=True, fit_intercept=False, loss=squared_hinge, multi_class=ovr, penalty=l1; total time=   0.0s\n",
      "[CV 2/5] END C=0.5, dual=True, fit_intercept=False, loss=squared_hinge, multi_class=ovr, penalty=l1; total time=   0.0s\n",
      "[CV 3/5] END C=0.5, dual=True, fit_intercept=False, loss=squared_hinge, multi_class=ovr, penalty=l1; total time=   0.0s\n",
      "[CV 4/5] END C=0.5, dual=True, fit_intercept=False, loss=squared_hinge, multi_class=ovr, penalty=l1; total time=   0.0s\n",
      "[CV 5/5] END C=0.5, dual=True, fit_intercept=False, loss=squared_hinge, multi_class=ovr, penalty=l1; total time=   0.0s\n",
      "[CV 1/5] END C=0.5, dual=True, fit_intercept=False, loss=squared_hinge, multi_class=ovr, penalty=l2; total time=   0.0s\n",
      "[CV 2/5] END C=0.5, dual=True, fit_intercept=False, loss=squared_hinge, multi_class=ovr, penalty=l2; total time=   0.0s\n",
      "[CV 3/5] END C=0.5, dual=True, fit_intercept=False, loss=squared_hinge, multi_class=ovr, penalty=l2; total time=   0.0s\n",
      "[CV 4/5] END C=0.5, dual=True, fit_intercept=False, loss=squared_hinge, multi_class=ovr, penalty=l2; total time=   0.0s\n",
      "[CV 5/5] END C=0.5, dual=True, fit_intercept=False, loss=squared_hinge, multi_class=ovr, penalty=l2; total time=   0.0s\n",
      "[CV 1/5] END C=0.5, dual=True, fit_intercept=False, loss=squared_hinge, multi_class=crammer_singer, penalty=l1; total time=   0.0s\n",
      "[CV 2/5] END C=0.5, dual=True, fit_intercept=False, loss=squared_hinge, multi_class=crammer_singer, penalty=l1; total time=   0.0s\n",
      "[CV 3/5] END C=0.5, dual=True, fit_intercept=False, loss=squared_hinge, multi_class=crammer_singer, penalty=l1; total time=   0.0s\n",
      "[CV 4/5] END C=0.5, dual=True, fit_intercept=False, loss=squared_hinge, multi_class=crammer_singer, penalty=l1; total time=   0.0s\n"
     ]
    },
    {
     "name": "stderr",
     "output_type": "stream",
     "text": [
      "C:\\Users\\skhus\\anaconda3\\lib\\site-packages\\sklearn\\model_selection\\_validation.py:610: FitFailedWarning: Estimator fit failed. The score on this train-test partition for these parameters will be set to nan. Details: \n",
      "Traceback (most recent call last):\n",
      "  File \"C:\\Users\\skhus\\anaconda3\\lib\\site-packages\\sklearn\\model_selection\\_validation.py\", line 593, in _fit_and_score\n",
      "    estimator.fit(X_train, y_train, **fit_params)\n",
      "  File \"C:\\Users\\skhus\\anaconda3\\lib\\site-packages\\sklearn\\svm\\_classes.py\", line 234, in fit\n",
      "    self.coef_, self.intercept_, self.n_iter_ = _fit_liblinear(\n",
      "  File \"C:\\Users\\skhus\\anaconda3\\lib\\site-packages\\sklearn\\svm\\_base.py\", line 974, in _fit_liblinear\n",
      "    solver_type = _get_liblinear_solver_type(multi_class, penalty, loss, dual)\n",
      "  File \"C:\\Users\\skhus\\anaconda3\\lib\\site-packages\\sklearn\\svm\\_base.py\", line 830, in _get_liblinear_solver_type\n",
      "    raise ValueError('Unsupported set of arguments: %s, '\n",
      "ValueError: Unsupported set of arguments: The combination of penalty='l1' and loss='squared_hinge' are not supported when dual=True, Parameters: penalty='l1', loss='squared_hinge', dual=True\n",
      "\n",
      "  warnings.warn(\"Estimator fit failed. The score on this train-test\"\n",
      "C:\\Users\\skhus\\anaconda3\\lib\\site-packages\\sklearn\\model_selection\\_validation.py:610: FitFailedWarning: Estimator fit failed. The score on this train-test partition for these parameters will be set to nan. Details: \n",
      "Traceback (most recent call last):\n",
      "  File \"C:\\Users\\skhus\\anaconda3\\lib\\site-packages\\sklearn\\model_selection\\_validation.py\", line 593, in _fit_and_score\n",
      "    estimator.fit(X_train, y_train, **fit_params)\n",
      "  File \"C:\\Users\\skhus\\anaconda3\\lib\\site-packages\\sklearn\\svm\\_classes.py\", line 234, in fit\n",
      "    self.coef_, self.intercept_, self.n_iter_ = _fit_liblinear(\n",
      "  File \"C:\\Users\\skhus\\anaconda3\\lib\\site-packages\\sklearn\\svm\\_base.py\", line 974, in _fit_liblinear\n",
      "    solver_type = _get_liblinear_solver_type(multi_class, penalty, loss, dual)\n",
      "  File \"C:\\Users\\skhus\\anaconda3\\lib\\site-packages\\sklearn\\svm\\_base.py\", line 830, in _get_liblinear_solver_type\n",
      "    raise ValueError('Unsupported set of arguments: %s, '\n",
      "ValueError: Unsupported set of arguments: The combination of penalty='l1' and loss='squared_hinge' are not supported when dual=True, Parameters: penalty='l1', loss='squared_hinge', dual=True\n",
      "\n",
      "  warnings.warn(\"Estimator fit failed. The score on this train-test\"\n",
      "C:\\Users\\skhus\\anaconda3\\lib\\site-packages\\sklearn\\model_selection\\_validation.py:610: FitFailedWarning: Estimator fit failed. The score on this train-test partition for these parameters will be set to nan. Details: \n",
      "Traceback (most recent call last):\n",
      "  File \"C:\\Users\\skhus\\anaconda3\\lib\\site-packages\\sklearn\\model_selection\\_validation.py\", line 593, in _fit_and_score\n",
      "    estimator.fit(X_train, y_train, **fit_params)\n",
      "  File \"C:\\Users\\skhus\\anaconda3\\lib\\site-packages\\sklearn\\svm\\_classes.py\", line 234, in fit\n",
      "    self.coef_, self.intercept_, self.n_iter_ = _fit_liblinear(\n",
      "  File \"C:\\Users\\skhus\\anaconda3\\lib\\site-packages\\sklearn\\svm\\_base.py\", line 974, in _fit_liblinear\n",
      "    solver_type = _get_liblinear_solver_type(multi_class, penalty, loss, dual)\n",
      "  File \"C:\\Users\\skhus\\anaconda3\\lib\\site-packages\\sklearn\\svm\\_base.py\", line 830, in _get_liblinear_solver_type\n",
      "    raise ValueError('Unsupported set of arguments: %s, '\n",
      "ValueError: Unsupported set of arguments: The combination of penalty='l1' and loss='squared_hinge' are not supported when dual=True, Parameters: penalty='l1', loss='squared_hinge', dual=True\n",
      "\n",
      "  warnings.warn(\"Estimator fit failed. The score on this train-test\"\n",
      "C:\\Users\\skhus\\anaconda3\\lib\\site-packages\\sklearn\\model_selection\\_validation.py:610: FitFailedWarning: Estimator fit failed. The score on this train-test partition for these parameters will be set to nan. Details: \n",
      "Traceback (most recent call last):\n",
      "  File \"C:\\Users\\skhus\\anaconda3\\lib\\site-packages\\sklearn\\model_selection\\_validation.py\", line 593, in _fit_and_score\n",
      "    estimator.fit(X_train, y_train, **fit_params)\n",
      "  File \"C:\\Users\\skhus\\anaconda3\\lib\\site-packages\\sklearn\\svm\\_classes.py\", line 234, in fit\n",
      "    self.coef_, self.intercept_, self.n_iter_ = _fit_liblinear(\n",
      "  File \"C:\\Users\\skhus\\anaconda3\\lib\\site-packages\\sklearn\\svm\\_base.py\", line 974, in _fit_liblinear\n",
      "    solver_type = _get_liblinear_solver_type(multi_class, penalty, loss, dual)\n",
      "  File \"C:\\Users\\skhus\\anaconda3\\lib\\site-packages\\sklearn\\svm\\_base.py\", line 830, in _get_liblinear_solver_type\n",
      "    raise ValueError('Unsupported set of arguments: %s, '\n",
      "ValueError: Unsupported set of arguments: The combination of penalty='l1' and loss='squared_hinge' are not supported when dual=True, Parameters: penalty='l1', loss='squared_hinge', dual=True\n",
      "\n",
      "  warnings.warn(\"Estimator fit failed. The score on this train-test\"\n",
      "C:\\Users\\skhus\\anaconda3\\lib\\site-packages\\sklearn\\model_selection\\_validation.py:610: FitFailedWarning: Estimator fit failed. The score on this train-test partition for these parameters will be set to nan. Details: \n",
      "Traceback (most recent call last):\n",
      "  File \"C:\\Users\\skhus\\anaconda3\\lib\\site-packages\\sklearn\\model_selection\\_validation.py\", line 593, in _fit_and_score\n",
      "    estimator.fit(X_train, y_train, **fit_params)\n",
      "  File \"C:\\Users\\skhus\\anaconda3\\lib\\site-packages\\sklearn\\svm\\_classes.py\", line 234, in fit\n",
      "    self.coef_, self.intercept_, self.n_iter_ = _fit_liblinear(\n",
      "  File \"C:\\Users\\skhus\\anaconda3\\lib\\site-packages\\sklearn\\svm\\_base.py\", line 974, in _fit_liblinear\n",
      "    solver_type = _get_liblinear_solver_type(multi_class, penalty, loss, dual)\n",
      "  File \"C:\\Users\\skhus\\anaconda3\\lib\\site-packages\\sklearn\\svm\\_base.py\", line 830, in _get_liblinear_solver_type\n",
      "    raise ValueError('Unsupported set of arguments: %s, '\n",
      "ValueError: Unsupported set of arguments: The combination of penalty='l1' and loss='squared_hinge' are not supported when dual=True, Parameters: penalty='l1', loss='squared_hinge', dual=True\n",
      "\n",
      "  warnings.warn(\"Estimator fit failed. The score on this train-test\"\n"
     ]
    },
    {
     "name": "stdout",
     "output_type": "stream",
     "text": [
      "[CV 5/5] END C=0.5, dual=True, fit_intercept=False, loss=squared_hinge, multi_class=crammer_singer, penalty=l1; total time=   0.0s\n",
      "[CV 1/5] END C=0.5, dual=True, fit_intercept=False, loss=squared_hinge, multi_class=crammer_singer, penalty=l2; total time=   0.0s\n",
      "[CV 2/5] END C=0.5, dual=True, fit_intercept=False, loss=squared_hinge, multi_class=crammer_singer, penalty=l2; total time=   0.0s\n",
      "[CV 3/5] END C=0.5, dual=True, fit_intercept=False, loss=squared_hinge, multi_class=crammer_singer, penalty=l2; total time=   0.0s\n",
      "[CV 4/5] END C=0.5, dual=True, fit_intercept=False, loss=squared_hinge, multi_class=crammer_singer, penalty=l2; total time=   0.0s\n",
      "[CV 5/5] END C=0.5, dual=True, fit_intercept=False, loss=squared_hinge, multi_class=crammer_singer, penalty=l2; total time=   0.0s\n",
      "[CV 1/5] END C=0.5, dual=True, fit_intercept=True, loss=hinge, multi_class=ovr, penalty=l1; total time=   0.0s\n",
      "[CV 2/5] END C=0.5, dual=True, fit_intercept=True, loss=hinge, multi_class=ovr, penalty=l1; total time=   0.0s\n",
      "[CV 3/5] END C=0.5, dual=True, fit_intercept=True, loss=hinge, multi_class=ovr, penalty=l1; total time=   0.0s\n",
      "[CV 4/5] END C=0.5, dual=True, fit_intercept=True, loss=hinge, multi_class=ovr, penalty=l1; total time=   0.0s\n",
      "[CV 5/5] END C=0.5, dual=True, fit_intercept=True, loss=hinge, multi_class=ovr, penalty=l1; total time=   0.0s\n",
      "[CV 1/5] END C=0.5, dual=True, fit_intercept=True, loss=hinge, multi_class=ovr, penalty=l2; total time=   0.0s\n",
      "[CV 2/5] END C=0.5, dual=True, fit_intercept=True, loss=hinge, multi_class=ovr, penalty=l2; total time=   0.0s\n",
      "[CV 3/5] END C=0.5, dual=True, fit_intercept=True, loss=hinge, multi_class=ovr, penalty=l2; total time=   0.0s\n",
      "[CV 4/5] END C=0.5, dual=True, fit_intercept=True, loss=hinge, multi_class=ovr, penalty=l2; total time=   0.0s\n",
      "[CV 5/5] END C=0.5, dual=True, fit_intercept=True, loss=hinge, multi_class=ovr, penalty=l2; total time=   0.0s\n"
     ]
    },
    {
     "name": "stderr",
     "output_type": "stream",
     "text": [
      "C:\\Users\\skhus\\anaconda3\\lib\\site-packages\\sklearn\\model_selection\\_validation.py:610: FitFailedWarning: Estimator fit failed. The score on this train-test partition for these parameters will be set to nan. Details: \n",
      "Traceback (most recent call last):\n",
      "  File \"C:\\Users\\skhus\\anaconda3\\lib\\site-packages\\sklearn\\model_selection\\_validation.py\", line 593, in _fit_and_score\n",
      "    estimator.fit(X_train, y_train, **fit_params)\n",
      "  File \"C:\\Users\\skhus\\anaconda3\\lib\\site-packages\\sklearn\\svm\\_classes.py\", line 234, in fit\n",
      "    self.coef_, self.intercept_, self.n_iter_ = _fit_liblinear(\n",
      "  File \"C:\\Users\\skhus\\anaconda3\\lib\\site-packages\\sklearn\\svm\\_base.py\", line 974, in _fit_liblinear\n",
      "    solver_type = _get_liblinear_solver_type(multi_class, penalty, loss, dual)\n",
      "  File \"C:\\Users\\skhus\\anaconda3\\lib\\site-packages\\sklearn\\svm\\_base.py\", line 830, in _get_liblinear_solver_type\n",
      "    raise ValueError('Unsupported set of arguments: %s, '\n",
      "ValueError: Unsupported set of arguments: The combination of penalty='l1' and loss='hinge' is not supported, Parameters: penalty='l1', loss='hinge', dual=True\n",
      "\n",
      "  warnings.warn(\"Estimator fit failed. The score on this train-test\"\n",
      "C:\\Users\\skhus\\anaconda3\\lib\\site-packages\\sklearn\\model_selection\\_validation.py:610: FitFailedWarning: Estimator fit failed. The score on this train-test partition for these parameters will be set to nan. Details: \n",
      "Traceback (most recent call last):\n",
      "  File \"C:\\Users\\skhus\\anaconda3\\lib\\site-packages\\sklearn\\model_selection\\_validation.py\", line 593, in _fit_and_score\n",
      "    estimator.fit(X_train, y_train, **fit_params)\n",
      "  File \"C:\\Users\\skhus\\anaconda3\\lib\\site-packages\\sklearn\\svm\\_classes.py\", line 234, in fit\n",
      "    self.coef_, self.intercept_, self.n_iter_ = _fit_liblinear(\n",
      "  File \"C:\\Users\\skhus\\anaconda3\\lib\\site-packages\\sklearn\\svm\\_base.py\", line 974, in _fit_liblinear\n",
      "    solver_type = _get_liblinear_solver_type(multi_class, penalty, loss, dual)\n",
      "  File \"C:\\Users\\skhus\\anaconda3\\lib\\site-packages\\sklearn\\svm\\_base.py\", line 830, in _get_liblinear_solver_type\n",
      "    raise ValueError('Unsupported set of arguments: %s, '\n",
      "ValueError: Unsupported set of arguments: The combination of penalty='l1' and loss='hinge' is not supported, Parameters: penalty='l1', loss='hinge', dual=True\n",
      "\n",
      "  warnings.warn(\"Estimator fit failed. The score on this train-test\"\n",
      "C:\\Users\\skhus\\anaconda3\\lib\\site-packages\\sklearn\\model_selection\\_validation.py:610: FitFailedWarning: Estimator fit failed. The score on this train-test partition for these parameters will be set to nan. Details: \n",
      "Traceback (most recent call last):\n",
      "  File \"C:\\Users\\skhus\\anaconda3\\lib\\site-packages\\sklearn\\model_selection\\_validation.py\", line 593, in _fit_and_score\n",
      "    estimator.fit(X_train, y_train, **fit_params)\n",
      "  File \"C:\\Users\\skhus\\anaconda3\\lib\\site-packages\\sklearn\\svm\\_classes.py\", line 234, in fit\n",
      "    self.coef_, self.intercept_, self.n_iter_ = _fit_liblinear(\n",
      "  File \"C:\\Users\\skhus\\anaconda3\\lib\\site-packages\\sklearn\\svm\\_base.py\", line 974, in _fit_liblinear\n",
      "    solver_type = _get_liblinear_solver_type(multi_class, penalty, loss, dual)\n",
      "  File \"C:\\Users\\skhus\\anaconda3\\lib\\site-packages\\sklearn\\svm\\_base.py\", line 830, in _get_liblinear_solver_type\n",
      "    raise ValueError('Unsupported set of arguments: %s, '\n",
      "ValueError: Unsupported set of arguments: The combination of penalty='l1' and loss='hinge' is not supported, Parameters: penalty='l1', loss='hinge', dual=True\n",
      "\n",
      "  warnings.warn(\"Estimator fit failed. The score on this train-test\"\n",
      "C:\\Users\\skhus\\anaconda3\\lib\\site-packages\\sklearn\\model_selection\\_validation.py:610: FitFailedWarning: Estimator fit failed. The score on this train-test partition for these parameters will be set to nan. Details: \n",
      "Traceback (most recent call last):\n",
      "  File \"C:\\Users\\skhus\\anaconda3\\lib\\site-packages\\sklearn\\model_selection\\_validation.py\", line 593, in _fit_and_score\n",
      "    estimator.fit(X_train, y_train, **fit_params)\n",
      "  File \"C:\\Users\\skhus\\anaconda3\\lib\\site-packages\\sklearn\\svm\\_classes.py\", line 234, in fit\n",
      "    self.coef_, self.intercept_, self.n_iter_ = _fit_liblinear(\n",
      "  File \"C:\\Users\\skhus\\anaconda3\\lib\\site-packages\\sklearn\\svm\\_base.py\", line 974, in _fit_liblinear\n",
      "    solver_type = _get_liblinear_solver_type(multi_class, penalty, loss, dual)\n",
      "  File \"C:\\Users\\skhus\\anaconda3\\lib\\site-packages\\sklearn\\svm\\_base.py\", line 830, in _get_liblinear_solver_type\n",
      "    raise ValueError('Unsupported set of arguments: %s, '\n",
      "ValueError: Unsupported set of arguments: The combination of penalty='l1' and loss='hinge' is not supported, Parameters: penalty='l1', loss='hinge', dual=True\n",
      "\n",
      "  warnings.warn(\"Estimator fit failed. The score on this train-test\"\n",
      "C:\\Users\\skhus\\anaconda3\\lib\\site-packages\\sklearn\\model_selection\\_validation.py:610: FitFailedWarning: Estimator fit failed. The score on this train-test partition for these parameters will be set to nan. Details: \n",
      "Traceback (most recent call last):\n",
      "  File \"C:\\Users\\skhus\\anaconda3\\lib\\site-packages\\sklearn\\model_selection\\_validation.py\", line 593, in _fit_and_score\n",
      "    estimator.fit(X_train, y_train, **fit_params)\n",
      "  File \"C:\\Users\\skhus\\anaconda3\\lib\\site-packages\\sklearn\\svm\\_classes.py\", line 234, in fit\n",
      "    self.coef_, self.intercept_, self.n_iter_ = _fit_liblinear(\n",
      "  File \"C:\\Users\\skhus\\anaconda3\\lib\\site-packages\\sklearn\\svm\\_base.py\", line 974, in _fit_liblinear\n",
      "    solver_type = _get_liblinear_solver_type(multi_class, penalty, loss, dual)\n",
      "  File \"C:\\Users\\skhus\\anaconda3\\lib\\site-packages\\sklearn\\svm\\_base.py\", line 830, in _get_liblinear_solver_type\n",
      "    raise ValueError('Unsupported set of arguments: %s, '\n",
      "ValueError: Unsupported set of arguments: The combination of penalty='l1' and loss='hinge' is not supported, Parameters: penalty='l1', loss='hinge', dual=True\n",
      "\n",
      "  warnings.warn(\"Estimator fit failed. The score on this train-test\"\n"
     ]
    },
    {
     "name": "stdout",
     "output_type": "stream",
     "text": [
      "[CV 1/5] END C=0.5, dual=True, fit_intercept=True, loss=hinge, multi_class=crammer_singer, penalty=l1; total time=   0.0s\n",
      "[CV 2/5] END C=0.5, dual=True, fit_intercept=True, loss=hinge, multi_class=crammer_singer, penalty=l1; total time=   0.0s\n",
      "[CV 3/5] END C=0.5, dual=True, fit_intercept=True, loss=hinge, multi_class=crammer_singer, penalty=l1; total time=   0.0s\n",
      "[CV 4/5] END C=0.5, dual=True, fit_intercept=True, loss=hinge, multi_class=crammer_singer, penalty=l1; total time=   0.1s\n",
      "[CV 5/5] END C=0.5, dual=True, fit_intercept=True, loss=hinge, multi_class=crammer_singer, penalty=l1; total time=   0.0s\n",
      "[CV 1/5] END C=0.5, dual=True, fit_intercept=True, loss=hinge, multi_class=crammer_singer, penalty=l2; total time=   0.0s\n",
      "[CV 2/5] END C=0.5, dual=True, fit_intercept=True, loss=hinge, multi_class=crammer_singer, penalty=l2; total time=   0.0s\n",
      "[CV 3/5] END C=0.5, dual=True, fit_intercept=True, loss=hinge, multi_class=crammer_singer, penalty=l2; total time=   0.0s\n",
      "[CV 4/5] END C=0.5, dual=True, fit_intercept=True, loss=hinge, multi_class=crammer_singer, penalty=l2; total time=   0.0s\n",
      "[CV 5/5] END C=0.5, dual=True, fit_intercept=True, loss=hinge, multi_class=crammer_singer, penalty=l2; total time=   0.0s\n",
      "[CV 1/5] END C=0.5, dual=True, fit_intercept=True, loss=squared_hinge, multi_class=ovr, penalty=l1; total time=   0.0s\n",
      "[CV 2/5] END C=0.5, dual=True, fit_intercept=True, loss=squared_hinge, multi_class=ovr, penalty=l1; total time=   0.0s\n",
      "[CV 3/5] END C=0.5, dual=True, fit_intercept=True, loss=squared_hinge, multi_class=ovr, penalty=l1; total time=   0.0s\n",
      "[CV 4/5] END C=0.5, dual=True, fit_intercept=True, loss=squared_hinge, multi_class=ovr, penalty=l1; total time=   0.0s\n",
      "[CV 5/5] END C=0.5, dual=True, fit_intercept=True, loss=squared_hinge, multi_class=ovr, penalty=l1; total time=   0.0s\n",
      "[CV 1/5] END C=0.5, dual=True, fit_intercept=True, loss=squared_hinge, multi_class=ovr, penalty=l2; total time=   0.0s\n",
      "[CV 2/5] END C=0.5, dual=True, fit_intercept=True, loss=squared_hinge, multi_class=ovr, penalty=l2; total time=   0.0s\n",
      "[CV 3/5] END C=0.5, dual=True, fit_intercept=True, loss=squared_hinge, multi_class=ovr, penalty=l2; total time=   0.0s\n",
      "[CV 4/5] END C=0.5, dual=True, fit_intercept=True, loss=squared_hinge, multi_class=ovr, penalty=l2; total time=   0.0s\n",
      "[CV 5/5] END C=0.5, dual=True, fit_intercept=True, loss=squared_hinge, multi_class=ovr, penalty=l2; total time=   0.0s\n",
      "[CV 1/5] END C=0.5, dual=True, fit_intercept=True, loss=squared_hinge, multi_class=crammer_singer, penalty=l1; total time=   0.0s\n",
      "[CV 2/5] END C=0.5, dual=True, fit_intercept=True, loss=squared_hinge, multi_class=crammer_singer, penalty=l1; total time=   0.0s\n",
      "[CV 3/5] END C=0.5, dual=True, fit_intercept=True, loss=squared_hinge, multi_class=crammer_singer, penalty=l1; total time=   0.0s\n"
     ]
    },
    {
     "name": "stderr",
     "output_type": "stream",
     "text": [
      "C:\\Users\\skhus\\anaconda3\\lib\\site-packages\\sklearn\\model_selection\\_validation.py:610: FitFailedWarning: Estimator fit failed. The score on this train-test partition for these parameters will be set to nan. Details: \n",
      "Traceback (most recent call last):\n",
      "  File \"C:\\Users\\skhus\\anaconda3\\lib\\site-packages\\sklearn\\model_selection\\_validation.py\", line 593, in _fit_and_score\n",
      "    estimator.fit(X_train, y_train, **fit_params)\n",
      "  File \"C:\\Users\\skhus\\anaconda3\\lib\\site-packages\\sklearn\\svm\\_classes.py\", line 234, in fit\n",
      "    self.coef_, self.intercept_, self.n_iter_ = _fit_liblinear(\n",
      "  File \"C:\\Users\\skhus\\anaconda3\\lib\\site-packages\\sklearn\\svm\\_base.py\", line 974, in _fit_liblinear\n",
      "    solver_type = _get_liblinear_solver_type(multi_class, penalty, loss, dual)\n",
      "  File \"C:\\Users\\skhus\\anaconda3\\lib\\site-packages\\sklearn\\svm\\_base.py\", line 830, in _get_liblinear_solver_type\n",
      "    raise ValueError('Unsupported set of arguments: %s, '\n",
      "ValueError: Unsupported set of arguments: The combination of penalty='l1' and loss='squared_hinge' are not supported when dual=True, Parameters: penalty='l1', loss='squared_hinge', dual=True\n",
      "\n",
      "  warnings.warn(\"Estimator fit failed. The score on this train-test\"\n",
      "C:\\Users\\skhus\\anaconda3\\lib\\site-packages\\sklearn\\model_selection\\_validation.py:610: FitFailedWarning: Estimator fit failed. The score on this train-test partition for these parameters will be set to nan. Details: \n",
      "Traceback (most recent call last):\n",
      "  File \"C:\\Users\\skhus\\anaconda3\\lib\\site-packages\\sklearn\\model_selection\\_validation.py\", line 593, in _fit_and_score\n",
      "    estimator.fit(X_train, y_train, **fit_params)\n",
      "  File \"C:\\Users\\skhus\\anaconda3\\lib\\site-packages\\sklearn\\svm\\_classes.py\", line 234, in fit\n",
      "    self.coef_, self.intercept_, self.n_iter_ = _fit_liblinear(\n",
      "  File \"C:\\Users\\skhus\\anaconda3\\lib\\site-packages\\sklearn\\svm\\_base.py\", line 974, in _fit_liblinear\n",
      "    solver_type = _get_liblinear_solver_type(multi_class, penalty, loss, dual)\n",
      "  File \"C:\\Users\\skhus\\anaconda3\\lib\\site-packages\\sklearn\\svm\\_base.py\", line 830, in _get_liblinear_solver_type\n",
      "    raise ValueError('Unsupported set of arguments: %s, '\n",
      "ValueError: Unsupported set of arguments: The combination of penalty='l1' and loss='squared_hinge' are not supported when dual=True, Parameters: penalty='l1', loss='squared_hinge', dual=True\n",
      "\n",
      "  warnings.warn(\"Estimator fit failed. The score on this train-test\"\n",
      "C:\\Users\\skhus\\anaconda3\\lib\\site-packages\\sklearn\\model_selection\\_validation.py:610: FitFailedWarning: Estimator fit failed. The score on this train-test partition for these parameters will be set to nan. Details: \n",
      "Traceback (most recent call last):\n",
      "  File \"C:\\Users\\skhus\\anaconda3\\lib\\site-packages\\sklearn\\model_selection\\_validation.py\", line 593, in _fit_and_score\n",
      "    estimator.fit(X_train, y_train, **fit_params)\n",
      "  File \"C:\\Users\\skhus\\anaconda3\\lib\\site-packages\\sklearn\\svm\\_classes.py\", line 234, in fit\n",
      "    self.coef_, self.intercept_, self.n_iter_ = _fit_liblinear(\n",
      "  File \"C:\\Users\\skhus\\anaconda3\\lib\\site-packages\\sklearn\\svm\\_base.py\", line 974, in _fit_liblinear\n",
      "    solver_type = _get_liblinear_solver_type(multi_class, penalty, loss, dual)\n",
      "  File \"C:\\Users\\skhus\\anaconda3\\lib\\site-packages\\sklearn\\svm\\_base.py\", line 830, in _get_liblinear_solver_type\n",
      "    raise ValueError('Unsupported set of arguments: %s, '\n",
      "ValueError: Unsupported set of arguments: The combination of penalty='l1' and loss='squared_hinge' are not supported when dual=True, Parameters: penalty='l1', loss='squared_hinge', dual=True\n",
      "\n",
      "  warnings.warn(\"Estimator fit failed. The score on this train-test\"\n",
      "C:\\Users\\skhus\\anaconda3\\lib\\site-packages\\sklearn\\model_selection\\_validation.py:610: FitFailedWarning: Estimator fit failed. The score on this train-test partition for these parameters will be set to nan. Details: \n",
      "Traceback (most recent call last):\n",
      "  File \"C:\\Users\\skhus\\anaconda3\\lib\\site-packages\\sklearn\\model_selection\\_validation.py\", line 593, in _fit_and_score\n",
      "    estimator.fit(X_train, y_train, **fit_params)\n",
      "  File \"C:\\Users\\skhus\\anaconda3\\lib\\site-packages\\sklearn\\svm\\_classes.py\", line 234, in fit\n",
      "    self.coef_, self.intercept_, self.n_iter_ = _fit_liblinear(\n",
      "  File \"C:\\Users\\skhus\\anaconda3\\lib\\site-packages\\sklearn\\svm\\_base.py\", line 974, in _fit_liblinear\n",
      "    solver_type = _get_liblinear_solver_type(multi_class, penalty, loss, dual)\n",
      "  File \"C:\\Users\\skhus\\anaconda3\\lib\\site-packages\\sklearn\\svm\\_base.py\", line 830, in _get_liblinear_solver_type\n",
      "    raise ValueError('Unsupported set of arguments: %s, '\n",
      "ValueError: Unsupported set of arguments: The combination of penalty='l1' and loss='squared_hinge' are not supported when dual=True, Parameters: penalty='l1', loss='squared_hinge', dual=True\n",
      "\n",
      "  warnings.warn(\"Estimator fit failed. The score on this train-test\"\n",
      "C:\\Users\\skhus\\anaconda3\\lib\\site-packages\\sklearn\\model_selection\\_validation.py:610: FitFailedWarning: Estimator fit failed. The score on this train-test partition for these parameters will be set to nan. Details: \n",
      "Traceback (most recent call last):\n",
      "  File \"C:\\Users\\skhus\\anaconda3\\lib\\site-packages\\sklearn\\model_selection\\_validation.py\", line 593, in _fit_and_score\n",
      "    estimator.fit(X_train, y_train, **fit_params)\n",
      "  File \"C:\\Users\\skhus\\anaconda3\\lib\\site-packages\\sklearn\\svm\\_classes.py\", line 234, in fit\n",
      "    self.coef_, self.intercept_, self.n_iter_ = _fit_liblinear(\n",
      "  File \"C:\\Users\\skhus\\anaconda3\\lib\\site-packages\\sklearn\\svm\\_base.py\", line 974, in _fit_liblinear\n",
      "    solver_type = _get_liblinear_solver_type(multi_class, penalty, loss, dual)\n",
      "  File \"C:\\Users\\skhus\\anaconda3\\lib\\site-packages\\sklearn\\svm\\_base.py\", line 830, in _get_liblinear_solver_type\n",
      "    raise ValueError('Unsupported set of arguments: %s, '\n",
      "ValueError: Unsupported set of arguments: The combination of penalty='l1' and loss='squared_hinge' are not supported when dual=True, Parameters: penalty='l1', loss='squared_hinge', dual=True\n",
      "\n",
      "  warnings.warn(\"Estimator fit failed. The score on this train-test\"\n"
     ]
    },
    {
     "name": "stdout",
     "output_type": "stream",
     "text": [
      "[CV 4/5] END C=0.5, dual=True, fit_intercept=True, loss=squared_hinge, multi_class=crammer_singer, penalty=l1; total time=   0.1s\n",
      "[CV 5/5] END C=0.5, dual=True, fit_intercept=True, loss=squared_hinge, multi_class=crammer_singer, penalty=l1; total time=   0.0s\n",
      "[CV 1/5] END C=0.5, dual=True, fit_intercept=True, loss=squared_hinge, multi_class=crammer_singer, penalty=l2; total time=   0.0s\n",
      "[CV 2/5] END C=0.5, dual=True, fit_intercept=True, loss=squared_hinge, multi_class=crammer_singer, penalty=l2; total time=   0.0s\n",
      "[CV 3/5] END C=0.5, dual=True, fit_intercept=True, loss=squared_hinge, multi_class=crammer_singer, penalty=l2; total time=   0.0s\n",
      "[CV 4/5] END C=0.5, dual=True, fit_intercept=True, loss=squared_hinge, multi_class=crammer_singer, penalty=l2; total time=   0.1s\n",
      "[CV 5/5] END C=0.5, dual=True, fit_intercept=True, loss=squared_hinge, multi_class=crammer_singer, penalty=l2; total time=   0.0s\n",
      "[CV 1/5] END C=1, dual=False, fit_intercept=False, loss=hinge, multi_class=ovr, penalty=l1; total time=   0.0s\n",
      "[CV 2/5] END C=1, dual=False, fit_intercept=False, loss=hinge, multi_class=ovr, penalty=l1; total time=   0.0s\n",
      "[CV 3/5] END C=1, dual=False, fit_intercept=False, loss=hinge, multi_class=ovr, penalty=l1; total time=   0.0s\n",
      "[CV 4/5] END C=1, dual=False, fit_intercept=False, loss=hinge, multi_class=ovr, penalty=l1; total time=   0.0s\n",
      "[CV 5/5] END C=1, dual=False, fit_intercept=False, loss=hinge, multi_class=ovr, penalty=l1; total time=   0.0s\n",
      "[CV 1/5] END C=1, dual=False, fit_intercept=False, loss=hinge, multi_class=ovr, penalty=l2; total time=   0.0s\n",
      "[CV 2/5] END C=1, dual=False, fit_intercept=False, loss=hinge, multi_class=ovr, penalty=l2; total time=   0.0s\n",
      "[CV 3/5] END C=1, dual=False, fit_intercept=False, loss=hinge, multi_class=ovr, penalty=l2; total time=   0.0s\n",
      "[CV 4/5] END C=1, dual=False, fit_intercept=False, loss=hinge, multi_class=ovr, penalty=l2; total time=   0.0s\n",
      "[CV 5/5] END C=1, dual=False, fit_intercept=False, loss=hinge, multi_class=ovr, penalty=l2; total time=   0.0s\n",
      "[CV 1/5] END C=1, dual=False, fit_intercept=False, loss=hinge, multi_class=crammer_singer, penalty=l1; total time=   0.0s\n"
     ]
    },
    {
     "name": "stderr",
     "output_type": "stream",
     "text": [
      "C:\\Users\\skhus\\anaconda3\\lib\\site-packages\\sklearn\\model_selection\\_validation.py:610: FitFailedWarning: Estimator fit failed. The score on this train-test partition for these parameters will be set to nan. Details: \n",
      "Traceback (most recent call last):\n",
      "  File \"C:\\Users\\skhus\\anaconda3\\lib\\site-packages\\sklearn\\model_selection\\_validation.py\", line 593, in _fit_and_score\n",
      "    estimator.fit(X_train, y_train, **fit_params)\n",
      "  File \"C:\\Users\\skhus\\anaconda3\\lib\\site-packages\\sklearn\\svm\\_classes.py\", line 234, in fit\n",
      "    self.coef_, self.intercept_, self.n_iter_ = _fit_liblinear(\n",
      "  File \"C:\\Users\\skhus\\anaconda3\\lib\\site-packages\\sklearn\\svm\\_base.py\", line 974, in _fit_liblinear\n",
      "    solver_type = _get_liblinear_solver_type(multi_class, penalty, loss, dual)\n",
      "  File \"C:\\Users\\skhus\\anaconda3\\lib\\site-packages\\sklearn\\svm\\_base.py\", line 830, in _get_liblinear_solver_type\n",
      "    raise ValueError('Unsupported set of arguments: %s, '\n",
      "ValueError: Unsupported set of arguments: The combination of penalty='l1' and loss='hinge' is not supported, Parameters: penalty='l1', loss='hinge', dual=False\n",
      "\n",
      "  warnings.warn(\"Estimator fit failed. The score on this train-test\"\n",
      "C:\\Users\\skhus\\anaconda3\\lib\\site-packages\\sklearn\\model_selection\\_validation.py:610: FitFailedWarning: Estimator fit failed. The score on this train-test partition for these parameters will be set to nan. Details: \n",
      "Traceback (most recent call last):\n",
      "  File \"C:\\Users\\skhus\\anaconda3\\lib\\site-packages\\sklearn\\model_selection\\_validation.py\", line 593, in _fit_and_score\n",
      "    estimator.fit(X_train, y_train, **fit_params)\n",
      "  File \"C:\\Users\\skhus\\anaconda3\\lib\\site-packages\\sklearn\\svm\\_classes.py\", line 234, in fit\n",
      "    self.coef_, self.intercept_, self.n_iter_ = _fit_liblinear(\n",
      "  File \"C:\\Users\\skhus\\anaconda3\\lib\\site-packages\\sklearn\\svm\\_base.py\", line 974, in _fit_liblinear\n",
      "    solver_type = _get_liblinear_solver_type(multi_class, penalty, loss, dual)\n",
      "  File \"C:\\Users\\skhus\\anaconda3\\lib\\site-packages\\sklearn\\svm\\_base.py\", line 830, in _get_liblinear_solver_type\n",
      "    raise ValueError('Unsupported set of arguments: %s, '\n",
      "ValueError: Unsupported set of arguments: The combination of penalty='l1' and loss='hinge' is not supported, Parameters: penalty='l1', loss='hinge', dual=False\n",
      "\n",
      "  warnings.warn(\"Estimator fit failed. The score on this train-test\"\n",
      "C:\\Users\\skhus\\anaconda3\\lib\\site-packages\\sklearn\\model_selection\\_validation.py:610: FitFailedWarning: Estimator fit failed. The score on this train-test partition for these parameters will be set to nan. Details: \n",
      "Traceback (most recent call last):\n",
      "  File \"C:\\Users\\skhus\\anaconda3\\lib\\site-packages\\sklearn\\model_selection\\_validation.py\", line 593, in _fit_and_score\n",
      "    estimator.fit(X_train, y_train, **fit_params)\n",
      "  File \"C:\\Users\\skhus\\anaconda3\\lib\\site-packages\\sklearn\\svm\\_classes.py\", line 234, in fit\n",
      "    self.coef_, self.intercept_, self.n_iter_ = _fit_liblinear(\n",
      "  File \"C:\\Users\\skhus\\anaconda3\\lib\\site-packages\\sklearn\\svm\\_base.py\", line 974, in _fit_liblinear\n",
      "    solver_type = _get_liblinear_solver_type(multi_class, penalty, loss, dual)\n",
      "  File \"C:\\Users\\skhus\\anaconda3\\lib\\site-packages\\sklearn\\svm\\_base.py\", line 830, in _get_liblinear_solver_type\n",
      "    raise ValueError('Unsupported set of arguments: %s, '\n",
      "ValueError: Unsupported set of arguments: The combination of penalty='l1' and loss='hinge' is not supported, Parameters: penalty='l1', loss='hinge', dual=False\n",
      "\n",
      "  warnings.warn(\"Estimator fit failed. The score on this train-test\"\n",
      "C:\\Users\\skhus\\anaconda3\\lib\\site-packages\\sklearn\\model_selection\\_validation.py:610: FitFailedWarning: Estimator fit failed. The score on this train-test partition for these parameters will be set to nan. Details: \n",
      "Traceback (most recent call last):\n",
      "  File \"C:\\Users\\skhus\\anaconda3\\lib\\site-packages\\sklearn\\model_selection\\_validation.py\", line 593, in _fit_and_score\n",
      "    estimator.fit(X_train, y_train, **fit_params)\n",
      "  File \"C:\\Users\\skhus\\anaconda3\\lib\\site-packages\\sklearn\\svm\\_classes.py\", line 234, in fit\n",
      "    self.coef_, self.intercept_, self.n_iter_ = _fit_liblinear(\n",
      "  File \"C:\\Users\\skhus\\anaconda3\\lib\\site-packages\\sklearn\\svm\\_base.py\", line 974, in _fit_liblinear\n",
      "    solver_type = _get_liblinear_solver_type(multi_class, penalty, loss, dual)\n",
      "  File \"C:\\Users\\skhus\\anaconda3\\lib\\site-packages\\sklearn\\svm\\_base.py\", line 830, in _get_liblinear_solver_type\n",
      "    raise ValueError('Unsupported set of arguments: %s, '\n",
      "ValueError: Unsupported set of arguments: The combination of penalty='l1' and loss='hinge' is not supported, Parameters: penalty='l1', loss='hinge', dual=False\n",
      "\n",
      "  warnings.warn(\"Estimator fit failed. The score on this train-test\"\n",
      "C:\\Users\\skhus\\anaconda3\\lib\\site-packages\\sklearn\\model_selection\\_validation.py:610: FitFailedWarning: Estimator fit failed. The score on this train-test partition for these parameters will be set to nan. Details: \n",
      "Traceback (most recent call last):\n",
      "  File \"C:\\Users\\skhus\\anaconda3\\lib\\site-packages\\sklearn\\model_selection\\_validation.py\", line 593, in _fit_and_score\n",
      "    estimator.fit(X_train, y_train, **fit_params)\n",
      "  File \"C:\\Users\\skhus\\anaconda3\\lib\\site-packages\\sklearn\\svm\\_classes.py\", line 234, in fit\n",
      "    self.coef_, self.intercept_, self.n_iter_ = _fit_liblinear(\n",
      "  File \"C:\\Users\\skhus\\anaconda3\\lib\\site-packages\\sklearn\\svm\\_base.py\", line 974, in _fit_liblinear\n",
      "    solver_type = _get_liblinear_solver_type(multi_class, penalty, loss, dual)\n",
      "  File \"C:\\Users\\skhus\\anaconda3\\lib\\site-packages\\sklearn\\svm\\_base.py\", line 830, in _get_liblinear_solver_type\n",
      "    raise ValueError('Unsupported set of arguments: %s, '\n",
      "ValueError: Unsupported set of arguments: The combination of penalty='l1' and loss='hinge' is not supported, Parameters: penalty='l1', loss='hinge', dual=False\n",
      "\n",
      "  warnings.warn(\"Estimator fit failed. The score on this train-test\"\n",
      "C:\\Users\\skhus\\anaconda3\\lib\\site-packages\\sklearn\\model_selection\\_validation.py:610: FitFailedWarning: Estimator fit failed. The score on this train-test partition for these parameters will be set to nan. Details: \n",
      "Traceback (most recent call last):\n",
      "  File \"C:\\Users\\skhus\\anaconda3\\lib\\site-packages\\sklearn\\model_selection\\_validation.py\", line 593, in _fit_and_score\n",
      "    estimator.fit(X_train, y_train, **fit_params)\n",
      "  File \"C:\\Users\\skhus\\anaconda3\\lib\\site-packages\\sklearn\\svm\\_classes.py\", line 234, in fit\n",
      "    self.coef_, self.intercept_, self.n_iter_ = _fit_liblinear(\n",
      "  File \"C:\\Users\\skhus\\anaconda3\\lib\\site-packages\\sklearn\\svm\\_base.py\", line 974, in _fit_liblinear\n",
      "    solver_type = _get_liblinear_solver_type(multi_class, penalty, loss, dual)\n",
      "  File \"C:\\Users\\skhus\\anaconda3\\lib\\site-packages\\sklearn\\svm\\_base.py\", line 830, in _get_liblinear_solver_type\n",
      "    raise ValueError('Unsupported set of arguments: %s, '\n",
      "ValueError: Unsupported set of arguments: The combination of penalty='l2' and loss='hinge' are not supported when dual=False, Parameters: penalty='l2', loss='hinge', dual=False\n",
      "\n",
      "  warnings.warn(\"Estimator fit failed. The score on this train-test\"\n",
      "C:\\Users\\skhus\\anaconda3\\lib\\site-packages\\sklearn\\model_selection\\_validation.py:610: FitFailedWarning: Estimator fit failed. The score on this train-test partition for these parameters will be set to nan. Details: \n",
      "Traceback (most recent call last):\n",
      "  File \"C:\\Users\\skhus\\anaconda3\\lib\\site-packages\\sklearn\\model_selection\\_validation.py\", line 593, in _fit_and_score\n",
      "    estimator.fit(X_train, y_train, **fit_params)\n",
      "  File \"C:\\Users\\skhus\\anaconda3\\lib\\site-packages\\sklearn\\svm\\_classes.py\", line 234, in fit\n",
      "    self.coef_, self.intercept_, self.n_iter_ = _fit_liblinear(\n",
      "  File \"C:\\Users\\skhus\\anaconda3\\lib\\site-packages\\sklearn\\svm\\_base.py\", line 974, in _fit_liblinear\n",
      "    solver_type = _get_liblinear_solver_type(multi_class, penalty, loss, dual)\n",
      "  File \"C:\\Users\\skhus\\anaconda3\\lib\\site-packages\\sklearn\\svm\\_base.py\", line 830, in _get_liblinear_solver_type\n",
      "    raise ValueError('Unsupported set of arguments: %s, '\n",
      "ValueError: Unsupported set of arguments: The combination of penalty='l2' and loss='hinge' are not supported when dual=False, Parameters: penalty='l2', loss='hinge', dual=False\n",
      "\n",
      "  warnings.warn(\"Estimator fit failed. The score on this train-test\"\n",
      "C:\\Users\\skhus\\anaconda3\\lib\\site-packages\\sklearn\\model_selection\\_validation.py:610: FitFailedWarning: Estimator fit failed. The score on this train-test partition for these parameters will be set to nan. Details: \n",
      "Traceback (most recent call last):\n",
      "  File \"C:\\Users\\skhus\\anaconda3\\lib\\site-packages\\sklearn\\model_selection\\_validation.py\", line 593, in _fit_and_score\n",
      "    estimator.fit(X_train, y_train, **fit_params)\n",
      "  File \"C:\\Users\\skhus\\anaconda3\\lib\\site-packages\\sklearn\\svm\\_classes.py\", line 234, in fit\n",
      "    self.coef_, self.intercept_, self.n_iter_ = _fit_liblinear(\n",
      "  File \"C:\\Users\\skhus\\anaconda3\\lib\\site-packages\\sklearn\\svm\\_base.py\", line 974, in _fit_liblinear\n",
      "    solver_type = _get_liblinear_solver_type(multi_class, penalty, loss, dual)\n",
      "  File \"C:\\Users\\skhus\\anaconda3\\lib\\site-packages\\sklearn\\svm\\_base.py\", line 830, in _get_liblinear_solver_type\n",
      "    raise ValueError('Unsupported set of arguments: %s, '\n",
      "ValueError: Unsupported set of arguments: The combination of penalty='l2' and loss='hinge' are not supported when dual=False, Parameters: penalty='l2', loss='hinge', dual=False\n",
      "\n",
      "  warnings.warn(\"Estimator fit failed. The score on this train-test\"\n",
      "C:\\Users\\skhus\\anaconda3\\lib\\site-packages\\sklearn\\model_selection\\_validation.py:610: FitFailedWarning: Estimator fit failed. The score on this train-test partition for these parameters will be set to nan. Details: \n",
      "Traceback (most recent call last):\n",
      "  File \"C:\\Users\\skhus\\anaconda3\\lib\\site-packages\\sklearn\\model_selection\\_validation.py\", line 593, in _fit_and_score\n",
      "    estimator.fit(X_train, y_train, **fit_params)\n",
      "  File \"C:\\Users\\skhus\\anaconda3\\lib\\site-packages\\sklearn\\svm\\_classes.py\", line 234, in fit\n",
      "    self.coef_, self.intercept_, self.n_iter_ = _fit_liblinear(\n",
      "  File \"C:\\Users\\skhus\\anaconda3\\lib\\site-packages\\sklearn\\svm\\_base.py\", line 974, in _fit_liblinear\n",
      "    solver_type = _get_liblinear_solver_type(multi_class, penalty, loss, dual)\n",
      "  File \"C:\\Users\\skhus\\anaconda3\\lib\\site-packages\\sklearn\\svm\\_base.py\", line 830, in _get_liblinear_solver_type\n",
      "    raise ValueError('Unsupported set of arguments: %s, '\n",
      "ValueError: Unsupported set of arguments: The combination of penalty='l2' and loss='hinge' are not supported when dual=False, Parameters: penalty='l2', loss='hinge', dual=False\n",
      "\n",
      "  warnings.warn(\"Estimator fit failed. The score on this train-test\"\n",
      "C:\\Users\\skhus\\anaconda3\\lib\\site-packages\\sklearn\\model_selection\\_validation.py:610: FitFailedWarning: Estimator fit failed. The score on this train-test partition for these parameters will be set to nan. Details: \n",
      "Traceback (most recent call last):\n",
      "  File \"C:\\Users\\skhus\\anaconda3\\lib\\site-packages\\sklearn\\model_selection\\_validation.py\", line 593, in _fit_and_score\n",
      "    estimator.fit(X_train, y_train, **fit_params)\n",
      "  File \"C:\\Users\\skhus\\anaconda3\\lib\\site-packages\\sklearn\\svm\\_classes.py\", line 234, in fit\n",
      "    self.coef_, self.intercept_, self.n_iter_ = _fit_liblinear(\n",
      "  File \"C:\\Users\\skhus\\anaconda3\\lib\\site-packages\\sklearn\\svm\\_base.py\", line 974, in _fit_liblinear\n",
      "    solver_type = _get_liblinear_solver_type(multi_class, penalty, loss, dual)\n",
      "  File \"C:\\Users\\skhus\\anaconda3\\lib\\site-packages\\sklearn\\svm\\_base.py\", line 830, in _get_liblinear_solver_type\n",
      "    raise ValueError('Unsupported set of arguments: %s, '\n",
      "ValueError: Unsupported set of arguments: The combination of penalty='l2' and loss='hinge' are not supported when dual=False, Parameters: penalty='l2', loss='hinge', dual=False\n",
      "\n",
      "  warnings.warn(\"Estimator fit failed. The score on this train-test\"\n"
     ]
    },
    {
     "name": "stdout",
     "output_type": "stream",
     "text": [
      "[CV 2/5] END C=1, dual=False, fit_intercept=False, loss=hinge, multi_class=crammer_singer, penalty=l1; total time=   0.2s\n",
      "[CV 3/5] END C=1, dual=False, fit_intercept=False, loss=hinge, multi_class=crammer_singer, penalty=l1; total time=   0.0s\n",
      "[CV 4/5] END C=1, dual=False, fit_intercept=False, loss=hinge, multi_class=crammer_singer, penalty=l1; total time=   0.0s\n",
      "[CV 5/5] END C=1, dual=False, fit_intercept=False, loss=hinge, multi_class=crammer_singer, penalty=l1; total time=   0.0s\n",
      "[CV 1/5] END C=1, dual=False, fit_intercept=False, loss=hinge, multi_class=crammer_singer, penalty=l2; total time=   0.0s\n",
      "[CV 2/5] END C=1, dual=False, fit_intercept=False, loss=hinge, multi_class=crammer_singer, penalty=l2; total time=   0.0s\n",
      "[CV 3/5] END C=1, dual=False, fit_intercept=False, loss=hinge, multi_class=crammer_singer, penalty=l2; total time=   0.0s\n",
      "[CV 4/5] END C=1, dual=False, fit_intercept=False, loss=hinge, multi_class=crammer_singer, penalty=l2; total time=   0.0s\n",
      "[CV 5/5] END C=1, dual=False, fit_intercept=False, loss=hinge, multi_class=crammer_singer, penalty=l2; total time=   0.0s\n",
      "[CV 1/5] END C=1, dual=False, fit_intercept=False, loss=squared_hinge, multi_class=ovr, penalty=l1; total time=   0.0s\n",
      "[CV 2/5] END C=1, dual=False, fit_intercept=False, loss=squared_hinge, multi_class=ovr, penalty=l1; total time=   0.0s\n",
      "[CV 3/5] END C=1, dual=False, fit_intercept=False, loss=squared_hinge, multi_class=ovr, penalty=l1; total time=   0.0s\n",
      "[CV 4/5] END C=1, dual=False, fit_intercept=False, loss=squared_hinge, multi_class=ovr, penalty=l1; total time=   0.0s\n",
      "[CV 5/5] END C=1, dual=False, fit_intercept=False, loss=squared_hinge, multi_class=ovr, penalty=l1; total time=   0.0s\n",
      "[CV 1/5] END C=1, dual=False, fit_intercept=False, loss=squared_hinge, multi_class=ovr, penalty=l2; total time=   0.0s\n",
      "[CV 2/5] END C=1, dual=False, fit_intercept=False, loss=squared_hinge, multi_class=ovr, penalty=l2; total time=   0.0s\n",
      "[CV 3/5] END C=1, dual=False, fit_intercept=False, loss=squared_hinge, multi_class=ovr, penalty=l2; total time=   0.0s\n",
      "[CV 4/5] END C=1, dual=False, fit_intercept=False, loss=squared_hinge, multi_class=ovr, penalty=l2; total time=   0.0s\n",
      "[CV 5/5] END C=1, dual=False, fit_intercept=False, loss=squared_hinge, multi_class=ovr, penalty=l2; total time=   0.0s\n",
      "[CV 1/5] END C=1, dual=False, fit_intercept=False, loss=squared_hinge, multi_class=crammer_singer, penalty=l1; total time=   0.0s\n",
      "[CV 2/5] END C=1, dual=False, fit_intercept=False, loss=squared_hinge, multi_class=crammer_singer, penalty=l1; total time=   0.3s\n",
      "[CV 3/5] END C=1, dual=False, fit_intercept=False, loss=squared_hinge, multi_class=crammer_singer, penalty=l1; total time=   0.0s\n",
      "[CV 4/5] END C=1, dual=False, fit_intercept=False, loss=squared_hinge, multi_class=crammer_singer, penalty=l1; total time=   0.0s\n",
      "[CV 5/5] END C=1, dual=False, fit_intercept=False, loss=squared_hinge, multi_class=crammer_singer, penalty=l1; total time=   0.0s\n",
      "[CV 1/5] END C=1, dual=False, fit_intercept=False, loss=squared_hinge, multi_class=crammer_singer, penalty=l2; total time=   0.0s\n",
      "[CV 2/5] END C=1, dual=False, fit_intercept=False, loss=squared_hinge, multi_class=crammer_singer, penalty=l2; total time=   0.2s\n",
      "[CV 3/5] END C=1, dual=False, fit_intercept=False, loss=squared_hinge, multi_class=crammer_singer, penalty=l2; total time=   0.0s\n",
      "[CV 4/5] END C=1, dual=False, fit_intercept=False, loss=squared_hinge, multi_class=crammer_singer, penalty=l2; total time=   0.0s\n",
      "[CV 5/5] END C=1, dual=False, fit_intercept=False, loss=squared_hinge, multi_class=crammer_singer, penalty=l2; total time=   0.0s\n",
      "[CV 1/5] END C=1, dual=False, fit_intercept=True, loss=hinge, multi_class=ovr, penalty=l1; total time=   0.0s\n",
      "[CV 2/5] END C=1, dual=False, fit_intercept=True, loss=hinge, multi_class=ovr, penalty=l1; total time=   0.0s\n",
      "[CV 3/5] END C=1, dual=False, fit_intercept=True, loss=hinge, multi_class=ovr, penalty=l1; total time=   0.0s\n",
      "[CV 4/5] END C=1, dual=False, fit_intercept=True, loss=hinge, multi_class=ovr, penalty=l1; total time=   0.0s\n",
      "[CV 5/5] END C=1, dual=False, fit_intercept=True, loss=hinge, multi_class=ovr, penalty=l1; total time=   0.0s\n",
      "[CV 1/5] END C=1, dual=False, fit_intercept=True, loss=hinge, multi_class=ovr, penalty=l2; total time=   0.0s\n",
      "[CV 2/5] END C=1, dual=False, fit_intercept=True, loss=hinge, multi_class=ovr, penalty=l2; total time=   0.0s\n",
      "[CV 3/5] END C=1, dual=False, fit_intercept=True, loss=hinge, multi_class=ovr, penalty=l2; total time=   0.0s\n",
      "[CV 4/5] END C=1, dual=False, fit_intercept=True, loss=hinge, multi_class=ovr, penalty=l2; total time=   0.0s\n",
      "[CV 5/5] END C=1, dual=False, fit_intercept=True, loss=hinge, multi_class=ovr, penalty=l2; total time=   0.0s\n",
      "[CV 1/5] END C=1, dual=False, fit_intercept=True, loss=hinge, multi_class=crammer_singer, penalty=l1; total time=   0.0s\n",
      "[CV 2/5] END C=1, dual=False, fit_intercept=True, loss=hinge, multi_class=crammer_singer, penalty=l1; total time=   0.0s\n"
     ]
    },
    {
     "name": "stderr",
     "output_type": "stream",
     "text": [
      "C:\\Users\\skhus\\anaconda3\\lib\\site-packages\\sklearn\\model_selection\\_validation.py:610: FitFailedWarning: Estimator fit failed. The score on this train-test partition for these parameters will be set to nan. Details: \n",
      "Traceback (most recent call last):\n",
      "  File \"C:\\Users\\skhus\\anaconda3\\lib\\site-packages\\sklearn\\model_selection\\_validation.py\", line 593, in _fit_and_score\n",
      "    estimator.fit(X_train, y_train, **fit_params)\n",
      "  File \"C:\\Users\\skhus\\anaconda3\\lib\\site-packages\\sklearn\\svm\\_classes.py\", line 234, in fit\n",
      "    self.coef_, self.intercept_, self.n_iter_ = _fit_liblinear(\n",
      "  File \"C:\\Users\\skhus\\anaconda3\\lib\\site-packages\\sklearn\\svm\\_base.py\", line 974, in _fit_liblinear\n",
      "    solver_type = _get_liblinear_solver_type(multi_class, penalty, loss, dual)\n",
      "  File \"C:\\Users\\skhus\\anaconda3\\lib\\site-packages\\sklearn\\svm\\_base.py\", line 830, in _get_liblinear_solver_type\n",
      "    raise ValueError('Unsupported set of arguments: %s, '\n",
      "ValueError: Unsupported set of arguments: The combination of penalty='l1' and loss='hinge' is not supported, Parameters: penalty='l1', loss='hinge', dual=False\n",
      "\n",
      "  warnings.warn(\"Estimator fit failed. The score on this train-test\"\n",
      "C:\\Users\\skhus\\anaconda3\\lib\\site-packages\\sklearn\\model_selection\\_validation.py:610: FitFailedWarning: Estimator fit failed. The score on this train-test partition for these parameters will be set to nan. Details: \n",
      "Traceback (most recent call last):\n",
      "  File \"C:\\Users\\skhus\\anaconda3\\lib\\site-packages\\sklearn\\model_selection\\_validation.py\", line 593, in _fit_and_score\n",
      "    estimator.fit(X_train, y_train, **fit_params)\n",
      "  File \"C:\\Users\\skhus\\anaconda3\\lib\\site-packages\\sklearn\\svm\\_classes.py\", line 234, in fit\n",
      "    self.coef_, self.intercept_, self.n_iter_ = _fit_liblinear(\n",
      "  File \"C:\\Users\\skhus\\anaconda3\\lib\\site-packages\\sklearn\\svm\\_base.py\", line 974, in _fit_liblinear\n",
      "    solver_type = _get_liblinear_solver_type(multi_class, penalty, loss, dual)\n",
      "  File \"C:\\Users\\skhus\\anaconda3\\lib\\site-packages\\sklearn\\svm\\_base.py\", line 830, in _get_liblinear_solver_type\n",
      "    raise ValueError('Unsupported set of arguments: %s, '\n",
      "ValueError: Unsupported set of arguments: The combination of penalty='l1' and loss='hinge' is not supported, Parameters: penalty='l1', loss='hinge', dual=False\n",
      "\n",
      "  warnings.warn(\"Estimator fit failed. The score on this train-test\"\n",
      "C:\\Users\\skhus\\anaconda3\\lib\\site-packages\\sklearn\\model_selection\\_validation.py:610: FitFailedWarning: Estimator fit failed. The score on this train-test partition for these parameters will be set to nan. Details: \n",
      "Traceback (most recent call last):\n",
      "  File \"C:\\Users\\skhus\\anaconda3\\lib\\site-packages\\sklearn\\model_selection\\_validation.py\", line 593, in _fit_and_score\n",
      "    estimator.fit(X_train, y_train, **fit_params)\n",
      "  File \"C:\\Users\\skhus\\anaconda3\\lib\\site-packages\\sklearn\\svm\\_classes.py\", line 234, in fit\n",
      "    self.coef_, self.intercept_, self.n_iter_ = _fit_liblinear(\n",
      "  File \"C:\\Users\\skhus\\anaconda3\\lib\\site-packages\\sklearn\\svm\\_base.py\", line 974, in _fit_liblinear\n",
      "    solver_type = _get_liblinear_solver_type(multi_class, penalty, loss, dual)\n",
      "  File \"C:\\Users\\skhus\\anaconda3\\lib\\site-packages\\sklearn\\svm\\_base.py\", line 830, in _get_liblinear_solver_type\n",
      "    raise ValueError('Unsupported set of arguments: %s, '\n",
      "ValueError: Unsupported set of arguments: The combination of penalty='l1' and loss='hinge' is not supported, Parameters: penalty='l1', loss='hinge', dual=False\n",
      "\n",
      "  warnings.warn(\"Estimator fit failed. The score on this train-test\"\n",
      "C:\\Users\\skhus\\anaconda3\\lib\\site-packages\\sklearn\\model_selection\\_validation.py:610: FitFailedWarning: Estimator fit failed. The score on this train-test partition for these parameters will be set to nan. Details: \n",
      "Traceback (most recent call last):\n",
      "  File \"C:\\Users\\skhus\\anaconda3\\lib\\site-packages\\sklearn\\model_selection\\_validation.py\", line 593, in _fit_and_score\n",
      "    estimator.fit(X_train, y_train, **fit_params)\n",
      "  File \"C:\\Users\\skhus\\anaconda3\\lib\\site-packages\\sklearn\\svm\\_classes.py\", line 234, in fit\n",
      "    self.coef_, self.intercept_, self.n_iter_ = _fit_liblinear(\n",
      "  File \"C:\\Users\\skhus\\anaconda3\\lib\\site-packages\\sklearn\\svm\\_base.py\", line 974, in _fit_liblinear\n",
      "    solver_type = _get_liblinear_solver_type(multi_class, penalty, loss, dual)\n",
      "  File \"C:\\Users\\skhus\\anaconda3\\lib\\site-packages\\sklearn\\svm\\_base.py\", line 830, in _get_liblinear_solver_type\n",
      "    raise ValueError('Unsupported set of arguments: %s, '\n",
      "ValueError: Unsupported set of arguments: The combination of penalty='l1' and loss='hinge' is not supported, Parameters: penalty='l1', loss='hinge', dual=False\n",
      "\n",
      "  warnings.warn(\"Estimator fit failed. The score on this train-test\"\n",
      "C:\\Users\\skhus\\anaconda3\\lib\\site-packages\\sklearn\\model_selection\\_validation.py:610: FitFailedWarning: Estimator fit failed. The score on this train-test partition for these parameters will be set to nan. Details: \n",
      "Traceback (most recent call last):\n",
      "  File \"C:\\Users\\skhus\\anaconda3\\lib\\site-packages\\sklearn\\model_selection\\_validation.py\", line 593, in _fit_and_score\n",
      "    estimator.fit(X_train, y_train, **fit_params)\n",
      "  File \"C:\\Users\\skhus\\anaconda3\\lib\\site-packages\\sklearn\\svm\\_classes.py\", line 234, in fit\n",
      "    self.coef_, self.intercept_, self.n_iter_ = _fit_liblinear(\n",
      "  File \"C:\\Users\\skhus\\anaconda3\\lib\\site-packages\\sklearn\\svm\\_base.py\", line 974, in _fit_liblinear\n",
      "    solver_type = _get_liblinear_solver_type(multi_class, penalty, loss, dual)\n",
      "  File \"C:\\Users\\skhus\\anaconda3\\lib\\site-packages\\sklearn\\svm\\_base.py\", line 830, in _get_liblinear_solver_type\n",
      "    raise ValueError('Unsupported set of arguments: %s, '\n",
      "ValueError: Unsupported set of arguments: The combination of penalty='l1' and loss='hinge' is not supported, Parameters: penalty='l1', loss='hinge', dual=False\n",
      "\n",
      "  warnings.warn(\"Estimator fit failed. The score on this train-test\"\n",
      "C:\\Users\\skhus\\anaconda3\\lib\\site-packages\\sklearn\\model_selection\\_validation.py:610: FitFailedWarning: Estimator fit failed. The score on this train-test partition for these parameters will be set to nan. Details: \n",
      "Traceback (most recent call last):\n",
      "  File \"C:\\Users\\skhus\\anaconda3\\lib\\site-packages\\sklearn\\model_selection\\_validation.py\", line 593, in _fit_and_score\n",
      "    estimator.fit(X_train, y_train, **fit_params)\n",
      "  File \"C:\\Users\\skhus\\anaconda3\\lib\\site-packages\\sklearn\\svm\\_classes.py\", line 234, in fit\n",
      "    self.coef_, self.intercept_, self.n_iter_ = _fit_liblinear(\n",
      "  File \"C:\\Users\\skhus\\anaconda3\\lib\\site-packages\\sklearn\\svm\\_base.py\", line 974, in _fit_liblinear\n",
      "    solver_type = _get_liblinear_solver_type(multi_class, penalty, loss, dual)\n",
      "  File \"C:\\Users\\skhus\\anaconda3\\lib\\site-packages\\sklearn\\svm\\_base.py\", line 830, in _get_liblinear_solver_type\n",
      "    raise ValueError('Unsupported set of arguments: %s, '\n",
      "ValueError: Unsupported set of arguments: The combination of penalty='l2' and loss='hinge' are not supported when dual=False, Parameters: penalty='l2', loss='hinge', dual=False\n",
      "\n",
      "  warnings.warn(\"Estimator fit failed. The score on this train-test\"\n",
      "C:\\Users\\skhus\\anaconda3\\lib\\site-packages\\sklearn\\model_selection\\_validation.py:610: FitFailedWarning: Estimator fit failed. The score on this train-test partition for these parameters will be set to nan. Details: \n",
      "Traceback (most recent call last):\n",
      "  File \"C:\\Users\\skhus\\anaconda3\\lib\\site-packages\\sklearn\\model_selection\\_validation.py\", line 593, in _fit_and_score\n",
      "    estimator.fit(X_train, y_train, **fit_params)\n",
      "  File \"C:\\Users\\skhus\\anaconda3\\lib\\site-packages\\sklearn\\svm\\_classes.py\", line 234, in fit\n",
      "    self.coef_, self.intercept_, self.n_iter_ = _fit_liblinear(\n",
      "  File \"C:\\Users\\skhus\\anaconda3\\lib\\site-packages\\sklearn\\svm\\_base.py\", line 974, in _fit_liblinear\n",
      "    solver_type = _get_liblinear_solver_type(multi_class, penalty, loss, dual)\n",
      "  File \"C:\\Users\\skhus\\anaconda3\\lib\\site-packages\\sklearn\\svm\\_base.py\", line 830, in _get_liblinear_solver_type\n",
      "    raise ValueError('Unsupported set of arguments: %s, '\n",
      "ValueError: Unsupported set of arguments: The combination of penalty='l2' and loss='hinge' are not supported when dual=False, Parameters: penalty='l2', loss='hinge', dual=False\n",
      "\n",
      "  warnings.warn(\"Estimator fit failed. The score on this train-test\"\n",
      "C:\\Users\\skhus\\anaconda3\\lib\\site-packages\\sklearn\\model_selection\\_validation.py:610: FitFailedWarning: Estimator fit failed. The score on this train-test partition for these parameters will be set to nan. Details: \n",
      "Traceback (most recent call last):\n",
      "  File \"C:\\Users\\skhus\\anaconda3\\lib\\site-packages\\sklearn\\model_selection\\_validation.py\", line 593, in _fit_and_score\n",
      "    estimator.fit(X_train, y_train, **fit_params)\n",
      "  File \"C:\\Users\\skhus\\anaconda3\\lib\\site-packages\\sklearn\\svm\\_classes.py\", line 234, in fit\n",
      "    self.coef_, self.intercept_, self.n_iter_ = _fit_liblinear(\n",
      "  File \"C:\\Users\\skhus\\anaconda3\\lib\\site-packages\\sklearn\\svm\\_base.py\", line 974, in _fit_liblinear\n",
      "    solver_type = _get_liblinear_solver_type(multi_class, penalty, loss, dual)\n",
      "  File \"C:\\Users\\skhus\\anaconda3\\lib\\site-packages\\sklearn\\svm\\_base.py\", line 830, in _get_liblinear_solver_type\n",
      "    raise ValueError('Unsupported set of arguments: %s, '\n",
      "ValueError: Unsupported set of arguments: The combination of penalty='l2' and loss='hinge' are not supported when dual=False, Parameters: penalty='l2', loss='hinge', dual=False\n",
      "\n",
      "  warnings.warn(\"Estimator fit failed. The score on this train-test\"\n",
      "C:\\Users\\skhus\\anaconda3\\lib\\site-packages\\sklearn\\model_selection\\_validation.py:610: FitFailedWarning: Estimator fit failed. The score on this train-test partition for these parameters will be set to nan. Details: \n",
      "Traceback (most recent call last):\n",
      "  File \"C:\\Users\\skhus\\anaconda3\\lib\\site-packages\\sklearn\\model_selection\\_validation.py\", line 593, in _fit_and_score\n",
      "    estimator.fit(X_train, y_train, **fit_params)\n",
      "  File \"C:\\Users\\skhus\\anaconda3\\lib\\site-packages\\sklearn\\svm\\_classes.py\", line 234, in fit\n",
      "    self.coef_, self.intercept_, self.n_iter_ = _fit_liblinear(\n",
      "  File \"C:\\Users\\skhus\\anaconda3\\lib\\site-packages\\sklearn\\svm\\_base.py\", line 974, in _fit_liblinear\n",
      "    solver_type = _get_liblinear_solver_type(multi_class, penalty, loss, dual)\n",
      "  File \"C:\\Users\\skhus\\anaconda3\\lib\\site-packages\\sklearn\\svm\\_base.py\", line 830, in _get_liblinear_solver_type\n",
      "    raise ValueError('Unsupported set of arguments: %s, '\n",
      "ValueError: Unsupported set of arguments: The combination of penalty='l2' and loss='hinge' are not supported when dual=False, Parameters: penalty='l2', loss='hinge', dual=False\n",
      "\n",
      "  warnings.warn(\"Estimator fit failed. The score on this train-test\"\n",
      "C:\\Users\\skhus\\anaconda3\\lib\\site-packages\\sklearn\\model_selection\\_validation.py:610: FitFailedWarning: Estimator fit failed. The score on this train-test partition for these parameters will be set to nan. Details: \n",
      "Traceback (most recent call last):\n",
      "  File \"C:\\Users\\skhus\\anaconda3\\lib\\site-packages\\sklearn\\model_selection\\_validation.py\", line 593, in _fit_and_score\n",
      "    estimator.fit(X_train, y_train, **fit_params)\n",
      "  File \"C:\\Users\\skhus\\anaconda3\\lib\\site-packages\\sklearn\\svm\\_classes.py\", line 234, in fit\n",
      "    self.coef_, self.intercept_, self.n_iter_ = _fit_liblinear(\n",
      "  File \"C:\\Users\\skhus\\anaconda3\\lib\\site-packages\\sklearn\\svm\\_base.py\", line 974, in _fit_liblinear\n",
      "    solver_type = _get_liblinear_solver_type(multi_class, penalty, loss, dual)\n",
      "  File \"C:\\Users\\skhus\\anaconda3\\lib\\site-packages\\sklearn\\svm\\_base.py\", line 830, in _get_liblinear_solver_type\n",
      "    raise ValueError('Unsupported set of arguments: %s, '\n",
      "ValueError: Unsupported set of arguments: The combination of penalty='l2' and loss='hinge' are not supported when dual=False, Parameters: penalty='l2', loss='hinge', dual=False\n",
      "\n",
      "  warnings.warn(\"Estimator fit failed. The score on this train-test\"\n"
     ]
    },
    {
     "name": "stdout",
     "output_type": "stream",
     "text": [
      "[CV 3/5] END C=1, dual=False, fit_intercept=True, loss=hinge, multi_class=crammer_singer, penalty=l1; total time=   0.0s\n"
     ]
    },
    {
     "name": "stderr",
     "output_type": "stream",
     "text": [
      "C:\\Users\\skhus\\anaconda3\\lib\\site-packages\\sklearn\\svm\\_base.py:985: ConvergenceWarning: Liblinear failed to converge, increase the number of iterations.\n",
      "  warnings.warn(\"Liblinear failed to converge, increase \"\n"
     ]
    },
    {
     "name": "stdout",
     "output_type": "stream",
     "text": [
      "[CV 4/5] END C=1, dual=False, fit_intercept=True, loss=hinge, multi_class=crammer_singer, penalty=l1; total time=   0.7s\n",
      "[CV 5/5] END C=1, dual=False, fit_intercept=True, loss=hinge, multi_class=crammer_singer, penalty=l1; total time=   0.1s\n",
      "[CV 1/5] END C=1, dual=False, fit_intercept=True, loss=hinge, multi_class=crammer_singer, penalty=l2; total time=   0.0s\n",
      "[CV 2/5] END C=1, dual=False, fit_intercept=True, loss=hinge, multi_class=crammer_singer, penalty=l2; total time=   0.0s\n",
      "[CV 3/5] END C=1, dual=False, fit_intercept=True, loss=hinge, multi_class=crammer_singer, penalty=l2; total time=   0.0s\n",
      "[CV 4/5] END C=1, dual=False, fit_intercept=True, loss=hinge, multi_class=crammer_singer, penalty=l2; total time=   0.1s\n",
      "[CV 5/5] END C=1, dual=False, fit_intercept=True, loss=hinge, multi_class=crammer_singer, penalty=l2; total time=   0.1s\n",
      "[CV 1/5] END C=1, dual=False, fit_intercept=True, loss=squared_hinge, multi_class=ovr, penalty=l1; total time=   0.0s\n",
      "[CV 2/5] END C=1, dual=False, fit_intercept=True, loss=squared_hinge, multi_class=ovr, penalty=l1; total time=   0.0s\n",
      "[CV 3/5] END C=1, dual=False, fit_intercept=True, loss=squared_hinge, multi_class=ovr, penalty=l1; total time=   0.0s\n",
      "[CV 4/5] END C=1, dual=False, fit_intercept=True, loss=squared_hinge, multi_class=ovr, penalty=l1; total time=   0.0s\n",
      "[CV 5/5] END C=1, dual=False, fit_intercept=True, loss=squared_hinge, multi_class=ovr, penalty=l1; total time=   0.0s\n",
      "[CV 1/5] END C=1, dual=False, fit_intercept=True, loss=squared_hinge, multi_class=ovr, penalty=l2; total time=   0.0s\n",
      "[CV 2/5] END C=1, dual=False, fit_intercept=True, loss=squared_hinge, multi_class=ovr, penalty=l2; total time=   0.0s\n",
      "[CV 3/5] END C=1, dual=False, fit_intercept=True, loss=squared_hinge, multi_class=ovr, penalty=l2; total time=   0.0s\n",
      "[CV 4/5] END C=1, dual=False, fit_intercept=True, loss=squared_hinge, multi_class=ovr, penalty=l2; total time=   0.0s\n",
      "[CV 5/5] END C=1, dual=False, fit_intercept=True, loss=squared_hinge, multi_class=ovr, penalty=l2; total time=   0.0s\n",
      "[CV 1/5] END C=1, dual=False, fit_intercept=True, loss=squared_hinge, multi_class=crammer_singer, penalty=l1; total time=   0.0s\n",
      "[CV 2/5] END C=1, dual=False, fit_intercept=True, loss=squared_hinge, multi_class=crammer_singer, penalty=l1; total time=   0.0s\n",
      "[CV 3/5] END C=1, dual=False, fit_intercept=True, loss=squared_hinge, multi_class=crammer_singer, penalty=l1; total time=   0.0s\n"
     ]
    },
    {
     "name": "stderr",
     "output_type": "stream",
     "text": [
      "C:\\Users\\skhus\\anaconda3\\lib\\site-packages\\sklearn\\svm\\_base.py:985: ConvergenceWarning: Liblinear failed to converge, increase the number of iterations.\n",
      "  warnings.warn(\"Liblinear failed to converge, increase \"\n"
     ]
    },
    {
     "name": "stdout",
     "output_type": "stream",
     "text": [
      "[CV 4/5] END C=1, dual=False, fit_intercept=True, loss=squared_hinge, multi_class=crammer_singer, penalty=l1; total time=   1.1s\n",
      "[CV 5/5] END C=1, dual=False, fit_intercept=True, loss=squared_hinge, multi_class=crammer_singer, penalty=l1; total time=   0.1s\n",
      "[CV 1/5] END C=1, dual=False, fit_intercept=True, loss=squared_hinge, multi_class=crammer_singer, penalty=l2; total time=   0.0s\n",
      "[CV 2/5] END C=1, dual=False, fit_intercept=True, loss=squared_hinge, multi_class=crammer_singer, penalty=l2; total time=   0.0s\n",
      "[CV 3/5] END C=1, dual=False, fit_intercept=True, loss=squared_hinge, multi_class=crammer_singer, penalty=l2; total time=   0.0s\n"
     ]
    },
    {
     "name": "stderr",
     "output_type": "stream",
     "text": [
      "C:\\Users\\skhus\\anaconda3\\lib\\site-packages\\sklearn\\svm\\_base.py:985: ConvergenceWarning: Liblinear failed to converge, increase the number of iterations.\n",
      "  warnings.warn(\"Liblinear failed to converge, increase \"\n"
     ]
    },
    {
     "name": "stdout",
     "output_type": "stream",
     "text": [
      "[CV 4/5] END C=1, dual=False, fit_intercept=True, loss=squared_hinge, multi_class=crammer_singer, penalty=l2; total time=   1.7s\n",
      "[CV 5/5] END C=1, dual=False, fit_intercept=True, loss=squared_hinge, multi_class=crammer_singer, penalty=l2; total time=   0.1s\n"
     ]
    },
    {
     "name": "stderr",
     "output_type": "stream",
     "text": [
      "C:\\Users\\skhus\\anaconda3\\lib\\site-packages\\sklearn\\model_selection\\_validation.py:610: FitFailedWarning: Estimator fit failed. The score on this train-test partition for these parameters will be set to nan. Details: \n",
      "Traceback (most recent call last):\n",
      "  File \"C:\\Users\\skhus\\anaconda3\\lib\\site-packages\\sklearn\\model_selection\\_validation.py\", line 593, in _fit_and_score\n",
      "    estimator.fit(X_train, y_train, **fit_params)\n",
      "  File \"C:\\Users\\skhus\\anaconda3\\lib\\site-packages\\sklearn\\svm\\_classes.py\", line 234, in fit\n",
      "    self.coef_, self.intercept_, self.n_iter_ = _fit_liblinear(\n",
      "  File \"C:\\Users\\skhus\\anaconda3\\lib\\site-packages\\sklearn\\svm\\_base.py\", line 974, in _fit_liblinear\n",
      "    solver_type = _get_liblinear_solver_type(multi_class, penalty, loss, dual)\n",
      "  File \"C:\\Users\\skhus\\anaconda3\\lib\\site-packages\\sklearn\\svm\\_base.py\", line 830, in _get_liblinear_solver_type\n",
      "    raise ValueError('Unsupported set of arguments: %s, '\n",
      "ValueError: Unsupported set of arguments: The combination of penalty='l1' and loss='hinge' is not supported, Parameters: penalty='l1', loss='hinge', dual=True\n",
      "\n",
      "  warnings.warn(\"Estimator fit failed. The score on this train-test\"\n",
      "C:\\Users\\skhus\\anaconda3\\lib\\site-packages\\sklearn\\model_selection\\_validation.py:610: FitFailedWarning: Estimator fit failed. The score on this train-test partition for these parameters will be set to nan. Details: \n",
      "Traceback (most recent call last):\n",
      "  File \"C:\\Users\\skhus\\anaconda3\\lib\\site-packages\\sklearn\\model_selection\\_validation.py\", line 593, in _fit_and_score\n",
      "    estimator.fit(X_train, y_train, **fit_params)\n",
      "  File \"C:\\Users\\skhus\\anaconda3\\lib\\site-packages\\sklearn\\svm\\_classes.py\", line 234, in fit\n",
      "    self.coef_, self.intercept_, self.n_iter_ = _fit_liblinear(\n",
      "  File \"C:\\Users\\skhus\\anaconda3\\lib\\site-packages\\sklearn\\svm\\_base.py\", line 974, in _fit_liblinear\n",
      "    solver_type = _get_liblinear_solver_type(multi_class, penalty, loss, dual)\n",
      "  File \"C:\\Users\\skhus\\anaconda3\\lib\\site-packages\\sklearn\\svm\\_base.py\", line 830, in _get_liblinear_solver_type\n",
      "    raise ValueError('Unsupported set of arguments: %s, '\n",
      "ValueError: Unsupported set of arguments: The combination of penalty='l1' and loss='hinge' is not supported, Parameters: penalty='l1', loss='hinge', dual=True\n",
      "\n",
      "  warnings.warn(\"Estimator fit failed. The score on this train-test\"\n",
      "C:\\Users\\skhus\\anaconda3\\lib\\site-packages\\sklearn\\model_selection\\_validation.py:610: FitFailedWarning: Estimator fit failed. The score on this train-test partition for these parameters will be set to nan. Details: \n",
      "Traceback (most recent call last):\n",
      "  File \"C:\\Users\\skhus\\anaconda3\\lib\\site-packages\\sklearn\\model_selection\\_validation.py\", line 593, in _fit_and_score\n",
      "    estimator.fit(X_train, y_train, **fit_params)\n",
      "  File \"C:\\Users\\skhus\\anaconda3\\lib\\site-packages\\sklearn\\svm\\_classes.py\", line 234, in fit\n",
      "    self.coef_, self.intercept_, self.n_iter_ = _fit_liblinear(\n",
      "  File \"C:\\Users\\skhus\\anaconda3\\lib\\site-packages\\sklearn\\svm\\_base.py\", line 974, in _fit_liblinear\n",
      "    solver_type = _get_liblinear_solver_type(multi_class, penalty, loss, dual)\n",
      "  File \"C:\\Users\\skhus\\anaconda3\\lib\\site-packages\\sklearn\\svm\\_base.py\", line 830, in _get_liblinear_solver_type\n",
      "    raise ValueError('Unsupported set of arguments: %s, '\n",
      "ValueError: Unsupported set of arguments: The combination of penalty='l1' and loss='hinge' is not supported, Parameters: penalty='l1', loss='hinge', dual=True\n",
      "\n",
      "  warnings.warn(\"Estimator fit failed. The score on this train-test\"\n",
      "C:\\Users\\skhus\\anaconda3\\lib\\site-packages\\sklearn\\model_selection\\_validation.py:610: FitFailedWarning: Estimator fit failed. The score on this train-test partition for these parameters will be set to nan. Details: \n",
      "Traceback (most recent call last):\n",
      "  File \"C:\\Users\\skhus\\anaconda3\\lib\\site-packages\\sklearn\\model_selection\\_validation.py\", line 593, in _fit_and_score\n",
      "    estimator.fit(X_train, y_train, **fit_params)\n",
      "  File \"C:\\Users\\skhus\\anaconda3\\lib\\site-packages\\sklearn\\svm\\_classes.py\", line 234, in fit\n",
      "    self.coef_, self.intercept_, self.n_iter_ = _fit_liblinear(\n",
      "  File \"C:\\Users\\skhus\\anaconda3\\lib\\site-packages\\sklearn\\svm\\_base.py\", line 974, in _fit_liblinear\n",
      "    solver_type = _get_liblinear_solver_type(multi_class, penalty, loss, dual)\n",
      "  File \"C:\\Users\\skhus\\anaconda3\\lib\\site-packages\\sklearn\\svm\\_base.py\", line 830, in _get_liblinear_solver_type\n",
      "    raise ValueError('Unsupported set of arguments: %s, '\n",
      "ValueError: Unsupported set of arguments: The combination of penalty='l1' and loss='hinge' is not supported, Parameters: penalty='l1', loss='hinge', dual=True\n",
      "\n",
      "  warnings.warn(\"Estimator fit failed. The score on this train-test\"\n",
      "C:\\Users\\skhus\\anaconda3\\lib\\site-packages\\sklearn\\model_selection\\_validation.py:610: FitFailedWarning: Estimator fit failed. The score on this train-test partition for these parameters will be set to nan. Details: \n",
      "Traceback (most recent call last):\n",
      "  File \"C:\\Users\\skhus\\anaconda3\\lib\\site-packages\\sklearn\\model_selection\\_validation.py\", line 593, in _fit_and_score\n",
      "    estimator.fit(X_train, y_train, **fit_params)\n",
      "  File \"C:\\Users\\skhus\\anaconda3\\lib\\site-packages\\sklearn\\svm\\_classes.py\", line 234, in fit\n",
      "    self.coef_, self.intercept_, self.n_iter_ = _fit_liblinear(\n",
      "  File \"C:\\Users\\skhus\\anaconda3\\lib\\site-packages\\sklearn\\svm\\_base.py\", line 974, in _fit_liblinear\n",
      "    solver_type = _get_liblinear_solver_type(multi_class, penalty, loss, dual)\n",
      "  File \"C:\\Users\\skhus\\anaconda3\\lib\\site-packages\\sklearn\\svm\\_base.py\", line 830, in _get_liblinear_solver_type\n",
      "    raise ValueError('Unsupported set of arguments: %s, '\n",
      "ValueError: Unsupported set of arguments: The combination of penalty='l1' and loss='hinge' is not supported, Parameters: penalty='l1', loss='hinge', dual=True\n",
      "\n",
      "  warnings.warn(\"Estimator fit failed. The score on this train-test\"\n"
     ]
    },
    {
     "name": "stdout",
     "output_type": "stream",
     "text": [
      "[CV 1/5] END C=1, dual=True, fit_intercept=False, loss=hinge, multi_class=ovr, penalty=l1; total time=   0.0s\n",
      "[CV 2/5] END C=1, dual=True, fit_intercept=False, loss=hinge, multi_class=ovr, penalty=l1; total time=   0.0s\n",
      "[CV 3/5] END C=1, dual=True, fit_intercept=False, loss=hinge, multi_class=ovr, penalty=l1; total time=   0.0s\n",
      "[CV 4/5] END C=1, dual=True, fit_intercept=False, loss=hinge, multi_class=ovr, penalty=l1; total time=   0.0s\n",
      "[CV 5/5] END C=1, dual=True, fit_intercept=False, loss=hinge, multi_class=ovr, penalty=l1; total time=   0.0s\n",
      "[CV 1/5] END C=1, dual=True, fit_intercept=False, loss=hinge, multi_class=ovr, penalty=l2; total time=   0.0s\n",
      "[CV 2/5] END C=1, dual=True, fit_intercept=False, loss=hinge, multi_class=ovr, penalty=l2; total time=   0.0s\n",
      "[CV 3/5] END C=1, dual=True, fit_intercept=False, loss=hinge, multi_class=ovr, penalty=l2; total time=   0.0s\n",
      "[CV 4/5] END C=1, dual=True, fit_intercept=False, loss=hinge, multi_class=ovr, penalty=l2; total time=   0.0s\n",
      "[CV 5/5] END C=1, dual=True, fit_intercept=False, loss=hinge, multi_class=ovr, penalty=l2; total time=   0.0s\n",
      "[CV 1/5] END C=1, dual=True, fit_intercept=False, loss=hinge, multi_class=crammer_singer, penalty=l1; total time=   0.0s\n",
      "[CV 2/5] END C=1, dual=True, fit_intercept=False, loss=hinge, multi_class=crammer_singer, penalty=l1; total time=   0.1s\n",
      "[CV 3/5] END C=1, dual=True, fit_intercept=False, loss=hinge, multi_class=crammer_singer, penalty=l1; total time=   0.0s\n",
      "[CV 4/5] END C=1, dual=True, fit_intercept=False, loss=hinge, multi_class=crammer_singer, penalty=l1; total time=   0.0s\n",
      "[CV 5/5] END C=1, dual=True, fit_intercept=False, loss=hinge, multi_class=crammer_singer, penalty=l1; total time=   0.0s\n",
      "[CV 1/5] END C=1, dual=True, fit_intercept=False, loss=hinge, multi_class=crammer_singer, penalty=l2; total time=   0.0s\n",
      "[CV 2/5] END C=1, dual=True, fit_intercept=False, loss=hinge, multi_class=crammer_singer, penalty=l2; total time=   0.0s\n",
      "[CV 3/5] END C=1, dual=True, fit_intercept=False, loss=hinge, multi_class=crammer_singer, penalty=l2; total time=   0.0s\n",
      "[CV 4/5] END C=1, dual=True, fit_intercept=False, loss=hinge, multi_class=crammer_singer, penalty=l2; total time=   0.0s\n",
      "[CV 5/5] END C=1, dual=True, fit_intercept=False, loss=hinge, multi_class=crammer_singer, penalty=l2; total time=   0.0s\n",
      "[CV 1/5] END C=1, dual=True, fit_intercept=False, loss=squared_hinge, multi_class=ovr, penalty=l1; total time=   0.0s\n",
      "[CV 2/5] END C=1, dual=True, fit_intercept=False, loss=squared_hinge, multi_class=ovr, penalty=l1; total time=   0.0s\n",
      "[CV 3/5] END C=1, dual=True, fit_intercept=False, loss=squared_hinge, multi_class=ovr, penalty=l1; total time=   0.0s\n",
      "[CV 4/5] END C=1, dual=True, fit_intercept=False, loss=squared_hinge, multi_class=ovr, penalty=l1; total time=   0.0s\n",
      "[CV 5/5] END C=1, dual=True, fit_intercept=False, loss=squared_hinge, multi_class=ovr, penalty=l1; total time=   0.0s\n",
      "[CV 1/5] END C=1, dual=True, fit_intercept=False, loss=squared_hinge, multi_class=ovr, penalty=l2; total time=   0.0s\n",
      "[CV 2/5] END C=1, dual=True, fit_intercept=False, loss=squared_hinge, multi_class=ovr, penalty=l2; total time=   0.0s\n",
      "[CV 3/5] END C=1, dual=True, fit_intercept=False, loss=squared_hinge, multi_class=ovr, penalty=l2; total time=   0.0s\n",
      "[CV 4/5] END C=1, dual=True, fit_intercept=False, loss=squared_hinge, multi_class=ovr, penalty=l2; total time=   0.0s\n",
      "[CV 5/5] END C=1, dual=True, fit_intercept=False, loss=squared_hinge, multi_class=ovr, penalty=l2; total time=   0.0s\n",
      "[CV 1/5] END C=1, dual=True, fit_intercept=False, loss=squared_hinge, multi_class=crammer_singer, penalty=l1; total time=   0.0s\n"
     ]
    },
    {
     "name": "stderr",
     "output_type": "stream",
     "text": [
      "C:\\Users\\skhus\\anaconda3\\lib\\site-packages\\sklearn\\model_selection\\_validation.py:610: FitFailedWarning: Estimator fit failed. The score on this train-test partition for these parameters will be set to nan. Details: \n",
      "Traceback (most recent call last):\n",
      "  File \"C:\\Users\\skhus\\anaconda3\\lib\\site-packages\\sklearn\\model_selection\\_validation.py\", line 593, in _fit_and_score\n",
      "    estimator.fit(X_train, y_train, **fit_params)\n",
      "  File \"C:\\Users\\skhus\\anaconda3\\lib\\site-packages\\sklearn\\svm\\_classes.py\", line 234, in fit\n",
      "    self.coef_, self.intercept_, self.n_iter_ = _fit_liblinear(\n",
      "  File \"C:\\Users\\skhus\\anaconda3\\lib\\site-packages\\sklearn\\svm\\_base.py\", line 974, in _fit_liblinear\n",
      "    solver_type = _get_liblinear_solver_type(multi_class, penalty, loss, dual)\n",
      "  File \"C:\\Users\\skhus\\anaconda3\\lib\\site-packages\\sklearn\\svm\\_base.py\", line 830, in _get_liblinear_solver_type\n",
      "    raise ValueError('Unsupported set of arguments: %s, '\n",
      "ValueError: Unsupported set of arguments: The combination of penalty='l1' and loss='squared_hinge' are not supported when dual=True, Parameters: penalty='l1', loss='squared_hinge', dual=True\n",
      "\n",
      "  warnings.warn(\"Estimator fit failed. The score on this train-test\"\n",
      "C:\\Users\\skhus\\anaconda3\\lib\\site-packages\\sklearn\\model_selection\\_validation.py:610: FitFailedWarning: Estimator fit failed. The score on this train-test partition for these parameters will be set to nan. Details: \n",
      "Traceback (most recent call last):\n",
      "  File \"C:\\Users\\skhus\\anaconda3\\lib\\site-packages\\sklearn\\model_selection\\_validation.py\", line 593, in _fit_and_score\n",
      "    estimator.fit(X_train, y_train, **fit_params)\n",
      "  File \"C:\\Users\\skhus\\anaconda3\\lib\\site-packages\\sklearn\\svm\\_classes.py\", line 234, in fit\n",
      "    self.coef_, self.intercept_, self.n_iter_ = _fit_liblinear(\n",
      "  File \"C:\\Users\\skhus\\anaconda3\\lib\\site-packages\\sklearn\\svm\\_base.py\", line 974, in _fit_liblinear\n",
      "    solver_type = _get_liblinear_solver_type(multi_class, penalty, loss, dual)\n",
      "  File \"C:\\Users\\skhus\\anaconda3\\lib\\site-packages\\sklearn\\svm\\_base.py\", line 830, in _get_liblinear_solver_type\n",
      "    raise ValueError('Unsupported set of arguments: %s, '\n",
      "ValueError: Unsupported set of arguments: The combination of penalty='l1' and loss='squared_hinge' are not supported when dual=True, Parameters: penalty='l1', loss='squared_hinge', dual=True\n",
      "\n",
      "  warnings.warn(\"Estimator fit failed. The score on this train-test\"\n",
      "C:\\Users\\skhus\\anaconda3\\lib\\site-packages\\sklearn\\model_selection\\_validation.py:610: FitFailedWarning: Estimator fit failed. The score on this train-test partition for these parameters will be set to nan. Details: \n",
      "Traceback (most recent call last):\n",
      "  File \"C:\\Users\\skhus\\anaconda3\\lib\\site-packages\\sklearn\\model_selection\\_validation.py\", line 593, in _fit_and_score\n",
      "    estimator.fit(X_train, y_train, **fit_params)\n",
      "  File \"C:\\Users\\skhus\\anaconda3\\lib\\site-packages\\sklearn\\svm\\_classes.py\", line 234, in fit\n",
      "    self.coef_, self.intercept_, self.n_iter_ = _fit_liblinear(\n",
      "  File \"C:\\Users\\skhus\\anaconda3\\lib\\site-packages\\sklearn\\svm\\_base.py\", line 974, in _fit_liblinear\n",
      "    solver_type = _get_liblinear_solver_type(multi_class, penalty, loss, dual)\n",
      "  File \"C:\\Users\\skhus\\anaconda3\\lib\\site-packages\\sklearn\\svm\\_base.py\", line 830, in _get_liblinear_solver_type\n",
      "    raise ValueError('Unsupported set of arguments: %s, '\n",
      "ValueError: Unsupported set of arguments: The combination of penalty='l1' and loss='squared_hinge' are not supported when dual=True, Parameters: penalty='l1', loss='squared_hinge', dual=True\n",
      "\n",
      "  warnings.warn(\"Estimator fit failed. The score on this train-test\"\n",
      "C:\\Users\\skhus\\anaconda3\\lib\\site-packages\\sklearn\\model_selection\\_validation.py:610: FitFailedWarning: Estimator fit failed. The score on this train-test partition for these parameters will be set to nan. Details: \n",
      "Traceback (most recent call last):\n",
      "  File \"C:\\Users\\skhus\\anaconda3\\lib\\site-packages\\sklearn\\model_selection\\_validation.py\", line 593, in _fit_and_score\n",
      "    estimator.fit(X_train, y_train, **fit_params)\n",
      "  File \"C:\\Users\\skhus\\anaconda3\\lib\\site-packages\\sklearn\\svm\\_classes.py\", line 234, in fit\n",
      "    self.coef_, self.intercept_, self.n_iter_ = _fit_liblinear(\n",
      "  File \"C:\\Users\\skhus\\anaconda3\\lib\\site-packages\\sklearn\\svm\\_base.py\", line 974, in _fit_liblinear\n",
      "    solver_type = _get_liblinear_solver_type(multi_class, penalty, loss, dual)\n",
      "  File \"C:\\Users\\skhus\\anaconda3\\lib\\site-packages\\sklearn\\svm\\_base.py\", line 830, in _get_liblinear_solver_type\n",
      "    raise ValueError('Unsupported set of arguments: %s, '\n",
      "ValueError: Unsupported set of arguments: The combination of penalty='l1' and loss='squared_hinge' are not supported when dual=True, Parameters: penalty='l1', loss='squared_hinge', dual=True\n",
      "\n",
      "  warnings.warn(\"Estimator fit failed. The score on this train-test\"\n",
      "C:\\Users\\skhus\\anaconda3\\lib\\site-packages\\sklearn\\model_selection\\_validation.py:610: FitFailedWarning: Estimator fit failed. The score on this train-test partition for these parameters will be set to nan. Details: \n",
      "Traceback (most recent call last):\n",
      "  File \"C:\\Users\\skhus\\anaconda3\\lib\\site-packages\\sklearn\\model_selection\\_validation.py\", line 593, in _fit_and_score\n",
      "    estimator.fit(X_train, y_train, **fit_params)\n",
      "  File \"C:\\Users\\skhus\\anaconda3\\lib\\site-packages\\sklearn\\svm\\_classes.py\", line 234, in fit\n",
      "    self.coef_, self.intercept_, self.n_iter_ = _fit_liblinear(\n",
      "  File \"C:\\Users\\skhus\\anaconda3\\lib\\site-packages\\sklearn\\svm\\_base.py\", line 974, in _fit_liblinear\n",
      "    solver_type = _get_liblinear_solver_type(multi_class, penalty, loss, dual)\n",
      "  File \"C:\\Users\\skhus\\anaconda3\\lib\\site-packages\\sklearn\\svm\\_base.py\", line 830, in _get_liblinear_solver_type\n",
      "    raise ValueError('Unsupported set of arguments: %s, '\n",
      "ValueError: Unsupported set of arguments: The combination of penalty='l1' and loss='squared_hinge' are not supported when dual=True, Parameters: penalty='l1', loss='squared_hinge', dual=True\n",
      "\n",
      "  warnings.warn(\"Estimator fit failed. The score on this train-test\"\n"
     ]
    },
    {
     "name": "stdout",
     "output_type": "stream",
     "text": [
      "[CV 2/5] END C=1, dual=True, fit_intercept=False, loss=squared_hinge, multi_class=crammer_singer, penalty=l1; total time=   0.0s\n",
      "[CV 3/5] END C=1, dual=True, fit_intercept=False, loss=squared_hinge, multi_class=crammer_singer, penalty=l1; total time=   0.0s\n",
      "[CV 4/5] END C=1, dual=True, fit_intercept=False, loss=squared_hinge, multi_class=crammer_singer, penalty=l1; total time=   0.0s\n",
      "[CV 5/5] END C=1, dual=True, fit_intercept=False, loss=squared_hinge, multi_class=crammer_singer, penalty=l1; total time=   0.0s\n",
      "[CV 1/5] END C=1, dual=True, fit_intercept=False, loss=squared_hinge, multi_class=crammer_singer, penalty=l2; total time=   0.0s\n",
      "[CV 2/5] END C=1, dual=True, fit_intercept=False, loss=squared_hinge, multi_class=crammer_singer, penalty=l2; total time=   0.1s\n",
      "[CV 3/5] END C=1, dual=True, fit_intercept=False, loss=squared_hinge, multi_class=crammer_singer, penalty=l2; total time=   0.0s\n",
      "[CV 4/5] END C=1, dual=True, fit_intercept=False, loss=squared_hinge, multi_class=crammer_singer, penalty=l2; total time=   0.0s\n",
      "[CV 5/5] END C=1, dual=True, fit_intercept=False, loss=squared_hinge, multi_class=crammer_singer, penalty=l2; total time=   0.0s\n",
      "[CV 1/5] END C=1, dual=True, fit_intercept=True, loss=hinge, multi_class=ovr, penalty=l1; total time=   0.0s\n",
      "[CV 2/5] END C=1, dual=True, fit_intercept=True, loss=hinge, multi_class=ovr, penalty=l1; total time=   0.0s\n",
      "[CV 3/5] END C=1, dual=True, fit_intercept=True, loss=hinge, multi_class=ovr, penalty=l1; total time=   0.0s\n",
      "[CV 4/5] END C=1, dual=True, fit_intercept=True, loss=hinge, multi_class=ovr, penalty=l1; total time=   0.0s\n",
      "[CV 5/5] END C=1, dual=True, fit_intercept=True, loss=hinge, multi_class=ovr, penalty=l1; total time=   0.0s\n",
      "[CV 1/5] END C=1, dual=True, fit_intercept=True, loss=hinge, multi_class=ovr, penalty=l2; total time=   0.0s\n",
      "[CV 2/5] END C=1, dual=True, fit_intercept=True, loss=hinge, multi_class=ovr, penalty=l2; total time=   0.0s\n",
      "[CV 3/5] END C=1, dual=True, fit_intercept=True, loss=hinge, multi_class=ovr, penalty=l2; total time=   0.0s\n"
     ]
    },
    {
     "name": "stderr",
     "output_type": "stream",
     "text": [
      "C:\\Users\\skhus\\anaconda3\\lib\\site-packages\\sklearn\\model_selection\\_validation.py:610: FitFailedWarning: Estimator fit failed. The score on this train-test partition for these parameters will be set to nan. Details: \n",
      "Traceback (most recent call last):\n",
      "  File \"C:\\Users\\skhus\\anaconda3\\lib\\site-packages\\sklearn\\model_selection\\_validation.py\", line 593, in _fit_and_score\n",
      "    estimator.fit(X_train, y_train, **fit_params)\n",
      "  File \"C:\\Users\\skhus\\anaconda3\\lib\\site-packages\\sklearn\\svm\\_classes.py\", line 234, in fit\n",
      "    self.coef_, self.intercept_, self.n_iter_ = _fit_liblinear(\n",
      "  File \"C:\\Users\\skhus\\anaconda3\\lib\\site-packages\\sklearn\\svm\\_base.py\", line 974, in _fit_liblinear\n",
      "    solver_type = _get_liblinear_solver_type(multi_class, penalty, loss, dual)\n",
      "  File \"C:\\Users\\skhus\\anaconda3\\lib\\site-packages\\sklearn\\svm\\_base.py\", line 830, in _get_liblinear_solver_type\n",
      "    raise ValueError('Unsupported set of arguments: %s, '\n",
      "ValueError: Unsupported set of arguments: The combination of penalty='l1' and loss='hinge' is not supported, Parameters: penalty='l1', loss='hinge', dual=True\n",
      "\n",
      "  warnings.warn(\"Estimator fit failed. The score on this train-test\"\n",
      "C:\\Users\\skhus\\anaconda3\\lib\\site-packages\\sklearn\\model_selection\\_validation.py:610: FitFailedWarning: Estimator fit failed. The score on this train-test partition for these parameters will be set to nan. Details: \n",
      "Traceback (most recent call last):\n",
      "  File \"C:\\Users\\skhus\\anaconda3\\lib\\site-packages\\sklearn\\model_selection\\_validation.py\", line 593, in _fit_and_score\n",
      "    estimator.fit(X_train, y_train, **fit_params)\n",
      "  File \"C:\\Users\\skhus\\anaconda3\\lib\\site-packages\\sklearn\\svm\\_classes.py\", line 234, in fit\n",
      "    self.coef_, self.intercept_, self.n_iter_ = _fit_liblinear(\n",
      "  File \"C:\\Users\\skhus\\anaconda3\\lib\\site-packages\\sklearn\\svm\\_base.py\", line 974, in _fit_liblinear\n",
      "    solver_type = _get_liblinear_solver_type(multi_class, penalty, loss, dual)\n",
      "  File \"C:\\Users\\skhus\\anaconda3\\lib\\site-packages\\sklearn\\svm\\_base.py\", line 830, in _get_liblinear_solver_type\n",
      "    raise ValueError('Unsupported set of arguments: %s, '\n",
      "ValueError: Unsupported set of arguments: The combination of penalty='l1' and loss='hinge' is not supported, Parameters: penalty='l1', loss='hinge', dual=True\n",
      "\n",
      "  warnings.warn(\"Estimator fit failed. The score on this train-test\"\n",
      "C:\\Users\\skhus\\anaconda3\\lib\\site-packages\\sklearn\\model_selection\\_validation.py:610: FitFailedWarning: Estimator fit failed. The score on this train-test partition for these parameters will be set to nan. Details: \n",
      "Traceback (most recent call last):\n",
      "  File \"C:\\Users\\skhus\\anaconda3\\lib\\site-packages\\sklearn\\model_selection\\_validation.py\", line 593, in _fit_and_score\n",
      "    estimator.fit(X_train, y_train, **fit_params)\n",
      "  File \"C:\\Users\\skhus\\anaconda3\\lib\\site-packages\\sklearn\\svm\\_classes.py\", line 234, in fit\n",
      "    self.coef_, self.intercept_, self.n_iter_ = _fit_liblinear(\n",
      "  File \"C:\\Users\\skhus\\anaconda3\\lib\\site-packages\\sklearn\\svm\\_base.py\", line 974, in _fit_liblinear\n",
      "    solver_type = _get_liblinear_solver_type(multi_class, penalty, loss, dual)\n",
      "  File \"C:\\Users\\skhus\\anaconda3\\lib\\site-packages\\sklearn\\svm\\_base.py\", line 830, in _get_liblinear_solver_type\n",
      "    raise ValueError('Unsupported set of arguments: %s, '\n",
      "ValueError: Unsupported set of arguments: The combination of penalty='l1' and loss='hinge' is not supported, Parameters: penalty='l1', loss='hinge', dual=True\n",
      "\n",
      "  warnings.warn(\"Estimator fit failed. The score on this train-test\"\n",
      "C:\\Users\\skhus\\anaconda3\\lib\\site-packages\\sklearn\\model_selection\\_validation.py:610: FitFailedWarning: Estimator fit failed. The score on this train-test partition for these parameters will be set to nan. Details: \n",
      "Traceback (most recent call last):\n",
      "  File \"C:\\Users\\skhus\\anaconda3\\lib\\site-packages\\sklearn\\model_selection\\_validation.py\", line 593, in _fit_and_score\n",
      "    estimator.fit(X_train, y_train, **fit_params)\n",
      "  File \"C:\\Users\\skhus\\anaconda3\\lib\\site-packages\\sklearn\\svm\\_classes.py\", line 234, in fit\n",
      "    self.coef_, self.intercept_, self.n_iter_ = _fit_liblinear(\n",
      "  File \"C:\\Users\\skhus\\anaconda3\\lib\\site-packages\\sklearn\\svm\\_base.py\", line 974, in _fit_liblinear\n",
      "    solver_type = _get_liblinear_solver_type(multi_class, penalty, loss, dual)\n",
      "  File \"C:\\Users\\skhus\\anaconda3\\lib\\site-packages\\sklearn\\svm\\_base.py\", line 830, in _get_liblinear_solver_type\n",
      "    raise ValueError('Unsupported set of arguments: %s, '\n",
      "ValueError: Unsupported set of arguments: The combination of penalty='l1' and loss='hinge' is not supported, Parameters: penalty='l1', loss='hinge', dual=True\n",
      "\n",
      "  warnings.warn(\"Estimator fit failed. The score on this train-test\"\n",
      "C:\\Users\\skhus\\anaconda3\\lib\\site-packages\\sklearn\\model_selection\\_validation.py:610: FitFailedWarning: Estimator fit failed. The score on this train-test partition for these parameters will be set to nan. Details: \n",
      "Traceback (most recent call last):\n",
      "  File \"C:\\Users\\skhus\\anaconda3\\lib\\site-packages\\sklearn\\model_selection\\_validation.py\", line 593, in _fit_and_score\n",
      "    estimator.fit(X_train, y_train, **fit_params)\n",
      "  File \"C:\\Users\\skhus\\anaconda3\\lib\\site-packages\\sklearn\\svm\\_classes.py\", line 234, in fit\n",
      "    self.coef_, self.intercept_, self.n_iter_ = _fit_liblinear(\n",
      "  File \"C:\\Users\\skhus\\anaconda3\\lib\\site-packages\\sklearn\\svm\\_base.py\", line 974, in _fit_liblinear\n",
      "    solver_type = _get_liblinear_solver_type(multi_class, penalty, loss, dual)\n",
      "  File \"C:\\Users\\skhus\\anaconda3\\lib\\site-packages\\sklearn\\svm\\_base.py\", line 830, in _get_liblinear_solver_type\n",
      "    raise ValueError('Unsupported set of arguments: %s, '\n",
      "ValueError: Unsupported set of arguments: The combination of penalty='l1' and loss='hinge' is not supported, Parameters: penalty='l1', loss='hinge', dual=True\n",
      "\n",
      "  warnings.warn(\"Estimator fit failed. The score on this train-test\"\n"
     ]
    },
    {
     "name": "stdout",
     "output_type": "stream",
     "text": [
      "[CV 4/5] END C=1, dual=True, fit_intercept=True, loss=hinge, multi_class=ovr, penalty=l2; total time=   0.0s\n",
      "[CV 5/5] END C=1, dual=True, fit_intercept=True, loss=hinge, multi_class=ovr, penalty=l2; total time=   0.0s\n",
      "[CV 1/5] END C=1, dual=True, fit_intercept=True, loss=hinge, multi_class=crammer_singer, penalty=l1; total time=   0.0s\n",
      "[CV 2/5] END C=1, dual=True, fit_intercept=True, loss=hinge, multi_class=crammer_singer, penalty=l1; total time=   0.0s\n",
      "[CV 3/5] END C=1, dual=True, fit_intercept=True, loss=hinge, multi_class=crammer_singer, penalty=l1; total time=   0.0s\n"
     ]
    },
    {
     "name": "stderr",
     "output_type": "stream",
     "text": [
      "C:\\Users\\skhus\\anaconda3\\lib\\site-packages\\sklearn\\svm\\_base.py:985: ConvergenceWarning: Liblinear failed to converge, increase the number of iterations.\n",
      "  warnings.warn(\"Liblinear failed to converge, increase \"\n"
     ]
    },
    {
     "name": "stdout",
     "output_type": "stream",
     "text": [
      "[CV 4/5] END C=1, dual=True, fit_intercept=True, loss=hinge, multi_class=crammer_singer, penalty=l1; total time=   2.5s\n",
      "[CV 5/5] END C=1, dual=True, fit_intercept=True, loss=hinge, multi_class=crammer_singer, penalty=l1; total time=   0.1s\n",
      "[CV 1/5] END C=1, dual=True, fit_intercept=True, loss=hinge, multi_class=crammer_singer, penalty=l2; total time=   0.0s\n",
      "[CV 2/5] END C=1, dual=True, fit_intercept=True, loss=hinge, multi_class=crammer_singer, penalty=l2; total time=   0.0s\n",
      "[CV 3/5] END C=1, dual=True, fit_intercept=True, loss=hinge, multi_class=crammer_singer, penalty=l2; total time=   0.0s\n"
     ]
    },
    {
     "name": "stderr",
     "output_type": "stream",
     "text": [
      "C:\\Users\\skhus\\anaconda3\\lib\\site-packages\\sklearn\\svm\\_base.py:985: ConvergenceWarning: Liblinear failed to converge, increase the number of iterations.\n",
      "  warnings.warn(\"Liblinear failed to converge, increase \"\n"
     ]
    },
    {
     "name": "stdout",
     "output_type": "stream",
     "text": [
      "[CV 4/5] END C=1, dual=True, fit_intercept=True, loss=hinge, multi_class=crammer_singer, penalty=l2; total time=   1.2s\n",
      "[CV 5/5] END C=1, dual=True, fit_intercept=True, loss=hinge, multi_class=crammer_singer, penalty=l2; total time=   0.1s\n",
      "[CV 1/5] END C=1, dual=True, fit_intercept=True, loss=squared_hinge, multi_class=ovr, penalty=l1; total time=   0.0s\n",
      "[CV 2/5] END C=1, dual=True, fit_intercept=True, loss=squared_hinge, multi_class=ovr, penalty=l1; total time=   0.0s\n",
      "[CV 3/5] END C=1, dual=True, fit_intercept=True, loss=squared_hinge, multi_class=ovr, penalty=l1; total time=   0.0s\n",
      "[CV 4/5] END C=1, dual=True, fit_intercept=True, loss=squared_hinge, multi_class=ovr, penalty=l1; total time=   0.0s\n",
      "[CV 5/5] END C=1, dual=True, fit_intercept=True, loss=squared_hinge, multi_class=ovr, penalty=l1; total time=   0.0s\n",
      "[CV 1/5] END C=1, dual=True, fit_intercept=True, loss=squared_hinge, multi_class=ovr, penalty=l2; total time=   0.0s\n",
      "[CV 2/5] END C=1, dual=True, fit_intercept=True, loss=squared_hinge, multi_class=ovr, penalty=l2; total time=   0.0s\n",
      "[CV 3/5] END C=1, dual=True, fit_intercept=True, loss=squared_hinge, multi_class=ovr, penalty=l2; total time=   0.0s\n",
      "[CV 4/5] END C=1, dual=True, fit_intercept=True, loss=squared_hinge, multi_class=ovr, penalty=l2; total time=   0.0s\n",
      "[CV 5/5] END C=1, dual=True, fit_intercept=True, loss=squared_hinge, multi_class=ovr, penalty=l2; total time=   0.0s\n",
      "[CV 1/5] END C=1, dual=True, fit_intercept=True, loss=squared_hinge, multi_class=crammer_singer, penalty=l1; total time=   0.0s\n",
      "[CV 2/5] END C=1, dual=True, fit_intercept=True, loss=squared_hinge, multi_class=crammer_singer, penalty=l1; total time=   0.0s\n"
     ]
    },
    {
     "name": "stderr",
     "output_type": "stream",
     "text": [
      "C:\\Users\\skhus\\anaconda3\\lib\\site-packages\\sklearn\\model_selection\\_validation.py:610: FitFailedWarning: Estimator fit failed. The score on this train-test partition for these parameters will be set to nan. Details: \n",
      "Traceback (most recent call last):\n",
      "  File \"C:\\Users\\skhus\\anaconda3\\lib\\site-packages\\sklearn\\model_selection\\_validation.py\", line 593, in _fit_and_score\n",
      "    estimator.fit(X_train, y_train, **fit_params)\n",
      "  File \"C:\\Users\\skhus\\anaconda3\\lib\\site-packages\\sklearn\\svm\\_classes.py\", line 234, in fit\n",
      "    self.coef_, self.intercept_, self.n_iter_ = _fit_liblinear(\n",
      "  File \"C:\\Users\\skhus\\anaconda3\\lib\\site-packages\\sklearn\\svm\\_base.py\", line 974, in _fit_liblinear\n",
      "    solver_type = _get_liblinear_solver_type(multi_class, penalty, loss, dual)\n",
      "  File \"C:\\Users\\skhus\\anaconda3\\lib\\site-packages\\sklearn\\svm\\_base.py\", line 830, in _get_liblinear_solver_type\n",
      "    raise ValueError('Unsupported set of arguments: %s, '\n",
      "ValueError: Unsupported set of arguments: The combination of penalty='l1' and loss='squared_hinge' are not supported when dual=True, Parameters: penalty='l1', loss='squared_hinge', dual=True\n",
      "\n",
      "  warnings.warn(\"Estimator fit failed. The score on this train-test\"\n",
      "C:\\Users\\skhus\\anaconda3\\lib\\site-packages\\sklearn\\model_selection\\_validation.py:610: FitFailedWarning: Estimator fit failed. The score on this train-test partition for these parameters will be set to nan. Details: \n",
      "Traceback (most recent call last):\n",
      "  File \"C:\\Users\\skhus\\anaconda3\\lib\\site-packages\\sklearn\\model_selection\\_validation.py\", line 593, in _fit_and_score\n",
      "    estimator.fit(X_train, y_train, **fit_params)\n",
      "  File \"C:\\Users\\skhus\\anaconda3\\lib\\site-packages\\sklearn\\svm\\_classes.py\", line 234, in fit\n",
      "    self.coef_, self.intercept_, self.n_iter_ = _fit_liblinear(\n",
      "  File \"C:\\Users\\skhus\\anaconda3\\lib\\site-packages\\sklearn\\svm\\_base.py\", line 974, in _fit_liblinear\n",
      "    solver_type = _get_liblinear_solver_type(multi_class, penalty, loss, dual)\n",
      "  File \"C:\\Users\\skhus\\anaconda3\\lib\\site-packages\\sklearn\\svm\\_base.py\", line 830, in _get_liblinear_solver_type\n",
      "    raise ValueError('Unsupported set of arguments: %s, '\n",
      "ValueError: Unsupported set of arguments: The combination of penalty='l1' and loss='squared_hinge' are not supported when dual=True, Parameters: penalty='l1', loss='squared_hinge', dual=True\n",
      "\n",
      "  warnings.warn(\"Estimator fit failed. The score on this train-test\"\n",
      "C:\\Users\\skhus\\anaconda3\\lib\\site-packages\\sklearn\\model_selection\\_validation.py:610: FitFailedWarning: Estimator fit failed. The score on this train-test partition for these parameters will be set to nan. Details: \n",
      "Traceback (most recent call last):\n",
      "  File \"C:\\Users\\skhus\\anaconda3\\lib\\site-packages\\sklearn\\model_selection\\_validation.py\", line 593, in _fit_and_score\n",
      "    estimator.fit(X_train, y_train, **fit_params)\n",
      "  File \"C:\\Users\\skhus\\anaconda3\\lib\\site-packages\\sklearn\\svm\\_classes.py\", line 234, in fit\n",
      "    self.coef_, self.intercept_, self.n_iter_ = _fit_liblinear(\n",
      "  File \"C:\\Users\\skhus\\anaconda3\\lib\\site-packages\\sklearn\\svm\\_base.py\", line 974, in _fit_liblinear\n",
      "    solver_type = _get_liblinear_solver_type(multi_class, penalty, loss, dual)\n",
      "  File \"C:\\Users\\skhus\\anaconda3\\lib\\site-packages\\sklearn\\svm\\_base.py\", line 830, in _get_liblinear_solver_type\n",
      "    raise ValueError('Unsupported set of arguments: %s, '\n",
      "ValueError: Unsupported set of arguments: The combination of penalty='l1' and loss='squared_hinge' are not supported when dual=True, Parameters: penalty='l1', loss='squared_hinge', dual=True\n",
      "\n",
      "  warnings.warn(\"Estimator fit failed. The score on this train-test\"\n",
      "C:\\Users\\skhus\\anaconda3\\lib\\site-packages\\sklearn\\model_selection\\_validation.py:610: FitFailedWarning: Estimator fit failed. The score on this train-test partition for these parameters will be set to nan. Details: \n",
      "Traceback (most recent call last):\n",
      "  File \"C:\\Users\\skhus\\anaconda3\\lib\\site-packages\\sklearn\\model_selection\\_validation.py\", line 593, in _fit_and_score\n",
      "    estimator.fit(X_train, y_train, **fit_params)\n",
      "  File \"C:\\Users\\skhus\\anaconda3\\lib\\site-packages\\sklearn\\svm\\_classes.py\", line 234, in fit\n",
      "    self.coef_, self.intercept_, self.n_iter_ = _fit_liblinear(\n",
      "  File \"C:\\Users\\skhus\\anaconda3\\lib\\site-packages\\sklearn\\svm\\_base.py\", line 974, in _fit_liblinear\n",
      "    solver_type = _get_liblinear_solver_type(multi_class, penalty, loss, dual)\n",
      "  File \"C:\\Users\\skhus\\anaconda3\\lib\\site-packages\\sklearn\\svm\\_base.py\", line 830, in _get_liblinear_solver_type\n",
      "    raise ValueError('Unsupported set of arguments: %s, '\n",
      "ValueError: Unsupported set of arguments: The combination of penalty='l1' and loss='squared_hinge' are not supported when dual=True, Parameters: penalty='l1', loss='squared_hinge', dual=True\n",
      "\n",
      "  warnings.warn(\"Estimator fit failed. The score on this train-test\"\n",
      "C:\\Users\\skhus\\anaconda3\\lib\\site-packages\\sklearn\\model_selection\\_validation.py:610: FitFailedWarning: Estimator fit failed. The score on this train-test partition for these parameters will be set to nan. Details: \n",
      "Traceback (most recent call last):\n",
      "  File \"C:\\Users\\skhus\\anaconda3\\lib\\site-packages\\sklearn\\model_selection\\_validation.py\", line 593, in _fit_and_score\n",
      "    estimator.fit(X_train, y_train, **fit_params)\n",
      "  File \"C:\\Users\\skhus\\anaconda3\\lib\\site-packages\\sklearn\\svm\\_classes.py\", line 234, in fit\n",
      "    self.coef_, self.intercept_, self.n_iter_ = _fit_liblinear(\n",
      "  File \"C:\\Users\\skhus\\anaconda3\\lib\\site-packages\\sklearn\\svm\\_base.py\", line 974, in _fit_liblinear\n",
      "    solver_type = _get_liblinear_solver_type(multi_class, penalty, loss, dual)\n",
      "  File \"C:\\Users\\skhus\\anaconda3\\lib\\site-packages\\sklearn\\svm\\_base.py\", line 830, in _get_liblinear_solver_type\n",
      "    raise ValueError('Unsupported set of arguments: %s, '\n",
      "ValueError: Unsupported set of arguments: The combination of penalty='l1' and loss='squared_hinge' are not supported when dual=True, Parameters: penalty='l1', loss='squared_hinge', dual=True\n",
      "\n",
      "  warnings.warn(\"Estimator fit failed. The score on this train-test\"\n"
     ]
    },
    {
     "name": "stdout",
     "output_type": "stream",
     "text": [
      "[CV 3/5] END C=1, dual=True, fit_intercept=True, loss=squared_hinge, multi_class=crammer_singer, penalty=l1; total time=   0.0s\n"
     ]
    },
    {
     "name": "stderr",
     "output_type": "stream",
     "text": [
      "C:\\Users\\skhus\\anaconda3\\lib\\site-packages\\sklearn\\svm\\_base.py:985: ConvergenceWarning: Liblinear failed to converge, increase the number of iterations.\n",
      "  warnings.warn(\"Liblinear failed to converge, increase \"\n"
     ]
    },
    {
     "name": "stdout",
     "output_type": "stream",
     "text": [
      "[CV 4/5] END C=1, dual=True, fit_intercept=True, loss=squared_hinge, multi_class=crammer_singer, penalty=l1; total time=   0.7s\n",
      "[CV 5/5] END C=1, dual=True, fit_intercept=True, loss=squared_hinge, multi_class=crammer_singer, penalty=l1; total time=   0.1s\n",
      "[CV 1/5] END C=1, dual=True, fit_intercept=True, loss=squared_hinge, multi_class=crammer_singer, penalty=l2; total time=   0.0s\n",
      "[CV 2/5] END C=1, dual=True, fit_intercept=True, loss=squared_hinge, multi_class=crammer_singer, penalty=l2; total time=   0.0s\n",
      "[CV 3/5] END C=1, dual=True, fit_intercept=True, loss=squared_hinge, multi_class=crammer_singer, penalty=l2; total time=   0.0s\n"
     ]
    },
    {
     "name": "stderr",
     "output_type": "stream",
     "text": [
      "C:\\Users\\skhus\\anaconda3\\lib\\site-packages\\sklearn\\svm\\_base.py:985: ConvergenceWarning: Liblinear failed to converge, increase the number of iterations.\n",
      "  warnings.warn(\"Liblinear failed to converge, increase \"\n"
     ]
    },
    {
     "name": "stdout",
     "output_type": "stream",
     "text": [
      "[CV 4/5] END C=1, dual=True, fit_intercept=True, loss=squared_hinge, multi_class=crammer_singer, penalty=l2; total time=   0.9s\n",
      "[CV 5/5] END C=1, dual=True, fit_intercept=True, loss=squared_hinge, multi_class=crammer_singer, penalty=l2; total time=   0.1s\n"
     ]
    },
    {
     "name": "stderr",
     "output_type": "stream",
     "text": [
      "C:\\Users\\skhus\\anaconda3\\lib\\site-packages\\sklearn\\model_selection\\_validation.py:610: FitFailedWarning: Estimator fit failed. The score on this train-test partition for these parameters will be set to nan. Details: \n",
      "Traceback (most recent call last):\n",
      "  File \"C:\\Users\\skhus\\anaconda3\\lib\\site-packages\\sklearn\\model_selection\\_validation.py\", line 593, in _fit_and_score\n",
      "    estimator.fit(X_train, y_train, **fit_params)\n",
      "  File \"C:\\Users\\skhus\\anaconda3\\lib\\site-packages\\sklearn\\svm\\_classes.py\", line 234, in fit\n",
      "    self.coef_, self.intercept_, self.n_iter_ = _fit_liblinear(\n",
      "  File \"C:\\Users\\skhus\\anaconda3\\lib\\site-packages\\sklearn\\svm\\_base.py\", line 974, in _fit_liblinear\n",
      "    solver_type = _get_liblinear_solver_type(multi_class, penalty, loss, dual)\n",
      "  File \"C:\\Users\\skhus\\anaconda3\\lib\\site-packages\\sklearn\\svm\\_base.py\", line 830, in _get_liblinear_solver_type\n",
      "    raise ValueError('Unsupported set of arguments: %s, '\n",
      "ValueError: Unsupported set of arguments: The combination of penalty='l1' and loss='hinge' is not supported, Parameters: penalty='l1', loss='hinge', dual=False\n",
      "\n",
      "  warnings.warn(\"Estimator fit failed. The score on this train-test\"\n",
      "C:\\Users\\skhus\\anaconda3\\lib\\site-packages\\sklearn\\model_selection\\_validation.py:610: FitFailedWarning: Estimator fit failed. The score on this train-test partition for these parameters will be set to nan. Details: \n",
      "Traceback (most recent call last):\n",
      "  File \"C:\\Users\\skhus\\anaconda3\\lib\\site-packages\\sklearn\\model_selection\\_validation.py\", line 593, in _fit_and_score\n",
      "    estimator.fit(X_train, y_train, **fit_params)\n",
      "  File \"C:\\Users\\skhus\\anaconda3\\lib\\site-packages\\sklearn\\svm\\_classes.py\", line 234, in fit\n",
      "    self.coef_, self.intercept_, self.n_iter_ = _fit_liblinear(\n",
      "  File \"C:\\Users\\skhus\\anaconda3\\lib\\site-packages\\sklearn\\svm\\_base.py\", line 974, in _fit_liblinear\n",
      "    solver_type = _get_liblinear_solver_type(multi_class, penalty, loss, dual)\n",
      "  File \"C:\\Users\\skhus\\anaconda3\\lib\\site-packages\\sklearn\\svm\\_base.py\", line 830, in _get_liblinear_solver_type\n",
      "    raise ValueError('Unsupported set of arguments: %s, '\n",
      "ValueError: Unsupported set of arguments: The combination of penalty='l1' and loss='hinge' is not supported, Parameters: penalty='l1', loss='hinge', dual=False\n",
      "\n",
      "  warnings.warn(\"Estimator fit failed. The score on this train-test\"\n",
      "C:\\Users\\skhus\\anaconda3\\lib\\site-packages\\sklearn\\model_selection\\_validation.py:610: FitFailedWarning: Estimator fit failed. The score on this train-test partition for these parameters will be set to nan. Details: \n",
      "Traceback (most recent call last):\n",
      "  File \"C:\\Users\\skhus\\anaconda3\\lib\\site-packages\\sklearn\\model_selection\\_validation.py\", line 593, in _fit_and_score\n",
      "    estimator.fit(X_train, y_train, **fit_params)\n",
      "  File \"C:\\Users\\skhus\\anaconda3\\lib\\site-packages\\sklearn\\svm\\_classes.py\", line 234, in fit\n",
      "    self.coef_, self.intercept_, self.n_iter_ = _fit_liblinear(\n",
      "  File \"C:\\Users\\skhus\\anaconda3\\lib\\site-packages\\sklearn\\svm\\_base.py\", line 974, in _fit_liblinear\n",
      "    solver_type = _get_liblinear_solver_type(multi_class, penalty, loss, dual)\n",
      "  File \"C:\\Users\\skhus\\anaconda3\\lib\\site-packages\\sklearn\\svm\\_base.py\", line 830, in _get_liblinear_solver_type\n",
      "    raise ValueError('Unsupported set of arguments: %s, '\n",
      "ValueError: Unsupported set of arguments: The combination of penalty='l1' and loss='hinge' is not supported, Parameters: penalty='l1', loss='hinge', dual=False\n",
      "\n",
      "  warnings.warn(\"Estimator fit failed. The score on this train-test\"\n",
      "C:\\Users\\skhus\\anaconda3\\lib\\site-packages\\sklearn\\model_selection\\_validation.py:610: FitFailedWarning: Estimator fit failed. The score on this train-test partition for these parameters will be set to nan. Details: \n",
      "Traceback (most recent call last):\n",
      "  File \"C:\\Users\\skhus\\anaconda3\\lib\\site-packages\\sklearn\\model_selection\\_validation.py\", line 593, in _fit_and_score\n",
      "    estimator.fit(X_train, y_train, **fit_params)\n",
      "  File \"C:\\Users\\skhus\\anaconda3\\lib\\site-packages\\sklearn\\svm\\_classes.py\", line 234, in fit\n",
      "    self.coef_, self.intercept_, self.n_iter_ = _fit_liblinear(\n",
      "  File \"C:\\Users\\skhus\\anaconda3\\lib\\site-packages\\sklearn\\svm\\_base.py\", line 974, in _fit_liblinear\n",
      "    solver_type = _get_liblinear_solver_type(multi_class, penalty, loss, dual)\n",
      "  File \"C:\\Users\\skhus\\anaconda3\\lib\\site-packages\\sklearn\\svm\\_base.py\", line 830, in _get_liblinear_solver_type\n",
      "    raise ValueError('Unsupported set of arguments: %s, '\n",
      "ValueError: Unsupported set of arguments: The combination of penalty='l1' and loss='hinge' is not supported, Parameters: penalty='l1', loss='hinge', dual=False\n",
      "\n",
      "  warnings.warn(\"Estimator fit failed. The score on this train-test\"\n",
      "C:\\Users\\skhus\\anaconda3\\lib\\site-packages\\sklearn\\model_selection\\_validation.py:610: FitFailedWarning: Estimator fit failed. The score on this train-test partition for these parameters will be set to nan. Details: \n",
      "Traceback (most recent call last):\n",
      "  File \"C:\\Users\\skhus\\anaconda3\\lib\\site-packages\\sklearn\\model_selection\\_validation.py\", line 593, in _fit_and_score\n",
      "    estimator.fit(X_train, y_train, **fit_params)\n",
      "  File \"C:\\Users\\skhus\\anaconda3\\lib\\site-packages\\sklearn\\svm\\_classes.py\", line 234, in fit\n",
      "    self.coef_, self.intercept_, self.n_iter_ = _fit_liblinear(\n",
      "  File \"C:\\Users\\skhus\\anaconda3\\lib\\site-packages\\sklearn\\svm\\_base.py\", line 974, in _fit_liblinear\n",
      "    solver_type = _get_liblinear_solver_type(multi_class, penalty, loss, dual)\n",
      "  File \"C:\\Users\\skhus\\anaconda3\\lib\\site-packages\\sklearn\\svm\\_base.py\", line 830, in _get_liblinear_solver_type\n",
      "    raise ValueError('Unsupported set of arguments: %s, '\n",
      "ValueError: Unsupported set of arguments: The combination of penalty='l1' and loss='hinge' is not supported, Parameters: penalty='l1', loss='hinge', dual=False\n",
      "\n",
      "  warnings.warn(\"Estimator fit failed. The score on this train-test\"\n",
      "C:\\Users\\skhus\\anaconda3\\lib\\site-packages\\sklearn\\model_selection\\_validation.py:610: FitFailedWarning: Estimator fit failed. The score on this train-test partition for these parameters will be set to nan. Details: \n",
      "Traceback (most recent call last):\n",
      "  File \"C:\\Users\\skhus\\anaconda3\\lib\\site-packages\\sklearn\\model_selection\\_validation.py\", line 593, in _fit_and_score\n",
      "    estimator.fit(X_train, y_train, **fit_params)\n",
      "  File \"C:\\Users\\skhus\\anaconda3\\lib\\site-packages\\sklearn\\svm\\_classes.py\", line 234, in fit\n",
      "    self.coef_, self.intercept_, self.n_iter_ = _fit_liblinear(\n",
      "  File \"C:\\Users\\skhus\\anaconda3\\lib\\site-packages\\sklearn\\svm\\_base.py\", line 974, in _fit_liblinear\n",
      "    solver_type = _get_liblinear_solver_type(multi_class, penalty, loss, dual)\n",
      "  File \"C:\\Users\\skhus\\anaconda3\\lib\\site-packages\\sklearn\\svm\\_base.py\", line 830, in _get_liblinear_solver_type\n",
      "    raise ValueError('Unsupported set of arguments: %s, '\n",
      "ValueError: Unsupported set of arguments: The combination of penalty='l2' and loss='hinge' are not supported when dual=False, Parameters: penalty='l2', loss='hinge', dual=False\n",
      "\n",
      "  warnings.warn(\"Estimator fit failed. The score on this train-test\"\n",
      "C:\\Users\\skhus\\anaconda3\\lib\\site-packages\\sklearn\\model_selection\\_validation.py:610: FitFailedWarning: Estimator fit failed. The score on this train-test partition for these parameters will be set to nan. Details: \n",
      "Traceback (most recent call last):\n",
      "  File \"C:\\Users\\skhus\\anaconda3\\lib\\site-packages\\sklearn\\model_selection\\_validation.py\", line 593, in _fit_and_score\n",
      "    estimator.fit(X_train, y_train, **fit_params)\n",
      "  File \"C:\\Users\\skhus\\anaconda3\\lib\\site-packages\\sklearn\\svm\\_classes.py\", line 234, in fit\n",
      "    self.coef_, self.intercept_, self.n_iter_ = _fit_liblinear(\n",
      "  File \"C:\\Users\\skhus\\anaconda3\\lib\\site-packages\\sklearn\\svm\\_base.py\", line 974, in _fit_liblinear\n",
      "    solver_type = _get_liblinear_solver_type(multi_class, penalty, loss, dual)\n",
      "  File \"C:\\Users\\skhus\\anaconda3\\lib\\site-packages\\sklearn\\svm\\_base.py\", line 830, in _get_liblinear_solver_type\n",
      "    raise ValueError('Unsupported set of arguments: %s, '\n",
      "ValueError: Unsupported set of arguments: The combination of penalty='l2' and loss='hinge' are not supported when dual=False, Parameters: penalty='l2', loss='hinge', dual=False\n",
      "\n",
      "  warnings.warn(\"Estimator fit failed. The score on this train-test\"\n",
      "C:\\Users\\skhus\\anaconda3\\lib\\site-packages\\sklearn\\model_selection\\_validation.py:610: FitFailedWarning: Estimator fit failed. The score on this train-test partition for these parameters will be set to nan. Details: \n",
      "Traceback (most recent call last):\n",
      "  File \"C:\\Users\\skhus\\anaconda3\\lib\\site-packages\\sklearn\\model_selection\\_validation.py\", line 593, in _fit_and_score\n",
      "    estimator.fit(X_train, y_train, **fit_params)\n",
      "  File \"C:\\Users\\skhus\\anaconda3\\lib\\site-packages\\sklearn\\svm\\_classes.py\", line 234, in fit\n",
      "    self.coef_, self.intercept_, self.n_iter_ = _fit_liblinear(\n",
      "  File \"C:\\Users\\skhus\\anaconda3\\lib\\site-packages\\sklearn\\svm\\_base.py\", line 974, in _fit_liblinear\n",
      "    solver_type = _get_liblinear_solver_type(multi_class, penalty, loss, dual)\n",
      "  File \"C:\\Users\\skhus\\anaconda3\\lib\\site-packages\\sklearn\\svm\\_base.py\", line 830, in _get_liblinear_solver_type\n",
      "    raise ValueError('Unsupported set of arguments: %s, '\n",
      "ValueError: Unsupported set of arguments: The combination of penalty='l2' and loss='hinge' are not supported when dual=False, Parameters: penalty='l2', loss='hinge', dual=False\n",
      "\n",
      "  warnings.warn(\"Estimator fit failed. The score on this train-test\"\n",
      "C:\\Users\\skhus\\anaconda3\\lib\\site-packages\\sklearn\\model_selection\\_validation.py:610: FitFailedWarning: Estimator fit failed. The score on this train-test partition for these parameters will be set to nan. Details: \n",
      "Traceback (most recent call last):\n",
      "  File \"C:\\Users\\skhus\\anaconda3\\lib\\site-packages\\sklearn\\model_selection\\_validation.py\", line 593, in _fit_and_score\n",
      "    estimator.fit(X_train, y_train, **fit_params)\n",
      "  File \"C:\\Users\\skhus\\anaconda3\\lib\\site-packages\\sklearn\\svm\\_classes.py\", line 234, in fit\n",
      "    self.coef_, self.intercept_, self.n_iter_ = _fit_liblinear(\n",
      "  File \"C:\\Users\\skhus\\anaconda3\\lib\\site-packages\\sklearn\\svm\\_base.py\", line 974, in _fit_liblinear\n",
      "    solver_type = _get_liblinear_solver_type(multi_class, penalty, loss, dual)\n",
      "  File \"C:\\Users\\skhus\\anaconda3\\lib\\site-packages\\sklearn\\svm\\_base.py\", line 830, in _get_liblinear_solver_type\n",
      "    raise ValueError('Unsupported set of arguments: %s, '\n",
      "ValueError: Unsupported set of arguments: The combination of penalty='l2' and loss='hinge' are not supported when dual=False, Parameters: penalty='l2', loss='hinge', dual=False\n",
      "\n",
      "  warnings.warn(\"Estimator fit failed. The score on this train-test\"\n",
      "C:\\Users\\skhus\\anaconda3\\lib\\site-packages\\sklearn\\model_selection\\_validation.py:610: FitFailedWarning: Estimator fit failed. The score on this train-test partition for these parameters will be set to nan. Details: \n",
      "Traceback (most recent call last):\n",
      "  File \"C:\\Users\\skhus\\anaconda3\\lib\\site-packages\\sklearn\\model_selection\\_validation.py\", line 593, in _fit_and_score\n",
      "    estimator.fit(X_train, y_train, **fit_params)\n",
      "  File \"C:\\Users\\skhus\\anaconda3\\lib\\site-packages\\sklearn\\svm\\_classes.py\", line 234, in fit\n",
      "    self.coef_, self.intercept_, self.n_iter_ = _fit_liblinear(\n",
      "  File \"C:\\Users\\skhus\\anaconda3\\lib\\site-packages\\sklearn\\svm\\_base.py\", line 974, in _fit_liblinear\n",
      "    solver_type = _get_liblinear_solver_type(multi_class, penalty, loss, dual)\n",
      "  File \"C:\\Users\\skhus\\anaconda3\\lib\\site-packages\\sklearn\\svm\\_base.py\", line 830, in _get_liblinear_solver_type\n",
      "    raise ValueError('Unsupported set of arguments: %s, '\n",
      "ValueError: Unsupported set of arguments: The combination of penalty='l2' and loss='hinge' are not supported when dual=False, Parameters: penalty='l2', loss='hinge', dual=False\n",
      "\n",
      "  warnings.warn(\"Estimator fit failed. The score on this train-test\"\n"
     ]
    },
    {
     "name": "stdout",
     "output_type": "stream",
     "text": [
      "[CV 1/5] END C=10, dual=False, fit_intercept=False, loss=hinge, multi_class=ovr, penalty=l1; total time=   0.0s\n",
      "[CV 2/5] END C=10, dual=False, fit_intercept=False, loss=hinge, multi_class=ovr, penalty=l1; total time=   0.0s\n",
      "[CV 3/5] END C=10, dual=False, fit_intercept=False, loss=hinge, multi_class=ovr, penalty=l1; total time=   0.0s\n",
      "[CV 4/5] END C=10, dual=False, fit_intercept=False, loss=hinge, multi_class=ovr, penalty=l1; total time=   0.0s\n",
      "[CV 5/5] END C=10, dual=False, fit_intercept=False, loss=hinge, multi_class=ovr, penalty=l1; total time=   0.0s\n",
      "[CV 1/5] END C=10, dual=False, fit_intercept=False, loss=hinge, multi_class=ovr, penalty=l2; total time=   0.0s\n",
      "[CV 2/5] END C=10, dual=False, fit_intercept=False, loss=hinge, multi_class=ovr, penalty=l2; total time=   0.0s\n",
      "[CV 3/5] END C=10, dual=False, fit_intercept=False, loss=hinge, multi_class=ovr, penalty=l2; total time=   0.0s\n",
      "[CV 4/5] END C=10, dual=False, fit_intercept=False, loss=hinge, multi_class=ovr, penalty=l2; total time=   0.0s\n",
      "[CV 5/5] END C=10, dual=False, fit_intercept=False, loss=hinge, multi_class=ovr, penalty=l2; total time=   0.0s\n",
      "[CV 1/5] END C=10, dual=False, fit_intercept=False, loss=hinge, multi_class=crammer_singer, penalty=l1; total time=   0.0s\n",
      "[CV 2/5] END C=10, dual=False, fit_intercept=False, loss=hinge, multi_class=crammer_singer, penalty=l1; total time=   0.2s\n",
      "[CV 3/5] END C=10, dual=False, fit_intercept=False, loss=hinge, multi_class=crammer_singer, penalty=l1; total time=   0.0s\n",
      "[CV 4/5] END C=10, dual=False, fit_intercept=False, loss=hinge, multi_class=crammer_singer, penalty=l1; total time=   0.0s\n",
      "[CV 5/5] END C=10, dual=False, fit_intercept=False, loss=hinge, multi_class=crammer_singer, penalty=l1; total time=   0.0s\n",
      "[CV 1/5] END C=10, dual=False, fit_intercept=False, loss=hinge, multi_class=crammer_singer, penalty=l2; total time=   0.0s\n",
      "[CV 2/5] END C=10, dual=False, fit_intercept=False, loss=hinge, multi_class=crammer_singer, penalty=l2; total time=   0.3s\n",
      "[CV 3/5] END C=10, dual=False, fit_intercept=False, loss=hinge, multi_class=crammer_singer, penalty=l2; total time=   0.0s\n",
      "[CV 4/5] END C=10, dual=False, fit_intercept=False, loss=hinge, multi_class=crammer_singer, penalty=l2; total time=   0.0s\n",
      "[CV 5/5] END C=10, dual=False, fit_intercept=False, loss=hinge, multi_class=crammer_singer, penalty=l2; total time=   0.0s\n"
     ]
    },
    {
     "name": "stderr",
     "output_type": "stream",
     "text": [
      "C:\\Users\\skhus\\anaconda3\\lib\\site-packages\\sklearn\\svm\\_base.py:985: ConvergenceWarning: Liblinear failed to converge, increase the number of iterations.\n",
      "  warnings.warn(\"Liblinear failed to converge, increase \"\n",
      "C:\\Users\\skhus\\anaconda3\\lib\\site-packages\\sklearn\\svm\\_base.py:985: ConvergenceWarning: Liblinear failed to converge, increase the number of iterations.\n",
      "  warnings.warn(\"Liblinear failed to converge, increase \"\n"
     ]
    },
    {
     "name": "stdout",
     "output_type": "stream",
     "text": [
      "[CV 1/5] END C=10, dual=False, fit_intercept=False, loss=squared_hinge, multi_class=ovr, penalty=l1; total time=   0.0s\n",
      "[CV 2/5] END C=10, dual=False, fit_intercept=False, loss=squared_hinge, multi_class=ovr, penalty=l1; total time=   0.0s\n"
     ]
    },
    {
     "name": "stderr",
     "output_type": "stream",
     "text": [
      "C:\\Users\\skhus\\anaconda3\\lib\\site-packages\\sklearn\\svm\\_base.py:985: ConvergenceWarning: Liblinear failed to converge, increase the number of iterations.\n",
      "  warnings.warn(\"Liblinear failed to converge, increase \"\n",
      "C:\\Users\\skhus\\anaconda3\\lib\\site-packages\\sklearn\\svm\\_base.py:985: ConvergenceWarning: Liblinear failed to converge, increase the number of iterations.\n",
      "  warnings.warn(\"Liblinear failed to converge, increase \"\n"
     ]
    },
    {
     "name": "stdout",
     "output_type": "stream",
     "text": [
      "[CV 3/5] END C=10, dual=False, fit_intercept=False, loss=squared_hinge, multi_class=ovr, penalty=l1; total time=   0.0s\n",
      "[CV 4/5] END C=10, dual=False, fit_intercept=False, loss=squared_hinge, multi_class=ovr, penalty=l1; total time=   0.0s\n"
     ]
    },
    {
     "name": "stderr",
     "output_type": "stream",
     "text": [
      "C:\\Users\\skhus\\anaconda3\\lib\\site-packages\\sklearn\\svm\\_base.py:985: ConvergenceWarning: Liblinear failed to converge, increase the number of iterations.\n",
      "  warnings.warn(\"Liblinear failed to converge, increase \"\n"
     ]
    },
    {
     "name": "stdout",
     "output_type": "stream",
     "text": [
      "[CV 5/5] END C=10, dual=False, fit_intercept=False, loss=squared_hinge, multi_class=ovr, penalty=l1; total time=   0.0s\n",
      "[CV 1/5] END C=10, dual=False, fit_intercept=False, loss=squared_hinge, multi_class=ovr, penalty=l2; total time=   0.0s\n",
      "[CV 2/5] END C=10, dual=False, fit_intercept=False, loss=squared_hinge, multi_class=ovr, penalty=l2; total time=   0.0s\n",
      "[CV 3/5] END C=10, dual=False, fit_intercept=False, loss=squared_hinge, multi_class=ovr, penalty=l2; total time=   0.0s\n",
      "[CV 4/5] END C=10, dual=False, fit_intercept=False, loss=squared_hinge, multi_class=ovr, penalty=l2; total time=   0.0s\n",
      "[CV 5/5] END C=10, dual=False, fit_intercept=False, loss=squared_hinge, multi_class=ovr, penalty=l2; total time=   0.0s\n",
      "[CV 1/5] END C=10, dual=False, fit_intercept=False, loss=squared_hinge, multi_class=crammer_singer, penalty=l1; total time=   0.0s\n",
      "[CV 2/5] END C=10, dual=False, fit_intercept=False, loss=squared_hinge, multi_class=crammer_singer, penalty=l1; total time=   0.3s\n",
      "[CV 3/5] END C=10, dual=False, fit_intercept=False, loss=squared_hinge, multi_class=crammer_singer, penalty=l1; total time=   0.0s\n",
      "[CV 4/5] END C=10, dual=False, fit_intercept=False, loss=squared_hinge, multi_class=crammer_singer, penalty=l1; total time=   0.0s\n",
      "[CV 5/5] END C=10, dual=False, fit_intercept=False, loss=squared_hinge, multi_class=crammer_singer, penalty=l1; total time=   0.0s\n",
      "[CV 1/5] END C=10, dual=False, fit_intercept=False, loss=squared_hinge, multi_class=crammer_singer, penalty=l2; total time=   0.0s\n",
      "[CV 2/5] END C=10, dual=False, fit_intercept=False, loss=squared_hinge, multi_class=crammer_singer, penalty=l2; total time=   0.2s\n",
      "[CV 3/5] END C=10, dual=False, fit_intercept=False, loss=squared_hinge, multi_class=crammer_singer, penalty=l2; total time=   0.0s\n",
      "[CV 4/5] END C=10, dual=False, fit_intercept=False, loss=squared_hinge, multi_class=crammer_singer, penalty=l2; total time=   0.0s\n",
      "[CV 5/5] END C=10, dual=False, fit_intercept=False, loss=squared_hinge, multi_class=crammer_singer, penalty=l2; total time=   0.0s\n",
      "[CV 1/5] END C=10, dual=False, fit_intercept=True, loss=hinge, multi_class=ovr, penalty=l1; total time=   0.0s\n",
      "[CV 2/5] END C=10, dual=False, fit_intercept=True, loss=hinge, multi_class=ovr, penalty=l1; total time=   0.0s\n",
      "[CV 3/5] END C=10, dual=False, fit_intercept=True, loss=hinge, multi_class=ovr, penalty=l1; total time=   0.0s\n",
      "[CV 4/5] END C=10, dual=False, fit_intercept=True, loss=hinge, multi_class=ovr, penalty=l1; total time=   0.0s\n",
      "[CV 5/5] END C=10, dual=False, fit_intercept=True, loss=hinge, multi_class=ovr, penalty=l1; total time=   0.0s\n",
      "[CV 1/5] END C=10, dual=False, fit_intercept=True, loss=hinge, multi_class=ovr, penalty=l2; total time=   0.0s\n",
      "[CV 2/5] END C=10, dual=False, fit_intercept=True, loss=hinge, multi_class=ovr, penalty=l2; total time=   0.0s\n",
      "[CV 3/5] END C=10, dual=False, fit_intercept=True, loss=hinge, multi_class=ovr, penalty=l2; total time=   0.0s\n",
      "[CV 4/5] END C=10, dual=False, fit_intercept=True, loss=hinge, multi_class=ovr, penalty=l2; total time=   0.0s\n",
      "[CV 5/5] END C=10, dual=False, fit_intercept=True, loss=hinge, multi_class=ovr, penalty=l2; total time=   0.0s\n",
      "[CV 1/5] END C=10, dual=False, fit_intercept=True, loss=hinge, multi_class=crammer_singer, penalty=l1; total time=   0.0s\n"
     ]
    },
    {
     "name": "stderr",
     "output_type": "stream",
     "text": [
      "C:\\Users\\skhus\\anaconda3\\lib\\site-packages\\sklearn\\model_selection\\_validation.py:610: FitFailedWarning: Estimator fit failed. The score on this train-test partition for these parameters will be set to nan. Details: \n",
      "Traceback (most recent call last):\n",
      "  File \"C:\\Users\\skhus\\anaconda3\\lib\\site-packages\\sklearn\\model_selection\\_validation.py\", line 593, in _fit_and_score\n",
      "    estimator.fit(X_train, y_train, **fit_params)\n",
      "  File \"C:\\Users\\skhus\\anaconda3\\lib\\site-packages\\sklearn\\svm\\_classes.py\", line 234, in fit\n",
      "    self.coef_, self.intercept_, self.n_iter_ = _fit_liblinear(\n",
      "  File \"C:\\Users\\skhus\\anaconda3\\lib\\site-packages\\sklearn\\svm\\_base.py\", line 974, in _fit_liblinear\n",
      "    solver_type = _get_liblinear_solver_type(multi_class, penalty, loss, dual)\n",
      "  File \"C:\\Users\\skhus\\anaconda3\\lib\\site-packages\\sklearn\\svm\\_base.py\", line 830, in _get_liblinear_solver_type\n",
      "    raise ValueError('Unsupported set of arguments: %s, '\n",
      "ValueError: Unsupported set of arguments: The combination of penalty='l1' and loss='hinge' is not supported, Parameters: penalty='l1', loss='hinge', dual=False\n",
      "\n",
      "  warnings.warn(\"Estimator fit failed. The score on this train-test\"\n",
      "C:\\Users\\skhus\\anaconda3\\lib\\site-packages\\sklearn\\model_selection\\_validation.py:610: FitFailedWarning: Estimator fit failed. The score on this train-test partition for these parameters will be set to nan. Details: \n",
      "Traceback (most recent call last):\n",
      "  File \"C:\\Users\\skhus\\anaconda3\\lib\\site-packages\\sklearn\\model_selection\\_validation.py\", line 593, in _fit_and_score\n",
      "    estimator.fit(X_train, y_train, **fit_params)\n",
      "  File \"C:\\Users\\skhus\\anaconda3\\lib\\site-packages\\sklearn\\svm\\_classes.py\", line 234, in fit\n",
      "    self.coef_, self.intercept_, self.n_iter_ = _fit_liblinear(\n",
      "  File \"C:\\Users\\skhus\\anaconda3\\lib\\site-packages\\sklearn\\svm\\_base.py\", line 974, in _fit_liblinear\n",
      "    solver_type = _get_liblinear_solver_type(multi_class, penalty, loss, dual)\n",
      "  File \"C:\\Users\\skhus\\anaconda3\\lib\\site-packages\\sklearn\\svm\\_base.py\", line 830, in _get_liblinear_solver_type\n",
      "    raise ValueError('Unsupported set of arguments: %s, '\n",
      "ValueError: Unsupported set of arguments: The combination of penalty='l1' and loss='hinge' is not supported, Parameters: penalty='l1', loss='hinge', dual=False\n",
      "\n",
      "  warnings.warn(\"Estimator fit failed. The score on this train-test\"\n",
      "C:\\Users\\skhus\\anaconda3\\lib\\site-packages\\sklearn\\model_selection\\_validation.py:610: FitFailedWarning: Estimator fit failed. The score on this train-test partition for these parameters will be set to nan. Details: \n",
      "Traceback (most recent call last):\n",
      "  File \"C:\\Users\\skhus\\anaconda3\\lib\\site-packages\\sklearn\\model_selection\\_validation.py\", line 593, in _fit_and_score\n",
      "    estimator.fit(X_train, y_train, **fit_params)\n",
      "  File \"C:\\Users\\skhus\\anaconda3\\lib\\site-packages\\sklearn\\svm\\_classes.py\", line 234, in fit\n",
      "    self.coef_, self.intercept_, self.n_iter_ = _fit_liblinear(\n",
      "  File \"C:\\Users\\skhus\\anaconda3\\lib\\site-packages\\sklearn\\svm\\_base.py\", line 974, in _fit_liblinear\n",
      "    solver_type = _get_liblinear_solver_type(multi_class, penalty, loss, dual)\n",
      "  File \"C:\\Users\\skhus\\anaconda3\\lib\\site-packages\\sklearn\\svm\\_base.py\", line 830, in _get_liblinear_solver_type\n",
      "    raise ValueError('Unsupported set of arguments: %s, '\n",
      "ValueError: Unsupported set of arguments: The combination of penalty='l1' and loss='hinge' is not supported, Parameters: penalty='l1', loss='hinge', dual=False\n",
      "\n",
      "  warnings.warn(\"Estimator fit failed. The score on this train-test\"\n",
      "C:\\Users\\skhus\\anaconda3\\lib\\site-packages\\sklearn\\model_selection\\_validation.py:610: FitFailedWarning: Estimator fit failed. The score on this train-test partition for these parameters will be set to nan. Details: \n",
      "Traceback (most recent call last):\n",
      "  File \"C:\\Users\\skhus\\anaconda3\\lib\\site-packages\\sklearn\\model_selection\\_validation.py\", line 593, in _fit_and_score\n",
      "    estimator.fit(X_train, y_train, **fit_params)\n",
      "  File \"C:\\Users\\skhus\\anaconda3\\lib\\site-packages\\sklearn\\svm\\_classes.py\", line 234, in fit\n",
      "    self.coef_, self.intercept_, self.n_iter_ = _fit_liblinear(\n",
      "  File \"C:\\Users\\skhus\\anaconda3\\lib\\site-packages\\sklearn\\svm\\_base.py\", line 974, in _fit_liblinear\n",
      "    solver_type = _get_liblinear_solver_type(multi_class, penalty, loss, dual)\n",
      "  File \"C:\\Users\\skhus\\anaconda3\\lib\\site-packages\\sklearn\\svm\\_base.py\", line 830, in _get_liblinear_solver_type\n",
      "    raise ValueError('Unsupported set of arguments: %s, '\n",
      "ValueError: Unsupported set of arguments: The combination of penalty='l1' and loss='hinge' is not supported, Parameters: penalty='l1', loss='hinge', dual=False\n",
      "\n",
      "  warnings.warn(\"Estimator fit failed. The score on this train-test\"\n",
      "C:\\Users\\skhus\\anaconda3\\lib\\site-packages\\sklearn\\model_selection\\_validation.py:610: FitFailedWarning: Estimator fit failed. The score on this train-test partition for these parameters will be set to nan. Details: \n",
      "Traceback (most recent call last):\n",
      "  File \"C:\\Users\\skhus\\anaconda3\\lib\\site-packages\\sklearn\\model_selection\\_validation.py\", line 593, in _fit_and_score\n",
      "    estimator.fit(X_train, y_train, **fit_params)\n",
      "  File \"C:\\Users\\skhus\\anaconda3\\lib\\site-packages\\sklearn\\svm\\_classes.py\", line 234, in fit\n",
      "    self.coef_, self.intercept_, self.n_iter_ = _fit_liblinear(\n",
      "  File \"C:\\Users\\skhus\\anaconda3\\lib\\site-packages\\sklearn\\svm\\_base.py\", line 974, in _fit_liblinear\n",
      "    solver_type = _get_liblinear_solver_type(multi_class, penalty, loss, dual)\n",
      "  File \"C:\\Users\\skhus\\anaconda3\\lib\\site-packages\\sklearn\\svm\\_base.py\", line 830, in _get_liblinear_solver_type\n",
      "    raise ValueError('Unsupported set of arguments: %s, '\n",
      "ValueError: Unsupported set of arguments: The combination of penalty='l1' and loss='hinge' is not supported, Parameters: penalty='l1', loss='hinge', dual=False\n",
      "\n",
      "  warnings.warn(\"Estimator fit failed. The score on this train-test\"\n",
      "C:\\Users\\skhus\\anaconda3\\lib\\site-packages\\sklearn\\model_selection\\_validation.py:610: FitFailedWarning: Estimator fit failed. The score on this train-test partition for these parameters will be set to nan. Details: \n",
      "Traceback (most recent call last):\n",
      "  File \"C:\\Users\\skhus\\anaconda3\\lib\\site-packages\\sklearn\\model_selection\\_validation.py\", line 593, in _fit_and_score\n",
      "    estimator.fit(X_train, y_train, **fit_params)\n",
      "  File \"C:\\Users\\skhus\\anaconda3\\lib\\site-packages\\sklearn\\svm\\_classes.py\", line 234, in fit\n",
      "    self.coef_, self.intercept_, self.n_iter_ = _fit_liblinear(\n",
      "  File \"C:\\Users\\skhus\\anaconda3\\lib\\site-packages\\sklearn\\svm\\_base.py\", line 974, in _fit_liblinear\n",
      "    solver_type = _get_liblinear_solver_type(multi_class, penalty, loss, dual)\n",
      "  File \"C:\\Users\\skhus\\anaconda3\\lib\\site-packages\\sklearn\\svm\\_base.py\", line 830, in _get_liblinear_solver_type\n",
      "    raise ValueError('Unsupported set of arguments: %s, '\n",
      "ValueError: Unsupported set of arguments: The combination of penalty='l2' and loss='hinge' are not supported when dual=False, Parameters: penalty='l2', loss='hinge', dual=False\n",
      "\n",
      "  warnings.warn(\"Estimator fit failed. The score on this train-test\"\n",
      "C:\\Users\\skhus\\anaconda3\\lib\\site-packages\\sklearn\\model_selection\\_validation.py:610: FitFailedWarning: Estimator fit failed. The score on this train-test partition for these parameters will be set to nan. Details: \n",
      "Traceback (most recent call last):\n",
      "  File \"C:\\Users\\skhus\\anaconda3\\lib\\site-packages\\sklearn\\model_selection\\_validation.py\", line 593, in _fit_and_score\n",
      "    estimator.fit(X_train, y_train, **fit_params)\n",
      "  File \"C:\\Users\\skhus\\anaconda3\\lib\\site-packages\\sklearn\\svm\\_classes.py\", line 234, in fit\n",
      "    self.coef_, self.intercept_, self.n_iter_ = _fit_liblinear(\n",
      "  File \"C:\\Users\\skhus\\anaconda3\\lib\\site-packages\\sklearn\\svm\\_base.py\", line 974, in _fit_liblinear\n",
      "    solver_type = _get_liblinear_solver_type(multi_class, penalty, loss, dual)\n",
      "  File \"C:\\Users\\skhus\\anaconda3\\lib\\site-packages\\sklearn\\svm\\_base.py\", line 830, in _get_liblinear_solver_type\n",
      "    raise ValueError('Unsupported set of arguments: %s, '\n",
      "ValueError: Unsupported set of arguments: The combination of penalty='l2' and loss='hinge' are not supported when dual=False, Parameters: penalty='l2', loss='hinge', dual=False\n",
      "\n",
      "  warnings.warn(\"Estimator fit failed. The score on this train-test\"\n",
      "C:\\Users\\skhus\\anaconda3\\lib\\site-packages\\sklearn\\model_selection\\_validation.py:610: FitFailedWarning: Estimator fit failed. The score on this train-test partition for these parameters will be set to nan. Details: \n",
      "Traceback (most recent call last):\n",
      "  File \"C:\\Users\\skhus\\anaconda3\\lib\\site-packages\\sklearn\\model_selection\\_validation.py\", line 593, in _fit_and_score\n",
      "    estimator.fit(X_train, y_train, **fit_params)\n",
      "  File \"C:\\Users\\skhus\\anaconda3\\lib\\site-packages\\sklearn\\svm\\_classes.py\", line 234, in fit\n",
      "    self.coef_, self.intercept_, self.n_iter_ = _fit_liblinear(\n",
      "  File \"C:\\Users\\skhus\\anaconda3\\lib\\site-packages\\sklearn\\svm\\_base.py\", line 974, in _fit_liblinear\n",
      "    solver_type = _get_liblinear_solver_type(multi_class, penalty, loss, dual)\n",
      "  File \"C:\\Users\\skhus\\anaconda3\\lib\\site-packages\\sklearn\\svm\\_base.py\", line 830, in _get_liblinear_solver_type\n",
      "    raise ValueError('Unsupported set of arguments: %s, '\n",
      "ValueError: Unsupported set of arguments: The combination of penalty='l2' and loss='hinge' are not supported when dual=False, Parameters: penalty='l2', loss='hinge', dual=False\n",
      "\n",
      "  warnings.warn(\"Estimator fit failed. The score on this train-test\"\n",
      "C:\\Users\\skhus\\anaconda3\\lib\\site-packages\\sklearn\\model_selection\\_validation.py:610: FitFailedWarning: Estimator fit failed. The score on this train-test partition for these parameters will be set to nan. Details: \n",
      "Traceback (most recent call last):\n",
      "  File \"C:\\Users\\skhus\\anaconda3\\lib\\site-packages\\sklearn\\model_selection\\_validation.py\", line 593, in _fit_and_score\n",
      "    estimator.fit(X_train, y_train, **fit_params)\n",
      "  File \"C:\\Users\\skhus\\anaconda3\\lib\\site-packages\\sklearn\\svm\\_classes.py\", line 234, in fit\n",
      "    self.coef_, self.intercept_, self.n_iter_ = _fit_liblinear(\n",
      "  File \"C:\\Users\\skhus\\anaconda3\\lib\\site-packages\\sklearn\\svm\\_base.py\", line 974, in _fit_liblinear\n",
      "    solver_type = _get_liblinear_solver_type(multi_class, penalty, loss, dual)\n",
      "  File \"C:\\Users\\skhus\\anaconda3\\lib\\site-packages\\sklearn\\svm\\_base.py\", line 830, in _get_liblinear_solver_type\n",
      "    raise ValueError('Unsupported set of arguments: %s, '\n",
      "ValueError: Unsupported set of arguments: The combination of penalty='l2' and loss='hinge' are not supported when dual=False, Parameters: penalty='l2', loss='hinge', dual=False\n",
      "\n",
      "  warnings.warn(\"Estimator fit failed. The score on this train-test\"\n",
      "C:\\Users\\skhus\\anaconda3\\lib\\site-packages\\sklearn\\model_selection\\_validation.py:610: FitFailedWarning: Estimator fit failed. The score on this train-test partition for these parameters will be set to nan. Details: \n",
      "Traceback (most recent call last):\n",
      "  File \"C:\\Users\\skhus\\anaconda3\\lib\\site-packages\\sklearn\\model_selection\\_validation.py\", line 593, in _fit_and_score\n",
      "    estimator.fit(X_train, y_train, **fit_params)\n",
      "  File \"C:\\Users\\skhus\\anaconda3\\lib\\site-packages\\sklearn\\svm\\_classes.py\", line 234, in fit\n",
      "    self.coef_, self.intercept_, self.n_iter_ = _fit_liblinear(\n",
      "  File \"C:\\Users\\skhus\\anaconda3\\lib\\site-packages\\sklearn\\svm\\_base.py\", line 974, in _fit_liblinear\n",
      "    solver_type = _get_liblinear_solver_type(multi_class, penalty, loss, dual)\n",
      "  File \"C:\\Users\\skhus\\anaconda3\\lib\\site-packages\\sklearn\\svm\\_base.py\", line 830, in _get_liblinear_solver_type\n",
      "    raise ValueError('Unsupported set of arguments: %s, '\n",
      "ValueError: Unsupported set of arguments: The combination of penalty='l2' and loss='hinge' are not supported when dual=False, Parameters: penalty='l2', loss='hinge', dual=False\n",
      "\n",
      "  warnings.warn(\"Estimator fit failed. The score on this train-test\"\n"
     ]
    },
    {
     "name": "stdout",
     "output_type": "stream",
     "text": [
      "[CV 2/5] END C=10, dual=False, fit_intercept=True, loss=hinge, multi_class=crammer_singer, penalty=l1; total time=   0.0s\n",
      "[CV 3/5] END C=10, dual=False, fit_intercept=True, loss=hinge, multi_class=crammer_singer, penalty=l1; total time=   0.2s\n",
      "[CV 4/5] END C=10, dual=False, fit_intercept=True, loss=hinge, multi_class=crammer_singer, penalty=l1; total time=   0.0s\n"
     ]
    },
    {
     "name": "stderr",
     "output_type": "stream",
     "text": [
      "C:\\Users\\skhus\\anaconda3\\lib\\site-packages\\sklearn\\svm\\_base.py:985: ConvergenceWarning: Liblinear failed to converge, increase the number of iterations.\n",
      "  warnings.warn(\"Liblinear failed to converge, increase \"\n"
     ]
    },
    {
     "name": "stdout",
     "output_type": "stream",
     "text": [
      "[CV 5/5] END C=10, dual=False, fit_intercept=True, loss=hinge, multi_class=crammer_singer, penalty=l1; total time=   4.2s\n",
      "[CV 1/5] END C=10, dual=False, fit_intercept=True, loss=hinge, multi_class=crammer_singer, penalty=l2; total time=   0.0s\n",
      "[CV 2/5] END C=10, dual=False, fit_intercept=True, loss=hinge, multi_class=crammer_singer, penalty=l2; total time=   0.0s\n",
      "[CV 3/5] END C=10, dual=False, fit_intercept=True, loss=hinge, multi_class=crammer_singer, penalty=l2; total time=   0.1s\n",
      "[CV 4/5] END C=10, dual=False, fit_intercept=True, loss=hinge, multi_class=crammer_singer, penalty=l2; total time=   0.0s\n"
     ]
    },
    {
     "name": "stderr",
     "output_type": "stream",
     "text": [
      "C:\\Users\\skhus\\anaconda3\\lib\\site-packages\\sklearn\\svm\\_base.py:985: ConvergenceWarning: Liblinear failed to converge, increase the number of iterations.\n",
      "  warnings.warn(\"Liblinear failed to converge, increase \"\n",
      "C:\\Users\\skhus\\anaconda3\\lib\\site-packages\\sklearn\\svm\\_base.py:985: ConvergenceWarning: Liblinear failed to converge, increase the number of iterations.\n",
      "  warnings.warn(\"Liblinear failed to converge, increase \"\n"
     ]
    },
    {
     "name": "stdout",
     "output_type": "stream",
     "text": [
      "[CV 5/5] END C=10, dual=False, fit_intercept=True, loss=hinge, multi_class=crammer_singer, penalty=l2; total time=   1.9s\n",
      "[CV 1/5] END C=10, dual=False, fit_intercept=True, loss=squared_hinge, multi_class=ovr, penalty=l1; total time=   0.0s\n"
     ]
    },
    {
     "name": "stderr",
     "output_type": "stream",
     "text": [
      "C:\\Users\\skhus\\anaconda3\\lib\\site-packages\\sklearn\\svm\\_base.py:985: ConvergenceWarning: Liblinear failed to converge, increase the number of iterations.\n",
      "  warnings.warn(\"Liblinear failed to converge, increase \"\n",
      "C:\\Users\\skhus\\anaconda3\\lib\\site-packages\\sklearn\\svm\\_base.py:985: ConvergenceWarning: Liblinear failed to converge, increase the number of iterations.\n",
      "  warnings.warn(\"Liblinear failed to converge, increase \"\n"
     ]
    },
    {
     "name": "stdout",
     "output_type": "stream",
     "text": [
      "[CV 2/5] END C=10, dual=False, fit_intercept=True, loss=squared_hinge, multi_class=ovr, penalty=l1; total time=   0.0s\n",
      "[CV 3/5] END C=10, dual=False, fit_intercept=True, loss=squared_hinge, multi_class=ovr, penalty=l1; total time=   0.0s\n"
     ]
    },
    {
     "name": "stderr",
     "output_type": "stream",
     "text": [
      "C:\\Users\\skhus\\anaconda3\\lib\\site-packages\\sklearn\\svm\\_base.py:985: ConvergenceWarning: Liblinear failed to converge, increase the number of iterations.\n",
      "  warnings.warn(\"Liblinear failed to converge, increase \"\n",
      "C:\\Users\\skhus\\anaconda3\\lib\\site-packages\\sklearn\\svm\\_base.py:985: ConvergenceWarning: Liblinear failed to converge, increase the number of iterations.\n",
      "  warnings.warn(\"Liblinear failed to converge, increase \"\n"
     ]
    },
    {
     "name": "stdout",
     "output_type": "stream",
     "text": [
      "[CV 4/5] END C=10, dual=False, fit_intercept=True, loss=squared_hinge, multi_class=ovr, penalty=l1; total time=   0.0s\n",
      "[CV 5/5] END C=10, dual=False, fit_intercept=True, loss=squared_hinge, multi_class=ovr, penalty=l1; total time=   0.0s\n",
      "[CV 1/5] END C=10, dual=False, fit_intercept=True, loss=squared_hinge, multi_class=ovr, penalty=l2; total time=   0.0s\n",
      "[CV 2/5] END C=10, dual=False, fit_intercept=True, loss=squared_hinge, multi_class=ovr, penalty=l2; total time=   0.0s\n",
      "[CV 3/5] END C=10, dual=False, fit_intercept=True, loss=squared_hinge, multi_class=ovr, penalty=l2; total time=   0.0s\n",
      "[CV 4/5] END C=10, dual=False, fit_intercept=True, loss=squared_hinge, multi_class=ovr, penalty=l2; total time=   0.0s\n",
      "[CV 5/5] END C=10, dual=False, fit_intercept=True, loss=squared_hinge, multi_class=ovr, penalty=l2; total time=   0.0s\n",
      "[CV 1/5] END C=10, dual=False, fit_intercept=True, loss=squared_hinge, multi_class=crammer_singer, penalty=l1; total time=   0.0s\n",
      "[CV 2/5] END C=10, dual=False, fit_intercept=True, loss=squared_hinge, multi_class=crammer_singer, penalty=l1; total time=   0.0s\n",
      "[CV 3/5] END C=10, dual=False, fit_intercept=True, loss=squared_hinge, multi_class=crammer_singer, penalty=l1; total time=   0.1s\n",
      "[CV 4/5] END C=10, dual=False, fit_intercept=True, loss=squared_hinge, multi_class=crammer_singer, penalty=l1; total time=   0.0s\n"
     ]
    },
    {
     "name": "stderr",
     "output_type": "stream",
     "text": [
      "C:\\Users\\skhus\\anaconda3\\lib\\site-packages\\sklearn\\svm\\_base.py:985: ConvergenceWarning: Liblinear failed to converge, increase the number of iterations.\n",
      "  warnings.warn(\"Liblinear failed to converge, increase \"\n"
     ]
    },
    {
     "name": "stdout",
     "output_type": "stream",
     "text": [
      "[CV 5/5] END C=10, dual=False, fit_intercept=True, loss=squared_hinge, multi_class=crammer_singer, penalty=l1; total time=   6.8s\n",
      "[CV 1/5] END C=10, dual=False, fit_intercept=True, loss=squared_hinge, multi_class=crammer_singer, penalty=l2; total time=   0.0s\n",
      "[CV 2/5] END C=10, dual=False, fit_intercept=True, loss=squared_hinge, multi_class=crammer_singer, penalty=l2; total time=   0.0s\n",
      "[CV 3/5] END C=10, dual=False, fit_intercept=True, loss=squared_hinge, multi_class=crammer_singer, penalty=l2; total time=   0.1s\n",
      "[CV 4/5] END C=10, dual=False, fit_intercept=True, loss=squared_hinge, multi_class=crammer_singer, penalty=l2; total time=   0.0s\n"
     ]
    },
    {
     "name": "stderr",
     "output_type": "stream",
     "text": [
      "C:\\Users\\skhus\\anaconda3\\lib\\site-packages\\sklearn\\svm\\_base.py:985: ConvergenceWarning: Liblinear failed to converge, increase the number of iterations.\n",
      "  warnings.warn(\"Liblinear failed to converge, increase \"\n",
      "C:\\Users\\skhus\\anaconda3\\lib\\site-packages\\sklearn\\model_selection\\_validation.py:610: FitFailedWarning: Estimator fit failed. The score on this train-test partition for these parameters will be set to nan. Details: \n",
      "Traceback (most recent call last):\n",
      "  File \"C:\\Users\\skhus\\anaconda3\\lib\\site-packages\\sklearn\\model_selection\\_validation.py\", line 593, in _fit_and_score\n",
      "    estimator.fit(X_train, y_train, **fit_params)\n",
      "  File \"C:\\Users\\skhus\\anaconda3\\lib\\site-packages\\sklearn\\svm\\_classes.py\", line 234, in fit\n",
      "    self.coef_, self.intercept_, self.n_iter_ = _fit_liblinear(\n",
      "  File \"C:\\Users\\skhus\\anaconda3\\lib\\site-packages\\sklearn\\svm\\_base.py\", line 974, in _fit_liblinear\n",
      "    solver_type = _get_liblinear_solver_type(multi_class, penalty, loss, dual)\n",
      "  File \"C:\\Users\\skhus\\anaconda3\\lib\\site-packages\\sklearn\\svm\\_base.py\", line 830, in _get_liblinear_solver_type\n",
      "    raise ValueError('Unsupported set of arguments: %s, '\n",
      "ValueError: Unsupported set of arguments: The combination of penalty='l1' and loss='hinge' is not supported, Parameters: penalty='l1', loss='hinge', dual=True\n",
      "\n",
      "  warnings.warn(\"Estimator fit failed. The score on this train-test\"\n",
      "C:\\Users\\skhus\\anaconda3\\lib\\site-packages\\sklearn\\model_selection\\_validation.py:610: FitFailedWarning: Estimator fit failed. The score on this train-test partition for these parameters will be set to nan. Details: \n",
      "Traceback (most recent call last):\n",
      "  File \"C:\\Users\\skhus\\anaconda3\\lib\\site-packages\\sklearn\\model_selection\\_validation.py\", line 593, in _fit_and_score\n",
      "    estimator.fit(X_train, y_train, **fit_params)\n",
      "  File \"C:\\Users\\skhus\\anaconda3\\lib\\site-packages\\sklearn\\svm\\_classes.py\", line 234, in fit\n",
      "    self.coef_, self.intercept_, self.n_iter_ = _fit_liblinear(\n",
      "  File \"C:\\Users\\skhus\\anaconda3\\lib\\site-packages\\sklearn\\svm\\_base.py\", line 974, in _fit_liblinear\n",
      "    solver_type = _get_liblinear_solver_type(multi_class, penalty, loss, dual)\n",
      "  File \"C:\\Users\\skhus\\anaconda3\\lib\\site-packages\\sklearn\\svm\\_base.py\", line 830, in _get_liblinear_solver_type\n",
      "    raise ValueError('Unsupported set of arguments: %s, '\n",
      "ValueError: Unsupported set of arguments: The combination of penalty='l1' and loss='hinge' is not supported, Parameters: penalty='l1', loss='hinge', dual=True\n",
      "\n",
      "  warnings.warn(\"Estimator fit failed. The score on this train-test\"\n",
      "C:\\Users\\skhus\\anaconda3\\lib\\site-packages\\sklearn\\model_selection\\_validation.py:610: FitFailedWarning: Estimator fit failed. The score on this train-test partition for these parameters will be set to nan. Details: \n",
      "Traceback (most recent call last):\n",
      "  File \"C:\\Users\\skhus\\anaconda3\\lib\\site-packages\\sklearn\\model_selection\\_validation.py\", line 593, in _fit_and_score\n",
      "    estimator.fit(X_train, y_train, **fit_params)\n",
      "  File \"C:\\Users\\skhus\\anaconda3\\lib\\site-packages\\sklearn\\svm\\_classes.py\", line 234, in fit\n",
      "    self.coef_, self.intercept_, self.n_iter_ = _fit_liblinear(\n",
      "  File \"C:\\Users\\skhus\\anaconda3\\lib\\site-packages\\sklearn\\svm\\_base.py\", line 974, in _fit_liblinear\n",
      "    solver_type = _get_liblinear_solver_type(multi_class, penalty, loss, dual)\n",
      "  File \"C:\\Users\\skhus\\anaconda3\\lib\\site-packages\\sklearn\\svm\\_base.py\", line 830, in _get_liblinear_solver_type\n",
      "    raise ValueError('Unsupported set of arguments: %s, '\n",
      "ValueError: Unsupported set of arguments: The combination of penalty='l1' and loss='hinge' is not supported, Parameters: penalty='l1', loss='hinge', dual=True\n",
      "\n",
      "  warnings.warn(\"Estimator fit failed. The score on this train-test\"\n",
      "C:\\Users\\skhus\\anaconda3\\lib\\site-packages\\sklearn\\model_selection\\_validation.py:610: FitFailedWarning: Estimator fit failed. The score on this train-test partition for these parameters will be set to nan. Details: \n",
      "Traceback (most recent call last):\n",
      "  File \"C:\\Users\\skhus\\anaconda3\\lib\\site-packages\\sklearn\\model_selection\\_validation.py\", line 593, in _fit_and_score\n",
      "    estimator.fit(X_train, y_train, **fit_params)\n",
      "  File \"C:\\Users\\skhus\\anaconda3\\lib\\site-packages\\sklearn\\svm\\_classes.py\", line 234, in fit\n",
      "    self.coef_, self.intercept_, self.n_iter_ = _fit_liblinear(\n",
      "  File \"C:\\Users\\skhus\\anaconda3\\lib\\site-packages\\sklearn\\svm\\_base.py\", line 974, in _fit_liblinear\n",
      "    solver_type = _get_liblinear_solver_type(multi_class, penalty, loss, dual)\n",
      "  File \"C:\\Users\\skhus\\anaconda3\\lib\\site-packages\\sklearn\\svm\\_base.py\", line 830, in _get_liblinear_solver_type\n",
      "    raise ValueError('Unsupported set of arguments: %s, '\n",
      "ValueError: Unsupported set of arguments: The combination of penalty='l1' and loss='hinge' is not supported, Parameters: penalty='l1', loss='hinge', dual=True\n",
      "\n",
      "  warnings.warn(\"Estimator fit failed. The score on this train-test\"\n",
      "C:\\Users\\skhus\\anaconda3\\lib\\site-packages\\sklearn\\model_selection\\_validation.py:610: FitFailedWarning: Estimator fit failed. The score on this train-test partition for these parameters will be set to nan. Details: \n",
      "Traceback (most recent call last):\n",
      "  File \"C:\\Users\\skhus\\anaconda3\\lib\\site-packages\\sklearn\\model_selection\\_validation.py\", line 593, in _fit_and_score\n",
      "    estimator.fit(X_train, y_train, **fit_params)\n",
      "  File \"C:\\Users\\skhus\\anaconda3\\lib\\site-packages\\sklearn\\svm\\_classes.py\", line 234, in fit\n",
      "    self.coef_, self.intercept_, self.n_iter_ = _fit_liblinear(\n",
      "  File \"C:\\Users\\skhus\\anaconda3\\lib\\site-packages\\sklearn\\svm\\_base.py\", line 974, in _fit_liblinear\n",
      "    solver_type = _get_liblinear_solver_type(multi_class, penalty, loss, dual)\n",
      "  File \"C:\\Users\\skhus\\anaconda3\\lib\\site-packages\\sklearn\\svm\\_base.py\", line 830, in _get_liblinear_solver_type\n",
      "    raise ValueError('Unsupported set of arguments: %s, '\n",
      "ValueError: Unsupported set of arguments: The combination of penalty='l1' and loss='hinge' is not supported, Parameters: penalty='l1', loss='hinge', dual=True\n",
      "\n",
      "  warnings.warn(\"Estimator fit failed. The score on this train-test\"\n"
     ]
    },
    {
     "name": "stdout",
     "output_type": "stream",
     "text": [
      "[CV 5/5] END C=10, dual=False, fit_intercept=True, loss=squared_hinge, multi_class=crammer_singer, penalty=l2; total time=   6.7s\n",
      "[CV 1/5] END C=10, dual=True, fit_intercept=False, loss=hinge, multi_class=ovr, penalty=l1; total time=   0.0s\n",
      "[CV 2/5] END C=10, dual=True, fit_intercept=False, loss=hinge, multi_class=ovr, penalty=l1; total time=   0.0s\n",
      "[CV 3/5] END C=10, dual=True, fit_intercept=False, loss=hinge, multi_class=ovr, penalty=l1; total time=   0.0s\n",
      "[CV 4/5] END C=10, dual=True, fit_intercept=False, loss=hinge, multi_class=ovr, penalty=l1; total time=   0.0s\n",
      "[CV 5/5] END C=10, dual=True, fit_intercept=False, loss=hinge, multi_class=ovr, penalty=l1; total time=   0.0s\n",
      "[CV 1/5] END C=10, dual=True, fit_intercept=False, loss=hinge, multi_class=ovr, penalty=l2; total time=   0.0s\n",
      "[CV 2/5] END C=10, dual=True, fit_intercept=False, loss=hinge, multi_class=ovr, penalty=l2; total time=   0.0s\n",
      "[CV 3/5] END C=10, dual=True, fit_intercept=False, loss=hinge, multi_class=ovr, penalty=l2; total time=   0.0s\n",
      "[CV 4/5] END C=10, dual=True, fit_intercept=False, loss=hinge, multi_class=ovr, penalty=l2; total time=   0.0s\n",
      "[CV 5/5] END C=10, dual=True, fit_intercept=False, loss=hinge, multi_class=ovr, penalty=l2; total time=   0.0s\n",
      "[CV 1/5] END C=10, dual=True, fit_intercept=False, loss=hinge, multi_class=crammer_singer, penalty=l1; total time=   0.0s\n",
      "[CV 2/5] END C=10, dual=True, fit_intercept=False, loss=hinge, multi_class=crammer_singer, penalty=l1; total time=   0.3s\n",
      "[CV 3/5] END C=10, dual=True, fit_intercept=False, loss=hinge, multi_class=crammer_singer, penalty=l1; total time=   0.0s\n",
      "[CV 4/5] END C=10, dual=True, fit_intercept=False, loss=hinge, multi_class=crammer_singer, penalty=l1; total time=   0.0s\n",
      "[CV 5/5] END C=10, dual=True, fit_intercept=False, loss=hinge, multi_class=crammer_singer, penalty=l1; total time=   0.0s\n",
      "[CV 1/5] END C=10, dual=True, fit_intercept=False, loss=hinge, multi_class=crammer_singer, penalty=l2; total time=   0.0s\n",
      "[CV 2/5] END C=10, dual=True, fit_intercept=False, loss=hinge, multi_class=crammer_singer, penalty=l2; total time=   0.3s\n",
      "[CV 3/5] END C=10, dual=True, fit_intercept=False, loss=hinge, multi_class=crammer_singer, penalty=l2; total time=   0.0s\n",
      "[CV 4/5] END C=10, dual=True, fit_intercept=False, loss=hinge, multi_class=crammer_singer, penalty=l2; total time=   0.0s\n",
      "[CV 5/5] END C=10, dual=True, fit_intercept=False, loss=hinge, multi_class=crammer_singer, penalty=l2; total time=   0.0s\n",
      "[CV 1/5] END C=10, dual=True, fit_intercept=False, loss=squared_hinge, multi_class=ovr, penalty=l1; total time=   0.0s\n",
      "[CV 2/5] END C=10, dual=True, fit_intercept=False, loss=squared_hinge, multi_class=ovr, penalty=l1; total time=   0.0s\n",
      "[CV 3/5] END C=10, dual=True, fit_intercept=False, loss=squared_hinge, multi_class=ovr, penalty=l1; total time=   0.0s\n",
      "[CV 4/5] END C=10, dual=True, fit_intercept=False, loss=squared_hinge, multi_class=ovr, penalty=l1; total time=   0.0s\n",
      "[CV 5/5] END C=10, dual=True, fit_intercept=False, loss=squared_hinge, multi_class=ovr, penalty=l1; total time=   0.0s\n",
      "[CV 1/5] END C=10, dual=True, fit_intercept=False, loss=squared_hinge, multi_class=ovr, penalty=l2; total time=   0.0s\n",
      "[CV 2/5] END C=10, dual=True, fit_intercept=False, loss=squared_hinge, multi_class=ovr, penalty=l2; total time=   0.0s\n",
      "[CV 3/5] END C=10, dual=True, fit_intercept=False, loss=squared_hinge, multi_class=ovr, penalty=l2; total time=   0.0s\n"
     ]
    },
    {
     "name": "stderr",
     "output_type": "stream",
     "text": [
      "C:\\Users\\skhus\\anaconda3\\lib\\site-packages\\sklearn\\model_selection\\_validation.py:610: FitFailedWarning: Estimator fit failed. The score on this train-test partition for these parameters will be set to nan. Details: \n",
      "Traceback (most recent call last):\n",
      "  File \"C:\\Users\\skhus\\anaconda3\\lib\\site-packages\\sklearn\\model_selection\\_validation.py\", line 593, in _fit_and_score\n",
      "    estimator.fit(X_train, y_train, **fit_params)\n",
      "  File \"C:\\Users\\skhus\\anaconda3\\lib\\site-packages\\sklearn\\svm\\_classes.py\", line 234, in fit\n",
      "    self.coef_, self.intercept_, self.n_iter_ = _fit_liblinear(\n",
      "  File \"C:\\Users\\skhus\\anaconda3\\lib\\site-packages\\sklearn\\svm\\_base.py\", line 974, in _fit_liblinear\n",
      "    solver_type = _get_liblinear_solver_type(multi_class, penalty, loss, dual)\n",
      "  File \"C:\\Users\\skhus\\anaconda3\\lib\\site-packages\\sklearn\\svm\\_base.py\", line 830, in _get_liblinear_solver_type\n",
      "    raise ValueError('Unsupported set of arguments: %s, '\n",
      "ValueError: Unsupported set of arguments: The combination of penalty='l1' and loss='squared_hinge' are not supported when dual=True, Parameters: penalty='l1', loss='squared_hinge', dual=True\n",
      "\n",
      "  warnings.warn(\"Estimator fit failed. The score on this train-test\"\n",
      "C:\\Users\\skhus\\anaconda3\\lib\\site-packages\\sklearn\\model_selection\\_validation.py:610: FitFailedWarning: Estimator fit failed. The score on this train-test partition for these parameters will be set to nan. Details: \n",
      "Traceback (most recent call last):\n",
      "  File \"C:\\Users\\skhus\\anaconda3\\lib\\site-packages\\sklearn\\model_selection\\_validation.py\", line 593, in _fit_and_score\n",
      "    estimator.fit(X_train, y_train, **fit_params)\n",
      "  File \"C:\\Users\\skhus\\anaconda3\\lib\\site-packages\\sklearn\\svm\\_classes.py\", line 234, in fit\n",
      "    self.coef_, self.intercept_, self.n_iter_ = _fit_liblinear(\n",
      "  File \"C:\\Users\\skhus\\anaconda3\\lib\\site-packages\\sklearn\\svm\\_base.py\", line 974, in _fit_liblinear\n",
      "    solver_type = _get_liblinear_solver_type(multi_class, penalty, loss, dual)\n",
      "  File \"C:\\Users\\skhus\\anaconda3\\lib\\site-packages\\sklearn\\svm\\_base.py\", line 830, in _get_liblinear_solver_type\n",
      "    raise ValueError('Unsupported set of arguments: %s, '\n",
      "ValueError: Unsupported set of arguments: The combination of penalty='l1' and loss='squared_hinge' are not supported when dual=True, Parameters: penalty='l1', loss='squared_hinge', dual=True\n",
      "\n",
      "  warnings.warn(\"Estimator fit failed. The score on this train-test\"\n",
      "C:\\Users\\skhus\\anaconda3\\lib\\site-packages\\sklearn\\model_selection\\_validation.py:610: FitFailedWarning: Estimator fit failed. The score on this train-test partition for these parameters will be set to nan. Details: \n",
      "Traceback (most recent call last):\n",
      "  File \"C:\\Users\\skhus\\anaconda3\\lib\\site-packages\\sklearn\\model_selection\\_validation.py\", line 593, in _fit_and_score\n",
      "    estimator.fit(X_train, y_train, **fit_params)\n",
      "  File \"C:\\Users\\skhus\\anaconda3\\lib\\site-packages\\sklearn\\svm\\_classes.py\", line 234, in fit\n",
      "    self.coef_, self.intercept_, self.n_iter_ = _fit_liblinear(\n",
      "  File \"C:\\Users\\skhus\\anaconda3\\lib\\site-packages\\sklearn\\svm\\_base.py\", line 974, in _fit_liblinear\n",
      "    solver_type = _get_liblinear_solver_type(multi_class, penalty, loss, dual)\n",
      "  File \"C:\\Users\\skhus\\anaconda3\\lib\\site-packages\\sklearn\\svm\\_base.py\", line 830, in _get_liblinear_solver_type\n",
      "    raise ValueError('Unsupported set of arguments: %s, '\n",
      "ValueError: Unsupported set of arguments: The combination of penalty='l1' and loss='squared_hinge' are not supported when dual=True, Parameters: penalty='l1', loss='squared_hinge', dual=True\n",
      "\n",
      "  warnings.warn(\"Estimator fit failed. The score on this train-test\"\n",
      "C:\\Users\\skhus\\anaconda3\\lib\\site-packages\\sklearn\\model_selection\\_validation.py:610: FitFailedWarning: Estimator fit failed. The score on this train-test partition for these parameters will be set to nan. Details: \n",
      "Traceback (most recent call last):\n",
      "  File \"C:\\Users\\skhus\\anaconda3\\lib\\site-packages\\sklearn\\model_selection\\_validation.py\", line 593, in _fit_and_score\n",
      "    estimator.fit(X_train, y_train, **fit_params)\n",
      "  File \"C:\\Users\\skhus\\anaconda3\\lib\\site-packages\\sklearn\\svm\\_classes.py\", line 234, in fit\n",
      "    self.coef_, self.intercept_, self.n_iter_ = _fit_liblinear(\n",
      "  File \"C:\\Users\\skhus\\anaconda3\\lib\\site-packages\\sklearn\\svm\\_base.py\", line 974, in _fit_liblinear\n",
      "    solver_type = _get_liblinear_solver_type(multi_class, penalty, loss, dual)\n",
      "  File \"C:\\Users\\skhus\\anaconda3\\lib\\site-packages\\sklearn\\svm\\_base.py\", line 830, in _get_liblinear_solver_type\n",
      "    raise ValueError('Unsupported set of arguments: %s, '\n",
      "ValueError: Unsupported set of arguments: The combination of penalty='l1' and loss='squared_hinge' are not supported when dual=True, Parameters: penalty='l1', loss='squared_hinge', dual=True\n",
      "\n",
      "  warnings.warn(\"Estimator fit failed. The score on this train-test\"\n",
      "C:\\Users\\skhus\\anaconda3\\lib\\site-packages\\sklearn\\model_selection\\_validation.py:610: FitFailedWarning: Estimator fit failed. The score on this train-test partition for these parameters will be set to nan. Details: \n",
      "Traceback (most recent call last):\n",
      "  File \"C:\\Users\\skhus\\anaconda3\\lib\\site-packages\\sklearn\\model_selection\\_validation.py\", line 593, in _fit_and_score\n",
      "    estimator.fit(X_train, y_train, **fit_params)\n",
      "  File \"C:\\Users\\skhus\\anaconda3\\lib\\site-packages\\sklearn\\svm\\_classes.py\", line 234, in fit\n",
      "    self.coef_, self.intercept_, self.n_iter_ = _fit_liblinear(\n",
      "  File \"C:\\Users\\skhus\\anaconda3\\lib\\site-packages\\sklearn\\svm\\_base.py\", line 974, in _fit_liblinear\n",
      "    solver_type = _get_liblinear_solver_type(multi_class, penalty, loss, dual)\n",
      "  File \"C:\\Users\\skhus\\anaconda3\\lib\\site-packages\\sklearn\\svm\\_base.py\", line 830, in _get_liblinear_solver_type\n",
      "    raise ValueError('Unsupported set of arguments: %s, '\n",
      "ValueError: Unsupported set of arguments: The combination of penalty='l1' and loss='squared_hinge' are not supported when dual=True, Parameters: penalty='l1', loss='squared_hinge', dual=True\n",
      "\n",
      "  warnings.warn(\"Estimator fit failed. The score on this train-test\"\n"
     ]
    },
    {
     "name": "stdout",
     "output_type": "stream",
     "text": [
      "[CV 4/5] END C=10, dual=True, fit_intercept=False, loss=squared_hinge, multi_class=ovr, penalty=l2; total time=   0.0s\n",
      "[CV 5/5] END C=10, dual=True, fit_intercept=False, loss=squared_hinge, multi_class=ovr, penalty=l2; total time=   0.0s\n",
      "[CV 1/5] END C=10, dual=True, fit_intercept=False, loss=squared_hinge, multi_class=crammer_singer, penalty=l1; total time=   0.0s\n",
      "[CV 2/5] END C=10, dual=True, fit_intercept=False, loss=squared_hinge, multi_class=crammer_singer, penalty=l1; total time=   0.3s\n",
      "[CV 3/5] END C=10, dual=True, fit_intercept=False, loss=squared_hinge, multi_class=crammer_singer, penalty=l1; total time=   0.0s\n",
      "[CV 4/5] END C=10, dual=True, fit_intercept=False, loss=squared_hinge, multi_class=crammer_singer, penalty=l1; total time=   0.0s\n",
      "[CV 5/5] END C=10, dual=True, fit_intercept=False, loss=squared_hinge, multi_class=crammer_singer, penalty=l1; total time=   0.0s\n",
      "[CV 1/5] END C=10, dual=True, fit_intercept=False, loss=squared_hinge, multi_class=crammer_singer, penalty=l2; total time=   0.0s\n",
      "[CV 2/5] END C=10, dual=True, fit_intercept=False, loss=squared_hinge, multi_class=crammer_singer, penalty=l2; total time=   0.3s\n",
      "[CV 3/5] END C=10, dual=True, fit_intercept=False, loss=squared_hinge, multi_class=crammer_singer, penalty=l2; total time=   0.0s\n",
      "[CV 4/5] END C=10, dual=True, fit_intercept=False, loss=squared_hinge, multi_class=crammer_singer, penalty=l2; total time=   0.0s\n",
      "[CV 5/5] END C=10, dual=True, fit_intercept=False, loss=squared_hinge, multi_class=crammer_singer, penalty=l2; total time=   0.0s\n",
      "[CV 1/5] END C=10, dual=True, fit_intercept=True, loss=hinge, multi_class=ovr, penalty=l1; total time=   0.0s\n",
      "[CV 2/5] END C=10, dual=True, fit_intercept=True, loss=hinge, multi_class=ovr, penalty=l1; total time=   0.0s\n",
      "[CV 3/5] END C=10, dual=True, fit_intercept=True, loss=hinge, multi_class=ovr, penalty=l1; total time=   0.0s\n",
      "[CV 4/5] END C=10, dual=True, fit_intercept=True, loss=hinge, multi_class=ovr, penalty=l1; total time=   0.0s\n",
      "[CV 5/5] END C=10, dual=True, fit_intercept=True, loss=hinge, multi_class=ovr, penalty=l1; total time=   0.0s\n",
      "[CV 1/5] END C=10, dual=True, fit_intercept=True, loss=hinge, multi_class=ovr, penalty=l2; total time=   0.0s\n",
      "[CV 2/5] END C=10, dual=True, fit_intercept=True, loss=hinge, multi_class=ovr, penalty=l2; total time=   0.0s\n",
      "[CV 3/5] END C=10, dual=True, fit_intercept=True, loss=hinge, multi_class=ovr, penalty=l2; total time=   0.0s\n",
      "[CV 4/5] END C=10, dual=True, fit_intercept=True, loss=hinge, multi_class=ovr, penalty=l2; total time=   0.0s\n"
     ]
    },
    {
     "name": "stderr",
     "output_type": "stream",
     "text": [
      "C:\\Users\\skhus\\anaconda3\\lib\\site-packages\\sklearn\\model_selection\\_validation.py:610: FitFailedWarning: Estimator fit failed. The score on this train-test partition for these parameters will be set to nan. Details: \n",
      "Traceback (most recent call last):\n",
      "  File \"C:\\Users\\skhus\\anaconda3\\lib\\site-packages\\sklearn\\model_selection\\_validation.py\", line 593, in _fit_and_score\n",
      "    estimator.fit(X_train, y_train, **fit_params)\n",
      "  File \"C:\\Users\\skhus\\anaconda3\\lib\\site-packages\\sklearn\\svm\\_classes.py\", line 234, in fit\n",
      "    self.coef_, self.intercept_, self.n_iter_ = _fit_liblinear(\n",
      "  File \"C:\\Users\\skhus\\anaconda3\\lib\\site-packages\\sklearn\\svm\\_base.py\", line 974, in _fit_liblinear\n",
      "    solver_type = _get_liblinear_solver_type(multi_class, penalty, loss, dual)\n",
      "  File \"C:\\Users\\skhus\\anaconda3\\lib\\site-packages\\sklearn\\svm\\_base.py\", line 830, in _get_liblinear_solver_type\n",
      "    raise ValueError('Unsupported set of arguments: %s, '\n",
      "ValueError: Unsupported set of arguments: The combination of penalty='l1' and loss='hinge' is not supported, Parameters: penalty='l1', loss='hinge', dual=True\n",
      "\n",
      "  warnings.warn(\"Estimator fit failed. The score on this train-test\"\n",
      "C:\\Users\\skhus\\anaconda3\\lib\\site-packages\\sklearn\\model_selection\\_validation.py:610: FitFailedWarning: Estimator fit failed. The score on this train-test partition for these parameters will be set to nan. Details: \n",
      "Traceback (most recent call last):\n",
      "  File \"C:\\Users\\skhus\\anaconda3\\lib\\site-packages\\sklearn\\model_selection\\_validation.py\", line 593, in _fit_and_score\n",
      "    estimator.fit(X_train, y_train, **fit_params)\n",
      "  File \"C:\\Users\\skhus\\anaconda3\\lib\\site-packages\\sklearn\\svm\\_classes.py\", line 234, in fit\n",
      "    self.coef_, self.intercept_, self.n_iter_ = _fit_liblinear(\n",
      "  File \"C:\\Users\\skhus\\anaconda3\\lib\\site-packages\\sklearn\\svm\\_base.py\", line 974, in _fit_liblinear\n",
      "    solver_type = _get_liblinear_solver_type(multi_class, penalty, loss, dual)\n",
      "  File \"C:\\Users\\skhus\\anaconda3\\lib\\site-packages\\sklearn\\svm\\_base.py\", line 830, in _get_liblinear_solver_type\n",
      "    raise ValueError('Unsupported set of arguments: %s, '\n",
      "ValueError: Unsupported set of arguments: The combination of penalty='l1' and loss='hinge' is not supported, Parameters: penalty='l1', loss='hinge', dual=True\n",
      "\n",
      "  warnings.warn(\"Estimator fit failed. The score on this train-test\"\n",
      "C:\\Users\\skhus\\anaconda3\\lib\\site-packages\\sklearn\\model_selection\\_validation.py:610: FitFailedWarning: Estimator fit failed. The score on this train-test partition for these parameters will be set to nan. Details: \n",
      "Traceback (most recent call last):\n",
      "  File \"C:\\Users\\skhus\\anaconda3\\lib\\site-packages\\sklearn\\model_selection\\_validation.py\", line 593, in _fit_and_score\n",
      "    estimator.fit(X_train, y_train, **fit_params)\n",
      "  File \"C:\\Users\\skhus\\anaconda3\\lib\\site-packages\\sklearn\\svm\\_classes.py\", line 234, in fit\n",
      "    self.coef_, self.intercept_, self.n_iter_ = _fit_liblinear(\n",
      "  File \"C:\\Users\\skhus\\anaconda3\\lib\\site-packages\\sklearn\\svm\\_base.py\", line 974, in _fit_liblinear\n",
      "    solver_type = _get_liblinear_solver_type(multi_class, penalty, loss, dual)\n",
      "  File \"C:\\Users\\skhus\\anaconda3\\lib\\site-packages\\sklearn\\svm\\_base.py\", line 830, in _get_liblinear_solver_type\n",
      "    raise ValueError('Unsupported set of arguments: %s, '\n",
      "ValueError: Unsupported set of arguments: The combination of penalty='l1' and loss='hinge' is not supported, Parameters: penalty='l1', loss='hinge', dual=True\n",
      "\n",
      "  warnings.warn(\"Estimator fit failed. The score on this train-test\"\n",
      "C:\\Users\\skhus\\anaconda3\\lib\\site-packages\\sklearn\\model_selection\\_validation.py:610: FitFailedWarning: Estimator fit failed. The score on this train-test partition for these parameters will be set to nan. Details: \n",
      "Traceback (most recent call last):\n",
      "  File \"C:\\Users\\skhus\\anaconda3\\lib\\site-packages\\sklearn\\model_selection\\_validation.py\", line 593, in _fit_and_score\n",
      "    estimator.fit(X_train, y_train, **fit_params)\n",
      "  File \"C:\\Users\\skhus\\anaconda3\\lib\\site-packages\\sklearn\\svm\\_classes.py\", line 234, in fit\n",
      "    self.coef_, self.intercept_, self.n_iter_ = _fit_liblinear(\n",
      "  File \"C:\\Users\\skhus\\anaconda3\\lib\\site-packages\\sklearn\\svm\\_base.py\", line 974, in _fit_liblinear\n",
      "    solver_type = _get_liblinear_solver_type(multi_class, penalty, loss, dual)\n",
      "  File \"C:\\Users\\skhus\\anaconda3\\lib\\site-packages\\sklearn\\svm\\_base.py\", line 830, in _get_liblinear_solver_type\n",
      "    raise ValueError('Unsupported set of arguments: %s, '\n",
      "ValueError: Unsupported set of arguments: The combination of penalty='l1' and loss='hinge' is not supported, Parameters: penalty='l1', loss='hinge', dual=True\n",
      "\n",
      "  warnings.warn(\"Estimator fit failed. The score on this train-test\"\n",
      "C:\\Users\\skhus\\anaconda3\\lib\\site-packages\\sklearn\\model_selection\\_validation.py:610: FitFailedWarning: Estimator fit failed. The score on this train-test partition for these parameters will be set to nan. Details: \n",
      "Traceback (most recent call last):\n",
      "  File \"C:\\Users\\skhus\\anaconda3\\lib\\site-packages\\sklearn\\model_selection\\_validation.py\", line 593, in _fit_and_score\n",
      "    estimator.fit(X_train, y_train, **fit_params)\n",
      "  File \"C:\\Users\\skhus\\anaconda3\\lib\\site-packages\\sklearn\\svm\\_classes.py\", line 234, in fit\n",
      "    self.coef_, self.intercept_, self.n_iter_ = _fit_liblinear(\n",
      "  File \"C:\\Users\\skhus\\anaconda3\\lib\\site-packages\\sklearn\\svm\\_base.py\", line 974, in _fit_liblinear\n",
      "    solver_type = _get_liblinear_solver_type(multi_class, penalty, loss, dual)\n",
      "  File \"C:\\Users\\skhus\\anaconda3\\lib\\site-packages\\sklearn\\svm\\_base.py\", line 830, in _get_liblinear_solver_type\n",
      "    raise ValueError('Unsupported set of arguments: %s, '\n",
      "ValueError: Unsupported set of arguments: The combination of penalty='l1' and loss='hinge' is not supported, Parameters: penalty='l1', loss='hinge', dual=True\n",
      "\n",
      "  warnings.warn(\"Estimator fit failed. The score on this train-test\"\n",
      "C:\\Users\\skhus\\anaconda3\\lib\\site-packages\\sklearn\\svm\\_base.py:985: ConvergenceWarning: Liblinear failed to converge, increase the number of iterations.\n",
      "  warnings.warn(\"Liblinear failed to converge, increase \"\n"
     ]
    },
    {
     "name": "stdout",
     "output_type": "stream",
     "text": [
      "[CV 5/5] END C=10, dual=True, fit_intercept=True, loss=hinge, multi_class=ovr, penalty=l2; total time=   0.0s\n",
      "[CV 1/5] END C=10, dual=True, fit_intercept=True, loss=hinge, multi_class=crammer_singer, penalty=l1; total time=   0.0s\n",
      "[CV 2/5] END C=10, dual=True, fit_intercept=True, loss=hinge, multi_class=crammer_singer, penalty=l1; total time=   0.0s\n",
      "[CV 3/5] END C=10, dual=True, fit_intercept=True, loss=hinge, multi_class=crammer_singer, penalty=l1; total time=   0.1s\n",
      "[CV 4/5] END C=10, dual=True, fit_intercept=True, loss=hinge, multi_class=crammer_singer, penalty=l1; total time=   0.0s\n"
     ]
    },
    {
     "name": "stderr",
     "output_type": "stream",
     "text": [
      "C:\\Users\\skhus\\anaconda3\\lib\\site-packages\\sklearn\\svm\\_base.py:985: ConvergenceWarning: Liblinear failed to converge, increase the number of iterations.\n",
      "  warnings.warn(\"Liblinear failed to converge, increase \"\n"
     ]
    },
    {
     "name": "stdout",
     "output_type": "stream",
     "text": [
      "[CV 5/5] END C=10, dual=True, fit_intercept=True, loss=hinge, multi_class=crammer_singer, penalty=l1; total time=   2.2s\n",
      "[CV 1/5] END C=10, dual=True, fit_intercept=True, loss=hinge, multi_class=crammer_singer, penalty=l2; total time=   0.0s\n",
      "[CV 2/5] END C=10, dual=True, fit_intercept=True, loss=hinge, multi_class=crammer_singer, penalty=l2; total time=   0.0s\n",
      "[CV 3/5] END C=10, dual=True, fit_intercept=True, loss=hinge, multi_class=crammer_singer, penalty=l2; total time=   0.1s\n",
      "[CV 4/5] END C=10, dual=True, fit_intercept=True, loss=hinge, multi_class=crammer_singer, penalty=l2; total time=   0.0s\n"
     ]
    },
    {
     "name": "stderr",
     "output_type": "stream",
     "text": [
      "C:\\Users\\skhus\\anaconda3\\lib\\site-packages\\sklearn\\svm\\_base.py:985: ConvergenceWarning: Liblinear failed to converge, increase the number of iterations.\n",
      "  warnings.warn(\"Liblinear failed to converge, increase \"\n",
      "C:\\Users\\skhus\\anaconda3\\lib\\site-packages\\sklearn\\model_selection\\_validation.py:610: FitFailedWarning: Estimator fit failed. The score on this train-test partition for these parameters will be set to nan. Details: \n",
      "Traceback (most recent call last):\n",
      "  File \"C:\\Users\\skhus\\anaconda3\\lib\\site-packages\\sklearn\\model_selection\\_validation.py\", line 593, in _fit_and_score\n",
      "    estimator.fit(X_train, y_train, **fit_params)\n",
      "  File \"C:\\Users\\skhus\\anaconda3\\lib\\site-packages\\sklearn\\svm\\_classes.py\", line 234, in fit\n",
      "    self.coef_, self.intercept_, self.n_iter_ = _fit_liblinear(\n",
      "  File \"C:\\Users\\skhus\\anaconda3\\lib\\site-packages\\sklearn\\svm\\_base.py\", line 974, in _fit_liblinear\n",
      "    solver_type = _get_liblinear_solver_type(multi_class, penalty, loss, dual)\n",
      "  File \"C:\\Users\\skhus\\anaconda3\\lib\\site-packages\\sklearn\\svm\\_base.py\", line 830, in _get_liblinear_solver_type\n",
      "    raise ValueError('Unsupported set of arguments: %s, '\n",
      "ValueError: Unsupported set of arguments: The combination of penalty='l1' and loss='squared_hinge' are not supported when dual=True, Parameters: penalty='l1', loss='squared_hinge', dual=True\n",
      "\n",
      "  warnings.warn(\"Estimator fit failed. The score on this train-test\"\n",
      "C:\\Users\\skhus\\anaconda3\\lib\\site-packages\\sklearn\\model_selection\\_validation.py:610: FitFailedWarning: Estimator fit failed. The score on this train-test partition for these parameters will be set to nan. Details: \n",
      "Traceback (most recent call last):\n",
      "  File \"C:\\Users\\skhus\\anaconda3\\lib\\site-packages\\sklearn\\model_selection\\_validation.py\", line 593, in _fit_and_score\n",
      "    estimator.fit(X_train, y_train, **fit_params)\n",
      "  File \"C:\\Users\\skhus\\anaconda3\\lib\\site-packages\\sklearn\\svm\\_classes.py\", line 234, in fit\n",
      "    self.coef_, self.intercept_, self.n_iter_ = _fit_liblinear(\n",
      "  File \"C:\\Users\\skhus\\anaconda3\\lib\\site-packages\\sklearn\\svm\\_base.py\", line 974, in _fit_liblinear\n",
      "    solver_type = _get_liblinear_solver_type(multi_class, penalty, loss, dual)\n",
      "  File \"C:\\Users\\skhus\\anaconda3\\lib\\site-packages\\sklearn\\svm\\_base.py\", line 830, in _get_liblinear_solver_type\n",
      "    raise ValueError('Unsupported set of arguments: %s, '\n",
      "ValueError: Unsupported set of arguments: The combination of penalty='l1' and loss='squared_hinge' are not supported when dual=True, Parameters: penalty='l1', loss='squared_hinge', dual=True\n",
      "\n",
      "  warnings.warn(\"Estimator fit failed. The score on this train-test\"\n",
      "C:\\Users\\skhus\\anaconda3\\lib\\site-packages\\sklearn\\model_selection\\_validation.py:610: FitFailedWarning: Estimator fit failed. The score on this train-test partition for these parameters will be set to nan. Details: \n",
      "Traceback (most recent call last):\n",
      "  File \"C:\\Users\\skhus\\anaconda3\\lib\\site-packages\\sklearn\\model_selection\\_validation.py\", line 593, in _fit_and_score\n",
      "    estimator.fit(X_train, y_train, **fit_params)\n",
      "  File \"C:\\Users\\skhus\\anaconda3\\lib\\site-packages\\sklearn\\svm\\_classes.py\", line 234, in fit\n",
      "    self.coef_, self.intercept_, self.n_iter_ = _fit_liblinear(\n",
      "  File \"C:\\Users\\skhus\\anaconda3\\lib\\site-packages\\sklearn\\svm\\_base.py\", line 974, in _fit_liblinear\n",
      "    solver_type = _get_liblinear_solver_type(multi_class, penalty, loss, dual)\n",
      "  File \"C:\\Users\\skhus\\anaconda3\\lib\\site-packages\\sklearn\\svm\\_base.py\", line 830, in _get_liblinear_solver_type\n",
      "    raise ValueError('Unsupported set of arguments: %s, '\n",
      "ValueError: Unsupported set of arguments: The combination of penalty='l1' and loss='squared_hinge' are not supported when dual=True, Parameters: penalty='l1', loss='squared_hinge', dual=True\n",
      "\n",
      "  warnings.warn(\"Estimator fit failed. The score on this train-test\"\n",
      "C:\\Users\\skhus\\anaconda3\\lib\\site-packages\\sklearn\\model_selection\\_validation.py:610: FitFailedWarning: Estimator fit failed. The score on this train-test partition for these parameters will be set to nan. Details: \n",
      "Traceback (most recent call last):\n",
      "  File \"C:\\Users\\skhus\\anaconda3\\lib\\site-packages\\sklearn\\model_selection\\_validation.py\", line 593, in _fit_and_score\n",
      "    estimator.fit(X_train, y_train, **fit_params)\n",
      "  File \"C:\\Users\\skhus\\anaconda3\\lib\\site-packages\\sklearn\\svm\\_classes.py\", line 234, in fit\n",
      "    self.coef_, self.intercept_, self.n_iter_ = _fit_liblinear(\n",
      "  File \"C:\\Users\\skhus\\anaconda3\\lib\\site-packages\\sklearn\\svm\\_base.py\", line 974, in _fit_liblinear\n",
      "    solver_type = _get_liblinear_solver_type(multi_class, penalty, loss, dual)\n",
      "  File \"C:\\Users\\skhus\\anaconda3\\lib\\site-packages\\sklearn\\svm\\_base.py\", line 830, in _get_liblinear_solver_type\n",
      "    raise ValueError('Unsupported set of arguments: %s, '\n",
      "ValueError: Unsupported set of arguments: The combination of penalty='l1' and loss='squared_hinge' are not supported when dual=True, Parameters: penalty='l1', loss='squared_hinge', dual=True\n",
      "\n",
      "  warnings.warn(\"Estimator fit failed. The score on this train-test\"\n",
      "C:\\Users\\skhus\\anaconda3\\lib\\site-packages\\sklearn\\model_selection\\_validation.py:610: FitFailedWarning: Estimator fit failed. The score on this train-test partition for these parameters will be set to nan. Details: \n",
      "Traceback (most recent call last):\n",
      "  File \"C:\\Users\\skhus\\anaconda3\\lib\\site-packages\\sklearn\\model_selection\\_validation.py\", line 593, in _fit_and_score\n",
      "    estimator.fit(X_train, y_train, **fit_params)\n",
      "  File \"C:\\Users\\skhus\\anaconda3\\lib\\site-packages\\sklearn\\svm\\_classes.py\", line 234, in fit\n",
      "    self.coef_, self.intercept_, self.n_iter_ = _fit_liblinear(\n",
      "  File \"C:\\Users\\skhus\\anaconda3\\lib\\site-packages\\sklearn\\svm\\_base.py\", line 974, in _fit_liblinear\n",
      "    solver_type = _get_liblinear_solver_type(multi_class, penalty, loss, dual)\n",
      "  File \"C:\\Users\\skhus\\anaconda3\\lib\\site-packages\\sklearn\\svm\\_base.py\", line 830, in _get_liblinear_solver_type\n",
      "    raise ValueError('Unsupported set of arguments: %s, '\n",
      "ValueError: Unsupported set of arguments: The combination of penalty='l1' and loss='squared_hinge' are not supported when dual=True, Parameters: penalty='l1', loss='squared_hinge', dual=True\n",
      "\n",
      "  warnings.warn(\"Estimator fit failed. The score on this train-test\"\n"
     ]
    },
    {
     "name": "stdout",
     "output_type": "stream",
     "text": [
      "[CV 5/5] END C=10, dual=True, fit_intercept=True, loss=hinge, multi_class=crammer_singer, penalty=l2; total time=   5.8s\n",
      "[CV 1/5] END C=10, dual=True, fit_intercept=True, loss=squared_hinge, multi_class=ovr, penalty=l1; total time=   0.0s\n",
      "[CV 2/5] END C=10, dual=True, fit_intercept=True, loss=squared_hinge, multi_class=ovr, penalty=l1; total time=   0.0s\n",
      "[CV 3/5] END C=10, dual=True, fit_intercept=True, loss=squared_hinge, multi_class=ovr, penalty=l1; total time=   0.0s\n",
      "[CV 4/5] END C=10, dual=True, fit_intercept=True, loss=squared_hinge, multi_class=ovr, penalty=l1; total time=   0.0s\n",
      "[CV 5/5] END C=10, dual=True, fit_intercept=True, loss=squared_hinge, multi_class=ovr, penalty=l1; total time=   0.0s\n",
      "[CV 1/5] END C=10, dual=True, fit_intercept=True, loss=squared_hinge, multi_class=ovr, penalty=l2; total time=   0.0s\n",
      "[CV 2/5] END C=10, dual=True, fit_intercept=True, loss=squared_hinge, multi_class=ovr, penalty=l2; total time=   0.0s\n",
      "[CV 3/5] END C=10, dual=True, fit_intercept=True, loss=squared_hinge, multi_class=ovr, penalty=l2; total time=   0.0s\n",
      "[CV 4/5] END C=10, dual=True, fit_intercept=True, loss=squared_hinge, multi_class=ovr, penalty=l2; total time=   0.0s\n",
      "[CV 5/5] END C=10, dual=True, fit_intercept=True, loss=squared_hinge, multi_class=ovr, penalty=l2; total time=   0.0s\n",
      "[CV 1/5] END C=10, dual=True, fit_intercept=True, loss=squared_hinge, multi_class=crammer_singer, penalty=l1; total time=   0.0s\n",
      "[CV 2/5] END C=10, dual=True, fit_intercept=True, loss=squared_hinge, multi_class=crammer_singer, penalty=l1; total time=   0.0s\n",
      "[CV 3/5] END C=10, dual=True, fit_intercept=True, loss=squared_hinge, multi_class=crammer_singer, penalty=l1; total time=   0.2s\n",
      "[CV 4/5] END C=10, dual=True, fit_intercept=True, loss=squared_hinge, multi_class=crammer_singer, penalty=l1; total time=   0.0s\n"
     ]
    },
    {
     "name": "stderr",
     "output_type": "stream",
     "text": [
      "C:\\Users\\skhus\\anaconda3\\lib\\site-packages\\sklearn\\svm\\_base.py:985: ConvergenceWarning: Liblinear failed to converge, increase the number of iterations.\n",
      "  warnings.warn(\"Liblinear failed to converge, increase \"\n"
     ]
    },
    {
     "name": "stdout",
     "output_type": "stream",
     "text": [
      "[CV 5/5] END C=10, dual=True, fit_intercept=True, loss=squared_hinge, multi_class=crammer_singer, penalty=l1; total time=   5.8s\n",
      "[CV 1/5] END C=10, dual=True, fit_intercept=True, loss=squared_hinge, multi_class=crammer_singer, penalty=l2; total time=   0.0s\n",
      "[CV 2/5] END C=10, dual=True, fit_intercept=True, loss=squared_hinge, multi_class=crammer_singer, penalty=l2; total time=   0.0s\n",
      "[CV 3/5] END C=10, dual=True, fit_intercept=True, loss=squared_hinge, multi_class=crammer_singer, penalty=l2; total time=   0.2s\n",
      "[CV 4/5] END C=10, dual=True, fit_intercept=True, loss=squared_hinge, multi_class=crammer_singer, penalty=l2; total time=   0.0s\n"
     ]
    },
    {
     "name": "stderr",
     "output_type": "stream",
     "text": [
      "C:\\Users\\skhus\\anaconda3\\lib\\site-packages\\sklearn\\svm\\_base.py:985: ConvergenceWarning: Liblinear failed to converge, increase the number of iterations.\n",
      "  warnings.warn(\"Liblinear failed to converge, increase \"\n",
      "C:\\Users\\skhus\\anaconda3\\lib\\site-packages\\sklearn\\model_selection\\_validation.py:610: FitFailedWarning: Estimator fit failed. The score on this train-test partition for these parameters will be set to nan. Details: \n",
      "Traceback (most recent call last):\n",
      "  File \"C:\\Users\\skhus\\anaconda3\\lib\\site-packages\\sklearn\\model_selection\\_validation.py\", line 593, in _fit_and_score\n",
      "    estimator.fit(X_train, y_train, **fit_params)\n",
      "  File \"C:\\Users\\skhus\\anaconda3\\lib\\site-packages\\sklearn\\svm\\_classes.py\", line 234, in fit\n",
      "    self.coef_, self.intercept_, self.n_iter_ = _fit_liblinear(\n",
      "  File \"C:\\Users\\skhus\\anaconda3\\lib\\site-packages\\sklearn\\svm\\_base.py\", line 974, in _fit_liblinear\n",
      "    solver_type = _get_liblinear_solver_type(multi_class, penalty, loss, dual)\n",
      "  File \"C:\\Users\\skhus\\anaconda3\\lib\\site-packages\\sklearn\\svm\\_base.py\", line 830, in _get_liblinear_solver_type\n",
      "    raise ValueError('Unsupported set of arguments: %s, '\n",
      "ValueError: Unsupported set of arguments: The combination of penalty='l1' and loss='hinge' is not supported, Parameters: penalty='l1', loss='hinge', dual=False\n",
      "\n",
      "  warnings.warn(\"Estimator fit failed. The score on this train-test\"\n",
      "C:\\Users\\skhus\\anaconda3\\lib\\site-packages\\sklearn\\model_selection\\_validation.py:610: FitFailedWarning: Estimator fit failed. The score on this train-test partition for these parameters will be set to nan. Details: \n",
      "Traceback (most recent call last):\n",
      "  File \"C:\\Users\\skhus\\anaconda3\\lib\\site-packages\\sklearn\\model_selection\\_validation.py\", line 593, in _fit_and_score\n",
      "    estimator.fit(X_train, y_train, **fit_params)\n",
      "  File \"C:\\Users\\skhus\\anaconda3\\lib\\site-packages\\sklearn\\svm\\_classes.py\", line 234, in fit\n",
      "    self.coef_, self.intercept_, self.n_iter_ = _fit_liblinear(\n",
      "  File \"C:\\Users\\skhus\\anaconda3\\lib\\site-packages\\sklearn\\svm\\_base.py\", line 974, in _fit_liblinear\n",
      "    solver_type = _get_liblinear_solver_type(multi_class, penalty, loss, dual)\n",
      "  File \"C:\\Users\\skhus\\anaconda3\\lib\\site-packages\\sklearn\\svm\\_base.py\", line 830, in _get_liblinear_solver_type\n",
      "    raise ValueError('Unsupported set of arguments: %s, '\n",
      "ValueError: Unsupported set of arguments: The combination of penalty='l1' and loss='hinge' is not supported, Parameters: penalty='l1', loss='hinge', dual=False\n",
      "\n",
      "  warnings.warn(\"Estimator fit failed. The score on this train-test\"\n",
      "C:\\Users\\skhus\\anaconda3\\lib\\site-packages\\sklearn\\model_selection\\_validation.py:610: FitFailedWarning: Estimator fit failed. The score on this train-test partition for these parameters will be set to nan. Details: \n",
      "Traceback (most recent call last):\n",
      "  File \"C:\\Users\\skhus\\anaconda3\\lib\\site-packages\\sklearn\\model_selection\\_validation.py\", line 593, in _fit_and_score\n",
      "    estimator.fit(X_train, y_train, **fit_params)\n",
      "  File \"C:\\Users\\skhus\\anaconda3\\lib\\site-packages\\sklearn\\svm\\_classes.py\", line 234, in fit\n",
      "    self.coef_, self.intercept_, self.n_iter_ = _fit_liblinear(\n",
      "  File \"C:\\Users\\skhus\\anaconda3\\lib\\site-packages\\sklearn\\svm\\_base.py\", line 974, in _fit_liblinear\n",
      "    solver_type = _get_liblinear_solver_type(multi_class, penalty, loss, dual)\n",
      "  File \"C:\\Users\\skhus\\anaconda3\\lib\\site-packages\\sklearn\\svm\\_base.py\", line 830, in _get_liblinear_solver_type\n",
      "    raise ValueError('Unsupported set of arguments: %s, '\n",
      "ValueError: Unsupported set of arguments: The combination of penalty='l1' and loss='hinge' is not supported, Parameters: penalty='l1', loss='hinge', dual=False\n",
      "\n",
      "  warnings.warn(\"Estimator fit failed. The score on this train-test\"\n",
      "C:\\Users\\skhus\\anaconda3\\lib\\site-packages\\sklearn\\model_selection\\_validation.py:610: FitFailedWarning: Estimator fit failed. The score on this train-test partition for these parameters will be set to nan. Details: \n",
      "Traceback (most recent call last):\n",
      "  File \"C:\\Users\\skhus\\anaconda3\\lib\\site-packages\\sklearn\\model_selection\\_validation.py\", line 593, in _fit_and_score\n",
      "    estimator.fit(X_train, y_train, **fit_params)\n",
      "  File \"C:\\Users\\skhus\\anaconda3\\lib\\site-packages\\sklearn\\svm\\_classes.py\", line 234, in fit\n",
      "    self.coef_, self.intercept_, self.n_iter_ = _fit_liblinear(\n",
      "  File \"C:\\Users\\skhus\\anaconda3\\lib\\site-packages\\sklearn\\svm\\_base.py\", line 974, in _fit_liblinear\n",
      "    solver_type = _get_liblinear_solver_type(multi_class, penalty, loss, dual)\n",
      "  File \"C:\\Users\\skhus\\anaconda3\\lib\\site-packages\\sklearn\\svm\\_base.py\", line 830, in _get_liblinear_solver_type\n",
      "    raise ValueError('Unsupported set of arguments: %s, '\n",
      "ValueError: Unsupported set of arguments: The combination of penalty='l1' and loss='hinge' is not supported, Parameters: penalty='l1', loss='hinge', dual=False\n",
      "\n",
      "  warnings.warn(\"Estimator fit failed. The score on this train-test\"\n",
      "C:\\Users\\skhus\\anaconda3\\lib\\site-packages\\sklearn\\model_selection\\_validation.py:610: FitFailedWarning: Estimator fit failed. The score on this train-test partition for these parameters will be set to nan. Details: \n",
      "Traceback (most recent call last):\n",
      "  File \"C:\\Users\\skhus\\anaconda3\\lib\\site-packages\\sklearn\\model_selection\\_validation.py\", line 593, in _fit_and_score\n",
      "    estimator.fit(X_train, y_train, **fit_params)\n",
      "  File \"C:\\Users\\skhus\\anaconda3\\lib\\site-packages\\sklearn\\svm\\_classes.py\", line 234, in fit\n",
      "    self.coef_, self.intercept_, self.n_iter_ = _fit_liblinear(\n",
      "  File \"C:\\Users\\skhus\\anaconda3\\lib\\site-packages\\sklearn\\svm\\_base.py\", line 974, in _fit_liblinear\n",
      "    solver_type = _get_liblinear_solver_type(multi_class, penalty, loss, dual)\n",
      "  File \"C:\\Users\\skhus\\anaconda3\\lib\\site-packages\\sklearn\\svm\\_base.py\", line 830, in _get_liblinear_solver_type\n",
      "    raise ValueError('Unsupported set of arguments: %s, '\n",
      "ValueError: Unsupported set of arguments: The combination of penalty='l1' and loss='hinge' is not supported, Parameters: penalty='l1', loss='hinge', dual=False\n",
      "\n",
      "  warnings.warn(\"Estimator fit failed. The score on this train-test\"\n",
      "C:\\Users\\skhus\\anaconda3\\lib\\site-packages\\sklearn\\model_selection\\_validation.py:610: FitFailedWarning: Estimator fit failed. The score on this train-test partition for these parameters will be set to nan. Details: \n",
      "Traceback (most recent call last):\n",
      "  File \"C:\\Users\\skhus\\anaconda3\\lib\\site-packages\\sklearn\\model_selection\\_validation.py\", line 593, in _fit_and_score\n",
      "    estimator.fit(X_train, y_train, **fit_params)\n",
      "  File \"C:\\Users\\skhus\\anaconda3\\lib\\site-packages\\sklearn\\svm\\_classes.py\", line 234, in fit\n",
      "    self.coef_, self.intercept_, self.n_iter_ = _fit_liblinear(\n",
      "  File \"C:\\Users\\skhus\\anaconda3\\lib\\site-packages\\sklearn\\svm\\_base.py\", line 974, in _fit_liblinear\n",
      "    solver_type = _get_liblinear_solver_type(multi_class, penalty, loss, dual)\n",
      "  File \"C:\\Users\\skhus\\anaconda3\\lib\\site-packages\\sklearn\\svm\\_base.py\", line 830, in _get_liblinear_solver_type\n",
      "    raise ValueError('Unsupported set of arguments: %s, '\n",
      "ValueError: Unsupported set of arguments: The combination of penalty='l2' and loss='hinge' are not supported when dual=False, Parameters: penalty='l2', loss='hinge', dual=False\n",
      "\n",
      "  warnings.warn(\"Estimator fit failed. The score on this train-test\"\n",
      "C:\\Users\\skhus\\anaconda3\\lib\\site-packages\\sklearn\\model_selection\\_validation.py:610: FitFailedWarning: Estimator fit failed. The score on this train-test partition for these parameters will be set to nan. Details: \n",
      "Traceback (most recent call last):\n",
      "  File \"C:\\Users\\skhus\\anaconda3\\lib\\site-packages\\sklearn\\model_selection\\_validation.py\", line 593, in _fit_and_score\n",
      "    estimator.fit(X_train, y_train, **fit_params)\n",
      "  File \"C:\\Users\\skhus\\anaconda3\\lib\\site-packages\\sklearn\\svm\\_classes.py\", line 234, in fit\n",
      "    self.coef_, self.intercept_, self.n_iter_ = _fit_liblinear(\n",
      "  File \"C:\\Users\\skhus\\anaconda3\\lib\\site-packages\\sklearn\\svm\\_base.py\", line 974, in _fit_liblinear\n",
      "    solver_type = _get_liblinear_solver_type(multi_class, penalty, loss, dual)\n",
      "  File \"C:\\Users\\skhus\\anaconda3\\lib\\site-packages\\sklearn\\svm\\_base.py\", line 830, in _get_liblinear_solver_type\n",
      "    raise ValueError('Unsupported set of arguments: %s, '\n",
      "ValueError: Unsupported set of arguments: The combination of penalty='l2' and loss='hinge' are not supported when dual=False, Parameters: penalty='l2', loss='hinge', dual=False\n",
      "\n",
      "  warnings.warn(\"Estimator fit failed. The score on this train-test\"\n",
      "C:\\Users\\skhus\\anaconda3\\lib\\site-packages\\sklearn\\model_selection\\_validation.py:610: FitFailedWarning: Estimator fit failed. The score on this train-test partition for these parameters will be set to nan. Details: \n",
      "Traceback (most recent call last):\n",
      "  File \"C:\\Users\\skhus\\anaconda3\\lib\\site-packages\\sklearn\\model_selection\\_validation.py\", line 593, in _fit_and_score\n",
      "    estimator.fit(X_train, y_train, **fit_params)\n",
      "  File \"C:\\Users\\skhus\\anaconda3\\lib\\site-packages\\sklearn\\svm\\_classes.py\", line 234, in fit\n",
      "    self.coef_, self.intercept_, self.n_iter_ = _fit_liblinear(\n",
      "  File \"C:\\Users\\skhus\\anaconda3\\lib\\site-packages\\sklearn\\svm\\_base.py\", line 974, in _fit_liblinear\n",
      "    solver_type = _get_liblinear_solver_type(multi_class, penalty, loss, dual)\n",
      "  File \"C:\\Users\\skhus\\anaconda3\\lib\\site-packages\\sklearn\\svm\\_base.py\", line 830, in _get_liblinear_solver_type\n",
      "    raise ValueError('Unsupported set of arguments: %s, '\n",
      "ValueError: Unsupported set of arguments: The combination of penalty='l2' and loss='hinge' are not supported when dual=False, Parameters: penalty='l2', loss='hinge', dual=False\n",
      "\n",
      "  warnings.warn(\"Estimator fit failed. The score on this train-test\"\n",
      "C:\\Users\\skhus\\anaconda3\\lib\\site-packages\\sklearn\\model_selection\\_validation.py:610: FitFailedWarning: Estimator fit failed. The score on this train-test partition for these parameters will be set to nan. Details: \n",
      "Traceback (most recent call last):\n",
      "  File \"C:\\Users\\skhus\\anaconda3\\lib\\site-packages\\sklearn\\model_selection\\_validation.py\", line 593, in _fit_and_score\n",
      "    estimator.fit(X_train, y_train, **fit_params)\n",
      "  File \"C:\\Users\\skhus\\anaconda3\\lib\\site-packages\\sklearn\\svm\\_classes.py\", line 234, in fit\n",
      "    self.coef_, self.intercept_, self.n_iter_ = _fit_liblinear(\n",
      "  File \"C:\\Users\\skhus\\anaconda3\\lib\\site-packages\\sklearn\\svm\\_base.py\", line 974, in _fit_liblinear\n",
      "    solver_type = _get_liblinear_solver_type(multi_class, penalty, loss, dual)\n",
      "  File \"C:\\Users\\skhus\\anaconda3\\lib\\site-packages\\sklearn\\svm\\_base.py\", line 830, in _get_liblinear_solver_type\n",
      "    raise ValueError('Unsupported set of arguments: %s, '\n",
      "ValueError: Unsupported set of arguments: The combination of penalty='l2' and loss='hinge' are not supported when dual=False, Parameters: penalty='l2', loss='hinge', dual=False\n",
      "\n",
      "  warnings.warn(\"Estimator fit failed. The score on this train-test\"\n",
      "C:\\Users\\skhus\\anaconda3\\lib\\site-packages\\sklearn\\model_selection\\_validation.py:610: FitFailedWarning: Estimator fit failed. The score on this train-test partition for these parameters will be set to nan. Details: \n",
      "Traceback (most recent call last):\n",
      "  File \"C:\\Users\\skhus\\anaconda3\\lib\\site-packages\\sklearn\\model_selection\\_validation.py\", line 593, in _fit_and_score\n",
      "    estimator.fit(X_train, y_train, **fit_params)\n",
      "  File \"C:\\Users\\skhus\\anaconda3\\lib\\site-packages\\sklearn\\svm\\_classes.py\", line 234, in fit\n",
      "    self.coef_, self.intercept_, self.n_iter_ = _fit_liblinear(\n",
      "  File \"C:\\Users\\skhus\\anaconda3\\lib\\site-packages\\sklearn\\svm\\_base.py\", line 974, in _fit_liblinear\n",
      "    solver_type = _get_liblinear_solver_type(multi_class, penalty, loss, dual)\n",
      "  File \"C:\\Users\\skhus\\anaconda3\\lib\\site-packages\\sklearn\\svm\\_base.py\", line 830, in _get_liblinear_solver_type\n",
      "    raise ValueError('Unsupported set of arguments: %s, '\n",
      "ValueError: Unsupported set of arguments: The combination of penalty='l2' and loss='hinge' are not supported when dual=False, Parameters: penalty='l2', loss='hinge', dual=False\n",
      "\n",
      "  warnings.warn(\"Estimator fit failed. The score on this train-test\"\n"
     ]
    },
    {
     "name": "stdout",
     "output_type": "stream",
     "text": [
      "[CV 5/5] END C=10, dual=True, fit_intercept=True, loss=squared_hinge, multi_class=crammer_singer, penalty=l2; total time=   5.3s\n",
      "[CV 1/5] END C=100, dual=False, fit_intercept=False, loss=hinge, multi_class=ovr, penalty=l1; total time=   0.0s\n",
      "[CV 2/5] END C=100, dual=False, fit_intercept=False, loss=hinge, multi_class=ovr, penalty=l1; total time=   0.0s\n",
      "[CV 3/5] END C=100, dual=False, fit_intercept=False, loss=hinge, multi_class=ovr, penalty=l1; total time=   0.0s\n",
      "[CV 4/5] END C=100, dual=False, fit_intercept=False, loss=hinge, multi_class=ovr, penalty=l1; total time=   0.0s\n",
      "[CV 5/5] END C=100, dual=False, fit_intercept=False, loss=hinge, multi_class=ovr, penalty=l1; total time=   0.0s\n",
      "[CV 1/5] END C=100, dual=False, fit_intercept=False, loss=hinge, multi_class=ovr, penalty=l2; total time=   0.0s\n",
      "[CV 2/5] END C=100, dual=False, fit_intercept=False, loss=hinge, multi_class=ovr, penalty=l2; total time=   0.0s\n",
      "[CV 3/5] END C=100, dual=False, fit_intercept=False, loss=hinge, multi_class=ovr, penalty=l2; total time=   0.0s\n",
      "[CV 4/5] END C=100, dual=False, fit_intercept=False, loss=hinge, multi_class=ovr, penalty=l2; total time=   0.0s\n",
      "[CV 5/5] END C=100, dual=False, fit_intercept=False, loss=hinge, multi_class=ovr, penalty=l2; total time=   0.0s\n",
      "[CV 1/5] END C=100, dual=False, fit_intercept=False, loss=hinge, multi_class=crammer_singer, penalty=l1; total time=   0.0s\n",
      "[CV 2/5] END C=100, dual=False, fit_intercept=False, loss=hinge, multi_class=crammer_singer, penalty=l1; total time=   0.3s\n",
      "[CV 3/5] END C=100, dual=False, fit_intercept=False, loss=hinge, multi_class=crammer_singer, penalty=l1; total time=   0.0s\n",
      "[CV 4/5] END C=100, dual=False, fit_intercept=False, loss=hinge, multi_class=crammer_singer, penalty=l1; total time=   0.0s\n",
      "[CV 5/5] END C=100, dual=False, fit_intercept=False, loss=hinge, multi_class=crammer_singer, penalty=l1; total time=   0.0s\n",
      "[CV 1/5] END C=100, dual=False, fit_intercept=False, loss=hinge, multi_class=crammer_singer, penalty=l2; total time=   0.0s\n",
      "[CV 2/5] END C=100, dual=False, fit_intercept=False, loss=hinge, multi_class=crammer_singer, penalty=l2; total time=   0.3s\n",
      "[CV 3/5] END C=100, dual=False, fit_intercept=False, loss=hinge, multi_class=crammer_singer, penalty=l2; total time=   0.0s\n",
      "[CV 4/5] END C=100, dual=False, fit_intercept=False, loss=hinge, multi_class=crammer_singer, penalty=l2; total time=   0.0s\n",
      "[CV 5/5] END C=100, dual=False, fit_intercept=False, loss=hinge, multi_class=crammer_singer, penalty=l2; total time=   0.0s\n"
     ]
    },
    {
     "name": "stderr",
     "output_type": "stream",
     "text": [
      "C:\\Users\\skhus\\anaconda3\\lib\\site-packages\\sklearn\\svm\\_base.py:985: ConvergenceWarning: Liblinear failed to converge, increase the number of iterations.\n",
      "  warnings.warn(\"Liblinear failed to converge, increase \"\n",
      "C:\\Users\\skhus\\anaconda3\\lib\\site-packages\\sklearn\\svm\\_base.py:985: ConvergenceWarning: Liblinear failed to converge, increase the number of iterations.\n",
      "  warnings.warn(\"Liblinear failed to converge, increase \"\n"
     ]
    },
    {
     "name": "stdout",
     "output_type": "stream",
     "text": [
      "[CV 1/5] END C=100, dual=False, fit_intercept=False, loss=squared_hinge, multi_class=ovr, penalty=l1; total time=   0.0s\n",
      "[CV 2/5] END C=100, dual=False, fit_intercept=False, loss=squared_hinge, multi_class=ovr, penalty=l1; total time=   0.0s\n"
     ]
    },
    {
     "name": "stderr",
     "output_type": "stream",
     "text": [
      "C:\\Users\\skhus\\anaconda3\\lib\\site-packages\\sklearn\\svm\\_base.py:985: ConvergenceWarning: Liblinear failed to converge, increase the number of iterations.\n",
      "  warnings.warn(\"Liblinear failed to converge, increase \"\n",
      "C:\\Users\\skhus\\anaconda3\\lib\\site-packages\\sklearn\\svm\\_base.py:985: ConvergenceWarning: Liblinear failed to converge, increase the number of iterations.\n",
      "  warnings.warn(\"Liblinear failed to converge, increase \"\n"
     ]
    },
    {
     "name": "stdout",
     "output_type": "stream",
     "text": [
      "[CV 3/5] END C=100, dual=False, fit_intercept=False, loss=squared_hinge, multi_class=ovr, penalty=l1; total time=   0.0s\n",
      "[CV 4/5] END C=100, dual=False, fit_intercept=False, loss=squared_hinge, multi_class=ovr, penalty=l1; total time=   0.0s\n"
     ]
    },
    {
     "name": "stderr",
     "output_type": "stream",
     "text": [
      "C:\\Users\\skhus\\anaconda3\\lib\\site-packages\\sklearn\\svm\\_base.py:985: ConvergenceWarning: Liblinear failed to converge, increase the number of iterations.\n",
      "  warnings.warn(\"Liblinear failed to converge, increase \"\n"
     ]
    },
    {
     "name": "stdout",
     "output_type": "stream",
     "text": [
      "[CV 5/5] END C=100, dual=False, fit_intercept=False, loss=squared_hinge, multi_class=ovr, penalty=l1; total time=   0.0s\n",
      "[CV 1/5] END C=100, dual=False, fit_intercept=False, loss=squared_hinge, multi_class=ovr, penalty=l2; total time=   0.1s\n",
      "[CV 2/5] END C=100, dual=False, fit_intercept=False, loss=squared_hinge, multi_class=ovr, penalty=l2; total time=   0.1s\n",
      "[CV 3/5] END C=100, dual=False, fit_intercept=False, loss=squared_hinge, multi_class=ovr, penalty=l2; total time=   0.2s\n",
      "[CV 4/5] END C=100, dual=False, fit_intercept=False, loss=squared_hinge, multi_class=ovr, penalty=l2; total time=   0.0s\n",
      "[CV 5/5] END C=100, dual=False, fit_intercept=False, loss=squared_hinge, multi_class=ovr, penalty=l2; total time=   0.0s\n",
      "[CV 1/5] END C=100, dual=False, fit_intercept=False, loss=squared_hinge, multi_class=crammer_singer, penalty=l1; total time=   0.0s\n",
      "[CV 2/5] END C=100, dual=False, fit_intercept=False, loss=squared_hinge, multi_class=crammer_singer, penalty=l1; total time=   0.3s\n",
      "[CV 3/5] END C=100, dual=False, fit_intercept=False, loss=squared_hinge, multi_class=crammer_singer, penalty=l1; total time=   0.0s\n",
      "[CV 4/5] END C=100, dual=False, fit_intercept=False, loss=squared_hinge, multi_class=crammer_singer, penalty=l1; total time=   0.0s\n",
      "[CV 5/5] END C=100, dual=False, fit_intercept=False, loss=squared_hinge, multi_class=crammer_singer, penalty=l1; total time=   0.0s\n",
      "[CV 1/5] END C=100, dual=False, fit_intercept=False, loss=squared_hinge, multi_class=crammer_singer, penalty=l2; total time=   0.0s\n",
      "[CV 2/5] END C=100, dual=False, fit_intercept=False, loss=squared_hinge, multi_class=crammer_singer, penalty=l2; total time=   0.3s\n",
      "[CV 3/5] END C=100, dual=False, fit_intercept=False, loss=squared_hinge, multi_class=crammer_singer, penalty=l2; total time=   0.0s\n",
      "[CV 4/5] END C=100, dual=False, fit_intercept=False, loss=squared_hinge, multi_class=crammer_singer, penalty=l2; total time=   0.0s\n",
      "[CV 5/5] END C=100, dual=False, fit_intercept=False, loss=squared_hinge, multi_class=crammer_singer, penalty=l2; total time=   0.0s\n"
     ]
    },
    {
     "name": "stderr",
     "output_type": "stream",
     "text": [
      "C:\\Users\\skhus\\anaconda3\\lib\\site-packages\\sklearn\\model_selection\\_validation.py:610: FitFailedWarning: Estimator fit failed. The score on this train-test partition for these parameters will be set to nan. Details: \n",
      "Traceback (most recent call last):\n",
      "  File \"C:\\Users\\skhus\\anaconda3\\lib\\site-packages\\sklearn\\model_selection\\_validation.py\", line 593, in _fit_and_score\n",
      "    estimator.fit(X_train, y_train, **fit_params)\n",
      "  File \"C:\\Users\\skhus\\anaconda3\\lib\\site-packages\\sklearn\\svm\\_classes.py\", line 234, in fit\n",
      "    self.coef_, self.intercept_, self.n_iter_ = _fit_liblinear(\n",
      "  File \"C:\\Users\\skhus\\anaconda3\\lib\\site-packages\\sklearn\\svm\\_base.py\", line 974, in _fit_liblinear\n",
      "    solver_type = _get_liblinear_solver_type(multi_class, penalty, loss, dual)\n",
      "  File \"C:\\Users\\skhus\\anaconda3\\lib\\site-packages\\sklearn\\svm\\_base.py\", line 830, in _get_liblinear_solver_type\n",
      "    raise ValueError('Unsupported set of arguments: %s, '\n",
      "ValueError: Unsupported set of arguments: The combination of penalty='l1' and loss='hinge' is not supported, Parameters: penalty='l1', loss='hinge', dual=False\n",
      "\n",
      "  warnings.warn(\"Estimator fit failed. The score on this train-test\"\n",
      "C:\\Users\\skhus\\anaconda3\\lib\\site-packages\\sklearn\\model_selection\\_validation.py:610: FitFailedWarning: Estimator fit failed. The score on this train-test partition for these parameters will be set to nan. Details: \n",
      "Traceback (most recent call last):\n",
      "  File \"C:\\Users\\skhus\\anaconda3\\lib\\site-packages\\sklearn\\model_selection\\_validation.py\", line 593, in _fit_and_score\n",
      "    estimator.fit(X_train, y_train, **fit_params)\n",
      "  File \"C:\\Users\\skhus\\anaconda3\\lib\\site-packages\\sklearn\\svm\\_classes.py\", line 234, in fit\n",
      "    self.coef_, self.intercept_, self.n_iter_ = _fit_liblinear(\n",
      "  File \"C:\\Users\\skhus\\anaconda3\\lib\\site-packages\\sklearn\\svm\\_base.py\", line 974, in _fit_liblinear\n",
      "    solver_type = _get_liblinear_solver_type(multi_class, penalty, loss, dual)\n",
      "  File \"C:\\Users\\skhus\\anaconda3\\lib\\site-packages\\sklearn\\svm\\_base.py\", line 830, in _get_liblinear_solver_type\n",
      "    raise ValueError('Unsupported set of arguments: %s, '\n",
      "ValueError: Unsupported set of arguments: The combination of penalty='l1' and loss='hinge' is not supported, Parameters: penalty='l1', loss='hinge', dual=False\n",
      "\n",
      "  warnings.warn(\"Estimator fit failed. The score on this train-test\"\n",
      "C:\\Users\\skhus\\anaconda3\\lib\\site-packages\\sklearn\\model_selection\\_validation.py:610: FitFailedWarning: Estimator fit failed. The score on this train-test partition for these parameters will be set to nan. Details: \n",
      "Traceback (most recent call last):\n",
      "  File \"C:\\Users\\skhus\\anaconda3\\lib\\site-packages\\sklearn\\model_selection\\_validation.py\", line 593, in _fit_and_score\n",
      "    estimator.fit(X_train, y_train, **fit_params)\n",
      "  File \"C:\\Users\\skhus\\anaconda3\\lib\\site-packages\\sklearn\\svm\\_classes.py\", line 234, in fit\n",
      "    self.coef_, self.intercept_, self.n_iter_ = _fit_liblinear(\n",
      "  File \"C:\\Users\\skhus\\anaconda3\\lib\\site-packages\\sklearn\\svm\\_base.py\", line 974, in _fit_liblinear\n",
      "    solver_type = _get_liblinear_solver_type(multi_class, penalty, loss, dual)\n",
      "  File \"C:\\Users\\skhus\\anaconda3\\lib\\site-packages\\sklearn\\svm\\_base.py\", line 830, in _get_liblinear_solver_type\n",
      "    raise ValueError('Unsupported set of arguments: %s, '\n",
      "ValueError: Unsupported set of arguments: The combination of penalty='l1' and loss='hinge' is not supported, Parameters: penalty='l1', loss='hinge', dual=False\n",
      "\n",
      "  warnings.warn(\"Estimator fit failed. The score on this train-test\"\n",
      "C:\\Users\\skhus\\anaconda3\\lib\\site-packages\\sklearn\\model_selection\\_validation.py:610: FitFailedWarning: Estimator fit failed. The score on this train-test partition for these parameters will be set to nan. Details: \n",
      "Traceback (most recent call last):\n",
      "  File \"C:\\Users\\skhus\\anaconda3\\lib\\site-packages\\sklearn\\model_selection\\_validation.py\", line 593, in _fit_and_score\n",
      "    estimator.fit(X_train, y_train, **fit_params)\n",
      "  File \"C:\\Users\\skhus\\anaconda3\\lib\\site-packages\\sklearn\\svm\\_classes.py\", line 234, in fit\n",
      "    self.coef_, self.intercept_, self.n_iter_ = _fit_liblinear(\n",
      "  File \"C:\\Users\\skhus\\anaconda3\\lib\\site-packages\\sklearn\\svm\\_base.py\", line 974, in _fit_liblinear\n",
      "    solver_type = _get_liblinear_solver_type(multi_class, penalty, loss, dual)\n",
      "  File \"C:\\Users\\skhus\\anaconda3\\lib\\site-packages\\sklearn\\svm\\_base.py\", line 830, in _get_liblinear_solver_type\n",
      "    raise ValueError('Unsupported set of arguments: %s, '\n",
      "ValueError: Unsupported set of arguments: The combination of penalty='l1' and loss='hinge' is not supported, Parameters: penalty='l1', loss='hinge', dual=False\n",
      "\n",
      "  warnings.warn(\"Estimator fit failed. The score on this train-test\"\n",
      "C:\\Users\\skhus\\anaconda3\\lib\\site-packages\\sklearn\\model_selection\\_validation.py:610: FitFailedWarning: Estimator fit failed. The score on this train-test partition for these parameters will be set to nan. Details: \n",
      "Traceback (most recent call last):\n",
      "  File \"C:\\Users\\skhus\\anaconda3\\lib\\site-packages\\sklearn\\model_selection\\_validation.py\", line 593, in _fit_and_score\n",
      "    estimator.fit(X_train, y_train, **fit_params)\n",
      "  File \"C:\\Users\\skhus\\anaconda3\\lib\\site-packages\\sklearn\\svm\\_classes.py\", line 234, in fit\n",
      "    self.coef_, self.intercept_, self.n_iter_ = _fit_liblinear(\n",
      "  File \"C:\\Users\\skhus\\anaconda3\\lib\\site-packages\\sklearn\\svm\\_base.py\", line 974, in _fit_liblinear\n",
      "    solver_type = _get_liblinear_solver_type(multi_class, penalty, loss, dual)\n",
      "  File \"C:\\Users\\skhus\\anaconda3\\lib\\site-packages\\sklearn\\svm\\_base.py\", line 830, in _get_liblinear_solver_type\n",
      "    raise ValueError('Unsupported set of arguments: %s, '\n",
      "ValueError: Unsupported set of arguments: The combination of penalty='l1' and loss='hinge' is not supported, Parameters: penalty='l1', loss='hinge', dual=False\n",
      "\n",
      "  warnings.warn(\"Estimator fit failed. The score on this train-test\"\n",
      "C:\\Users\\skhus\\anaconda3\\lib\\site-packages\\sklearn\\model_selection\\_validation.py:610: FitFailedWarning: Estimator fit failed. The score on this train-test partition for these parameters will be set to nan. Details: \n",
      "Traceback (most recent call last):\n",
      "  File \"C:\\Users\\skhus\\anaconda3\\lib\\site-packages\\sklearn\\model_selection\\_validation.py\", line 593, in _fit_and_score\n",
      "    estimator.fit(X_train, y_train, **fit_params)\n",
      "  File \"C:\\Users\\skhus\\anaconda3\\lib\\site-packages\\sklearn\\svm\\_classes.py\", line 234, in fit\n",
      "    self.coef_, self.intercept_, self.n_iter_ = _fit_liblinear(\n",
      "  File \"C:\\Users\\skhus\\anaconda3\\lib\\site-packages\\sklearn\\svm\\_base.py\", line 974, in _fit_liblinear\n",
      "    solver_type = _get_liblinear_solver_type(multi_class, penalty, loss, dual)\n",
      "  File \"C:\\Users\\skhus\\anaconda3\\lib\\site-packages\\sklearn\\svm\\_base.py\", line 830, in _get_liblinear_solver_type\n",
      "    raise ValueError('Unsupported set of arguments: %s, '\n",
      "ValueError: Unsupported set of arguments: The combination of penalty='l2' and loss='hinge' are not supported when dual=False, Parameters: penalty='l2', loss='hinge', dual=False\n",
      "\n",
      "  warnings.warn(\"Estimator fit failed. The score on this train-test\"\n",
      "C:\\Users\\skhus\\anaconda3\\lib\\site-packages\\sklearn\\model_selection\\_validation.py:610: FitFailedWarning: Estimator fit failed. The score on this train-test partition for these parameters will be set to nan. Details: \n",
      "Traceback (most recent call last):\n",
      "  File \"C:\\Users\\skhus\\anaconda3\\lib\\site-packages\\sklearn\\model_selection\\_validation.py\", line 593, in _fit_and_score\n",
      "    estimator.fit(X_train, y_train, **fit_params)\n",
      "  File \"C:\\Users\\skhus\\anaconda3\\lib\\site-packages\\sklearn\\svm\\_classes.py\", line 234, in fit\n",
      "    self.coef_, self.intercept_, self.n_iter_ = _fit_liblinear(\n",
      "  File \"C:\\Users\\skhus\\anaconda3\\lib\\site-packages\\sklearn\\svm\\_base.py\", line 974, in _fit_liblinear\n",
      "    solver_type = _get_liblinear_solver_type(multi_class, penalty, loss, dual)\n",
      "  File \"C:\\Users\\skhus\\anaconda3\\lib\\site-packages\\sklearn\\svm\\_base.py\", line 830, in _get_liblinear_solver_type\n",
      "    raise ValueError('Unsupported set of arguments: %s, '\n",
      "ValueError: Unsupported set of arguments: The combination of penalty='l2' and loss='hinge' are not supported when dual=False, Parameters: penalty='l2', loss='hinge', dual=False\n",
      "\n",
      "  warnings.warn(\"Estimator fit failed. The score on this train-test\"\n",
      "C:\\Users\\skhus\\anaconda3\\lib\\site-packages\\sklearn\\model_selection\\_validation.py:610: FitFailedWarning: Estimator fit failed. The score on this train-test partition for these parameters will be set to nan. Details: \n",
      "Traceback (most recent call last):\n",
      "  File \"C:\\Users\\skhus\\anaconda3\\lib\\site-packages\\sklearn\\model_selection\\_validation.py\", line 593, in _fit_and_score\n",
      "    estimator.fit(X_train, y_train, **fit_params)\n",
      "  File \"C:\\Users\\skhus\\anaconda3\\lib\\site-packages\\sklearn\\svm\\_classes.py\", line 234, in fit\n",
      "    self.coef_, self.intercept_, self.n_iter_ = _fit_liblinear(\n",
      "  File \"C:\\Users\\skhus\\anaconda3\\lib\\site-packages\\sklearn\\svm\\_base.py\", line 974, in _fit_liblinear\n",
      "    solver_type = _get_liblinear_solver_type(multi_class, penalty, loss, dual)\n",
      "  File \"C:\\Users\\skhus\\anaconda3\\lib\\site-packages\\sklearn\\svm\\_base.py\", line 830, in _get_liblinear_solver_type\n",
      "    raise ValueError('Unsupported set of arguments: %s, '\n",
      "ValueError: Unsupported set of arguments: The combination of penalty='l2' and loss='hinge' are not supported when dual=False, Parameters: penalty='l2', loss='hinge', dual=False\n",
      "\n",
      "  warnings.warn(\"Estimator fit failed. The score on this train-test\"\n",
      "C:\\Users\\skhus\\anaconda3\\lib\\site-packages\\sklearn\\model_selection\\_validation.py:610: FitFailedWarning: Estimator fit failed. The score on this train-test partition for these parameters will be set to nan. Details: \n",
      "Traceback (most recent call last):\n",
      "  File \"C:\\Users\\skhus\\anaconda3\\lib\\site-packages\\sklearn\\model_selection\\_validation.py\", line 593, in _fit_and_score\n",
      "    estimator.fit(X_train, y_train, **fit_params)\n",
      "  File \"C:\\Users\\skhus\\anaconda3\\lib\\site-packages\\sklearn\\svm\\_classes.py\", line 234, in fit\n",
      "    self.coef_, self.intercept_, self.n_iter_ = _fit_liblinear(\n",
      "  File \"C:\\Users\\skhus\\anaconda3\\lib\\site-packages\\sklearn\\svm\\_base.py\", line 974, in _fit_liblinear\n",
      "    solver_type = _get_liblinear_solver_type(multi_class, penalty, loss, dual)\n",
      "  File \"C:\\Users\\skhus\\anaconda3\\lib\\site-packages\\sklearn\\svm\\_base.py\", line 830, in _get_liblinear_solver_type\n",
      "    raise ValueError('Unsupported set of arguments: %s, '\n",
      "ValueError: Unsupported set of arguments: The combination of penalty='l2' and loss='hinge' are not supported when dual=False, Parameters: penalty='l2', loss='hinge', dual=False\n",
      "\n",
      "  warnings.warn(\"Estimator fit failed. The score on this train-test\"\n",
      "C:\\Users\\skhus\\anaconda3\\lib\\site-packages\\sklearn\\model_selection\\_validation.py:610: FitFailedWarning: Estimator fit failed. The score on this train-test partition for these parameters will be set to nan. Details: \n",
      "Traceback (most recent call last):\n",
      "  File \"C:\\Users\\skhus\\anaconda3\\lib\\site-packages\\sklearn\\model_selection\\_validation.py\", line 593, in _fit_and_score\n",
      "    estimator.fit(X_train, y_train, **fit_params)\n",
      "  File \"C:\\Users\\skhus\\anaconda3\\lib\\site-packages\\sklearn\\svm\\_classes.py\", line 234, in fit\n",
      "    self.coef_, self.intercept_, self.n_iter_ = _fit_liblinear(\n",
      "  File \"C:\\Users\\skhus\\anaconda3\\lib\\site-packages\\sklearn\\svm\\_base.py\", line 974, in _fit_liblinear\n",
      "    solver_type = _get_liblinear_solver_type(multi_class, penalty, loss, dual)\n",
      "  File \"C:\\Users\\skhus\\anaconda3\\lib\\site-packages\\sklearn\\svm\\_base.py\", line 830, in _get_liblinear_solver_type\n",
      "    raise ValueError('Unsupported set of arguments: %s, '\n",
      "ValueError: Unsupported set of arguments: The combination of penalty='l2' and loss='hinge' are not supported when dual=False, Parameters: penalty='l2', loss='hinge', dual=False\n",
      "\n",
      "  warnings.warn(\"Estimator fit failed. The score on this train-test\"\n"
     ]
    },
    {
     "name": "stdout",
     "output_type": "stream",
     "text": [
      "[CV 1/5] END C=100, dual=False, fit_intercept=True, loss=hinge, multi_class=ovr, penalty=l1; total time=   0.0s\n",
      "[CV 2/5] END C=100, dual=False, fit_intercept=True, loss=hinge, multi_class=ovr, penalty=l1; total time=   0.0s\n",
      "[CV 3/5] END C=100, dual=False, fit_intercept=True, loss=hinge, multi_class=ovr, penalty=l1; total time=   0.0s\n",
      "[CV 4/5] END C=100, dual=False, fit_intercept=True, loss=hinge, multi_class=ovr, penalty=l1; total time=   0.0s\n",
      "[CV 5/5] END C=100, dual=False, fit_intercept=True, loss=hinge, multi_class=ovr, penalty=l1; total time=   0.0s\n",
      "[CV 1/5] END C=100, dual=False, fit_intercept=True, loss=hinge, multi_class=ovr, penalty=l2; total time=   0.0s\n",
      "[CV 2/5] END C=100, dual=False, fit_intercept=True, loss=hinge, multi_class=ovr, penalty=l2; total time=   0.0s\n",
      "[CV 3/5] END C=100, dual=False, fit_intercept=True, loss=hinge, multi_class=ovr, penalty=l2; total time=   0.0s\n",
      "[CV 4/5] END C=100, dual=False, fit_intercept=True, loss=hinge, multi_class=ovr, penalty=l2; total time=   0.0s\n",
      "[CV 5/5] END C=100, dual=False, fit_intercept=True, loss=hinge, multi_class=ovr, penalty=l2; total time=   0.0s\n",
      "[CV 1/5] END C=100, dual=False, fit_intercept=True, loss=hinge, multi_class=crammer_singer, penalty=l1; total time=   0.1s\n"
     ]
    },
    {
     "name": "stderr",
     "output_type": "stream",
     "text": [
      "C:\\Users\\skhus\\anaconda3\\lib\\site-packages\\sklearn\\svm\\_base.py:985: ConvergenceWarning: Liblinear failed to converge, increase the number of iterations.\n",
      "  warnings.warn(\"Liblinear failed to converge, increase \"\n"
     ]
    },
    {
     "name": "stdout",
     "output_type": "stream",
     "text": [
      "[CV 2/5] END C=100, dual=False, fit_intercept=True, loss=hinge, multi_class=crammer_singer, penalty=l1; total time=   0.9s\n"
     ]
    },
    {
     "name": "stderr",
     "output_type": "stream",
     "text": [
      "C:\\Users\\skhus\\anaconda3\\lib\\site-packages\\sklearn\\svm\\_base.py:985: ConvergenceWarning: Liblinear failed to converge, increase the number of iterations.\n",
      "  warnings.warn(\"Liblinear failed to converge, increase \"\n"
     ]
    },
    {
     "name": "stdout",
     "output_type": "stream",
     "text": [
      "[CV 3/5] END C=100, dual=False, fit_intercept=True, loss=hinge, multi_class=crammer_singer, penalty=l1; total time=   0.9s\n"
     ]
    },
    {
     "name": "stderr",
     "output_type": "stream",
     "text": [
      "C:\\Users\\skhus\\anaconda3\\lib\\site-packages\\sklearn\\svm\\_base.py:985: ConvergenceWarning: Liblinear failed to converge, increase the number of iterations.\n",
      "  warnings.warn(\"Liblinear failed to converge, increase \"\n"
     ]
    },
    {
     "name": "stdout",
     "output_type": "stream",
     "text": [
      "[CV 4/5] END C=100, dual=False, fit_intercept=True, loss=hinge, multi_class=crammer_singer, penalty=l1; total time=   0.9s\n"
     ]
    },
    {
     "name": "stderr",
     "output_type": "stream",
     "text": [
      "C:\\Users\\skhus\\anaconda3\\lib\\site-packages\\sklearn\\svm\\_base.py:985: ConvergenceWarning: Liblinear failed to converge, increase the number of iterations.\n",
      "  warnings.warn(\"Liblinear failed to converge, increase \"\n"
     ]
    },
    {
     "name": "stdout",
     "output_type": "stream",
     "text": [
      "[CV 5/5] END C=100, dual=False, fit_intercept=True, loss=hinge, multi_class=crammer_singer, penalty=l1; total time=   0.9s\n",
      "[CV 1/5] END C=100, dual=False, fit_intercept=True, loss=hinge, multi_class=crammer_singer, penalty=l2; total time=   0.1s\n"
     ]
    },
    {
     "name": "stderr",
     "output_type": "stream",
     "text": [
      "C:\\Users\\skhus\\anaconda3\\lib\\site-packages\\sklearn\\svm\\_base.py:985: ConvergenceWarning: Liblinear failed to converge, increase the number of iterations.\n",
      "  warnings.warn(\"Liblinear failed to converge, increase \"\n"
     ]
    },
    {
     "name": "stdout",
     "output_type": "stream",
     "text": [
      "[CV 2/5] END C=100, dual=False, fit_intercept=True, loss=hinge, multi_class=crammer_singer, penalty=l2; total time=   1.0s\n"
     ]
    },
    {
     "name": "stderr",
     "output_type": "stream",
     "text": [
      "C:\\Users\\skhus\\anaconda3\\lib\\site-packages\\sklearn\\svm\\_base.py:985: ConvergenceWarning: Liblinear failed to converge, increase the number of iterations.\n",
      "  warnings.warn(\"Liblinear failed to converge, increase \"\n"
     ]
    },
    {
     "name": "stdout",
     "output_type": "stream",
     "text": [
      "[CV 3/5] END C=100, dual=False, fit_intercept=True, loss=hinge, multi_class=crammer_singer, penalty=l2; total time=   1.1s\n"
     ]
    },
    {
     "name": "stderr",
     "output_type": "stream",
     "text": [
      "C:\\Users\\skhus\\anaconda3\\lib\\site-packages\\sklearn\\svm\\_base.py:985: ConvergenceWarning: Liblinear failed to converge, increase the number of iterations.\n",
      "  warnings.warn(\"Liblinear failed to converge, increase \"\n"
     ]
    },
    {
     "name": "stdout",
     "output_type": "stream",
     "text": [
      "[CV 4/5] END C=100, dual=False, fit_intercept=True, loss=hinge, multi_class=crammer_singer, penalty=l2; total time=   1.1s\n"
     ]
    },
    {
     "name": "stderr",
     "output_type": "stream",
     "text": [
      "C:\\Users\\skhus\\anaconda3\\lib\\site-packages\\sklearn\\svm\\_base.py:985: ConvergenceWarning: Liblinear failed to converge, increase the number of iterations.\n",
      "  warnings.warn(\"Liblinear failed to converge, increase \"\n",
      "C:\\Users\\skhus\\anaconda3\\lib\\site-packages\\sklearn\\svm\\_base.py:985: ConvergenceWarning: Liblinear failed to converge, increase the number of iterations.\n",
      "  warnings.warn(\"Liblinear failed to converge, increase \"\n"
     ]
    },
    {
     "name": "stdout",
     "output_type": "stream",
     "text": [
      "[CV 5/5] END C=100, dual=False, fit_intercept=True, loss=hinge, multi_class=crammer_singer, penalty=l2; total time=   1.1s\n",
      "[CV 1/5] END C=100, dual=False, fit_intercept=True, loss=squared_hinge, multi_class=ovr, penalty=l1; total time=   0.1s\n"
     ]
    },
    {
     "name": "stderr",
     "output_type": "stream",
     "text": [
      "C:\\Users\\skhus\\anaconda3\\lib\\site-packages\\sklearn\\svm\\_base.py:985: ConvergenceWarning: Liblinear failed to converge, increase the number of iterations.\n",
      "  warnings.warn(\"Liblinear failed to converge, increase \"\n",
      "C:\\Users\\skhus\\anaconda3\\lib\\site-packages\\sklearn\\svm\\_base.py:985: ConvergenceWarning: Liblinear failed to converge, increase the number of iterations.\n",
      "  warnings.warn(\"Liblinear failed to converge, increase \"\n"
     ]
    },
    {
     "name": "stdout",
     "output_type": "stream",
     "text": [
      "[CV 2/5] END C=100, dual=False, fit_intercept=True, loss=squared_hinge, multi_class=ovr, penalty=l1; total time=   0.1s\n",
      "[CV 3/5] END C=100, dual=False, fit_intercept=True, loss=squared_hinge, multi_class=ovr, penalty=l1; total time=   0.1s\n"
     ]
    },
    {
     "name": "stderr",
     "output_type": "stream",
     "text": [
      "C:\\Users\\skhus\\anaconda3\\lib\\site-packages\\sklearn\\svm\\_base.py:985: ConvergenceWarning: Liblinear failed to converge, increase the number of iterations.\n",
      "  warnings.warn(\"Liblinear failed to converge, increase \"\n",
      "C:\\Users\\skhus\\anaconda3\\lib\\site-packages\\sklearn\\svm\\_base.py:985: ConvergenceWarning: Liblinear failed to converge, increase the number of iterations.\n",
      "  warnings.warn(\"Liblinear failed to converge, increase \"\n"
     ]
    },
    {
     "name": "stdout",
     "output_type": "stream",
     "text": [
      "[CV 4/5] END C=100, dual=False, fit_intercept=True, loss=squared_hinge, multi_class=ovr, penalty=l1; total time=   0.1s\n",
      "[CV 5/5] END C=100, dual=False, fit_intercept=True, loss=squared_hinge, multi_class=ovr, penalty=l1; total time=   0.1s\n",
      "[CV 1/5] END C=100, dual=False, fit_intercept=True, loss=squared_hinge, multi_class=ovr, penalty=l2; total time=   0.1s\n",
      "[CV 2/5] END C=100, dual=False, fit_intercept=True, loss=squared_hinge, multi_class=ovr, penalty=l2; total time=   0.3s\n",
      "[CV 3/5] END C=100, dual=False, fit_intercept=True, loss=squared_hinge, multi_class=ovr, penalty=l2; total time=   0.3s\n",
      "[CV 4/5] END C=100, dual=False, fit_intercept=True, loss=squared_hinge, multi_class=ovr, penalty=l2; total time=   0.3s\n",
      "[CV 5/5] END C=100, dual=False, fit_intercept=True, loss=squared_hinge, multi_class=ovr, penalty=l2; total time=   0.2s\n",
      "[CV 1/5] END C=100, dual=False, fit_intercept=True, loss=squared_hinge, multi_class=crammer_singer, penalty=l1; total time=   0.2s\n"
     ]
    },
    {
     "name": "stderr",
     "output_type": "stream",
     "text": [
      "C:\\Users\\skhus\\anaconda3\\lib\\site-packages\\sklearn\\svm\\_base.py:985: ConvergenceWarning: Liblinear failed to converge, increase the number of iterations.\n",
      "  warnings.warn(\"Liblinear failed to converge, increase \"\n"
     ]
    },
    {
     "name": "stdout",
     "output_type": "stream",
     "text": [
      "[CV 2/5] END C=100, dual=False, fit_intercept=True, loss=squared_hinge, multi_class=crammer_singer, penalty=l1; total time=   1.1s\n"
     ]
    },
    {
     "name": "stderr",
     "output_type": "stream",
     "text": [
      "C:\\Users\\skhus\\anaconda3\\lib\\site-packages\\sklearn\\svm\\_base.py:985: ConvergenceWarning: Liblinear failed to converge, increase the number of iterations.\n",
      "  warnings.warn(\"Liblinear failed to converge, increase \"\n"
     ]
    },
    {
     "name": "stdout",
     "output_type": "stream",
     "text": [
      "[CV 3/5] END C=100, dual=False, fit_intercept=True, loss=squared_hinge, multi_class=crammer_singer, penalty=l1; total time=   1.0s\n"
     ]
    },
    {
     "name": "stderr",
     "output_type": "stream",
     "text": [
      "C:\\Users\\skhus\\anaconda3\\lib\\site-packages\\sklearn\\svm\\_base.py:985: ConvergenceWarning: Liblinear failed to converge, increase the number of iterations.\n",
      "  warnings.warn(\"Liblinear failed to converge, increase \"\n"
     ]
    },
    {
     "name": "stdout",
     "output_type": "stream",
     "text": [
      "[CV 4/5] END C=100, dual=False, fit_intercept=True, loss=squared_hinge, multi_class=crammer_singer, penalty=l1; total time=   1.0s\n"
     ]
    },
    {
     "name": "stderr",
     "output_type": "stream",
     "text": [
      "C:\\Users\\skhus\\anaconda3\\lib\\site-packages\\sklearn\\svm\\_base.py:985: ConvergenceWarning: Liblinear failed to converge, increase the number of iterations.\n",
      "  warnings.warn(\"Liblinear failed to converge, increase \"\n"
     ]
    },
    {
     "name": "stdout",
     "output_type": "stream",
     "text": [
      "[CV 5/5] END C=100, dual=False, fit_intercept=True, loss=squared_hinge, multi_class=crammer_singer, penalty=l1; total time=   1.1s\n",
      "[CV 1/5] END C=100, dual=False, fit_intercept=True, loss=squared_hinge, multi_class=crammer_singer, penalty=l2; total time=   0.1s\n"
     ]
    },
    {
     "name": "stderr",
     "output_type": "stream",
     "text": [
      "C:\\Users\\skhus\\anaconda3\\lib\\site-packages\\sklearn\\svm\\_base.py:985: ConvergenceWarning: Liblinear failed to converge, increase the number of iterations.\n",
      "  warnings.warn(\"Liblinear failed to converge, increase \"\n"
     ]
    },
    {
     "name": "stdout",
     "output_type": "stream",
     "text": [
      "[CV 2/5] END C=100, dual=False, fit_intercept=True, loss=squared_hinge, multi_class=crammer_singer, penalty=l2; total time=   1.0s\n"
     ]
    },
    {
     "name": "stderr",
     "output_type": "stream",
     "text": [
      "C:\\Users\\skhus\\anaconda3\\lib\\site-packages\\sklearn\\svm\\_base.py:985: ConvergenceWarning: Liblinear failed to converge, increase the number of iterations.\n",
      "  warnings.warn(\"Liblinear failed to converge, increase \"\n"
     ]
    },
    {
     "name": "stdout",
     "output_type": "stream",
     "text": [
      "[CV 3/5] END C=100, dual=False, fit_intercept=True, loss=squared_hinge, multi_class=crammer_singer, penalty=l2; total time=   1.0s\n"
     ]
    },
    {
     "name": "stderr",
     "output_type": "stream",
     "text": [
      "C:\\Users\\skhus\\anaconda3\\lib\\site-packages\\sklearn\\svm\\_base.py:985: ConvergenceWarning: Liblinear failed to converge, increase the number of iterations.\n",
      "  warnings.warn(\"Liblinear failed to converge, increase \"\n"
     ]
    },
    {
     "name": "stdout",
     "output_type": "stream",
     "text": [
      "[CV 4/5] END C=100, dual=False, fit_intercept=True, loss=squared_hinge, multi_class=crammer_singer, penalty=l2; total time=   1.0s\n"
     ]
    },
    {
     "name": "stderr",
     "output_type": "stream",
     "text": [
      "C:\\Users\\skhus\\anaconda3\\lib\\site-packages\\sklearn\\svm\\_base.py:985: ConvergenceWarning: Liblinear failed to converge, increase the number of iterations.\n",
      "  warnings.warn(\"Liblinear failed to converge, increase \"\n",
      "C:\\Users\\skhus\\anaconda3\\lib\\site-packages\\sklearn\\model_selection\\_validation.py:610: FitFailedWarning: Estimator fit failed. The score on this train-test partition for these parameters will be set to nan. Details: \n",
      "Traceback (most recent call last):\n",
      "  File \"C:\\Users\\skhus\\anaconda3\\lib\\site-packages\\sklearn\\model_selection\\_validation.py\", line 593, in _fit_and_score\n",
      "    estimator.fit(X_train, y_train, **fit_params)\n",
      "  File \"C:\\Users\\skhus\\anaconda3\\lib\\site-packages\\sklearn\\svm\\_classes.py\", line 234, in fit\n",
      "    self.coef_, self.intercept_, self.n_iter_ = _fit_liblinear(\n",
      "  File \"C:\\Users\\skhus\\anaconda3\\lib\\site-packages\\sklearn\\svm\\_base.py\", line 974, in _fit_liblinear\n",
      "    solver_type = _get_liblinear_solver_type(multi_class, penalty, loss, dual)\n",
      "  File \"C:\\Users\\skhus\\anaconda3\\lib\\site-packages\\sklearn\\svm\\_base.py\", line 830, in _get_liblinear_solver_type\n",
      "    raise ValueError('Unsupported set of arguments: %s, '\n",
      "ValueError: Unsupported set of arguments: The combination of penalty='l1' and loss='hinge' is not supported, Parameters: penalty='l1', loss='hinge', dual=True\n",
      "\n",
      "  warnings.warn(\"Estimator fit failed. The score on this train-test\"\n",
      "C:\\Users\\skhus\\anaconda3\\lib\\site-packages\\sklearn\\model_selection\\_validation.py:610: FitFailedWarning: Estimator fit failed. The score on this train-test partition for these parameters will be set to nan. Details: \n",
      "Traceback (most recent call last):\n",
      "  File \"C:\\Users\\skhus\\anaconda3\\lib\\site-packages\\sklearn\\model_selection\\_validation.py\", line 593, in _fit_and_score\n",
      "    estimator.fit(X_train, y_train, **fit_params)\n",
      "  File \"C:\\Users\\skhus\\anaconda3\\lib\\site-packages\\sklearn\\svm\\_classes.py\", line 234, in fit\n",
      "    self.coef_, self.intercept_, self.n_iter_ = _fit_liblinear(\n",
      "  File \"C:\\Users\\skhus\\anaconda3\\lib\\site-packages\\sklearn\\svm\\_base.py\", line 974, in _fit_liblinear\n",
      "    solver_type = _get_liblinear_solver_type(multi_class, penalty, loss, dual)\n",
      "  File \"C:\\Users\\skhus\\anaconda3\\lib\\site-packages\\sklearn\\svm\\_base.py\", line 830, in _get_liblinear_solver_type\n",
      "    raise ValueError('Unsupported set of arguments: %s, '\n",
      "ValueError: Unsupported set of arguments: The combination of penalty='l1' and loss='hinge' is not supported, Parameters: penalty='l1', loss='hinge', dual=True\n",
      "\n",
      "  warnings.warn(\"Estimator fit failed. The score on this train-test\"\n",
      "C:\\Users\\skhus\\anaconda3\\lib\\site-packages\\sklearn\\model_selection\\_validation.py:610: FitFailedWarning: Estimator fit failed. The score on this train-test partition for these parameters will be set to nan. Details: \n",
      "Traceback (most recent call last):\n",
      "  File \"C:\\Users\\skhus\\anaconda3\\lib\\site-packages\\sklearn\\model_selection\\_validation.py\", line 593, in _fit_and_score\n",
      "    estimator.fit(X_train, y_train, **fit_params)\n",
      "  File \"C:\\Users\\skhus\\anaconda3\\lib\\site-packages\\sklearn\\svm\\_classes.py\", line 234, in fit\n",
      "    self.coef_, self.intercept_, self.n_iter_ = _fit_liblinear(\n",
      "  File \"C:\\Users\\skhus\\anaconda3\\lib\\site-packages\\sklearn\\svm\\_base.py\", line 974, in _fit_liblinear\n",
      "    solver_type = _get_liblinear_solver_type(multi_class, penalty, loss, dual)\n",
      "  File \"C:\\Users\\skhus\\anaconda3\\lib\\site-packages\\sklearn\\svm\\_base.py\", line 830, in _get_liblinear_solver_type\n",
      "    raise ValueError('Unsupported set of arguments: %s, '\n",
      "ValueError: Unsupported set of arguments: The combination of penalty='l1' and loss='hinge' is not supported, Parameters: penalty='l1', loss='hinge', dual=True\n",
      "\n",
      "  warnings.warn(\"Estimator fit failed. The score on this train-test\"\n",
      "C:\\Users\\skhus\\anaconda3\\lib\\site-packages\\sklearn\\model_selection\\_validation.py:610: FitFailedWarning: Estimator fit failed. The score on this train-test partition for these parameters will be set to nan. Details: \n",
      "Traceback (most recent call last):\n",
      "  File \"C:\\Users\\skhus\\anaconda3\\lib\\site-packages\\sklearn\\model_selection\\_validation.py\", line 593, in _fit_and_score\n",
      "    estimator.fit(X_train, y_train, **fit_params)\n",
      "  File \"C:\\Users\\skhus\\anaconda3\\lib\\site-packages\\sklearn\\svm\\_classes.py\", line 234, in fit\n",
      "    self.coef_, self.intercept_, self.n_iter_ = _fit_liblinear(\n",
      "  File \"C:\\Users\\skhus\\anaconda3\\lib\\site-packages\\sklearn\\svm\\_base.py\", line 974, in _fit_liblinear\n",
      "    solver_type = _get_liblinear_solver_type(multi_class, penalty, loss, dual)\n",
      "  File \"C:\\Users\\skhus\\anaconda3\\lib\\site-packages\\sklearn\\svm\\_base.py\", line 830, in _get_liblinear_solver_type\n",
      "    raise ValueError('Unsupported set of arguments: %s, '\n",
      "ValueError: Unsupported set of arguments: The combination of penalty='l1' and loss='hinge' is not supported, Parameters: penalty='l1', loss='hinge', dual=True\n",
      "\n",
      "  warnings.warn(\"Estimator fit failed. The score on this train-test\"\n",
      "C:\\Users\\skhus\\anaconda3\\lib\\site-packages\\sklearn\\model_selection\\_validation.py:610: FitFailedWarning: Estimator fit failed. The score on this train-test partition for these parameters will be set to nan. Details: \n",
      "Traceback (most recent call last):\n",
      "  File \"C:\\Users\\skhus\\anaconda3\\lib\\site-packages\\sklearn\\model_selection\\_validation.py\", line 593, in _fit_and_score\n",
      "    estimator.fit(X_train, y_train, **fit_params)\n",
      "  File \"C:\\Users\\skhus\\anaconda3\\lib\\site-packages\\sklearn\\svm\\_classes.py\", line 234, in fit\n",
      "    self.coef_, self.intercept_, self.n_iter_ = _fit_liblinear(\n",
      "  File \"C:\\Users\\skhus\\anaconda3\\lib\\site-packages\\sklearn\\svm\\_base.py\", line 974, in _fit_liblinear\n",
      "    solver_type = _get_liblinear_solver_type(multi_class, penalty, loss, dual)\n",
      "  File \"C:\\Users\\skhus\\anaconda3\\lib\\site-packages\\sklearn\\svm\\_base.py\", line 830, in _get_liblinear_solver_type\n",
      "    raise ValueError('Unsupported set of arguments: %s, '\n",
      "ValueError: Unsupported set of arguments: The combination of penalty='l1' and loss='hinge' is not supported, Parameters: penalty='l1', loss='hinge', dual=True\n",
      "\n",
      "  warnings.warn(\"Estimator fit failed. The score on this train-test\"\n"
     ]
    },
    {
     "name": "stdout",
     "output_type": "stream",
     "text": [
      "[CV 5/5] END C=100, dual=False, fit_intercept=True, loss=squared_hinge, multi_class=crammer_singer, penalty=l2; total time=   1.0s\n",
      "[CV 1/5] END C=100, dual=True, fit_intercept=False, loss=hinge, multi_class=ovr, penalty=l1; total time=   0.0s\n",
      "[CV 2/5] END C=100, dual=True, fit_intercept=False, loss=hinge, multi_class=ovr, penalty=l1; total time=   0.0s\n",
      "[CV 3/5] END C=100, dual=True, fit_intercept=False, loss=hinge, multi_class=ovr, penalty=l1; total time=   0.0s\n",
      "[CV 4/5] END C=100, dual=True, fit_intercept=False, loss=hinge, multi_class=ovr, penalty=l1; total time=   0.0s\n",
      "[CV 5/5] END C=100, dual=True, fit_intercept=False, loss=hinge, multi_class=ovr, penalty=l1; total time=   0.0s\n",
      "[CV 1/5] END C=100, dual=True, fit_intercept=False, loss=hinge, multi_class=ovr, penalty=l2; total time=   0.0s\n",
      "[CV 2/5] END C=100, dual=True, fit_intercept=False, loss=hinge, multi_class=ovr, penalty=l2; total time=   0.0s\n",
      "[CV 3/5] END C=100, dual=True, fit_intercept=False, loss=hinge, multi_class=ovr, penalty=l2; total time=   0.0s\n",
      "[CV 4/5] END C=100, dual=True, fit_intercept=False, loss=hinge, multi_class=ovr, penalty=l2; total time=   0.0s\n",
      "[CV 5/5] END C=100, dual=True, fit_intercept=False, loss=hinge, multi_class=ovr, penalty=l2; total time=   0.0s\n",
      "[CV 1/5] END C=100, dual=True, fit_intercept=False, loss=hinge, multi_class=crammer_singer, penalty=l1; total time=   0.0s\n",
      "[CV 2/5] END C=100, dual=True, fit_intercept=False, loss=hinge, multi_class=crammer_singer, penalty=l1; total time=   0.2s\n",
      "[CV 3/5] END C=100, dual=True, fit_intercept=False, loss=hinge, multi_class=crammer_singer, penalty=l1; total time=   0.0s\n",
      "[CV 4/5] END C=100, dual=True, fit_intercept=False, loss=hinge, multi_class=crammer_singer, penalty=l1; total time=   0.0s\n",
      "[CV 5/5] END C=100, dual=True, fit_intercept=False, loss=hinge, multi_class=crammer_singer, penalty=l1; total time=   0.0s\n",
      "[CV 1/5] END C=100, dual=True, fit_intercept=False, loss=hinge, multi_class=crammer_singer, penalty=l2; total time=   0.0s\n",
      "[CV 2/5] END C=100, dual=True, fit_intercept=False, loss=hinge, multi_class=crammer_singer, penalty=l2; total time=   0.1s\n",
      "[CV 3/5] END C=100, dual=True, fit_intercept=False, loss=hinge, multi_class=crammer_singer, penalty=l2; total time=   0.0s\n",
      "[CV 4/5] END C=100, dual=True, fit_intercept=False, loss=hinge, multi_class=crammer_singer, penalty=l2; total time=   0.0s\n",
      "[CV 5/5] END C=100, dual=True, fit_intercept=False, loss=hinge, multi_class=crammer_singer, penalty=l2; total time=   0.0s\n",
      "[CV 1/5] END C=100, dual=True, fit_intercept=False, loss=squared_hinge, multi_class=ovr, penalty=l1; total time=   0.0s\n",
      "[CV 2/5] END C=100, dual=True, fit_intercept=False, loss=squared_hinge, multi_class=ovr, penalty=l1; total time=   0.0s\n",
      "[CV 3/5] END C=100, dual=True, fit_intercept=False, loss=squared_hinge, multi_class=ovr, penalty=l1; total time=   0.0s\n",
      "[CV 4/5] END C=100, dual=True, fit_intercept=False, loss=squared_hinge, multi_class=ovr, penalty=l1; total time=   0.0s\n",
      "[CV 5/5] END C=100, dual=True, fit_intercept=False, loss=squared_hinge, multi_class=ovr, penalty=l1; total time=   0.0s\n"
     ]
    },
    {
     "name": "stderr",
     "output_type": "stream",
     "text": [
      "C:\\Users\\skhus\\anaconda3\\lib\\site-packages\\sklearn\\model_selection\\_validation.py:610: FitFailedWarning: Estimator fit failed. The score on this train-test partition for these parameters will be set to nan. Details: \n",
      "Traceback (most recent call last):\n",
      "  File \"C:\\Users\\skhus\\anaconda3\\lib\\site-packages\\sklearn\\model_selection\\_validation.py\", line 593, in _fit_and_score\n",
      "    estimator.fit(X_train, y_train, **fit_params)\n",
      "  File \"C:\\Users\\skhus\\anaconda3\\lib\\site-packages\\sklearn\\svm\\_classes.py\", line 234, in fit\n",
      "    self.coef_, self.intercept_, self.n_iter_ = _fit_liblinear(\n",
      "  File \"C:\\Users\\skhus\\anaconda3\\lib\\site-packages\\sklearn\\svm\\_base.py\", line 974, in _fit_liblinear\n",
      "    solver_type = _get_liblinear_solver_type(multi_class, penalty, loss, dual)\n",
      "  File \"C:\\Users\\skhus\\anaconda3\\lib\\site-packages\\sklearn\\svm\\_base.py\", line 830, in _get_liblinear_solver_type\n",
      "    raise ValueError('Unsupported set of arguments: %s, '\n",
      "ValueError: Unsupported set of arguments: The combination of penalty='l1' and loss='squared_hinge' are not supported when dual=True, Parameters: penalty='l1', loss='squared_hinge', dual=True\n",
      "\n",
      "  warnings.warn(\"Estimator fit failed. The score on this train-test\"\n",
      "C:\\Users\\skhus\\anaconda3\\lib\\site-packages\\sklearn\\model_selection\\_validation.py:610: FitFailedWarning: Estimator fit failed. The score on this train-test partition for these parameters will be set to nan. Details: \n",
      "Traceback (most recent call last):\n",
      "  File \"C:\\Users\\skhus\\anaconda3\\lib\\site-packages\\sklearn\\model_selection\\_validation.py\", line 593, in _fit_and_score\n",
      "    estimator.fit(X_train, y_train, **fit_params)\n",
      "  File \"C:\\Users\\skhus\\anaconda3\\lib\\site-packages\\sklearn\\svm\\_classes.py\", line 234, in fit\n",
      "    self.coef_, self.intercept_, self.n_iter_ = _fit_liblinear(\n",
      "  File \"C:\\Users\\skhus\\anaconda3\\lib\\site-packages\\sklearn\\svm\\_base.py\", line 974, in _fit_liblinear\n",
      "    solver_type = _get_liblinear_solver_type(multi_class, penalty, loss, dual)\n",
      "  File \"C:\\Users\\skhus\\anaconda3\\lib\\site-packages\\sklearn\\svm\\_base.py\", line 830, in _get_liblinear_solver_type\n",
      "    raise ValueError('Unsupported set of arguments: %s, '\n",
      "ValueError: Unsupported set of arguments: The combination of penalty='l1' and loss='squared_hinge' are not supported when dual=True, Parameters: penalty='l1', loss='squared_hinge', dual=True\n",
      "\n",
      "  warnings.warn(\"Estimator fit failed. The score on this train-test\"\n",
      "C:\\Users\\skhus\\anaconda3\\lib\\site-packages\\sklearn\\model_selection\\_validation.py:610: FitFailedWarning: Estimator fit failed. The score on this train-test partition for these parameters will be set to nan. Details: \n",
      "Traceback (most recent call last):\n",
      "  File \"C:\\Users\\skhus\\anaconda3\\lib\\site-packages\\sklearn\\model_selection\\_validation.py\", line 593, in _fit_and_score\n",
      "    estimator.fit(X_train, y_train, **fit_params)\n",
      "  File \"C:\\Users\\skhus\\anaconda3\\lib\\site-packages\\sklearn\\svm\\_classes.py\", line 234, in fit\n",
      "    self.coef_, self.intercept_, self.n_iter_ = _fit_liblinear(\n",
      "  File \"C:\\Users\\skhus\\anaconda3\\lib\\site-packages\\sklearn\\svm\\_base.py\", line 974, in _fit_liblinear\n",
      "    solver_type = _get_liblinear_solver_type(multi_class, penalty, loss, dual)\n",
      "  File \"C:\\Users\\skhus\\anaconda3\\lib\\site-packages\\sklearn\\svm\\_base.py\", line 830, in _get_liblinear_solver_type\n",
      "    raise ValueError('Unsupported set of arguments: %s, '\n",
      "ValueError: Unsupported set of arguments: The combination of penalty='l1' and loss='squared_hinge' are not supported when dual=True, Parameters: penalty='l1', loss='squared_hinge', dual=True\n",
      "\n",
      "  warnings.warn(\"Estimator fit failed. The score on this train-test\"\n",
      "C:\\Users\\skhus\\anaconda3\\lib\\site-packages\\sklearn\\model_selection\\_validation.py:610: FitFailedWarning: Estimator fit failed. The score on this train-test partition for these parameters will be set to nan. Details: \n",
      "Traceback (most recent call last):\n",
      "  File \"C:\\Users\\skhus\\anaconda3\\lib\\site-packages\\sklearn\\model_selection\\_validation.py\", line 593, in _fit_and_score\n",
      "    estimator.fit(X_train, y_train, **fit_params)\n",
      "  File \"C:\\Users\\skhus\\anaconda3\\lib\\site-packages\\sklearn\\svm\\_classes.py\", line 234, in fit\n",
      "    self.coef_, self.intercept_, self.n_iter_ = _fit_liblinear(\n",
      "  File \"C:\\Users\\skhus\\anaconda3\\lib\\site-packages\\sklearn\\svm\\_base.py\", line 974, in _fit_liblinear\n",
      "    solver_type = _get_liblinear_solver_type(multi_class, penalty, loss, dual)\n",
      "  File \"C:\\Users\\skhus\\anaconda3\\lib\\site-packages\\sklearn\\svm\\_base.py\", line 830, in _get_liblinear_solver_type\n",
      "    raise ValueError('Unsupported set of arguments: %s, '\n",
      "ValueError: Unsupported set of arguments: The combination of penalty='l1' and loss='squared_hinge' are not supported when dual=True, Parameters: penalty='l1', loss='squared_hinge', dual=True\n",
      "\n",
      "  warnings.warn(\"Estimator fit failed. The score on this train-test\"\n",
      "C:\\Users\\skhus\\anaconda3\\lib\\site-packages\\sklearn\\model_selection\\_validation.py:610: FitFailedWarning: Estimator fit failed. The score on this train-test partition for these parameters will be set to nan. Details: \n",
      "Traceback (most recent call last):\n",
      "  File \"C:\\Users\\skhus\\anaconda3\\lib\\site-packages\\sklearn\\model_selection\\_validation.py\", line 593, in _fit_and_score\n",
      "    estimator.fit(X_train, y_train, **fit_params)\n",
      "  File \"C:\\Users\\skhus\\anaconda3\\lib\\site-packages\\sklearn\\svm\\_classes.py\", line 234, in fit\n",
      "    self.coef_, self.intercept_, self.n_iter_ = _fit_liblinear(\n",
      "  File \"C:\\Users\\skhus\\anaconda3\\lib\\site-packages\\sklearn\\svm\\_base.py\", line 974, in _fit_liblinear\n",
      "    solver_type = _get_liblinear_solver_type(multi_class, penalty, loss, dual)\n",
      "  File \"C:\\Users\\skhus\\anaconda3\\lib\\site-packages\\sklearn\\svm\\_base.py\", line 830, in _get_liblinear_solver_type\n",
      "    raise ValueError('Unsupported set of arguments: %s, '\n",
      "ValueError: Unsupported set of arguments: The combination of penalty='l1' and loss='squared_hinge' are not supported when dual=True, Parameters: penalty='l1', loss='squared_hinge', dual=True\n",
      "\n",
      "  warnings.warn(\"Estimator fit failed. The score on this train-test\"\n",
      "C:\\Users\\skhus\\anaconda3\\lib\\site-packages\\sklearn\\svm\\_base.py:985: ConvergenceWarning: Liblinear failed to converge, increase the number of iterations.\n",
      "  warnings.warn(\"Liblinear failed to converge, increase \"\n"
     ]
    },
    {
     "name": "stdout",
     "output_type": "stream",
     "text": [
      "[CV 1/5] END C=100, dual=True, fit_intercept=False, loss=squared_hinge, multi_class=ovr, penalty=l2; total time=   0.0s\n",
      "[CV 2/5] END C=100, dual=True, fit_intercept=False, loss=squared_hinge, multi_class=ovr, penalty=l2; total time=   0.0s\n"
     ]
    },
    {
     "name": "stderr",
     "output_type": "stream",
     "text": [
      "C:\\Users\\skhus\\anaconda3\\lib\\site-packages\\sklearn\\svm\\_base.py:985: ConvergenceWarning: Liblinear failed to converge, increase the number of iterations.\n",
      "  warnings.warn(\"Liblinear failed to converge, increase \"\n"
     ]
    },
    {
     "name": "stdout",
     "output_type": "stream",
     "text": [
      "[CV 3/5] END C=100, dual=True, fit_intercept=False, loss=squared_hinge, multi_class=ovr, penalty=l2; total time=   0.0s\n",
      "[CV 4/5] END C=100, dual=True, fit_intercept=False, loss=squared_hinge, multi_class=ovr, penalty=l2; total time=   0.0s\n"
     ]
    },
    {
     "name": "stderr",
     "output_type": "stream",
     "text": [
      "C:\\Users\\skhus\\anaconda3\\lib\\site-packages\\sklearn\\svm\\_base.py:985: ConvergenceWarning: Liblinear failed to converge, increase the number of iterations.\n",
      "  warnings.warn(\"Liblinear failed to converge, increase \"\n",
      "C:\\Users\\skhus\\anaconda3\\lib\\site-packages\\sklearn\\svm\\_base.py:985: ConvergenceWarning: Liblinear failed to converge, increase the number of iterations.\n",
      "  warnings.warn(\"Liblinear failed to converge, increase \"\n"
     ]
    },
    {
     "name": "stdout",
     "output_type": "stream",
     "text": [
      "[CV 5/5] END C=100, dual=True, fit_intercept=False, loss=squared_hinge, multi_class=ovr, penalty=l2; total time=   0.0s\n",
      "[CV 1/5] END C=100, dual=True, fit_intercept=False, loss=squared_hinge, multi_class=crammer_singer, penalty=l1; total time=   0.0s\n",
      "[CV 2/5] END C=100, dual=True, fit_intercept=False, loss=squared_hinge, multi_class=crammer_singer, penalty=l1; total time=   0.2s\n",
      "[CV 3/5] END C=100, dual=True, fit_intercept=False, loss=squared_hinge, multi_class=crammer_singer, penalty=l1; total time=   0.0s\n",
      "[CV 4/5] END C=100, dual=True, fit_intercept=False, loss=squared_hinge, multi_class=crammer_singer, penalty=l1; total time=   0.0s\n",
      "[CV 5/5] END C=100, dual=True, fit_intercept=False, loss=squared_hinge, multi_class=crammer_singer, penalty=l1; total time=   0.0s\n",
      "[CV 1/5] END C=100, dual=True, fit_intercept=False, loss=squared_hinge, multi_class=crammer_singer, penalty=l2; total time=   0.0s\n",
      "[CV 2/5] END C=100, dual=True, fit_intercept=False, loss=squared_hinge, multi_class=crammer_singer, penalty=l2; total time=   0.3s\n",
      "[CV 3/5] END C=100, dual=True, fit_intercept=False, loss=squared_hinge, multi_class=crammer_singer, penalty=l2; total time=   0.0s\n",
      "[CV 4/5] END C=100, dual=True, fit_intercept=False, loss=squared_hinge, multi_class=crammer_singer, penalty=l2; total time=   0.0s\n",
      "[CV 5/5] END C=100, dual=True, fit_intercept=False, loss=squared_hinge, multi_class=crammer_singer, penalty=l2; total time=   0.0s\n"
     ]
    },
    {
     "name": "stderr",
     "output_type": "stream",
     "text": [
      "C:\\Users\\skhus\\anaconda3\\lib\\site-packages\\sklearn\\model_selection\\_validation.py:610: FitFailedWarning: Estimator fit failed. The score on this train-test partition for these parameters will be set to nan. Details: \n",
      "Traceback (most recent call last):\n",
      "  File \"C:\\Users\\skhus\\anaconda3\\lib\\site-packages\\sklearn\\model_selection\\_validation.py\", line 593, in _fit_and_score\n",
      "    estimator.fit(X_train, y_train, **fit_params)\n",
      "  File \"C:\\Users\\skhus\\anaconda3\\lib\\site-packages\\sklearn\\svm\\_classes.py\", line 234, in fit\n",
      "    self.coef_, self.intercept_, self.n_iter_ = _fit_liblinear(\n",
      "  File \"C:\\Users\\skhus\\anaconda3\\lib\\site-packages\\sklearn\\svm\\_base.py\", line 974, in _fit_liblinear\n",
      "    solver_type = _get_liblinear_solver_type(multi_class, penalty, loss, dual)\n",
      "  File \"C:\\Users\\skhus\\anaconda3\\lib\\site-packages\\sklearn\\svm\\_base.py\", line 830, in _get_liblinear_solver_type\n",
      "    raise ValueError('Unsupported set of arguments: %s, '\n",
      "ValueError: Unsupported set of arguments: The combination of penalty='l1' and loss='hinge' is not supported, Parameters: penalty='l1', loss='hinge', dual=True\n",
      "\n",
      "  warnings.warn(\"Estimator fit failed. The score on this train-test\"\n",
      "C:\\Users\\skhus\\anaconda3\\lib\\site-packages\\sklearn\\model_selection\\_validation.py:610: FitFailedWarning: Estimator fit failed. The score on this train-test partition for these parameters will be set to nan. Details: \n",
      "Traceback (most recent call last):\n",
      "  File \"C:\\Users\\skhus\\anaconda3\\lib\\site-packages\\sklearn\\model_selection\\_validation.py\", line 593, in _fit_and_score\n",
      "    estimator.fit(X_train, y_train, **fit_params)\n",
      "  File \"C:\\Users\\skhus\\anaconda3\\lib\\site-packages\\sklearn\\svm\\_classes.py\", line 234, in fit\n",
      "    self.coef_, self.intercept_, self.n_iter_ = _fit_liblinear(\n",
      "  File \"C:\\Users\\skhus\\anaconda3\\lib\\site-packages\\sklearn\\svm\\_base.py\", line 974, in _fit_liblinear\n",
      "    solver_type = _get_liblinear_solver_type(multi_class, penalty, loss, dual)\n",
      "  File \"C:\\Users\\skhus\\anaconda3\\lib\\site-packages\\sklearn\\svm\\_base.py\", line 830, in _get_liblinear_solver_type\n",
      "    raise ValueError('Unsupported set of arguments: %s, '\n",
      "ValueError: Unsupported set of arguments: The combination of penalty='l1' and loss='hinge' is not supported, Parameters: penalty='l1', loss='hinge', dual=True\n",
      "\n",
      "  warnings.warn(\"Estimator fit failed. The score on this train-test\"\n",
      "C:\\Users\\skhus\\anaconda3\\lib\\site-packages\\sklearn\\model_selection\\_validation.py:610: FitFailedWarning: Estimator fit failed. The score on this train-test partition for these parameters will be set to nan. Details: \n",
      "Traceback (most recent call last):\n",
      "  File \"C:\\Users\\skhus\\anaconda3\\lib\\site-packages\\sklearn\\model_selection\\_validation.py\", line 593, in _fit_and_score\n",
      "    estimator.fit(X_train, y_train, **fit_params)\n",
      "  File \"C:\\Users\\skhus\\anaconda3\\lib\\site-packages\\sklearn\\svm\\_classes.py\", line 234, in fit\n",
      "    self.coef_, self.intercept_, self.n_iter_ = _fit_liblinear(\n",
      "  File \"C:\\Users\\skhus\\anaconda3\\lib\\site-packages\\sklearn\\svm\\_base.py\", line 974, in _fit_liblinear\n",
      "    solver_type = _get_liblinear_solver_type(multi_class, penalty, loss, dual)\n",
      "  File \"C:\\Users\\skhus\\anaconda3\\lib\\site-packages\\sklearn\\svm\\_base.py\", line 830, in _get_liblinear_solver_type\n",
      "    raise ValueError('Unsupported set of arguments: %s, '\n",
      "ValueError: Unsupported set of arguments: The combination of penalty='l1' and loss='hinge' is not supported, Parameters: penalty='l1', loss='hinge', dual=True\n",
      "\n",
      "  warnings.warn(\"Estimator fit failed. The score on this train-test\"\n",
      "C:\\Users\\skhus\\anaconda3\\lib\\site-packages\\sklearn\\model_selection\\_validation.py:610: FitFailedWarning: Estimator fit failed. The score on this train-test partition for these parameters will be set to nan. Details: \n",
      "Traceback (most recent call last):\n",
      "  File \"C:\\Users\\skhus\\anaconda3\\lib\\site-packages\\sklearn\\model_selection\\_validation.py\", line 593, in _fit_and_score\n",
      "    estimator.fit(X_train, y_train, **fit_params)\n",
      "  File \"C:\\Users\\skhus\\anaconda3\\lib\\site-packages\\sklearn\\svm\\_classes.py\", line 234, in fit\n",
      "    self.coef_, self.intercept_, self.n_iter_ = _fit_liblinear(\n",
      "  File \"C:\\Users\\skhus\\anaconda3\\lib\\site-packages\\sklearn\\svm\\_base.py\", line 974, in _fit_liblinear\n",
      "    solver_type = _get_liblinear_solver_type(multi_class, penalty, loss, dual)\n",
      "  File \"C:\\Users\\skhus\\anaconda3\\lib\\site-packages\\sklearn\\svm\\_base.py\", line 830, in _get_liblinear_solver_type\n",
      "    raise ValueError('Unsupported set of arguments: %s, '\n",
      "ValueError: Unsupported set of arguments: The combination of penalty='l1' and loss='hinge' is not supported, Parameters: penalty='l1', loss='hinge', dual=True\n",
      "\n",
      "  warnings.warn(\"Estimator fit failed. The score on this train-test\"\n",
      "C:\\Users\\skhus\\anaconda3\\lib\\site-packages\\sklearn\\model_selection\\_validation.py:610: FitFailedWarning: Estimator fit failed. The score on this train-test partition for these parameters will be set to nan. Details: \n",
      "Traceback (most recent call last):\n",
      "  File \"C:\\Users\\skhus\\anaconda3\\lib\\site-packages\\sklearn\\model_selection\\_validation.py\", line 593, in _fit_and_score\n",
      "    estimator.fit(X_train, y_train, **fit_params)\n",
      "  File \"C:\\Users\\skhus\\anaconda3\\lib\\site-packages\\sklearn\\svm\\_classes.py\", line 234, in fit\n",
      "    self.coef_, self.intercept_, self.n_iter_ = _fit_liblinear(\n",
      "  File \"C:\\Users\\skhus\\anaconda3\\lib\\site-packages\\sklearn\\svm\\_base.py\", line 974, in _fit_liblinear\n",
      "    solver_type = _get_liblinear_solver_type(multi_class, penalty, loss, dual)\n",
      "  File \"C:\\Users\\skhus\\anaconda3\\lib\\site-packages\\sklearn\\svm\\_base.py\", line 830, in _get_liblinear_solver_type\n",
      "    raise ValueError('Unsupported set of arguments: %s, '\n",
      "ValueError: Unsupported set of arguments: The combination of penalty='l1' and loss='hinge' is not supported, Parameters: penalty='l1', loss='hinge', dual=True\n",
      "\n",
      "  warnings.warn(\"Estimator fit failed. The score on this train-test\"\n"
     ]
    },
    {
     "name": "stdout",
     "output_type": "stream",
     "text": [
      "[CV 1/5] END C=100, dual=True, fit_intercept=True, loss=hinge, multi_class=ovr, penalty=l1; total time=   0.0s\n",
      "[CV 2/5] END C=100, dual=True, fit_intercept=True, loss=hinge, multi_class=ovr, penalty=l1; total time=   0.0s\n",
      "[CV 3/5] END C=100, dual=True, fit_intercept=True, loss=hinge, multi_class=ovr, penalty=l1; total time=   0.0s\n",
      "[CV 4/5] END C=100, dual=True, fit_intercept=True, loss=hinge, multi_class=ovr, penalty=l1; total time=   0.0s\n",
      "[CV 5/5] END C=100, dual=True, fit_intercept=True, loss=hinge, multi_class=ovr, penalty=l1; total time=   0.0s\n",
      "[CV 1/5] END C=100, dual=True, fit_intercept=True, loss=hinge, multi_class=ovr, penalty=l2; total time=   0.0s\n",
      "[CV 2/5] END C=100, dual=True, fit_intercept=True, loss=hinge, multi_class=ovr, penalty=l2; total time=   0.0s\n",
      "[CV 3/5] END C=100, dual=True, fit_intercept=True, loss=hinge, multi_class=ovr, penalty=l2; total time=   0.0s\n",
      "[CV 4/5] END C=100, dual=True, fit_intercept=True, loss=hinge, multi_class=ovr, penalty=l2; total time=   0.0s\n",
      "[CV 5/5] END C=100, dual=True, fit_intercept=True, loss=hinge, multi_class=ovr, penalty=l2; total time=   0.0s\n",
      "[CV 1/5] END C=100, dual=True, fit_intercept=True, loss=hinge, multi_class=crammer_singer, penalty=l1; total time=   0.1s\n"
     ]
    },
    {
     "name": "stderr",
     "output_type": "stream",
     "text": [
      "C:\\Users\\skhus\\anaconda3\\lib\\site-packages\\sklearn\\svm\\_base.py:985: ConvergenceWarning: Liblinear failed to converge, increase the number of iterations.\n",
      "  warnings.warn(\"Liblinear failed to converge, increase \"\n"
     ]
    },
    {
     "name": "stdout",
     "output_type": "stream",
     "text": [
      "[CV 2/5] END C=100, dual=True, fit_intercept=True, loss=hinge, multi_class=crammer_singer, penalty=l1; total time=   0.9s\n"
     ]
    },
    {
     "name": "stderr",
     "output_type": "stream",
     "text": [
      "C:\\Users\\skhus\\anaconda3\\lib\\site-packages\\sklearn\\svm\\_base.py:985: ConvergenceWarning: Liblinear failed to converge, increase the number of iterations.\n",
      "  warnings.warn(\"Liblinear failed to converge, increase \"\n"
     ]
    },
    {
     "name": "stdout",
     "output_type": "stream",
     "text": [
      "[CV 3/5] END C=100, dual=True, fit_intercept=True, loss=hinge, multi_class=crammer_singer, penalty=l1; total time=   0.9s\n"
     ]
    },
    {
     "name": "stderr",
     "output_type": "stream",
     "text": [
      "C:\\Users\\skhus\\anaconda3\\lib\\site-packages\\sklearn\\svm\\_base.py:985: ConvergenceWarning: Liblinear failed to converge, increase the number of iterations.\n",
      "  warnings.warn(\"Liblinear failed to converge, increase \"\n"
     ]
    },
    {
     "name": "stdout",
     "output_type": "stream",
     "text": [
      "[CV 4/5] END C=100, dual=True, fit_intercept=True, loss=hinge, multi_class=crammer_singer, penalty=l1; total time=   0.9s\n"
     ]
    },
    {
     "name": "stderr",
     "output_type": "stream",
     "text": [
      "C:\\Users\\skhus\\anaconda3\\lib\\site-packages\\sklearn\\svm\\_base.py:985: ConvergenceWarning: Liblinear failed to converge, increase the number of iterations.\n",
      "  warnings.warn(\"Liblinear failed to converge, increase \"\n"
     ]
    },
    {
     "name": "stdout",
     "output_type": "stream",
     "text": [
      "[CV 5/5] END C=100, dual=True, fit_intercept=True, loss=hinge, multi_class=crammer_singer, penalty=l1; total time=   0.9s\n",
      "[CV 1/5] END C=100, dual=True, fit_intercept=True, loss=hinge, multi_class=crammer_singer, penalty=l2; total time=   0.1s\n"
     ]
    },
    {
     "name": "stderr",
     "output_type": "stream",
     "text": [
      "C:\\Users\\skhus\\anaconda3\\lib\\site-packages\\sklearn\\svm\\_base.py:985: ConvergenceWarning: Liblinear failed to converge, increase the number of iterations.\n",
      "  warnings.warn(\"Liblinear failed to converge, increase \"\n"
     ]
    },
    {
     "name": "stdout",
     "output_type": "stream",
     "text": [
      "[CV 2/5] END C=100, dual=True, fit_intercept=True, loss=hinge, multi_class=crammer_singer, penalty=l2; total time=   0.9s\n"
     ]
    },
    {
     "name": "stderr",
     "output_type": "stream",
     "text": [
      "C:\\Users\\skhus\\anaconda3\\lib\\site-packages\\sklearn\\svm\\_base.py:985: ConvergenceWarning: Liblinear failed to converge, increase the number of iterations.\n",
      "  warnings.warn(\"Liblinear failed to converge, increase \"\n"
     ]
    },
    {
     "name": "stdout",
     "output_type": "stream",
     "text": [
      "[CV 3/5] END C=100, dual=True, fit_intercept=True, loss=hinge, multi_class=crammer_singer, penalty=l2; total time=   0.9s\n"
     ]
    },
    {
     "name": "stderr",
     "output_type": "stream",
     "text": [
      "C:\\Users\\skhus\\anaconda3\\lib\\site-packages\\sklearn\\svm\\_base.py:985: ConvergenceWarning: Liblinear failed to converge, increase the number of iterations.\n",
      "  warnings.warn(\"Liblinear failed to converge, increase \"\n"
     ]
    },
    {
     "name": "stdout",
     "output_type": "stream",
     "text": [
      "[CV 4/5] END C=100, dual=True, fit_intercept=True, loss=hinge, multi_class=crammer_singer, penalty=l2; total time=   0.9s\n"
     ]
    },
    {
     "name": "stderr",
     "output_type": "stream",
     "text": [
      "C:\\Users\\skhus\\anaconda3\\lib\\site-packages\\sklearn\\svm\\_base.py:985: ConvergenceWarning: Liblinear failed to converge, increase the number of iterations.\n",
      "  warnings.warn(\"Liblinear failed to converge, increase \"\n",
      "C:\\Users\\skhus\\anaconda3\\lib\\site-packages\\sklearn\\model_selection\\_validation.py:610: FitFailedWarning: Estimator fit failed. The score on this train-test partition for these parameters will be set to nan. Details: \n",
      "Traceback (most recent call last):\n",
      "  File \"C:\\Users\\skhus\\anaconda3\\lib\\site-packages\\sklearn\\model_selection\\_validation.py\", line 593, in _fit_and_score\n",
      "    estimator.fit(X_train, y_train, **fit_params)\n",
      "  File \"C:\\Users\\skhus\\anaconda3\\lib\\site-packages\\sklearn\\svm\\_classes.py\", line 234, in fit\n",
      "    self.coef_, self.intercept_, self.n_iter_ = _fit_liblinear(\n",
      "  File \"C:\\Users\\skhus\\anaconda3\\lib\\site-packages\\sklearn\\svm\\_base.py\", line 974, in _fit_liblinear\n",
      "    solver_type = _get_liblinear_solver_type(multi_class, penalty, loss, dual)\n",
      "  File \"C:\\Users\\skhus\\anaconda3\\lib\\site-packages\\sklearn\\svm\\_base.py\", line 830, in _get_liblinear_solver_type\n",
      "    raise ValueError('Unsupported set of arguments: %s, '\n",
      "ValueError: Unsupported set of arguments: The combination of penalty='l1' and loss='squared_hinge' are not supported when dual=True, Parameters: penalty='l1', loss='squared_hinge', dual=True\n",
      "\n",
      "  warnings.warn(\"Estimator fit failed. The score on this train-test\"\n",
      "C:\\Users\\skhus\\anaconda3\\lib\\site-packages\\sklearn\\model_selection\\_validation.py:610: FitFailedWarning: Estimator fit failed. The score on this train-test partition for these parameters will be set to nan. Details: \n",
      "Traceback (most recent call last):\n",
      "  File \"C:\\Users\\skhus\\anaconda3\\lib\\site-packages\\sklearn\\model_selection\\_validation.py\", line 593, in _fit_and_score\n",
      "    estimator.fit(X_train, y_train, **fit_params)\n",
      "  File \"C:\\Users\\skhus\\anaconda3\\lib\\site-packages\\sklearn\\svm\\_classes.py\", line 234, in fit\n",
      "    self.coef_, self.intercept_, self.n_iter_ = _fit_liblinear(\n",
      "  File \"C:\\Users\\skhus\\anaconda3\\lib\\site-packages\\sklearn\\svm\\_base.py\", line 974, in _fit_liblinear\n",
      "    solver_type = _get_liblinear_solver_type(multi_class, penalty, loss, dual)\n",
      "  File \"C:\\Users\\skhus\\anaconda3\\lib\\site-packages\\sklearn\\svm\\_base.py\", line 830, in _get_liblinear_solver_type\n",
      "    raise ValueError('Unsupported set of arguments: %s, '\n",
      "ValueError: Unsupported set of arguments: The combination of penalty='l1' and loss='squared_hinge' are not supported when dual=True, Parameters: penalty='l1', loss='squared_hinge', dual=True\n",
      "\n",
      "  warnings.warn(\"Estimator fit failed. The score on this train-test\"\n",
      "C:\\Users\\skhus\\anaconda3\\lib\\site-packages\\sklearn\\model_selection\\_validation.py:610: FitFailedWarning: Estimator fit failed. The score on this train-test partition for these parameters will be set to nan. Details: \n",
      "Traceback (most recent call last):\n",
      "  File \"C:\\Users\\skhus\\anaconda3\\lib\\site-packages\\sklearn\\model_selection\\_validation.py\", line 593, in _fit_and_score\n",
      "    estimator.fit(X_train, y_train, **fit_params)\n",
      "  File \"C:\\Users\\skhus\\anaconda3\\lib\\site-packages\\sklearn\\svm\\_classes.py\", line 234, in fit\n",
      "    self.coef_, self.intercept_, self.n_iter_ = _fit_liblinear(\n",
      "  File \"C:\\Users\\skhus\\anaconda3\\lib\\site-packages\\sklearn\\svm\\_base.py\", line 974, in _fit_liblinear\n",
      "    solver_type = _get_liblinear_solver_type(multi_class, penalty, loss, dual)\n",
      "  File \"C:\\Users\\skhus\\anaconda3\\lib\\site-packages\\sklearn\\svm\\_base.py\", line 830, in _get_liblinear_solver_type\n",
      "    raise ValueError('Unsupported set of arguments: %s, '\n",
      "ValueError: Unsupported set of arguments: The combination of penalty='l1' and loss='squared_hinge' are not supported when dual=True, Parameters: penalty='l1', loss='squared_hinge', dual=True\n",
      "\n",
      "  warnings.warn(\"Estimator fit failed. The score on this train-test\"\n",
      "C:\\Users\\skhus\\anaconda3\\lib\\site-packages\\sklearn\\model_selection\\_validation.py:610: FitFailedWarning: Estimator fit failed. The score on this train-test partition for these parameters will be set to nan. Details: \n",
      "Traceback (most recent call last):\n",
      "  File \"C:\\Users\\skhus\\anaconda3\\lib\\site-packages\\sklearn\\model_selection\\_validation.py\", line 593, in _fit_and_score\n",
      "    estimator.fit(X_train, y_train, **fit_params)\n",
      "  File \"C:\\Users\\skhus\\anaconda3\\lib\\site-packages\\sklearn\\svm\\_classes.py\", line 234, in fit\n",
      "    self.coef_, self.intercept_, self.n_iter_ = _fit_liblinear(\n",
      "  File \"C:\\Users\\skhus\\anaconda3\\lib\\site-packages\\sklearn\\svm\\_base.py\", line 974, in _fit_liblinear\n",
      "    solver_type = _get_liblinear_solver_type(multi_class, penalty, loss, dual)\n",
      "  File \"C:\\Users\\skhus\\anaconda3\\lib\\site-packages\\sklearn\\svm\\_base.py\", line 830, in _get_liblinear_solver_type\n",
      "    raise ValueError('Unsupported set of arguments: %s, '\n",
      "ValueError: Unsupported set of arguments: The combination of penalty='l1' and loss='squared_hinge' are not supported when dual=True, Parameters: penalty='l1', loss='squared_hinge', dual=True\n",
      "\n",
      "  warnings.warn(\"Estimator fit failed. The score on this train-test\"\n",
      "C:\\Users\\skhus\\anaconda3\\lib\\site-packages\\sklearn\\model_selection\\_validation.py:610: FitFailedWarning: Estimator fit failed. The score on this train-test partition for these parameters will be set to nan. Details: \n",
      "Traceback (most recent call last):\n",
      "  File \"C:\\Users\\skhus\\anaconda3\\lib\\site-packages\\sklearn\\model_selection\\_validation.py\", line 593, in _fit_and_score\n",
      "    estimator.fit(X_train, y_train, **fit_params)\n",
      "  File \"C:\\Users\\skhus\\anaconda3\\lib\\site-packages\\sklearn\\svm\\_classes.py\", line 234, in fit\n",
      "    self.coef_, self.intercept_, self.n_iter_ = _fit_liblinear(\n",
      "  File \"C:\\Users\\skhus\\anaconda3\\lib\\site-packages\\sklearn\\svm\\_base.py\", line 974, in _fit_liblinear\n",
      "    solver_type = _get_liblinear_solver_type(multi_class, penalty, loss, dual)\n",
      "  File \"C:\\Users\\skhus\\anaconda3\\lib\\site-packages\\sklearn\\svm\\_base.py\", line 830, in _get_liblinear_solver_type\n",
      "    raise ValueError('Unsupported set of arguments: %s, '\n",
      "ValueError: Unsupported set of arguments: The combination of penalty='l1' and loss='squared_hinge' are not supported when dual=True, Parameters: penalty='l1', loss='squared_hinge', dual=True\n",
      "\n",
      "  warnings.warn(\"Estimator fit failed. The score on this train-test\"\n",
      "C:\\Users\\skhus\\anaconda3\\lib\\site-packages\\sklearn\\svm\\_base.py:985: ConvergenceWarning: Liblinear failed to converge, increase the number of iterations.\n",
      "  warnings.warn(\"Liblinear failed to converge, increase \"\n"
     ]
    },
    {
     "name": "stdout",
     "output_type": "stream",
     "text": [
      "[CV 5/5] END C=100, dual=True, fit_intercept=True, loss=hinge, multi_class=crammer_singer, penalty=l2; total time=   1.0s\n",
      "[CV 1/5] END C=100, dual=True, fit_intercept=True, loss=squared_hinge, multi_class=ovr, penalty=l1; total time=   0.0s\n",
      "[CV 2/5] END C=100, dual=True, fit_intercept=True, loss=squared_hinge, multi_class=ovr, penalty=l1; total time=   0.0s\n",
      "[CV 3/5] END C=100, dual=True, fit_intercept=True, loss=squared_hinge, multi_class=ovr, penalty=l1; total time=   0.0s\n",
      "[CV 4/5] END C=100, dual=True, fit_intercept=True, loss=squared_hinge, multi_class=ovr, penalty=l1; total time=   0.0s\n",
      "[CV 5/5] END C=100, dual=True, fit_intercept=True, loss=squared_hinge, multi_class=ovr, penalty=l1; total time=   0.0s\n",
      "[CV 1/5] END C=100, dual=True, fit_intercept=True, loss=squared_hinge, multi_class=ovr, penalty=l2; total time=   0.0s\n"
     ]
    },
    {
     "name": "stderr",
     "output_type": "stream",
     "text": [
      "C:\\Users\\skhus\\anaconda3\\lib\\site-packages\\sklearn\\svm\\_base.py:985: ConvergenceWarning: Liblinear failed to converge, increase the number of iterations.\n",
      "  warnings.warn(\"Liblinear failed to converge, increase \"\n",
      "C:\\Users\\skhus\\anaconda3\\lib\\site-packages\\sklearn\\svm\\_base.py:985: ConvergenceWarning: Liblinear failed to converge, increase the number of iterations.\n",
      "  warnings.warn(\"Liblinear failed to converge, increase \"\n"
     ]
    },
    {
     "name": "stdout",
     "output_type": "stream",
     "text": [
      "[CV 2/5] END C=100, dual=True, fit_intercept=True, loss=squared_hinge, multi_class=ovr, penalty=l2; total time=   0.0s\n",
      "[CV 3/5] END C=100, dual=True, fit_intercept=True, loss=squared_hinge, multi_class=ovr, penalty=l2; total time=   0.0s\n"
     ]
    },
    {
     "name": "stderr",
     "output_type": "stream",
     "text": [
      "C:\\Users\\skhus\\anaconda3\\lib\\site-packages\\sklearn\\svm\\_base.py:985: ConvergenceWarning: Liblinear failed to converge, increase the number of iterations.\n",
      "  warnings.warn(\"Liblinear failed to converge, increase \"\n",
      "C:\\Users\\skhus\\anaconda3\\lib\\site-packages\\sklearn\\svm\\_base.py:985: ConvergenceWarning: Liblinear failed to converge, increase the number of iterations.\n",
      "  warnings.warn(\"Liblinear failed to converge, increase \"\n"
     ]
    },
    {
     "name": "stdout",
     "output_type": "stream",
     "text": [
      "[CV 4/5] END C=100, dual=True, fit_intercept=True, loss=squared_hinge, multi_class=ovr, penalty=l2; total time=   0.0s\n",
      "[CV 5/5] END C=100, dual=True, fit_intercept=True, loss=squared_hinge, multi_class=ovr, penalty=l2; total time=   0.0s\n",
      "[CV 1/5] END C=100, dual=True, fit_intercept=True, loss=squared_hinge, multi_class=crammer_singer, penalty=l1; total time=   0.1s\n"
     ]
    },
    {
     "name": "stderr",
     "output_type": "stream",
     "text": [
      "C:\\Users\\skhus\\anaconda3\\lib\\site-packages\\sklearn\\svm\\_base.py:985: ConvergenceWarning: Liblinear failed to converge, increase the number of iterations.\n",
      "  warnings.warn(\"Liblinear failed to converge, increase \"\n"
     ]
    },
    {
     "name": "stdout",
     "output_type": "stream",
     "text": [
      "[CV 2/5] END C=100, dual=True, fit_intercept=True, loss=squared_hinge, multi_class=crammer_singer, penalty=l1; total time=   0.9s\n"
     ]
    },
    {
     "name": "stderr",
     "output_type": "stream",
     "text": [
      "C:\\Users\\skhus\\anaconda3\\lib\\site-packages\\sklearn\\svm\\_base.py:985: ConvergenceWarning: Liblinear failed to converge, increase the number of iterations.\n",
      "  warnings.warn(\"Liblinear failed to converge, increase \"\n"
     ]
    },
    {
     "name": "stdout",
     "output_type": "stream",
     "text": [
      "[CV 3/5] END C=100, dual=True, fit_intercept=True, loss=squared_hinge, multi_class=crammer_singer, penalty=l1; total time=   0.9s\n"
     ]
    },
    {
     "name": "stderr",
     "output_type": "stream",
     "text": [
      "C:\\Users\\skhus\\anaconda3\\lib\\site-packages\\sklearn\\svm\\_base.py:985: ConvergenceWarning: Liblinear failed to converge, increase the number of iterations.\n",
      "  warnings.warn(\"Liblinear failed to converge, increase \"\n"
     ]
    },
    {
     "name": "stdout",
     "output_type": "stream",
     "text": [
      "[CV 4/5] END C=100, dual=True, fit_intercept=True, loss=squared_hinge, multi_class=crammer_singer, penalty=l1; total time=   0.9s\n"
     ]
    },
    {
     "name": "stderr",
     "output_type": "stream",
     "text": [
      "C:\\Users\\skhus\\anaconda3\\lib\\site-packages\\sklearn\\svm\\_base.py:985: ConvergenceWarning: Liblinear failed to converge, increase the number of iterations.\n",
      "  warnings.warn(\"Liblinear failed to converge, increase \"\n"
     ]
    },
    {
     "name": "stdout",
     "output_type": "stream",
     "text": [
      "[CV 5/5] END C=100, dual=True, fit_intercept=True, loss=squared_hinge, multi_class=crammer_singer, penalty=l1; total time=   1.0s\n",
      "[CV 1/5] END C=100, dual=True, fit_intercept=True, loss=squared_hinge, multi_class=crammer_singer, penalty=l2; total time=   0.1s\n"
     ]
    },
    {
     "name": "stderr",
     "output_type": "stream",
     "text": [
      "C:\\Users\\skhus\\anaconda3\\lib\\site-packages\\sklearn\\svm\\_base.py:985: ConvergenceWarning: Liblinear failed to converge, increase the number of iterations.\n",
      "  warnings.warn(\"Liblinear failed to converge, increase \"\n"
     ]
    },
    {
     "name": "stdout",
     "output_type": "stream",
     "text": [
      "[CV 2/5] END C=100, dual=True, fit_intercept=True, loss=squared_hinge, multi_class=crammer_singer, penalty=l2; total time=   0.9s\n"
     ]
    },
    {
     "name": "stderr",
     "output_type": "stream",
     "text": [
      "C:\\Users\\skhus\\anaconda3\\lib\\site-packages\\sklearn\\svm\\_base.py:985: ConvergenceWarning: Liblinear failed to converge, increase the number of iterations.\n",
      "  warnings.warn(\"Liblinear failed to converge, increase \"\n"
     ]
    },
    {
     "name": "stdout",
     "output_type": "stream",
     "text": [
      "[CV 3/5] END C=100, dual=True, fit_intercept=True, loss=squared_hinge, multi_class=crammer_singer, penalty=l2; total time=   0.9s\n"
     ]
    },
    {
     "name": "stderr",
     "output_type": "stream",
     "text": [
      "C:\\Users\\skhus\\anaconda3\\lib\\site-packages\\sklearn\\svm\\_base.py:985: ConvergenceWarning: Liblinear failed to converge, increase the number of iterations.\n",
      "  warnings.warn(\"Liblinear failed to converge, increase \"\n"
     ]
    },
    {
     "name": "stdout",
     "output_type": "stream",
     "text": [
      "[CV 4/5] END C=100, dual=True, fit_intercept=True, loss=squared_hinge, multi_class=crammer_singer, penalty=l2; total time=   0.9s\n"
     ]
    },
    {
     "name": "stderr",
     "output_type": "stream",
     "text": [
      "C:\\Users\\skhus\\anaconda3\\lib\\site-packages\\sklearn\\svm\\_base.py:985: ConvergenceWarning: Liblinear failed to converge, increase the number of iterations.\n",
      "  warnings.warn(\"Liblinear failed to converge, increase \"\n",
      "C:\\Users\\skhus\\anaconda3\\lib\\site-packages\\sklearn\\model_selection\\_validation.py:610: FitFailedWarning: Estimator fit failed. The score on this train-test partition for these parameters will be set to nan. Details: \n",
      "Traceback (most recent call last):\n",
      "  File \"C:\\Users\\skhus\\anaconda3\\lib\\site-packages\\sklearn\\model_selection\\_validation.py\", line 593, in _fit_and_score\n",
      "    estimator.fit(X_train, y_train, **fit_params)\n",
      "  File \"C:\\Users\\skhus\\anaconda3\\lib\\site-packages\\sklearn\\svm\\_classes.py\", line 234, in fit\n",
      "    self.coef_, self.intercept_, self.n_iter_ = _fit_liblinear(\n",
      "  File \"C:\\Users\\skhus\\anaconda3\\lib\\site-packages\\sklearn\\svm\\_base.py\", line 974, in _fit_liblinear\n",
      "    solver_type = _get_liblinear_solver_type(multi_class, penalty, loss, dual)\n",
      "  File \"C:\\Users\\skhus\\anaconda3\\lib\\site-packages\\sklearn\\svm\\_base.py\", line 830, in _get_liblinear_solver_type\n",
      "    raise ValueError('Unsupported set of arguments: %s, '\n",
      "ValueError: Unsupported set of arguments: The combination of penalty='l1' and loss='hinge' is not supported, Parameters: penalty='l1', loss='hinge', dual=False\n",
      "\n",
      "  warnings.warn(\"Estimator fit failed. The score on this train-test\"\n",
      "C:\\Users\\skhus\\anaconda3\\lib\\site-packages\\sklearn\\model_selection\\_validation.py:610: FitFailedWarning: Estimator fit failed. The score on this train-test partition for these parameters will be set to nan. Details: \n",
      "Traceback (most recent call last):\n",
      "  File \"C:\\Users\\skhus\\anaconda3\\lib\\site-packages\\sklearn\\model_selection\\_validation.py\", line 593, in _fit_and_score\n",
      "    estimator.fit(X_train, y_train, **fit_params)\n",
      "  File \"C:\\Users\\skhus\\anaconda3\\lib\\site-packages\\sklearn\\svm\\_classes.py\", line 234, in fit\n",
      "    self.coef_, self.intercept_, self.n_iter_ = _fit_liblinear(\n",
      "  File \"C:\\Users\\skhus\\anaconda3\\lib\\site-packages\\sklearn\\svm\\_base.py\", line 974, in _fit_liblinear\n",
      "    solver_type = _get_liblinear_solver_type(multi_class, penalty, loss, dual)\n",
      "  File \"C:\\Users\\skhus\\anaconda3\\lib\\site-packages\\sklearn\\svm\\_base.py\", line 830, in _get_liblinear_solver_type\n",
      "    raise ValueError('Unsupported set of arguments: %s, '\n",
      "ValueError: Unsupported set of arguments: The combination of penalty='l1' and loss='hinge' is not supported, Parameters: penalty='l1', loss='hinge', dual=False\n",
      "\n",
      "  warnings.warn(\"Estimator fit failed. The score on this train-test\"\n",
      "C:\\Users\\skhus\\anaconda3\\lib\\site-packages\\sklearn\\model_selection\\_validation.py:610: FitFailedWarning: Estimator fit failed. The score on this train-test partition for these parameters will be set to nan. Details: \n",
      "Traceback (most recent call last):\n",
      "  File \"C:\\Users\\skhus\\anaconda3\\lib\\site-packages\\sklearn\\model_selection\\_validation.py\", line 593, in _fit_and_score\n",
      "    estimator.fit(X_train, y_train, **fit_params)\n",
      "  File \"C:\\Users\\skhus\\anaconda3\\lib\\site-packages\\sklearn\\svm\\_classes.py\", line 234, in fit\n",
      "    self.coef_, self.intercept_, self.n_iter_ = _fit_liblinear(\n",
      "  File \"C:\\Users\\skhus\\anaconda3\\lib\\site-packages\\sklearn\\svm\\_base.py\", line 974, in _fit_liblinear\n",
      "    solver_type = _get_liblinear_solver_type(multi_class, penalty, loss, dual)\n",
      "  File \"C:\\Users\\skhus\\anaconda3\\lib\\site-packages\\sklearn\\svm\\_base.py\", line 830, in _get_liblinear_solver_type\n",
      "    raise ValueError('Unsupported set of arguments: %s, '\n",
      "ValueError: Unsupported set of arguments: The combination of penalty='l1' and loss='hinge' is not supported, Parameters: penalty='l1', loss='hinge', dual=False\n",
      "\n",
      "  warnings.warn(\"Estimator fit failed. The score on this train-test\"\n",
      "C:\\Users\\skhus\\anaconda3\\lib\\site-packages\\sklearn\\model_selection\\_validation.py:610: FitFailedWarning: Estimator fit failed. The score on this train-test partition for these parameters will be set to nan. Details: \n",
      "Traceback (most recent call last):\n",
      "  File \"C:\\Users\\skhus\\anaconda3\\lib\\site-packages\\sklearn\\model_selection\\_validation.py\", line 593, in _fit_and_score\n",
      "    estimator.fit(X_train, y_train, **fit_params)\n",
      "  File \"C:\\Users\\skhus\\anaconda3\\lib\\site-packages\\sklearn\\svm\\_classes.py\", line 234, in fit\n",
      "    self.coef_, self.intercept_, self.n_iter_ = _fit_liblinear(\n",
      "  File \"C:\\Users\\skhus\\anaconda3\\lib\\site-packages\\sklearn\\svm\\_base.py\", line 974, in _fit_liblinear\n",
      "    solver_type = _get_liblinear_solver_type(multi_class, penalty, loss, dual)\n",
      "  File \"C:\\Users\\skhus\\anaconda3\\lib\\site-packages\\sklearn\\svm\\_base.py\", line 830, in _get_liblinear_solver_type\n",
      "    raise ValueError('Unsupported set of arguments: %s, '\n",
      "ValueError: Unsupported set of arguments: The combination of penalty='l1' and loss='hinge' is not supported, Parameters: penalty='l1', loss='hinge', dual=False\n",
      "\n",
      "  warnings.warn(\"Estimator fit failed. The score on this train-test\"\n",
      "C:\\Users\\skhus\\anaconda3\\lib\\site-packages\\sklearn\\model_selection\\_validation.py:610: FitFailedWarning: Estimator fit failed. The score on this train-test partition for these parameters will be set to nan. Details: \n",
      "Traceback (most recent call last):\n",
      "  File \"C:\\Users\\skhus\\anaconda3\\lib\\site-packages\\sklearn\\model_selection\\_validation.py\", line 593, in _fit_and_score\n",
      "    estimator.fit(X_train, y_train, **fit_params)\n",
      "  File \"C:\\Users\\skhus\\anaconda3\\lib\\site-packages\\sklearn\\svm\\_classes.py\", line 234, in fit\n",
      "    self.coef_, self.intercept_, self.n_iter_ = _fit_liblinear(\n",
      "  File \"C:\\Users\\skhus\\anaconda3\\lib\\site-packages\\sklearn\\svm\\_base.py\", line 974, in _fit_liblinear\n",
      "    solver_type = _get_liblinear_solver_type(multi_class, penalty, loss, dual)\n",
      "  File \"C:\\Users\\skhus\\anaconda3\\lib\\site-packages\\sklearn\\svm\\_base.py\", line 830, in _get_liblinear_solver_type\n",
      "    raise ValueError('Unsupported set of arguments: %s, '\n",
      "ValueError: Unsupported set of arguments: The combination of penalty='l1' and loss='hinge' is not supported, Parameters: penalty='l1', loss='hinge', dual=False\n",
      "\n",
      "  warnings.warn(\"Estimator fit failed. The score on this train-test\"\n",
      "C:\\Users\\skhus\\anaconda3\\lib\\site-packages\\sklearn\\model_selection\\_validation.py:610: FitFailedWarning: Estimator fit failed. The score on this train-test partition for these parameters will be set to nan. Details: \n",
      "Traceback (most recent call last):\n",
      "  File \"C:\\Users\\skhus\\anaconda3\\lib\\site-packages\\sklearn\\model_selection\\_validation.py\", line 593, in _fit_and_score\n",
      "    estimator.fit(X_train, y_train, **fit_params)\n",
      "  File \"C:\\Users\\skhus\\anaconda3\\lib\\site-packages\\sklearn\\svm\\_classes.py\", line 234, in fit\n",
      "    self.coef_, self.intercept_, self.n_iter_ = _fit_liblinear(\n",
      "  File \"C:\\Users\\skhus\\anaconda3\\lib\\site-packages\\sklearn\\svm\\_base.py\", line 974, in _fit_liblinear\n",
      "    solver_type = _get_liblinear_solver_type(multi_class, penalty, loss, dual)\n",
      "  File \"C:\\Users\\skhus\\anaconda3\\lib\\site-packages\\sklearn\\svm\\_base.py\", line 830, in _get_liblinear_solver_type\n",
      "    raise ValueError('Unsupported set of arguments: %s, '\n",
      "ValueError: Unsupported set of arguments: The combination of penalty='l2' and loss='hinge' are not supported when dual=False, Parameters: penalty='l2', loss='hinge', dual=False\n",
      "\n",
      "  warnings.warn(\"Estimator fit failed. The score on this train-test\"\n",
      "C:\\Users\\skhus\\anaconda3\\lib\\site-packages\\sklearn\\model_selection\\_validation.py:610: FitFailedWarning: Estimator fit failed. The score on this train-test partition for these parameters will be set to nan. Details: \n",
      "Traceback (most recent call last):\n",
      "  File \"C:\\Users\\skhus\\anaconda3\\lib\\site-packages\\sklearn\\model_selection\\_validation.py\", line 593, in _fit_and_score\n",
      "    estimator.fit(X_train, y_train, **fit_params)\n",
      "  File \"C:\\Users\\skhus\\anaconda3\\lib\\site-packages\\sklearn\\svm\\_classes.py\", line 234, in fit\n",
      "    self.coef_, self.intercept_, self.n_iter_ = _fit_liblinear(\n",
      "  File \"C:\\Users\\skhus\\anaconda3\\lib\\site-packages\\sklearn\\svm\\_base.py\", line 974, in _fit_liblinear\n",
      "    solver_type = _get_liblinear_solver_type(multi_class, penalty, loss, dual)\n",
      "  File \"C:\\Users\\skhus\\anaconda3\\lib\\site-packages\\sklearn\\svm\\_base.py\", line 830, in _get_liblinear_solver_type\n",
      "    raise ValueError('Unsupported set of arguments: %s, '\n",
      "ValueError: Unsupported set of arguments: The combination of penalty='l2' and loss='hinge' are not supported when dual=False, Parameters: penalty='l2', loss='hinge', dual=False\n",
      "\n",
      "  warnings.warn(\"Estimator fit failed. The score on this train-test\"\n",
      "C:\\Users\\skhus\\anaconda3\\lib\\site-packages\\sklearn\\model_selection\\_validation.py:610: FitFailedWarning: Estimator fit failed. The score on this train-test partition for these parameters will be set to nan. Details: \n",
      "Traceback (most recent call last):\n",
      "  File \"C:\\Users\\skhus\\anaconda3\\lib\\site-packages\\sklearn\\model_selection\\_validation.py\", line 593, in _fit_and_score\n",
      "    estimator.fit(X_train, y_train, **fit_params)\n",
      "  File \"C:\\Users\\skhus\\anaconda3\\lib\\site-packages\\sklearn\\svm\\_classes.py\", line 234, in fit\n",
      "    self.coef_, self.intercept_, self.n_iter_ = _fit_liblinear(\n",
      "  File \"C:\\Users\\skhus\\anaconda3\\lib\\site-packages\\sklearn\\svm\\_base.py\", line 974, in _fit_liblinear\n",
      "    solver_type = _get_liblinear_solver_type(multi_class, penalty, loss, dual)\n",
      "  File \"C:\\Users\\skhus\\anaconda3\\lib\\site-packages\\sklearn\\svm\\_base.py\", line 830, in _get_liblinear_solver_type\n",
      "    raise ValueError('Unsupported set of arguments: %s, '\n",
      "ValueError: Unsupported set of arguments: The combination of penalty='l2' and loss='hinge' are not supported when dual=False, Parameters: penalty='l2', loss='hinge', dual=False\n",
      "\n",
      "  warnings.warn(\"Estimator fit failed. The score on this train-test\"\n",
      "C:\\Users\\skhus\\anaconda3\\lib\\site-packages\\sklearn\\model_selection\\_validation.py:610: FitFailedWarning: Estimator fit failed. The score on this train-test partition for these parameters will be set to nan. Details: \n",
      "Traceback (most recent call last):\n",
      "  File \"C:\\Users\\skhus\\anaconda3\\lib\\site-packages\\sklearn\\model_selection\\_validation.py\", line 593, in _fit_and_score\n",
      "    estimator.fit(X_train, y_train, **fit_params)\n",
      "  File \"C:\\Users\\skhus\\anaconda3\\lib\\site-packages\\sklearn\\svm\\_classes.py\", line 234, in fit\n",
      "    self.coef_, self.intercept_, self.n_iter_ = _fit_liblinear(\n",
      "  File \"C:\\Users\\skhus\\anaconda3\\lib\\site-packages\\sklearn\\svm\\_base.py\", line 974, in _fit_liblinear\n",
      "    solver_type = _get_liblinear_solver_type(multi_class, penalty, loss, dual)\n",
      "  File \"C:\\Users\\skhus\\anaconda3\\lib\\site-packages\\sklearn\\svm\\_base.py\", line 830, in _get_liblinear_solver_type\n",
      "    raise ValueError('Unsupported set of arguments: %s, '\n",
      "ValueError: Unsupported set of arguments: The combination of penalty='l2' and loss='hinge' are not supported when dual=False, Parameters: penalty='l2', loss='hinge', dual=False\n",
      "\n",
      "  warnings.warn(\"Estimator fit failed. The score on this train-test\"\n",
      "C:\\Users\\skhus\\anaconda3\\lib\\site-packages\\sklearn\\model_selection\\_validation.py:610: FitFailedWarning: Estimator fit failed. The score on this train-test partition for these parameters will be set to nan. Details: \n",
      "Traceback (most recent call last):\n",
      "  File \"C:\\Users\\skhus\\anaconda3\\lib\\site-packages\\sklearn\\model_selection\\_validation.py\", line 593, in _fit_and_score\n",
      "    estimator.fit(X_train, y_train, **fit_params)\n",
      "  File \"C:\\Users\\skhus\\anaconda3\\lib\\site-packages\\sklearn\\svm\\_classes.py\", line 234, in fit\n",
      "    self.coef_, self.intercept_, self.n_iter_ = _fit_liblinear(\n",
      "  File \"C:\\Users\\skhus\\anaconda3\\lib\\site-packages\\sklearn\\svm\\_base.py\", line 974, in _fit_liblinear\n",
      "    solver_type = _get_liblinear_solver_type(multi_class, penalty, loss, dual)\n",
      "  File \"C:\\Users\\skhus\\anaconda3\\lib\\site-packages\\sklearn\\svm\\_base.py\", line 830, in _get_liblinear_solver_type\n",
      "    raise ValueError('Unsupported set of arguments: %s, '\n",
      "ValueError: Unsupported set of arguments: The combination of penalty='l2' and loss='hinge' are not supported when dual=False, Parameters: penalty='l2', loss='hinge', dual=False\n",
      "\n",
      "  warnings.warn(\"Estimator fit failed. The score on this train-test\"\n"
     ]
    },
    {
     "name": "stdout",
     "output_type": "stream",
     "text": [
      "[CV 5/5] END C=100, dual=True, fit_intercept=True, loss=squared_hinge, multi_class=crammer_singer, penalty=l2; total time=   1.0s\n",
      "[CV 1/5] END C=1000, dual=False, fit_intercept=False, loss=hinge, multi_class=ovr, penalty=l1; total time=   0.0s\n",
      "[CV 2/5] END C=1000, dual=False, fit_intercept=False, loss=hinge, multi_class=ovr, penalty=l1; total time=   0.0s\n",
      "[CV 3/5] END C=1000, dual=False, fit_intercept=False, loss=hinge, multi_class=ovr, penalty=l1; total time=   0.0s\n",
      "[CV 4/5] END C=1000, dual=False, fit_intercept=False, loss=hinge, multi_class=ovr, penalty=l1; total time=   0.0s\n",
      "[CV 5/5] END C=1000, dual=False, fit_intercept=False, loss=hinge, multi_class=ovr, penalty=l1; total time=   0.0s\n",
      "[CV 1/5] END C=1000, dual=False, fit_intercept=False, loss=hinge, multi_class=ovr, penalty=l2; total time=   0.0s\n",
      "[CV 2/5] END C=1000, dual=False, fit_intercept=False, loss=hinge, multi_class=ovr, penalty=l2; total time=   0.0s\n",
      "[CV 3/5] END C=1000, dual=False, fit_intercept=False, loss=hinge, multi_class=ovr, penalty=l2; total time=   0.0s\n",
      "[CV 4/5] END C=1000, dual=False, fit_intercept=False, loss=hinge, multi_class=ovr, penalty=l2; total time=   0.0s\n",
      "[CV 5/5] END C=1000, dual=False, fit_intercept=False, loss=hinge, multi_class=ovr, penalty=l2; total time=   0.0s\n"
     ]
    },
    {
     "name": "stderr",
     "output_type": "stream",
     "text": [
      "C:\\Users\\skhus\\anaconda3\\lib\\site-packages\\sklearn\\svm\\_base.py:985: ConvergenceWarning: Liblinear failed to converge, increase the number of iterations.\n",
      "  warnings.warn(\"Liblinear failed to converge, increase \"\n"
     ]
    },
    {
     "name": "stdout",
     "output_type": "stream",
     "text": [
      "[CV 1/5] END C=1000, dual=False, fit_intercept=False, loss=hinge, multi_class=crammer_singer, penalty=l1; total time=   0.5s\n"
     ]
    },
    {
     "name": "stderr",
     "output_type": "stream",
     "text": [
      "C:\\Users\\skhus\\anaconda3\\lib\\site-packages\\sklearn\\svm\\_base.py:985: ConvergenceWarning: Liblinear failed to converge, increase the number of iterations.\n",
      "  warnings.warn(\"Liblinear failed to converge, increase \"\n"
     ]
    },
    {
     "name": "stdout",
     "output_type": "stream",
     "text": [
      "[CV 2/5] END C=1000, dual=False, fit_intercept=False, loss=hinge, multi_class=crammer_singer, penalty=l1; total time=   0.8s\n",
      "[CV 3/5] END C=1000, dual=False, fit_intercept=False, loss=hinge, multi_class=crammer_singer, penalty=l1; total time=   0.0s\n"
     ]
    },
    {
     "name": "stderr",
     "output_type": "stream",
     "text": [
      "C:\\Users\\skhus\\anaconda3\\lib\\site-packages\\sklearn\\svm\\_base.py:985: ConvergenceWarning: Liblinear failed to converge, increase the number of iterations.\n",
      "  warnings.warn(\"Liblinear failed to converge, increase \"\n"
     ]
    },
    {
     "name": "stdout",
     "output_type": "stream",
     "text": [
      "[CV 4/5] END C=1000, dual=False, fit_intercept=False, loss=hinge, multi_class=crammer_singer, penalty=l1; total time=   0.5s\n"
     ]
    },
    {
     "name": "stderr",
     "output_type": "stream",
     "text": [
      "C:\\Users\\skhus\\anaconda3\\lib\\site-packages\\sklearn\\svm\\_base.py:985: ConvergenceWarning: Liblinear failed to converge, increase the number of iterations.\n",
      "  warnings.warn(\"Liblinear failed to converge, increase \"\n"
     ]
    },
    {
     "name": "stdout",
     "output_type": "stream",
     "text": [
      "[CV 5/5] END C=1000, dual=False, fit_intercept=False, loss=hinge, multi_class=crammer_singer, penalty=l1; total time=   0.4s\n"
     ]
    },
    {
     "name": "stderr",
     "output_type": "stream",
     "text": [
      "C:\\Users\\skhus\\anaconda3\\lib\\site-packages\\sklearn\\svm\\_base.py:985: ConvergenceWarning: Liblinear failed to converge, increase the number of iterations.\n",
      "  warnings.warn(\"Liblinear failed to converge, increase \"\n"
     ]
    },
    {
     "name": "stdout",
     "output_type": "stream",
     "text": [
      "[CV 1/5] END C=1000, dual=False, fit_intercept=False, loss=hinge, multi_class=crammer_singer, penalty=l2; total time=   0.5s\n"
     ]
    },
    {
     "name": "stderr",
     "output_type": "stream",
     "text": [
      "C:\\Users\\skhus\\anaconda3\\lib\\site-packages\\sklearn\\svm\\_base.py:985: ConvergenceWarning: Liblinear failed to converge, increase the number of iterations.\n",
      "  warnings.warn(\"Liblinear failed to converge, increase \"\n"
     ]
    },
    {
     "name": "stdout",
     "output_type": "stream",
     "text": [
      "[CV 2/5] END C=1000, dual=False, fit_intercept=False, loss=hinge, multi_class=crammer_singer, penalty=l2; total time=   0.9s\n",
      "[CV 3/5] END C=1000, dual=False, fit_intercept=False, loss=hinge, multi_class=crammer_singer, penalty=l2; total time=   0.0s\n"
     ]
    },
    {
     "name": "stderr",
     "output_type": "stream",
     "text": [
      "C:\\Users\\skhus\\anaconda3\\lib\\site-packages\\sklearn\\svm\\_base.py:985: ConvergenceWarning: Liblinear failed to converge, increase the number of iterations.\n",
      "  warnings.warn(\"Liblinear failed to converge, increase \"\n"
     ]
    },
    {
     "name": "stdout",
     "output_type": "stream",
     "text": [
      "[CV 4/5] END C=1000, dual=False, fit_intercept=False, loss=hinge, multi_class=crammer_singer, penalty=l2; total time=   0.5s\n"
     ]
    },
    {
     "name": "stderr",
     "output_type": "stream",
     "text": [
      "C:\\Users\\skhus\\anaconda3\\lib\\site-packages\\sklearn\\svm\\_base.py:985: ConvergenceWarning: Liblinear failed to converge, increase the number of iterations.\n",
      "  warnings.warn(\"Liblinear failed to converge, increase \"\n",
      "C:\\Users\\skhus\\anaconda3\\lib\\site-packages\\sklearn\\svm\\_base.py:985: ConvergenceWarning: Liblinear failed to converge, increase the number of iterations.\n",
      "  warnings.warn(\"Liblinear failed to converge, increase \"\n"
     ]
    },
    {
     "name": "stdout",
     "output_type": "stream",
     "text": [
      "[CV 5/5] END C=1000, dual=False, fit_intercept=False, loss=hinge, multi_class=crammer_singer, penalty=l2; total time=   0.4s\n",
      "[CV 1/5] END C=1000, dual=False, fit_intercept=False, loss=squared_hinge, multi_class=ovr, penalty=l1; total time=   0.1s\n"
     ]
    },
    {
     "name": "stderr",
     "output_type": "stream",
     "text": [
      "C:\\Users\\skhus\\anaconda3\\lib\\site-packages\\sklearn\\svm\\_base.py:985: ConvergenceWarning: Liblinear failed to converge, increase the number of iterations.\n",
      "  warnings.warn(\"Liblinear failed to converge, increase \"\n",
      "C:\\Users\\skhus\\anaconda3\\lib\\site-packages\\sklearn\\svm\\_base.py:985: ConvergenceWarning: Liblinear failed to converge, increase the number of iterations.\n",
      "  warnings.warn(\"Liblinear failed to converge, increase \"\n"
     ]
    },
    {
     "name": "stdout",
     "output_type": "stream",
     "text": [
      "[CV 2/5] END C=1000, dual=False, fit_intercept=False, loss=squared_hinge, multi_class=ovr, penalty=l1; total time=   0.1s\n",
      "[CV 3/5] END C=1000, dual=False, fit_intercept=False, loss=squared_hinge, multi_class=ovr, penalty=l1; total time=   0.1s\n"
     ]
    },
    {
     "name": "stderr",
     "output_type": "stream",
     "text": [
      "C:\\Users\\skhus\\anaconda3\\lib\\site-packages\\sklearn\\svm\\_base.py:985: ConvergenceWarning: Liblinear failed to converge, increase the number of iterations.\n",
      "  warnings.warn(\"Liblinear failed to converge, increase \"\n",
      "C:\\Users\\skhus\\anaconda3\\lib\\site-packages\\sklearn\\svm\\_base.py:985: ConvergenceWarning: Liblinear failed to converge, increase the number of iterations.\n",
      "  warnings.warn(\"Liblinear failed to converge, increase \"\n"
     ]
    },
    {
     "name": "stdout",
     "output_type": "stream",
     "text": [
      "[CV 4/5] END C=1000, dual=False, fit_intercept=False, loss=squared_hinge, multi_class=ovr, penalty=l1; total time=   0.1s\n",
      "[CV 5/5] END C=1000, dual=False, fit_intercept=False, loss=squared_hinge, multi_class=ovr, penalty=l1; total time=   0.1s\n",
      "[CV 1/5] END C=1000, dual=False, fit_intercept=False, loss=squared_hinge, multi_class=ovr, penalty=l2; total time=   0.2s\n",
      "[CV 2/5] END C=1000, dual=False, fit_intercept=False, loss=squared_hinge, multi_class=ovr, penalty=l2; total time=   0.1s\n",
      "[CV 3/5] END C=1000, dual=False, fit_intercept=False, loss=squared_hinge, multi_class=ovr, penalty=l2; total time=   0.1s\n",
      "[CV 4/5] END C=1000, dual=False, fit_intercept=False, loss=squared_hinge, multi_class=ovr, penalty=l2; total time=   0.1s\n",
      "[CV 5/5] END C=1000, dual=False, fit_intercept=False, loss=squared_hinge, multi_class=ovr, penalty=l2; total time=   0.2s\n"
     ]
    },
    {
     "name": "stderr",
     "output_type": "stream",
     "text": [
      "C:\\Users\\skhus\\anaconda3\\lib\\site-packages\\sklearn\\svm\\_base.py:985: ConvergenceWarning: Liblinear failed to converge, increase the number of iterations.\n",
      "  warnings.warn(\"Liblinear failed to converge, increase \"\n"
     ]
    },
    {
     "name": "stdout",
     "output_type": "stream",
     "text": [
      "[CV 1/5] END C=1000, dual=False, fit_intercept=False, loss=squared_hinge, multi_class=crammer_singer, penalty=l1; total time=   0.6s\n"
     ]
    },
    {
     "name": "stderr",
     "output_type": "stream",
     "text": [
      "C:\\Users\\skhus\\anaconda3\\lib\\site-packages\\sklearn\\svm\\_base.py:985: ConvergenceWarning: Liblinear failed to converge, increase the number of iterations.\n",
      "  warnings.warn(\"Liblinear failed to converge, increase \"\n"
     ]
    },
    {
     "name": "stdout",
     "output_type": "stream",
     "text": [
      "[CV 2/5] END C=1000, dual=False, fit_intercept=False, loss=squared_hinge, multi_class=crammer_singer, penalty=l1; total time=   0.9s\n",
      "[CV 3/5] END C=1000, dual=False, fit_intercept=False, loss=squared_hinge, multi_class=crammer_singer, penalty=l1; total time=   0.0s\n"
     ]
    },
    {
     "name": "stderr",
     "output_type": "stream",
     "text": [
      "C:\\Users\\skhus\\anaconda3\\lib\\site-packages\\sklearn\\svm\\_base.py:985: ConvergenceWarning: Liblinear failed to converge, increase the number of iterations.\n",
      "  warnings.warn(\"Liblinear failed to converge, increase \"\n"
     ]
    },
    {
     "name": "stdout",
     "output_type": "stream",
     "text": [
      "[CV 4/5] END C=1000, dual=False, fit_intercept=False, loss=squared_hinge, multi_class=crammer_singer, penalty=l1; total time=   0.5s\n"
     ]
    },
    {
     "name": "stderr",
     "output_type": "stream",
     "text": [
      "C:\\Users\\skhus\\anaconda3\\lib\\site-packages\\sklearn\\svm\\_base.py:985: ConvergenceWarning: Liblinear failed to converge, increase the number of iterations.\n",
      "  warnings.warn(\"Liblinear failed to converge, increase \"\n"
     ]
    },
    {
     "name": "stdout",
     "output_type": "stream",
     "text": [
      "[CV 5/5] END C=1000, dual=False, fit_intercept=False, loss=squared_hinge, multi_class=crammer_singer, penalty=l1; total time=   0.4s\n"
     ]
    },
    {
     "name": "stderr",
     "output_type": "stream",
     "text": [
      "C:\\Users\\skhus\\anaconda3\\lib\\site-packages\\sklearn\\svm\\_base.py:985: ConvergenceWarning: Liblinear failed to converge, increase the number of iterations.\n",
      "  warnings.warn(\"Liblinear failed to converge, increase \"\n"
     ]
    },
    {
     "name": "stdout",
     "output_type": "stream",
     "text": [
      "[CV 1/5] END C=1000, dual=False, fit_intercept=False, loss=squared_hinge, multi_class=crammer_singer, penalty=l2; total time=   0.5s\n"
     ]
    },
    {
     "name": "stderr",
     "output_type": "stream",
     "text": [
      "C:\\Users\\skhus\\anaconda3\\lib\\site-packages\\sklearn\\svm\\_base.py:985: ConvergenceWarning: Liblinear failed to converge, increase the number of iterations.\n",
      "  warnings.warn(\"Liblinear failed to converge, increase \"\n"
     ]
    },
    {
     "name": "stdout",
     "output_type": "stream",
     "text": [
      "[CV 2/5] END C=1000, dual=False, fit_intercept=False, loss=squared_hinge, multi_class=crammer_singer, penalty=l2; total time=   0.7s\n",
      "[CV 3/5] END C=1000, dual=False, fit_intercept=False, loss=squared_hinge, multi_class=crammer_singer, penalty=l2; total time=   0.0s\n"
     ]
    },
    {
     "name": "stderr",
     "output_type": "stream",
     "text": [
      "C:\\Users\\skhus\\anaconda3\\lib\\site-packages\\sklearn\\svm\\_base.py:985: ConvergenceWarning: Liblinear failed to converge, increase the number of iterations.\n",
      "  warnings.warn(\"Liblinear failed to converge, increase \"\n"
     ]
    },
    {
     "name": "stdout",
     "output_type": "stream",
     "text": [
      "[CV 4/5] END C=1000, dual=False, fit_intercept=False, loss=squared_hinge, multi_class=crammer_singer, penalty=l2; total time=   0.5s\n"
     ]
    },
    {
     "name": "stderr",
     "output_type": "stream",
     "text": [
      "C:\\Users\\skhus\\anaconda3\\lib\\site-packages\\sklearn\\svm\\_base.py:985: ConvergenceWarning: Liblinear failed to converge, increase the number of iterations.\n",
      "  warnings.warn(\"Liblinear failed to converge, increase \"\n",
      "C:\\Users\\skhus\\anaconda3\\lib\\site-packages\\sklearn\\model_selection\\_validation.py:610: FitFailedWarning: Estimator fit failed. The score on this train-test partition for these parameters will be set to nan. Details: \n",
      "Traceback (most recent call last):\n",
      "  File \"C:\\Users\\skhus\\anaconda3\\lib\\site-packages\\sklearn\\model_selection\\_validation.py\", line 593, in _fit_and_score\n",
      "    estimator.fit(X_train, y_train, **fit_params)\n",
      "  File \"C:\\Users\\skhus\\anaconda3\\lib\\site-packages\\sklearn\\svm\\_classes.py\", line 234, in fit\n",
      "    self.coef_, self.intercept_, self.n_iter_ = _fit_liblinear(\n",
      "  File \"C:\\Users\\skhus\\anaconda3\\lib\\site-packages\\sklearn\\svm\\_base.py\", line 974, in _fit_liblinear\n",
      "    solver_type = _get_liblinear_solver_type(multi_class, penalty, loss, dual)\n",
      "  File \"C:\\Users\\skhus\\anaconda3\\lib\\site-packages\\sklearn\\svm\\_base.py\", line 830, in _get_liblinear_solver_type\n",
      "    raise ValueError('Unsupported set of arguments: %s, '\n",
      "ValueError: Unsupported set of arguments: The combination of penalty='l1' and loss='hinge' is not supported, Parameters: penalty='l1', loss='hinge', dual=False\n",
      "\n",
      "  warnings.warn(\"Estimator fit failed. The score on this train-test\"\n",
      "C:\\Users\\skhus\\anaconda3\\lib\\site-packages\\sklearn\\model_selection\\_validation.py:610: FitFailedWarning: Estimator fit failed. The score on this train-test partition for these parameters will be set to nan. Details: \n",
      "Traceback (most recent call last):\n",
      "  File \"C:\\Users\\skhus\\anaconda3\\lib\\site-packages\\sklearn\\model_selection\\_validation.py\", line 593, in _fit_and_score\n",
      "    estimator.fit(X_train, y_train, **fit_params)\n",
      "  File \"C:\\Users\\skhus\\anaconda3\\lib\\site-packages\\sklearn\\svm\\_classes.py\", line 234, in fit\n",
      "    self.coef_, self.intercept_, self.n_iter_ = _fit_liblinear(\n",
      "  File \"C:\\Users\\skhus\\anaconda3\\lib\\site-packages\\sklearn\\svm\\_base.py\", line 974, in _fit_liblinear\n",
      "    solver_type = _get_liblinear_solver_type(multi_class, penalty, loss, dual)\n",
      "  File \"C:\\Users\\skhus\\anaconda3\\lib\\site-packages\\sklearn\\svm\\_base.py\", line 830, in _get_liblinear_solver_type\n",
      "    raise ValueError('Unsupported set of arguments: %s, '\n",
      "ValueError: Unsupported set of arguments: The combination of penalty='l1' and loss='hinge' is not supported, Parameters: penalty='l1', loss='hinge', dual=False\n",
      "\n",
      "  warnings.warn(\"Estimator fit failed. The score on this train-test\"\n",
      "C:\\Users\\skhus\\anaconda3\\lib\\site-packages\\sklearn\\model_selection\\_validation.py:610: FitFailedWarning: Estimator fit failed. The score on this train-test partition for these parameters will be set to nan. Details: \n",
      "Traceback (most recent call last):\n",
      "  File \"C:\\Users\\skhus\\anaconda3\\lib\\site-packages\\sklearn\\model_selection\\_validation.py\", line 593, in _fit_and_score\n",
      "    estimator.fit(X_train, y_train, **fit_params)\n",
      "  File \"C:\\Users\\skhus\\anaconda3\\lib\\site-packages\\sklearn\\svm\\_classes.py\", line 234, in fit\n",
      "    self.coef_, self.intercept_, self.n_iter_ = _fit_liblinear(\n",
      "  File \"C:\\Users\\skhus\\anaconda3\\lib\\site-packages\\sklearn\\svm\\_base.py\", line 974, in _fit_liblinear\n",
      "    solver_type = _get_liblinear_solver_type(multi_class, penalty, loss, dual)\n",
      "  File \"C:\\Users\\skhus\\anaconda3\\lib\\site-packages\\sklearn\\svm\\_base.py\", line 830, in _get_liblinear_solver_type\n",
      "    raise ValueError('Unsupported set of arguments: %s, '\n",
      "ValueError: Unsupported set of arguments: The combination of penalty='l1' and loss='hinge' is not supported, Parameters: penalty='l1', loss='hinge', dual=False\n",
      "\n",
      "  warnings.warn(\"Estimator fit failed. The score on this train-test\"\n",
      "C:\\Users\\skhus\\anaconda3\\lib\\site-packages\\sklearn\\model_selection\\_validation.py:610: FitFailedWarning: Estimator fit failed. The score on this train-test partition for these parameters will be set to nan. Details: \n",
      "Traceback (most recent call last):\n",
      "  File \"C:\\Users\\skhus\\anaconda3\\lib\\site-packages\\sklearn\\model_selection\\_validation.py\", line 593, in _fit_and_score\n",
      "    estimator.fit(X_train, y_train, **fit_params)\n",
      "  File \"C:\\Users\\skhus\\anaconda3\\lib\\site-packages\\sklearn\\svm\\_classes.py\", line 234, in fit\n",
      "    self.coef_, self.intercept_, self.n_iter_ = _fit_liblinear(\n",
      "  File \"C:\\Users\\skhus\\anaconda3\\lib\\site-packages\\sklearn\\svm\\_base.py\", line 974, in _fit_liblinear\n",
      "    solver_type = _get_liblinear_solver_type(multi_class, penalty, loss, dual)\n",
      "  File \"C:\\Users\\skhus\\anaconda3\\lib\\site-packages\\sklearn\\svm\\_base.py\", line 830, in _get_liblinear_solver_type\n",
      "    raise ValueError('Unsupported set of arguments: %s, '\n",
      "ValueError: Unsupported set of arguments: The combination of penalty='l1' and loss='hinge' is not supported, Parameters: penalty='l1', loss='hinge', dual=False\n",
      "\n",
      "  warnings.warn(\"Estimator fit failed. The score on this train-test\"\n",
      "C:\\Users\\skhus\\anaconda3\\lib\\site-packages\\sklearn\\model_selection\\_validation.py:610: FitFailedWarning: Estimator fit failed. The score on this train-test partition for these parameters will be set to nan. Details: \n",
      "Traceback (most recent call last):\n",
      "  File \"C:\\Users\\skhus\\anaconda3\\lib\\site-packages\\sklearn\\model_selection\\_validation.py\", line 593, in _fit_and_score\n",
      "    estimator.fit(X_train, y_train, **fit_params)\n",
      "  File \"C:\\Users\\skhus\\anaconda3\\lib\\site-packages\\sklearn\\svm\\_classes.py\", line 234, in fit\n",
      "    self.coef_, self.intercept_, self.n_iter_ = _fit_liblinear(\n",
      "  File \"C:\\Users\\skhus\\anaconda3\\lib\\site-packages\\sklearn\\svm\\_base.py\", line 974, in _fit_liblinear\n",
      "    solver_type = _get_liblinear_solver_type(multi_class, penalty, loss, dual)\n",
      "  File \"C:\\Users\\skhus\\anaconda3\\lib\\site-packages\\sklearn\\svm\\_base.py\", line 830, in _get_liblinear_solver_type\n",
      "    raise ValueError('Unsupported set of arguments: %s, '\n",
      "ValueError: Unsupported set of arguments: The combination of penalty='l1' and loss='hinge' is not supported, Parameters: penalty='l1', loss='hinge', dual=False\n",
      "\n",
      "  warnings.warn(\"Estimator fit failed. The score on this train-test\"\n",
      "C:\\Users\\skhus\\anaconda3\\lib\\site-packages\\sklearn\\model_selection\\_validation.py:610: FitFailedWarning: Estimator fit failed. The score on this train-test partition for these parameters will be set to nan. Details: \n",
      "Traceback (most recent call last):\n",
      "  File \"C:\\Users\\skhus\\anaconda3\\lib\\site-packages\\sklearn\\model_selection\\_validation.py\", line 593, in _fit_and_score\n",
      "    estimator.fit(X_train, y_train, **fit_params)\n",
      "  File \"C:\\Users\\skhus\\anaconda3\\lib\\site-packages\\sklearn\\svm\\_classes.py\", line 234, in fit\n",
      "    self.coef_, self.intercept_, self.n_iter_ = _fit_liblinear(\n",
      "  File \"C:\\Users\\skhus\\anaconda3\\lib\\site-packages\\sklearn\\svm\\_base.py\", line 974, in _fit_liblinear\n",
      "    solver_type = _get_liblinear_solver_type(multi_class, penalty, loss, dual)\n",
      "  File \"C:\\Users\\skhus\\anaconda3\\lib\\site-packages\\sklearn\\svm\\_base.py\", line 830, in _get_liblinear_solver_type\n",
      "    raise ValueError('Unsupported set of arguments: %s, '\n",
      "ValueError: Unsupported set of arguments: The combination of penalty='l2' and loss='hinge' are not supported when dual=False, Parameters: penalty='l2', loss='hinge', dual=False\n",
      "\n",
      "  warnings.warn(\"Estimator fit failed. The score on this train-test\"\n",
      "C:\\Users\\skhus\\anaconda3\\lib\\site-packages\\sklearn\\model_selection\\_validation.py:610: FitFailedWarning: Estimator fit failed. The score on this train-test partition for these parameters will be set to nan. Details: \n",
      "Traceback (most recent call last):\n",
      "  File \"C:\\Users\\skhus\\anaconda3\\lib\\site-packages\\sklearn\\model_selection\\_validation.py\", line 593, in _fit_and_score\n",
      "    estimator.fit(X_train, y_train, **fit_params)\n",
      "  File \"C:\\Users\\skhus\\anaconda3\\lib\\site-packages\\sklearn\\svm\\_classes.py\", line 234, in fit\n",
      "    self.coef_, self.intercept_, self.n_iter_ = _fit_liblinear(\n",
      "  File \"C:\\Users\\skhus\\anaconda3\\lib\\site-packages\\sklearn\\svm\\_base.py\", line 974, in _fit_liblinear\n",
      "    solver_type = _get_liblinear_solver_type(multi_class, penalty, loss, dual)\n",
      "  File \"C:\\Users\\skhus\\anaconda3\\lib\\site-packages\\sklearn\\svm\\_base.py\", line 830, in _get_liblinear_solver_type\n",
      "    raise ValueError('Unsupported set of arguments: %s, '\n",
      "ValueError: Unsupported set of arguments: The combination of penalty='l2' and loss='hinge' are not supported when dual=False, Parameters: penalty='l2', loss='hinge', dual=False\n",
      "\n",
      "  warnings.warn(\"Estimator fit failed. The score on this train-test\"\n",
      "C:\\Users\\skhus\\anaconda3\\lib\\site-packages\\sklearn\\model_selection\\_validation.py:610: FitFailedWarning: Estimator fit failed. The score on this train-test partition for these parameters will be set to nan. Details: \n",
      "Traceback (most recent call last):\n",
      "  File \"C:\\Users\\skhus\\anaconda3\\lib\\site-packages\\sklearn\\model_selection\\_validation.py\", line 593, in _fit_and_score\n",
      "    estimator.fit(X_train, y_train, **fit_params)\n",
      "  File \"C:\\Users\\skhus\\anaconda3\\lib\\site-packages\\sklearn\\svm\\_classes.py\", line 234, in fit\n",
      "    self.coef_, self.intercept_, self.n_iter_ = _fit_liblinear(\n",
      "  File \"C:\\Users\\skhus\\anaconda3\\lib\\site-packages\\sklearn\\svm\\_base.py\", line 974, in _fit_liblinear\n",
      "    solver_type = _get_liblinear_solver_type(multi_class, penalty, loss, dual)\n",
      "  File \"C:\\Users\\skhus\\anaconda3\\lib\\site-packages\\sklearn\\svm\\_base.py\", line 830, in _get_liblinear_solver_type\n",
      "    raise ValueError('Unsupported set of arguments: %s, '\n",
      "ValueError: Unsupported set of arguments: The combination of penalty='l2' and loss='hinge' are not supported when dual=False, Parameters: penalty='l2', loss='hinge', dual=False\n",
      "\n",
      "  warnings.warn(\"Estimator fit failed. The score on this train-test\"\n",
      "C:\\Users\\skhus\\anaconda3\\lib\\site-packages\\sklearn\\model_selection\\_validation.py:610: FitFailedWarning: Estimator fit failed. The score on this train-test partition for these parameters will be set to nan. Details: \n",
      "Traceback (most recent call last):\n",
      "  File \"C:\\Users\\skhus\\anaconda3\\lib\\site-packages\\sklearn\\model_selection\\_validation.py\", line 593, in _fit_and_score\n",
      "    estimator.fit(X_train, y_train, **fit_params)\n",
      "  File \"C:\\Users\\skhus\\anaconda3\\lib\\site-packages\\sklearn\\svm\\_classes.py\", line 234, in fit\n",
      "    self.coef_, self.intercept_, self.n_iter_ = _fit_liblinear(\n",
      "  File \"C:\\Users\\skhus\\anaconda3\\lib\\site-packages\\sklearn\\svm\\_base.py\", line 974, in _fit_liblinear\n",
      "    solver_type = _get_liblinear_solver_type(multi_class, penalty, loss, dual)\n",
      "  File \"C:\\Users\\skhus\\anaconda3\\lib\\site-packages\\sklearn\\svm\\_base.py\", line 830, in _get_liblinear_solver_type\n",
      "    raise ValueError('Unsupported set of arguments: %s, '\n",
      "ValueError: Unsupported set of arguments: The combination of penalty='l2' and loss='hinge' are not supported when dual=False, Parameters: penalty='l2', loss='hinge', dual=False\n",
      "\n",
      "  warnings.warn(\"Estimator fit failed. The score on this train-test\"\n",
      "C:\\Users\\skhus\\anaconda3\\lib\\site-packages\\sklearn\\model_selection\\_validation.py:610: FitFailedWarning: Estimator fit failed. The score on this train-test partition for these parameters will be set to nan. Details: \n",
      "Traceback (most recent call last):\n",
      "  File \"C:\\Users\\skhus\\anaconda3\\lib\\site-packages\\sklearn\\model_selection\\_validation.py\", line 593, in _fit_and_score\n",
      "    estimator.fit(X_train, y_train, **fit_params)\n",
      "  File \"C:\\Users\\skhus\\anaconda3\\lib\\site-packages\\sklearn\\svm\\_classes.py\", line 234, in fit\n",
      "    self.coef_, self.intercept_, self.n_iter_ = _fit_liblinear(\n",
      "  File \"C:\\Users\\skhus\\anaconda3\\lib\\site-packages\\sklearn\\svm\\_base.py\", line 974, in _fit_liblinear\n",
      "    solver_type = _get_liblinear_solver_type(multi_class, penalty, loss, dual)\n",
      "  File \"C:\\Users\\skhus\\anaconda3\\lib\\site-packages\\sklearn\\svm\\_base.py\", line 830, in _get_liblinear_solver_type\n",
      "    raise ValueError('Unsupported set of arguments: %s, '\n",
      "ValueError: Unsupported set of arguments: The combination of penalty='l2' and loss='hinge' are not supported when dual=False, Parameters: penalty='l2', loss='hinge', dual=False\n",
      "\n",
      "  warnings.warn(\"Estimator fit failed. The score on this train-test\"\n"
     ]
    },
    {
     "name": "stdout",
     "output_type": "stream",
     "text": [
      "[CV 5/5] END C=1000, dual=False, fit_intercept=False, loss=squared_hinge, multi_class=crammer_singer, penalty=l2; total time=   0.4s\n",
      "[CV 1/5] END C=1000, dual=False, fit_intercept=True, loss=hinge, multi_class=ovr, penalty=l1; total time=   0.0s\n",
      "[CV 2/5] END C=1000, dual=False, fit_intercept=True, loss=hinge, multi_class=ovr, penalty=l1; total time=   0.0s\n",
      "[CV 3/5] END C=1000, dual=False, fit_intercept=True, loss=hinge, multi_class=ovr, penalty=l1; total time=   0.0s\n",
      "[CV 4/5] END C=1000, dual=False, fit_intercept=True, loss=hinge, multi_class=ovr, penalty=l1; total time=   0.0s\n",
      "[CV 5/5] END C=1000, dual=False, fit_intercept=True, loss=hinge, multi_class=ovr, penalty=l1; total time=   0.0s\n",
      "[CV 1/5] END C=1000, dual=False, fit_intercept=True, loss=hinge, multi_class=ovr, penalty=l2; total time=   0.0s\n",
      "[CV 2/5] END C=1000, dual=False, fit_intercept=True, loss=hinge, multi_class=ovr, penalty=l2; total time=   0.0s\n",
      "[CV 3/5] END C=1000, dual=False, fit_intercept=True, loss=hinge, multi_class=ovr, penalty=l2; total time=   0.0s\n",
      "[CV 4/5] END C=1000, dual=False, fit_intercept=True, loss=hinge, multi_class=ovr, penalty=l2; total time=   0.0s\n",
      "[CV 5/5] END C=1000, dual=False, fit_intercept=True, loss=hinge, multi_class=ovr, penalty=l2; total time=   0.0s\n"
     ]
    },
    {
     "name": "stderr",
     "output_type": "stream",
     "text": [
      "C:\\Users\\skhus\\anaconda3\\lib\\site-packages\\sklearn\\svm\\_base.py:985: ConvergenceWarning: Liblinear failed to converge, increase the number of iterations.\n",
      "  warnings.warn(\"Liblinear failed to converge, increase \"\n"
     ]
    },
    {
     "name": "stdout",
     "output_type": "stream",
     "text": [
      "[CV 1/5] END C=1000, dual=False, fit_intercept=True, loss=hinge, multi_class=crammer_singer, penalty=l1; total time=   1.4s\n"
     ]
    },
    {
     "name": "stderr",
     "output_type": "stream",
     "text": [
      "C:\\Users\\skhus\\anaconda3\\lib\\site-packages\\sklearn\\svm\\_base.py:985: ConvergenceWarning: Liblinear failed to converge, increase the number of iterations.\n",
      "  warnings.warn(\"Liblinear failed to converge, increase \"\n"
     ]
    },
    {
     "name": "stdout",
     "output_type": "stream",
     "text": [
      "[CV 2/5] END C=1000, dual=False, fit_intercept=True, loss=hinge, multi_class=crammer_singer, penalty=l1; total time=   1.8s\n"
     ]
    },
    {
     "name": "stderr",
     "output_type": "stream",
     "text": [
      "C:\\Users\\skhus\\anaconda3\\lib\\site-packages\\sklearn\\svm\\_base.py:985: ConvergenceWarning: Liblinear failed to converge, increase the number of iterations.\n",
      "  warnings.warn(\"Liblinear failed to converge, increase \"\n"
     ]
    },
    {
     "name": "stdout",
     "output_type": "stream",
     "text": [
      "[CV 3/5] END C=1000, dual=False, fit_intercept=True, loss=hinge, multi_class=crammer_singer, penalty=l1; total time=   0.9s\n"
     ]
    },
    {
     "name": "stderr",
     "output_type": "stream",
     "text": [
      "C:\\Users\\skhus\\anaconda3\\lib\\site-packages\\sklearn\\svm\\_base.py:985: ConvergenceWarning: Liblinear failed to converge, increase the number of iterations.\n",
      "  warnings.warn(\"Liblinear failed to converge, increase \"\n"
     ]
    },
    {
     "name": "stdout",
     "output_type": "stream",
     "text": [
      "[CV 4/5] END C=1000, dual=False, fit_intercept=True, loss=hinge, multi_class=crammer_singer, penalty=l1; total time=   1.7s\n"
     ]
    },
    {
     "name": "stderr",
     "output_type": "stream",
     "text": [
      "C:\\Users\\skhus\\anaconda3\\lib\\site-packages\\sklearn\\svm\\_base.py:985: ConvergenceWarning: Liblinear failed to converge, increase the number of iterations.\n",
      "  warnings.warn(\"Liblinear failed to converge, increase \"\n"
     ]
    },
    {
     "name": "stdout",
     "output_type": "stream",
     "text": [
      "[CV 5/5] END C=1000, dual=False, fit_intercept=True, loss=hinge, multi_class=crammer_singer, penalty=l1; total time=   1.4s\n"
     ]
    },
    {
     "name": "stderr",
     "output_type": "stream",
     "text": [
      "C:\\Users\\skhus\\anaconda3\\lib\\site-packages\\sklearn\\svm\\_base.py:985: ConvergenceWarning: Liblinear failed to converge, increase the number of iterations.\n",
      "  warnings.warn(\"Liblinear failed to converge, increase \"\n"
     ]
    },
    {
     "name": "stdout",
     "output_type": "stream",
     "text": [
      "[CV 1/5] END C=1000, dual=False, fit_intercept=True, loss=hinge, multi_class=crammer_singer, penalty=l2; total time=   1.3s\n"
     ]
    },
    {
     "name": "stderr",
     "output_type": "stream",
     "text": [
      "C:\\Users\\skhus\\anaconda3\\lib\\site-packages\\sklearn\\svm\\_base.py:985: ConvergenceWarning: Liblinear failed to converge, increase the number of iterations.\n",
      "  warnings.warn(\"Liblinear failed to converge, increase \"\n"
     ]
    },
    {
     "name": "stdout",
     "output_type": "stream",
     "text": [
      "[CV 2/5] END C=1000, dual=False, fit_intercept=True, loss=hinge, multi_class=crammer_singer, penalty=l2; total time=   1.8s\n"
     ]
    },
    {
     "name": "stderr",
     "output_type": "stream",
     "text": [
      "C:\\Users\\skhus\\anaconda3\\lib\\site-packages\\sklearn\\svm\\_base.py:985: ConvergenceWarning: Liblinear failed to converge, increase the number of iterations.\n",
      "  warnings.warn(\"Liblinear failed to converge, increase \"\n"
     ]
    },
    {
     "name": "stdout",
     "output_type": "stream",
     "text": [
      "[CV 3/5] END C=1000, dual=False, fit_intercept=True, loss=hinge, multi_class=crammer_singer, penalty=l2; total time=   0.9s\n"
     ]
    },
    {
     "name": "stderr",
     "output_type": "stream",
     "text": [
      "C:\\Users\\skhus\\anaconda3\\lib\\site-packages\\sklearn\\svm\\_base.py:985: ConvergenceWarning: Liblinear failed to converge, increase the number of iterations.\n",
      "  warnings.warn(\"Liblinear failed to converge, increase \"\n"
     ]
    },
    {
     "name": "stdout",
     "output_type": "stream",
     "text": [
      "[CV 4/5] END C=1000, dual=False, fit_intercept=True, loss=hinge, multi_class=crammer_singer, penalty=l2; total time=   1.7s\n"
     ]
    },
    {
     "name": "stderr",
     "output_type": "stream",
     "text": [
      "C:\\Users\\skhus\\anaconda3\\lib\\site-packages\\sklearn\\svm\\_base.py:985: ConvergenceWarning: Liblinear failed to converge, increase the number of iterations.\n",
      "  warnings.warn(\"Liblinear failed to converge, increase \"\n",
      "C:\\Users\\skhus\\anaconda3\\lib\\site-packages\\sklearn\\svm\\_base.py:985: ConvergenceWarning: Liblinear failed to converge, increase the number of iterations.\n",
      "  warnings.warn(\"Liblinear failed to converge, increase \"\n"
     ]
    },
    {
     "name": "stdout",
     "output_type": "stream",
     "text": [
      "[CV 5/5] END C=1000, dual=False, fit_intercept=True, loss=hinge, multi_class=crammer_singer, penalty=l2; total time=   1.4s\n",
      "[CV 1/5] END C=1000, dual=False, fit_intercept=True, loss=squared_hinge, multi_class=ovr, penalty=l1; total time=   0.1s\n"
     ]
    },
    {
     "name": "stderr",
     "output_type": "stream",
     "text": [
      "C:\\Users\\skhus\\anaconda3\\lib\\site-packages\\sklearn\\svm\\_base.py:985: ConvergenceWarning: Liblinear failed to converge, increase the number of iterations.\n",
      "  warnings.warn(\"Liblinear failed to converge, increase \"\n"
     ]
    },
    {
     "name": "stdout",
     "output_type": "stream",
     "text": [
      "[CV 2/5] END C=1000, dual=False, fit_intercept=True, loss=squared_hinge, multi_class=ovr, penalty=l1; total time=   0.5s\n"
     ]
    },
    {
     "name": "stderr",
     "output_type": "stream",
     "text": [
      "C:\\Users\\skhus\\anaconda3\\lib\\site-packages\\sklearn\\svm\\_base.py:985: ConvergenceWarning: Liblinear failed to converge, increase the number of iterations.\n",
      "  warnings.warn(\"Liblinear failed to converge, increase \"\n"
     ]
    },
    {
     "name": "stdout",
     "output_type": "stream",
     "text": [
      "[CV 3/5] END C=1000, dual=False, fit_intercept=True, loss=squared_hinge, multi_class=ovr, penalty=l1; total time=   0.6s\n"
     ]
    },
    {
     "name": "stderr",
     "output_type": "stream",
     "text": [
      "C:\\Users\\skhus\\anaconda3\\lib\\site-packages\\sklearn\\svm\\_base.py:985: ConvergenceWarning: Liblinear failed to converge, increase the number of iterations.\n",
      "  warnings.warn(\"Liblinear failed to converge, increase \"\n"
     ]
    },
    {
     "name": "stdout",
     "output_type": "stream",
     "text": [
      "[CV 4/5] END C=1000, dual=False, fit_intercept=True, loss=squared_hinge, multi_class=ovr, penalty=l1; total time=   0.4s\n"
     ]
    },
    {
     "name": "stderr",
     "output_type": "stream",
     "text": [
      "C:\\Users\\skhus\\anaconda3\\lib\\site-packages\\sklearn\\svm\\_base.py:985: ConvergenceWarning: Liblinear failed to converge, increase the number of iterations.\n",
      "  warnings.warn(\"Liblinear failed to converge, increase \"\n"
     ]
    },
    {
     "name": "stdout",
     "output_type": "stream",
     "text": [
      "[CV 5/5] END C=1000, dual=False, fit_intercept=True, loss=squared_hinge, multi_class=ovr, penalty=l1; total time=   0.4s\n",
      "[CV 1/5] END C=1000, dual=False, fit_intercept=True, loss=squared_hinge, multi_class=ovr, penalty=l2; total time=   0.3s\n",
      "[CV 2/5] END C=1000, dual=False, fit_intercept=True, loss=squared_hinge, multi_class=ovr, penalty=l2; total time=   0.8s\n",
      "[CV 3/5] END C=1000, dual=False, fit_intercept=True, loss=squared_hinge, multi_class=ovr, penalty=l2; total time=   0.7s\n"
     ]
    },
    {
     "name": "stderr",
     "output_type": "stream",
     "text": [
      "C:\\Users\\skhus\\anaconda3\\lib\\site-packages\\sklearn\\svm\\_base.py:985: ConvergenceWarning: Liblinear failed to converge, increase the number of iterations.\n",
      "  warnings.warn(\"Liblinear failed to converge, increase \"\n"
     ]
    },
    {
     "name": "stdout",
     "output_type": "stream",
     "text": [
      "[CV 4/5] END C=1000, dual=False, fit_intercept=True, loss=squared_hinge, multi_class=ovr, penalty=l2; total time=   0.8s\n"
     ]
    },
    {
     "name": "stderr",
     "output_type": "stream",
     "text": [
      "C:\\Users\\skhus\\anaconda3\\lib\\site-packages\\sklearn\\svm\\_base.py:985: ConvergenceWarning: Liblinear failed to converge, increase the number of iterations.\n",
      "  warnings.warn(\"Liblinear failed to converge, increase \"\n"
     ]
    },
    {
     "name": "stdout",
     "output_type": "stream",
     "text": [
      "[CV 5/5] END C=1000, dual=False, fit_intercept=True, loss=squared_hinge, multi_class=ovr, penalty=l2; total time=   0.9s\n"
     ]
    },
    {
     "name": "stderr",
     "output_type": "stream",
     "text": [
      "C:\\Users\\skhus\\anaconda3\\lib\\site-packages\\sklearn\\svm\\_base.py:985: ConvergenceWarning: Liblinear failed to converge, increase the number of iterations.\n",
      "  warnings.warn(\"Liblinear failed to converge, increase \"\n"
     ]
    },
    {
     "name": "stdout",
     "output_type": "stream",
     "text": [
      "[CV 1/5] END C=1000, dual=False, fit_intercept=True, loss=squared_hinge, multi_class=crammer_singer, penalty=l1; total time=   2.5s\n"
     ]
    },
    {
     "name": "stderr",
     "output_type": "stream",
     "text": [
      "C:\\Users\\skhus\\anaconda3\\lib\\site-packages\\sklearn\\svm\\_base.py:985: ConvergenceWarning: Liblinear failed to converge, increase the number of iterations.\n",
      "  warnings.warn(\"Liblinear failed to converge, increase \"\n"
     ]
    },
    {
     "name": "stdout",
     "output_type": "stream",
     "text": [
      "[CV 2/5] END C=1000, dual=False, fit_intercept=True, loss=squared_hinge, multi_class=crammer_singer, penalty=l1; total time=   1.9s\n"
     ]
    },
    {
     "name": "stderr",
     "output_type": "stream",
     "text": [
      "C:\\Users\\skhus\\anaconda3\\lib\\site-packages\\sklearn\\svm\\_base.py:985: ConvergenceWarning: Liblinear failed to converge, increase the number of iterations.\n",
      "  warnings.warn(\"Liblinear failed to converge, increase \"\n"
     ]
    },
    {
     "name": "stdout",
     "output_type": "stream",
     "text": [
      "[CV 3/5] END C=1000, dual=False, fit_intercept=True, loss=squared_hinge, multi_class=crammer_singer, penalty=l1; total time=   0.9s\n"
     ]
    },
    {
     "name": "stderr",
     "output_type": "stream",
     "text": [
      "C:\\Users\\skhus\\anaconda3\\lib\\site-packages\\sklearn\\svm\\_base.py:985: ConvergenceWarning: Liblinear failed to converge, increase the number of iterations.\n",
      "  warnings.warn(\"Liblinear failed to converge, increase \"\n"
     ]
    },
    {
     "name": "stdout",
     "output_type": "stream",
     "text": [
      "[CV 4/5] END C=1000, dual=False, fit_intercept=True, loss=squared_hinge, multi_class=crammer_singer, penalty=l1; total time=   1.7s\n"
     ]
    },
    {
     "name": "stderr",
     "output_type": "stream",
     "text": [
      "C:\\Users\\skhus\\anaconda3\\lib\\site-packages\\sklearn\\svm\\_base.py:985: ConvergenceWarning: Liblinear failed to converge, increase the number of iterations.\n",
      "  warnings.warn(\"Liblinear failed to converge, increase \"\n"
     ]
    },
    {
     "name": "stdout",
     "output_type": "stream",
     "text": [
      "[CV 5/5] END C=1000, dual=False, fit_intercept=True, loss=squared_hinge, multi_class=crammer_singer, penalty=l1; total time=   1.4s\n"
     ]
    },
    {
     "name": "stderr",
     "output_type": "stream",
     "text": [
      "C:\\Users\\skhus\\anaconda3\\lib\\site-packages\\sklearn\\svm\\_base.py:985: ConvergenceWarning: Liblinear failed to converge, increase the number of iterations.\n",
      "  warnings.warn(\"Liblinear failed to converge, increase \"\n"
     ]
    },
    {
     "name": "stdout",
     "output_type": "stream",
     "text": [
      "[CV 1/5] END C=1000, dual=False, fit_intercept=True, loss=squared_hinge, multi_class=crammer_singer, penalty=l2; total time=   1.3s\n"
     ]
    },
    {
     "name": "stderr",
     "output_type": "stream",
     "text": [
      "C:\\Users\\skhus\\anaconda3\\lib\\site-packages\\sklearn\\svm\\_base.py:985: ConvergenceWarning: Liblinear failed to converge, increase the number of iterations.\n",
      "  warnings.warn(\"Liblinear failed to converge, increase \"\n"
     ]
    },
    {
     "name": "stdout",
     "output_type": "stream",
     "text": [
      "[CV 2/5] END C=1000, dual=False, fit_intercept=True, loss=squared_hinge, multi_class=crammer_singer, penalty=l2; total time=   1.8s\n"
     ]
    },
    {
     "name": "stderr",
     "output_type": "stream",
     "text": [
      "C:\\Users\\skhus\\anaconda3\\lib\\site-packages\\sklearn\\svm\\_base.py:985: ConvergenceWarning: Liblinear failed to converge, increase the number of iterations.\n",
      "  warnings.warn(\"Liblinear failed to converge, increase \"\n"
     ]
    },
    {
     "name": "stdout",
     "output_type": "stream",
     "text": [
      "[CV 3/5] END C=1000, dual=False, fit_intercept=True, loss=squared_hinge, multi_class=crammer_singer, penalty=l2; total time=   0.9s\n"
     ]
    },
    {
     "name": "stderr",
     "output_type": "stream",
     "text": [
      "C:\\Users\\skhus\\anaconda3\\lib\\site-packages\\sklearn\\svm\\_base.py:985: ConvergenceWarning: Liblinear failed to converge, increase the number of iterations.\n",
      "  warnings.warn(\"Liblinear failed to converge, increase \"\n"
     ]
    },
    {
     "name": "stdout",
     "output_type": "stream",
     "text": [
      "[CV 4/5] END C=1000, dual=False, fit_intercept=True, loss=squared_hinge, multi_class=crammer_singer, penalty=l2; total time=   1.8s\n"
     ]
    },
    {
     "name": "stderr",
     "output_type": "stream",
     "text": [
      "C:\\Users\\skhus\\anaconda3\\lib\\site-packages\\sklearn\\svm\\_base.py:985: ConvergenceWarning: Liblinear failed to converge, increase the number of iterations.\n",
      "  warnings.warn(\"Liblinear failed to converge, increase \"\n",
      "C:\\Users\\skhus\\anaconda3\\lib\\site-packages\\sklearn\\model_selection\\_validation.py:610: FitFailedWarning: Estimator fit failed. The score on this train-test partition for these parameters will be set to nan. Details: \n",
      "Traceback (most recent call last):\n",
      "  File \"C:\\Users\\skhus\\anaconda3\\lib\\site-packages\\sklearn\\model_selection\\_validation.py\", line 593, in _fit_and_score\n",
      "    estimator.fit(X_train, y_train, **fit_params)\n",
      "  File \"C:\\Users\\skhus\\anaconda3\\lib\\site-packages\\sklearn\\svm\\_classes.py\", line 234, in fit\n",
      "    self.coef_, self.intercept_, self.n_iter_ = _fit_liblinear(\n",
      "  File \"C:\\Users\\skhus\\anaconda3\\lib\\site-packages\\sklearn\\svm\\_base.py\", line 974, in _fit_liblinear\n",
      "    solver_type = _get_liblinear_solver_type(multi_class, penalty, loss, dual)\n",
      "  File \"C:\\Users\\skhus\\anaconda3\\lib\\site-packages\\sklearn\\svm\\_base.py\", line 830, in _get_liblinear_solver_type\n",
      "    raise ValueError('Unsupported set of arguments: %s, '\n",
      "ValueError: Unsupported set of arguments: The combination of penalty='l1' and loss='hinge' is not supported, Parameters: penalty='l1', loss='hinge', dual=True\n",
      "\n",
      "  warnings.warn(\"Estimator fit failed. The score on this train-test\"\n",
      "C:\\Users\\skhus\\anaconda3\\lib\\site-packages\\sklearn\\model_selection\\_validation.py:610: FitFailedWarning: Estimator fit failed. The score on this train-test partition for these parameters will be set to nan. Details: \n",
      "Traceback (most recent call last):\n",
      "  File \"C:\\Users\\skhus\\anaconda3\\lib\\site-packages\\sklearn\\model_selection\\_validation.py\", line 593, in _fit_and_score\n",
      "    estimator.fit(X_train, y_train, **fit_params)\n",
      "  File \"C:\\Users\\skhus\\anaconda3\\lib\\site-packages\\sklearn\\svm\\_classes.py\", line 234, in fit\n",
      "    self.coef_, self.intercept_, self.n_iter_ = _fit_liblinear(\n",
      "  File \"C:\\Users\\skhus\\anaconda3\\lib\\site-packages\\sklearn\\svm\\_base.py\", line 974, in _fit_liblinear\n",
      "    solver_type = _get_liblinear_solver_type(multi_class, penalty, loss, dual)\n",
      "  File \"C:\\Users\\skhus\\anaconda3\\lib\\site-packages\\sklearn\\svm\\_base.py\", line 830, in _get_liblinear_solver_type\n",
      "    raise ValueError('Unsupported set of arguments: %s, '\n",
      "ValueError: Unsupported set of arguments: The combination of penalty='l1' and loss='hinge' is not supported, Parameters: penalty='l1', loss='hinge', dual=True\n",
      "\n",
      "  warnings.warn(\"Estimator fit failed. The score on this train-test\"\n",
      "C:\\Users\\skhus\\anaconda3\\lib\\site-packages\\sklearn\\model_selection\\_validation.py:610: FitFailedWarning: Estimator fit failed. The score on this train-test partition for these parameters will be set to nan. Details: \n",
      "Traceback (most recent call last):\n",
      "  File \"C:\\Users\\skhus\\anaconda3\\lib\\site-packages\\sklearn\\model_selection\\_validation.py\", line 593, in _fit_and_score\n",
      "    estimator.fit(X_train, y_train, **fit_params)\n",
      "  File \"C:\\Users\\skhus\\anaconda3\\lib\\site-packages\\sklearn\\svm\\_classes.py\", line 234, in fit\n",
      "    self.coef_, self.intercept_, self.n_iter_ = _fit_liblinear(\n",
      "  File \"C:\\Users\\skhus\\anaconda3\\lib\\site-packages\\sklearn\\svm\\_base.py\", line 974, in _fit_liblinear\n",
      "    solver_type = _get_liblinear_solver_type(multi_class, penalty, loss, dual)\n",
      "  File \"C:\\Users\\skhus\\anaconda3\\lib\\site-packages\\sklearn\\svm\\_base.py\", line 830, in _get_liblinear_solver_type\n",
      "    raise ValueError('Unsupported set of arguments: %s, '\n",
      "ValueError: Unsupported set of arguments: The combination of penalty='l1' and loss='hinge' is not supported, Parameters: penalty='l1', loss='hinge', dual=True\n",
      "\n",
      "  warnings.warn(\"Estimator fit failed. The score on this train-test\"\n",
      "C:\\Users\\skhus\\anaconda3\\lib\\site-packages\\sklearn\\model_selection\\_validation.py:610: FitFailedWarning: Estimator fit failed. The score on this train-test partition for these parameters will be set to nan. Details: \n",
      "Traceback (most recent call last):\n",
      "  File \"C:\\Users\\skhus\\anaconda3\\lib\\site-packages\\sklearn\\model_selection\\_validation.py\", line 593, in _fit_and_score\n",
      "    estimator.fit(X_train, y_train, **fit_params)\n",
      "  File \"C:\\Users\\skhus\\anaconda3\\lib\\site-packages\\sklearn\\svm\\_classes.py\", line 234, in fit\n",
      "    self.coef_, self.intercept_, self.n_iter_ = _fit_liblinear(\n",
      "  File \"C:\\Users\\skhus\\anaconda3\\lib\\site-packages\\sklearn\\svm\\_base.py\", line 974, in _fit_liblinear\n",
      "    solver_type = _get_liblinear_solver_type(multi_class, penalty, loss, dual)\n",
      "  File \"C:\\Users\\skhus\\anaconda3\\lib\\site-packages\\sklearn\\svm\\_base.py\", line 830, in _get_liblinear_solver_type\n",
      "    raise ValueError('Unsupported set of arguments: %s, '\n",
      "ValueError: Unsupported set of arguments: The combination of penalty='l1' and loss='hinge' is not supported, Parameters: penalty='l1', loss='hinge', dual=True\n",
      "\n",
      "  warnings.warn(\"Estimator fit failed. The score on this train-test\"\n",
      "C:\\Users\\skhus\\anaconda3\\lib\\site-packages\\sklearn\\model_selection\\_validation.py:610: FitFailedWarning: Estimator fit failed. The score on this train-test partition for these parameters will be set to nan. Details: \n",
      "Traceback (most recent call last):\n",
      "  File \"C:\\Users\\skhus\\anaconda3\\lib\\site-packages\\sklearn\\model_selection\\_validation.py\", line 593, in _fit_and_score\n",
      "    estimator.fit(X_train, y_train, **fit_params)\n",
      "  File \"C:\\Users\\skhus\\anaconda3\\lib\\site-packages\\sklearn\\svm\\_classes.py\", line 234, in fit\n",
      "    self.coef_, self.intercept_, self.n_iter_ = _fit_liblinear(\n",
      "  File \"C:\\Users\\skhus\\anaconda3\\lib\\site-packages\\sklearn\\svm\\_base.py\", line 974, in _fit_liblinear\n",
      "    solver_type = _get_liblinear_solver_type(multi_class, penalty, loss, dual)\n",
      "  File \"C:\\Users\\skhus\\anaconda3\\lib\\site-packages\\sklearn\\svm\\_base.py\", line 830, in _get_liblinear_solver_type\n",
      "    raise ValueError('Unsupported set of arguments: %s, '\n",
      "ValueError: Unsupported set of arguments: The combination of penalty='l1' and loss='hinge' is not supported, Parameters: penalty='l1', loss='hinge', dual=True\n",
      "\n",
      "  warnings.warn(\"Estimator fit failed. The score on this train-test\"\n"
     ]
    },
    {
     "name": "stdout",
     "output_type": "stream",
     "text": [
      "[CV 5/5] END C=1000, dual=False, fit_intercept=True, loss=squared_hinge, multi_class=crammer_singer, penalty=l2; total time=   1.5s\n",
      "[CV 1/5] END C=1000, dual=True, fit_intercept=False, loss=hinge, multi_class=ovr, penalty=l1; total time=   0.0s\n",
      "[CV 2/5] END C=1000, dual=True, fit_intercept=False, loss=hinge, multi_class=ovr, penalty=l1; total time=   0.0s\n",
      "[CV 3/5] END C=1000, dual=True, fit_intercept=False, loss=hinge, multi_class=ovr, penalty=l1; total time=   0.0s\n",
      "[CV 4/5] END C=1000, dual=True, fit_intercept=False, loss=hinge, multi_class=ovr, penalty=l1; total time=   0.0s\n",
      "[CV 5/5] END C=1000, dual=True, fit_intercept=False, loss=hinge, multi_class=ovr, penalty=l1; total time=   0.0s\n",
      "[CV 1/5] END C=1000, dual=True, fit_intercept=False, loss=hinge, multi_class=ovr, penalty=l2; total time=   0.0s\n",
      "[CV 2/5] END C=1000, dual=True, fit_intercept=False, loss=hinge, multi_class=ovr, penalty=l2; total time=   0.0s\n",
      "[CV 3/5] END C=1000, dual=True, fit_intercept=False, loss=hinge, multi_class=ovr, penalty=l2; total time=   0.0s\n",
      "[CV 4/5] END C=1000, dual=True, fit_intercept=False, loss=hinge, multi_class=ovr, penalty=l2; total time=   0.0s\n",
      "[CV 5/5] END C=1000, dual=True, fit_intercept=False, loss=hinge, multi_class=ovr, penalty=l2; total time=   0.0s\n"
     ]
    },
    {
     "name": "stderr",
     "output_type": "stream",
     "text": [
      "C:\\Users\\skhus\\anaconda3\\lib\\site-packages\\sklearn\\svm\\_base.py:985: ConvergenceWarning: Liblinear failed to converge, increase the number of iterations.\n",
      "  warnings.warn(\"Liblinear failed to converge, increase \"\n"
     ]
    },
    {
     "name": "stdout",
     "output_type": "stream",
     "text": [
      "[CV 1/5] END C=1000, dual=True, fit_intercept=False, loss=hinge, multi_class=crammer_singer, penalty=l1; total time=   0.5s\n"
     ]
    },
    {
     "name": "stderr",
     "output_type": "stream",
     "text": [
      "C:\\Users\\skhus\\anaconda3\\lib\\site-packages\\sklearn\\svm\\_base.py:985: ConvergenceWarning: Liblinear failed to converge, increase the number of iterations.\n",
      "  warnings.warn(\"Liblinear failed to converge, increase \"\n"
     ]
    },
    {
     "name": "stdout",
     "output_type": "stream",
     "text": [
      "[CV 2/5] END C=1000, dual=True, fit_intercept=False, loss=hinge, multi_class=crammer_singer, penalty=l1; total time=   0.8s\n",
      "[CV 3/5] END C=1000, dual=True, fit_intercept=False, loss=hinge, multi_class=crammer_singer, penalty=l1; total time=   0.0s\n"
     ]
    },
    {
     "name": "stderr",
     "output_type": "stream",
     "text": [
      "C:\\Users\\skhus\\anaconda3\\lib\\site-packages\\sklearn\\svm\\_base.py:985: ConvergenceWarning: Liblinear failed to converge, increase the number of iterations.\n",
      "  warnings.warn(\"Liblinear failed to converge, increase \"\n"
     ]
    },
    {
     "name": "stdout",
     "output_type": "stream",
     "text": [
      "[CV 4/5] END C=1000, dual=True, fit_intercept=False, loss=hinge, multi_class=crammer_singer, penalty=l1; total time=   0.5s\n"
     ]
    },
    {
     "name": "stderr",
     "output_type": "stream",
     "text": [
      "C:\\Users\\skhus\\anaconda3\\lib\\site-packages\\sklearn\\svm\\_base.py:985: ConvergenceWarning: Liblinear failed to converge, increase the number of iterations.\n",
      "  warnings.warn(\"Liblinear failed to converge, increase \"\n"
     ]
    },
    {
     "name": "stdout",
     "output_type": "stream",
     "text": [
      "[CV 5/5] END C=1000, dual=True, fit_intercept=False, loss=hinge, multi_class=crammer_singer, penalty=l1; total time=   0.4s\n"
     ]
    },
    {
     "name": "stderr",
     "output_type": "stream",
     "text": [
      "C:\\Users\\skhus\\anaconda3\\lib\\site-packages\\sklearn\\svm\\_base.py:985: ConvergenceWarning: Liblinear failed to converge, increase the number of iterations.\n",
      "  warnings.warn(\"Liblinear failed to converge, increase \"\n"
     ]
    },
    {
     "name": "stdout",
     "output_type": "stream",
     "text": [
      "[CV 1/5] END C=1000, dual=True, fit_intercept=False, loss=hinge, multi_class=crammer_singer, penalty=l2; total time=   0.5s\n"
     ]
    },
    {
     "name": "stderr",
     "output_type": "stream",
     "text": [
      "C:\\Users\\skhus\\anaconda3\\lib\\site-packages\\sklearn\\svm\\_base.py:985: ConvergenceWarning: Liblinear failed to converge, increase the number of iterations.\n",
      "  warnings.warn(\"Liblinear failed to converge, increase \"\n"
     ]
    },
    {
     "name": "stdout",
     "output_type": "stream",
     "text": [
      "[CV 2/5] END C=1000, dual=True, fit_intercept=False, loss=hinge, multi_class=crammer_singer, penalty=l2; total time=   0.7s\n",
      "[CV 3/5] END C=1000, dual=True, fit_intercept=False, loss=hinge, multi_class=crammer_singer, penalty=l2; total time=   0.0s\n"
     ]
    },
    {
     "name": "stderr",
     "output_type": "stream",
     "text": [
      "C:\\Users\\skhus\\anaconda3\\lib\\site-packages\\sklearn\\svm\\_base.py:985: ConvergenceWarning: Liblinear failed to converge, increase the number of iterations.\n",
      "  warnings.warn(\"Liblinear failed to converge, increase \"\n"
     ]
    },
    {
     "name": "stdout",
     "output_type": "stream",
     "text": [
      "[CV 4/5] END C=1000, dual=True, fit_intercept=False, loss=hinge, multi_class=crammer_singer, penalty=l2; total time=   0.5s\n"
     ]
    },
    {
     "name": "stderr",
     "output_type": "stream",
     "text": [
      "C:\\Users\\skhus\\anaconda3\\lib\\site-packages\\sklearn\\svm\\_base.py:985: ConvergenceWarning: Liblinear failed to converge, increase the number of iterations.\n",
      "  warnings.warn(\"Liblinear failed to converge, increase \"\n",
      "C:\\Users\\skhus\\anaconda3\\lib\\site-packages\\sklearn\\model_selection\\_validation.py:610: FitFailedWarning: Estimator fit failed. The score on this train-test partition for these parameters will be set to nan. Details: \n",
      "Traceback (most recent call last):\n",
      "  File \"C:\\Users\\skhus\\anaconda3\\lib\\site-packages\\sklearn\\model_selection\\_validation.py\", line 593, in _fit_and_score\n",
      "    estimator.fit(X_train, y_train, **fit_params)\n",
      "  File \"C:\\Users\\skhus\\anaconda3\\lib\\site-packages\\sklearn\\svm\\_classes.py\", line 234, in fit\n",
      "    self.coef_, self.intercept_, self.n_iter_ = _fit_liblinear(\n",
      "  File \"C:\\Users\\skhus\\anaconda3\\lib\\site-packages\\sklearn\\svm\\_base.py\", line 974, in _fit_liblinear\n",
      "    solver_type = _get_liblinear_solver_type(multi_class, penalty, loss, dual)\n",
      "  File \"C:\\Users\\skhus\\anaconda3\\lib\\site-packages\\sklearn\\svm\\_base.py\", line 830, in _get_liblinear_solver_type\n",
      "    raise ValueError('Unsupported set of arguments: %s, '\n",
      "ValueError: Unsupported set of arguments: The combination of penalty='l1' and loss='squared_hinge' are not supported when dual=True, Parameters: penalty='l1', loss='squared_hinge', dual=True\n",
      "\n",
      "  warnings.warn(\"Estimator fit failed. The score on this train-test\"\n",
      "C:\\Users\\skhus\\anaconda3\\lib\\site-packages\\sklearn\\model_selection\\_validation.py:610: FitFailedWarning: Estimator fit failed. The score on this train-test partition for these parameters will be set to nan. Details: \n",
      "Traceback (most recent call last):\n",
      "  File \"C:\\Users\\skhus\\anaconda3\\lib\\site-packages\\sklearn\\model_selection\\_validation.py\", line 593, in _fit_and_score\n",
      "    estimator.fit(X_train, y_train, **fit_params)\n",
      "  File \"C:\\Users\\skhus\\anaconda3\\lib\\site-packages\\sklearn\\svm\\_classes.py\", line 234, in fit\n",
      "    self.coef_, self.intercept_, self.n_iter_ = _fit_liblinear(\n",
      "  File \"C:\\Users\\skhus\\anaconda3\\lib\\site-packages\\sklearn\\svm\\_base.py\", line 974, in _fit_liblinear\n",
      "    solver_type = _get_liblinear_solver_type(multi_class, penalty, loss, dual)\n",
      "  File \"C:\\Users\\skhus\\anaconda3\\lib\\site-packages\\sklearn\\svm\\_base.py\", line 830, in _get_liblinear_solver_type\n",
      "    raise ValueError('Unsupported set of arguments: %s, '\n",
      "ValueError: Unsupported set of arguments: The combination of penalty='l1' and loss='squared_hinge' are not supported when dual=True, Parameters: penalty='l1', loss='squared_hinge', dual=True\n",
      "\n",
      "  warnings.warn(\"Estimator fit failed. The score on this train-test\"\n",
      "C:\\Users\\skhus\\anaconda3\\lib\\site-packages\\sklearn\\model_selection\\_validation.py:610: FitFailedWarning: Estimator fit failed. The score on this train-test partition for these parameters will be set to nan. Details: \n",
      "Traceback (most recent call last):\n",
      "  File \"C:\\Users\\skhus\\anaconda3\\lib\\site-packages\\sklearn\\model_selection\\_validation.py\", line 593, in _fit_and_score\n",
      "    estimator.fit(X_train, y_train, **fit_params)\n",
      "  File \"C:\\Users\\skhus\\anaconda3\\lib\\site-packages\\sklearn\\svm\\_classes.py\", line 234, in fit\n",
      "    self.coef_, self.intercept_, self.n_iter_ = _fit_liblinear(\n",
      "  File \"C:\\Users\\skhus\\anaconda3\\lib\\site-packages\\sklearn\\svm\\_base.py\", line 974, in _fit_liblinear\n",
      "    solver_type = _get_liblinear_solver_type(multi_class, penalty, loss, dual)\n",
      "  File \"C:\\Users\\skhus\\anaconda3\\lib\\site-packages\\sklearn\\svm\\_base.py\", line 830, in _get_liblinear_solver_type\n",
      "    raise ValueError('Unsupported set of arguments: %s, '\n",
      "ValueError: Unsupported set of arguments: The combination of penalty='l1' and loss='squared_hinge' are not supported when dual=True, Parameters: penalty='l1', loss='squared_hinge', dual=True\n",
      "\n",
      "  warnings.warn(\"Estimator fit failed. The score on this train-test\"\n",
      "C:\\Users\\skhus\\anaconda3\\lib\\site-packages\\sklearn\\model_selection\\_validation.py:610: FitFailedWarning: Estimator fit failed. The score on this train-test partition for these parameters will be set to nan. Details: \n",
      "Traceback (most recent call last):\n",
      "  File \"C:\\Users\\skhus\\anaconda3\\lib\\site-packages\\sklearn\\model_selection\\_validation.py\", line 593, in _fit_and_score\n",
      "    estimator.fit(X_train, y_train, **fit_params)\n",
      "  File \"C:\\Users\\skhus\\anaconda3\\lib\\site-packages\\sklearn\\svm\\_classes.py\", line 234, in fit\n",
      "    self.coef_, self.intercept_, self.n_iter_ = _fit_liblinear(\n",
      "  File \"C:\\Users\\skhus\\anaconda3\\lib\\site-packages\\sklearn\\svm\\_base.py\", line 974, in _fit_liblinear\n",
      "    solver_type = _get_liblinear_solver_type(multi_class, penalty, loss, dual)\n",
      "  File \"C:\\Users\\skhus\\anaconda3\\lib\\site-packages\\sklearn\\svm\\_base.py\", line 830, in _get_liblinear_solver_type\n",
      "    raise ValueError('Unsupported set of arguments: %s, '\n",
      "ValueError: Unsupported set of arguments: The combination of penalty='l1' and loss='squared_hinge' are not supported when dual=True, Parameters: penalty='l1', loss='squared_hinge', dual=True\n",
      "\n",
      "  warnings.warn(\"Estimator fit failed. The score on this train-test\"\n",
      "C:\\Users\\skhus\\anaconda3\\lib\\site-packages\\sklearn\\model_selection\\_validation.py:610: FitFailedWarning: Estimator fit failed. The score on this train-test partition for these parameters will be set to nan. Details: \n",
      "Traceback (most recent call last):\n",
      "  File \"C:\\Users\\skhus\\anaconda3\\lib\\site-packages\\sklearn\\model_selection\\_validation.py\", line 593, in _fit_and_score\n",
      "    estimator.fit(X_train, y_train, **fit_params)\n",
      "  File \"C:\\Users\\skhus\\anaconda3\\lib\\site-packages\\sklearn\\svm\\_classes.py\", line 234, in fit\n",
      "    self.coef_, self.intercept_, self.n_iter_ = _fit_liblinear(\n",
      "  File \"C:\\Users\\skhus\\anaconda3\\lib\\site-packages\\sklearn\\svm\\_base.py\", line 974, in _fit_liblinear\n",
      "    solver_type = _get_liblinear_solver_type(multi_class, penalty, loss, dual)\n",
      "  File \"C:\\Users\\skhus\\anaconda3\\lib\\site-packages\\sklearn\\svm\\_base.py\", line 830, in _get_liblinear_solver_type\n",
      "    raise ValueError('Unsupported set of arguments: %s, '\n",
      "ValueError: Unsupported set of arguments: The combination of penalty='l1' and loss='squared_hinge' are not supported when dual=True, Parameters: penalty='l1', loss='squared_hinge', dual=True\n",
      "\n",
      "  warnings.warn(\"Estimator fit failed. The score on this train-test\"\n",
      "C:\\Users\\skhus\\anaconda3\\lib\\site-packages\\sklearn\\svm\\_base.py:985: ConvergenceWarning: Liblinear failed to converge, increase the number of iterations.\n",
      "  warnings.warn(\"Liblinear failed to converge, increase \"\n"
     ]
    },
    {
     "name": "stdout",
     "output_type": "stream",
     "text": [
      "[CV 5/5] END C=1000, dual=True, fit_intercept=False, loss=hinge, multi_class=crammer_singer, penalty=l2; total time=   0.4s\n",
      "[CV 1/5] END C=1000, dual=True, fit_intercept=False, loss=squared_hinge, multi_class=ovr, penalty=l1; total time=   0.0s\n",
      "[CV 2/5] END C=1000, dual=True, fit_intercept=False, loss=squared_hinge, multi_class=ovr, penalty=l1; total time=   0.0s\n",
      "[CV 3/5] END C=1000, dual=True, fit_intercept=False, loss=squared_hinge, multi_class=ovr, penalty=l1; total time=   0.0s\n",
      "[CV 4/5] END C=1000, dual=True, fit_intercept=False, loss=squared_hinge, multi_class=ovr, penalty=l1; total time=   0.0s\n",
      "[CV 5/5] END C=1000, dual=True, fit_intercept=False, loss=squared_hinge, multi_class=ovr, penalty=l1; total time=   0.0s\n",
      "[CV 1/5] END C=1000, dual=True, fit_intercept=False, loss=squared_hinge, multi_class=ovr, penalty=l2; total time=   0.0s\n"
     ]
    },
    {
     "name": "stderr",
     "output_type": "stream",
     "text": [
      "C:\\Users\\skhus\\anaconda3\\lib\\site-packages\\sklearn\\svm\\_base.py:985: ConvergenceWarning: Liblinear failed to converge, increase the number of iterations.\n",
      "  warnings.warn(\"Liblinear failed to converge, increase \"\n",
      "C:\\Users\\skhus\\anaconda3\\lib\\site-packages\\sklearn\\svm\\_base.py:985: ConvergenceWarning: Liblinear failed to converge, increase the number of iterations.\n",
      "  warnings.warn(\"Liblinear failed to converge, increase \"\n"
     ]
    },
    {
     "name": "stdout",
     "output_type": "stream",
     "text": [
      "[CV 2/5] END C=1000, dual=True, fit_intercept=False, loss=squared_hinge, multi_class=ovr, penalty=l2; total time=   0.0s\n",
      "[CV 3/5] END C=1000, dual=True, fit_intercept=False, loss=squared_hinge, multi_class=ovr, penalty=l2; total time=   0.0s\n"
     ]
    },
    {
     "name": "stderr",
     "output_type": "stream",
     "text": [
      "C:\\Users\\skhus\\anaconda3\\lib\\site-packages\\sklearn\\svm\\_base.py:985: ConvergenceWarning: Liblinear failed to converge, increase the number of iterations.\n",
      "  warnings.warn(\"Liblinear failed to converge, increase \"\n",
      "C:\\Users\\skhus\\anaconda3\\lib\\site-packages\\sklearn\\svm\\_base.py:985: ConvergenceWarning: Liblinear failed to converge, increase the number of iterations.\n",
      "  warnings.warn(\"Liblinear failed to converge, increase \"\n"
     ]
    },
    {
     "name": "stdout",
     "output_type": "stream",
     "text": [
      "[CV 4/5] END C=1000, dual=True, fit_intercept=False, loss=squared_hinge, multi_class=ovr, penalty=l2; total time=   0.0s\n",
      "[CV 5/5] END C=1000, dual=True, fit_intercept=False, loss=squared_hinge, multi_class=ovr, penalty=l2; total time=   0.0s\n"
     ]
    },
    {
     "name": "stderr",
     "output_type": "stream",
     "text": [
      "C:\\Users\\skhus\\anaconda3\\lib\\site-packages\\sklearn\\svm\\_base.py:985: ConvergenceWarning: Liblinear failed to converge, increase the number of iterations.\n",
      "  warnings.warn(\"Liblinear failed to converge, increase \"\n"
     ]
    },
    {
     "name": "stdout",
     "output_type": "stream",
     "text": [
      "[CV 1/5] END C=1000, dual=True, fit_intercept=False, loss=squared_hinge, multi_class=crammer_singer, penalty=l1; total time=   0.5s\n"
     ]
    },
    {
     "name": "stderr",
     "output_type": "stream",
     "text": [
      "C:\\Users\\skhus\\anaconda3\\lib\\site-packages\\sklearn\\svm\\_base.py:985: ConvergenceWarning: Liblinear failed to converge, increase the number of iterations.\n",
      "  warnings.warn(\"Liblinear failed to converge, increase \"\n"
     ]
    },
    {
     "name": "stdout",
     "output_type": "stream",
     "text": [
      "[CV 2/5] END C=1000, dual=True, fit_intercept=False, loss=squared_hinge, multi_class=crammer_singer, penalty=l1; total time=   0.7s\n",
      "[CV 3/5] END C=1000, dual=True, fit_intercept=False, loss=squared_hinge, multi_class=crammer_singer, penalty=l1; total time=   0.0s\n"
     ]
    },
    {
     "name": "stderr",
     "output_type": "stream",
     "text": [
      "C:\\Users\\skhus\\anaconda3\\lib\\site-packages\\sklearn\\svm\\_base.py:985: ConvergenceWarning: Liblinear failed to converge, increase the number of iterations.\n",
      "  warnings.warn(\"Liblinear failed to converge, increase \"\n"
     ]
    },
    {
     "name": "stdout",
     "output_type": "stream",
     "text": [
      "[CV 4/5] END C=1000, dual=True, fit_intercept=False, loss=squared_hinge, multi_class=crammer_singer, penalty=l1; total time=   0.5s\n"
     ]
    },
    {
     "name": "stderr",
     "output_type": "stream",
     "text": [
      "C:\\Users\\skhus\\anaconda3\\lib\\site-packages\\sklearn\\svm\\_base.py:985: ConvergenceWarning: Liblinear failed to converge, increase the number of iterations.\n",
      "  warnings.warn(\"Liblinear failed to converge, increase \"\n"
     ]
    },
    {
     "name": "stdout",
     "output_type": "stream",
     "text": [
      "[CV 5/5] END C=1000, dual=True, fit_intercept=False, loss=squared_hinge, multi_class=crammer_singer, penalty=l1; total time=   0.4s\n"
     ]
    },
    {
     "name": "stderr",
     "output_type": "stream",
     "text": [
      "C:\\Users\\skhus\\anaconda3\\lib\\site-packages\\sklearn\\svm\\_base.py:985: ConvergenceWarning: Liblinear failed to converge, increase the number of iterations.\n",
      "  warnings.warn(\"Liblinear failed to converge, increase \"\n"
     ]
    },
    {
     "name": "stdout",
     "output_type": "stream",
     "text": [
      "[CV 1/5] END C=1000, dual=True, fit_intercept=False, loss=squared_hinge, multi_class=crammer_singer, penalty=l2; total time=   0.5s\n"
     ]
    },
    {
     "name": "stderr",
     "output_type": "stream",
     "text": [
      "C:\\Users\\skhus\\anaconda3\\lib\\site-packages\\sklearn\\svm\\_base.py:985: ConvergenceWarning: Liblinear failed to converge, increase the number of iterations.\n",
      "  warnings.warn(\"Liblinear failed to converge, increase \"\n"
     ]
    },
    {
     "name": "stdout",
     "output_type": "stream",
     "text": [
      "[CV 2/5] END C=1000, dual=True, fit_intercept=False, loss=squared_hinge, multi_class=crammer_singer, penalty=l2; total time=   0.8s\n",
      "[CV 3/5] END C=1000, dual=True, fit_intercept=False, loss=squared_hinge, multi_class=crammer_singer, penalty=l2; total time=   0.0s\n"
     ]
    },
    {
     "name": "stderr",
     "output_type": "stream",
     "text": [
      "C:\\Users\\skhus\\anaconda3\\lib\\site-packages\\sklearn\\svm\\_base.py:985: ConvergenceWarning: Liblinear failed to converge, increase the number of iterations.\n",
      "  warnings.warn(\"Liblinear failed to converge, increase \"\n"
     ]
    },
    {
     "name": "stdout",
     "output_type": "stream",
     "text": [
      "[CV 4/5] END C=1000, dual=True, fit_intercept=False, loss=squared_hinge, multi_class=crammer_singer, penalty=l2; total time=   0.5s\n"
     ]
    },
    {
     "name": "stderr",
     "output_type": "stream",
     "text": [
      "C:\\Users\\skhus\\anaconda3\\lib\\site-packages\\sklearn\\svm\\_base.py:985: ConvergenceWarning: Liblinear failed to converge, increase the number of iterations.\n",
      "  warnings.warn(\"Liblinear failed to converge, increase \"\n",
      "C:\\Users\\skhus\\anaconda3\\lib\\site-packages\\sklearn\\model_selection\\_validation.py:610: FitFailedWarning: Estimator fit failed. The score on this train-test partition for these parameters will be set to nan. Details: \n",
      "Traceback (most recent call last):\n",
      "  File \"C:\\Users\\skhus\\anaconda3\\lib\\site-packages\\sklearn\\model_selection\\_validation.py\", line 593, in _fit_and_score\n",
      "    estimator.fit(X_train, y_train, **fit_params)\n",
      "  File \"C:\\Users\\skhus\\anaconda3\\lib\\site-packages\\sklearn\\svm\\_classes.py\", line 234, in fit\n",
      "    self.coef_, self.intercept_, self.n_iter_ = _fit_liblinear(\n",
      "  File \"C:\\Users\\skhus\\anaconda3\\lib\\site-packages\\sklearn\\svm\\_base.py\", line 974, in _fit_liblinear\n",
      "    solver_type = _get_liblinear_solver_type(multi_class, penalty, loss, dual)\n",
      "  File \"C:\\Users\\skhus\\anaconda3\\lib\\site-packages\\sklearn\\svm\\_base.py\", line 830, in _get_liblinear_solver_type\n",
      "    raise ValueError('Unsupported set of arguments: %s, '\n",
      "ValueError: Unsupported set of arguments: The combination of penalty='l1' and loss='hinge' is not supported, Parameters: penalty='l1', loss='hinge', dual=True\n",
      "\n",
      "  warnings.warn(\"Estimator fit failed. The score on this train-test\"\n",
      "C:\\Users\\skhus\\anaconda3\\lib\\site-packages\\sklearn\\model_selection\\_validation.py:610: FitFailedWarning: Estimator fit failed. The score on this train-test partition for these parameters will be set to nan. Details: \n",
      "Traceback (most recent call last):\n",
      "  File \"C:\\Users\\skhus\\anaconda3\\lib\\site-packages\\sklearn\\model_selection\\_validation.py\", line 593, in _fit_and_score\n",
      "    estimator.fit(X_train, y_train, **fit_params)\n",
      "  File \"C:\\Users\\skhus\\anaconda3\\lib\\site-packages\\sklearn\\svm\\_classes.py\", line 234, in fit\n",
      "    self.coef_, self.intercept_, self.n_iter_ = _fit_liblinear(\n",
      "  File \"C:\\Users\\skhus\\anaconda3\\lib\\site-packages\\sklearn\\svm\\_base.py\", line 974, in _fit_liblinear\n",
      "    solver_type = _get_liblinear_solver_type(multi_class, penalty, loss, dual)\n",
      "  File \"C:\\Users\\skhus\\anaconda3\\lib\\site-packages\\sklearn\\svm\\_base.py\", line 830, in _get_liblinear_solver_type\n",
      "    raise ValueError('Unsupported set of arguments: %s, '\n",
      "ValueError: Unsupported set of arguments: The combination of penalty='l1' and loss='hinge' is not supported, Parameters: penalty='l1', loss='hinge', dual=True\n",
      "\n",
      "  warnings.warn(\"Estimator fit failed. The score on this train-test\"\n",
      "C:\\Users\\skhus\\anaconda3\\lib\\site-packages\\sklearn\\model_selection\\_validation.py:610: FitFailedWarning: Estimator fit failed. The score on this train-test partition for these parameters will be set to nan. Details: \n",
      "Traceback (most recent call last):\n",
      "  File \"C:\\Users\\skhus\\anaconda3\\lib\\site-packages\\sklearn\\model_selection\\_validation.py\", line 593, in _fit_and_score\n",
      "    estimator.fit(X_train, y_train, **fit_params)\n",
      "  File \"C:\\Users\\skhus\\anaconda3\\lib\\site-packages\\sklearn\\svm\\_classes.py\", line 234, in fit\n",
      "    self.coef_, self.intercept_, self.n_iter_ = _fit_liblinear(\n",
      "  File \"C:\\Users\\skhus\\anaconda3\\lib\\site-packages\\sklearn\\svm\\_base.py\", line 974, in _fit_liblinear\n",
      "    solver_type = _get_liblinear_solver_type(multi_class, penalty, loss, dual)\n",
      "  File \"C:\\Users\\skhus\\anaconda3\\lib\\site-packages\\sklearn\\svm\\_base.py\", line 830, in _get_liblinear_solver_type\n",
      "    raise ValueError('Unsupported set of arguments: %s, '\n",
      "ValueError: Unsupported set of arguments: The combination of penalty='l1' and loss='hinge' is not supported, Parameters: penalty='l1', loss='hinge', dual=True\n",
      "\n",
      "  warnings.warn(\"Estimator fit failed. The score on this train-test\"\n",
      "C:\\Users\\skhus\\anaconda3\\lib\\site-packages\\sklearn\\model_selection\\_validation.py:610: FitFailedWarning: Estimator fit failed. The score on this train-test partition for these parameters will be set to nan. Details: \n",
      "Traceback (most recent call last):\n",
      "  File \"C:\\Users\\skhus\\anaconda3\\lib\\site-packages\\sklearn\\model_selection\\_validation.py\", line 593, in _fit_and_score\n",
      "    estimator.fit(X_train, y_train, **fit_params)\n",
      "  File \"C:\\Users\\skhus\\anaconda3\\lib\\site-packages\\sklearn\\svm\\_classes.py\", line 234, in fit\n",
      "    self.coef_, self.intercept_, self.n_iter_ = _fit_liblinear(\n",
      "  File \"C:\\Users\\skhus\\anaconda3\\lib\\site-packages\\sklearn\\svm\\_base.py\", line 974, in _fit_liblinear\n",
      "    solver_type = _get_liblinear_solver_type(multi_class, penalty, loss, dual)\n",
      "  File \"C:\\Users\\skhus\\anaconda3\\lib\\site-packages\\sklearn\\svm\\_base.py\", line 830, in _get_liblinear_solver_type\n",
      "    raise ValueError('Unsupported set of arguments: %s, '\n",
      "ValueError: Unsupported set of arguments: The combination of penalty='l1' and loss='hinge' is not supported, Parameters: penalty='l1', loss='hinge', dual=True\n",
      "\n",
      "  warnings.warn(\"Estimator fit failed. The score on this train-test\"\n",
      "C:\\Users\\skhus\\anaconda3\\lib\\site-packages\\sklearn\\model_selection\\_validation.py:610: FitFailedWarning: Estimator fit failed. The score on this train-test partition for these parameters will be set to nan. Details: \n",
      "Traceback (most recent call last):\n",
      "  File \"C:\\Users\\skhus\\anaconda3\\lib\\site-packages\\sklearn\\model_selection\\_validation.py\", line 593, in _fit_and_score\n",
      "    estimator.fit(X_train, y_train, **fit_params)\n",
      "  File \"C:\\Users\\skhus\\anaconda3\\lib\\site-packages\\sklearn\\svm\\_classes.py\", line 234, in fit\n",
      "    self.coef_, self.intercept_, self.n_iter_ = _fit_liblinear(\n",
      "  File \"C:\\Users\\skhus\\anaconda3\\lib\\site-packages\\sklearn\\svm\\_base.py\", line 974, in _fit_liblinear\n",
      "    solver_type = _get_liblinear_solver_type(multi_class, penalty, loss, dual)\n",
      "  File \"C:\\Users\\skhus\\anaconda3\\lib\\site-packages\\sklearn\\svm\\_base.py\", line 830, in _get_liblinear_solver_type\n",
      "    raise ValueError('Unsupported set of arguments: %s, '\n",
      "ValueError: Unsupported set of arguments: The combination of penalty='l1' and loss='hinge' is not supported, Parameters: penalty='l1', loss='hinge', dual=True\n",
      "\n",
      "  warnings.warn(\"Estimator fit failed. The score on this train-test\"\n",
      "C:\\Users\\skhus\\anaconda3\\lib\\site-packages\\sklearn\\svm\\_base.py:985: ConvergenceWarning: Liblinear failed to converge, increase the number of iterations.\n",
      "  warnings.warn(\"Liblinear failed to converge, increase \"\n"
     ]
    },
    {
     "name": "stdout",
     "output_type": "stream",
     "text": [
      "[CV 5/5] END C=1000, dual=True, fit_intercept=False, loss=squared_hinge, multi_class=crammer_singer, penalty=l2; total time=   0.4s\n",
      "[CV 1/5] END C=1000, dual=True, fit_intercept=True, loss=hinge, multi_class=ovr, penalty=l1; total time=   0.0s\n",
      "[CV 2/5] END C=1000, dual=True, fit_intercept=True, loss=hinge, multi_class=ovr, penalty=l1; total time=   0.0s\n",
      "[CV 3/5] END C=1000, dual=True, fit_intercept=True, loss=hinge, multi_class=ovr, penalty=l1; total time=   0.0s\n",
      "[CV 4/5] END C=1000, dual=True, fit_intercept=True, loss=hinge, multi_class=ovr, penalty=l1; total time=   0.0s\n",
      "[CV 5/5] END C=1000, dual=True, fit_intercept=True, loss=hinge, multi_class=ovr, penalty=l1; total time=   0.0s\n",
      "[CV 1/5] END C=1000, dual=True, fit_intercept=True, loss=hinge, multi_class=ovr, penalty=l2; total time=   0.0s\n"
     ]
    },
    {
     "name": "stderr",
     "output_type": "stream",
     "text": [
      "C:\\Users\\skhus\\anaconda3\\lib\\site-packages\\sklearn\\svm\\_base.py:985: ConvergenceWarning: Liblinear failed to converge, increase the number of iterations.\n",
      "  warnings.warn(\"Liblinear failed to converge, increase \"\n",
      "C:\\Users\\skhus\\anaconda3\\lib\\site-packages\\sklearn\\svm\\_base.py:985: ConvergenceWarning: Liblinear failed to converge, increase the number of iterations.\n",
      "  warnings.warn(\"Liblinear failed to converge, increase \"\n"
     ]
    },
    {
     "name": "stdout",
     "output_type": "stream",
     "text": [
      "[CV 2/5] END C=1000, dual=True, fit_intercept=True, loss=hinge, multi_class=ovr, penalty=l2; total time=   0.0s\n",
      "[CV 3/5] END C=1000, dual=True, fit_intercept=True, loss=hinge, multi_class=ovr, penalty=l2; total time=   0.0s\n"
     ]
    },
    {
     "name": "stderr",
     "output_type": "stream",
     "text": [
      "C:\\Users\\skhus\\anaconda3\\lib\\site-packages\\sklearn\\svm\\_base.py:985: ConvergenceWarning: Liblinear failed to converge, increase the number of iterations.\n",
      "  warnings.warn(\"Liblinear failed to converge, increase \"\n",
      "C:\\Users\\skhus\\anaconda3\\lib\\site-packages\\sklearn\\svm\\_base.py:985: ConvergenceWarning: Liblinear failed to converge, increase the number of iterations.\n",
      "  warnings.warn(\"Liblinear failed to converge, increase \"\n"
     ]
    },
    {
     "name": "stdout",
     "output_type": "stream",
     "text": [
      "[CV 4/5] END C=1000, dual=True, fit_intercept=True, loss=hinge, multi_class=ovr, penalty=l2; total time=   0.0s\n",
      "[CV 5/5] END C=1000, dual=True, fit_intercept=True, loss=hinge, multi_class=ovr, penalty=l2; total time=   0.0s\n"
     ]
    },
    {
     "name": "stderr",
     "output_type": "stream",
     "text": [
      "C:\\Users\\skhus\\anaconda3\\lib\\site-packages\\sklearn\\svm\\_base.py:985: ConvergenceWarning: Liblinear failed to converge, increase the number of iterations.\n",
      "  warnings.warn(\"Liblinear failed to converge, increase \"\n"
     ]
    },
    {
     "name": "stdout",
     "output_type": "stream",
     "text": [
      "[CV 1/5] END C=1000, dual=True, fit_intercept=True, loss=hinge, multi_class=crammer_singer, penalty=l1; total time=   1.3s\n"
     ]
    },
    {
     "name": "stderr",
     "output_type": "stream",
     "text": [
      "C:\\Users\\skhus\\anaconda3\\lib\\site-packages\\sklearn\\svm\\_base.py:985: ConvergenceWarning: Liblinear failed to converge, increase the number of iterations.\n",
      "  warnings.warn(\"Liblinear failed to converge, increase \"\n"
     ]
    },
    {
     "name": "stdout",
     "output_type": "stream",
     "text": [
      "[CV 2/5] END C=1000, dual=True, fit_intercept=True, loss=hinge, multi_class=crammer_singer, penalty=l1; total time=   1.8s\n"
     ]
    },
    {
     "name": "stderr",
     "output_type": "stream",
     "text": [
      "C:\\Users\\skhus\\anaconda3\\lib\\site-packages\\sklearn\\svm\\_base.py:985: ConvergenceWarning: Liblinear failed to converge, increase the number of iterations.\n",
      "  warnings.warn(\"Liblinear failed to converge, increase \"\n"
     ]
    },
    {
     "name": "stdout",
     "output_type": "stream",
     "text": [
      "[CV 3/5] END C=1000, dual=True, fit_intercept=True, loss=hinge, multi_class=crammer_singer, penalty=l1; total time=   0.9s\n"
     ]
    },
    {
     "name": "stderr",
     "output_type": "stream",
     "text": [
      "C:\\Users\\skhus\\anaconda3\\lib\\site-packages\\sklearn\\svm\\_base.py:985: ConvergenceWarning: Liblinear failed to converge, increase the number of iterations.\n",
      "  warnings.warn(\"Liblinear failed to converge, increase \"\n"
     ]
    },
    {
     "name": "stdout",
     "output_type": "stream",
     "text": [
      "[CV 4/5] END C=1000, dual=True, fit_intercept=True, loss=hinge, multi_class=crammer_singer, penalty=l1; total time=   1.8s\n"
     ]
    },
    {
     "name": "stderr",
     "output_type": "stream",
     "text": [
      "C:\\Users\\skhus\\anaconda3\\lib\\site-packages\\sklearn\\svm\\_base.py:985: ConvergenceWarning: Liblinear failed to converge, increase the number of iterations.\n",
      "  warnings.warn(\"Liblinear failed to converge, increase \"\n"
     ]
    },
    {
     "name": "stdout",
     "output_type": "stream",
     "text": [
      "[CV 5/5] END C=1000, dual=True, fit_intercept=True, loss=hinge, multi_class=crammer_singer, penalty=l1; total time=   1.3s\n"
     ]
    },
    {
     "name": "stderr",
     "output_type": "stream",
     "text": [
      "C:\\Users\\skhus\\anaconda3\\lib\\site-packages\\sklearn\\svm\\_base.py:985: ConvergenceWarning: Liblinear failed to converge, increase the number of iterations.\n",
      "  warnings.warn(\"Liblinear failed to converge, increase \"\n"
     ]
    },
    {
     "name": "stdout",
     "output_type": "stream",
     "text": [
      "[CV 1/5] END C=1000, dual=True, fit_intercept=True, loss=hinge, multi_class=crammer_singer, penalty=l2; total time=   1.3s\n"
     ]
    },
    {
     "name": "stderr",
     "output_type": "stream",
     "text": [
      "C:\\Users\\skhus\\anaconda3\\lib\\site-packages\\sklearn\\svm\\_base.py:985: ConvergenceWarning: Liblinear failed to converge, increase the number of iterations.\n",
      "  warnings.warn(\"Liblinear failed to converge, increase \"\n"
     ]
    },
    {
     "name": "stdout",
     "output_type": "stream",
     "text": [
      "[CV 2/5] END C=1000, dual=True, fit_intercept=True, loss=hinge, multi_class=crammer_singer, penalty=l2; total time=   1.8s\n"
     ]
    },
    {
     "name": "stderr",
     "output_type": "stream",
     "text": [
      "C:\\Users\\skhus\\anaconda3\\lib\\site-packages\\sklearn\\svm\\_base.py:985: ConvergenceWarning: Liblinear failed to converge, increase the number of iterations.\n",
      "  warnings.warn(\"Liblinear failed to converge, increase \"\n"
     ]
    },
    {
     "name": "stdout",
     "output_type": "stream",
     "text": [
      "[CV 3/5] END C=1000, dual=True, fit_intercept=True, loss=hinge, multi_class=crammer_singer, penalty=l2; total time=   0.9s\n"
     ]
    },
    {
     "name": "stderr",
     "output_type": "stream",
     "text": [
      "C:\\Users\\skhus\\anaconda3\\lib\\site-packages\\sklearn\\svm\\_base.py:985: ConvergenceWarning: Liblinear failed to converge, increase the number of iterations.\n",
      "  warnings.warn(\"Liblinear failed to converge, increase \"\n"
     ]
    },
    {
     "name": "stdout",
     "output_type": "stream",
     "text": [
      "[CV 4/5] END C=1000, dual=True, fit_intercept=True, loss=hinge, multi_class=crammer_singer, penalty=l2; total time=   2.3s\n"
     ]
    },
    {
     "name": "stderr",
     "output_type": "stream",
     "text": [
      "C:\\Users\\skhus\\anaconda3\\lib\\site-packages\\sklearn\\svm\\_base.py:985: ConvergenceWarning: Liblinear failed to converge, increase the number of iterations.\n",
      "  warnings.warn(\"Liblinear failed to converge, increase \"\n",
      "C:\\Users\\skhus\\anaconda3\\lib\\site-packages\\sklearn\\model_selection\\_validation.py:610: FitFailedWarning: Estimator fit failed. The score on this train-test partition for these parameters will be set to nan. Details: \n",
      "Traceback (most recent call last):\n",
      "  File \"C:\\Users\\skhus\\anaconda3\\lib\\site-packages\\sklearn\\model_selection\\_validation.py\", line 593, in _fit_and_score\n",
      "    estimator.fit(X_train, y_train, **fit_params)\n",
      "  File \"C:\\Users\\skhus\\anaconda3\\lib\\site-packages\\sklearn\\svm\\_classes.py\", line 234, in fit\n",
      "    self.coef_, self.intercept_, self.n_iter_ = _fit_liblinear(\n",
      "  File \"C:\\Users\\skhus\\anaconda3\\lib\\site-packages\\sklearn\\svm\\_base.py\", line 974, in _fit_liblinear\n",
      "    solver_type = _get_liblinear_solver_type(multi_class, penalty, loss, dual)\n",
      "  File \"C:\\Users\\skhus\\anaconda3\\lib\\site-packages\\sklearn\\svm\\_base.py\", line 830, in _get_liblinear_solver_type\n",
      "    raise ValueError('Unsupported set of arguments: %s, '\n",
      "ValueError: Unsupported set of arguments: The combination of penalty='l1' and loss='squared_hinge' are not supported when dual=True, Parameters: penalty='l1', loss='squared_hinge', dual=True\n",
      "\n",
      "  warnings.warn(\"Estimator fit failed. The score on this train-test\"\n",
      "C:\\Users\\skhus\\anaconda3\\lib\\site-packages\\sklearn\\model_selection\\_validation.py:610: FitFailedWarning: Estimator fit failed. The score on this train-test partition for these parameters will be set to nan. Details: \n",
      "Traceback (most recent call last):\n",
      "  File \"C:\\Users\\skhus\\anaconda3\\lib\\site-packages\\sklearn\\model_selection\\_validation.py\", line 593, in _fit_and_score\n",
      "    estimator.fit(X_train, y_train, **fit_params)\n",
      "  File \"C:\\Users\\skhus\\anaconda3\\lib\\site-packages\\sklearn\\svm\\_classes.py\", line 234, in fit\n",
      "    self.coef_, self.intercept_, self.n_iter_ = _fit_liblinear(\n",
      "  File \"C:\\Users\\skhus\\anaconda3\\lib\\site-packages\\sklearn\\svm\\_base.py\", line 974, in _fit_liblinear\n",
      "    solver_type = _get_liblinear_solver_type(multi_class, penalty, loss, dual)\n",
      "  File \"C:\\Users\\skhus\\anaconda3\\lib\\site-packages\\sklearn\\svm\\_base.py\", line 830, in _get_liblinear_solver_type\n",
      "    raise ValueError('Unsupported set of arguments: %s, '\n",
      "ValueError: Unsupported set of arguments: The combination of penalty='l1' and loss='squared_hinge' are not supported when dual=True, Parameters: penalty='l1', loss='squared_hinge', dual=True\n",
      "\n",
      "  warnings.warn(\"Estimator fit failed. The score on this train-test\"\n",
      "C:\\Users\\skhus\\anaconda3\\lib\\site-packages\\sklearn\\model_selection\\_validation.py:610: FitFailedWarning: Estimator fit failed. The score on this train-test partition for these parameters will be set to nan. Details: \n",
      "Traceback (most recent call last):\n",
      "  File \"C:\\Users\\skhus\\anaconda3\\lib\\site-packages\\sklearn\\model_selection\\_validation.py\", line 593, in _fit_and_score\n",
      "    estimator.fit(X_train, y_train, **fit_params)\n",
      "  File \"C:\\Users\\skhus\\anaconda3\\lib\\site-packages\\sklearn\\svm\\_classes.py\", line 234, in fit\n",
      "    self.coef_, self.intercept_, self.n_iter_ = _fit_liblinear(\n",
      "  File \"C:\\Users\\skhus\\anaconda3\\lib\\site-packages\\sklearn\\svm\\_base.py\", line 974, in _fit_liblinear\n",
      "    solver_type = _get_liblinear_solver_type(multi_class, penalty, loss, dual)\n",
      "  File \"C:\\Users\\skhus\\anaconda3\\lib\\site-packages\\sklearn\\svm\\_base.py\", line 830, in _get_liblinear_solver_type\n",
      "    raise ValueError('Unsupported set of arguments: %s, '\n",
      "ValueError: Unsupported set of arguments: The combination of penalty='l1' and loss='squared_hinge' are not supported when dual=True, Parameters: penalty='l1', loss='squared_hinge', dual=True\n",
      "\n",
      "  warnings.warn(\"Estimator fit failed. The score on this train-test\"\n",
      "C:\\Users\\skhus\\anaconda3\\lib\\site-packages\\sklearn\\model_selection\\_validation.py:610: FitFailedWarning: Estimator fit failed. The score on this train-test partition for these parameters will be set to nan. Details: \n",
      "Traceback (most recent call last):\n",
      "  File \"C:\\Users\\skhus\\anaconda3\\lib\\site-packages\\sklearn\\model_selection\\_validation.py\", line 593, in _fit_and_score\n",
      "    estimator.fit(X_train, y_train, **fit_params)\n",
      "  File \"C:\\Users\\skhus\\anaconda3\\lib\\site-packages\\sklearn\\svm\\_classes.py\", line 234, in fit\n",
      "    self.coef_, self.intercept_, self.n_iter_ = _fit_liblinear(\n",
      "  File \"C:\\Users\\skhus\\anaconda3\\lib\\site-packages\\sklearn\\svm\\_base.py\", line 974, in _fit_liblinear\n",
      "    solver_type = _get_liblinear_solver_type(multi_class, penalty, loss, dual)\n",
      "  File \"C:\\Users\\skhus\\anaconda3\\lib\\site-packages\\sklearn\\svm\\_base.py\", line 830, in _get_liblinear_solver_type\n",
      "    raise ValueError('Unsupported set of arguments: %s, '\n",
      "ValueError: Unsupported set of arguments: The combination of penalty='l1' and loss='squared_hinge' are not supported when dual=True, Parameters: penalty='l1', loss='squared_hinge', dual=True\n",
      "\n",
      "  warnings.warn(\"Estimator fit failed. The score on this train-test\"\n",
      "C:\\Users\\skhus\\anaconda3\\lib\\site-packages\\sklearn\\model_selection\\_validation.py:610: FitFailedWarning: Estimator fit failed. The score on this train-test partition for these parameters will be set to nan. Details: \n",
      "Traceback (most recent call last):\n",
      "  File \"C:\\Users\\skhus\\anaconda3\\lib\\site-packages\\sklearn\\model_selection\\_validation.py\", line 593, in _fit_and_score\n",
      "    estimator.fit(X_train, y_train, **fit_params)\n",
      "  File \"C:\\Users\\skhus\\anaconda3\\lib\\site-packages\\sklearn\\svm\\_classes.py\", line 234, in fit\n",
      "    self.coef_, self.intercept_, self.n_iter_ = _fit_liblinear(\n",
      "  File \"C:\\Users\\skhus\\anaconda3\\lib\\site-packages\\sklearn\\svm\\_base.py\", line 974, in _fit_liblinear\n",
      "    solver_type = _get_liblinear_solver_type(multi_class, penalty, loss, dual)\n",
      "  File \"C:\\Users\\skhus\\anaconda3\\lib\\site-packages\\sklearn\\svm\\_base.py\", line 830, in _get_liblinear_solver_type\n",
      "    raise ValueError('Unsupported set of arguments: %s, '\n",
      "ValueError: Unsupported set of arguments: The combination of penalty='l1' and loss='squared_hinge' are not supported when dual=True, Parameters: penalty='l1', loss='squared_hinge', dual=True\n",
      "\n",
      "  warnings.warn(\"Estimator fit failed. The score on this train-test\"\n",
      "C:\\Users\\skhus\\anaconda3\\lib\\site-packages\\sklearn\\svm\\_base.py:985: ConvergenceWarning: Liblinear failed to converge, increase the number of iterations.\n",
      "  warnings.warn(\"Liblinear failed to converge, increase \"\n"
     ]
    },
    {
     "name": "stdout",
     "output_type": "stream",
     "text": [
      "[CV 5/5] END C=1000, dual=True, fit_intercept=True, loss=hinge, multi_class=crammer_singer, penalty=l2; total time=   1.3s\n",
      "[CV 1/5] END C=1000, dual=True, fit_intercept=True, loss=squared_hinge, multi_class=ovr, penalty=l1; total time=   0.0s\n",
      "[CV 2/5] END C=1000, dual=True, fit_intercept=True, loss=squared_hinge, multi_class=ovr, penalty=l1; total time=   0.0s\n",
      "[CV 3/5] END C=1000, dual=True, fit_intercept=True, loss=squared_hinge, multi_class=ovr, penalty=l1; total time=   0.0s\n",
      "[CV 4/5] END C=1000, dual=True, fit_intercept=True, loss=squared_hinge, multi_class=ovr, penalty=l1; total time=   0.0s\n",
      "[CV 5/5] END C=1000, dual=True, fit_intercept=True, loss=squared_hinge, multi_class=ovr, penalty=l1; total time=   0.0s\n",
      "[CV 1/5] END C=1000, dual=True, fit_intercept=True, loss=squared_hinge, multi_class=ovr, penalty=l2; total time=   0.0s\n"
     ]
    },
    {
     "name": "stderr",
     "output_type": "stream",
     "text": [
      "C:\\Users\\skhus\\anaconda3\\lib\\site-packages\\sklearn\\svm\\_base.py:985: ConvergenceWarning: Liblinear failed to converge, increase the number of iterations.\n",
      "  warnings.warn(\"Liblinear failed to converge, increase \"\n",
      "C:\\Users\\skhus\\anaconda3\\lib\\site-packages\\sklearn\\svm\\_base.py:985: ConvergenceWarning: Liblinear failed to converge, increase the number of iterations.\n",
      "  warnings.warn(\"Liblinear failed to converge, increase \"\n"
     ]
    },
    {
     "name": "stdout",
     "output_type": "stream",
     "text": [
      "[CV 2/5] END C=1000, dual=True, fit_intercept=True, loss=squared_hinge, multi_class=ovr, penalty=l2; total time=   0.0s\n",
      "[CV 3/5] END C=1000, dual=True, fit_intercept=True, loss=squared_hinge, multi_class=ovr, penalty=l2; total time=   0.0s\n"
     ]
    },
    {
     "name": "stderr",
     "output_type": "stream",
     "text": [
      "C:\\Users\\skhus\\anaconda3\\lib\\site-packages\\sklearn\\svm\\_base.py:985: ConvergenceWarning: Liblinear failed to converge, increase the number of iterations.\n",
      "  warnings.warn(\"Liblinear failed to converge, increase \"\n",
      "C:\\Users\\skhus\\anaconda3\\lib\\site-packages\\sklearn\\svm\\_base.py:985: ConvergenceWarning: Liblinear failed to converge, increase the number of iterations.\n",
      "  warnings.warn(\"Liblinear failed to converge, increase \"\n"
     ]
    },
    {
     "name": "stdout",
     "output_type": "stream",
     "text": [
      "[CV 4/5] END C=1000, dual=True, fit_intercept=True, loss=squared_hinge, multi_class=ovr, penalty=l2; total time=   0.0s\n",
      "[CV 5/5] END C=1000, dual=True, fit_intercept=True, loss=squared_hinge, multi_class=ovr, penalty=l2; total time=   0.0s\n"
     ]
    },
    {
     "name": "stderr",
     "output_type": "stream",
     "text": [
      "C:\\Users\\skhus\\anaconda3\\lib\\site-packages\\sklearn\\svm\\_base.py:985: ConvergenceWarning: Liblinear failed to converge, increase the number of iterations.\n",
      "  warnings.warn(\"Liblinear failed to converge, increase \"\n"
     ]
    },
    {
     "name": "stdout",
     "output_type": "stream",
     "text": [
      "[CV 1/5] END C=1000, dual=True, fit_intercept=True, loss=squared_hinge, multi_class=crammer_singer, penalty=l1; total time=   1.4s\n"
     ]
    },
    {
     "name": "stderr",
     "output_type": "stream",
     "text": [
      "C:\\Users\\skhus\\anaconda3\\lib\\site-packages\\sklearn\\svm\\_base.py:985: ConvergenceWarning: Liblinear failed to converge, increase the number of iterations.\n",
      "  warnings.warn(\"Liblinear failed to converge, increase \"\n"
     ]
    },
    {
     "name": "stdout",
     "output_type": "stream",
     "text": [
      "[CV 2/5] END C=1000, dual=True, fit_intercept=True, loss=squared_hinge, multi_class=crammer_singer, penalty=l1; total time=   1.7s\n"
     ]
    },
    {
     "name": "stderr",
     "output_type": "stream",
     "text": [
      "C:\\Users\\skhus\\anaconda3\\lib\\site-packages\\sklearn\\svm\\_base.py:985: ConvergenceWarning: Liblinear failed to converge, increase the number of iterations.\n",
      "  warnings.warn(\"Liblinear failed to converge, increase \"\n"
     ]
    },
    {
     "name": "stdout",
     "output_type": "stream",
     "text": [
      "[CV 3/5] END C=1000, dual=True, fit_intercept=True, loss=squared_hinge, multi_class=crammer_singer, penalty=l1; total time=   0.9s\n"
     ]
    },
    {
     "name": "stderr",
     "output_type": "stream",
     "text": [
      "C:\\Users\\skhus\\anaconda3\\lib\\site-packages\\sklearn\\svm\\_base.py:985: ConvergenceWarning: Liblinear failed to converge, increase the number of iterations.\n",
      "  warnings.warn(\"Liblinear failed to converge, increase \"\n"
     ]
    },
    {
     "name": "stdout",
     "output_type": "stream",
     "text": [
      "[CV 4/5] END C=1000, dual=True, fit_intercept=True, loss=squared_hinge, multi_class=crammer_singer, penalty=l1; total time=   1.7s\n"
     ]
    },
    {
     "name": "stderr",
     "output_type": "stream",
     "text": [
      "C:\\Users\\skhus\\anaconda3\\lib\\site-packages\\sklearn\\svm\\_base.py:985: ConvergenceWarning: Liblinear failed to converge, increase the number of iterations.\n",
      "  warnings.warn(\"Liblinear failed to converge, increase \"\n"
     ]
    },
    {
     "name": "stdout",
     "output_type": "stream",
     "text": [
      "[CV 5/5] END C=1000, dual=True, fit_intercept=True, loss=squared_hinge, multi_class=crammer_singer, penalty=l1; total time=   1.5s\n"
     ]
    },
    {
     "name": "stderr",
     "output_type": "stream",
     "text": [
      "C:\\Users\\skhus\\anaconda3\\lib\\site-packages\\sklearn\\svm\\_base.py:985: ConvergenceWarning: Liblinear failed to converge, increase the number of iterations.\n",
      "  warnings.warn(\"Liblinear failed to converge, increase \"\n"
     ]
    },
    {
     "name": "stdout",
     "output_type": "stream",
     "text": [
      "[CV 1/5] END C=1000, dual=True, fit_intercept=True, loss=squared_hinge, multi_class=crammer_singer, penalty=l2; total time=   1.3s\n"
     ]
    },
    {
     "name": "stderr",
     "output_type": "stream",
     "text": [
      "C:\\Users\\skhus\\anaconda3\\lib\\site-packages\\sklearn\\svm\\_base.py:985: ConvergenceWarning: Liblinear failed to converge, increase the number of iterations.\n",
      "  warnings.warn(\"Liblinear failed to converge, increase \"\n"
     ]
    },
    {
     "name": "stdout",
     "output_type": "stream",
     "text": [
      "[CV 2/5] END C=1000, dual=True, fit_intercept=True, loss=squared_hinge, multi_class=crammer_singer, penalty=l2; total time=   1.8s\n"
     ]
    },
    {
     "name": "stderr",
     "output_type": "stream",
     "text": [
      "C:\\Users\\skhus\\anaconda3\\lib\\site-packages\\sklearn\\svm\\_base.py:985: ConvergenceWarning: Liblinear failed to converge, increase the number of iterations.\n",
      "  warnings.warn(\"Liblinear failed to converge, increase \"\n"
     ]
    },
    {
     "name": "stdout",
     "output_type": "stream",
     "text": [
      "[CV 3/5] END C=1000, dual=True, fit_intercept=True, loss=squared_hinge, multi_class=crammer_singer, penalty=l2; total time=   0.9s\n"
     ]
    },
    {
     "name": "stderr",
     "output_type": "stream",
     "text": [
      "C:\\Users\\skhus\\anaconda3\\lib\\site-packages\\sklearn\\svm\\_base.py:985: ConvergenceWarning: Liblinear failed to converge, increase the number of iterations.\n",
      "  warnings.warn(\"Liblinear failed to converge, increase \"\n"
     ]
    },
    {
     "name": "stdout",
     "output_type": "stream",
     "text": [
      "[CV 4/5] END C=1000, dual=True, fit_intercept=True, loss=squared_hinge, multi_class=crammer_singer, penalty=l2; total time=   1.7s\n"
     ]
    },
    {
     "name": "stderr",
     "output_type": "stream",
     "text": [
      "C:\\Users\\skhus\\anaconda3\\lib\\site-packages\\sklearn\\svm\\_base.py:985: ConvergenceWarning: Liblinear failed to converge, increase the number of iterations.\n",
      "  warnings.warn(\"Liblinear failed to converge, increase \"\n",
      "C:\\Users\\skhus\\anaconda3\\lib\\site-packages\\sklearn\\model_selection\\_search.py:918: UserWarning: One or more of the test scores are non-finite: [       nan        nan 0.70747273 0.70747273 0.72932048 0.74321247\n",
      " 0.70747273 0.70747273        nan        nan 0.6790134  0.6790134\n",
      " 0.67109042 0.74916836 0.6790134  0.6790134         nan 0.69754552\n",
      " 0.70747273 0.70747273        nan 0.74321247 0.70747273 0.70747273\n",
      "        nan 0.58701943 0.6790134  0.6790134         nan 0.74916836\n",
      " 0.6790134  0.6790134         nan        nan 0.75511988 0.75511988\n",
      " 0.76438048 0.75975346 0.75511988 0.75511988        nan        nan\n",
      " 0.77763425 0.77763425 0.7650471  0.7703473  0.77763425 0.77763425\n",
      "        nan 0.74321028 0.75511988 0.75511988        nan 0.75975346\n",
      " 0.75511988 0.75511988        nan 0.75710664 0.77763425 0.77763425\n",
      "        nan 0.7703473  0.77763425 0.77763425        nan        nan\n",
      " 0.75180644 0.75180644 0.76769611 0.76107359 0.75180644 0.75180644\n",
      "        nan        nan 0.77365637 0.77365637 0.76835399 0.77497432\n",
      " 0.77365637 0.77365637        nan 0.75511988 0.75180644 0.75180644\n",
      "        nan 0.76107359 0.75180644 0.75180644        nan 0.77763425\n",
      " 0.77365637 0.77365637        nan 0.77497432 0.77365637 0.77365637\n",
      "        nan        nan 0.75048412 0.75048412 0.73660962 0.75047756\n",
      " 0.75048412 0.75048412        nan        nan 0.77299849 0.77299849\n",
      " 0.7524818  0.77498306 0.77299849 0.77299849        nan 0.75048412\n",
      " 0.75048412 0.75048412        nan 0.75047756 0.75048412 0.75048412\n",
      "        nan 0.77366074 0.77299849 0.77299849        nan 0.77498306\n",
      " 0.77299849 0.77299849        nan        nan 0.75048412 0.75048412\n",
      " 0.74586803 0.75180207 0.75048412 0.75048412        nan        nan\n",
      " 0.75909121 0.75909121 0.74123664 0.76505366 0.75909121 0.75909121\n",
      "        nan 0.75048412 0.75048412 0.75048412        nan 0.74981968\n",
      " 0.75048412 0.75048412        nan 0.76107796 0.75909121 0.75909121\n",
      "        nan 0.76505147 0.75909121 0.75909121        nan        nan\n",
      " 0.75048412 0.75048412 0.73064717 0.75312657 0.75048412 0.75048412\n",
      "        nan        nan 0.75909121 0.75909121 0.74256989 0.75909558\n",
      " 0.75909121 0.75909121        nan 0.75048412 0.75048412 0.75048412\n",
      "        nan 0.75048194 0.75048412 0.75048412        nan 0.75776889\n",
      " 0.75909121 0.75909121        nan 0.75909339 0.75909121 0.75909121]\n",
      "  warnings.warn(\n"
     ]
    },
    {
     "name": "stdout",
     "output_type": "stream",
     "text": [
      "[CV 5/5] END C=1000, dual=True, fit_intercept=True, loss=squared_hinge, multi_class=crammer_singer, penalty=l2; total time=   1.4s\n"
     ]
    },
    {
     "name": "stderr",
     "output_type": "stream",
     "text": [
      "C:\\Users\\skhus\\anaconda3\\lib\\site-packages\\sklearn\\svm\\_base.py:985: ConvergenceWarning: Liblinear failed to converge, increase the number of iterations.\n",
      "  warnings.warn(\"Liblinear failed to converge, increase \"\n"
     ]
    },
    {
     "data": {
      "text/plain": [
       "GridSearchCV(estimator=LinearSVC(),\n",
       "             param_grid={'C': [0.1, 0.5, 1, 10, 100, 1000],\n",
       "                         'dual': [False, True], 'fit_intercept': [False, True],\n",
       "                         'loss': ['hinge', 'squared_hinge'],\n",
       "                         'multi_class': ['ovr', 'crammer_singer'],\n",
       "                         'penalty': ['l1', 'l2']},\n",
       "             verbose=3)"
      ]
     },
     "execution_count": 73,
     "metadata": {},
     "output_type": "execute_result"
    }
   ],
   "source": [
    "# fitting the model for grid search\n",
    "grid.fit(X_train, y_train)"
   ]
  },
  {
   "cell_type": "code",
   "execution_count": 74,
   "id": "b4d6c318",
   "metadata": {},
   "outputs": [
    {
     "name": "stdout",
     "output_type": "stream",
     "text": [
      "{'C': 0.5, 'dual': False, 'fit_intercept': True, 'loss': 'hinge', 'multi_class': 'crammer_singer', 'penalty': 'l1'}\n",
      "LinearSVC(C=0.5, dual=False, loss='hinge', multi_class='crammer_singer',\n",
      "          penalty='l1')\n"
     ]
    }
   ],
   "source": [
    "# print best parameter after tuning\n",
    "print(grid.best_params_)\n",
    "  \n",
    "# print how our model looks after hyper-parameter tuning\n",
    "print(grid.best_estimator_)"
   ]
  },
  {
   "cell_type": "code",
   "execution_count": 75,
   "id": "b74a9a74",
   "metadata": {},
   "outputs": [
    {
     "name": "stdout",
     "output_type": "stream",
     "text": [
      "              precision    recall  f1-score   support\n",
      "\n",
      "           0       0.78      0.81      0.80       188\n",
      "           1       0.81      0.77      0.79       190\n",
      "\n",
      "    accuracy                           0.79       378\n",
      "   macro avg       0.79      0.79      0.79       378\n",
      "weighted avg       0.79      0.79      0.79       378\n",
      "\n"
     ]
    }
   ],
   "source": [
    "grid_predictions = grid.predict(X_test)\n",
    "  \n",
    "# print classification report\n",
    "print(classification_report(y_test, grid_predictions))"
   ]
  },
  {
   "cell_type": "markdown",
   "id": "5d182406",
   "metadata": {},
   "source": [
    "RandomizeSearch"
   ]
  },
  {
   "cell_type": "code",
   "execution_count": 76,
   "id": "a2bd801b",
   "metadata": {},
   "outputs": [],
   "source": [
    "from sklearn.model_selection import RandomizedSearchCV\n",
    "from scipy.stats import uniform"
   ]
  },
  {
   "cell_type": "code",
   "execution_count": 78,
   "id": "0bab6334",
   "metadata": {},
   "outputs": [
    {
     "name": "stderr",
     "output_type": "stream",
     "text": [
      "C:\\Users\\skhus\\anaconda3\\lib\\site-packages\\sklearn\\svm\\_base.py:985: ConvergenceWarning: Liblinear failed to converge, increase the number of iterations.\n",
      "  warnings.warn(\"Liblinear failed to converge, increase \"\n",
      "C:\\Users\\skhus\\anaconda3\\lib\\site-packages\\sklearn\\svm\\_base.py:985: ConvergenceWarning: Liblinear failed to converge, increase the number of iterations.\n",
      "  warnings.warn(\"Liblinear failed to converge, increase \"\n",
      "C:\\Users\\skhus\\anaconda3\\lib\\site-packages\\sklearn\\svm\\_base.py:985: ConvergenceWarning: Liblinear failed to converge, increase the number of iterations.\n",
      "  warnings.warn(\"Liblinear failed to converge, increase \"\n",
      "C:\\Users\\skhus\\anaconda3\\lib\\site-packages\\sklearn\\svm\\_base.py:985: ConvergenceWarning: Liblinear failed to converge, increase the number of iterations.\n",
      "  warnings.warn(\"Liblinear failed to converge, increase \"\n",
      "C:\\Users\\skhus\\anaconda3\\lib\\site-packages\\sklearn\\svm\\_base.py:985: ConvergenceWarning: Liblinear failed to converge, increase the number of iterations.\n",
      "  warnings.warn(\"Liblinear failed to converge, increase \"\n",
      "C:\\Users\\skhus\\anaconda3\\lib\\site-packages\\sklearn\\svm\\_base.py:985: ConvergenceWarning: Liblinear failed to converge, increase the number of iterations.\n",
      "  warnings.warn(\"Liblinear failed to converge, increase \"\n",
      "C:\\Users\\skhus\\anaconda3\\lib\\site-packages\\sklearn\\model_selection\\_validation.py:610: FitFailedWarning: Estimator fit failed. The score on this train-test partition for these parameters will be set to nan. Details: \n",
      "Traceback (most recent call last):\n",
      "  File \"C:\\Users\\skhus\\anaconda3\\lib\\site-packages\\sklearn\\model_selection\\_validation.py\", line 593, in _fit_and_score\n",
      "    estimator.fit(X_train, y_train, **fit_params)\n",
      "  File \"C:\\Users\\skhus\\anaconda3\\lib\\site-packages\\sklearn\\svm\\_classes.py\", line 234, in fit\n",
      "    self.coef_, self.intercept_, self.n_iter_ = _fit_liblinear(\n",
      "  File \"C:\\Users\\skhus\\anaconda3\\lib\\site-packages\\sklearn\\svm\\_base.py\", line 974, in _fit_liblinear\n",
      "    solver_type = _get_liblinear_solver_type(multi_class, penalty, loss, dual)\n",
      "  File \"C:\\Users\\skhus\\anaconda3\\lib\\site-packages\\sklearn\\svm\\_base.py\", line 830, in _get_liblinear_solver_type\n",
      "    raise ValueError('Unsupported set of arguments: %s, '\n",
      "ValueError: Unsupported set of arguments: The combination of penalty='l2' and loss='hinge' are not supported when dual=False, Parameters: penalty='l2', loss='hinge', dual=False\n",
      "\n",
      "  warnings.warn(\"Estimator fit failed. The score on this train-test\"\n",
      "C:\\Users\\skhus\\anaconda3\\lib\\site-packages\\sklearn\\model_selection\\_validation.py:610: FitFailedWarning: Estimator fit failed. The score on this train-test partition for these parameters will be set to nan. Details: \n",
      "Traceback (most recent call last):\n",
      "  File \"C:\\Users\\skhus\\anaconda3\\lib\\site-packages\\sklearn\\model_selection\\_validation.py\", line 593, in _fit_and_score\n",
      "    estimator.fit(X_train, y_train, **fit_params)\n",
      "  File \"C:\\Users\\skhus\\anaconda3\\lib\\site-packages\\sklearn\\svm\\_classes.py\", line 234, in fit\n",
      "    self.coef_, self.intercept_, self.n_iter_ = _fit_liblinear(\n",
      "  File \"C:\\Users\\skhus\\anaconda3\\lib\\site-packages\\sklearn\\svm\\_base.py\", line 974, in _fit_liblinear\n",
      "    solver_type = _get_liblinear_solver_type(multi_class, penalty, loss, dual)\n",
      "  File \"C:\\Users\\skhus\\anaconda3\\lib\\site-packages\\sklearn\\svm\\_base.py\", line 830, in _get_liblinear_solver_type\n",
      "    raise ValueError('Unsupported set of arguments: %s, '\n",
      "ValueError: Unsupported set of arguments: The combination of penalty='l2' and loss='hinge' are not supported when dual=False, Parameters: penalty='l2', loss='hinge', dual=False\n",
      "\n",
      "  warnings.warn(\"Estimator fit failed. The score on this train-test\"\n",
      "C:\\Users\\skhus\\anaconda3\\lib\\site-packages\\sklearn\\model_selection\\_validation.py:610: FitFailedWarning: Estimator fit failed. The score on this train-test partition for these parameters will be set to nan. Details: \n",
      "Traceback (most recent call last):\n",
      "  File \"C:\\Users\\skhus\\anaconda3\\lib\\site-packages\\sklearn\\model_selection\\_validation.py\", line 593, in _fit_and_score\n",
      "    estimator.fit(X_train, y_train, **fit_params)\n",
      "  File \"C:\\Users\\skhus\\anaconda3\\lib\\site-packages\\sklearn\\svm\\_classes.py\", line 234, in fit\n",
      "    self.coef_, self.intercept_, self.n_iter_ = _fit_liblinear(\n",
      "  File \"C:\\Users\\skhus\\anaconda3\\lib\\site-packages\\sklearn\\svm\\_base.py\", line 974, in _fit_liblinear\n",
      "    solver_type = _get_liblinear_solver_type(multi_class, penalty, loss, dual)\n",
      "  File \"C:\\Users\\skhus\\anaconda3\\lib\\site-packages\\sklearn\\svm\\_base.py\", line 830, in _get_liblinear_solver_type\n",
      "    raise ValueError('Unsupported set of arguments: %s, '\n",
      "ValueError: Unsupported set of arguments: The combination of penalty='l2' and loss='hinge' are not supported when dual=False, Parameters: penalty='l2', loss='hinge', dual=False\n",
      "\n",
      "  warnings.warn(\"Estimator fit failed. The score on this train-test\"\n",
      "C:\\Users\\skhus\\anaconda3\\lib\\site-packages\\sklearn\\model_selection\\_validation.py:610: FitFailedWarning: Estimator fit failed. The score on this train-test partition for these parameters will be set to nan. Details: \n",
      "Traceback (most recent call last):\n",
      "  File \"C:\\Users\\skhus\\anaconda3\\lib\\site-packages\\sklearn\\model_selection\\_validation.py\", line 593, in _fit_and_score\n",
      "    estimator.fit(X_train, y_train, **fit_params)\n",
      "  File \"C:\\Users\\skhus\\anaconda3\\lib\\site-packages\\sklearn\\svm\\_classes.py\", line 234, in fit\n",
      "    self.coef_, self.intercept_, self.n_iter_ = _fit_liblinear(\n",
      "  File \"C:\\Users\\skhus\\anaconda3\\lib\\site-packages\\sklearn\\svm\\_base.py\", line 974, in _fit_liblinear\n",
      "    solver_type = _get_liblinear_solver_type(multi_class, penalty, loss, dual)\n",
      "  File \"C:\\Users\\skhus\\anaconda3\\lib\\site-packages\\sklearn\\svm\\_base.py\", line 830, in _get_liblinear_solver_type\n",
      "    raise ValueError('Unsupported set of arguments: %s, '\n",
      "ValueError: Unsupported set of arguments: The combination of penalty='l2' and loss='hinge' are not supported when dual=False, Parameters: penalty='l2', loss='hinge', dual=False\n",
      "\n",
      "  warnings.warn(\"Estimator fit failed. The score on this train-test\"\n",
      "C:\\Users\\skhus\\anaconda3\\lib\\site-packages\\sklearn\\model_selection\\_validation.py:610: FitFailedWarning: Estimator fit failed. The score on this train-test partition for these parameters will be set to nan. Details: \n",
      "Traceback (most recent call last):\n",
      "  File \"C:\\Users\\skhus\\anaconda3\\lib\\site-packages\\sklearn\\model_selection\\_validation.py\", line 593, in _fit_and_score\n",
      "    estimator.fit(X_train, y_train, **fit_params)\n",
      "  File \"C:\\Users\\skhus\\anaconda3\\lib\\site-packages\\sklearn\\svm\\_classes.py\", line 234, in fit\n",
      "    self.coef_, self.intercept_, self.n_iter_ = _fit_liblinear(\n",
      "  File \"C:\\Users\\skhus\\anaconda3\\lib\\site-packages\\sklearn\\svm\\_base.py\", line 974, in _fit_liblinear\n",
      "    solver_type = _get_liblinear_solver_type(multi_class, penalty, loss, dual)\n",
      "  File \"C:\\Users\\skhus\\anaconda3\\lib\\site-packages\\sklearn\\svm\\_base.py\", line 830, in _get_liblinear_solver_type\n",
      "    raise ValueError('Unsupported set of arguments: %s, '\n",
      "ValueError: Unsupported set of arguments: The combination of penalty='l2' and loss='hinge' are not supported when dual=False, Parameters: penalty='l2', loss='hinge', dual=False\n",
      "\n",
      "  warnings.warn(\"Estimator fit failed. The score on this train-test\"\n",
      "C:\\Users\\skhus\\anaconda3\\lib\\site-packages\\sklearn\\svm\\_base.py:985: ConvergenceWarning: Liblinear failed to converge, increase the number of iterations.\n",
      "  warnings.warn(\"Liblinear failed to converge, increase \"\n",
      "C:\\Users\\skhus\\anaconda3\\lib\\site-packages\\sklearn\\svm\\_base.py:985: ConvergenceWarning: Liblinear failed to converge, increase the number of iterations.\n",
      "  warnings.warn(\"Liblinear failed to converge, increase \"\n",
      "C:\\Users\\skhus\\anaconda3\\lib\\site-packages\\sklearn\\svm\\_base.py:985: ConvergenceWarning: Liblinear failed to converge, increase the number of iterations.\n",
      "  warnings.warn(\"Liblinear failed to converge, increase \"\n",
      "C:\\Users\\skhus\\anaconda3\\lib\\site-packages\\sklearn\\svm\\_base.py:985: ConvergenceWarning: Liblinear failed to converge, increase the number of iterations.\n",
      "  warnings.warn(\"Liblinear failed to converge, increase \"\n",
      "C:\\Users\\skhus\\anaconda3\\lib\\site-packages\\sklearn\\svm\\_base.py:985: ConvergenceWarning: Liblinear failed to converge, increase the number of iterations.\n",
      "  warnings.warn(\"Liblinear failed to converge, increase \"\n",
      "C:\\Users\\skhus\\anaconda3\\lib\\site-packages\\sklearn\\svm\\_base.py:985: ConvergenceWarning: Liblinear failed to converge, increase the number of iterations.\n",
      "  warnings.warn(\"Liblinear failed to converge, increase \"\n",
      "C:\\Users\\skhus\\anaconda3\\lib\\site-packages\\sklearn\\model_selection\\_search.py:918: UserWarning: One or more of the test scores are non-finite: [0.77299849 0.77365637 0.75048412        nan 0.77299849 0.75180644\n",
      " 0.70747273 0.76438922 0.75048412 0.70747273]\n",
      "  warnings.warn(\n"
     ]
    }
   ],
   "source": [
    "distributions = dict(\n",
    "C=[0.1,0.5,1, 10, 100, 1000],\n",
    "penalty=['l1','l2'],\n",
    "dual=[False,True],\n",
    "multi_class=['ovr', 'crammer_singer'],\n",
    "loss=['hinge', 'squared_hinge'],\n",
    "fit_intercept=[False,True])\n",
    "\n",
    "clf = RandomizedSearchCV(model_7, distributions, random_state=0)\n",
    "search = clf.fit(X_train,y_train)"
   ]
  },
  {
   "cell_type": "code",
   "execution_count": 79,
   "id": "f8cf0464",
   "metadata": {},
   "outputs": [
    {
     "data": {
      "text/plain": [
       "{'penalty': 'l1',\n",
       " 'multi_class': 'crammer_singer',\n",
       " 'loss': 'hinge',\n",
       " 'fit_intercept': True,\n",
       " 'dual': False,\n",
       " 'C': 1}"
      ]
     },
     "execution_count": 79,
     "metadata": {},
     "output_type": "execute_result"
    }
   ],
   "source": [
    "search.best_params_"
   ]
  },
  {
   "cell_type": "code",
   "execution_count": 80,
   "id": "a0282ae6",
   "metadata": {},
   "outputs": [
    {
     "name": "stdout",
     "output_type": "stream",
     "text": [
      "              precision    recall  f1-score   support\n",
      "\n",
      "           0       0.77      0.81      0.79       188\n",
      "           1       0.80      0.76      0.78       190\n",
      "\n",
      "    accuracy                           0.79       378\n",
      "   macro avg       0.79      0.79      0.79       378\n",
      "weighted avg       0.79      0.79      0.79       378\n",
      "\n"
     ]
    }
   ],
   "source": [
    "search_predictions = search.predict(X_test)\n",
    "  \n",
    "# print classification report\n",
    "print(classification_report(y_test,search_predictions))"
   ]
  },
  {
   "cell_type": "code",
   "execution_count": null,
   "id": "22d573f9",
   "metadata": {},
   "outputs": [],
   "source": []
  }
 ],
 "metadata": {
  "kernelspec": {
   "display_name": "Python 3",
   "language": "python",
   "name": "python3"
  },
  "language_info": {
   "codemirror_mode": {
    "name": "ipython",
    "version": 3
   },
   "file_extension": ".py",
   "mimetype": "text/x-python",
   "name": "python",
   "nbconvert_exporter": "python",
   "pygments_lexer": "ipython3",
   "version": "3.8.8"
  }
 },
 "nbformat": 4,
 "nbformat_minor": 5
}
