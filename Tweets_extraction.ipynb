{
 "cells": [
  {
   "cell_type": "code",
   "execution_count": 2,
   "id": "c81c5260",
   "metadata": {},
   "outputs": [],
   "source": [
    "import tweepy\n",
    "import webbrowser\n",
    "import time\n",
    "import pandas as pd\n",
    "import csv"
   ]
  },
  {
   "cell_type": "code",
   "execution_count": 3,
   "id": "107cc01d",
   "metadata": {},
   "outputs": [],
   "source": [
    "consumerkey=\"\"\n",
    "consumersecretkey=\"\"\n",
    "access_token=\"\"\n",
    "access_token_secret=\"\""
   ]
  },
  {
   "cell_type": "code",
   "execution_count": 4,
   "id": "02efb3b5",
   "metadata": {},
   "outputs": [],
   "source": [
    "callback_uri='oob'"
   ]
  },
  {
   "cell_type": "code",
   "execution_count": 5,
   "id": "e98f7a8b",
   "metadata": {},
   "outputs": [],
   "source": [
    "auth=tweepy.OAuthHandler(consumerkey,consumersecretkey)\n",
    "auth.set_access_token(access_token,access_token_secret)\n",
    "api=tweepy.API(auth)"
   ]
  },
  {
   "cell_type": "code",
   "execution_count": 5,
   "id": "11d6a26b",
   "metadata": {},
   "outputs": [
    {
     "name": "stdout",
     "output_type": "stream",
     "text": [
      "                                                     0\n",
      "0    @bonfamlio Mask wearing or mitigation efforts ...\n",
      "1    @stevo2346 @lab_leak @R_H_Ebright @HL3133 @ant...\n",
      "2    @ZiadFazel Hard to use frequencies for just a ...\n",
      "3    @famulare_mike @EricTopol @DLeonhardt @PaulSax...\n",
      "4    @NathanGrubaugh @MarionKoopmans @JosephFauver ...\n",
      "..                                                 ...\n",
      "195  @vnminin The NS3 surveillance sampling should ...\n",
      "196  @K_G_Andersen Agreed here about distinguishing...\n",
      "197  @pjie2 This would be good to test. Cumulative ...\n",
      "198  Growth of P.1 alongside probable decrease in v...\n",
      "199  Mutations in P.1 suggest partial escape from a...\n",
      "\n",
      "[200 rows x 1 columns]\n"
     ]
    }
   ],
   "source": [
    "try:\n",
    " cursor=tweepy.Cursor(api.user_timeline,id='trvrb',tweet_mode=\"extended\").items(200)\n",
    " tweets_list = [[tweet.full_text] for tweet in cursor]\n",
    " tweets_df = pd.DataFrame(tweets_list)\n",
    " print(tweets_df)\n",
    "except BaseException as e:\n",
    "    print('failed on_status,',str(e))\n",
    "    time.sleep(3)"
   ]
  },
  {
   "cell_type": "code",
   "execution_count": 6,
   "id": "e4c21238",
   "metadata": {},
   "outputs": [],
   "source": [
    "tweets_df.to_excel('trvrb_tweets.xlsx')"
   ]
  },
  {
   "cell_type": "code",
   "execution_count": 7,
   "id": "63ce8915",
   "metadata": {},
   "outputs": [
    {
     "name": "stdout",
     "output_type": "stream",
     "text": [
      "                                                     0\n",
      "0    RT @andrewpekosz: Congratulations @GoodrumViru...\n",
      "1    RT @AmerSocVirol: Didn't attend #ASV2021? You ...\n",
      "2    RT @nytimes: A giant rotating Earth made of dr...\n",
      "3    @10minus6cosm Wish I could do this without fre...\n",
      "4    RT @BioArtography: The #ASV2021 sale continues...\n",
      "..                                                 ...\n",
      "195  I’m sure many virologists have useful &amp; th...\n",
      "196  Merck will help make Johnson &amp; Johnson vac...\n",
      "197  @HarmitMalik Yes! Never underestimate my abili...\n",
      "198  New nanopore sequencing chemistry in developer...\n",
      "199  STAT Madness has https://t.co/S6J2eTidyf for t...\n",
      "\n",
      "[200 rows x 1 columns]\n"
     ]
    }
   ],
   "source": [
    "try:\n",
    " cursor=tweepy.Cursor(api.user_timeline,id='VirusWhisperer',tweet_mode=\"extended\").items(200)\n",
    " tweets_list = [[tweet.full_text] for tweet in cursor]\n",
    " tweets_df = pd.DataFrame(tweets_list)\n",
    " print(tweets_df)\n",
    "except BaseException as e:\n",
    "    print('failed on_status,',str(e))\n",
    "    time.sleep(3)"
   ]
  },
  {
   "cell_type": "code",
   "execution_count": 8,
   "id": "b8a5fd97",
   "metadata": {},
   "outputs": [],
   "source": [
    "tweets_df.to_excel('VirusWhisperer_tweets.xlsx')"
   ]
  },
  {
   "cell_type": "code",
   "execution_count": 9,
   "id": "4fd83882",
   "metadata": {},
   "outputs": [
    {
     "name": "stdout",
     "output_type": "stream",
     "text": [
      "                                                     0\n",
      "0    @PaulHenryTremb1 My statement? I’m not trying ...\n",
      "1    RT @AntibioticDoc: There are people on here wh...\n",
      "2    Catching COVID-19 (or any virus) is nobody’s “...\n",
      "3    RT @aetiology: This couple died of COVID withi...\n",
      "4    Also the \"evidence of WMDs in Iraq\" energy is ...\n",
      "..                                                 ...\n",
      "195  Listen up. The pandemic isn’t over. https://t....\n",
      "196  @CassattDr I know that. But major regulatory d...\n",
      "197  Minor correction: George Washington mandated v...\n",
      "198  @matthewherper @pickettjessica @EricTopol The ...\n",
      "199  @DeNovo_Fatima @ScottGottliebMD @ENirenberg @u...\n",
      "\n",
      "[200 rows x 1 columns]\n"
     ]
    }
   ],
   "source": [
    "try:\n",
    " cursor=tweepy.Cursor(api.user_timeline,id='angie_rasmussen',tweet_mode=\"extended\").items(200)\n",
    " tweets_list = [[tweet.full_text] for tweet in cursor]\n",
    " tweets_df = pd.DataFrame(tweets_list)\n",
    " print(tweets_df)\n",
    "except BaseException as e:\n",
    "    print('failed on_status,',str(e))\n",
    "    time.sleep(3)"
   ]
  },
  {
   "cell_type": "code",
   "execution_count": 10,
   "id": "3eb5ca5a",
   "metadata": {},
   "outputs": [],
   "source": [
    "tweets_df.to_excel('angie_rasmussen_tweets.xlsx')"
   ]
  },
  {
   "cell_type": "code",
   "execution_count": 11,
   "id": "7fdcd888",
   "metadata": {},
   "outputs": [
    {
     "name": "stdout",
     "output_type": "stream",
     "text": [
      "                                                     0\n",
      "0    Why Vaccinated People Are Getting ‘Breakthroug...\n",
      "1    “The current COVID-19 surge…will steadily acce...\n",
      "2    RT @ScottGottliebMD: Testing is way down and m...\n",
      "3    RT @WHCOS: The media is now filled with storie...\n",
      "4    RT @SaskiaPopescu: An awesome opportunity with...\n",
      "..                                                 ...\n",
      "195  “COVID19 cases are going up in some parts of t...\n",
      "196  Long-term effects of COVID are real. Join the ...\n",
      "197  Clinical Outcomes for Patients With Anosmia 1 ...\n",
      "198  The @netflix docuseries Pandemic: How to Preve...\n",
      "199  ~3 billion COVID19 vaccines administered globa...\n",
      "\n",
      "[200 rows x 1 columns]\n"
     ]
    }
   ],
   "source": [
    "try:\n",
    " cursor=tweepy.Cursor(api.user_timeline,id='syramadad',tweet_mode=\"extended\").items(200)\n",
    " tweets_list = [[tweet.full_text] for tweet in cursor]\n",
    " tweets_df = pd.DataFrame(tweets_list)\n",
    " print(tweets_df)\n",
    "except BaseException as e:\n",
    "    print('failed on_status,',str(e))\n",
    "    time.sleep(3)"
   ]
  },
  {
   "cell_type": "code",
   "execution_count": 12,
   "id": "f539f8cf",
   "metadata": {},
   "outputs": [],
   "source": [
    "tweets_df.to_excel('syramadad_tweets.xlsx')"
   ]
  },
  {
   "cell_type": "code",
   "execution_count": 13,
   "id": "4e8d7ecf",
   "metadata": {},
   "outputs": [
    {
     "name": "stdout",
     "output_type": "stream",
     "text": [
      "                                                     0\n",
      "0    RT @CransMontanaF: Let’s meet on July 7 at 3 P...\n",
      "1         RT @kandelnirmal: @research2policy @SCBriand\n",
      "2    RT @ComuneLab: Lab and public health, in a col...\n",
      "3    Preparing health systems to future pandemics: ...\n",
      "4    RT @research2policy: Issue 18 of the @WHO #inf...\n",
      "..                                                 ...\n",
      "195  Very timely and important discussion, especial...\n",
      "196  RT @SciGalleryBlr: What causes an infodemic an...\n",
      "197  RT @WHO: Prioritizing #VaccinEquity &amp; inve...\n",
      "198  #dialogue and enhanced listening to concerns a...\n",
      "199  RT @nevillecalleja: @research2policy @data_LEA...\n",
      "\n",
      "[200 rows x 1 columns]\n"
     ]
    }
   ],
   "source": [
    "try:\n",
    " cursor=tweepy.Cursor(api.user_timeline,id='SCBriand',tweet_mode=\"extended\").items(200)\n",
    " tweets_list = [[tweet.full_text] for tweet in cursor]\n",
    " tweets_df = pd.DataFrame(tweets_list)\n",
    " print(tweets_df)\n",
    "except BaseException as e:\n",
    "    print('failed on_status,',str(e))\n",
    "    time.sleep(3)"
   ]
  },
  {
   "cell_type": "code",
   "execution_count": 14,
   "id": "0461feca",
   "metadata": {},
   "outputs": [],
   "source": [
    "tweets_df.to_excel('SCBriand_tweets.xlsx')"
   ]
  },
  {
   "cell_type": "code",
   "execution_count": 6,
   "id": "eb6d230d",
   "metadata": {},
   "outputs": [
    {
     "name": "stdout",
     "output_type": "stream",
     "text": [
      "                                                     0\n",
      "0    Penting: ~20% hasil tes cepat COVID dapat nega...\n",
      "1    COVID is Killing &gt;250 American EVERY DAY......\n",
      "2    RT @BBCWorld: LA man who mocked Covid vaccines...\n",
      "3    I know masks aren’t comfortable. But do you ha...\n",
      "4    Indonesia: Number of COVID cases begin to decl...\n",
      "..                                                 ...\n",
      "195  Within two weeks, Indonesia’s situation is beg...\n",
      "196  RT @NPRHealth: Moderna Says Studies Show Its V...\n",
      "197  Delta Variant in UK\\n\\nCases rising but deaths...\n",
      "198  Vaccine Facts:\\n\\nDON’T suppress immunity. Don...\n",
      "199         RT @mohammedhanif: https://t.co/fSTxqkH1Wa\n",
      "\n",
      "[200 rows x 1 columns]\n"
     ]
    }
   ],
   "source": [
    "try:\n",
    " cursor=tweepy.Cursor(api.user_timeline,id='FaheemYounus',tweet_mode=\"extended\").items(200)\n",
    " tweets_list = [[tweet.full_text] for tweet in cursor]\n",
    " tweets_df = pd.DataFrame(tweets_list)\n",
    " print(tweets_df)\n",
    "except BaseException as e:\n",
    "    print('failed on_status,',str(e))\n",
    "    time.sleep(3)"
   ]
  },
  {
   "cell_type": "code",
   "execution_count": 7,
   "id": "3c7dbe4f",
   "metadata": {},
   "outputs": [],
   "source": [
    "tweets_df.to_excel('FaheemYounus_tweets.xlsx')"
   ]
  },
  {
   "cell_type": "code",
   "execution_count": 8,
   "id": "177e9c8e",
   "metadata": {},
   "outputs": [
    {
     "name": "stdout",
     "output_type": "stream",
     "text": [
      "                                                     0\n",
      "0    RT @JenniferNuzzo: Important thread! We need t...\n",
      "1    I meant tame. As more people at high hospitali...\n",
      "2    This is evidence of vaccines working not evide...\n",
      "3    Breakthru #COVID19 “infections” are expected. ...\n",
      "4    In this @KDKARadio interview with @Lhayesfreel...\n",
      "..                                                 ...\n",
      "195  In this @KorinMiller piece I’m quoted about th...\n",
      "196  In this @pbmelendez piece I’m quoted about the...\n",
      "197  RT @JohnsHopkinsEHE: It’s Summer 2020 on Stero...\n",
      "198  RT @JohnsHopkinsEHE: Study: COVID Infection Do...\n",
      "199  RT @JohnsHopkinsEHE: How Do Tocilizumab and Sa...\n",
      "\n",
      "[200 rows x 1 columns]\n"
     ]
    }
   ],
   "source": [
    "try:\n",
    " cursor=tweepy.Cursor(api.user_timeline,id='AmeshAA',tweet_mode=\"extended\").items(200)\n",
    " tweets_list = [[tweet.full_text] for tweet in cursor]\n",
    " tweets_df = pd.DataFrame(tweets_list)\n",
    " print(tweets_df)\n",
    "except BaseException as e:\n",
    "    print('failed on_status,',str(e))\n",
    "    time.sleep(3)"
   ]
  },
  {
   "cell_type": "code",
   "execution_count": 9,
   "id": "2c282905",
   "metadata": {},
   "outputs": [],
   "source": [
    "tweets_df.to_excel('AmeshAA_tweets.xlsx')"
   ]
  },
  {
   "cell_type": "code",
   "execution_count": 10,
   "id": "2ff5ab29",
   "metadata": {},
   "outputs": [
    {
     "name": "stdout",
     "output_type": "stream",
     "text": [
      "                                                     0\n",
      "0         RT @TheLastPandemic: https://t.co/CpcXKmRzun\n",
      "1    RT @FaceTheNation: “The virus levels that you ...\n",
      "2    RT @shaniben_ezra: If you're vaccinated, \"ther...\n",
      "3    RT @FaceTheNation: .@ScottGottliebMD on the va...\n",
      "4    RT @BarbaraComstock: Thanks to @ScottGottliebM...\n",
      "..                                                 ...\n",
      "295  RT @CarlosdelRio7: Vaccinations inching up slo...\n",
      "296  RT @pfizer: When he was appointed to lead Pfiz...\n",
      "297  RT @FaceTheNation: Former FDA commissioner Dr....\n",
      "298  RT @ScottGottliebMD: Given how transmissible D...\n",
      "299  RT @FaceTheNation: “I think we’re going to nee...\n",
      "\n",
      "[300 rows x 1 columns]\n"
     ]
    }
   ],
   "source": [
    "try:\n",
    " cursor=tweepy.Cursor(api.user_timeline,id='ScottGottliebMD',tweet_mode=\"extended\").items(300)\n",
    " tweets_list = [[tweet.full_text] for tweet in cursor]\n",
    " tweets_df = pd.DataFrame(tweets_list)\n",
    " print(tweets_df)\n",
    "except BaseException as e:\n",
    "    print('failed on_status,',str(e))\n",
    "    time.sleep(3)"
   ]
  },
  {
   "cell_type": "code",
   "execution_count": 11,
   "id": "b1699ccc",
   "metadata": {},
   "outputs": [],
   "source": [
    "tweets_df.to_excel('Scott_tweets.xlsx')"
   ]
  },
  {
   "cell_type": "code",
   "execution_count": null,
   "id": "5dd6fbab",
   "metadata": {},
   "outputs": [],
   "source": []
  }
 ],
 "metadata": {
  "kernelspec": {
   "display_name": "Python 3",
   "language": "python",
   "name": "python3"
  },
  "language_info": {
   "codemirror_mode": {
    "name": "ipython",
    "version": 3
   },
   "file_extension": ".py",
   "mimetype": "text/x-python",
   "name": "python",
   "nbconvert_exporter": "python",
   "pygments_lexer": "ipython3",
   "version": "3.8.8"
  }
 },
 "nbformat": 4,
 "nbformat_minor": 5
}
