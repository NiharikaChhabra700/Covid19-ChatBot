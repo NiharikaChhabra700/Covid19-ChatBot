{
 "cells": [
  {
   "cell_type": "code",
   "execution_count": 2,
   "metadata": {},
   "outputs": [],
   "source": [
    "import pandas as pd\n",
    "import numpy as np\n",
    "import nltk\n",
    "import sklearn"
   ]
  },
  {
   "cell_type": "code",
   "execution_count": 3,
   "metadata": {},
   "outputs": [
    {
     "data": {
      "text/html": [
       "<div>\n",
       "<style scoped>\n",
       "    .dataframe tbody tr th:only-of-type {\n",
       "        vertical-align: middle;\n",
       "    }\n",
       "\n",
       "    .dataframe tbody tr th {\n",
       "        vertical-align: top;\n",
       "    }\n",
       "\n",
       "    .dataframe thead th {\n",
       "        text-align: right;\n",
       "    }\n",
       "</style>\n",
       "<table border=\"1\" class=\"dataframe\">\n",
       "  <thead>\n",
       "    <tr style=\"text-align: right;\">\n",
       "      <th></th>\n",
       "      <th>0</th>\n",
       "      <th>1</th>\n",
       "    </tr>\n",
       "  </thead>\n",
       "  <tbody>\n",
       "    <tr>\n",
       "      <th>0</th>\n",
       "      <td>Text</td>\n",
       "      <td>Boolean Questions</td>\n",
       "    </tr>\n",
       "    <tr>\n",
       "      <th>2</th>\n",
       "      <td>RT @ProSyn: Reaching enough people to stop #CO...</td>\n",
       "      <td>['Is there such a thing as covid19?', 'Is ther...</td>\n",
       "    </tr>\n",
       "    <tr>\n",
       "      <th>4</th>\n",
       "      <td>I have tested positive for #COVID19 and here’s...</td>\n",
       "      <td>['Is there a vaccine for covid19?', 'Is there ...</td>\n",
       "    </tr>\n",
       "    <tr>\n",
       "      <th>6</th>\n",
       "      <td>62/ The horizontal red line represents median ...</td>\n",
       "      <td>['Is the horizontal red line the median neutra...</td>\n",
       "    </tr>\n",
       "    <tr>\n",
       "      <th>8</th>\n",
       "      <td>#Remedisivir DOES NOT save lives, it is not an...</td>\n",
       "      <td>['Is remedisivir a life saving drug?', 'Is rem...</td>\n",
       "    </tr>\n",
       "  </tbody>\n",
       "</table>\n",
       "</div>"
      ],
      "text/plain": [
       "                                                   0  \\\n",
       "0                                               Text   \n",
       "2  RT @ProSyn: Reaching enough people to stop #CO...   \n",
       "4  I have tested positive for #COVID19 and here’s...   \n",
       "6  62/ The horizontal red line represents median ...   \n",
       "8  #Remedisivir DOES NOT save lives, it is not an...   \n",
       "\n",
       "                                                   1  \n",
       "0                                  Boolean Questions  \n",
       "2  ['Is there such a thing as covid19?', 'Is ther...  \n",
       "4  ['Is there a vaccine for covid19?', 'Is there ...  \n",
       "6  ['Is the horizontal red line the median neutra...  \n",
       "8  ['Is remedisivir a life saving drug?', 'Is rem...  "
      ]
     },
     "execution_count": 3,
     "metadata": {},
     "output_type": "execute_result"
    }
   ],
   "source": [
    "import pandas as pd\n",
    "import numpy as np\n",
    "\n",
    "df = pd.read_csv(\"output1 (1).csv\" ,header =None)\n",
    "df = df.dropna()\n",
    "df.head()"
   ]
  },
  {
   "cell_type": "code",
   "execution_count": 4,
   "metadata": {},
   "outputs": [],
   "source": [
    "df.columns=[\"text\", \"questions\"]"
   ]
  },
  {
   "cell_type": "code",
   "execution_count": 5,
   "metadata": {},
   "outputs": [
    {
     "data": {
      "text/html": [
       "<div>\n",
       "<style scoped>\n",
       "    .dataframe tbody tr th:only-of-type {\n",
       "        vertical-align: middle;\n",
       "    }\n",
       "\n",
       "    .dataframe tbody tr th {\n",
       "        vertical-align: top;\n",
       "    }\n",
       "\n",
       "    .dataframe thead th {\n",
       "        text-align: right;\n",
       "    }\n",
       "</style>\n",
       "<table border=\"1\" class=\"dataframe\">\n",
       "  <thead>\n",
       "    <tr style=\"text-align: right;\">\n",
       "      <th></th>\n",
       "      <th>text</th>\n",
       "      <th>questions</th>\n",
       "    </tr>\n",
       "  </thead>\n",
       "  <tbody>\n",
       "    <tr>\n",
       "      <th>0</th>\n",
       "      <td>Text</td>\n",
       "      <td>Boolean Questions</td>\n",
       "    </tr>\n",
       "    <tr>\n",
       "      <th>2</th>\n",
       "      <td>RT @ProSyn: Reaching enough people to stop #CO...</td>\n",
       "      <td>['Is there such a thing as covid19?', 'Is ther...</td>\n",
       "    </tr>\n",
       "    <tr>\n",
       "      <th>4</th>\n",
       "      <td>I have tested positive for #COVID19 and here’s...</td>\n",
       "      <td>['Is there a vaccine for covid19?', 'Is there ...</td>\n",
       "    </tr>\n",
       "    <tr>\n",
       "      <th>6</th>\n",
       "      <td>62/ The horizontal red line represents median ...</td>\n",
       "      <td>['Is the horizontal red line the median neutra...</td>\n",
       "    </tr>\n",
       "    <tr>\n",
       "      <th>8</th>\n",
       "      <td>#Remedisivir DOES NOT save lives, it is not an...</td>\n",
       "      <td>['Is remedisivir a life saving drug?', 'Is rem...</td>\n",
       "    </tr>\n",
       "    <tr>\n",
       "      <th>...</th>\n",
       "      <td>...</td>\n",
       "      <td>...</td>\n",
       "    </tr>\n",
       "    <tr>\n",
       "      <th>1888</th>\n",
       "      <td>#COVID19 ICU in #Ontario 🏥    ICU total: 151  ...</td>\n",
       "      <td>['Is there a ventilated icu in ontario?', 'Is ...</td>\n",
       "    </tr>\n",
       "    <tr>\n",
       "      <th>1890</th>\n",
       "      <td>RT @AlexMMTri: Very excited to have @KPNorthwe...</td>\n",
       "      <td>['Is there a difference between true and false...</td>\n",
       "    </tr>\n",
       "    <tr>\n",
       "      <th>1892</th>\n",
       "      <td>No region, country or individual should face m...</td>\n",
       "      <td>['Is there a difference between true and false...</td>\n",
       "    </tr>\n",
       "    <tr>\n",
       "      <th>1894</th>\n",
       "      <td>Did any one here get vaccinated with COVAXIN a...</td>\n",
       "      <td>['Has anyone ever been vaccinated with covaxin...</td>\n",
       "    </tr>\n",
       "    <tr>\n",
       "      <th>1896</th>\n",
       "      <td>Hospitalized guy refuses to get vaccinated—ask...</td>\n",
       "      <td>['Does a smoker have to get vaccinated?', 'Doe...</td>\n",
       "    </tr>\n",
       "  </tbody>\n",
       "</table>\n",
       "<p>948 rows × 2 columns</p>\n",
       "</div>"
      ],
      "text/plain": [
       "                                                   text  \\\n",
       "0                                                  Text   \n",
       "2     RT @ProSyn: Reaching enough people to stop #CO...   \n",
       "4     I have tested positive for #COVID19 and here’s...   \n",
       "6     62/ The horizontal red line represents median ...   \n",
       "8     #Remedisivir DOES NOT save lives, it is not an...   \n",
       "...                                                 ...   \n",
       "1888  #COVID19 ICU in #Ontario 🏥    ICU total: 151  ...   \n",
       "1890  RT @AlexMMTri: Very excited to have @KPNorthwe...   \n",
       "1892  No region, country or individual should face m...   \n",
       "1894  Did any one here get vaccinated with COVAXIN a...   \n",
       "1896  Hospitalized guy refuses to get vaccinated—ask...   \n",
       "\n",
       "                                              questions  \n",
       "0                                     Boolean Questions  \n",
       "2     ['Is there such a thing as covid19?', 'Is ther...  \n",
       "4     ['Is there a vaccine for covid19?', 'Is there ...  \n",
       "6     ['Is the horizontal red line the median neutra...  \n",
       "8     ['Is remedisivir a life saving drug?', 'Is rem...  \n",
       "...                                                 ...  \n",
       "1888  ['Is there a ventilated icu in ontario?', 'Is ...  \n",
       "1890  ['Is there a difference between true and false...  \n",
       "1892  ['Is there a difference between true and false...  \n",
       "1894  ['Has anyone ever been vaccinated with covaxin...  \n",
       "1896  ['Does a smoker have to get vaccinated?', 'Doe...  \n",
       "\n",
       "[948 rows x 2 columns]"
      ]
     },
     "execution_count": 5,
     "metadata": {},
     "output_type": "execute_result"
    }
   ],
   "source": [
    "df\n"
   ]
  },
  {
   "cell_type": "code",
   "execution_count": 6,
   "metadata": {},
   "outputs": [
    {
     "data": {
      "text/html": [
       "<div>\n",
       "<style scoped>\n",
       "    .dataframe tbody tr th:only-of-type {\n",
       "        vertical-align: middle;\n",
       "    }\n",
       "\n",
       "    .dataframe tbody tr th {\n",
       "        vertical-align: top;\n",
       "    }\n",
       "\n",
       "    .dataframe thead th {\n",
       "        text-align: right;\n",
       "    }\n",
       "</style>\n",
       "<table border=\"1\" class=\"dataframe\">\n",
       "  <thead>\n",
       "    <tr style=\"text-align: right;\">\n",
       "      <th></th>\n",
       "      <th>text</th>\n",
       "      <th>questions</th>\n",
       "    </tr>\n",
       "  </thead>\n",
       "  <tbody>\n",
       "    <tr>\n",
       "      <th>2</th>\n",
       "      <td>RT @ProSyn: Reaching enough people to stop #CO...</td>\n",
       "      <td>['Is there such a thing as covid19?', 'Is ther...</td>\n",
       "    </tr>\n",
       "    <tr>\n",
       "      <th>4</th>\n",
       "      <td>I have tested positive for #COVID19 and here’s...</td>\n",
       "      <td>['Is there a vaccine for covid19?', 'Is there ...</td>\n",
       "    </tr>\n",
       "    <tr>\n",
       "      <th>6</th>\n",
       "      <td>62/ The horizontal red line represents median ...</td>\n",
       "      <td>['Is the horizontal red line the median neutra...</td>\n",
       "    </tr>\n",
       "    <tr>\n",
       "      <th>8</th>\n",
       "      <td>#Remedisivir DOES NOT save lives, it is not an...</td>\n",
       "      <td>['Is remedisivir a life saving drug?', 'Is rem...</td>\n",
       "    </tr>\n",
       "    <tr>\n",
       "      <th>10</th>\n",
       "      <td>RT @Hoybraten: EU at it’s worst: Most COVAX Va...</td>\n",
       "      <td>['Is there a green pass for covax vaccine?', '...</td>\n",
       "    </tr>\n",
       "    <tr>\n",
       "      <th>...</th>\n",
       "      <td>...</td>\n",
       "      <td>...</td>\n",
       "    </tr>\n",
       "    <tr>\n",
       "      <th>1888</th>\n",
       "      <td>#COVID19 ICU in #Ontario 🏥    ICU total: 151  ...</td>\n",
       "      <td>['Is there a ventilated icu in ontario?', 'Is ...</td>\n",
       "    </tr>\n",
       "    <tr>\n",
       "      <th>1890</th>\n",
       "      <td>RT @AlexMMTri: Very excited to have @KPNorthwe...</td>\n",
       "      <td>['Is there a difference between true and false...</td>\n",
       "    </tr>\n",
       "    <tr>\n",
       "      <th>1892</th>\n",
       "      <td>No region, country or individual should face m...</td>\n",
       "      <td>['Is there a difference between true and false...</td>\n",
       "    </tr>\n",
       "    <tr>\n",
       "      <th>1894</th>\n",
       "      <td>Did any one here get vaccinated with COVAXIN a...</td>\n",
       "      <td>['Has anyone ever been vaccinated with covaxin...</td>\n",
       "    </tr>\n",
       "    <tr>\n",
       "      <th>1896</th>\n",
       "      <td>Hospitalized guy refuses to get vaccinated—ask...</td>\n",
       "      <td>['Does a smoker have to get vaccinated?', 'Doe...</td>\n",
       "    </tr>\n",
       "  </tbody>\n",
       "</table>\n",
       "<p>947 rows × 2 columns</p>\n",
       "</div>"
      ],
      "text/plain": [
       "                                                   text  \\\n",
       "2     RT @ProSyn: Reaching enough people to stop #CO...   \n",
       "4     I have tested positive for #COVID19 and here’s...   \n",
       "6     62/ The horizontal red line represents median ...   \n",
       "8     #Remedisivir DOES NOT save lives, it is not an...   \n",
       "10    RT @Hoybraten: EU at it’s worst: Most COVAX Va...   \n",
       "...                                                 ...   \n",
       "1888  #COVID19 ICU in #Ontario 🏥    ICU total: 151  ...   \n",
       "1890  RT @AlexMMTri: Very excited to have @KPNorthwe...   \n",
       "1892  No region, country or individual should face m...   \n",
       "1894  Did any one here get vaccinated with COVAXIN a...   \n",
       "1896  Hospitalized guy refuses to get vaccinated—ask...   \n",
       "\n",
       "                                              questions  \n",
       "2     ['Is there such a thing as covid19?', 'Is ther...  \n",
       "4     ['Is there a vaccine for covid19?', 'Is there ...  \n",
       "6     ['Is the horizontal red line the median neutra...  \n",
       "8     ['Is remedisivir a life saving drug?', 'Is rem...  \n",
       "10    ['Is there a green pass for covax vaccine?', '...  \n",
       "...                                                 ...  \n",
       "1888  ['Is there a ventilated icu in ontario?', 'Is ...  \n",
       "1890  ['Is there a difference between true and false...  \n",
       "1892  ['Is there a difference between true and false...  \n",
       "1894  ['Has anyone ever been vaccinated with covaxin...  \n",
       "1896  ['Does a smoker have to get vaccinated?', 'Doe...  \n",
       "\n",
       "[947 rows x 2 columns]"
      ]
     },
     "execution_count": 6,
     "metadata": {},
     "output_type": "execute_result"
    }
   ],
   "source": [
    "df = df.drop(index=0)\n",
    "df"
   ]
  },
  {
   "cell_type": "code",
   "execution_count": 7,
   "metadata": {},
   "outputs": [
    {
     "name": "stdout",
     "output_type": "stream",
     "text": [
      "RT @ProSyn: Reaching enough people to stop #COVID19 from circulating could in turn help to expand the reach of routine immunization program…\n",
      "I have tested positive for #COVID19 and here’s my experience of getting infected after 2 doses of the vaccine. https://t.co/Wmz2MVqXtF\n",
      "“This is basically #COVID19 on steroids” - informative @washingtonpost deep dive into how the Delta #COVID19 variant is “changing the rules of the game” as we fight to end this pandemic: https://t.co/C0h3sEIf2k\n",
      "Guidelines issued by WHO for protection against #COVID19 once the schools have reopened. https://t.co/E2UtAf0yLB\n",
      "Let’s understand the manifestations of #COVID19 infection post vaccination. Do not ignore warning signals/ symptoms. https://t.co/vogBQPdoCq\n",
      "Recipe for increase #COVID19 transmission: large mass gathering of people shouting, singing or exercising. Football linked to 2,000 Scottish Covid cases - BBC News https://t.co/cxC305VTnP\n",
      "To increase #COVID19 vaccine production we need of the support of all manufacturers across the world. We need to stop export bans and boost capacity for future threats. Thanks @bbcnickrobinson for inviting me to speak about the need for an unprecedented scale up: https://t.co/hKM5FXDNbj\n",
      "3 billion #COVID19 vaccines administered would be an incredible global victory if they had been distributed equitably to protect those at highest risk around the world. #ShareDosesNow to help the rest of the world catch up! #OneWorldProtected https://t.co/mlHeoVJKPH\n",
      "~3 billion COVID19 vaccines administered globally with 11% of the world's population fully vaccinated against COVID-19    Vaccine inequity gets even starker with   nearly 70% of COVID19 vaccines administered in just 6 countries\n",
      "But we have a long way to go – continued support is vital to tackle the third wave of #COVID19 sweeping the globe, reduce the risk of new variants emerging and ensure the limited doses available reach the most vulnerable, wherever they live. #OneWorldProtected\n",
      "Rise in temperature after taking the vaccine? Know the difference between #COVID19 fever and #CovidVaccine induced fever. https://t.co/3nyK1qkAJr\n",
      "RT @PeterHotez: I’m concerned about the accelerating number of children with COVID19 in pediatric intensive care units PICUs in areas where…\n",
      "Naming #COVID19 virus 🦠 variants with names easy to remember will facilitate international collaboration to monitor the virus evolution. https://t.co/OkWWODeqta\n",
      "Complex &amp; evolving story. Bottom line-Covid19 can cause major issues in anyone infected &amp; vaccine protects against these. But, there are very rare side effects w vaccines-which, now that we are aware, should be treated early &amp; hopefully, a preventive strategy to side effects soon https://t.co/al5IM4gUQ0\n",
      "5) this is the same person who laughs at a question of kids dying from #COVID19 https://t.co/tY6nhrlYhe\n"
     ]
    }
   ],
   "source": [
    "list = []\n",
    "s=[]\n",
    "xyz=[]\n",
    "for ind in df.index: \n",
    "    list=df['questions'][ind]\n",
    "#     s=list.split(',')\n",
    "    if 'Is there such a thing as covid19' in list :\n",
    "        print(df['text'][ind])\n",
    "    "
   ]
  },
  {
   "cell_type": "markdown",
   "metadata": {},
   "source": [
    "## Is delta variant the fastest covid variant?\n"
   ]
  },
  {
   "cell_type": "code",
   "execution_count": 8,
   "metadata": {},
   "outputs": [
    {
     "name": "stdout",
     "output_type": "stream",
     "text": [
      "WHO says delta is the fastest and fittest Covid variant and will 'pick off' most vulnerable https://t.co/2YcB5dy8aq\n"
     ]
    }
   ],
   "source": [
    "list = []\n",
    "s=[]\n",
    "xyz=[]\n",
    "for ind in df.index: \n",
    "    list=df['questions'][ind]\n",
    "\n",
    "    if 'Is delta the fastest covid variant?' in list :\n",
    "        print(df['text'][ind])"
   ]
  },
  {
   "cell_type": "code",
   "execution_count": 9,
   "metadata": {},
   "outputs": [
    {
     "name": "stdout",
     "output_type": "stream",
     "text": [
      "WHO says delta is the fastest and fittest Covid variant and will 'pick off' most vulnerable https://t.co/2YcB5dy8aq\n"
     ]
    }
   ],
   "source": [
    "list = []\n",
    "s=[]\n",
    "xyz=[]\n",
    "for ind in df.index: \n",
    "    list=df['questions'][ind]\n",
    "\n",
    "    if 'Is delta the fastest and fittest covid variant?' in list :\n",
    "        print(df['text'][ind])"
   ]
  },
  {
   "cell_type": "code",
   "execution_count": 10,
   "metadata": {},
   "outputs": [
    {
     "name": "stdout",
     "output_type": "stream",
     "text": [
      "The risk of death from Covid among kids is very low, but it isn’t zero. That’s why if your kid is 12 or above, it’s important they get vaccinated to protect themselves and people around them. Vaccination is proven safe and effective for adolescents.\n",
      "The risk of death from Covid among kids is very low, but it isn’t zero. That’s why if your kid is 12 or above, it’s important they get vaccinated to protect themselves and people around them. Vaccination is proven safe and effective for adolescents. 7/\n"
     ]
    }
   ],
   "source": [
    "list = []\n",
    "s=[]\n",
    "xyz=[]\n",
    "for ind in df.index: \n",
    "    list=df['questions'][ind]\n",
    "\n",
    "    if 'Is it safe to get covid vaccinated?' in list :\n",
    "        print(df['text'][ind])"
   ]
  },
  {
   "cell_type": "markdown",
   "metadata": {},
   "source": [
    "## Does sars cov-2 affect the innate immune system?"
   ]
  },
  {
   "cell_type": "code",
   "execution_count": 18,
   "metadata": {},
   "outputs": [
    {
     "name": "stdout",
     "output_type": "stream",
     "text": [
      "38/ What about the innate immune response?    SARS-CoV-2 is very good at suppressing the innate immune response by preventing, for example, the release of type 1 interferons.    The innate immune response controls viral replication in the respiratory tract and lungs.\n"
     ]
    }
   ],
   "source": [
    "list = []\n",
    "s=[]\n",
    "xyz=[]\n",
    "for ind in df.index: \n",
    "    list=df['questions'][ind]\n",
    "\n",
    "    if 'Does sars cov-2 suppress the innate immune system?' in list :\n",
    "        print(df['text'][ind])"
   ]
  },
  {
   "cell_type": "code",
   "execution_count": 19,
   "metadata": {},
   "outputs": [
    {
     "name": "stdout",
     "output_type": "stream",
     "text": [
      "It's also an argument against \"pre-adaptation,\" or the idea that SARS-CoV-2 was already adapted to a human host when it emerged. The original FCS is very clearly suboptimal and the emergence of convergent mutants (alpha also has a mutation at P681) suggesting no \"pre-adaptation.\"\n"
     ]
    }
   ],
   "source": [
    "list = []\n",
    "s=[]\n",
    "xyz=[]\n",
    "for ind in df.index: \n",
    "    list=df['questions'][ind]\n",
    "\n",
    "    if 'Can sars cov-2 be adapted to a human host?' in list :\n",
    "        print(df['text'][ind])"
   ]
  },
  {
   "cell_type": "code",
   "execution_count": 11,
   "metadata": {},
   "outputs": [
    {
     "name": "stdout",
     "output_type": "stream",
     "text": [
      "18) also if we look at just the elderly age 60+ (stratification is one form of adjustment in epidemiology), we still see the jump up among the January vaccinated even among these elderly. This implies this is an effect by time (stratified adjusted roughly for age), not just age. https://t.co/Z6EoPiYRjj\n"
     ]
    }
   ],
   "source": [
    "list = []\n",
    "s=[]\n",
    "xyz=[]\n",
    "for ind in df.index: \n",
    "    list=df['questions'][ind]\n",
    "\n",
    "    if 'Can you get vaccinated at any age?' in list :\n",
    "        print(df['text'][ind])"
   ]
  },
  {
   "cell_type": "markdown",
   "metadata": {},
   "source": [
    "## What is the correlation between vaccination rate and case count? "
   ]
  },
  {
   "cell_type": "code",
   "execution_count": 21,
   "metadata": {},
   "outputs": [
    {
     "name": "stdout",
     "output_type": "stream",
     "text": [
      "@joshuetree I'd expect a negative correlation between vaccination rates and case counts. We're already seeing this to some degree (this is across states with this week's data). https://t.co/OxC0yWzRQs\n"
     ]
    }
   ],
   "source": [
    "list = []\n",
    "s=[]\n",
    "xyz=[]\n",
    "for ind in df.index: \n",
    "    list=df['questions'][ind]\n",
    "\n",
    "    if 'Is there a correlation between vaccination rate and case count?' in list :\n",
    "        print(df['text'][ind])"
   ]
  },
  {
   "cell_type": "code",
   "execution_count": 22,
   "metadata": {},
   "outputs": [
    {
     "name": "stdout",
     "output_type": "stream",
     "text": [
      "20 years of research led to the development of Covid vaccines, which were extensively tested in the largest clinical vaccine trials ever done. These vaccines are extremely safe and effective—and they've already saved nearly 300,000 lives in the US.\n"
     ]
    }
   ],
   "source": [
    "list = []\n",
    "s=[]\n",
    "xyz=[]\n",
    "for ind in df.index: \n",
    "    list=df['questions'][ind]\n",
    "\n",
    "    if 'Is the covid vaccine safe and effective?' in list :\n",
    "        print(df['text'][ind])"
   ]
  },
  {
   "cell_type": "code",
   "execution_count": 12,
   "metadata": {},
   "outputs": [
    {
     "name": "stdout",
     "output_type": "stream",
     "text": [
      "37/ It's important that we identify good correlates of immunity/protection.    We won't be able to conduct randomized, controlled trials of every vaccine dose/regimen/combo vs every new mutant variant.\n"
     ]
    }
   ],
   "source": [
    "list = []\n",
    "s=[]\n",
    "xyz=[]\n",
    "for ind in df.index: \n",
    "    list=df['questions'][ind]\n",
    "\n",
    "    if 'Is there a correlation between vaccines and immunity?' in list :\n",
    "        print(df['text'][ind])"
   ]
  },
  {
   "cell_type": "markdown",
   "metadata": {},
   "source": [
    "## Should we still wear a mask?"
   ]
  },
  {
   "cell_type": "code",
   "execution_count": 24,
   "metadata": {},
   "outputs": [
    {
     "name": "stdout",
     "output_type": "stream",
     "text": [
      "19) given the new data—in following the precautionary principle—we need to now urgently reconsider reimposing mask mandates again. @CDCDirector - it is time. Tick tock ⏰ https://t.co/QD4nptJoLU\n"
     ]
    }
   ],
   "source": [
    "list = []\n",
    "s=[]\n",
    "xyz=[]\n",
    "for ind in df.index: \n",
    "    list=df['questions'][ind]\n",
    "\n",
    "    if 'Is it safe to wear a mask?' in list :\n",
    "        print(df['text'][ind])"
   ]
  },
  {
   "cell_type": "code",
   "execution_count": 25,
   "metadata": {},
   "outputs": [
    {
     "name": "stdout",
     "output_type": "stream",
     "text": [
      "CHANGE IS COMING—Top White House aides and Biden administration officials are now debating whether they should urge vaccinated Americans to wear masks in more settings as #DeltaVariant surges, according to insiders. ➡️We needed this yesterday! #COVID19 🧵   https://t.co/t3Bg3DHcBw\n",
      "RT @oni_blackstock: .@CDCgov says mask-wearing for vaccinated people, is \"a very individual choice.\"  It's like the idea of #publichealth h…\n"
     ]
    }
   ],
   "source": [
    "list = []\n",
    "s=[]\n",
    "xyz=[]\n",
    "for ind in df.index: \n",
    "    list=df['questions'][ind]\n",
    "\n",
    "    if  'Is it illegal to not wear a mask?' in list :\n",
    "        print(df['text'][ind])"
   ]
  },
  {
   "cell_type": "code",
   "execution_count": 13,
   "metadata": {},
   "outputs": [
    {
     "name": "stdout",
     "output_type": "stream",
     "text": [
      "📍PREMIUM MASKS &amp; AIR QUALITY please—\"Any mask is better than no mask\" says @ScottGottliebMD. \"But you might be better off, if you have to invest in something and inconvenience children—**improving air filtration &amp; air quality in classrooms**.\" 🧵 #COVID19  https://t.co/vLM75JRNE9\n"
     ]
    }
   ],
   "source": [
    "list = []\n",
    "s=[]\n",
    "xyz=[]\n",
    "for ind in df.index: \n",
    "    list=df['questions'][ind]\n",
    "\n",
    "    if 'Is a mask better than no mask?' in list :\n",
    "        print(df['text'][ind])"
   ]
  },
  {
   "cell_type": "markdown",
   "metadata": {},
   "source": [
    "## Is covid vaccine safe and how much effective is it?"
   ]
  },
  {
   "cell_type": "code",
   "execution_count": 30,
   "metadata": {},
   "outputs": [
    {
     "name": "stdout",
     "output_type": "stream",
     "text": [
      "20 years of research led to the development of Covid vaccines, which were extensively tested in the largest clinical vaccine trials ever done. These vaccines are extremely safe and effective—and they've already saved nearly 300,000 lives in the US.\n"
     ]
    }
   ],
   "source": [
    "list = []\n",
    "s=[]\n",
    "xyz=[]\n",
    "for ind in df.index: \n",
    "    list=df['questions'][ind]\n",
    "\n",
    "    if 'Is the covid vaccine safe and effective?' in list :\n",
    "        print(df['text'][ind])\n"
   ]
  },
  {
   "cell_type": "code",
   "execution_count": 31,
   "metadata": {},
   "outputs": [
    {
     "name": "stdout",
     "output_type": "stream",
     "text": [
      "Happy to announce that we have just signed new agreements with Sinopharm &amp; Sinovac on behalf of the #COVAX Facility, making 110m doses of their safe, effective #COVID19 vaccines immediately available to COVAX participants, with options for more: https://t.co/9EZbvZCq0a\n",
      "#COVAX urges all regional, national and local government authorities to recognize as fully vaccinated all people who have received #COVID19 vaccines that have been deemed safe &amp; effective by WHO PQ or Stringent regulatory agencies: https://t.co/5dfWHDIcPl\n"
     ]
    }
   ],
   "source": [
    "list = []\n",
    "s=[]\n",
    "xyz=[]\n",
    "for ind in df.index: \n",
    "    list=df['questions'][ind]\n",
    "\n",
    "    if 'Is the covax vaccine safe and effective?' in list :\n",
    "        print(df['text'][ind])"
   ]
  },
  {
   "cell_type": "code",
   "execution_count": 15,
   "metadata": {},
   "outputs": [
    {
     "name": "stdout",
     "output_type": "stream",
     "text": [
      "Happy to announce that we have just signed new agreements with Sinopharm &amp; Sinovac on behalf of the #COVAX Facility, making 110m doses of their safe, effective #COVID19 vaccines immediately available to COVAX participants, with options for more: https://t.co/9EZbvZCq0a\n",
      "#COVAX urges all regional, national and local government authorities to recognize as fully vaccinated all people who have received #COVID19 vaccines that have been deemed safe &amp; effective by WHO PQ or Stringent regulatory agencies: https://t.co/5dfWHDIcPl\n"
     ]
    }
   ],
   "source": [
    "list = []\n",
    "s=[]\n",
    "xyz=[]\n",
    "for ind in df.index: \n",
    "    list=df['questions'][ind]\n",
    "\n",
    "    if 'Is the covax vaccine safe and effective?' in list :\n",
    "        print(df['text'][ind])"
   ]
  },
  {
   "cell_type": "markdown",
   "metadata": {},
   "source": [
    "## Do you need to be vaccinated against covid19?"
   ]
  },
  {
   "cell_type": "code",
   "execution_count": 33,
   "metadata": {},
   "outputs": [
    {
     "name": "stdout",
     "output_type": "stream",
     "text": [
      "#COVID19 variants are a wake up call to vaccinate the world. Leaving countries behind only gives the virus more chance to mutate and increases the threat to all of us. Let #COVAX deliver to halt the rise of variants: https://t.co/sKHvXRvRP4 Via @NikkeiAsia\n"
     ]
    }
   ],
   "source": [
    "list = []\n",
    "s=[]\n",
    "xyz=[]\n",
    "for ind in df.index: \n",
    "    list=df['questions'][ind]\n",
    "\n",
    "    if 'Do you have to be vaccinated against covid19?' in list :\n",
    "        print(df['text'][ind])"
   ]
  },
  {
   "cell_type": "code",
   "execution_count": 34,
   "metadata": {},
   "outputs": [
    {
     "name": "stdout",
     "output_type": "stream",
     "text": [
      "RT @AlexMMTri: Nothing is a 100%, there are a very small number of mild or a symptomatic COVID infections in people who are fully vaccinate…\n",
      "Vaccination gives you higher antibody levels and much stronger protection against Covid than natural infection, according to the best data we have today. If you recovered from Covid but still haven't been vaccinated, you may be vulnerable to reinfection—especially by Delta.\n",
      "Unfortunately, some breakthrough infections will be less mild, requiring hospitalization and, in rare cases, resulting in death. That doesn’t change the reality that vaccination is the best way to protect ourselves from Covid. 11/\n",
      "Safety measures work inside the house too: a new study shows kids can spread Covid to people in their households, but—importantly—that safety measures reduce this risk. Especially relevant to unvaccinated adults who spend a lot of time around kids. https://t.co/r9JXb65bfS 9/\n",
      "We must do all we can to increase vaccination, reduce the number of people who get infected with Covid, and improve care for those with Covid and long Covid to prevent suffering and death. https://t.co/gJIuWXLyBW\n",
      "Measures that protect students also protect teachers and staff. Data shows that teachers aren’t at greater risk of Covid than other essential workers. Getting vaccinated and having strong safety measures in place will keep risk low. 16/\n",
      "@CanuckManMD All my recent COVID cases are unvaccinated.\n"
     ]
    }
   ],
   "source": [
    "list = []\n",
    "s=[]\n",
    "xyz=[]\n",
    "for ind in df.index: \n",
    "    list=df['questions'][ind]\n",
    "\n",
    "    if 'Do you have to be vaccinated against covid?' in list :\n",
    "        print(df['text'][ind])"
   ]
  },
  {
   "cell_type": "code",
   "execution_count": 16,
   "metadata": {},
   "outputs": [
    {
     "name": "stdout",
     "output_type": "stream",
     "text": [
      "Death is not the only negative consequence of having COVID-19.    Please get vaccinated. Vaccines work. https://t.co/vKM0Jneed7\n"
     ]
    }
   ],
   "source": [
    "list = []\n",
    "s=[]\n",
    "xyz=[]\n",
    "for ind in df.index: \n",
    "    list=df['questions'][ind]\n",
    "\n",
    "    if 'Do you have to get vaccinated against covid-19?' in list :\n",
    "        print(df['text'][ind])"
   ]
  },
  {
   "cell_type": "markdown",
   "metadata": {},
   "source": [
    "## Does covid cause illness in kids?"
   ]
  },
  {
   "cell_type": "code",
   "execution_count": 36,
   "metadata": {},
   "outputs": [
    {
     "name": "stdout",
     "output_type": "stream",
     "text": [
      "RT @JeromeAdamsMD: Those who say Covid is harmless in kids should consider that for most of last year kids were: -Away from school/ sociall…\n"
     ]
    }
   ],
   "source": [
    "list = []\n",
    "s=[]\n",
    "xyz=[]\n",
    "for ind in df.index: \n",
    "    list=df['questions'][ind]\n",
    "\n",
    "    if 'Is covid harmless in kids?' in list :\n",
    "        print(df['text'][ind])"
   ]
  },
  {
   "cell_type": "code",
   "execution_count": 37,
   "metadata": {},
   "outputs": [
    {
     "name": "stdout",
     "output_type": "stream",
     "text": [
      "Covishield is causing formation of blood clots. Watch out for severe headache, any other neurological symptom along with rise in D-dimer &amp; loss of platelets   It’s a RARE condition. Do not panic if you feel fine/have mild symptoms like fever. Continue the vaccine process as usual https://t.co/YBsdoknQs1\n"
     ]
    }
   ],
   "source": [
    "list = []\n",
    "s=[]\n",
    "xyz=[]\n",
    "for ind in df.index: \n",
    "    list=df['questions'][ind]\n",
    "\n",
    "    if 'Does covishield cause blood clots?' in list :\n",
    "        print(df['text'][ind])"
   ]
  },
  {
   "cell_type": "code",
   "execution_count": 17,
   "metadata": {},
   "outputs": [
    {
     "name": "stdout",
     "output_type": "stream",
     "text": [
      "Good news: Most kids who get Covid will have mild or no symptoms, and there’s no evidence that Covid caused by the Delta variant causes more severe illness among kids. 3/\n",
      "Your immune system does well at fighting threats it's seen before. But Covid is new—and its mutations, such as Delta, are even newer. Vaccination prepares your body to fight Covid, so it doesn't have to face a dangerous enemy sight unseen.\n",
      "The more uncontrolled spread, the more risk of even more dangerous variants. Vaccination, masks, ventilation and distancing can stop Covid, including Delta. Variants remain the wild card for the trajectory of the pandemic. Delta may not be the worst strain the virus deals us. 19/\n"
     ]
    }
   ],
   "source": [
    "list = []\n",
    "s=[]\n",
    "xyz=[]\n",
    "for ind in df.index: \n",
    "    list=df['questions'][ind]\n",
    "\n",
    "    if 'Is covid the same as delta?' in list :\n",
    "        print(df['text'][ind])"
   ]
  },
  {
   "cell_type": "markdown",
   "metadata": {},
   "source": [
    "## Is it normal to have a fever or headache?"
   ]
  },
  {
   "cell_type": "code",
   "execution_count": 40,
   "metadata": {},
   "outputs": [
    {
     "name": "stdout",
     "output_type": "stream",
     "text": [
      "@Sinha_Sahab It’s normal. If any other severe symptoms arrive then consult a doctor\n"
     ]
    }
   ],
   "source": [
    "list = []\n",
    "s=[]\n",
    "xyz=[]\n",
    "for ind in df.index: \n",
    "    list=df['questions'][ind]\n",
    "\n",
    "    if 'Is it normal to have a headache?' in list :\n",
    "        print(df['text'][ind])"
   ]
  },
  {
   "cell_type": "code",
   "execution_count": 41,
   "metadata": {},
   "outputs": [
    {
     "name": "stdout",
     "output_type": "stream",
     "text": [
      "10) I’m sorry, but orphaned children is not okay @BorisJohnson @sajidjavid — but yet 1.5 mil kids and ~8500 UK 🇬🇧 kids were orphaned by #COVID19 so far in the pandemic. Your decision to callously reopen will hurt future generations. https://t.co/rSayBPLAr6\n"
     ]
    }
   ],
   "source": [
    "list = []\n",
    "s=[]\n",
    "xyz=[]\n",
    "for ind in df.index: \n",
    "    list=df['questions'][ind]\n",
    "\n",
    "    if 'Is it okay to have orphans in the uk?' in list :\n",
    "        print(df['text'][ind])"
   ]
  },
  {
   "cell_type": "code",
   "execution_count": 18,
   "metadata": {},
   "outputs": [
    {
     "name": "stdout",
     "output_type": "stream",
     "text": [
      "4) average age of patients in ICU in one Missouri hospital: 35. It’s likely—Arkansas children’s hospitals also maxed out with COVID. https://t.co/1V4IVgnFHG\n"
     ]
    }
   ],
   "source": [
    "list = []\n",
    "s=[]\n",
    "xyz=[]\n",
    "for ind in df.index: \n",
    "    list=df['questions'][ind]\n",
    "\n",
    "    if 'Is it possible to have cov in the icu?' in list :\n",
    "        print(df['text'][ind])\n",
    "        "
   ]
  },
  {
   "cell_type": "markdown",
   "metadata": {},
   "source": [
    "## Are toci and remdesivir the same?"
   ]
  },
  {
   "cell_type": "code",
   "execution_count": 43,
   "metadata": {},
   "outputs": [
    {
     "name": "stdout",
     "output_type": "stream",
     "text": [
      "13/n If oxygen saturation falls below that, go to hospital in  an ambulance that has a working oxygen tank. Prone position. Fluids. Oxygen. Dexamethasone. Remdesivir and Toci only under medical supervision (does not reduce deaths in severe Covid).\n"
     ]
    }
   ],
   "source": [
    "list = []\n",
    "s=[]\n",
    "xyz=[]\n",
    "for ind in df.index: \n",
    "    list=df['questions'][ind]\n",
    "\n",
    "    if 'Is toci and remdesivir the same thing?' in list :\n",
    "        print(df['text'][ind])"
   ]
  },
  {
   "cell_type": "code",
   "execution_count": 45,
   "metadata": {},
   "outputs": [
    {
     "name": "stdout",
     "output_type": "stream",
     "text": [
      "Death demographics: 0 new deaths  &lt;19: 0  20-39: 0  40-59: 0  60-79: 0  80+: 0    (no data corrections this time!)🙏🏻  https://t.co/8NC9KgDIEh https://t.co/TsegYfGJtP\n"
     ]
    }
   ],
   "source": [
    "list = []\n",
    "s=[]\n",
    "xyz=[]\n",
    "for ind in df.index: \n",
    "    list=df['questions'][ind]\n",
    "\n",
    "    if 'Are there any new deaths in the uk?' in list :\n",
    "        print(df['text'][ind])"
   ]
  },
  {
   "cell_type": "code",
   "execution_count": 20,
   "metadata": {},
   "outputs": [
    {
     "name": "stdout",
     "output_type": "stream",
     "text": [
      "6) Mask and airborne science compilation video   https://t.co/HTRCEHTaRq\n"
     ]
    }
   ],
   "source": [
    "list = []\n",
    "s=[]\n",
    "xyz=[]\n",
    "for ind in df.index: \n",
    "    list=df['questions'][ind]\n",
    "\n",
    "    if 'Is there a mask in the air?' in list :\n",
    "        print(df['text'][ind])"
   ]
  },
  {
   "cell_type": "markdown",
   "metadata": {},
   "source": [
    "## Is there any side effect of moderna vaccine?"
   ]
  },
  {
   "cell_type": "code",
   "execution_count": 47,
   "metadata": {},
   "outputs": [
    {
     "name": "stdout",
     "output_type": "stream",
     "text": [
      "And btw, two hours post Moderna vaccine, I feel PERFECTLY fine. Not a single side effect.\n"
     ]
    }
   ],
   "source": [
    "list = []\n",
    "s=[]\n",
    "xyz=[]\n",
    "for ind in df.index: \n",
    "    list=df['questions'][ind]\n",
    "\n",
    "    if 'Is there a side effect of moderna vaccine?' in list :\n",
    "        print(df['text'][ind])"
   ]
  },
  {
   "cell_type": "code",
   "execution_count": 48,
   "metadata": {},
   "outputs": [
    {
     "name": "stdout",
     "output_type": "stream",
     "text": [
      "Ontario: Daily vaccinations (1st vs. 2nd dose)  1st: 17,928💉 2nd: 107,238💉💉  #FullyVaccinated #ontariovaccine  #ThisIsOurShotCA #OurWinningShot https://t.co/5XuI0Q6ecY\n",
      "Ontario: Daily vaccinations (1st vs. 2nd dose)  1st: 20,390💉 2nd: 148,713💉💉  #FullyVaccinated #ontariovaccine  #ThisIsOurShotCA #OurWinningShot https://t.co/89tSfck0Dj\n",
      "Ontario: Daily vaccinations (1st vs. 2nd dose)  1st: 20,426💉 2nd: 148,190💉💉  #FullyVaccinated #ontariovaccine  #ThisIsOurShotCA #OurWinningShot https://t.co/8vsAKSB1Hl\n",
      "Ontario #CovidVaccine progress💉💪🏻📈  All Ontarians aged 12+ are now eligible to book an appointment to receive their 2nd dose.  Book here! https://t.co/dd7uJqdNs5 #ontariovaccine https://t.co/sv1MOpvWhN\n",
      "Ontario: Daily vaccinations (1st vs. 2nd dose)  1st: 10,306💉 2nd: 81,014💉💉  #FullyVaccinated #ontariovaccine  #ThisIsOurShotCA #OurWinningShot https://t.co/9LdUjZMXwY\n",
      "Ontario: Daily vaccinations (1st vs. 2nd dose)  1st: 17,426💉 2nd: 115,537💉💉  #FullyVaccinated #ontariovaccine  #ThisIsOurShotCA #OurWinningShot https://t.co/TclITICz2n\n",
      "Ontario: Daily vaccinations (1st vs. 2nd dose)  1st: 17,486💪🏻💉 2nd: 123,005💉💉  #FullyVaccinated #ontariovaccine  #ThisIsOurShotCA #OurWinningShot https://t.co/wWYSfTYOix\n",
      "Ontario: Daily vaccinations (1st vs. 2nd dose)  1st: 18,633💉 2nd: 105,628💉💉  #FullyVaccinated #ontariovaccine  #ThisIsOurShotCA #OurWinningShot https://t.co/JmYVX7TQKE\n"
     ]
    }
   ],
   "source": [
    "list = []\n",
    "s=[]\n",
    "xyz=[]\n",
    "for ind in df.index: \n",
    "    list=df['questions'][ind]\n",
    "\n",
    "    if 'Is there a 2nd dose of ontario vaccine?' in list :\n",
    "        print(df['text'][ind])"
   ]
  },
  {
   "cell_type": "code",
   "execution_count": 21,
   "metadata": {},
   "outputs": [
    {
     "name": "stdout",
     "output_type": "stream",
     "text": [
      "Ontario: Daily vaccinations (1st vs. 2nd dose)  1st: 17,928💉 2nd: 107,238💉💉  #FullyVaccinated #ontariovaccine  #ThisIsOurShotCA #OurWinningShot https://t.co/5XuI0Q6ecY\n",
      "Ontario: Daily vaccinations (1st vs. 2nd dose)  1st: 20,390💉 2nd: 148,713💉💉  #FullyVaccinated #ontariovaccine  #ThisIsOurShotCA #OurWinningShot https://t.co/89tSfck0Dj\n",
      "Ontario: Daily vaccinations (1st vs. 2nd dose)  1st: 20,426💉 2nd: 148,190💉💉  #FullyVaccinated #ontariovaccine  #ThisIsOurShotCA #OurWinningShot https://t.co/8vsAKSB1Hl\n",
      "Ontario #CovidVaccine progress💉💪🏻📈  All Ontarians aged 12+ are now eligible to book an appointment to receive their 2nd dose.  Book here! https://t.co/dd7uJqdNs5 #ontariovaccine https://t.co/sv1MOpvWhN\n",
      "Ontario: Daily vaccinations (1st vs. 2nd dose)  1st: 10,306💉 2nd: 81,014💉💉  #FullyVaccinated #ontariovaccine  #ThisIsOurShotCA #OurWinningShot https://t.co/9LdUjZMXwY\n",
      "Ontario: Daily vaccinations (1st vs. 2nd dose)  1st: 17,426💉 2nd: 115,537💉💉  #FullyVaccinated #ontariovaccine  #ThisIsOurShotCA #OurWinningShot https://t.co/TclITICz2n\n",
      "Ontario: Daily vaccinations (1st vs. 2nd dose)  1st: 17,486💪🏻💉 2nd: 123,005💉💉  #FullyVaccinated #ontariovaccine  #ThisIsOurShotCA #OurWinningShot https://t.co/wWYSfTYOix\n",
      "Ontario: Daily vaccinations (1st vs. 2nd dose)  1st: 18,633💉 2nd: 105,628💉💉  #FullyVaccinated #ontariovaccine  #ThisIsOurShotCA #OurWinningShot https://t.co/JmYVX7TQKE\n"
     ]
    }
   ],
   "source": [
    "list = []\n",
    "s=[]\n",
    "xyz=[]\n",
    "for ind in df.index: \n",
    "    list=df['questions'][ind]\n",
    "\n",
    "    if 'Is there a 2nd dose of ontario vaccine?' in list :\n",
    "        print(df['text'][ind])"
   ]
  },
  {
   "cell_type": "markdown",
   "metadata": {},
   "source": [
    "## Are oxford vaccine and astra zeneca same?"
   ]
  },
  {
   "cell_type": "code",
   "execution_count": 50,
   "metadata": {},
   "outputs": [
    {
     "name": "stdout",
     "output_type": "stream",
     "text": [
      "We know that there is not asymptomatic spread with the Astra Zeneca/Oxford vaccine, but this wasn't studied with the Pfizer or Moderna vaccines. With all vaccines a small percentage will get will viral illness and can spread. https://t.co/V27yIryOU6\n"
     ]
    }
   ],
   "source": [
    "list = []\n",
    "s=[]\n",
    "xyz=[]\n",
    "for ind in df.index: \n",
    "    list=df['questions'][ind]\n",
    "\n",
    "    if 'Is the oxford vaccine the same as astra zeneca?' in list :\n",
    "        print(df['text'][ind])"
   ]
  },
  {
   "cell_type": "code",
   "execution_count": 52,
   "metadata": {},
   "outputs": [
    {
     "name": "stdout",
     "output_type": "stream",
     "text": [
      "In the U.K., we continue to see a decoupling between cases and hospitalizations and deaths when compared to other epidemic waves, as more of the most vulnerable are protected through vaccines; and an indication that cases may be peaking as Delta wave runs it’s course in the U.K. https://t.co/zSRj02kvCk\n"
     ]
    }
   ],
   "source": [
    "list = []\n",
    "s=[]\n",
    "xyz=[]\n",
    "for ind in df.index: \n",
    "    list=df['questions'][ind]\n",
    "\n",
    "    if 'Is there such thing as a delta wave?' in list :\n",
    "        print(df['text'][ind])"
   ]
  },
  {
   "cell_type": "code",
   "execution_count": 22,
   "metadata": {},
   "outputs": [
    {
     "name": "stdout",
     "output_type": "stream",
     "text": [
      "20 years of research led to the development of Covid vaccines, which were extensively tested in the largest clinical vaccine trials ever done. These vaccines are extremely safe and effective—and they've already saved nearly 300,000 lives in the US.\n"
     ]
    }
   ],
   "source": [
    "list = []\n",
    "s=[]\n",
    "xyz=[]\n",
    "for ind in df.index: \n",
    "    list=df['questions'][ind]\n",
    "\n",
    "    if 'Is the covid vaccine safe and effective?' in list :\n",
    "        print(df['text'][ind])"
   ]
  },
  {
   "cell_type": "markdown",
   "metadata": {},
   "source": [
    "## Are cdc guidlines on masking changed?"
   ]
  },
  {
   "cell_type": "code",
   "execution_count": 54,
   "metadata": {},
   "outputs": [
    {
     "name": "stdout",
     "output_type": "stream",
     "text": [
      "📍BREAKING &amp; BROKEN—CDC guidance on masking unchanged, even as #DeltaVariant surges, @CDCDirector Rochelle Walensky said Thursday. @RWalensky declined to say if the CDC is considering changing the guidance. ➡️History will also judge critical inactions. 🧵 https://t.co/Rx2dXtrO3x\n"
     ]
    }
   ],
   "source": [
    "list = []\n",
    "s=[]\n",
    "xyz=[]\n",
    "for ind in df.index: \n",
    "    list=df['questions'][ind]\n",
    "\n",
    "    if 'Is the cdc guidance on masking unchanged?' in list :\n",
    "        print(df['text'][ind])"
   ]
  },
  {
   "cell_type": "code",
   "execution_count": 55,
   "metadata": {},
   "outputs": [
    {
     "name": "stdout",
     "output_type": "stream",
     "text": [
      "📍BREAKING &amp; BROKEN—CDC guidance on masking unchanged, even as #DeltaVariant surges, @CDCDirector Rochelle Walensky said Thursday. @RWalensky declined to say if the CDC is considering changing the guidance. ➡️History will also judge critical inactions. 🧵 https://t.co/Rx2dXtrO3x\n"
     ]
    }
   ],
   "source": [
    "list = []\n",
    "s=[]\n",
    "xyz=[]\n",
    "for ind in df.index: \n",
    "    list=df['questions'][ind]\n",
    "\n",
    "    if 'Does the cdc have guidance on masking unchanged?' in list :\n",
    "        print(df['text'][ind])"
   ]
  },
  {
   "cell_type": "code",
   "execution_count": 24,
   "metadata": {},
   "outputs": [
    {
     "name": "stdout",
     "output_type": "stream",
     "text": [
      "6) Mask and airborne science compilation video   https://t.co/HTRCEHTaRq\n"
     ]
    }
   ],
   "source": [
    "list = []\n",
    "s=[]\n",
    "xyz=[]\n",
    "for ind in df.index: \n",
    "    list=df['questions'][ind]\n",
    "\n",
    "    if 'Is there a mask in the air?' in list :\n",
    "        print(df['text'][ind])"
   ]
  },
  {
   "cell_type": "markdown",
   "metadata": {},
   "source": [
    "## Are delta and gamma variant different?"
   ]
  },
  {
   "cell_type": "code",
   "execution_count": 57,
   "metadata": {},
   "outputs": [
    {
     "name": "stdout",
     "output_type": "stream",
     "text": [
      "5) “However, other VOC, such as Beta or Gamma, harbor mutations conferring potential escape from humoral response induced either by prior infection or vaccination, as proven by both decreased seroneutralization in vitro (5–7) and in vivo by observational studies”\n"
     ]
    }
   ],
   "source": [
    "list = []\n",
    "s=[]\n",
    "xyz=[]\n",
    "for ind in df.index: \n",
    "    list=df['questions'][ind]\n",
    "\n",
    "    if 'Is beta and gamma the same thing?' in list :\n",
    "        print(df['text'][ind])"
   ]
  },
  {
   "cell_type": "code",
   "execution_count": 58,
   "metadata": {},
   "outputs": [
    {
     "name": "stdout",
     "output_type": "stream",
     "text": [
      "8) is the #DeltaVariant surge somehow surprising? No! If only someone was trying to warn 2 months ago to pay attention to Delta (aka #B16172 as it was known then), as hospitalizations were rising then in UK 🇬🇧… I hate this shit. Pardon my french. https://t.co/pjdWc7E1q3\n"
     ]
    }
   ],
   "source": [
    "list = []\n",
    "s=[]\n",
    "xyz=[]\n",
    "for ind in df.index: \n",
    "    list=df['questions'][ind]\n",
    "\n",
    "    if 'Is delta and deltaariant the same thing?' in list :\n",
    "        print(df['text'][ind])"
   ]
  },
  {
   "cell_type": "code",
   "execution_count": 25,
   "metadata": {},
   "outputs": [
    {
     "name": "stdout",
     "output_type": "stream",
     "text": [
      "59/ The median antibody titers 71 days after vaccination were 5x &amp; 3.3x lower for the Beta &amp; Gamma variants than versus early strains.    But though we see a drop, neutralizing antibody titers remain well above the limits of detection. https://t.co/tDPqAAUyDV\n"
     ]
    }
   ],
   "source": [
    "list = []\n",
    "s=[]\n",
    "xyz=[]\n",
    "for ind in df.index: \n",
    "    list=df['questions'][ind]\n",
    "\n",
    "    if 'Do beta and gamma variants have the same titer?' in list :\n",
    "        print(df['text'][ind])"
   ]
  },
  {
   "cell_type": "markdown",
   "metadata": {},
   "source": [
    "## Can you take the covid19 vaccine if you have high blood pressure?"
   ]
  },
  {
   "cell_type": "code",
   "execution_count": 60,
   "metadata": {},
   "outputs": [
    {
     "name": "stdout",
     "output_type": "stream",
     "text": [
      "Can people with blood pressure problems take the #COVID19 #vaccine? Yes!   Watch to find out the precautions to be taken!  —— Brought to you by HCFI Dr KK Research Fund https://t.co/4Ygk3SRJFI\n"
     ]
    }
   ],
   "source": [
    "list = []\n",
    "s=[]\n",
    "xyz=[]\n",
    "for ind in df.index: \n",
    "    list=df['questions'][ind]\n",
    "\n",
    "    if 'Can you take the covid19 vaccine for high blood pressure?' in list :\n",
    "        print(df['text'][ind])"
   ]
  },
  {
   "cell_type": "code",
   "execution_count": 62,
   "metadata": {},
   "outputs": [
    {
     "name": "stdout",
     "output_type": "stream",
     "text": [
      "Can a Covid vaccinated person be given the rabies vaccine for dog bite? https://t.co/3uUPhmRGGV\n"
     ]
    }
   ],
   "source": [
    "list = []\n",
    "s=[]\n",
    "xyz=[]\n",
    "for ind in df.index: \n",
    "    list=df['questions'][ind]\n",
    "\n",
    "    if 'Can you get rabies vaccine from a dog bite?' in list :\n",
    "        print(df['text'][ind])"
   ]
  },
  {
   "cell_type": "code",
   "execution_count": 26,
   "metadata": {},
   "outputs": [
    {
     "name": "stdout",
     "output_type": "stream",
     "text": [
      "1/ Recent discussions on #COVID19 vaccine certificates in 🇨🇦...    Plan from Quebec:    Certificates *could* be used for access to non-essential higher risk settings (gyms, bars, restaurants, etc.).    No limitations to essential settings.    Details👉 https://t.co/yckQuIuOnJ https://t.co/7QC1Md8mQw\n"
     ]
    }
   ],
   "source": [
    "list = []\n",
    "s=[]\n",
    "xyz=[]\n",
    "for ind in df.index: \n",
    "    list=df['questions'][ind]\n",
    "\n",
    "    if 'Can you get a covid vaccination certificate in quebec?' in list :\n",
    "        print(df['text'][ind])"
   ]
  },
  {
   "cell_type": "code",
   "execution_count": null,
   "metadata": {},
   "outputs": [],
   "source": []
  }
 ],
 "metadata": {
  "kernelspec": {
   "display_name": "Python 3",
   "language": "python",
   "name": "python3"
  },
  "language_info": {
   "codemirror_mode": {
    "name": "ipython",
    "version": 3
   },
   "file_extension": ".py",
   "mimetype": "text/x-python",
   "name": "python",
   "nbconvert_exporter": "python",
   "pygments_lexer": "ipython3",
   "version": "3.7.6"
  }
 },
 "nbformat": 4,
 "nbformat_minor": 4
}
