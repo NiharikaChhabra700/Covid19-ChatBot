{
 "cells": [
  {
   "cell_type": "code",
   "execution_count": 1,
   "id": "e25451fc",
   "metadata": {},
   "outputs": [],
   "source": [
    "import pandas as pd\n",
    "import numpy as np\n",
    "import nltk\n",
    "import sklearn"
   ]
  },
  {
   "cell_type": "code",
   "execution_count": 2,
   "id": "fd2ee6b3",
   "metadata": {},
   "outputs": [
    {
     "data": {
      "text/html": [
       "<div>\n",
       "<style scoped>\n",
       "    .dataframe tbody tr th:only-of-type {\n",
       "        vertical-align: middle;\n",
       "    }\n",
       "\n",
       "    .dataframe tbody tr th {\n",
       "        vertical-align: top;\n",
       "    }\n",
       "\n",
       "    .dataframe thead th {\n",
       "        text-align: right;\n",
       "    }\n",
       "</style>\n",
       "<table border=\"1\" class=\"dataframe\">\n",
       "  <thead>\n",
       "    <tr style=\"text-align: right;\">\n",
       "      <th></th>\n",
       "      <th>0</th>\n",
       "      <th>1</th>\n",
       "    </tr>\n",
       "  </thead>\n",
       "  <tbody>\n",
       "    <tr>\n",
       "      <th>0</th>\n",
       "      <td>Text</td>\n",
       "      <td>Boolean Questions</td>\n",
       "    </tr>\n",
       "    <tr>\n",
       "      <th>2</th>\n",
       "      <td>RT @ProSyn: Reaching enough people to stop #CO...</td>\n",
       "      <td>['Is there such a thing as covid19?', 'Is ther...</td>\n",
       "    </tr>\n",
       "    <tr>\n",
       "      <th>4</th>\n",
       "      <td>I have tested positive for #COVID19 and here’s...</td>\n",
       "      <td>['Is there a vaccine for covid19?', 'Is there ...</td>\n",
       "    </tr>\n",
       "    <tr>\n",
       "      <th>6</th>\n",
       "      <td>62/ The horizontal red line represents median ...</td>\n",
       "      <td>['Is the horizontal red line the median neutra...</td>\n",
       "    </tr>\n",
       "    <tr>\n",
       "      <th>8</th>\n",
       "      <td>#Remedisivir DOES NOT save lives, it is not an...</td>\n",
       "      <td>['Is remedisivir a life saving drug?', 'Is rem...</td>\n",
       "    </tr>\n",
       "  </tbody>\n",
       "</table>\n",
       "</div>"
      ],
      "text/plain": [
       "                                                   0  \\\n",
       "0                                               Text   \n",
       "2  RT @ProSyn: Reaching enough people to stop #CO...   \n",
       "4  I have tested positive for #COVID19 and here’s...   \n",
       "6  62/ The horizontal red line represents median ...   \n",
       "8  #Remedisivir DOES NOT save lives, it is not an...   \n",
       "\n",
       "                                                   1  \n",
       "0                                  Boolean Questions  \n",
       "2  ['Is there such a thing as covid19?', 'Is ther...  \n",
       "4  ['Is there a vaccine for covid19?', 'Is there ...  \n",
       "6  ['Is the horizontal red line the median neutra...  \n",
       "8  ['Is remedisivir a life saving drug?', 'Is rem...  "
      ]
     },
     "execution_count": 2,
     "metadata": {},
     "output_type": "execute_result"
    }
   ],
   "source": [
    "import pandas as pd\n",
    "import numpy as np\n",
    "\n",
    "df = pd.read_csv(\"output1.csv\" ,header =None)\n",
    "df = df.dropna()\n",
    "df.head()"
   ]
  },
  {
   "cell_type": "code",
   "execution_count": 3,
   "id": "116ee146",
   "metadata": {},
   "outputs": [],
   "source": [
    "df.columns=[\"text\", \"questions\"]"
   ]
  },
  {
   "cell_type": "code",
   "execution_count": 4,
   "id": "b79d5393",
   "metadata": {},
   "outputs": [
    {
     "data": {
      "text/html": [
       "<div>\n",
       "<style scoped>\n",
       "    .dataframe tbody tr th:only-of-type {\n",
       "        vertical-align: middle;\n",
       "    }\n",
       "\n",
       "    .dataframe tbody tr th {\n",
       "        vertical-align: top;\n",
       "    }\n",
       "\n",
       "    .dataframe thead th {\n",
       "        text-align: right;\n",
       "    }\n",
       "</style>\n",
       "<table border=\"1\" class=\"dataframe\">\n",
       "  <thead>\n",
       "    <tr style=\"text-align: right;\">\n",
       "      <th></th>\n",
       "      <th>text</th>\n",
       "      <th>questions</th>\n",
       "    </tr>\n",
       "  </thead>\n",
       "  <tbody>\n",
       "    <tr>\n",
       "      <th>0</th>\n",
       "      <td>Text</td>\n",
       "      <td>Boolean Questions</td>\n",
       "    </tr>\n",
       "    <tr>\n",
       "      <th>2</th>\n",
       "      <td>RT @ProSyn: Reaching enough people to stop #CO...</td>\n",
       "      <td>['Is there such a thing as covid19?', 'Is ther...</td>\n",
       "    </tr>\n",
       "    <tr>\n",
       "      <th>4</th>\n",
       "      <td>I have tested positive for #COVID19 and here’s...</td>\n",
       "      <td>['Is there a vaccine for covid19?', 'Is there ...</td>\n",
       "    </tr>\n",
       "    <tr>\n",
       "      <th>6</th>\n",
       "      <td>62/ The horizontal red line represents median ...</td>\n",
       "      <td>['Is the horizontal red line the median neutra...</td>\n",
       "    </tr>\n",
       "    <tr>\n",
       "      <th>8</th>\n",
       "      <td>#Remedisivir DOES NOT save lives, it is not an...</td>\n",
       "      <td>['Is remedisivir a life saving drug?', 'Is rem...</td>\n",
       "    </tr>\n",
       "    <tr>\n",
       "      <th>...</th>\n",
       "      <td>...</td>\n",
       "      <td>...</td>\n",
       "    </tr>\n",
       "    <tr>\n",
       "      <th>1888</th>\n",
       "      <td>#COVID19 ICU in #Ontario 🏥    ICU total: 151  ...</td>\n",
       "      <td>['Is there a ventilated icu in ontario?', 'Is ...</td>\n",
       "    </tr>\n",
       "    <tr>\n",
       "      <th>1890</th>\n",
       "      <td>RT @AlexMMTri: Very excited to have @KPNorthwe...</td>\n",
       "      <td>['Is there a difference between true and false...</td>\n",
       "    </tr>\n",
       "    <tr>\n",
       "      <th>1892</th>\n",
       "      <td>No region, country or individual should face m...</td>\n",
       "      <td>['Is there a difference between true and false...</td>\n",
       "    </tr>\n",
       "    <tr>\n",
       "      <th>1894</th>\n",
       "      <td>Did any one here get vaccinated with COVAXIN a...</td>\n",
       "      <td>['Has anyone ever been vaccinated with covaxin...</td>\n",
       "    </tr>\n",
       "    <tr>\n",
       "      <th>1896</th>\n",
       "      <td>Hospitalized guy refuses to get vaccinated—ask...</td>\n",
       "      <td>['Does a smoker have to get vaccinated?', 'Doe...</td>\n",
       "    </tr>\n",
       "  </tbody>\n",
       "</table>\n",
       "<p>948 rows × 2 columns</p>\n",
       "</div>"
      ],
      "text/plain": [
       "                                                   text  \\\n",
       "0                                                  Text   \n",
       "2     RT @ProSyn: Reaching enough people to stop #CO...   \n",
       "4     I have tested positive for #COVID19 and here’s...   \n",
       "6     62/ The horizontal red line represents median ...   \n",
       "8     #Remedisivir DOES NOT save lives, it is not an...   \n",
       "...                                                 ...   \n",
       "1888  #COVID19 ICU in #Ontario 🏥    ICU total: 151  ...   \n",
       "1890  RT @AlexMMTri: Very excited to have @KPNorthwe...   \n",
       "1892  No region, country or individual should face m...   \n",
       "1894  Did any one here get vaccinated with COVAXIN a...   \n",
       "1896  Hospitalized guy refuses to get vaccinated—ask...   \n",
       "\n",
       "                                              questions  \n",
       "0                                     Boolean Questions  \n",
       "2     ['Is there such a thing as covid19?', 'Is ther...  \n",
       "4     ['Is there a vaccine for covid19?', 'Is there ...  \n",
       "6     ['Is the horizontal red line the median neutra...  \n",
       "8     ['Is remedisivir a life saving drug?', 'Is rem...  \n",
       "...                                                 ...  \n",
       "1888  ['Is there a ventilated icu in ontario?', 'Is ...  \n",
       "1890  ['Is there a difference between true and false...  \n",
       "1892  ['Is there a difference between true and false...  \n",
       "1894  ['Has anyone ever been vaccinated with covaxin...  \n",
       "1896  ['Does a smoker have to get vaccinated?', 'Doe...  \n",
       "\n",
       "[948 rows x 2 columns]"
      ]
     },
     "execution_count": 4,
     "metadata": {},
     "output_type": "execute_result"
    }
   ],
   "source": [
    "df"
   ]
  },
  {
   "cell_type": "code",
   "execution_count": 5,
   "id": "c5363497",
   "metadata": {},
   "outputs": [
    {
     "data": {
      "text/html": [
       "<div>\n",
       "<style scoped>\n",
       "    .dataframe tbody tr th:only-of-type {\n",
       "        vertical-align: middle;\n",
       "    }\n",
       "\n",
       "    .dataframe tbody tr th {\n",
       "        vertical-align: top;\n",
       "    }\n",
       "\n",
       "    .dataframe thead th {\n",
       "        text-align: right;\n",
       "    }\n",
       "</style>\n",
       "<table border=\"1\" class=\"dataframe\">\n",
       "  <thead>\n",
       "    <tr style=\"text-align: right;\">\n",
       "      <th></th>\n",
       "      <th>text</th>\n",
       "      <th>questions</th>\n",
       "    </tr>\n",
       "  </thead>\n",
       "  <tbody>\n",
       "    <tr>\n",
       "      <th>2</th>\n",
       "      <td>RT @ProSyn: Reaching enough people to stop #CO...</td>\n",
       "      <td>['Is there such a thing as covid19?', 'Is ther...</td>\n",
       "    </tr>\n",
       "    <tr>\n",
       "      <th>4</th>\n",
       "      <td>I have tested positive for #COVID19 and here’s...</td>\n",
       "      <td>['Is there a vaccine for covid19?', 'Is there ...</td>\n",
       "    </tr>\n",
       "    <tr>\n",
       "      <th>6</th>\n",
       "      <td>62/ The horizontal red line represents median ...</td>\n",
       "      <td>['Is the horizontal red line the median neutra...</td>\n",
       "    </tr>\n",
       "    <tr>\n",
       "      <th>8</th>\n",
       "      <td>#Remedisivir DOES NOT save lives, it is not an...</td>\n",
       "      <td>['Is remedisivir a life saving drug?', 'Is rem...</td>\n",
       "    </tr>\n",
       "    <tr>\n",
       "      <th>10</th>\n",
       "      <td>RT @Hoybraten: EU at it’s worst: Most COVAX Va...</td>\n",
       "      <td>['Is there a green pass for covax vaccine?', '...</td>\n",
       "    </tr>\n",
       "    <tr>\n",
       "      <th>...</th>\n",
       "      <td>...</td>\n",
       "      <td>...</td>\n",
       "    </tr>\n",
       "    <tr>\n",
       "      <th>1888</th>\n",
       "      <td>#COVID19 ICU in #Ontario 🏥    ICU total: 151  ...</td>\n",
       "      <td>['Is there a ventilated icu in ontario?', 'Is ...</td>\n",
       "    </tr>\n",
       "    <tr>\n",
       "      <th>1890</th>\n",
       "      <td>RT @AlexMMTri: Very excited to have @KPNorthwe...</td>\n",
       "      <td>['Is there a difference between true and false...</td>\n",
       "    </tr>\n",
       "    <tr>\n",
       "      <th>1892</th>\n",
       "      <td>No region, country or individual should face m...</td>\n",
       "      <td>['Is there a difference between true and false...</td>\n",
       "    </tr>\n",
       "    <tr>\n",
       "      <th>1894</th>\n",
       "      <td>Did any one here get vaccinated with COVAXIN a...</td>\n",
       "      <td>['Has anyone ever been vaccinated with covaxin...</td>\n",
       "    </tr>\n",
       "    <tr>\n",
       "      <th>1896</th>\n",
       "      <td>Hospitalized guy refuses to get vaccinated—ask...</td>\n",
       "      <td>['Does a smoker have to get vaccinated?', 'Doe...</td>\n",
       "    </tr>\n",
       "  </tbody>\n",
       "</table>\n",
       "<p>947 rows × 2 columns</p>\n",
       "</div>"
      ],
      "text/plain": [
       "                                                   text  \\\n",
       "2     RT @ProSyn: Reaching enough people to stop #CO...   \n",
       "4     I have tested positive for #COVID19 and here’s...   \n",
       "6     62/ The horizontal red line represents median ...   \n",
       "8     #Remedisivir DOES NOT save lives, it is not an...   \n",
       "10    RT @Hoybraten: EU at it’s worst: Most COVAX Va...   \n",
       "...                                                 ...   \n",
       "1888  #COVID19 ICU in #Ontario 🏥    ICU total: 151  ...   \n",
       "1890  RT @AlexMMTri: Very excited to have @KPNorthwe...   \n",
       "1892  No region, country or individual should face m...   \n",
       "1894  Did any one here get vaccinated with COVAXIN a...   \n",
       "1896  Hospitalized guy refuses to get vaccinated—ask...   \n",
       "\n",
       "                                              questions  \n",
       "2     ['Is there such a thing as covid19?', 'Is ther...  \n",
       "4     ['Is there a vaccine for covid19?', 'Is there ...  \n",
       "6     ['Is the horizontal red line the median neutra...  \n",
       "8     ['Is remedisivir a life saving drug?', 'Is rem...  \n",
       "10    ['Is there a green pass for covax vaccine?', '...  \n",
       "...                                                 ...  \n",
       "1888  ['Is there a ventilated icu in ontario?', 'Is ...  \n",
       "1890  ['Is there a difference between true and false...  \n",
       "1892  ['Is there a difference between true and false...  \n",
       "1894  ['Has anyone ever been vaccinated with covaxin...  \n",
       "1896  ['Does a smoker have to get vaccinated?', 'Doe...  \n",
       "\n",
       "[947 rows x 2 columns]"
      ]
     },
     "execution_count": 5,
     "metadata": {},
     "output_type": "execute_result"
    }
   ],
   "source": [
    "df = df.drop(index=0)\n",
    "df"
   ]
  },
  {
   "cell_type": "markdown",
   "id": "a9a9578e",
   "metadata": {},
   "source": [
    "# ANSWER GENERATION"
   ]
  },
  {
   "cell_type": "raw",
   "id": "aaa4bb4a",
   "metadata": {},
   "source": [
    "1) Is delta variant the fastest covid variant?"
   ]
  },
  {
   "cell_type": "code",
   "execution_count": 6,
   "id": "c92e24ae",
   "metadata": {},
   "outputs": [
    {
     "name": "stdout",
     "output_type": "stream",
     "text": [
      "WHO says delta is the fastest and fittest Covid variant and will 'pick off' most vulnerable https://t.co/2YcB5dy8aq\n"
     ]
    }
   ],
   "source": [
    "list=[]\n",
    "s=[]\n",
    "xyz=[]\n",
    "for ind in df.index:\n",
    "    list=df['questions'][ind]\n",
    "    \n",
    "    if 'Is delta the fastest covid variant?' in list:\n",
    "        print(df['text'][ind])"
   ]
  },
  {
   "cell_type": "code",
   "execution_count": 7,
   "id": "56298138",
   "metadata": {},
   "outputs": [
    {
     "name": "stdout",
     "output_type": "stream",
     "text": [
      "WHO says delta is the fastest and fittest Covid variant and will 'pick off' most vulnerable https://t.co/2YcB5dy8aq\n"
     ]
    }
   ],
   "source": [
    "list=[]\n",
    "s=[]\n",
    "xyz=[]\n",
    "for ind in df.index:\n",
    "    list=df['questions'][ind]\n",
    "    \n",
    "    if 'Is delta the fastest and fittest covid variant?' in list:\n",
    "        print(df['text'][ind])"
   ]
  },
  {
   "cell_type": "code",
   "execution_count": 8,
   "id": "1292368a",
   "metadata": {},
   "outputs": [
    {
     "name": "stdout",
     "output_type": "stream",
     "text": [
      "How big of a threat does the Delta variant pose? New developments show that the challenges we face in controlling Covid are immense. Millions of lives are at stake globally. 1/\n"
     ]
    }
   ],
   "source": [
    "list=[]\n",
    "s=[]\n",
    "xyz=[]\n",
    "for ind in df.index:\n",
    "    list=df['questions'][ind]\n",
    "    \n",
    "    if 'Is the delta variant the same as covid?' in list:\n",
    "        print(df['text'][ind])"
   ]
  },
  {
   "cell_type": "raw",
   "id": "0ff1eb70",
   "metadata": {},
   "source": [
    "2)Does sars cov-2 affect the innate immune system?"
   ]
  },
  {
   "cell_type": "code",
   "execution_count": 11,
   "id": "e101f320",
   "metadata": {},
   "outputs": [
    {
     "name": "stdout",
     "output_type": "stream",
     "text": [
      "38/ What about the innate immune response?    SARS-CoV-2 is very good at suppressing the innate immune response by preventing, for example, the release of type 1 interferons.    The innate immune response controls viral replication in the respiratory tract and lungs.\n"
     ]
    }
   ],
   "source": [
    "list=[]\n",
    "s=[]\n",
    "xyz=[]\n",
    "for ind in df.index:\n",
    "    list=df['questions'][ind]\n",
    "    \n",
    "    if 'Does sars cov-2 suppress the innate immune system?' in list:\n",
    "        print(df['text'][ind])"
   ]
  },
  {
   "cell_type": "code",
   "execution_count": 12,
   "id": "2c1ac82a",
   "metadata": {},
   "outputs": [
    {
     "name": "stdout",
     "output_type": "stream",
     "text": [
      "38/ What about the innate immune response?    SARS-CoV-2 is very good at suppressing the innate immune response by preventing, for example, the release of type 1 interferons.    The innate immune response controls viral replication in the respiratory tract and lungs.\n"
     ]
    }
   ],
   "source": [
    "list=[]\n",
    "s=[]\n",
    "xyz=[]\n",
    "for ind in df.index:\n",
    "    list=df['questions'][ind]\n",
    "    \n",
    "    if 'Is sars cov-2 good for the innate immune system?' in list:\n",
    "        print(df['text'][ind])"
   ]
  },
  {
   "cell_type": "code",
   "execution_count": 13,
   "id": "db5db0b2",
   "metadata": {},
   "outputs": [
    {
     "name": "stdout",
     "output_type": "stream",
     "text": [
      "32/ If neutralizing antibody titers drop after infection or vaccination, does that mean you’re no longer immune?     No. You’re still protected by long-lived plasma cells in your bone marrow and memory B-cells. https://t.co/BZ40X4H4U4\n"
     ]
    }
   ],
   "source": [
    "list=[]\n",
    "s=[]\n",
    "xyz=[]\n",
    "for ind in df.index:\n",
    "    list=df['questions'][ind]\n",
    "    \n",
    "    if 'Is your immune system still active after an infection?' in list:\n",
    "        print(df['text'][ind])"
   ]
  },
  {
   "cell_type": "raw",
   "id": "7e33bf5d",
   "metadata": {},
   "source": [
    "3)What is the correlation between vaccination rate and case count?"
   ]
  },
  {
   "cell_type": "code",
   "execution_count": 15,
   "id": "3af9aa3d",
   "metadata": {},
   "outputs": [
    {
     "name": "stdout",
     "output_type": "stream",
     "text": [
      "@joshuetree I'd expect a negative correlation between vaccination rates and case counts. We're already seeing this to some degree (this is across states with this week's data). https://t.co/OxC0yWzRQs\n"
     ]
    }
   ],
   "source": [
    "list=[]\n",
    "s=[]\n",
    "xyz=[]\n",
    "for ind in df.index:\n",
    "    list=df['questions'][ind]\n",
    "    \n",
    "    if 'Is there a correlation between vaccination rates and case counts?' in list:\n",
    "        print(df['text'][ind])"
   ]
  },
  {
   "cell_type": "code",
   "execution_count": 16,
   "id": "f722cb4e",
   "metadata": {},
   "outputs": [
    {
     "name": "stdout",
     "output_type": "stream",
     "text": [
      "@joshuetree I'd expect a negative correlation between vaccination rates and case counts. We're already seeing this to some degree (this is across states with this week's data). https://t.co/OxC0yWzRQs\n"
     ]
    }
   ],
   "source": [
    "list=[]\n",
    "s=[]\n",
    "xyz=[]\n",
    "for ind in df.index:\n",
    "    list=df['questions'][ind]\n",
    "    \n",
    "    if 'Is there a correlation between vaccination rate and case count?' in list:\n",
    "        print(df['text'][ind])"
   ]
  },
  {
   "cell_type": "code",
   "execution_count": 17,
   "id": "e70cb419",
   "metadata": {},
   "outputs": [
    {
     "name": "stdout",
     "output_type": "stream",
     "text": [
      "Doctor: Patients 'beg me for the vaccine' before being intubated https://t.co/tZiArZib8a\n"
     ]
    }
   ],
   "source": [
    "list=[]\n",
    "s=[]\n",
    "xyz=[]\n",
    "for ind in df.index:\n",
    "    list=df['questions'][ind]\n",
    "    \n",
    "    if 'Is there a difference between intubation and vaccination?' in list:\n",
    "        print(df['text'][ind])"
   ]
  },
  {
   "cell_type": "raw",
   "id": "ec8712aa",
   "metadata": {},
   "source": [
    "4)Should we still wear a mask?"
   ]
  },
  {
   "cell_type": "code",
   "execution_count": 18,
   "id": "ef92c222",
   "metadata": {},
   "outputs": [
    {
     "name": "stdout",
     "output_type": "stream",
     "text": [
      "CHANGE IS COMING—Top White House aides and Biden administration officials are now debating whether they should urge vaccinated Americans to wear masks in more settings as #DeltaVariant surges, according to insiders. ➡️We needed this yesterday! #COVID19 🧵   https://t.co/t3Bg3DHcBw\n",
      "RT @oni_blackstock: .@CDCgov says mask-wearing for vaccinated people, is \"a very individual choice.\"  It's like the idea of #publichealth h…\n"
     ]
    }
   ],
   "source": [
    "list=[]\n",
    "s=[]\n",
    "xyz=[]\n",
    "for ind in df.index:\n",
    "    list=df['questions'][ind]\n",
    "    \n",
    "    if 'Is it illegal to not wear a mask?' in list:\n",
    "        print(df['text'][ind])"
   ]
  },
  {
   "cell_type": "code",
   "execution_count": 19,
   "id": "f41dd3e9",
   "metadata": {},
   "outputs": [
    {
     "name": "stdout",
     "output_type": "stream",
     "text": [
      "CHANGE IS COMING—Top White House aides and Biden administration officials are now debating whether they should urge vaccinated Americans to wear masks in more settings as #DeltaVariant surges, according to insiders. ➡️We needed this yesterday! #COVID19 🧵   https://t.co/t3Bg3DHcBw\n"
     ]
    }
   ],
   "source": [
    "list=[]\n",
    "s=[]\n",
    "xyz=[]\n",
    "for ind in df.index:\n",
    "    list=df['questions'][ind]\n",
    "    \n",
    "    if 'Is it legal to wear a mask in the us?' in list:\n",
    "        print(df['text'][ind])"
   ]
  },
  {
   "cell_type": "code",
   "execution_count": 20,
   "id": "709c09f3",
   "metadata": {},
   "outputs": [
    {
     "name": "stdout",
     "output_type": "stream",
     "text": [
      "2/n As I had pointed out in the New Yorker, many potential factors, and still a mystery ...  1. Massive public rallies with no masks and no distancing   2. Continuous undercounting   3. New strain (still under investigation)\n"
     ]
    }
   ],
   "source": [
    "list=[]\n",
    "s=[]\n",
    "xyz=[]\n",
    "for ind in df.index:\n",
    "    list=df['questions'][ind]\n",
    "    \n",
    "    if 'Is there a public rally with no masks?' in list:\n",
    "        print(df['text'][ind])"
   ]
  },
  {
   "cell_type": "raw",
   "id": "df6c3f20",
   "metadata": {},
   "source": [
    "5)Is covid vaccine safe and how much effective is it?"
   ]
  },
  {
   "cell_type": "code",
   "execution_count": 21,
   "id": "311b81c6",
   "metadata": {},
   "outputs": [
    {
     "name": "stdout",
     "output_type": "stream",
     "text": [
      "20 years of research led to the development of Covid vaccines, which were extensively tested in the largest clinical vaccine trials ever done. These vaccines are extremely safe and effective—and they've already saved nearly 300,000 lives in the US.\n"
     ]
    }
   ],
   "source": [
    "list=[]\n",
    "s=[]\n",
    "xyz=[]\n",
    "for ind in df.index:\n",
    "    list=df['questions'][ind]\n",
    "    \n",
    "    if 'Is the covid vaccine safe and effective?' in list:\n",
    "        print(df['text'][ind])"
   ]
  },
  {
   "cell_type": "code",
   "execution_count": 22,
   "id": "3884ba00",
   "metadata": {},
   "outputs": [
    {
     "name": "stdout",
     "output_type": "stream",
     "text": [
      "Real world effectiveness data on #Sinovac from Chile showing over 85% protection against severe illness and death, in a large cohort. Two doses of vaccine important to ensure efficacy https://t.co/NMV49zi2OA\n"
     ]
    }
   ],
   "source": [
    "list=[]\n",
    "s=[]\n",
    "xyz=[]\n",
    "for ind in df.index:\n",
    "    list=df['questions'][ind]\n",
    "    \n",
    "    if 'Is the sinovac vaccine safe in the wild?' in list:\n",
    "        print(df['text'][ind])"
   ]
  },
  {
   "cell_type": "code",
   "execution_count": 23,
   "id": "9570b088",
   "metadata": {},
   "outputs": [
    {
     "name": "stdout",
     "output_type": "stream",
     "text": [
      "HCFI Media Advocacy: Post vaccine skin reactions 43/1916 https://t.co/Vwg7UcsEdK\n"
     ]
    }
   ],
   "source": [
    "list=[]\n",
    "s=[]\n",
    "xyz=[]\n",
    "for ind in df.index:\n",
    "    list=df['questions'][ind]\n",
    "    \n",
    "    if 'Is the hcfi vaccine a true or false vaccine?' in list:\n",
    "        print(df['text'][ind])"
   ]
  },
  {
   "cell_type": "raw",
   "id": "2654ede4",
   "metadata": {},
   "source": [
    "6)Do you need to be vaccinated against covid19?"
   ]
  },
  {
   "cell_type": "code",
   "execution_count": 24,
   "id": "ec183514",
   "metadata": {},
   "outputs": [
    {
     "name": "stdout",
     "output_type": "stream",
     "text": [
      "#COVID19 variants are a wake up call to vaccinate the world. Leaving countries behind only gives the virus more chance to mutate and increases the threat to all of us. Let #COVAX deliver to halt the rise of variants: https://t.co/sKHvXRvRP4 Via @NikkeiAsia\n"
     ]
    }
   ],
   "source": [
    "list=[]\n",
    "s=[]\n",
    "xyz=[]\n",
    "for ind in df.index:\n",
    "    list=df['questions'][ind]\n",
    "    \n",
    "    if 'Do you have to be vaccinated against covid19?' in list:\n",
    "        print(df['text'][ind])"
   ]
  },
  {
   "cell_type": "code",
   "execution_count": 25,
   "id": "89eeca16",
   "metadata": {},
   "outputs": [
    {
     "name": "stdout",
     "output_type": "stream",
     "text": [
      "RT @AlexMMTri: Nothing is a 100%, there are a very small number of mild or a symptomatic COVID infections in people who are fully vaccinate…\n",
      "Vaccination gives you higher antibody levels and much stronger protection against Covid than natural infection, according to the best data we have today. If you recovered from Covid but still haven't been vaccinated, you may be vulnerable to reinfection—especially by Delta.\n",
      "Unfortunately, some breakthrough infections will be less mild, requiring hospitalization and, in rare cases, resulting in death. That doesn’t change the reality that vaccination is the best way to protect ourselves from Covid. 11/\n",
      "Safety measures work inside the house too: a new study shows kids can spread Covid to people in their households, but—importantly—that safety measures reduce this risk. Especially relevant to unvaccinated adults who spend a lot of time around kids. https://t.co/r9JXb65bfS 9/\n",
      "We must do all we can to increase vaccination, reduce the number of people who get infected with Covid, and improve care for those with Covid and long Covid to prevent suffering and death. https://t.co/gJIuWXLyBW\n",
      "Measures that protect students also protect teachers and staff. Data shows that teachers aren’t at greater risk of Covid than other essential workers. Getting vaccinated and having strong safety measures in place will keep risk low. 16/\n",
      "@CanuckManMD All my recent COVID cases are unvaccinated.\n"
     ]
    }
   ],
   "source": [
    "list=[]\n",
    "s=[]\n",
    "xyz=[]\n",
    "for ind in df.index:\n",
    "    list=df['questions'][ind]\n",
    "    \n",
    "    if 'Do you have to be vaccinated against covid?' in list:\n",
    "        print(df['text'][ind])"
   ]
  },
  {
   "cell_type": "code",
   "execution_count": 26,
   "id": "34b7cddc",
   "metadata": {},
   "outputs": [
    {
     "name": "stdout",
     "output_type": "stream",
     "text": [
      "Death is not the only negative consequence of having COVID-19.    Please get vaccinated. Vaccines work. https://t.co/vKM0Jneed7\n"
     ]
    }
   ],
   "source": [
    "list=[]\n",
    "s=[]\n",
    "xyz=[]\n",
    "for ind in df.index:\n",
    "    list=df['questions'][ind]\n",
    "    \n",
    "    if 'Do you have to get vaccinated against covid-19?' in list:\n",
    "        print(df['text'][ind])"
   ]
  },
  {
   "cell_type": "raw",
   "id": "5d0a29cd",
   "metadata": {},
   "source": [
    "7)Does covid cause illness in kids?"
   ]
  },
  {
   "cell_type": "code",
   "execution_count": 27,
   "id": "54216f45",
   "metadata": {},
   "outputs": [
    {
     "name": "stdout",
     "output_type": "stream",
     "text": [
      "RT @JeromeAdamsMD: Those who say Covid is harmless in kids should consider that for most of last year kids were: -Away from school/ sociall…\n"
     ]
    }
   ],
   "source": [
    "list=[]\n",
    "s=[]\n",
    "xyz=[]\n",
    "for ind in df.index:\n",
    "    list=df['questions'][ind]\n",
    "    \n",
    "    if 'Is covid harmless in kids?' in list:\n",
    "        print(df['text'][ind])"
   ]
  },
  {
   "cell_type": "code",
   "execution_count": 29,
   "id": "a8015f99",
   "metadata": {},
   "outputs": [
    {
     "name": "stdout",
     "output_type": "stream",
     "text": [
      "Lessons from #COVID19 and #HIV - Science and Solidarity are key elements for a successful response to a global threat. @MoHFW_INDIA @iasociety @IAVI @ICMRDELHI @jensspahn @Winnie_Byanyima @ProfAdeeba @UNAIDS @JNkengasong @jarottingen @ProfAbdoolKarim @khmayer1 @WHO @NIHDirector https://t.co/FdgqLDBe7K\n"
     ]
    }
   ],
   "source": [
    "list=[]\n",
    "s=[]\n",
    "xyz=[]\n",
    "for ind in df.index:\n",
    "    list=df['questions'][ind]\n",
    "    \n",
    "    if 'Is science and solidarity the key to a successful response?' in list:\n",
    "        print(df['text'][ind])"
   ]
  },
  {
   "cell_type": "code",
   "execution_count": 30,
   "id": "def3bd0c",
   "metadata": {},
   "outputs": [
    {
     "name": "stdout",
     "output_type": "stream",
     "text": [
      "Covishield is causing formation of blood clots. Watch out for severe headache, any other neurological symptom along with rise in D-dimer &amp; loss of platelets   It’s a RARE condition. Do not panic if you feel fine/have mild symptoms like fever. Continue the vaccine process as usual https://t.co/YBsdoknQs1\n"
     ]
    }
   ],
   "source": [
    "list=[]\n",
    "s=[]\n",
    "xyz=[]\n",
    "for ind in df.index:\n",
    "    list=df['questions'][ind]\n",
    "    \n",
    "    if 'Does covishield cause blood clots?' in list:\n",
    "        print(df['text'][ind])"
   ]
  },
  {
   "cell_type": "raw",
   "id": "5d4c460e",
   "metadata": {},
   "source": [
    "8)Is it normal to have a fever or headache?"
   ]
  },
  {
   "cell_type": "code",
   "execution_count": 31,
   "id": "fe0febdf",
   "metadata": {},
   "outputs": [
    {
     "name": "stdout",
     "output_type": "stream",
     "text": [
      "@Sinha_Sahab It’s normal. If any other severe symptoms arrive then consult a doctor\n"
     ]
    }
   ],
   "source": [
    "list=[]\n",
    "s=[]\n",
    "xyz=[]\n",
    "for ind in df.index:\n",
    "    list=df['questions'][ind]\n",
    "    \n",
    "    if 'Is it normal to have a headache?' in list:\n",
    "        print(df['text'][ind])"
   ]
  },
  {
   "cell_type": "code",
   "execution_count": 32,
   "id": "9bba7e7b",
   "metadata": {},
   "outputs": [
    {
     "name": "stdout",
     "output_type": "stream",
     "text": [
      "9) Cases of #DeltaVariant surging and kids &lt;12 vaccinations still far away—midwinter is now the new date. CDC must act faster and sooner. @kavitapmd is rightfully concerned. https://t.co/5siOKU6SgX\n"
     ]
    }
   ],
   "source": [
    "list=[]\n",
    "s=[]\n",
    "xyz=[]\n",
    "for ind in df.index:\n",
    "    list=df['questions'][ind]\n",
    "    \n",
    "    if 'Is there a vaccine for delta vietnam?' in list:\n",
    "        print(df['text'][ind])"
   ]
  },
  {
   "cell_type": "code",
   "execution_count": 33,
   "id": "131a63c9",
   "metadata": {},
   "outputs": [
    {
     "name": "stdout",
     "output_type": "stream",
     "text": [
      "And btw, two hours post Moderna vaccine, I feel PERFECTLY fine. Not a single side effect.\n"
     ]
    }
   ],
   "source": [
    "list=[]\n",
    "s=[]\n",
    "xyz=[]\n",
    "for ind in df.index:\n",
    "    list=df['questions'][ind]\n",
    "    \n",
    "    if 'Is the moderna vaccine true or false?' in list:\n",
    "        print(df['text'][ind])"
   ]
  },
  {
   "cell_type": "raw",
   "id": "d5148391",
   "metadata": {},
   "source": [
    "9)Is there any side effect of moderna vaccine?"
   ]
  },
  {
   "cell_type": "code",
   "execution_count": 34,
   "id": "0d77651b",
   "metadata": {},
   "outputs": [
    {
     "name": "stdout",
     "output_type": "stream",
     "text": [
      "And btw, two hours post Moderna vaccine, I feel PERFECTLY fine. Not a single side effect.\n"
     ]
    }
   ],
   "source": [
    "list=[]\n",
    "s=[]\n",
    "xyz=[]\n",
    "for ind in df.index:\n",
    "    list=df['questions'][ind]\n",
    "    \n",
    "    if 'Is there a side effect of moderna vaccine?' in list:\n",
    "        print(df['text'][ind])"
   ]
  },
  {
   "cell_type": "code",
   "execution_count": 36,
   "id": "f15a3775",
   "metadata": {},
   "outputs": [
    {
     "name": "stdout",
     "output_type": "stream",
     "text": [
      "Case rates are diverging along vaccine fault lines. Let's listen, bridge the divide, and regain common ground. https://t.co/lJrgsd8dgi\n"
     ]
    }
   ],
   "source": [
    "list=[]\n",
    "s=[]\n",
    "xyz=[]\n",
    "for ind in df.index:\n",
    "    list=df['questions'][ind]\n",
    "    \n",
    "    if 'Is there a difference in vaccine cases?' in list:\n",
    "        print(df['text'][ind])"
   ]
  },
  {
   "cell_type": "code",
   "execution_count": 37,
   "id": "542138e9",
   "metadata": {},
   "outputs": [
    {
     "name": "stdout",
     "output_type": "stream",
     "text": [
      "4) I hope Biden also considers a vaccine verification system as well. France 🇫🇷 and many European countries already do it for restaurants and bars… we should too. https://t.co/sr55hZhCDZ\n"
     ]
    }
   ],
   "source": [
    "list=[]\n",
    "s=[]\n",
    "xyz=[]\n",
    "for ind in df.index:\n",
    "    list=df['questions'][ind]\n",
    "    \n",
    "    if 'Is there a vaccine verification system in france?' in list:\n",
    "        print(df['text'][ind])"
   ]
  },
  {
   "cell_type": "raw",
   "id": "4030ab68",
   "metadata": {},
   "source": [
    "10)Are toci and remdesivir the same?"
   ]
  },
  {
   "cell_type": "code",
   "execution_count": 38,
   "id": "b1c5dcd6",
   "metadata": {},
   "outputs": [
    {
     "name": "stdout",
     "output_type": "stream",
     "text": [
      "13/n If oxygen saturation falls below that, go to hospital in  an ambulance that has a working oxygen tank. Prone position. Fluids. Oxygen. Dexamethasone. Remdesivir and Toci only under medical supervision (does not reduce deaths in severe Covid).\n"
     ]
    }
   ],
   "source": [
    "list=[]\n",
    "s=[]\n",
    "xyz=[]\n",
    "for ind in df.index:\n",
    "    list=df['questions'][ind]\n",
    "    \n",
    "    if 'Is remeddesivir and toci the same thing?' in list:\n",
    "        print(df['text'][ind])"
   ]
  },
  {
   "cell_type": "code",
   "execution_count": 39,
   "id": "65abd2ea",
   "metadata": {},
   "outputs": [
    {
     "name": "stdout",
     "output_type": "stream",
     "text": [
      "13/n If oxygen saturation falls below that, go to hospital in  an ambulance that has a working oxygen tank. Prone position. Fluids. Oxygen. Dexamethasone. Remdesivir and Toci only under medical supervision (does not reduce deaths in severe Covid).\n"
     ]
    }
   ],
   "source": [
    "list=[]\n",
    "s=[]\n",
    "xyz=[]\n",
    "for ind in df.index:\n",
    "    list=df['questions'][ind]\n",
    "    \n",
    "    if 'Is toci and remdesivir the same thing?' in list:\n",
    "        print(df['text'][ind])"
   ]
  },
  {
   "cell_type": "code",
   "execution_count": 40,
   "id": "07c9bb66",
   "metadata": {},
   "outputs": [
    {
     "name": "stdout",
     "output_type": "stream",
     "text": [
      "The pandemic continues to evolve, and in order to be best prepared, COVAX’s actively managed, diverse portfolio will be critical to meeting countries’ needs so this is an important step forward. https://t.co/yKXmCf2E46\n"
     ]
    }
   ],
   "source": [
    "list=[]\n",
    "s=[]\n",
    "xyz=[]\n",
    "for ind in df.index:\n",
    "    list=df['questions'][ind]\n",
    "    \n",
    "    if 'Is there a pandemic in the middle east?' in list:\n",
    "        print(df['text'][ind])"
   ]
  },
  {
   "cell_type": "raw",
   "id": "1c053272",
   "metadata": {},
   "source": [
    "11)Are oxford vaccine and astra zeneca same?"
   ]
  },
  {
   "cell_type": "code",
   "execution_count": 41,
   "id": "f295907c",
   "metadata": {},
   "outputs": [
    {
     "name": "stdout",
     "output_type": "stream",
     "text": [
      "We know that there is not asymptomatic spread with the Astra Zeneca/Oxford vaccine, but this wasn't studied with the Pfizer or Moderna vaccines. With all vaccines a small percentage will get will viral illness and can spread. https://t.co/V27yIryOU6\n"
     ]
    }
   ],
   "source": [
    "list=[]\n",
    "s=[]\n",
    "xyz=[]\n",
    "for ind in df.index:\n",
    "    list=df['questions'][ind]\n",
    "    \n",
    "    if 'Is the oxford vaccine the same as astra zeneca?' in list:\n",
    "        print(df['text'][ind])"
   ]
  },
  {
   "cell_type": "code",
   "execution_count": 42,
   "id": "5e755c47",
   "metadata": {},
   "outputs": [
    {
     "name": "stdout",
     "output_type": "stream",
     "text": [
      "Very pleased to welcome Tanzania to the #COVAX Facility! COVAX reaches people in all corners of the world with #COVID19 vaccines, regardless of wealth. #OneWorldProtected https://t.co/DFuwDvHduA\n"
     ]
    }
   ],
   "source": [
    "list=[]\n",
    "s=[]\n",
    "xyz=[]\n",
    "for ind in df.index:\n",
    "    list=df['questions'][ind]\n",
    "    \n",
    "    if 'Is there a vaccine for covax in tanzania?' in list:\n",
    "        print(df['text'][ind])"
   ]
  },
  {
   "cell_type": "code",
   "execution_count": 43,
   "id": "3c8aad7e",
   "metadata": {},
   "outputs": [
    {
     "name": "stdout",
     "output_type": "stream",
     "text": [
      "@SAB0920 @AgWxMan1 @NEJM The Moderna and Pfizer vaccines are so similar that the data is probably comparable\n"
     ]
    }
   ],
   "source": [
    "list=[]\n",
    "s=[]\n",
    "xyz=[]\n",
    "for ind in df.index:\n",
    "    list=df['questions'][ind]\n",
    "    \n",
    "    if 'Are moderna and pfizer the same vaccine?' in list:\n",
    "        print(df['text'][ind])"
   ]
  },
  {
   "cell_type": "raw",
   "id": "4cd1929f",
   "metadata": {},
   "source": [
    "12)Are cdc guidlines on masking changed?"
   ]
  },
  {
   "cell_type": "code",
   "execution_count": 44,
   "id": "263a35bd",
   "metadata": {},
   "outputs": [
    {
     "name": "stdout",
     "output_type": "stream",
     "text": [
      "📍BREAKING &amp; BROKEN—CDC guidance on masking unchanged, even as #DeltaVariant surges, @CDCDirector Rochelle Walensky said Thursday. @RWalensky declined to say if the CDC is considering changing the guidance. ➡️History will also judge critical inactions. 🧵 https://t.co/Rx2dXtrO3x\n"
     ]
    }
   ],
   "source": [
    "list=[]\n",
    "s=[]\n",
    "xyz=[]\n",
    "for ind in df.index:\n",
    "    list=df['questions'][ind]\n",
    "    \n",
    "    if 'Is the cdc guidance on masking unchanged?' in list:\n",
    "        print(df['text'][ind])"
   ]
  },
  {
   "cell_type": "code",
   "execution_count": 45,
   "id": "459367f0",
   "metadata": {},
   "outputs": [
    {
     "name": "stdout",
     "output_type": "stream",
     "text": [
      "📍BREAKING &amp; BROKEN—CDC guidance on masking unchanged, even as #DeltaVariant surges, @CDCDirector Rochelle Walensky said Thursday. @RWalensky declined to say if the CDC is considering changing the guidance. ➡️History will also judge critical inactions. 🧵 https://t.co/Rx2dXtrO3x\n"
     ]
    }
   ],
   "source": [
    "list=[]\n",
    "s=[]\n",
    "xyz=[]\n",
    "for ind in df.index:\n",
    "    list=df['questions'][ind]\n",
    "    \n",
    "    if 'Does the cdc have guidance on masking unchanged?' in list:\n",
    "        print(df['text'][ind])"
   ]
  },
  {
   "cell_type": "code",
   "execution_count": 46,
   "id": "6e31ff42",
   "metadata": {},
   "outputs": [
    {
     "name": "stdout",
     "output_type": "stream",
     "text": [
      "#smoking can lead to heart attack, cardiovascular diseases, cancer, sleep apnea etc. Quit today! #worldnotobaccoday   Note: To honour Dr KK's service to the community, HCFI Dr KK Research Fund &amp; MedTalks will continue to bring you healthcare updates &amp; create public awareness. https://t.co/lZVoBSidFn\n"
     ]
    }
   ],
   "source": [
    "list=[]\n",
    "s=[]\n",
    "xyz=[]\n",
    "for ind in df.index:\n",
    "    list=df['questions'][ind]\n",
    "    \n",
    "    if 'Can smoking lead to cancer?' in list:\n",
    "        print(df['text'][ind])"
   ]
  },
  {
   "cell_type": "raw",
   "id": "90dab6a2",
   "metadata": {},
   "source": [
    "13)Are delta and gamma variant different?"
   ]
  },
  {
   "cell_type": "code",
   "execution_count": 47,
   "id": "615fd18c",
   "metadata": {},
   "outputs": [
    {
     "name": "stdout",
     "output_type": "stream",
     "text": [
      "RT @thehill: Illinois reporting six times more gamma variant cases than delta: report https://t.co/i35JxVNh33 https://t.co/zOpSycBANt\n"
     ]
    }
   ],
   "source": [
    "list=[]\n",
    "s=[]\n",
    "xyz=[]\n",
    "for ind in df.index:\n",
    "    list=df['questions'][ind]\n",
    "    \n",
    "    if 'Is there a difference between delta and gamma variant?' in list:\n",
    "        print(df['text'][ind])"
   ]
  },
  {
   "cell_type": "code",
   "execution_count": 48,
   "id": "3cf28415",
   "metadata": {},
   "outputs": [
    {
     "name": "stdout",
     "output_type": "stream",
     "text": [
      "RT @thehill: Illinois reporting six times more gamma variant cases than delta: report https://t.co/i35JxVNh33 https://t.co/zOpSycBANt\n"
     ]
    }
   ],
   "source": [
    "list=[]\n",
    "s=[]\n",
    "xyz=[]\n",
    "for ind in df.index:\n",
    "    list=df['questions'][ind]\n",
    "    \n",
    "    if 'Is there a difference between delta and gamma variants?' in list:\n",
    "        print(df['text'][ind])"
   ]
  },
  {
   "cell_type": "code",
   "execution_count": 49,
   "id": "861c639f",
   "metadata": {},
   "outputs": [
    {
     "name": "stdout",
     "output_type": "stream",
     "text": [
      "59/ The median antibody titers 71 days after vaccination were 5x &amp; 3.3x lower for the Beta &amp; Gamma variants than versus early strains.    But though we see a drop, neutralizing antibody titers remain well above the limits of detection. https://t.co/tDPqAAUyDV\n"
     ]
    }
   ],
   "source": [
    "list=[]\n",
    "s=[]\n",
    "xyz=[]\n",
    "for ind in df.index:\n",
    "    list=df['questions'][ind]\n",
    "    \n",
    "    if 'Do beta and gamma variants have the same titer?' in list:\n",
    "        print(df['text'][ind])"
   ]
  },
  {
   "cell_type": "raw",
   "id": "84ef23cf",
   "metadata": {},
   "source": [
    "14)Can you take the covid19 vaccine if you have high blood pressure?"
   ]
  },
  {
   "cell_type": "code",
   "execution_count": 50,
   "id": "3d0306d7",
   "metadata": {},
   "outputs": [
    {
     "name": "stdout",
     "output_type": "stream",
     "text": [
      "Can people with blood pressure problems take the #COVID19 #vaccine? Yes!   Watch to find out the precautions to be taken!  —— Brought to you by HCFI Dr KK Research Fund https://t.co/4Ygk3SRJFI\n"
     ]
    }
   ],
   "source": [
    "list=[]\n",
    "s=[]\n",
    "xyz=[]\n",
    "for ind in df.index:\n",
    "    list=df['questions'][ind]\n",
    "    \n",
    "    if 'Can you take the covid19 vaccine for high blood pressure?' in list:\n",
    "        print(df['text'][ind])"
   ]
  },
  {
   "cell_type": "code",
   "execution_count": 51,
   "id": "71e40f19",
   "metadata": {},
   "outputs": [
    {
     "name": "stdout",
     "output_type": "stream",
     "text": [
      "RT @lapublichealth: LA County’s COVID-19 cases have increased by 20x compared to last month when we had just 124 cases on June 21. Let’s he…\n"
     ]
    }
   ],
   "source": [
    "list=[]\n",
    "s=[]\n",
    "xyz=[]\n",
    "for ind in df.index:\n",
    "    list=df['questions'][ind]\n",
    "    \n",
    "    if 'Is there a covid 19 in la county?' in list:\n",
    "        print(df['text'][ind])"
   ]
  },
  {
   "cell_type": "code",
   "execution_count": 52,
   "id": "dba5e438",
   "metadata": {},
   "outputs": [
    {
     "name": "stdout",
     "output_type": "stream",
     "text": [
      "#COVID19 variants are a wake up call to vaccinate the world. Leaving countries behind only gives the virus more chance to mutate and increases the threat to all of us. Let #COVAX deliver to halt the rise of variants: https://t.co/sKHvXRvRP4 Via @NikkeiAsia\n"
     ]
    }
   ],
   "source": [
    "list=[]\n",
    "s=[]\n",
    "xyz=[]\n",
    "for ind in df.index:\n",
    "    list=df['questions'][ind]\n",
    "    \n",
    "    if 'Do you have to be vaccinated against covid19?' in list:\n",
    "        print(df['text'][ind])"
   ]
  }
 ],
 "metadata": {
  "kernelspec": {
   "display_name": "Python 3",
   "language": "python",
   "name": "python3"
  },
  "language_info": {
   "codemirror_mode": {
    "name": "ipython",
    "version": 3
   },
   "file_extension": ".py",
   "mimetype": "text/x-python",
   "name": "python",
   "nbconvert_exporter": "python",
   "pygments_lexer": "ipython3",
   "version": "3.8.8"
  }
 },
 "nbformat": 4,
 "nbformat_minor": 5
}
